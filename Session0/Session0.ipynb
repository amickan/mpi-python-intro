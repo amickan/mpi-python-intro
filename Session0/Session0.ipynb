{
 "cells": [
  {
   "cell_type": "markdown",
   "metadata": {},
   "source": [
    "# Session 0: Installing and using Python 3, Git and Jupyter notebooks\n",
    "\n",
    "To pull this Jupyter notebook up on your own laptop, open a browser and go to https://github.com/mpi-python/mpi-python-intro\n",
    "\n",
    "In this first, introductory session, we'll get you all set up for the course. We'll help you install Python 3 on your computer, and we'll introduce you to two of the most powerful coding tools that we'll be using throughout the entire course: Jupyter notebooks and Git. Let's jump right in!"
   ]
  },
  {
   "cell_type": "markdown",
   "metadata": {},
   "source": [
    "## 0. A general point about asking questions\n",
    "\n",
    "This course only works if you ask questions when there's something you don't understand. To solve Python problems yourself, try using https://stackoverflow.com and, if that fails, the official documentation https://docs.python.org/3.6/ If the online documentation is unhelpful or hard to understand, feel free to ask us. You can come by our offices (374 and 375) to see if we have time, or send us an email.  \n",
    "\n",
    "__If we try to answer your question and you still don't understand, let us know!__ Our explanation was probably not as clear as we thought it would be and we're perfectly happy to try giving a different/better explanation."
   ]
  },
  {
   "cell_type": "markdown",
   "metadata": {},
   "source": [
    "## 1. Installing Anaconda\n",
    "\n",
    "Anaconda is the most widely used Python distribution. It comes with Python 3 and a whole lot of pre-loaded libraries and tools. It also handles all of the nasty dependencies between different packages and libraries for you, which makes it really useful especially as you get deeper into programming. \n",
    "\n",
    "Here's how to install Anaconda: \n",
    "\n",
    "1. Download the latest version for Python 3 from here: https://www.anaconda.com/download/\n",
    "\n",
    "2. Once the download is finished, click on the executable and follow the installation steps. \n",
    "\n",
    "Congratulations, you've successfully installed Anaconda! :)\n",
    "\n",
    "**Tip:** You can check whether your installation was, indeed, successful by opening a command line window\\* and typing *which anaconda* (on MacOS and Linux) or *where anaconda* (on Windows) in the command prompt. This should show you the path to where your Anaconda distribution was installed. \n",
    "\n",
    "\\* You can access the command line on MacOS and Linux by simply typing *terminal* into the search field of your computer, and on Windows by searching for *cmd*. "
   ]
  },
  {
   "cell_type": "markdown",
   "metadata": {},
   "source": [
    "## 2. Jupyter notebooks\n",
    "\n",
    "Now that you've got Anaconda installed, we're ready to get started! We'll be using Jupyter notebooks throughout this entire course, because they offer a very easy and elegant way of interactively writing and sharing code, figures, equations, text and more in one single place. \n",
    "\n",
    "### 2.1 What's a Jupyter notebook?\n",
    "\n",
    "You can think of a Jupyter notebook as a notebook that both you and your computer can actually read. \n",
    "In a \"normal\" notebook, you would take (either hand-written or digital) notes, highlight and comment things, write paragraphs and equations, insert figures - but if you wrote a chunk of python code in your \"normal\" notebook, your computer wouldn't know how to execute any of it. You'd first have to turn the chunk of code into a format that your computer understands, maybe using a text editor such as Notepad++, or an IDE such as Pycharm. \n",
    "\n",
    "Conversely, in a \"normal\" python (.py) file, you can write executable computer code and comments, but as soon as you tried to insert a paragraph, bold font, a link, or maybe even a figure, the program would throw an error because it wouldn't know how to understand anything that isn't written in \"its\" programming language.\n",
    "\n",
    "A Jupyter notebook bridges this gap by allowing you to include both human-readable rich text (such as paragraphs, markup, links, equations, pictures, plots,...) and executable computer code. "
   ]
  },
  {
   "cell_type": "markdown",
   "metadata": {},
   "source": [
    "### 2.2 How does a Jupyter notebook run?\n",
    "\n",
    "Jupyter notebooks run via the **Jupyter Notebook App**, which allows you to edit and execute notebooks via your web browser. More specifically, the code in your notebook is executed via a **kernel**, which is basically a computational engine that does all of the actual computational work. Kernels exist for many languages (e.g., Python, R, Julia, NodeJS, C++, and many more). When you open an existing notebook, a kernel in the correct language for your notebook is automatically launched.\n",
    "\n",
    "**Tip:** Note that kernels and notebooks are two separate things: If you close your web browser with the notebook in it, your kernel will still continue running (and possibly consume a lot of memory). So whenever you want to exit a notebook, make sure to also properly shut down your kernel (see 2.x). "
   ]
  },
  {
   "cell_type": "markdown",
   "metadata": {},
   "source": [
    "### 2.3 How do I open a new Jupyter notebook?\n",
    "\n",
    "There are two ways to open a new Jupyter notebook:\n",
    "\n",
    "1. **Through the Anaconda interface:**\n",
    "    Click on the Anaconda icon that was created when you installed Anaconda. Under the Jupyter application tab, click on *Launch*.\n",
    "\n",
    "2. **Through the command line:**\n",
    "    Open a command line window and type *jupyter notebook*. \n",
    "    \n",
    "This will automatically open a new tab in your browser, which should look something like this (I hope your desktop is tidier than mine...):"
   ]
  },
  {
   "cell_type": "markdown",
   "metadata": {},
   "source": [
    "![title](jupyterHomescreen.png)"
   ]
  },
  {
   "cell_type": "markdown",
   "metadata": {},
   "source": [
    "What you see here is the **Jupyter Dashboard**, a sort of control panel that shows you where on your computer you currently are and lets you select an existing notebook to open. \n",
    "\n",
    "In the top right corner, click *New*, select which language you'll be using (Python, in our case) and voilà - you've created your first Jupyter notebook. "
   ]
  },
  {
   "cell_type": "markdown",
   "metadata": {},
   "source": [
    "### 2.4 Cells and Modes\n",
    "\n",
    "You'll notice that the menubar in your new notebook doesn't look much different from the one in your favorite text editor. One really important new concept in Jupyter notebooks is that of a **Cell**. The little box you see beneath the menubars at the top - that's your first cell. A cell is basically like a container for either text or code to be displayed in your notebook. There are two main types of cells that we'll use: **Code Cells** and **Markdown Cells**. \n",
    "\n",
    "**Code cells** contain code to be executed by the kernel. When executed, their output is displayed directly below them. \n",
    "\n",
    "![title](CodeCell.png)\n",
    "\n",
    "**Markdown cells** contain text to be displayed in the notebook. When executed, their output is formatted in place.\n",
    "\n",
    "![title](MarkdownCell.png)\n",
    "\n",
    "There are two modes in which you can do things in Jupyter notebooks: **Edit Mode** and **Command Mode**. \n",
    "\n",
    "In **Edit Mode**, you can type into a cell in the notebook like you would in a normal text editor. It is indicated by a green border around the cell and by a little pen icon in the upper right corner of your menubar. \n",
    "\n",
    "![title](EditMode.png)\n",
    "\n",
    "In **Command Mode**, you can make changes to the notebook as a whole, but you can't type into individual cells. It is indicated by a blue border around the cell. \n",
    "\n",
    "![title](CommandMode.png)\n",
    "\n",
    "You can **switch between the two modes** by simply clicking inside the edit window (to get into edit mode) or outside the edit window (to get into command mode). Alternatively, press Enter to get into Edit mode, and Esc to get back into Command mode.\n",
    "\n",
    "When in Command mode, you can also **switch between code and markdown cells** by pressing **M** (for markdown) or **Y** (for code? who knows...) on your keyboard.\n",
    "\n",
    "You can **run a cell** by pressing Ctrl+Enter, Shift+Enter (to automatically jump to the next cell),  or Cmd+Enter (to automatically create a new cell beneath the one you just executed). For Code cells, this will execute the code in the cell and print it beneath it, and for markdown cells, it will format the next the way that you specified."
   ]
  },
  {
   "cell_type": "code",
   "execution_count": null,
   "metadata": {
    "collapsed": true
   },
   "outputs": [],
   "source": [
    "print(\"Hello world!\")"
   ]
  },
  {
   "cell_type": "markdown",
   "metadata": {},
   "source": [
    "**Bold text** \n",
    "\n",
    "__also bold text__ \n",
    "\n",
    "*italics* \n",
    "\n",
    "_also italics_ \n",
    "\n",
    "***BOLD AND ITALIC***\n",
    "\n",
    "# Title\n",
    "\n",
    "## Heading\n",
    "\n",
    "### Subheading"
   ]
  },
  {
   "cell_type": "markdown",
   "metadata": {},
   "source": [
    "### 2.5 How do I shut down a Jupyter notebook?\n",
    "\n",
    "As we mentioned earlier, closing the browser tab or window in which your notebook is open will **not** shut down the kernel on which the notebook is running. That means that, if you have performed some memory-intensive computational tasks (for example, reading in an entire MEG data set), all of that memory space will **not** become available again until you properly shut down the kernel. There are at least three ways of doing this:\n",
    "\n",
    "1. In your notebook menu bar, click on *File -> Close and Halt*.\n",
    "2. In the Jupyer Dashboard, check the notebook(s) you'd like to shut down (all notebooks which are currently running will have a green icon next to them) and click *Shutdown*.\n",
    "3. In the terminal window in which your notebook is running, press *Ctrl C* and then type *y*."
   ]
  },
  {
   "cell_type": "markdown",
   "metadata": {
    "collapsed": true
   },
   "source": [
    "### 2.6 Markdown cheat sheet\n",
    "\n",
    "*italic text* = \\*italic text\\* or \\_italic text\\_\n",
    "\n",
    "**bold text** = \\*\\*bold text\\*\\* or \\_\\_italic text\\_\\_\n",
    "\n",
    "***bold italic text*** = \\*\\*\\*bold italic text\\*\\*\\* or \\_\\_\\_bold italic text\\_\\_\\_\n",
    "\n",
    "line break = `<br>`\n",
    "\n",
    "You can also structure you document with title and subheadings:\n",
    "\n",
    "\\#   Title\n",
    "\\#   Subheading\n",
    "\\##  Subsubheading \n",
    "\\### and so on\n",
    "\n",
    "...or create a list of things by typing \\* followed by two spaces.\n",
    "\n",
    "Markdown will always interpret these symbols as markdown symbols - if you actually want an asterisk or an underscore in your text, you can escape the symbol by adding a backslash (`\\)` before it."
   ]
  },
  {
   "cell_type": "markdown",
   "metadata": {},
   "source": [
    "### 2.7 Keyboard Shortcuts\n",
    "\n",
    "Here's an overview of our favorite command mode shortcuts:\n",
    "\n",
    "*  Enter edit mode: enter\n",
    "*  Enter Command mode: esc\n",
    "*  Execute a cell: ctrl-enter\n",
    "*  Execute a cell and go to next: shift-enter\n",
    "*  Execute a cell and create a new cell below: cmd-enter\n",
    "*  Save the notebook: s\n",
    "*  Change Cell types: y, m, r\n",
    "*  Insert new cell below: b\n",
    "*  Insert new cell above: a\n",
    "*  Cut a cell: x\n",
    "*  Copy a cell: c\n",
    "*  Paste a cell: p\n",
    "*  Delete a cell: d-d (twice)\n",
    "*  Interrupt kernel: i-i"
   ]
  },
  {
   "cell_type": "code",
   "execution_count": null,
   "metadata": {
    "collapsed": true
   },
   "outputs": [],
   "source": []
  }
 ],
 "metadata": {
  "anaconda-cloud": {},
  "kernelspec": {
   "display_name": "Python 3",
   "language": "python",
   "name": "python3"
  },
  "language_info": {
   "codemirror_mode": {
    "name": "ipython",
    "version": 3
   },
   "file_extension": ".py",
   "mimetype": "text/x-python",
   "name": "python",
   "nbconvert_exporter": "python",
   "pygments_lexer": "ipython3",
   "version": "3.6.5"
  }
 },
 "nbformat": 4,
 "nbformat_minor": 1
}
