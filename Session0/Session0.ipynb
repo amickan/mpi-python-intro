{
 "cells": [
  {
   "cell_type": "markdown",
   "metadata": {},
   "source": [
    "# Session 0: Installing and using Python 3, Git and Jupyter notebooks\n",
    "\n",
    "In this first, introductory session, we'll get you all set up for the course. We'll help you install Python 3 on your computer, and we'll introduce you to two of the most powerful coding tools that we'll be using throughout the entire course: Jupyter notebooks and Git. Let's jump right in!"
   ]
  },
  {
   "cell_type": "markdown",
   "metadata": {},
   "source": [
    "## 1. Installing Anaconda\n",
    "\n",
    "Anaconda is the most widely used Python distribution. It comes with Python 3 and a whole lot of pre-loaded libraries and tools. It also handles all of the nasty dependencies between different packages and libraries for you, which makes it really useful especially as you get deeper into programming. \n",
    "\n",
    "Here's how to install Anaconda: \n",
    "\n",
    "1. Download the latest version for Python 3 from here: https://www.anaconda.com/download/\n",
    "\n",
    "2. Once the download is finished, click on the executable and follow the installation steps. \n",
    "\n",
    "Congratulations, you've successfully installed Anaconda! :)\n",
    "\n",
    "**Tip:** You can check whether your installation was, indeed, successful by opening a command line window\\* and typing *which anaconda* (on MacOS and Linux) or *where anaconda* (on Windows) in the command prompt. This should show you the path to where your Anaconda distribution was installed. \n",
    "\n",
    "\\* You can access the command line on MacOS and Linux by simply typing *terminal* into the search field of your computer, and on Windows by searching for *cmd*. "
   ]
  },
  {
   "cell_type": "markdown",
   "metadata": {},
   "source": [
    "## 2. Jupyter notebooks\n",
    "\n",
    "Now that you've got Anaconda installed, we're ready to get started! We'll be using Jupyter notebooks throughout this entire course, because they offer a very easy and elegant way of interactively writing and sharing code, figures, equations, text and more in one single place. \n",
    "\n",
    "### 2.1 What's a Jupyter notebook?\n",
    "\n",
    "You can think of a Jupyter notebook as a notebook that both you and your computer can actually read. \n",
    "In a \"normal\" notebook, you would take (either hand-written or digital) notes, highlight and comment things, write paragraphs and equations, insert figures - but if you wrote a chunk of python code in your \"normal\" notebook, your computer wouldn't know how to execute any of it. You'd first have to turn the chunk of code into a format that your computer understands, maybe using a text editor such as Notepad++, or an IDE such as Pycharm. \n",
    "\n",
    "Conversely, in a \"normal\" python (.py) file, you can write executable computer code and comments, but as soon as you tried to insert a paragraph, bold font, a link, or maybe even a figure, the program would throw an error because it wouldn't know how to understand anything that isn't written in \"its\" programming language.\n",
    "\n",
    "A Jupyter notebook bridges this gap by allowing you to include both human-readable rich text (such as paragraphs, markup, links, equations, pictures, plots,...) and executable computer code. "
   ]
  },
  {
   "cell_type": "markdown",
   "metadata": {},
   "source": [
    "### 2.2 How does a Jupyter notebook run?\n",
    "\n",
    "Jupyter notebooks run via the **Jupyter Notebook App**, which allows you to edit and execute notebooks via your web browser. More specifically, the code in your notebook is executed via a **kernel**, which is basically a computational engine that does all of the actual computational work. Kernels exist for many languages (e.g., Python, R, Julia, NodeJS, C++, and many more). When you open an existing notebook, a kernel in the correct language for your notebook is automatically launched.\n",
    "\n",
    "**Tip:** Note that kernels and notebooks are two separate things: If you close your web browser with the notebook in it, your kernel will still continue running (and possibly consume a lot of memory). So whenever you want to exit a notebook, make sure to also properly shut down your kernel (see 2.x). "
   ]
  },
  {
   "cell_type": "markdown",
   "metadata": {},
   "source": [
    "### 2.3 How do I open a new Jupyter notebook?\n",
    "\n",
    "There are two ways to open a new Jupyter notebook:\n",
    "\n",
    "1. **Through the Anaconda interface:**\n",
    "    Click on the Anaconda icon that was created when you installed Anaconda. Under the Jupyter application tab, click on *Launch*.\n",
    "\n",
    "2. **Through the command line:**\n",
    "    Open a command line window and type *jupyter notebook*. \n",
    "    \n",
    "This will automatically open a new tab in your browser, which should look something like this (I hope your desktop is tidier than mine...):"
   ]
  },
  {
   "cell_type": "markdown",
   "metadata": {},
   "source": [
    "![title](jupyterHomescreen.png)"
   ]
  },
  {
   "cell_type": "markdown",
   "metadata": {},
   "source": [
    "What you see here is the **Jupyter Dashboard**, a sort of control panel that shows you where on your computer you currently are and lets you select an existing notebook to open. \n",
    "\n",
    "In the top right corner, click *New*, select which language you'll be using (Python, in our case) and voilà - you've created your first Jupyter notebook. "
   ]
  },
  {
   "cell_type": "markdown",
   "metadata": {},
   "source": [
    "### 2.4 Cells and Modes\n",
    "\n",
    "You'll notice that the menubar in your new notebook doesn't look much different from the one in your favorite text editor. One really important new concept in Jupyter notebooks is that of a **Cell**. The little box you see beneath the menubars at the top - that's your first cell. A cell is basically like a container for either text or code to be displayed in your notebook. There are two main types of cells that we'll use: **Code Cells** and **Markdown Cells**. \n",
    "\n",
    "**Code cells** contain code to be executed by the kernel. When executed, their output is displayed directly below them. \n",
    "\n",
    "**Markdown cells** contain text to be displayed in the notebook. When executed, their output is formatted in place.\n",
    "\n",
    "There are two modes in which you can do things in Jupyter notebooks: **Edit Mode** and **Command Mode**. \n",
    "\n",
    "In **Edit Mode**, you can type into a cell in the notebook like you would in a normal text editor. It is indicated by a green border around the cell and by a little pen icon in the upper right corner of your menubar. \n",
    "\n",
    "In **Command Mode**, you can make changes to the notebook as a whole, but you can't type into individual cells. It is indicated by a blue border around the cell. "
   ]
  },
  {
   "cell_type": "markdown",
   "metadata": {},
   "source": [
    "### 2.x How do I shut down a Jupyter notebook?\n",
    "\n",
    "As we mentioned earlier, closing the browser tab or window in which your notebook is open will **not** shut down the kernel on which the notebook is running. That means that, if you have performed some memory-intensive computational tasks (for example, reading in an entire MEG data set), all of that memory space will **not** become available again until you properly shut down the kernel. There are at least three ways of doing this:\n",
    "\n",
    "1. In your notebook menu bar, click on *File -> Close and Halt*.\n",
    "2. In the Jupyer Dashboard, check the notebook(s) you'd like to shut down (all notebooks which are currently running will have a green icon next to them) and click *Shutdown*.\n",
    "3. In the terminal window in which your notebook is running, press *Ctrl C* and then type *y*."
   ]
  },
  {
   "cell_type": "code",
   "execution_count": null,
   "metadata": {
    "collapsed": true
   },
   "outputs": [],
   "source": []
  }
 ],
 "metadata": {
  "anaconda-cloud": {},
  "kernelspec": {
   "display_name": "Python [conda env:py36]",
   "language": "python",
   "name": "conda-env-py36-py"
  },
  "language_info": {
   "codemirror_mode": {
    "name": "ipython",
    "version": 3
   },
   "file_extension": ".py",
   "mimetype": "text/x-python",
   "name": "python",
   "nbconvert_exporter": "python",
   "pygments_lexer": "ipython3",
   "version": "3.6.2"
  }
 },
 "nbformat": 4,
 "nbformat_minor": 1
}
