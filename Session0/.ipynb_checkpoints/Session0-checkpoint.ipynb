{
 "cells": [
  {
   "cell_type": "markdown",
   "metadata": {},
   "source": [
    "# Session 0: Installing and using Python 3, Git and Jupyter notebooks\n",
    "\n",
    "In this first, introductory session, we'll get you all set up for the course. We'll help you install Python 3 on your computer, and we'll introduce you to two of the most powerful coding tools that we'll be using throughout the entire course: Jupyter notebooks and Git. Let's jump right in!"
   ]
  },
  {
   "cell_type": "markdown",
   "metadata": {},
   "source": [
    "## 1. Installing Anaconda\n",
    "\n",
    "Anaconda is the most widely used Python distribution. It comes with Python 3 and a whole lot of pre-loaded libraries and tools. It also handles all of the nasty dependencies between different packages and libraries for you, which makes it really useful especially as you get deeper into programming. \n",
    "\n",
    "Here's how to install Anaconda: \n",
    "\n",
    "1. Download the latest version for Python 3 from here: https://www.anaconda.com/download/\n",
    "\n",
    "2. Once the download is finished, click on the executable and follow the installation steps. \n",
    "\n",
    "Congratulations, you've successfully installed Anaconda! :)\n",
    "\n",
    "**Tip:** You can check whether your installation was, indeed, successful by opening a command line window\\* and typing *which anaconda* (on MacOS and Linux) or *where anaconda* (on Windows) in the command prompt. This should show you the path to where your Anaconda distribution was installed. \n",
    "\n",
    "\\* You can access the command line on MacOS and Linux by simply typing *terminal* into the search field of your computer, and on Windows by searching for *cmd*. "
   ]
  },
  {
   "cell_type": "markdown",
   "metadata": {},
   "source": [
    "## 2. Jupyter notebooks\n",
    "\n",
    "Now that you've got Anaconda installed, we're ready to get started! We'll be using Jupyter notebooks throughout this entire course, because they offer a very easy and elegant way of interactively writing and sharing code, figures, equations, text and more in one single place. \n",
    "\n",
    "### 2.1 What's a Jupyter notebook?\n",
    "\n",
    "You can think of a Jupyter notebook as a notebook that both you and your computer can actually read. \n",
    "In a \"normal\" notebook, you would take (either hand-written or digital) notes, highlight and comment things, write paragraphs and equations, insert figures - but if you wrote a chunk of computer code in your \"normal\" notebook, your computer wouldn't know how to execute any of it. You'd first have to turn the chunk of code into an executable, maybe using a text editor such as vim or Notepad++. \n",
    "\n",
    "Conversely, in a text document for a \"normal\" computer program, you can write computer code and comments, but as soon as you tried to insert a paragraph, a link or even a figure, the program would throw an error because it wouldn't know how to understand anything that isn't written in \"its\" programming language.\n",
    "\n",
    "A Jupyter notebook bridges this gap by allowing you to include both human-readable rich text (such as paragraphs, markup, links, equations, pictures, plots,...) and executable computer code. "
   ]
  },
  {
   "cell_type": "markdown",
   "metadata": {},
   "source": [
    "### 2.2 How does a Jupyter notebook run?\n",
    "\n",
    "Jupyter notebooks run via the **Jupyter Notebook App**, which allows you to edit and execute notebooks via your web browser. More specifically, the code in your notebook is executed via a **kernel**, which is basically a computational engine that does all of the actual computational work. Kernels exist for many languages (e.g., Python, R, Julia, NodeJS, and many more). When you open a notebook, a kernel in the correct language for your notebook is automatically started.\n",
    "\n",
    "**Tip:** Note that kernels and notebooks are not the same thing: If you close your web browser, your kernel will still continue running (and possibly consuming a lot of memory). So whenever you want to exit a notebook, make sure to also properly shut down your kernel (see 2.4). "
   ]
  },
  {
   "cell_type": "markdown",
   "metadata": {},
   "source": [
    "### 2.3 How do I open a Jupyter notebook?\n",
    "\n",
    "There are two ways to open a new Jupyter notebook:\n",
    "\n",
    "1. **Through the Anaconda interface:**\n",
    "    Simply click on the Anaconda icon that was created when you installed Anaconda. Under the Jupyter application tab, click on *Launch*.\n",
    "\n",
    "2. **Through the command line:**\n",
    "    Open a command line window and type *jupyter notebook*. \n",
    "    \n",
    "This will automatically open a new tab in your browser, which should look something like this (I hope your desktop is tidier than mine...):"
   ]
  },
  {
   "cell_type": "markdown",
   "metadata": {},
   "source": [
    "![title](jupyterHomescreen.png)"
   ]
  },
  {
   "cell_type": "markdown",
   "metadata": {},
   "source": [
    "What you see here is the **Jupyter Dashboard**, a sort of control panel that shows you where on your computer you currently are and lets you select an existing notebook to open. \n",
    "\n",
    "In the top right corner, click *New*, select which language you'll be using (Python, in our case) and voilà - you've created your first Jupyter notebook. "
   ]
  },
  {
   "cell_type": "markdown",
   "metadata": {},
   "source": [
    "### 2.4 How do I shut down a Jupyter notebook?\n",
    "\n",
    "As we mentioned above, closing the browser tab or window in which your notebook is open will **not** shut down the kernel on which the notebook is running. That means that, if you have performed some memory-intensive computational tasks (for example, reading in an entire MEG data set), all of that memory will **not** become available again until you properly shut down the kernel. There are two ways of doing this:\n",
    "\n",
    "1. In the tab of your notebook that you'd like to close, click on *File -> Close and Halt*.\n",
    "2. In the terminal window in which your notebook is running, press *Ctrl* and *C* at the same time, then type *y*."
   ]
  },
  {
   "cell_type": "code",
   "execution_count": null,
   "metadata": {
    "collapsed": true
   },
   "outputs": [],
   "source": []
  }
 ],
 "metadata": {
  "anaconda-cloud": {},
  "kernelspec": {
   "display_name": "Python [conda env:py36]",
   "language": "python",
   "name": "conda-env-py36-py"
  },
  "language_info": {
   "codemirror_mode": {
    "name": "ipython",
    "version": 3
   },
   "file_extension": ".py",
   "mimetype": "text/x-python",
   "name": "python",
   "nbconvert_exporter": "python",
   "pygments_lexer": "ipython3",
   "version": "3.6.2"
  }
 },
 "nbformat": 4,
 "nbformat_minor": 1
}
