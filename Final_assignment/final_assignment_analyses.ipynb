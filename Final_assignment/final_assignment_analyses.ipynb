{
 "cells": [
  {
   "cell_type": "markdown",
   "metadata": {},
   "source": [
    "\n",
    "Here we'll import, analyze and plot the data from our Intentional Skeletons experiment.\n",
    "\n",
    "First, import."
   ]
  },
  {
   "cell_type": "code",
   "execution_count": 2,
   "metadata": {},
   "outputs": [],
   "source": [
    "import pandas as pd\n",
    "import os\n",
    "\n",
    "#first get the names of all files\n",
    "files = [f for f in os.listdir('./data') if f.endswith('.csv')]\n",
    "alldata = [None]\n",
    "\n",
    "#import all the files and append them together\n",
    "for f in files:\n",
    "    file_path = (\"./data/\" + str(f))\n",
    "    data = pd.read_csv(file_path, header=0)\n",
    "    alldata.append(data)\n",
    "    \n",
    "# Concatenate all data into one DataFrame\n",
    "Intentional_df = pd.concat(alldata, ignore_index=True)\n",
    "Intentional_df.columns = [\"Onset Prime\",\"Jitter\",\"Onset Movie\",\"Onset Response\",\"Resp\",\"RT\",\"actor\",\"item\",\"CTX\",\"Date\",\"framerate\",\"participant\",\"NA\"]\n",
    "\n",
    "\n",
    "#the kinematic information is stored separately. We'll import that here and merge it with the participant dataframe\n",
    "Kinematics = pd.read_csv('./stimuli/kinematic_data.txt', \n",
    "                         sep='\\t')\n",
    "#merge based on a match of both the actor and the item\n",
    "full_df = Intentional_df.merge(Kinematics, on=['actor','item'], suffixes=('','_'))\n"
   ]
  },
  {
   "cell_type": "markdown",
   "metadata": {},
   "source": [
    "Next, I'll check for missing values and convert the kinematic parameters to integers. Basically, get the data ready for analysis."
   ]
  },
  {
   "cell_type": "code",
   "execution_count": 3,
   "metadata": {},
   "outputs": [
    {
     "data": {
      "text/plain": [
       "Onset Prime       float64\n",
       "Jitter            float64\n",
       "Onset Movie       float64\n",
       "Onset Response    float64\n",
       "Resp                int64\n",
       "RT                float64\n",
       "actor               int64\n",
       "item                int64\n",
       "CTX                 int64\n",
       "Date               object\n",
       "framerate          object\n",
       "participant         int64\n",
       "NA                float64\n",
       "Group               int64\n",
       "filter              int64\n",
       "Distance           object\n",
       "DistanceM          object\n",
       "Space              object\n",
       "SpaceM            float64\n",
       "HoldT              object\n",
       "HoldTM            float64\n",
       "Subs               object\n",
       "SubsM              object\n",
       "Peak               object\n",
       "PeakM              object\n",
       "Gaze              float64\n",
       "Duration          float64\n",
       "DurationM         float64\n",
       "dtype: object"
      ]
     },
     "execution_count": 3,
     "metadata": {},
     "output_type": "execute_result"
    }
   ],
   "source": [
    "#remove missing values\n",
    "data_final = full_df[full_df['RT'].notnull()]\n",
    "\n",
    "#the kinematic data was imported as df objects, we'll convert the two we're interested in into floats\n",
    "data_final['SpaceM'] = data_final['SpaceM'].astype(str).astype(float);\n",
    "data_final['HoldTM'] = data_final['HoldTM'].astype(str).astype(float);\n",
    "\n",
    "data_final.dtypes #make sure the types are converted\n"
   ]
  },
  {
   "cell_type": "markdown",
   "metadata": {},
   "source": [
    "Now we can run our analyses.\n",
    "We want to test if the videos are being classified based on their kinematics. If so, we should expect their to be a difference in the kinematics when comparing the classifications. So we'll run an ANOVA, then get the means of each classification category."
   ]
  },
  {
   "cell_type": "code",
   "execution_count": 4,
   "metadata": {
    "scrolled": true
   },
   "outputs": [
    {
     "name": "stdout",
     "output_type": "stream",
     "text": [
      "\t\tRT\n",
      "\n",
      "\n",
      "          N      Mean        SD        SE  95% Conf.  Interval\n",
      "Resp                                                          \n",
      "Neutral  34  0.762863  0.609156  0.104469   0.555023  0.970702\n",
      "Student  36  0.679917  0.573351  0.095558   0.489965  0.869868\n",
      "Teacher  49  0.510514  0.380227  0.054318   0.402947  0.618081\n",
      "\n",
      "\t\tSpace\n",
      "\n",
      "\n",
      "          N      Mean        SD        SE  95% Conf.  Interval\n",
      "Resp                                                          \n",
      "Neutral  34 -0.209529  0.804080  0.137899  -0.483875  0.064817\n",
      "Student  36 -0.475558  0.719463  0.119910  -0.713916 -0.237199\n",
      "Teacher  49  0.097731  1.179066  0.168438  -0.235829  0.431291\n",
      "\n",
      "\t\tHoldtime\n",
      "\n",
      "\n",
      "          N      Mean        SD        SE  95% Conf.  Interval\n",
      "Resp                                                          \n",
      "Neutral  34 -0.109640  0.956729  0.164078  -0.436068  0.216789\n",
      "Student  36 -0.164419  0.870700  0.145117  -0.452883  0.124044\n",
      "Teacher  49  0.021609  0.952033  0.136005  -0.247722  0.290941\n",
      "\n",
      "\n",
      "Space:\t\n",
      "F_onewayResult(statistic=3.780765784360227, pvalue=0.025664509667497115)\n",
      "\n",
      "\n",
      "Holdtime:\t\n",
      "F_onewayResult(statistic=0.45420039177519994, pvalue=0.6360798385376814)\n",
      "\n",
      "\n",
      "Planned comparisons: Space\n",
      "\n",
      "Multiple Comparison of Means - Tukey HSD,FWER=0.05\n",
      "==============================================\n",
      " group1  group2 meandiff  lower  upper  reject\n",
      "----------------------------------------------\n",
      "Neutral Student  -0.266  -0.8093 0.2772 False \n",
      "Neutral Teacher  0.3073  -0.1998 0.8143 False \n",
      "Student Teacher  0.5733   0.0746 1.0719  True \n",
      "----------------------------------------------\n"
     ]
    }
   ],
   "source": [
    "import scipy.stats as stats\n",
    "import researchpy as rp\n",
    "import statsmodels.api as sm\n",
    "#from statsmodels.formula.api import ols\n",
    "\n",
    "\n",
    "data_final['Resp'].replace({1: 'Teacher', 2: 'Neutral', 3: 'Student'}, inplace= True)\n",
    "\n",
    "\n",
    "#get summary stats\n",
    "print('\\t\\tRT')\n",
    "print(rp.summary_cont(data_final['RT'].groupby(data_final['Resp']))) #RT per choice\n",
    "print('\\n\\t\\tSpace')\n",
    "print(rp.summary_cont(data_final['SpaceM'].groupby(data_final['Resp']))) #Space per choice\n",
    "print('\\n\\t\\tHoldtime')\n",
    "print(rp.summary_cont(data_final['HoldTM'].groupby(data_final['Resp']))) #Holdtime per choice\n",
    "\n",
    "\n",
    "#run the ANOVA\n",
    "#first for Space\n",
    "print('\\n\\nSpace:\\t')\n",
    "print(stats.f_oneway(data_final['SpaceM'][data_final['Resp'] == 'Teacher'], \n",
    "             data_final['SpaceM'][data_final['Resp'] == 'Neutral'],\n",
    "             data_final['SpaceM'][data_final['Resp'] == 'Student'])\n",
    "     )\n",
    "\n",
    "\n",
    "#then for Holdtime\n",
    "print('\\n\\nHoldtime:\\t')\n",
    "print(stats.f_oneway(data_final['HoldTM'][data_final['Resp'] == 'Teacher'], \n",
    "             data_final['HoldTM'][data_final['Resp'] == 'Neutral'],\n",
    "             data_final['HoldTM'][data_final['Resp'] == 'Student'])\n",
    "     )\n",
    "#planned comparisons - which categories correspond to higher kinematic values?\n",
    "from statsmodels.stats.multicomp import pairwise_tukeyhsd\n",
    "from statsmodels.stats.multicomp import MultiComparison\n",
    "\n",
    "#we'll only do this for Space, since Holdtime is not significant\n",
    "mc_Space = MultiComparison(data_final['SpaceM'], data_final['Resp'])\n",
    "mc_results_Space = mc_Space.tukeyhsd()\n",
    "print('\\n\\nPlanned comparisons: Space\\n')\n",
    "print( mc_results_Space)\n",
    "\n"
   ]
  },
  {
   "cell_type": "markdown",
   "metadata": {},
   "source": [
    "Finally, we'll plot the distributions."
   ]
  },
  {
   "cell_type": "code",
   "execution_count": 41,
   "metadata": {},
   "outputs": [
    {
     "name": "stderr",
     "output_type": "stream",
     "text": [
      "C:\\Users\\James\\Anaconda3\\lib\\site-packages\\scipy\\stats\\stats.py:1713: FutureWarning: Using a non-tuple sequence for multidimensional indexing is deprecated; use `arr[tuple(seq)]` instead of `arr[seq]`. In the future this will be interpreted as an array index, `arr[np.array(seq)]`, which will result either in an error or a different result.\n",
      "  return np.add.reduce(sorted[indexer] * weights, axis=axis) / sumval\n"
     ]
    },
    {
     "data": {
      "image/png": "[encoded data removed]",
      "text/plain": [
       "<Figure size 432x288 with 2 Axes>"
      ]
     },
     "metadata": {},
     "output_type": "display_data"
    }
   ],
   "source": [
    "import seaborn as sns\n",
    "import matplotlib.pyplot as plt\n",
    "\n",
    "#give us the background lines\n",
    "sns.set(style=\"whitegrid\")\n",
    "\n",
    "\n",
    "fig, (ax1, ax2)= plt.subplots(1, 2)\n",
    "\n",
    "sns.violinplot(x='SpaceM', y='Resp', data=data_final,\n",
    "               sharey='row',\n",
    "              ax = ax1)\n",
    "\n",
    "sns.violinplot(x='HoldTM', y='Resp', data=data_final,\n",
    "               sharey='row',\n",
    "              ax = ax2)\n",
    "ax2.axes.get_yaxis().set_visible(False)#make the y-axis invisible, so it's shared\n",
    "#now adjust font sizes\n",
    "ax1.xaxis.label.set_fontsize(14)\n",
    "ax2.xaxis.label.set_fontsize(14)\n",
    "#and make the labels more informative\n",
    "ax1.set_ylabel('Response Category',fontsize=14);\n",
    "ax1.set_xlabel('Space');\n",
    "ax2.set_xlabel('Holdtime');\n"
   ]
  }
 ],
 "metadata": {
  "kernelspec": {
   "display_name": "Python 3",
   "language": "python",
   "name": "python3"
  },
  "language_info": {
   "codemirror_mode": {
    "name": "ipython",
    "version": 3
   },
   "file_extension": ".py",
   "mimetype": "text/x-python",
   "name": "python",
   "nbconvert_exporter": "python",
   "pygments_lexer": "ipython3",
   "version": "3.7.0"
  }
 },
 "nbformat": 4,
 "nbformat_minor": 2
}
