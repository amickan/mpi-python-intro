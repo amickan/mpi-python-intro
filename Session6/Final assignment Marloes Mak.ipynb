{
 "cells": [
  {
   "cell_type": "markdown",
   "metadata": {},
   "source": [
    "# Outline experiment final assignment\n",
    "\n",
    "## Presentation of a story\n",
    "\n",
    "1. Multiple pages of text on screen. Participants can view a page as long as they want, and press the spacebar to proceed to the next page.\n",
    "2. Text and background will be in grayscale color. It will be selected at random what the contrast between text and background will be.\n",
    "3. Contrast between text and background per participant will have to be stored.\n",
    "4. Reading time per page is collected.\n",
    "5. filenames have to be dependend on participant name\n",
    "\n",
    "## Questionnaires about reading experiences\n",
    "\n",
    "1. Story World Absorption Scale (SWAS) and Appreciation Questionnaire Adjectives (AQA) will be presented.\n",
    "2. Participants will have to answer each question using a slider (7 possible positions of the slider, by default the slider is in the middle, at position 4.\n",
    "3. Output from the qustionnaires will be collected.\n",
    "\n",
    "## Analysis\n",
    "1. Calculate mean per subscale for SWAS\n",
    "2. Do PCA and calculate factor scores for AQA\n",
    "3. Calculate total reading time per participant\n",
    "4. Calculate correlation between SWAS & AQA & total reading time\n",
    "5. Analyze whether means for SWAS subscales, factor scores for AQA, and total reading time is related to level of contrast between text and background.\n",
    "\n",
    "## Visualization\n",
    "1. Visualize correlation SWAS & AQA % total reading time\n",
    "2. Visualize Mean per subscale SWAS per level of contrast\n",
    "3. Visualize factor score AQA per level of contrast\n",
    "4. Visualize total reading time per level of contrast"
   ]
  },
  {
   "cell_type": "markdown",
   "metadata": {},
   "source": [
    "# Step 1\n",
    "## Presentation of a story\n",
    "\n",
    "1. Multiple pages of text on screen. Participants can view a page as long as they want, and press the spacebar to proceed to the next page.\n",
    "2. Text and background will be in grayscale color. It will be selected at random what the contrast between text and background will be.\n",
    "3. Contrast between text and background per participant will have to be stored.\n",
    "4. Reading time per page is collected.\n",
    "5. filenames have to be dependend on participant name"
   ]
  },
  {
   "cell_type": "code",
   "execution_count": 2,
   "metadata": {},
   "outputs": [
    {
     "data": {
      "text/plain": [
       "CompletedProcess(args=['python', 'storypresentation.py'], returncode=0)"
      ]
     },
     "execution_count": 2,
     "metadata": {},
     "output_type": "execute_result"
    }
   ],
   "source": [
    "import subprocess as sp\n",
    "sp.run(['python', 'storypresentation.py'])"
   ]
  },
  {
   "cell_type": "code",
   "execution_count": 47,
   "metadata": {},
   "outputs": [
    {
     "name": "stdout",
     "output_type": "stream",
     "text": [
      "Er was eens\n",
      "Een meisje\n",
      "en zij at graag\n",
      "een ijsje\n"
     ]
    }
   ],
   "source": [
    "import csv\n",
    "\n",
    "pageList = [pagenum for pagenum in range(4)]\n",
    "\n",
    "textperpage = [\"Er was eens\",\n",
    "               \"Een meisje\",\n",
    "              \"en zij at graag\",\n",
    "              \"een ijsje\"]\n",
    "\n",
    "with open(r'readingtime.tsv', 'w') as readingfile:\n",
    "        writer = csv.writer(readingfile, delimiter = '\\t')\n",
    "        writer.writerow(['Page','Time'])\n",
    "\n",
    "for page in pageList:\n",
    "    print(textperpage[page])\n",
    "    with open(r'readingtime.tsv', 'a') as readingfile:\n",
    "        writer = csv.writer(readingfile, delimiter='\\t')\n",
    "        writer.writerow([page,'tba'])"
   ]
  }
 ],
 "metadata": {
  "kernelspec": {
   "display_name": "Python 3",
   "language": "python",
   "name": "python3"
  },
  "language_info": {
   "codemirror_mode": {
    "name": "ipython",
    "version": 3
   },
   "file_extension": ".py",
   "mimetype": "text/x-python",
   "name": "python",
   "nbconvert_exporter": "python",
   "pygments_lexer": "ipython3",
   "version": "3.7.0"
  }
 },
 "nbformat": 4,
 "nbformat_minor": 2
}
