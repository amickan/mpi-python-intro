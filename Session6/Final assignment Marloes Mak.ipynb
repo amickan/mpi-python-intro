{
 "cells": [
  {
   "cell_type": "markdown",
   "metadata": {},
   "source": [
    "# Outline experiment final assignment\n",
    "\n",
    "## Presentation of a story\n",
    "\n",
    "1. Multiple pages of text on screen. Participants can view a page as long as they want, and press the spacebar to proceed to the next page.\n",
    "2. Text and background will be in grayscale color. It will be selected at random what the contrast between text and background will be.\n",
    "3. Contrast between text and background per participant will have to be stored.\n",
    "4. Reading time per page is collected.\n",
    "5. filenames have to be dependend on participant name\n",
    "\n",
    "## Questionnaires about reading experiences\n",
    "\n",
    "1. Story World Absorption Scale (SWAS) will be presented.\n",
    "2. Participants will have to answer each question on a scale of 1-7. Other responses result in an NA\n",
    "3. Output from the questionnaires will be collected.\n",
    "\n",
    "## Analysis\n",
    "1. Calculate mean per subscale for SWAS\n",
    "2. Calculate total reading time per participant\n",
    "3. Calculate correlation between SWAS & total reading time\n",
    "4. Analyze whether means for SWAS subscales and total reading time is related to level of contrast between text and background.\n",
    "\n",
    "## Visualization\n",
    "1. Visualize correlation SWAS & total reading time\n",
    "2. Visualize Mean per subscale SWAS per level of contrast\n",
    "3. Visualize total reading time per level of contrast"
   ]
  },
  {
   "cell_type": "markdown",
   "metadata": {},
   "source": [
    "# Step 1\n",
    "## Presentation of a story\n",
    "\n",
    "1. Multiple pages of text on screen. Participants can view a page as long as they want, and press the spacebar to proceed to the next page.\n",
    "2. Text and background will be in grayscale color. It will be selected at random what the contrast between text and background will be.\n",
    "3. Contrast between text and background per participant will have to be stored.\n",
    "4. Reading time per page is collected.\n",
    "5. filenames have to be dependend on participant name"
   ]
  },
  {
   "cell_type": "code",
   "execution_count": 63,
   "metadata": {},
   "outputs": [
    {
     "data": {
      "text/plain": [
       "CompletedProcess(args=['python', 'storypresentation.py'], returncode=0)"
      ]
     },
     "execution_count": 63,
     "metadata": {},
     "output_type": "execute_result"
    }
   ],
   "source": [
    "import subprocess as sp\n",
    "sp.run(['python', 'storypresentation.py'])"
   ]
  },
  {
   "cell_type": "markdown",
   "metadata": {},
   "source": [
    "# Step 2\n",
    "## Questionnaires about reading experiences\n",
    "1. Story World Absorption Scale (SWAS) will be presented.\n",
    "2. Participants will have to answer each question on a scale of 1-7. Other responses result in an NA\n",
    "3. Output from the questionnaires will be collected."
   ]
  },
  {
   "cell_type": "code",
   "execution_count": 69,
   "metadata": {},
   "outputs": [
    {
     "data": {
      "text/plain": [
       "CompletedProcess(args=['python', 'questionnaires.py'], returncode=0)"
      ]
     },
     "execution_count": 69,
     "metadata": {},
     "output_type": "execute_result"
    }
   ],
   "source": [
    "import subprocess as sp\n",
    "sp.run(['python', 'questionnaires.py'])"
   ]
  },
  {
   "cell_type": "markdown",
   "metadata": {},
   "source": [
    "# Step 3\n",
    "## both experiment and questionnaires in one main script. \n",
    "### In this script I want to:\n",
    "1. open window for experiment\n",
    "2. ask participant number\n",
    "3. run experiment\n",
    "4. run questionnaires\n",
    "5. close window\n",
    "\n",
    "### NB: these steps can than be removed from the sub-scripts!"
   ]
  },
  {
   "cell_type": "code",
   "execution_count": 79,
   "metadata": {},
   "outputs": [
    {
     "data": {
      "text/plain": [
       "CompletedProcess(args=['python', 'main.py'], returncode=0)"
      ]
     },
     "execution_count": 79,
     "metadata": {},
     "output_type": "execute_result"
    }
   ],
   "source": [
    "import subprocess as sp\n",
    "sp.run(['python', 'main.py'])"
   ]
  },
  {
   "cell_type": "code",
   "execution_count": 71,
   "metadata": {},
   "outputs": [
    {
     "name": "stderr",
     "output_type": "stream",
     "text": [
      "  File \"main.py\", line 43\n",
      "    !python storypresentation.py\n",
      "    ^\n",
      "SyntaxError: invalid syntax\n"
     ]
    }
   ],
   "source": [
    "import re\n",
    "ppn = ['s','3','23']\n",
    "ppn = ''.join(ppn)\n",
    "ppn = re.findall(\"\\d+\",ppn)\n",
    "print(ppn)"
   ]
  }
 ],
 "metadata": {
  "kernelspec": {
   "display_name": "Python 3",
   "language": "python",
   "name": "python3"
  },
  "language_info": {
   "codemirror_mode": {
    "name": "ipython",
    "version": 3
   },
   "file_extension": ".py",
   "mimetype": "text/x-python",
   "name": "python",
   "nbconvert_exporter": "python",
   "pygments_lexer": "ipython3",
   "version": "3.7.0"
  }
 },
 "nbformat": 4,
 "nbformat_minor": 2
}
