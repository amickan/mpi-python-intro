{
 "cells": [
  {
   "cell_type": "markdown",
   "metadata": {},
   "source": [
    "# Data analysis of LexTALE dataset"
   ]
  },
  {
   "cell_type": "code",
   "execution_count": 70,
   "metadata": {},
   "outputs": [],
   "source": [
    "# import all necessary modules\n",
    "import pandas as pd\n",
    "import os\n",
    "import re\n",
    "import seaborn as sns\n",
    "import numpy as np\n",
    "import statsmodels.api as sm\n",
    "import statsmodels.formula.api as smf"
   ]
  },
  {
   "cell_type": "code",
   "execution_count": 3,
   "metadata": {},
   "outputs": [
    {
     "name": "stdout",
     "output_type": "stream",
     "text": [
      "reading 6_data_LexTALE.csv now\n",
      "reading 2_data_LexTALE.csv now\n",
      "reading 5_data_LexTALE.csv now\n",
      "reading 1_data_LexTALE.csv now\n"
     ]
    },
    {
     "name": "stderr",
     "output_type": "stream",
     "text": [
      "/Users/annemickan/anaconda3/lib/python3.6/site-packages/pandas/core/indexing.py:189: SettingWithCopyWarning: \n",
      "A value is trying to be set on a copy of a slice from a DataFrame\n",
      "\n",
      "See the caveats in the documentation: http://pandas.pydata.org/pandas-docs/stable/indexing.html#indexing-view-versus-copy\n",
      "  self._setitem_with_indexer(indexer, value)\n"
     ]
    }
   ],
   "source": [
    "# read in all participant files\n",
    "files = os.listdir()\n",
    "ind = 1\n",
    "for file in files:\n",
    "    if file.endswith(\".csv\"):\n",
    "        print(f'reading {file} now')\n",
    "        reg_exp = re.compile('_\\d\\d')\n",
    "        ppnr = file.split('_')[0]\n",
    "        if ind ==1:\n",
    "            data = pd.read_csv(file)\n",
    "            data['Pp']= ppnr\n",
    "        else:\n",
    "            dummy = pd.read_csv(file)\n",
    "            data = pd.concat([data,dummy], sort=True)\n",
    "            data.Pp.iloc[-60:] = ppnr\n",
    "        ind +=1"
   ]
  },
  {
   "cell_type": "code",
   "execution_count": 48,
   "metadata": {},
   "outputs": [
    {
     "data": {
      "text/html": [
       "<div>\n",
       "<style scoped>\n",
       "    .dataframe tbody tr th:only-of-type {\n",
       "        vertical-align: middle;\n",
       "    }\n",
       "\n",
       "    .dataframe tbody tr th {\n",
       "        vertical-align: top;\n",
       "    }\n",
       "\n",
       "    .dataframe thead th {\n",
       "        text-align: right;\n",
       "    }\n",
       "</style>\n",
       "<table border=\"1\" class=\"dataframe\">\n",
       "  <thead>\n",
       "    <tr style=\"text-align: right;\">\n",
       "      <th></th>\n",
       "      <th>Pp</th>\n",
       "      <th>error</th>\n",
       "      <th>response</th>\n",
       "      <th>rt</th>\n",
       "      <th>trial_nr</th>\n",
       "      <th>word</th>\n",
       "      <th>wordstatus</th>\n",
       "    </tr>\n",
       "  </thead>\n",
       "  <tbody>\n",
       "    <tr>\n",
       "      <th>0</th>\n",
       "      <td>6</td>\n",
       "      <td>0</td>\n",
       "      <td>0</td>\n",
       "      <td>0.449563</td>\n",
       "      <td>1</td>\n",
       "      <td>mensible</td>\n",
       "      <td>0</td>\n",
       "    </tr>\n",
       "    <tr>\n",
       "      <th>1</th>\n",
       "      <td>6</td>\n",
       "      <td>0</td>\n",
       "      <td>1</td>\n",
       "      <td>1.159710</td>\n",
       "      <td>2</td>\n",
       "      <td>scornful</td>\n",
       "      <td>1</td>\n",
       "    </tr>\n",
       "    <tr>\n",
       "      <th>2</th>\n",
       "      <td>6</td>\n",
       "      <td>0</td>\n",
       "      <td>1</td>\n",
       "      <td>1.089516</td>\n",
       "      <td>3</td>\n",
       "      <td>stoutly</td>\n",
       "      <td>1</td>\n",
       "    </tr>\n",
       "    <tr>\n",
       "      <th>3</th>\n",
       "      <td>6</td>\n",
       "      <td>1</td>\n",
       "      <td>0</td>\n",
       "      <td>0.701194</td>\n",
       "      <td>4</td>\n",
       "      <td>ablaze</td>\n",
       "      <td>1</td>\n",
       "    </tr>\n",
       "    <tr>\n",
       "      <th>4</th>\n",
       "      <td>6</td>\n",
       "      <td>0</td>\n",
       "      <td>0</td>\n",
       "      <td>0.632045</td>\n",
       "      <td>5</td>\n",
       "      <td>kermshaw</td>\n",
       "      <td>0</td>\n",
       "    </tr>\n",
       "  </tbody>\n",
       "</table>\n",
       "</div>"
      ],
      "text/plain": [
       "  Pp  error  response        rt  trial_nr      word  wordstatus\n",
       "0  6      0         0  0.449563         1  mensible           0\n",
       "1  6      0         1  1.159710         2  scornful           1\n",
       "2  6      0         1  1.089516         3   stoutly           1\n",
       "3  6      1         0  0.701194         4    ablaze           1\n",
       "4  6      0         0  0.632045         5  kermshaw           0"
      ]
     },
     "execution_count": 48,
     "metadata": {},
     "output_type": "execute_result"
    }
   ],
   "source": [
    "# check the data\n",
    "data.head()\n",
    "#data.describe()"
   ]
  },
  {
   "cell_type": "code",
   "execution_count": 5,
   "metadata": {},
   "outputs": [
    {
     "name": "stdout",
     "output_type": "stream",
     "text": [
      "Participant 6 has a score of 87.5%\n",
      "Participant 2 has a score of 73.75%\n",
      "Participant 5 has a score of 85.0%\n",
      "Participant 1 has a score of 77.5%\n"
     ]
    }
   ],
   "source": [
    "# for each participant, calculate their LexTALE score and print it and save them in a new dataframe\n",
    "ind = 0\n",
    "scores = pd.DataFrame()\n",
    "for participant in data.Pp.unique():\n",
    "    ind +=1\n",
    "    ppdata = data[data.Pp == participant]\n",
    "    score = (((ppdata[(ppdata.wordstatus == 1) & (ppdata.error == 0)].count()/40*100) + (ppdata[(ppdata.wordstatus == 0) & (ppdata.error == 0)].count()/20*100)) / 2).unique()\n",
    "    scores[ind] = score\n",
    "    print(f\"Participant {participant} has a score of {score[0]}%\")\n",
    "    "
   ]
  },
  {
   "cell_type": "code",
   "execution_count": 6,
   "metadata": {},
   "outputs": [
    {
     "name": "stderr",
     "output_type": "stream",
     "text": [
      "/Users/annemickan/anaconda3/lib/python3.6/site-packages/scipy/stats/stats.py:1713: FutureWarning: Using a non-tuple sequence for multidimensional indexing is deprecated; use `arr[tuple(seq)]` instead of `arr[seq]`. In the future this will be interpreted as an array index, `arr[np.array(seq)]`, which will result either in an error or a different result.\n",
      "  return np.add.reduce(sorted[indexer] * weights, axis=axis) / sumval\n"
     ]
    },
    {
     "data": {
      "text/plain": [
       "<matplotlib.axes._subplots.AxesSubplot at 0x1c236d59e8>"
      ]
     },
     "execution_count": 6,
     "metadata": {},
     "output_type": "execute_result"
    },
    {
     "data": {
      "image/png": "[encoded data removed]",
      "text/plain": [
       "<Figure size 432x288 with 1 Axes>"
      ]
     },
     "metadata": {
      "needs_background": "light"
     },
     "output_type": "display_data"
    }
   ],
   "source": [
    "# make a histogram of the scores, makes more sense with more values, but oh well\n",
    "sns.distplot(scores[:], bins = 10)"
   ]
  },
  {
   "cell_type": "code",
   "execution_count": 7,
   "metadata": {},
   "outputs": [
    {
     "name": "stdout",
     "output_type": "stream",
     "text": [
      "      words  nonwords\n",
      "0  0.680327  0.674392\n",
      "1  0.503514  0.598150\n",
      "2  1.349281  1.600507\n",
      "3  0.497123  0.578150\n"
     ]
    }
   ],
   "source": [
    "# check mean RT for nonwords and words per participant and store them in a new dataframe\n",
    "cols = ['words', 'nonwords']\n",
    "lst = []\n",
    "for participant in data.Pp.unique():\n",
    "    words = data[(data.Pp == participant) & (data.wordstatus == 1)]\n",
    "    nonwords = data[(data.Pp == participant) & (data.wordstatus == 0)]\n",
    "    lst.append([np.mean(words.rt),np.mean(nonwords.rt)])\n",
    "rtmeans = pd.DataFrame(lst, columns=cols)\n",
    "print(rtmeans)"
   ]
  },
  {
   "cell_type": "code",
   "execution_count": 34,
   "metadata": {},
   "outputs": [
    {
     "data": {
      "image/png": "[encoded data removed]",
      "text/plain": [
       "<Figure size 432x288 with 1 Axes>"
      ]
     },
     "metadata": {
      "needs_background": "light"
     },
     "output_type": "display_data"
    }
   ],
   "source": [
    "# plot mean RTs for words and non-words, with 95% confidence interval\n",
    "data.wordstatus = data.wordstatus.replace([0,1], [\"non-word\",\"word\"])\n",
    "plot = sns.barplot(x = \"wordstatus\", y = \"rt\", ci = .95, capsize=.2, data = data)\n",
    "data.wordstatus = data.wordstatus.replace([\"non-word\",\"word\"],[0,1]) # revert the wordstatus variable to numbers "
   ]
  },
  {
   "cell_type": "code",
   "execution_count": 49,
   "metadata": {},
   "outputs": [
    {
     "name": "stdout",
     "output_type": "stream",
     "text": [
      "                 Generalized Linear Model Regression Results                  \n",
      "==============================================================================\n",
      "Dep. Variable:                  error   No. Observations:                  240\n",
      "Model:                            GLM   Df Residuals:                      239\n",
      "Model Family:                Binomial   Df Model:                            0\n",
      "Link Function:                  logit   Scale:                          1.0000\n",
      "Method:                          IRLS   Log-Likelihood:                -117.65\n",
      "Date:                Thu, 06 Dec 2018   Deviance:                       235.31\n",
      "Time:                        15:03:26   Pearson chi2:                     240.\n",
      "No. Iterations:                     4   Covariance Type:             nonrobust\n",
      "==============================================================================\n",
      "                 coef    std err          z      P>|z|      [0.025      0.975]\n",
      "------------------------------------------------------------------------------\n",
      "wordstatus    -1.8900      0.234     -8.073      0.000      -2.349      -1.431\n",
      "==============================================================================\n"
     ]
    }
   ],
   "source": [
    "# run a generalized linear model to test whether people make more errors for words and nonwords\n",
    "# no random effects possible here\n",
    "model = sm.GLM(data.error, data.wordstatus, family=sm.families.family.Binomial()) \n",
    "results = model.fit()\n",
    "print(results.summary())\n",
    "# people do make more errors on non-words than on words"
   ]
  },
  {
   "cell_type": "code",
   "execution_count": 64,
   "metadata": {},
   "outputs": [
    {
     "ename": "AttributeError",
     "evalue": "'list' object has no attribute 'shape'",
     "output_type": "error",
     "traceback": [
      "\u001b[0;31m---------------------------------------------------------------------------\u001b[0m",
      "\u001b[0;31mAttributeError\u001b[0m                            Traceback (most recent call last)",
      "\u001b[0;32m<ipython-input-64-ad0ac3cc7825>\u001b[0m in \u001b[0;36m<module>\u001b[0;34m\u001b[0m\n\u001b[1;32m      3\u001b[0m \u001b[0mrandom\u001b[0m \u001b[0;34m=\u001b[0m \u001b[0;34m[\u001b[0m\u001b[0;34m'0 + Pp'\u001b[0m\u001b[0;34m,\u001b[0m \u001b[0;34m'0 + Pp*trial_nr'\u001b[0m\u001b[0;34m]\u001b[0m\u001b[0;34m\u001b[0m\u001b[0m\n\u001b[1;32m      4\u001b[0m \u001b[0mind\u001b[0m \u001b[0;34m=\u001b[0m \u001b[0;34m[\u001b[0m\u001b[0mdata\u001b[0m\u001b[0;34m.\u001b[0m\u001b[0mPp\u001b[0m\u001b[0;34m,\u001b[0m\u001b[0mdata\u001b[0m\u001b[0;34m.\u001b[0m\u001b[0mtrial_nr\u001b[0m\u001b[0;34m]\u001b[0m\u001b[0;34m\u001b[0m\u001b[0m\n\u001b[0;32m----> 5\u001b[0;31m \u001b[0mmodel\u001b[0m \u001b[0;34m=\u001b[0m \u001b[0msm\u001b[0m\u001b[0;34m.\u001b[0m\u001b[0mBinomialBayesMixedGLM\u001b[0m\u001b[0;34m(\u001b[0m\u001b[0mdata\u001b[0m\u001b[0;34m.\u001b[0m\u001b[0merror\u001b[0m\u001b[0;34m,\u001b[0m\u001b[0mdata\u001b[0m\u001b[0;34m.\u001b[0m\u001b[0mwordstatus\u001b[0m\u001b[0;34m,\u001b[0m\u001b[0mrandom\u001b[0m\u001b[0;34m,\u001b[0m\u001b[0mind\u001b[0m\u001b[0;34m)\u001b[0m\u001b[0;34m\u001b[0m\u001b[0m\n\u001b[0m\u001b[1;32m      6\u001b[0m \u001b[0mresults\u001b[0m \u001b[0;34m=\u001b[0m \u001b[0mmodel\u001b[0m\u001b[0;34m.\u001b[0m\u001b[0mfit\u001b[0m\u001b[0;34m(\u001b[0m\u001b[0;34m)\u001b[0m\u001b[0;34m\u001b[0m\u001b[0m\n\u001b[1;32m      7\u001b[0m \u001b[0mprint\u001b[0m\u001b[0;34m(\u001b[0m\u001b[0mresults\u001b[0m\u001b[0;34m.\u001b[0m\u001b[0msummary\u001b[0m\u001b[0;34m(\u001b[0m\u001b[0;34m)\u001b[0m\u001b[0;34m)\u001b[0m\u001b[0;34m\u001b[0m\u001b[0m\n",
      "\u001b[0;32m~/anaconda3/lib/python3.6/site-packages/statsmodels/genmod/bayes_mixed_glm.py\u001b[0m in \u001b[0;36m__init__\u001b[0;34m(self, endog, exog, exog_vc, ident, vcp_p, fe_p, fep_names, vcp_names, vc_names)\u001b[0m\n\u001b[1;32m    832\u001b[0m             \u001b[0mfamily\u001b[0m\u001b[0;34m=\u001b[0m\u001b[0mfamilies\u001b[0m\u001b[0;34m.\u001b[0m\u001b[0mBinomial\u001b[0m\u001b[0;34m(\u001b[0m\u001b[0;34m)\u001b[0m\u001b[0;34m,\u001b[0m\u001b[0;34m\u001b[0m\u001b[0m\n\u001b[1;32m    833\u001b[0m             \u001b[0mfep_names\u001b[0m\u001b[0;34m=\u001b[0m\u001b[0mfep_names\u001b[0m\u001b[0;34m,\u001b[0m \u001b[0mvcp_names\u001b[0m\u001b[0;34m=\u001b[0m\u001b[0mvcp_names\u001b[0m\u001b[0;34m,\u001b[0m\u001b[0;34m\u001b[0m\u001b[0m\n\u001b[0;32m--> 834\u001b[0;31m             vc_names=vc_names)\n\u001b[0m\u001b[1;32m    835\u001b[0m \u001b[0;34m\u001b[0m\u001b[0m\n\u001b[1;32m    836\u001b[0m     \u001b[0;34m@\u001b[0m\u001b[0mclassmethod\u001b[0m\u001b[0;34m\u001b[0m\u001b[0m\n",
      "\u001b[0;32m~/anaconda3/lib/python3.6/site-packages/statsmodels/genmod/bayes_mixed_glm.py\u001b[0m in \u001b[0;36m__init__\u001b[0;34m(self, endog, exog, exog_vc, ident, family, vcp_p, fe_p, fep_names, vcp_names, vc_names, **kwargs)\u001b[0m\n\u001b[1;32m    186\u001b[0m                  vcp_names=None, vc_names=None, **kwargs):\n\u001b[1;32m    187\u001b[0m \u001b[0;34m\u001b[0m\u001b[0m\n\u001b[0;32m--> 188\u001b[0;31m         \u001b[0;32mif\u001b[0m \u001b[0mlen\u001b[0m\u001b[0;34m(\u001b[0m\u001b[0mident\u001b[0m\u001b[0;34m)\u001b[0m \u001b[0;34m!=\u001b[0m \u001b[0mexog_vc\u001b[0m\u001b[0;34m.\u001b[0m\u001b[0mshape\u001b[0m\u001b[0;34m[\u001b[0m\u001b[0;36m1\u001b[0m\u001b[0;34m]\u001b[0m\u001b[0;34m:\u001b[0m\u001b[0;34m\u001b[0m\u001b[0m\n\u001b[0m\u001b[1;32m    189\u001b[0m             \u001b[0mmsg\u001b[0m \u001b[0;34m=\u001b[0m \u001b[0;34m\"len(ident) should match the number of columns of exog_vc\"\u001b[0m\u001b[0;34m\u001b[0m\u001b[0m\n\u001b[1;32m    190\u001b[0m             \u001b[0;32mraise\u001b[0m \u001b[0mValueError\u001b[0m\u001b[0;34m(\u001b[0m\u001b[0mmsg\u001b[0m\u001b[0;34m)\u001b[0m\u001b[0;34m\u001b[0m\u001b[0m\n",
      "\u001b[0;31mAttributeError\u001b[0m: 'list' object has no attribute 'shape'"
     ]
    }
   ],
   "source": [
    "# run a generalized mixed effects model with a random intercept for subjects, and a random slope for trials over subjects\n",
    "random = ['0 + Pp', '0 + Pp*trial_nr']\n",
    "ind = [data.Pp,data.trial_nr]\n",
    "model = sm.BinomialBayesMixedGLM(data.error,data.wordstatus,random,ind) \n",
    "results = model.fit()\n",
    "print(results.summary())\n",
    "# this does not and I did not have time enough to figure out why... "
   ]
  },
  {
   "cell_type": "code",
   "execution_count": 66,
   "metadata": {},
   "outputs": [
    {
     "name": "stdout",
     "output_type": "stream",
     "text": [
      "                 Generalized Linear Model Regression Results                  \n",
      "==============================================================================\n",
      "Dep. Variable:                     rt   No. Observations:                  240\n",
      "Model:                            GLM   Df Residuals:                      239\n",
      "Model Family:                Gaussian   Df Model:                            0\n",
      "Link Function:                    log   Scale:                         0.36287\n",
      "Method:                          IRLS   Log-Likelihood:                -218.40\n",
      "Date:                Thu, 06 Dec 2018   Deviance:                       86.727\n",
      "Time:                        15:11:38   Pearson chi2:                     86.7\n",
      "No. Iterations:                     6   Covariance Type:             nonrobust\n",
      "==============================================================================\n",
      "                 coef    std err          z      P>|z|      [0.025      0.975]\n",
      "------------------------------------------------------------------------------\n",
      "wordstatus    -0.2777      0.063     -4.417      0.000      -0.401      -0.154\n",
      "==============================================================================\n"
     ]
    }
   ],
   "source": [
    "# run a generalized linear model to test whether people are slower to respond for words than nonwords\n",
    "# no random effects possible in this model, but a log-link function to log-transform the RTs\n",
    "modelrt = sm.GLM(data.rt, data.wordstatus, family=sm.families.family.Gaussian(link=sm.families.links.log)) \n",
    "resultsrt = modelrt.fit()\n",
    "print(resultsrt.summary())\n",
    "# nonwords are responded to slower than words"
   ]
  },
  {
   "cell_type": "code",
   "execution_count": 79,
   "metadata": {},
   "outputs": [
    {
     "name": "stderr",
     "output_type": "stream",
     "text": [
      "/Users/annemickan/anaconda3/lib/python3.6/site-packages/statsmodels/base/model.py:508: ConvergenceWarning: Maximum Likelihood optimization failed to converge. Check mle_retvals\n",
      "  \"Check mle_retvals\", ConvergenceWarning)\n",
      "/Users/annemickan/anaconda3/lib/python3.6/site-packages/statsmodels/base/model.py:508: ConvergenceWarning: Maximum Likelihood optimization failed to converge. Check mle_retvals\n",
      "  \"Check mle_retvals\", ConvergenceWarning)\n",
      "/Users/annemickan/anaconda3/lib/python3.6/site-packages/statsmodels/base/model.py:508: ConvergenceWarning: Maximum Likelihood optimization failed to converge. Check mle_retvals\n",
      "  \"Check mle_retvals\", ConvergenceWarning)\n"
     ]
    },
    {
     "name": "stdout",
     "output_type": "stream",
     "text": [
      "             Mixed Linear Model Regression Results\n",
      "===============================================================\n",
      "Model:                MixedLM   Dependent Variable:   rtlog    \n",
      "No. Observations:     240       Method:               REML     \n",
      "No. Groups:           4         Scale:                0.1213   \n",
      "Min. group size:      60        Likelihood:           -117.2765\n",
      "Max. group size:      60        Converged:            No       \n",
      "Mean group size:      60.0                                     \n",
      "---------------------------------------------------------------\n",
      "                     Coef.  Std.Err.   z    P>|z| [0.025 0.975]\n",
      "---------------------------------------------------------------\n",
      "Intercept            -0.181    0.184 -0.982 0.326 -0.541  0.180\n",
      "wordstatus           -0.156    0.048 -3.231 0.001 -0.250 -0.061\n",
      "Group Var             0.121    0.174                           \n",
      "Group x trial_nr Cov  0.000    0.203                           \n",
      "trial_nr Var          0.121                                    \n",
      "===============================================================\n",
      "\n",
      "         Mixed Linear Model Regression Results\n",
      "=======================================================\n",
      "Model:            MixedLM Dependent Variable: rtlog    \n",
      "No. Observations: 240     Method:             REML     \n",
      "No. Groups:       4       Scale:              0.1256   \n",
      "Min. group size:  60      Likelihood:         -102.2711\n",
      "Max. group size:  60      Converged:          Yes      \n",
      "Mean group size:  60.0                                 \n",
      "-------------------------------------------------------\n",
      "             Coef.  Std.Err.   z    P>|z| [0.025 0.975]\n",
      "-------------------------------------------------------\n",
      "Intercept    -0.303    0.217 -1.393 0.164 -0.729  0.123\n",
      "wordstatus   -0.137    0.049 -2.824 0.005 -0.232 -0.042\n",
      "Group Var     0.183    0.428                           \n",
      "=======================================================\n",
      "\n"
     ]
    },
    {
     "name": "stderr",
     "output_type": "stream",
     "text": [
      "/Users/annemickan/anaconda3/lib/python3.6/site-packages/statsmodels/base/model.py:508: ConvergenceWarning: Maximum Likelihood optimization failed to converge. Check mle_retvals\n",
      "  \"Check mle_retvals\", ConvergenceWarning)\n",
      "/Users/annemickan/anaconda3/lib/python3.6/site-packages/statsmodels/base/model.py:508: ConvergenceWarning: Maximum Likelihood optimization failed to converge. Check mle_retvals\n",
      "  \"Check mle_retvals\", ConvergenceWarning)\n",
      "/Users/annemickan/anaconda3/lib/python3.6/site-packages/statsmodels/regression/mixed_linear_model.py:2026: ConvergenceWarning: Gradient optimization failed.\n",
      "  warnings.warn(msg, ConvergenceWarning)\n",
      "/Users/annemickan/anaconda3/lib/python3.6/site-packages/statsmodels/regression/mixed_linear_model.py:2066: ConvergenceWarning: The Hessian matrix at the estimated parameter values is not positive definite.\n",
      "  warnings.warn(msg, ConvergenceWarning)\n",
      "/Users/annemickan/anaconda3/lib/python3.6/site-packages/statsmodels/base/model.py:1092: RuntimeWarning: invalid value encountered in sqrt\n",
      "  bse_ = np.sqrt(np.diag(self.cov_params()))\n"
     ]
    }
   ],
   "source": [
    "# log transform the RTs\n",
    "data['rtlog'] = np.log(data.rt)\n",
    "# run a linear mixed effects model with a random intercept for subjects and a random slope for trials number of subjects\n",
    "modelrt = smf.mixedlm(\"rtlog~wordstatus\", data, groups = data[\"Pp\"], re_formula = \"~trial_nr\") \n",
    "resultsrt = modelrt.fit()\n",
    "print(resultsrt.summary())\n",
    "# gives a convergence wanring, so let's use the simpler model with only one random intercept over subjects \n",
    "modelrt2 = smf.mixedlm(\"rtlog~wordstatus\", data, groups = data[\"Pp\"]) \n",
    "resultsrt2 = modelrt2.fit()\n",
    "print(resultsrt2.summary())\n",
    "# Both models come to the conclusion that wordstatus does impact reaction times: nonwords are recognized as such more slowly"
   ]
  },
  {
   "cell_type": "code",
   "execution_count": null,
   "metadata": {},
   "outputs": [],
   "source": []
  }
 ],
 "metadata": {
  "kernelspec": {
   "display_name": "Python 3",
   "language": "python",
   "name": "python3"
  },
  "language_info": {
   "codemirror_mode": {
    "name": "ipython",
    "version": 3
   },
   "file_extension": ".py",
   "mimetype": "text/x-python",
   "name": "python",
   "nbconvert_exporter": "python",
   "pygments_lexer": "ipython3",
   "version": "3.6.6"
  }
 },
 "nbformat": 4,
 "nbformat_minor": 2
}
