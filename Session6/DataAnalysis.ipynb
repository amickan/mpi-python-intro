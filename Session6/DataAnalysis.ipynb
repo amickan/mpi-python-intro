{
 "cells": [
  {
   "cell_type": "markdown",
   "metadata": {},
   "source": [
    "# Data analysis of LexTALE dataset"
   ]
  },
  {
   "cell_type": "code",
   "execution_count": 183,
   "metadata": {},
   "outputs": [],
   "source": [
    "# import all necessary modules\n",
    "import pandas as pd\n",
    "import os\n",
    "import re\n",
    "import seaborn as sns\n",
    "import numpy as np\n",
    "import statsmodels.api as sm"
   ]
  },
  {
   "cell_type": "code",
   "execution_count": 158,
   "metadata": {},
   "outputs": [
    {
     "name": "stdout",
     "output_type": "stream",
     "text": [
      "reading 2_data_LexTALE.csv now\n",
      "reading 1_data_LexTALE.csv now\n"
     ]
    }
   ],
   "source": [
    "# read in all participant files\n",
    "files = os.listdir()\n",
    "ind = 1\n",
    "for file in files:\n",
    "    if file.endswith(\".csv\"):\n",
    "        print(f'reading {file} now')\n",
    "        reg_exp = re.compile('_\\d\\d')\n",
    "        ppnr = file.split('_')[0]\n",
    "        if ind ==1:\n",
    "            data = pd.read_csv(file)\n",
    "            data['Pp']= ppnr\n",
    "        else:\n",
    "            dummy = pd.read_csv(file)\n",
    "            data = pd.concat([data,dummy], sort=True)\n",
    "            data.Pp.iloc[-60:] = ppnr\n",
    "        ind +=1"
   ]
  },
  {
   "cell_type": "code",
   "execution_count": 159,
   "metadata": {},
   "outputs": [
    {
     "data": {
      "text/html": [
       "<div>\n",
       "<style scoped>\n",
       "    .dataframe tbody tr th:only-of-type {\n",
       "        vertical-align: middle;\n",
       "    }\n",
       "\n",
       "    .dataframe tbody tr th {\n",
       "        vertical-align: top;\n",
       "    }\n",
       "\n",
       "    .dataframe thead th {\n",
       "        text-align: right;\n",
       "    }\n",
       "</style>\n",
       "<table border=\"1\" class=\"dataframe\">\n",
       "  <thead>\n",
       "    <tr style=\"text-align: right;\">\n",
       "      <th></th>\n",
       "      <th>Pp</th>\n",
       "      <th>error</th>\n",
       "      <th>response</th>\n",
       "      <th>rt</th>\n",
       "      <th>trial_nr</th>\n",
       "      <th>word</th>\n",
       "      <th>wordstatus</th>\n",
       "    </tr>\n",
       "  </thead>\n",
       "  <tbody>\n",
       "    <tr>\n",
       "      <th>0</th>\n",
       "      <td>2</td>\n",
       "      <td>1</td>\n",
       "      <td>1</td>\n",
       "      <td>0.885188</td>\n",
       "      <td>1</td>\n",
       "      <td>mensible</td>\n",
       "      <td>0</td>\n",
       "    </tr>\n",
       "    <tr>\n",
       "      <th>1</th>\n",
       "      <td>2</td>\n",
       "      <td>0</td>\n",
       "      <td>1</td>\n",
       "      <td>0.654705</td>\n",
       "      <td>2</td>\n",
       "      <td>scornful</td>\n",
       "      <td>1</td>\n",
       "    </tr>\n",
       "    <tr>\n",
       "      <th>2</th>\n",
       "      <td>2</td>\n",
       "      <td>1</td>\n",
       "      <td>0</td>\n",
       "      <td>0.314914</td>\n",
       "      <td>3</td>\n",
       "      <td>stoutly</td>\n",
       "      <td>1</td>\n",
       "    </tr>\n",
       "    <tr>\n",
       "      <th>3</th>\n",
       "      <td>2</td>\n",
       "      <td>1</td>\n",
       "      <td>0</td>\n",
       "      <td>0.343030</td>\n",
       "      <td>4</td>\n",
       "      <td>ablaze</td>\n",
       "      <td>1</td>\n",
       "    </tr>\n",
       "    <tr>\n",
       "      <th>4</th>\n",
       "      <td>2</td>\n",
       "      <td>0</td>\n",
       "      <td>0</td>\n",
       "      <td>0.538764</td>\n",
       "      <td>5</td>\n",
       "      <td>kermshaw</td>\n",
       "      <td>0</td>\n",
       "    </tr>\n",
       "  </tbody>\n",
       "</table>\n",
       "</div>"
      ],
      "text/plain": [
       "  Pp  error  response        rt  trial_nr       word  wordstatus\n",
       "0  2      1         1  0.885188         1   mensible           0\n",
       "1  2      0         1  0.654705         2   scornful           1\n",
       "2  2      1         0  0.314914         3    stoutly           1\n",
       "3  2      1         0  0.343030         4     ablaze           1\n",
       "4  2      0         0  0.538764         5   kermshaw           0"
      ]
     },
     "execution_count": 159,
     "metadata": {},
     "output_type": "execute_result"
    }
   ],
   "source": [
    "# check the data\n",
    "data.head()\n",
    "#data.describe()"
   ]
  },
  {
   "cell_type": "code",
   "execution_count": 160,
   "metadata": {},
   "outputs": [
    {
     "name": "stdout",
     "output_type": "stream",
     "text": [
      "Participant 2 has a score of 73.75%\n",
      "Participant 1 has a score of 77.5%\n"
     ]
    }
   ],
   "source": [
    "# for each participant, calculate their LexTALE score and print it and save them in a new dataframe\n",
    "ind = 0\n",
    "scores = pd.DataFrame()\n",
    "for participant in data.Pp.unique():\n",
    "    ind +=1\n",
    "    ppdata = data[data.Pp == participant]\n",
    "    score = (((ppdata[(ppdata.wordstatus == 1) & (ppdata.error == 0)].count()/40*100) + (ppdata[(ppdata.wordstatus == 0) & (ppdata.error == 0)].count()/20*100)) / 2).unique()\n",
    "    scores[ind] = score\n",
    "    print(f\"Participant {participant} has a score of {score[0]}%\")\n",
    "    "
   ]
  },
  {
   "cell_type": "code",
   "execution_count": 161,
   "metadata": {},
   "outputs": [
    {
     "data": {
      "text/plain": [
       "<matplotlib.axes._subplots.AxesSubplot at 0x1a25c64198>"
      ]
     },
     "execution_count": 161,
     "metadata": {},
     "output_type": "execute_result"
    },
    {
     "data": {
      "image/png": "[encoded data removed]",
      "text/plain": [
       "<Figure size 432x288 with 1 Axes>"
      ]
     },
     "metadata": {
      "needs_background": "light"
     },
     "output_type": "display_data"
    }
   ],
   "source": [
    "# make a histogram of the scores\n",
    "sns.distplot(scores[:], bins = 10)"
   ]
  },
  {
   "cell_type": "code",
   "execution_count": 162,
   "metadata": {},
   "outputs": [],
   "source": [
    "# check mean RT for nonwords and words per participant and store them in a new dataframe\n",
    "cols = ['words', 'nonwords']\n",
    "lst = []\n",
    "for participant in data.Pp.unique():\n",
    "    words = data[(data.Pp == participant) & (data.wordstatus == 1)]\n",
    "    nonwords = data[(data.Pp == participant) & (data.wordstatus == 0)]\n",
    "    lst.append([np.mean(words.rt),np.mean(nonwords.rt)])\n",
    "rtmeans = pd.DataFrame(lst, columns=cols)\n"
   ]
  },
  {
   "cell_type": "code",
   "execution_count": 171,
   "metadata": {},
   "outputs": [
    {
     "data": {
      "text/plain": [
       "<matplotlib.legend.Legend at 0x1a255ef358>"
      ]
     },
     "execution_count": 171,
     "metadata": {},
     "output_type": "execute_result"
    },
    {
     "data": {
      "image/png": "[encoded data removed]",
      "text/plain": [
       "<Figure size 432x288 with 1 Axes>"
      ]
     },
     "metadata": {
      "needs_background": "light"
     },
     "output_type": "display_data"
    }
   ],
   "source": [
    "# plot distribution of mean RTs for words and non-words \n",
    "ind = 0 \n",
    "for means in rtmeans:\n",
    "    plot = sns.distplot(rtmeans.iloc[:,ind], bins = 10)\n",
    "    ind +=1\n",
    "plot.legend(['words', 'non words'])"
   ]
  },
  {
   "cell_type": "code",
   "execution_count": 189,
   "metadata": {},
   "outputs": [
    {
     "name": "stdout",
     "output_type": "stream",
     "text": [
      "                 Generalized Linear Model Regression Results                  \n",
      "==============================================================================\n",
      "Dep. Variable:                  error   No. Observations:                  120\n",
      "Model:                            GLM   Df Residuals:                      119\n",
      "Model Family:                Binomial   Df Model:                            0\n",
      "Link Function:                  logit   Scale:                          1.0000\n",
      "Method:                          IRLS   Log-Likelihood:                -59.758\n",
      "Date:                Thu, 29 Nov 2018   Deviance:                       119.52\n",
      "Time:                        20:51:59   Pearson chi2:                     120.\n",
      "No. Iterations:                     4   Covariance Type:             nonrobust\n",
      "==============================================================================\n",
      "                 coef    std err          z      P>|z|      [0.025      0.975]\n",
      "------------------------------------------------------------------------------\n",
      "wordstatus    -1.8362      0.325     -5.656      0.000      -2.473      -1.200\n",
      "==============================================================================\n",
      "                 Generalized Linear Model Regression Results                  \n",
      "==============================================================================\n",
      "Dep. Variable:                     rt   No. Observations:                  120\n",
      "Model:                            GLM   Df Residuals:                      119\n",
      "Model Family:                Gaussian   Df Model:                            0\n",
      "Link Function:                    log   Scale:                        0.091682\n",
      "Method:                          IRLS   Log-Likelihood:                -26.407\n",
      "Date:                Thu, 29 Nov 2018   Deviance:                       10.910\n",
      "Time:                        20:51:59   Pearson chi2:                     10.9\n",
      "No. Iterations:                     6   Covariance Type:             nonrobust\n",
      "==============================================================================\n",
      "                 coef    std err          z      P>|z|      [0.025      0.975]\n",
      "------------------------------------------------------------------------------\n",
      "wordstatus    -0.6889      0.067    -10.218      0.000      -0.821      -0.557\n",
      "==============================================================================\n"
     ]
    }
   ],
   "source": [
    "# run a GLM to test whether people make more errors for words and nonwords\n",
    "model = sm.GLM(data.error, data.wordstatus, family=sm.families.family.Binomial()) \n",
    "results = model.fit()\n",
    "print(results.summary())\n",
    "\n",
    "# run a GLM to test whether people are slower to respond for words than nonwords\n",
    "modelrt = sm.GLM(data.rt, data.wordstatus, family=sm.families.family.Gaussian(link=sm.families.links.log)) \n",
    "resultsrt = modelrt.fit()\n",
    "print(resultsrt.summary())"
   ]
  }
 ],
 "metadata": {
  "kernelspec": {
   "display_name": "Python 3",
   "language": "python",
   "name": "python3"
  },
  "language_info": {
   "codemirror_mode": {
    "name": "ipython",
    "version": 3
   },
   "file_extension": ".py",
   "mimetype": "text/x-python",
   "name": "python",
   "nbconvert_exporter": "python",
   "pygments_lexer": "ipython3",
   "version": "3.6.6"
  }
 },
 "nbformat": 4,
 "nbformat_minor": 2
}
