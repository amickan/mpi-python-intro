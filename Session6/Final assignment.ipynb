{
 "cells": [
  {
   "cell_type": "markdown",
   "metadata": {},
   "source": [
    "# Final assignment \n",
    "## Language switching experiment\n",
    "\n",
    "##### Note/disclaimer: \n",
    "I've skipped quite a few steps here and there, simple because I was unable to figure out how to perform it correctly. After asking colleagues and spending way more time on this assignment than indicated, I decided to leave it like this :) "
   ]
  },
  {
   "cell_type": "markdown",
   "metadata": {},
   "source": [
    "## 0. Import all necessary libraries\n",
    "Import sounddevice as given in the _hints_ file"
   ]
  },
  {
   "cell_type": "code",
   "execution_count": 3,
   "metadata": {},
   "outputs": [],
   "source": [
    "import sounddevice as sd\n",
    "import soundfile as sf\n",
    "from psychopy import prefs\n",
    "prefs.general['audioLib'] = ['pygame']\n",
    "from psychopy import core, visual, event, gui, data, clock, logging\n",
    "from psychopy.tools.filetools import fromFile, toFile\n",
    "from psychopy.constants import (NOT_STARTED, STARTED, PLAYING, PAUSED, STOPPED, FINISHED, PRESSED, RELEASED, FOREVER)\n",
    "import numpy as np\n",
    "import os \n",
    "import sys\n",
    "import pandas as pd\n",
    "import seaborn as sns\n",
    "import csv\n",
    "from sklearn import linear_model\n",
    "from sklearn.metrics import r2_score"
   ]
  },
  {
   "cell_type": "markdown",
   "metadata": {},
   "source": [
    "## 1. Creating the experiment\n",
    "### 1.1. Stimuli\n",
    "\n",
    "The stimuli will consist of pictures, presented on one side of the screen. When a pictures is presented on the _left_ side of the screen, the picture needs to be named in L1. When a picture is presented on the _right_ side of the screen, the picture needs to be named in the L2. \n",
    "\n",
    "The stimuli are taken from the MultiPic project (Duñabeitia, J. A., Crepaldi, D., Meyer, A. S., New, B., Pliatsikas, C., Smolka, E., & Brysbaert, M. (2018). MultiPic: A standardized set of 750 drawings with norms for six European languages. Quarterly Journal of Experimental Psychology, 71(4), 808–816. https://doi.org/10.1080/17470218.2017.1310261). For this assignment, I decided to include seven pictures. \n",
    "\n",
    "These pictures need to be presented on the left or right side of the screen. Pictures on the left side need to be named in English and are therefore the \"EN-trials\". Pictures on the right side of the screen will need to be named in Dutch (i.e., all other trials). The pictures were supposed to stay on the screen for as long as it would take to name them. However, due to difficulties implementing a voicekey (model `pyo` could not be downloaded to my computer), I decided to leave the pictures on the screen for a fixed time, and record everything while the picture was shown. The reaction times were extracted later.\n",
    "\n",
    "When I try to run the code from this Jupyter notebook, my computer can't handle it for some reason. So I've put everything in a script called `switch.py`, including explanations with the steps. To run the script:\n"
   ]
  },
  {
   "cell_type": "code",
   "execution_count": 4,
   "metadata": {},
   "outputs": [
    {
     "data": {
      "text/plain": [
       "CompletedProcess(args=['python', 'switch.py'], returncode=0)"
      ]
     },
     "execution_count": 4,
     "metadata": {},
     "output_type": "execute_result"
    }
   ],
   "source": [
    "#Try it out\n",
    "import subprocess as sp\n",
    "\n",
    "sp.run(['python', 'switch.py'])"
   ]
  },
  {
   "cell_type": "markdown",
   "metadata": {},
   "source": [
    "### 1.2 Responses \n",
    "\n",
    "The participants need to _name_ the pictures, meaning that the responses will consist of a voice key. I tried to figure out how to do this, but wasn't able to. Instead, I used _sound device_ to record what the participants say for a fixed time, and then extract the reaction times like this:"
   ]
  },
  {
   "cell_type": "code",
   "execution_count": 5,
   "metadata": {
    "scrolled": true
   },
   "outputs": [],
   "source": [
    "path = 'C:/Users/saski/mpi-python-intro/Session6/recordings/' #Define the right directory\n",
    "os.chdir(path)\n",
    "\n",
    "rec = [] #Create an empty list for recordings\n",
    "\n",
    "listRec = os.listdir('.') \n",
    "\n",
    "#Create a list of all the .wav files in the directory\n",
    "for file in listRec:\n",
    "    if file.endswith('.wav'):\n",
    "         rec.append(file)\n",
    "\n",
    "RTs = []\n",
    "for files in rec:\n",
    "    recordings, samplerate = sf.read(files) #Read all .wav files \n",
    "    energy = np.square(recordings) #create a variable \"energy\" of the squared recordings-array\n",
    "    Emax = np.max(energy)\n",
    "    energyNorm = (energy/Emax) #Normalize these values\n",
    "    index = [index for index, value in enumerate(energyNorm) if value > 0.2] #Ok so this is quite unprecise and while there are multiple solutions to this problem (e.g., comparing multiple indices, getting rid of noise beforehand) , for this exercise I will keep it like this. \n",
    "    RT = index[0]/samplerate #This is the reaction time\n",
    "    RTs.append(RT)\n",
    "    #print(RT) #Sanity check\n"
   ]
  },
  {
   "cell_type": "markdown",
   "metadata": {},
   "source": [
    "## 2.0 Plot the data \n",
    "After skipping some things I couldn't figure out (i.e., saving the data in the right format)..:"
   ]
  },
  {
   "cell_type": "code",
   "execution_count": 6,
   "metadata": {},
   "outputs": [
    {
     "data": {
      "text/html": [
       "<div>\n",
       "<style scoped>\n",
       "    .dataframe tbody tr th:only-of-type {\n",
       "        vertical-align: middle;\n",
       "    }\n",
       "\n",
       "    .dataframe tbody tr th {\n",
       "        vertical-align: top;\n",
       "    }\n",
       "\n",
       "    .dataframe thead th {\n",
       "        text-align: right;\n",
       "    }\n",
       "</style>\n",
       "<table border=\"1\" class=\"dataframe\">\n",
       "  <thead>\n",
       "    <tr style=\"text-align: right;\">\n",
       "      <th></th>\n",
       "      <th>Item</th>\n",
       "      <th>Lang</th>\n",
       "      <th>Switch</th>\n",
       "      <th>Ptc</th>\n",
       "      <th>RT</th>\n",
       "    </tr>\n",
       "  </thead>\n",
       "  <tbody>\n",
       "    <tr>\n",
       "      <th>0</th>\n",
       "      <td>brush</td>\n",
       "      <td>en</td>\n",
       "      <td>no</td>\n",
       "      <td>1</td>\n",
       "      <td>844.500000</td>\n",
       "    </tr>\n",
       "    <tr>\n",
       "      <th>1</th>\n",
       "      <td>saw</td>\n",
       "      <td>en</td>\n",
       "      <td>no</td>\n",
       "      <td>1</td>\n",
       "      <td>952.958333</td>\n",
       "    </tr>\n",
       "    <tr>\n",
       "      <th>2</th>\n",
       "      <td>button</td>\n",
       "      <td>en</td>\n",
       "      <td>no</td>\n",
       "      <td>1</td>\n",
       "      <td>859.833333</td>\n",
       "    </tr>\n",
       "    <tr>\n",
       "      <th>3</th>\n",
       "      <td>balloon</td>\n",
       "      <td>nl</td>\n",
       "      <td>yes</td>\n",
       "      <td>1</td>\n",
       "      <td>1156.458333</td>\n",
       "    </tr>\n",
       "    <tr>\n",
       "      <th>4</th>\n",
       "      <td>mask</td>\n",
       "      <td>nl</td>\n",
       "      <td>no</td>\n",
       "      <td>1</td>\n",
       "      <td>1227.270833</td>\n",
       "    </tr>\n",
       "  </tbody>\n",
       "</table>\n",
       "</div>"
      ],
      "text/plain": [
       "      Item Lang Switch  Ptc           RT\n",
       "0    brush   en     no    1   844.500000\n",
       "1      saw   en     no    1   952.958333\n",
       "2   button   en     no    1   859.833333\n",
       "3  balloon   nl    yes    1  1156.458333\n",
       "4     mask   nl     no    1  1227.270833"
      ]
     },
     "execution_count": 6,
     "metadata": {},
     "output_type": "execute_result"
    }
   ],
   "source": [
    "path = 'C:/Users/saski/mpi-python-intro/Session6/data/' #Define the right directory\n",
    "os.chdir(path)\n",
    "data = pd.read_excel('RT.xlsx') #Read excel\n",
    "data.head() #See what data look like"
   ]
  },
  {
   "cell_type": "code",
   "execution_count": 7,
   "metadata": {},
   "outputs": [
    {
     "data": {
      "text/plain": [
       "<matplotlib.axes._subplots.AxesSubplot at 0x1bb2fb67c88>"
      ]
     },
     "execution_count": 7,
     "metadata": {},
     "output_type": "execute_result"
    },
    {
     "data": {
      "image/png": "[encoded data removed]",
      "text/plain": [
       "<Figure size 432x288 with 1 Axes>"
      ]
     },
     "metadata": {},
     "output_type": "display_data"
    }
   ],
   "source": [
    "#Plot the data to first see the effects of participant\n",
    "sns.barplot(x = 'Ptc', y = 'RT', data = data)"
   ]
  },
  {
   "cell_type": "code",
   "execution_count": 8,
   "metadata": {},
   "outputs": [
    {
     "data": {
      "text/plain": [
       "<matplotlib.axes._subplots.AxesSubplot at 0x1bb2fc56748>"
      ]
     },
     "execution_count": 8,
     "metadata": {},
     "output_type": "execute_result"
    },
    {
     "data": {
      "image/png": "[encoded data removed]",
      "text/plain": [
       "<Figure size 432x288 with 1 Axes>"
      ]
     },
     "metadata": {},
     "output_type": "display_data"
    }
   ],
   "source": [
    "#Plot the data to see the effects of language\n",
    "sns.barplot(x = 'Lang', y = 'RT', data = data)"
   ]
  },
  {
   "cell_type": "code",
   "execution_count": 9,
   "metadata": {},
   "outputs": [
    {
     "data": {
      "text/plain": [
       "<matplotlib.axes._subplots.AxesSubplot at 0x1bb2fcc1908>"
      ]
     },
     "execution_count": 9,
     "metadata": {},
     "output_type": "execute_result"
    },
    {
     "data": {
      "image/png": "[encoded data removed]",
      "text/plain": [
       "<Figure size 432x288 with 1 Axes>"
      ]
     },
     "metadata": {},
     "output_type": "display_data"
    }
   ],
   "source": [
    "#Plot the data to see the effects of switching\n",
    "sns.barplot(x = 'Switch', y = 'RT', data = data)"
   ]
  },
  {
   "cell_type": "markdown",
   "metadata": {},
   "source": [
    "From the plots it appears that participant 1 is slowest to respond to the pictures, followed by participant 2 and 3. The two languages are responded to equally fast, while participants take longer to respond to the switch trials."
   ]
  },
  {
   "cell_type": "markdown",
   "metadata": {},
   "source": [
    "## 3.0 \"Analyze\" the data\n",
    "The last step is to analyze the data using _scitkit_. "
   ]
  },
  {
   "cell_type": "code",
   "execution_count": 10,
   "metadata": {},
   "outputs": [
    {
     "data": {
      "text/html": [
       "<div>\n",
       "<style scoped>\n",
       "    .dataframe tbody tr th:only-of-type {\n",
       "        vertical-align: middle;\n",
       "    }\n",
       "\n",
       "    .dataframe tbody tr th {\n",
       "        vertical-align: top;\n",
       "    }\n",
       "\n",
       "    .dataframe thead th {\n",
       "        text-align: right;\n",
       "    }\n",
       "</style>\n",
       "<table border=\"1\" class=\"dataframe\">\n",
       "  <thead>\n",
       "    <tr style=\"text-align: right;\">\n",
       "      <th></th>\n",
       "      <th>Item</th>\n",
       "      <th>Ptc</th>\n",
       "      <th>RT</th>\n",
       "      <th>Switch_no</th>\n",
       "      <th>Switch_yes</th>\n",
       "      <th>Lang_en</th>\n",
       "      <th>Lang_nl</th>\n",
       "    </tr>\n",
       "  </thead>\n",
       "  <tbody>\n",
       "    <tr>\n",
       "      <th>0</th>\n",
       "      <td>brush</td>\n",
       "      <td>1</td>\n",
       "      <td>844.500000</td>\n",
       "      <td>1</td>\n",
       "      <td>0</td>\n",
       "      <td>1</td>\n",
       "      <td>0</td>\n",
       "    </tr>\n",
       "    <tr>\n",
       "      <th>1</th>\n",
       "      <td>saw</td>\n",
       "      <td>1</td>\n",
       "      <td>952.958333</td>\n",
       "      <td>1</td>\n",
       "      <td>0</td>\n",
       "      <td>1</td>\n",
       "      <td>0</td>\n",
       "    </tr>\n",
       "    <tr>\n",
       "      <th>2</th>\n",
       "      <td>button</td>\n",
       "      <td>1</td>\n",
       "      <td>859.833333</td>\n",
       "      <td>1</td>\n",
       "      <td>0</td>\n",
       "      <td>1</td>\n",
       "      <td>0</td>\n",
       "    </tr>\n",
       "    <tr>\n",
       "      <th>3</th>\n",
       "      <td>balloon</td>\n",
       "      <td>1</td>\n",
       "      <td>1156.458333</td>\n",
       "      <td>0</td>\n",
       "      <td>1</td>\n",
       "      <td>0</td>\n",
       "      <td>1</td>\n",
       "    </tr>\n",
       "    <tr>\n",
       "      <th>4</th>\n",
       "      <td>mask</td>\n",
       "      <td>1</td>\n",
       "      <td>1227.270833</td>\n",
       "      <td>1</td>\n",
       "      <td>0</td>\n",
       "      <td>0</td>\n",
       "      <td>1</td>\n",
       "    </tr>\n",
       "  </tbody>\n",
       "</table>\n",
       "</div>"
      ],
      "text/plain": [
       "      Item  Ptc           RT  Switch_no  Switch_yes  Lang_en  Lang_nl\n",
       "0    brush    1   844.500000          1           0        1        0\n",
       "1      saw    1   952.958333          1           0        1        0\n",
       "2   button    1   859.833333          1           0        1        0\n",
       "3  balloon    1  1156.458333          0           1        0        1\n",
       "4     mask    1  1227.270833          1           0        0        1"
      ]
     },
     "execution_count": 10,
     "metadata": {},
     "output_type": "execute_result"
    }
   ],
   "source": [
    "#Regression models here need the predictors to be numeric, so:\n",
    "data = pd.read_excel('RT.xlsx') #Read excel\n",
    "dataNum = pd.get_dummies(data, columns = ['Switch', 'Lang'])\n",
    "dataNum.head() #Check"
   ]
  },
  {
   "cell_type": "code",
   "execution_count": 12,
   "metadata": {},
   "outputs": [
    {
     "name": "stdout",
     "output_type": "stream",
     "text": [
      "The R squared of model 1 is 0.01478226387603665\n"
     ]
    }
   ],
   "source": [
    "#Using linear regression, first model\n",
    "\n",
    "x = dataNum[['Switch_yes']]\n",
    "y = dataNum['RT']\n",
    "model1 = linear_model.LinearRegression()\n",
    "model1.fit(x, y)\n",
    "y_predicted = model1.predict(x)\n",
    "r2 = r2_score(y, y_predicted)\n",
    "print(f'The R squared of model 1 is {r2}')\n"
   ]
  },
  {
   "cell_type": "code",
   "execution_count": 13,
   "metadata": {},
   "outputs": [
    {
     "name": "stdout",
     "output_type": "stream",
     "text": [
      "The R squared of model 2 is 0.08476025577048929\n"
     ]
    }
   ],
   "source": [
    "#Second model\n",
    "x = dataNum[['Switch_yes', 'Ptc']]\n",
    "y = dataNum['RT']\n",
    "model2 = linear_model.LinearRegression()\n",
    "model2.fit(x, y)\n",
    "y_predicted = model2.predict(x)\n",
    "r2 = r2_score(y, y_predicted)\n",
    "print(f'The R squared of model 2 is {r2}')"
   ]
  },
  {
   "cell_type": "code",
   "execution_count": 14,
   "metadata": {},
   "outputs": [
    {
     "name": "stdout",
     "output_type": "stream",
     "text": [
      "The R squared of the final model is 0.08973019024724771\n"
     ]
    }
   ],
   "source": [
    "#Final model\n",
    "\n",
    "x = dataNum[['Switch_yes', 'Ptc', 'Lang_en']]\n",
    "y = dataNum['RT']\n",
    "model3 = linear_model.LinearRegression()\n",
    "model3.fit(x, y)\n",
    "y_predicted = model3.predict(x)\n",
    "r2 = r2_score(y, y_predicted)\n",
    "print(f'The R squared of the final model is {r2}')"
   ]
  },
  {
   "cell_type": "markdown",
   "metadata": {},
   "source": [
    "#### Conclusion: we might need more data of  more participants to evaluate the effects of switching between languages in a picture naming task..."
   ]
  }
 ],
 "metadata": {
  "kernelspec": {
   "display_name": "Python 3",
   "language": "python",
   "name": "python3"
  },
  "language_info": {
   "codemirror_mode": {
    "name": "ipython",
    "version": 3
   },
   "file_extension": ".py",
   "mimetype": "text/x-python",
   "name": "python",
   "nbconvert_exporter": "python",
   "pygments_lexer": "ipython3",
   "version": "3.6.5"
  }
 },
 "nbformat": 4,
 "nbformat_minor": 2
}
