{
 "cells": [
  {
   "cell_type": "markdown",
   "metadata": {},
   "source": [
    "# Final assignment \n",
    "## Language switching experiment\n",
    "\n",
    "### Things to do:\n",
    "- Create a _PsychoPy experiment_ to collect _response time_ data\n",
    "- Store the RTs and accuracy in a _csv file_\n",
    "- _Plot_ the data using seaborn\n",
    "- _Analyze_ the data using PyMC3 or Statsmodels\n",
    "- __Commit__ all of your changes regularly "
   ]
  },
  {
   "cell_type": "markdown",
   "metadata": {},
   "source": [
    "## 1. Creating the experiment\n",
    "### 1.1. Stimuli\n",
    "\n",
    "The stimuli will consist of pictures, presented on one side of the screen. When a pictures is presented on the _left_ side of the screen, the picture needs to be named in L1. When a picture is presented on the _right_ side of the screen, the picture needs to be named in the L2. \n",
    "\n",
    "So, for the stimuli I need pictures stored in a separate subfolder. "
   ]
  },
  {
   "cell_type": "code",
   "execution_count": 1,
   "metadata": {},
   "outputs": [],
   "source": [
    "from PIL import Image"
   ]
  },
  {
   "cell_type": "markdown",
   "metadata": {},
   "source": [
    "Now, create a Psychopy experiment. I created a file called `switch.py`. First of all, to open a window:"
   ]
  },
  {
   "cell_type": "code",
   "execution_count": 10,
   "metadata": {},
   "outputs": [
    {
     "data": {
      "text/plain": [
       "\"\\nfrom psychopy import core, visual, event \\nwin = visual.Window(color = 'white', fullscr = True) #Open a window with a white background, full screen instead of pixels \\ncore.wait(5)  # wait for 5 seconds so we can look at the window\\nwin.close()  # close the window\\n\""
      ]
     },
     "execution_count": 10,
     "metadata": {},
     "output_type": "execute_result"
    }
   ],
   "source": [
    "'''\n",
    "from psychopy import core, visual, event \n",
    "win = visual.Window(color = 'white', fullscr = True) #Open a window with a white background, full screen instead of pixels \n",
    "core.wait(5)  \n",
    "win.close()  \n",
    "'''"
   ]
  },
  {
   "cell_type": "markdown",
   "metadata": {},
   "source": [
    "I would like to include an introduction screen with written instructions for the participants. "
   ]
  },
  {
   "cell_type": "code",
   "execution_count": null,
   "metadata": {},
   "outputs": [],
   "source": [
    "import subprocess as sp\n",
    "\n",
    "sp.run(['python', 'switch.py'])"
   ]
  },
  {
   "cell_type": "markdown",
   "metadata": {},
   "source": [
    "### 1.2 Responses \n",
    "\n",
    "The participants need to _name_ the pictures, meaning that the responses will consist of a voice key. Figure out how to do this __here__. However, the first step is probably importing _sound device_, as this can be used to record voices. "
   ]
  },
  {
   "cell_type": "code",
   "execution_count": null,
   "metadata": {},
   "outputs": [],
   "source": [
    "import sounddevice as sd"
   ]
  }
 ],
 "metadata": {
  "kernelspec": {
   "display_name": "Python 3",
   "language": "python",
   "name": "python3"
  },
  "language_info": {
   "codemirror_mode": {
    "name": "ipython",
    "version": 3
   },
   "file_extension": ".py",
   "mimetype": "text/x-python",
   "name": "python",
   "nbconvert_exporter": "python",
   "pygments_lexer": "ipython3",
   "version": "3.6.5"
  }
 },
 "nbformat": 4,
 "nbformat_minor": 2
}
