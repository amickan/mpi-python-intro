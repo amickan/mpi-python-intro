{
 "cells": [
  {
   "cell_type": "markdown",
   "metadata": {},
   "source": [
    "# Final assignment \n",
    "## Language switching experiment\n",
    "\n",
    "### Things to do:\n",
    "- Create a _PsychoPy experiment_ to collect _response time_ data\n",
    "- Store the RTs and accuracy in a _csv file_\n",
    "- _Plot_ the data using seaborn\n",
    "- _Analyze_ the data using PyMC3 or Statsmodels\n",
    "- __Commit__ all of your changes regularly "
   ]
  },
  {
   "cell_type": "markdown",
   "metadata": {},
   "source": [
    "## 1. Creating the experiment\n",
    "### 1.1. Stimuli\n",
    "\n",
    "The stimuli will consist of pictures, presented on one side of the screen. When a pictures is presented on the _left_ side of the screen, the picture needs to be named in L1. When a picture is presented on the _right_ side of the screen, the picture needs to be named in the L2. \n",
    "\n",
    "The stimuli are taken from the MultiPic project (Duñabeitia, J. A., Crepaldi, D., Meyer, A. S., New, B., Pliatsikas, C., Smolka, E., & Brysbaert, M. (2018). MultiPic: A standardized set of 750 drawings with norms for six European languages. Quarterly Journal of Experimental Psychology, 71(4), 808–816. https://doi.org/10.1080/17470218.2017.1310261). \n"
   ]
  },
  {
   "cell_type": "markdown",
   "metadata": {},
   "source": [
    "Then I created a PsychoPy experiment called `switch.py`. First of all, to open a window:"
   ]
  },
  {
   "cell_type": "code",
   "execution_count": 10,
   "metadata": {},
   "outputs": [
    {
     "data": {
      "text/plain": [
       "\"\\nfrom psychopy import core, visual, event \\nwin = visual.Window(color = 'white', fullscr = True) #Open a window with a white background, full screen instead of pixels \\ncore.wait(5)  # wait for 5 seconds so we can look at the window\\nwin.close()  # close the window\\n\""
      ]
     },
     "execution_count": 10,
     "metadata": {},
     "output_type": "execute_result"
    }
   ],
   "source": [
    "'''\n",
    "from psychopy import core, visual, event \n",
    "win = visual.Window(color = 'white', fullscr = True) #Open a window with a white background, full screen instead of pixels \n",
    "core.wait(5)  \n",
    "win.close()  \n",
    "'''"
   ]
  },
  {
   "cell_type": "markdown",
   "metadata": {},
   "source": [
    "I would like to include an introduction screen with written instructions for the participants. I did this using separate commands:"
   ]
  },
  {
   "cell_type": "code",
   "execution_count": null,
   "metadata": {},
   "outputs": [],
   "source": [
    "'''\n",
    "# prepare a text stimulus\n",
    "text = visual.TextStim(win, text='Welcome to this experiment', color='Black', font = 'arial')\n",
    "text.draw()  # draw the stimulus to the back buffer\n",
    "win.flip()  # flip the back buffer with our stimulus to the front\n",
    "core.wait(5)  # wait     \n",
    "\n",
    "text.setText('In this experiment, you will get to see pictures. Your task is to name the pictures as quickly as possible.')\n",
    "text.draw()  # draw to back buffer again\n",
    "win.flip()\n",
    "core.wait(8)  # wait for 8 seconds so we can look at the window with our text\n",
    "    \n",
    "text.setText('However, there is a catch.')\n",
    "text.draw() \n",
    "win.flip()\n",
    "core.wait(5)  \n",
    "    \n",
    "etc.\n",
    "'''"
   ]
  },
  {
   "cell_type": "markdown",
   "metadata": {},
   "source": [
    "But then converted it into a function. Also, instead of having a fixed amount of time to read it, I tried to have participants press a key to continue:"
   ]
  },
  {
   "cell_type": "code",
   "execution_count": null,
   "metadata": {},
   "outputs": [],
   "source": [
    "'''\n",
    "#Function for instruction test\n",
    "def instr(win, myText):\n",
    "    text.setText(myText)\n",
    "    text.draw()  # draw to back buffer again\n",
    "    win.flip()\n",
    "    return\n",
    "\n",
    "#Function to present the instruction text and to continue \n",
    "def presentInstr(win, myText):\n",
    "    event.clearEvents()\n",
    "    while len(event.getKeys())==0:\n",
    "        instr(win, myText)\n",
    "    return\n",
    "\n",
    "presentInstr(win, 'Welcome to this experiment.\\n\\nPress any key to continue.')"
   ]
  },
  {
   "cell_type": "markdown",
   "metadata": {},
   "source": [
    "Now, the actual stimuli need to be presented. There are _seven_ (or more) pictures that need to be presented on the left or right side of the screen. Pictures on the left side need to be named in English and are therefore the \"EN-trials\". Pictures on the right side of the screen will need to be named in Dutch (i.e., all other trials). The pictures need to stay on the screen for as long as it takes to name them. This, however, is something I will try in the subsequent part of the assignment. Therefore:"
   ]
  },
  {
   "cell_type": "code",
   "execution_count": null,
   "metadata": {},
   "outputs": [],
   "source": [
    "#Function for generating the trials\n",
    "'''\n",
    "def trial(win, pict, lang):\n",
    "    if lang == 'EN': \n",
    "        LeftIm.setImage(pict)\n",
    "        LeftIm.draw()\n",
    "    else:\n",
    "        #i.e., the Dutch trials \n",
    "        RightIm.setImage(pict)\n",
    "        RightIm.draw() \n",
    "        \n",
    "    win.flip()\n",
    "    core.wait(2) #core.wait is until I figure the voicekey out\n",
    "    return\n",
    "'''"
   ]
  },
  {
   "cell_type": "markdown",
   "metadata": {},
   "source": [
    "### 1.2 Responses \n",
    "\n",
    "The participants need to _name_ the pictures, meaning that the responses will consist of a voice key. I tried to figure out how to do this, but wasn't able to. Instead, I used _sound device_ to record what the participants say for a fixed time, and then extract the reaction times later."
   ]
  },
  {
   "cell_type": "markdown",
   "metadata": {},
   "source": [
    "### 1.3 Saving the results\n",
    "\n",
    "Firstly, I'd like to get some participant information, which they can fill in in an dialogue box (`dlg`). This dialogue box is presented to the participant. "
   ]
  },
  {
   "cell_type": "code",
   "execution_count": null,
   "metadata": {},
   "outputs": [],
   "source": [
    "'''\n",
    "#Information on the experiment session\n",
    "expName = 'Switch_experiment'\n",
    "expInfo = {'Participant': '', 'Gender':'', 'Age': ''}\n",
    "dlg = gui.DlgFromDict(dictionary = expInfo, title = expName)\n",
    "if dlg.OK == False:\n",
    "    core.quit() #Participant pressed cancel\n",
    "expInfo['date'] = data.getDateStr() #add a simple timestamp\n",
    "expInfo['expName'] = expName\n",
    "'''"
   ]
  },
  {
   "cell_type": "markdown",
   "metadata": {},
   "source": [
    "After each trial, a `.txt` file is created to log the experiment:"
   ]
  },
  {
   "cell_type": "code",
   "execution_count": 2,
   "metadata": {},
   "outputs": [
    {
     "data": {
      "text/plain": [
       "\"\\n#Save log file\\nlogFile = logging.LogFile(filename + '.log', level = logging.EXP)\\nlogging.console.setLevel(logging.WARNING) #this outputs to the screen, not a file\\n\""
      ]
     },
     "execution_count": 2,
     "metadata": {},
     "output_type": "execute_result"
    }
   ],
   "source": [
    "'''\n",
    "#Save log file\n",
    "logFile = logging.LogFile(filename + '.log', level = logging.EXP)\n",
    "logging.console.setLevel(logging.WARNING) #this outputs to the screen, not a file\n",
    "'''"
   ]
  },
  {
   "cell_type": "markdown",
   "metadata": {},
   "source": [
    "The recordings need to be saved, and apparantly this is piece of code needs to be run before the window creation:"
   ]
  },
  {
   "cell_type": "code",
   "execution_count": 5,
   "metadata": {
    "scrolled": true
   },
   "outputs": [
    {
     "data": {
      "text/plain": [
       "'C:\\\\Users\\\\saski\\\\mpi-python-intro\\\\Session6'"
      ]
     },
     "execution_count": 5,
     "metadata": {},
     "output_type": "execute_result"
    }
   ],
   "source": [
    "import os\n",
    "os.getcwd()"
   ]
  },
  {
   "cell_type": "markdown",
   "metadata": {},
   "source": [
    "### 1.4 Try it out"
   ]
  },
  {
   "cell_type": "code",
   "execution_count": 18,
   "metadata": {},
   "outputs": [
    {
     "data": {
      "text/plain": [
       "CompletedProcess(args=['python', 'switch.py'], returncode=0)"
      ]
     },
     "execution_count": 18,
     "metadata": {},
     "output_type": "execute_result"
    }
   ],
   "source": [
    "#Try it out\n",
    "import subprocess as sp\n",
    "\n",
    "sp.run(['python', 'switch.py'])"
   ]
  },
  {
   "cell_type": "markdown",
   "metadata": {},
   "source": [
    "## 2.0 Plot the data "
   ]
  },
  {
   "cell_type": "markdown",
   "metadata": {},
   "source": [
    "## 3.0 \"Analyze\" the data"
   ]
  }
 ],
 "metadata": {
  "kernelspec": {
   "display_name": "Python 3",
   "language": "python",
   "name": "python3"
  },
  "language_info": {
   "codemirror_mode": {
    "name": "ipython",
    "version": 3
   },
   "file_extension": ".py",
   "mimetype": "text/x-python",
   "name": "python",
   "nbconvert_exporter": "python",
   "pygments_lexer": "ipython3",
   "version": "3.6.5"
  }
 },
 "nbformat": 4,
 "nbformat_minor": 2
}
