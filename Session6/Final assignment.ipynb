{
 "cells": [
  {
   "cell_type": "markdown",
   "metadata": {},
   "source": [
    "# Final assignment \n",
    "## Language switching experiment\n",
    "\n",
    "### Things to do:\n",
    "- Create a _PsychoPy experiment_ to collect _response time_ data\n",
    "- Store the RTs and accuracy in a _csv file_\n",
    "- _Plot_ the data using seaborn\n",
    "- _Analyze_ the data using PyMC3 or Statsmodels\n",
    "- __Commit__ all of your changes regularly "
   ]
  },
  {
   "cell_type": "markdown",
   "metadata": {},
   "source": [
    "## 0. Import all necessary libraries\n",
    "Import sounddevice ad given in the _hints_ file"
   ]
  },
  {
   "cell_type": "code",
   "execution_count": 1,
   "metadata": {},
   "outputs": [
    {
     "name": "stdout",
     "output_type": "stream",
     "text": [
      "pygame 1.9.4\n",
      "Hello from the pygame community. https://www.pygame.org/contribute.html\n"
     ]
    }
   ],
   "source": [
    "import sounddevice as sd\n",
    "import soundfile as sf\n",
    "from psychopy import prefs\n",
    "prefs.general['audioLib'] = ['pygame']\n",
    "from psychopy import core, visual, event, gui, data, clock, logging\n",
    "from psychopy.tools.filetools import fromFile, toFile\n",
    "from psychopy.constants import (NOT_STARTED, STARTED, PLAYING, PAUSED, STOPPED, FINISHED, PRESSED, RELEASED, FOREVER)\n",
    "import numpy as np\n",
    "import os \n",
    "import sys\n",
    "import pandas as pd\n",
    "import seaborn as sns\n",
    "import csv"
   ]
  },
  {
   "cell_type": "markdown",
   "metadata": {},
   "source": [
    "## 1. Creating the experiment\n",
    "### 1.1. Stimuli\n",
    "\n",
    "The stimuli will consist of pictures, presented on one side of the screen. When a pictures is presented on the _left_ side of the screen, the picture needs to be named in L1. When a picture is presented on the _right_ side of the screen, the picture needs to be named in the L2. \n",
    "\n",
    "The stimuli are taken from the MultiPic project (Duñabeitia, J. A., Crepaldi, D., Meyer, A. S., New, B., Pliatsikas, C., Smolka, E., & Brysbaert, M. (2018). MultiPic: A standardized set of 750 drawings with norms for six European languages. Quarterly Journal of Experimental Psychology, 71(4), 808–816. https://doi.org/10.1080/17470218.2017.1310261). \n"
   ]
  },
  {
   "cell_type": "markdown",
   "metadata": {},
   "source": [
    "Then I created a PsychoPy experiment called `switch.py`. First of all, to open a window:"
   ]
  },
  {
   "cell_type": "code",
   "execution_count": 10,
   "metadata": {},
   "outputs": [
    {
     "data": {
      "text/plain": [
       "\"\\nfrom psychopy import core, visual, event \\nwin = visual.Window(color = 'white', fullscr = True) #Open a window with a white background, full screen instead of pixels \\ncore.wait(5)  # wait for 5 seconds so we can look at the window\\nwin.close()  # close the window\\n\""
      ]
     },
     "execution_count": 10,
     "metadata": {},
     "output_type": "execute_result"
    }
   ],
   "source": [
    "'''\n",
    "from psychopy import core, visual, event \n",
    "win = visual.Window(color = 'white', fullscr = True) #Open a window with a white background, full screen instead of pixels \n",
    "core.wait(5)  \n",
    "win.close()  \n",
    "'''"
   ]
  },
  {
   "cell_type": "markdown",
   "metadata": {},
   "source": [
    "I would like to include an introduction screen with written instructions for the participants. I did this using separate commands:"
   ]
  },
  {
   "cell_type": "code",
   "execution_count": null,
   "metadata": {},
   "outputs": [],
   "source": [
    "'''\n",
    "# prepare a text stimulus\n",
    "text = visual.TextStim(win, text='Welcome to this experiment', color='Black', font = 'arial')\n",
    "text.draw()  # draw the stimulus to the back buffer\n",
    "win.flip()  # flip the back buffer with our stimulus to the front\n",
    "core.wait(5)  # wait     \n",
    "\n",
    "text.setText('In this experiment, you will get to see pictures. Your task is to name the pictures as quickly as possible.')\n",
    "text.draw()  # draw to back buffer again\n",
    "win.flip()\n",
    "core.wait(8)  # wait for 8 seconds so we can look at the window with our text\n",
    "    \n",
    "text.setText('However, there is a catch.')\n",
    "text.draw() \n",
    "win.flip()\n",
    "core.wait(5)  \n",
    "    \n",
    "etc.\n",
    "'''"
   ]
  },
  {
   "cell_type": "markdown",
   "metadata": {},
   "source": [
    "But then converted it into a function. Also, instead of having a fixed amount of time to read it, I tried to have participants press a key to continue:"
   ]
  },
  {
   "cell_type": "code",
   "execution_count": null,
   "metadata": {},
   "outputs": [],
   "source": [
    "'''\n",
    "#Function for instruction test\n",
    "def instr(win, myText):\n",
    "    text.setText(myText)\n",
    "    text.draw()  # draw to back buffer again\n",
    "    win.flip()\n",
    "    return\n",
    "\n",
    "#Function to present the instruction text and to continue \n",
    "def presentInstr(win, myText):\n",
    "    event.clearEvents()\n",
    "    while len(event.getKeys())==0:\n",
    "        instr(win, myText)\n",
    "    return\n",
    "\n",
    "presentInstr(win, 'Welcome to this experiment.\\n\\nPress any key to continue.')"
   ]
  },
  {
   "cell_type": "markdown",
   "metadata": {},
   "source": [
    "Now, the actual stimuli need to be presented. There are _seven_ (or more) pictures that need to be presented on the left or right side of the screen. Pictures on the left side need to be named in English and are therefore the \"EN-trials\". Pictures on the right side of the screen will need to be named in Dutch (i.e., all other trials). The pictures need to stay on the screen for as long as it takes to name them. This, however, is something I will try in the subsequent part of the assignment. Therefore:"
   ]
  },
  {
   "cell_type": "code",
   "execution_count": null,
   "metadata": {},
   "outputs": [],
   "source": [
    "#Function for generating the trials\n",
    "'''\n",
    "def trial(win, pict, lang):\n",
    "    if lang == 'EN': \n",
    "        LeftIm.setImage(pict)\n",
    "        LeftIm.draw()\n",
    "    else:\n",
    "        #i.e., the Dutch trials \n",
    "        RightIm.setImage(pict)\n",
    "        RightIm.draw() \n",
    "        \n",
    "    win.flip()\n",
    "    core.wait(2) #core.wait is until I figure the voicekey out\n",
    "    return\n",
    "'''"
   ]
  },
  {
   "cell_type": "code",
   "execution_count": 4,
   "metadata": {},
   "outputs": [
    {
     "name": "stdout",
     "output_type": "stream",
     "text": [
      "1163.0896 \tERROR \tCouldn't find image stimuli/1.png; check path? (tried: C:\\Users\\saski\\mpi-python-intro\\Session6\\recordings\\stimuli\\1.png)\n"
     ]
    },
    {
     "ename": "OSError",
     "evalue": "Couldn't find image stimuli/1.png; check path? (tried: C:\\Users\\saski\\mpi-python-intro\\Session6\\recordings\\stimuli\\1.png)",
     "output_type": "error",
     "traceback": [
      "\u001b[1;31m---------------------------------------------------------------------------\u001b[0m",
      "\u001b[1;31mOSError\u001b[0m                                   Traceback (most recent call last)",
      "\u001b[1;32m<ipython-input-4-8825b7ce6a34>\u001b[0m in \u001b[0;36m<module>\u001b[1;34m()\u001b[0m\n\u001b[0;32m     99\u001b[0m \u001b[1;31m###EXPERIMENT###\u001b[0m\u001b[1;33m\u001b[0m\u001b[1;33m\u001b[0m\u001b[0m\n\u001b[0;32m    100\u001b[0m \u001b[1;31m#This can probably be done in a better way\u001b[0m\u001b[1;33m\u001b[0m\u001b[1;33m\u001b[0m\u001b[0m\n\u001b[1;32m--> 101\u001b[1;33m \u001b[0mtrial\u001b[0m\u001b[1;33m(\u001b[0m\u001b[0mwin\u001b[0m\u001b[1;33m,\u001b[0m \u001b[1;34mu'stimuli/1.png'\u001b[0m\u001b[1;33m,\u001b[0m \u001b[1;34m'EN'\u001b[0m\u001b[1;33m,\u001b[0m \u001b[1;34mu'recordings/%s_1.wav'\u001b[0m \u001b[1;33m%\u001b[0m \u001b[1;33m(\u001b[0m\u001b[0mexpInfo\u001b[0m\u001b[1;33m[\u001b[0m\u001b[1;34m'Participant'\u001b[0m\u001b[1;33m]\u001b[0m\u001b[1;33m)\u001b[0m\u001b[1;33m)\u001b[0m \u001b[1;31m#Added directories to save it in a separate folder\u001b[0m\u001b[1;33m\u001b[0m\u001b[0m\n\u001b[0m\u001b[0;32m    102\u001b[0m \u001b[0mtrial\u001b[0m\u001b[1;33m(\u001b[0m\u001b[0mwin\u001b[0m\u001b[1;33m,\u001b[0m \u001b[1;34mu'stimuli/2.png'\u001b[0m\u001b[1;33m,\u001b[0m \u001b[1;34m'EN'\u001b[0m\u001b[1;33m,\u001b[0m \u001b[1;34mu'recordings/%s_2.wav'\u001b[0m \u001b[1;33m%\u001b[0m \u001b[1;33m(\u001b[0m\u001b[0mexpInfo\u001b[0m\u001b[1;33m[\u001b[0m\u001b[1;34m'Participant'\u001b[0m\u001b[1;33m]\u001b[0m\u001b[1;33m)\u001b[0m\u001b[1;33m)\u001b[0m\u001b[1;33m\u001b[0m\u001b[0m\n\u001b[0;32m    103\u001b[0m \u001b[0mtrial\u001b[0m\u001b[1;33m(\u001b[0m\u001b[0mwin\u001b[0m\u001b[1;33m,\u001b[0m \u001b[1;34mu'stimuli/3.png'\u001b[0m\u001b[1;33m,\u001b[0m\u001b[1;34m'EN'\u001b[0m\u001b[1;33m,\u001b[0m \u001b[1;34mu'recordings/%s_3.wav'\u001b[0m \u001b[1;33m%\u001b[0m \u001b[1;33m(\u001b[0m\u001b[0mexpInfo\u001b[0m\u001b[1;33m[\u001b[0m\u001b[1;34m'Participant'\u001b[0m\u001b[1;33m]\u001b[0m\u001b[1;33m)\u001b[0m\u001b[1;33m)\u001b[0m\u001b[1;33m\u001b[0m\u001b[0m\n",
      "\u001b[1;32m<ipython-input-4-8825b7ce6a34>\u001b[0m in \u001b[0;36mtrial\u001b[1;34m(win, pict, lang, sound)\u001b[0m\n\u001b[0;32m     71\u001b[0m     \u001b[0mtrialClock\u001b[0m\u001b[1;33m.\u001b[0m\u001b[0mreset\u001b[0m\u001b[1;33m(\u001b[0m\u001b[1;33m)\u001b[0m\u001b[1;33m\u001b[0m\u001b[0m\n\u001b[0;32m     72\u001b[0m     \u001b[1;32mif\u001b[0m \u001b[0mlang\u001b[0m \u001b[1;33m==\u001b[0m \u001b[1;34m'EN'\u001b[0m\u001b[1;33m:\u001b[0m\u001b[1;33m\u001b[0m\u001b[0m\n\u001b[1;32m---> 73\u001b[1;33m         \u001b[0mLeftIm\u001b[0m\u001b[1;33m.\u001b[0m\u001b[0msetImage\u001b[0m\u001b[1;33m(\u001b[0m\u001b[0mpict\u001b[0m\u001b[1;33m)\u001b[0m\u001b[1;33m\u001b[0m\u001b[0m\n\u001b[0m\u001b[0;32m     74\u001b[0m         \u001b[0mLeftIm\u001b[0m\u001b[1;33m.\u001b[0m\u001b[0mdraw\u001b[0m\u001b[1;33m(\u001b[0m\u001b[1;33m)\u001b[0m\u001b[1;33m\u001b[0m\u001b[0m\n\u001b[0;32m     75\u001b[0m     \u001b[1;32melse\u001b[0m\u001b[1;33m:\u001b[0m\u001b[1;33m\u001b[0m\u001b[0m\n",
      "\u001b[1;32m~\\Anaconda3\\lib\\site-packages\\psychopy\\visual\\image.py\u001b[0m in \u001b[0;36msetImage\u001b[1;34m(self, value, log)\u001b[0m\n\u001b[0;32m    299\u001b[0m         \u001b[0mbut\u001b[0m \u001b[0muse\u001b[0m \u001b[0mthis\u001b[0m \u001b[0mmethod\u001b[0m \u001b[1;32mif\u001b[0m \u001b[0myou\u001b[0m \u001b[0mneed\u001b[0m \u001b[0mto\u001b[0m \u001b[0msuppress\u001b[0m \u001b[0mthe\u001b[0m \u001b[0mlog\u001b[0m \u001b[0mmessage\u001b[0m\u001b[1;33m.\u001b[0m\u001b[1;33m\u001b[0m\u001b[0m\n\u001b[0;32m    300\u001b[0m         \"\"\"\n\u001b[1;32m--> 301\u001b[1;33m         \u001b[0msetAttribute\u001b[0m\u001b[1;33m(\u001b[0m\u001b[0mself\u001b[0m\u001b[1;33m,\u001b[0m \u001b[1;34m'image'\u001b[0m\u001b[1;33m,\u001b[0m \u001b[0mvalue\u001b[0m\u001b[1;33m,\u001b[0m \u001b[0mlog\u001b[0m\u001b[1;33m)\u001b[0m\u001b[1;33m\u001b[0m\u001b[0m\n\u001b[0m\u001b[0;32m    302\u001b[0m \u001b[1;33m\u001b[0m\u001b[0m\n\u001b[0;32m    303\u001b[0m     \u001b[1;33m@\u001b[0m\u001b[0mattributeSetter\u001b[0m\u001b[1;33m\u001b[0m\u001b[0m\n",
      "\u001b[1;32m~\\Anaconda3\\lib\\site-packages\\psychopy\\tools\\attributetools.py\u001b[0m in \u001b[0;36msetAttribute\u001b[1;34m(self, attrib, value, log, operation, stealth)\u001b[0m\n\u001b[0;32m    139\u001b[0m         \u001b[0mself\u001b[0m\u001b[1;33m.\u001b[0m\u001b[0m__dict__\u001b[0m\u001b[1;33m[\u001b[0m\u001b[1;34m'autoLog'\u001b[0m\u001b[1;33m]\u001b[0m \u001b[1;33m=\u001b[0m \u001b[0mlog\u001b[0m \u001b[1;32mor\u001b[0m \u001b[0mautoLogOrig\u001b[0m \u001b[1;32mand\u001b[0m \u001b[0mlog\u001b[0m \u001b[1;32mis\u001b[0m \u001b[1;32mNone\u001b[0m\u001b[1;33m\u001b[0m\u001b[0m\n\u001b[0;32m    140\u001b[0m         \u001b[1;31m# set attribute, calling attributeSetter if it exists\u001b[0m\u001b[1;33m\u001b[0m\u001b[1;33m\u001b[0m\u001b[0m\n\u001b[1;32m--> 141\u001b[1;33m         \u001b[0msetattr\u001b[0m\u001b[1;33m(\u001b[0m\u001b[0mself\u001b[0m\u001b[1;33m,\u001b[0m \u001b[0mattrib\u001b[0m\u001b[1;33m,\u001b[0m \u001b[0mvalue\u001b[0m\u001b[1;33m)\u001b[0m\u001b[1;33m\u001b[0m\u001b[0m\n\u001b[0m\u001b[0;32m    142\u001b[0m         \u001b[1;31m# hack: if attrib was 'autoLog', do not set it back to original value!\u001b[0m\u001b[1;33m\u001b[0m\u001b[1;33m\u001b[0m\u001b[0m\n\u001b[0;32m    143\u001b[0m         \u001b[1;32mif\u001b[0m \u001b[0mattrib\u001b[0m \u001b[1;33m!=\u001b[0m \u001b[1;34m'autoLog'\u001b[0m\u001b[1;33m:\u001b[0m\u001b[1;33m\u001b[0m\u001b[0m\n",
      "\u001b[1;32m~\\Anaconda3\\lib\\site-packages\\psychopy\\tools\\attributetools.py\u001b[0m in \u001b[0;36m__set__\u001b[1;34m(self, obj, value)\u001b[0m\n\u001b[0;32m     30\u001b[0m \u001b[1;33m\u001b[0m\u001b[0m\n\u001b[0;32m     31\u001b[0m     \u001b[1;32mdef\u001b[0m \u001b[0m__set__\u001b[0m\u001b[1;33m(\u001b[0m\u001b[0mself\u001b[0m\u001b[1;33m,\u001b[0m \u001b[0mobj\u001b[0m\u001b[1;33m,\u001b[0m \u001b[0mvalue\u001b[0m\u001b[1;33m)\u001b[0m\u001b[1;33m:\u001b[0m\u001b[1;33m\u001b[0m\u001b[0m\n\u001b[1;32m---> 32\u001b[1;33m         \u001b[0mnewValue\u001b[0m \u001b[1;33m=\u001b[0m \u001b[0mself\u001b[0m\u001b[1;33m.\u001b[0m\u001b[0mfunc\u001b[0m\u001b[1;33m(\u001b[0m\u001b[0mobj\u001b[0m\u001b[1;33m,\u001b[0m \u001b[0mvalue\u001b[0m\u001b[1;33m)\u001b[0m\u001b[1;33m\u001b[0m\u001b[0m\n\u001b[0m\u001b[0;32m     33\u001b[0m         \u001b[1;31m# log=None defaults to obj.autoLog:\u001b[0m\u001b[1;33m\u001b[0m\u001b[1;33m\u001b[0m\u001b[0m\n\u001b[0;32m     34\u001b[0m         logAttrib(obj, log=None, attrib=self.func.__name__,\n",
      "\u001b[1;32m~\\Anaconda3\\lib\\site-packages\\psychopy\\visual\\image.py\u001b[0m in \u001b[0;36mimage\u001b[1;34m(self, value)\u001b[0m\n\u001b[0;32m    286\u001b[0m                                                   \u001b[0mdataType\u001b[0m\u001b[1;33m=\u001b[0m\u001b[0mdatatype\u001b[0m\u001b[1;33m,\u001b[0m\u001b[1;33m\u001b[0m\u001b[0m\n\u001b[0;32m    287\u001b[0m                                                   \u001b[0mmaskParams\u001b[0m\u001b[1;33m=\u001b[0m\u001b[0mself\u001b[0m\u001b[1;33m.\u001b[0m\u001b[0mmaskParams\u001b[0m\u001b[1;33m,\u001b[0m\u001b[1;33m\u001b[0m\u001b[0m\n\u001b[1;32m--> 288\u001b[1;33m                                                   forcePOW2=False)\n\u001b[0m\u001b[0;32m    289\u001b[0m         \u001b[1;31m# if user requested size=None then update the size for new stim here\u001b[0m\u001b[1;33m\u001b[0m\u001b[1;33m\u001b[0m\u001b[0m\n\u001b[0;32m    290\u001b[0m         \u001b[1;32mif\u001b[0m \u001b[0mhasattr\u001b[0m\u001b[1;33m(\u001b[0m\u001b[0mself\u001b[0m\u001b[1;33m,\u001b[0m \u001b[1;34m'_requestedSize'\u001b[0m\u001b[1;33m)\u001b[0m \u001b[1;32mand\u001b[0m \u001b[0mself\u001b[0m\u001b[1;33m.\u001b[0m\u001b[0m_requestedSize\u001b[0m \u001b[1;32mis\u001b[0m \u001b[1;32mNone\u001b[0m\u001b[1;33m:\u001b[0m\u001b[1;33m\u001b[0m\u001b[0m\n",
      "\u001b[1;32m~\\Anaconda3\\lib\\site-packages\\psychopy\\visual\\basevisual.py\u001b[0m in \u001b[0;36m_createTexture\u001b[1;34m(self, tex, id, pixFormat, stim, res, maskParams, forcePOW2, dataType)\u001b[0m\n\u001b[0;32m    810\u001b[0m                     \u001b[0mlogging\u001b[0m\u001b[1;33m.\u001b[0m\u001b[0merror\u001b[0m\u001b[1;33m(\u001b[0m\u001b[0mmsg\u001b[0m \u001b[1;33m%\u001b[0m \u001b[1;33m(\u001b[0m\u001b[0mtex\u001b[0m\u001b[1;33m,\u001b[0m \u001b[0mos\u001b[0m\u001b[1;33m.\u001b[0m\u001b[0mpath\u001b[0m\u001b[1;33m.\u001b[0m\u001b[0mabspath\u001b[0m\u001b[1;33m(\u001b[0m\u001b[0mtex\u001b[0m\u001b[1;33m)\u001b[0m\u001b[1;33m)\u001b[0m\u001b[1;33m)\u001b[0m\u001b[1;33m\u001b[0m\u001b[0m\n\u001b[0;32m    811\u001b[0m                     \u001b[0mlogging\u001b[0m\u001b[1;33m.\u001b[0m\u001b[0mflush\u001b[0m\u001b[1;33m(\u001b[0m\u001b[1;33m)\u001b[0m\u001b[1;33m\u001b[0m\u001b[0m\n\u001b[1;32m--> 812\u001b[1;33m                     \u001b[1;32mraise\u001b[0m \u001b[0mIOError\u001b[0m\u001b[1;33m(\u001b[0m\u001b[0mmsg\u001b[0m \u001b[1;33m%\u001b[0m \u001b[1;33m(\u001b[0m\u001b[0mtex\u001b[0m\u001b[1;33m,\u001b[0m \u001b[0mos\u001b[0m\u001b[1;33m.\u001b[0m\u001b[0mpath\u001b[0m\u001b[1;33m.\u001b[0m\u001b[0mabspath\u001b[0m\u001b[1;33m(\u001b[0m\u001b[0mtex\u001b[0m\u001b[1;33m)\u001b[0m\u001b[1;33m)\u001b[0m\u001b[1;33m)\u001b[0m\u001b[1;33m\u001b[0m\u001b[0m\n\u001b[0m\u001b[0;32m    813\u001b[0m                 \u001b[1;32mtry\u001b[0m\u001b[1;33m:\u001b[0m\u001b[1;33m\u001b[0m\u001b[0m\n\u001b[0;32m    814\u001b[0m                     \u001b[0mim\u001b[0m \u001b[1;33m=\u001b[0m \u001b[0mImage\u001b[0m\u001b[1;33m.\u001b[0m\u001b[0mopen\u001b[0m\u001b[1;33m(\u001b[0m\u001b[0mfilename\u001b[0m\u001b[1;33m)\u001b[0m\u001b[1;33m\u001b[0m\u001b[0m\n",
      "\u001b[1;31mOSError\u001b[0m: Couldn't find image stimuli/1.png; check path? (tried: C:\\Users\\saski\\mpi-python-intro\\Session6\\recordings\\stimuli\\1.png)"
     ]
    }
   ],
   "source": [
    "#This is the code for the switch experiment \n",
    "\n",
    "#First import the necessary libraries \n",
    "#Import sounddevice as given in the HINTS file\n",
    "import sounddevice as sd\n",
    "import soundfile as sf\n",
    "from psychopy import prefs\n",
    "prefs.general['audioLib'] = ['pygame']\n",
    "from psychopy import core, visual, event, gui, data, clock, logging\n",
    "from psychopy.tools.filetools import fromFile, toFile\n",
    "from psychopy.constants import (NOT_STARTED, STARTED, PLAYING, PAUSED, STOPPED, FINISHED, PRESSED, RELEASED, FOREVER)\n",
    "import numpy, random #for handling various numerical/mathematical functions\n",
    "import os \n",
    "import sys #to get file system encoding\n",
    "\n",
    "#Ensure that relative paths start from same directory as script\n",
    "_thisDir = 'C:/Users/saski/mpi-python-intro/Session6/'\n",
    "\n",
    "#Information on the experiment session\n",
    "expName = 'Switch_experiment'\n",
    "expInfo = {'Participant': '', 'Gender':'', 'Age': ''}\n",
    "dlg = gui.DlgFromDict(dictionary = expInfo, title = expName)\n",
    "if dlg.OK == False:\n",
    "    core.quit() #Participant pressed cancel\n",
    "expInfo['date'] = data.getDateStr() #add a simple timestamp\n",
    "expInfo['expName'] = expName\n",
    "\n",
    "#Data file name stem = absolute path + name; later add .csv\n",
    "filename = _thisDir + os.sep + u'data/%s_%s_%s' % (expInfo['Participant'], expName, expInfo['date'])\n",
    "\n",
    "# thisExp = data.ExperimentHandler(name = expName, version = '', extraInfo = expInfo, runtimeInfo = None, originPath = None, savePickle = True, saveWideText = True, dataFileName = filename)\n",
    "\n",
    "\n",
    "#You can implement and 'escape' to quit the experiment\n",
    "endExpNow = False \n",
    "\n",
    "#Setting up the microphone\n",
    "sd.default.samplerate = 48000 #record at 48000 samples per second\n",
    "sd.default.channels = 1 #record in mono\n",
    "\n",
    "#Create window and stimuli\n",
    "win = visual.Window([1920, 1080], color = 'white', monitor = 'testMonitor', units = 'cm') #Open a window with a white background\n",
    "text = visual.TextStim(win, None, color='black', font = 'arial') #Prepare a text stimulus\n",
    "LeftIm = visual.ImageStim(win, None) #Create the left images\n",
    "LeftIm.setPos((-8,0)) #Define the position on the screen\n",
    "RightIm = visual.ImageStim(win, None) #Create the right images \n",
    "RightIm.setPos((8,0)) #Define the position on the screen\n",
    "\n",
    "#Clocks to keep track of time\n",
    "globalClock = core.Clock()\n",
    "trialClock = core.Clock()\n",
    "\n",
    "#The needed functions\n",
    "#Function for instruction test\n",
    "def instr(win, myText):\n",
    "    text.setText(myText)\n",
    "    text.draw()  # draw to back buffer again\n",
    "    win.flip()\n",
    "    return\n",
    "\n",
    "#Function to present the instruction text and to continue \n",
    "def presentInstr(win, myText):\n",
    "    event.clearEvents()\n",
    "    while len(event.getKeys())==0:\n",
    "        instr(win, myText)\n",
    "    return\n",
    "\n",
    "#Function for generating the trials\n",
    "def trial(win, pict, lang, sound):\n",
    "    t = 0\n",
    "    trialClock.reset()\n",
    "    if lang == 'EN': \n",
    "        LeftIm.setImage(pict)\n",
    "        LeftIm.draw()\n",
    "    else:\n",
    "        #i.e., the Dutch trials \n",
    "        RightIm.setImage(pict)\n",
    "        RightIm.draw() \n",
    "        \n",
    "    win.flip()\n",
    "    t = trialClock.getTime()\n",
    "    sample = sd.rec(4 * sd.default.samplerate) #record for four seconds\n",
    "    sd.wait() #finish recording before moving on\n",
    "    sf.write(sound, sample, sd.default.samplerate)\n",
    "    \n",
    "    if endExpNow or event.getKeys(keyList=['escape']):\n",
    "        core.quit()\n",
    "    \n",
    "    return\n",
    "\n",
    "###INSTRUCTIONS###\n",
    "presentInstr(win, 'Welcome to this experiment.\\n\\nPress any key to continue.')\n",
    "presentInstr(win, 'You will get to see pictures. \\n\\nYour task is to name the pictures as quickly as possible.')\n",
    "presentInstr(win, 'However, there is a catch.')\n",
    "presentInstr(win, 'If you see a picture on the LEFT side of the screen, name the picture in English.')\n",
    "presentInstr(win, 'If you see a picture on the RIGHT side of the screen, name the picture in Dutch.')\n",
    "presentInstr(win, 'Ready? \\n\\nPress a key to start!')\n",
    "\n",
    "###EXPERIMENT###\n",
    "#This can probably be done in a better way\n",
    "trial(win, u'stimuli/1.png', 'EN', u'recordings/%s_1.wav' % (expInfo['Participant'])) #Added directories to save it in a separate folder\n",
    "trial(win, u'stimuli/2.png', 'EN', u'recordings/%s_2.wav' % (expInfo['Participant']))\n",
    "trial(win, u'stimuli/3.png','EN', u'recordings/%s_3.wav' % (expInfo['Participant']))\n",
    "trial(win, u'stimuli/4.png', 'NL', u'recordings/%s_4.wav' % (expInfo['Participant']))\n",
    "trial(win, u'stimuli/5.png', 'NL', u'recordings/%s_5.wav' % (expInfo['Participant']))\n",
    "trial(win, u'stimuli/6.png','EN', u'recordings/%s_6.wav' % (expInfo['Participant']))\n",
    "trial(win, u'stimuli/7.png', 'NL', u'recordings/%s_7.wav' % (expInfo['Participant']))\n",
    "\n",
    "\n",
    "#Cleanup\n",
    "win.close()\n",
    "core.quit() "
   ]
  },
  {
   "cell_type": "markdown",
   "metadata": {},
   "source": [
    "### 1.2 Responses \n",
    "\n",
    "The participants need to _name_ the pictures, meaning that the responses will consist of a voice key. I tried to figure out how to do this, but wasn't able to. Instead, I used _sound device_ to record what the participants say for a fixed time, and then extract the reaction times like this:"
   ]
  },
  {
   "cell_type": "code",
   "execution_count": 3,
   "metadata": {
    "scrolled": true
   },
   "outputs": [
    {
     "name": "stdout",
     "output_type": "stream",
     "text": [
      "1.3002916666666666\n",
      "2.7606041666666665\n",
      "1.2708541666666666\n",
      "0.2765\n",
      "2.1641875\n",
      "0.7665208333333333\n",
      "1.2252708333333333\n",
      "3.174\n"
     ]
    },
    {
     "ename": "NameError",
     "evalue": "name 'filename' is not defined",
     "output_type": "error",
     "traceback": [
      "\u001b[1;31m---------------------------------------------------------------------------\u001b[0m",
      "\u001b[1;31mNameError\u001b[0m                                 Traceback (most recent call last)",
      "\u001b[1;32m<ipython-input-3-d2b704845134>\u001b[0m in \u001b[0;36m<module>\u001b[1;34m()\u001b[0m\n\u001b[0;32m     25\u001b[0m \u001b[1;31m# RT.saveAsWideText(filename + '.csv')\u001b[0m\u001b[1;33m\u001b[0m\u001b[1;33m\u001b[0m\u001b[0m\n\u001b[0;32m     26\u001b[0m \u001b[1;33m\u001b[0m\u001b[0m\n\u001b[1;32m---> 27\u001b[1;33m \u001b[1;32mwith\u001b[0m \u001b[0mopen\u001b[0m\u001b[1;33m(\u001b[0m\u001b[0mfilename\u001b[0m \u001b[1;33m+\u001b[0m \u001b[1;34m'.csv'\u001b[0m\u001b[1;33m,\u001b[0m \u001b[1;34m'w'\u001b[0m\u001b[1;33m)\u001b[0m \u001b[1;32mas\u001b[0m \u001b[0mRT_file\u001b[0m\u001b[1;33m:\u001b[0m\u001b[1;33m\u001b[0m\u001b[0m\n\u001b[0m\u001b[0;32m     28\u001b[0m \u001b[1;33m\u001b[0m\u001b[0m\n\u001b[0;32m     29\u001b[0m         \u001b[1;31m# use str.join() to turn the list of lines into a single string again before we write to file\u001b[0m\u001b[1;33m\u001b[0m\u001b[1;33m\u001b[0m\u001b[0m\n",
      "\u001b[1;31mNameError\u001b[0m: name 'filename' is not defined"
     ]
    }
   ],
   "source": [
    "\n",
    "path = 'C:/Users/saski/mpi-python-intro/Session6/recordings/' #Define the right directory\n",
    "os.chdir(path)\n",
    "\n",
    "rec = [] #Create an empty list for recordings\n",
    "listRec = os.listdir('.') \n",
    "\n",
    "#Create a list of all the .wav files in the directory\n",
    "for file in listRec:\n",
    "    if file.endswith(\".wav\"):\n",
    "         rec.append(file)\n",
    "\n",
    "for files in listRec:\n",
    "    recordings, samplerate = sf.read(files) #Read all .wav files \n",
    "    energy = np.square(recordings) #create a variable \"energy\" of the squared recordings-array\n",
    "    Emax = np.max(energy)\n",
    "    energyNorm = (energy/Emax) #Normalize these values\n",
    "    index = [index for index, value in enumerate(energyNorm) if value > 0.2] #Ok so this is quite unprecise and there are multiple solutions to this problem (e.g., comparing multiple indices, getting rid of noise beforehand) , but for this exercise I will keep it like this. \n",
    "    RT = index[0]/samplerate #This is the reaction time\n",
    "    print(RT) #Sanity check\n",
    "    \n",
    "# RTdata = \"RTdata.csv\" #where files need to be downloaded to\n",
    "# RTcsv = (RTdata, \"w\")\n",
    "\n",
    "# RT.saveAsWideText(filename + '.csv')\n",
    "\n",
    "with open(filename + '.csv', 'w') as RT_file:\n",
    "        \n",
    "        # use str.join() to turn the list of lines into a single string again before we write to file\n",
    "#         chapter_text = '\\n'.join(lines)\n",
    "        \n",
    "        # write to file\n",
    "        RT_file.write(RT)\n",
    "    "
   ]
  },
  {
   "cell_type": "markdown",
   "metadata": {},
   "source": [
    "### 1.3 Saving the results\n",
    "\n",
    "Firstly, I'd like to get some participant information, which they can fill in in an dialogue box (`dlg`). This dialogue box is presented to the participant. "
   ]
  },
  {
   "cell_type": "code",
   "execution_count": null,
   "metadata": {},
   "outputs": [],
   "source": [
    "'''\n",
    "#Information on the experiment session\n",
    "expName = 'Switch_experiment'\n",
    "expInfo = {'Participant': '', 'Gender':'', 'Age': ''}\n",
    "dlg = gui.DlgFromDict(dictionary = expInfo, title = expName)\n",
    "if dlg.OK == False:\n",
    "    core.quit() #Participant pressed cancel\n",
    "expInfo['date'] = data.getDateStr() #add a simple timestamp\n",
    "expInfo['expName'] = expName\n",
    "'''"
   ]
  },
  {
   "cell_type": "markdown",
   "metadata": {},
   "source": [
    "After each trial, a `.txt` file is created to log the experiment:"
   ]
  },
  {
   "cell_type": "code",
   "execution_count": null,
   "metadata": {},
   "outputs": [],
   "source": [
    "'''\n",
    "#Save log file\n",
    "logFile = logging.LogFile(filename + '.log', level = logging.EXP)\n",
    "logging.console.setLevel(logging.WARNING) #this outputs to the screen, not a file\n",
    "'''"
   ]
  },
  {
   "cell_type": "markdown",
   "metadata": {},
   "source": [
    "The recordings need to be made and saved in the right directory. The _sound device_ is used to make the recordings, and _sound file_ to write the recordings in the right folder. "
   ]
  },
  {
   "cell_type": "code",
   "execution_count": 5,
   "metadata": {
    "scrolled": true
   },
   "outputs": [
    {
     "data": {
      "text/plain": [
       "'C:\\\\Users\\\\saski\\\\mpi-python-intro\\\\Session6'"
      ]
     },
     "execution_count": 5,
     "metadata": {},
     "output_type": "execute_result"
    }
   ],
   "source": [
    "'''\n",
    "#Function for generating the trials\n",
    "def trial(win, pict, lang, sound):\n",
    "    t = 0\n",
    "    trialClock.reset()\n",
    "    if lang == 'EN': \n",
    "        LeftIm.setImage(pict)\n",
    "        LeftIm.draw()\n",
    "    else:\n",
    "        #i.e., the Dutch trials \n",
    "        RightIm.setImage(pict)\n",
    "        RightIm.draw() \n",
    "        \n",
    "    win.flip()\n",
    "    t = trialClock.getTime()\n",
    "    sample = sd.rec(4 * sd.default.samplerate) #record for four seconds\n",
    "    sd.wait() #finish recording before moving on\n",
    "    sf.write(sound, sample, sd.default.samplerate)\n",
    "    \n",
    "    if endExpNow or event.getKeys(keyList=['escape']):\n",
    "        core.quit()\n",
    "    \n",
    "    return\n",
    "'''"
   ]
  },
  {
   "cell_type": "markdown",
   "metadata": {},
   "source": [
    "### 1.4 Try it out"
   ]
  },
  {
   "cell_type": "code",
   "execution_count": 18,
   "metadata": {},
   "outputs": [
    {
     "data": {
      "text/plain": [
       "CompletedProcess(args=['python', 'switch.py'], returncode=0)"
      ]
     },
     "execution_count": 18,
     "metadata": {},
     "output_type": "execute_result"
    }
   ],
   "source": [
    "#Try it out\n",
    "import subprocess as sp\n",
    "\n",
    "sp.run(['python', 'switch.py'])"
   ]
  },
  {
   "cell_type": "markdown",
   "metadata": {},
   "source": [
    "## 2.0 Plot the data "
   ]
  },
  {
   "cell_type": "markdown",
   "metadata": {},
   "source": [
    "## 3.0 \"Analyze\" the data"
   ]
  }
 ],
 "metadata": {
  "kernelspec": {
   "display_name": "Python 3",
   "language": "python",
   "name": "python3"
  },
  "language_info": {
   "codemirror_mode": {
    "name": "ipython",
    "version": 3
   },
   "file_extension": ".py",
   "mimetype": "text/x-python",
   "name": "python",
   "nbconvert_exporter": "python",
   "pygments_lexer": "ipython3",
   "version": "3.6.5"
  }
 },
 "nbformat": 4,
 "nbformat_minor": 2
}
