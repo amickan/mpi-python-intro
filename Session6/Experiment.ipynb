{
 "cells": [
  {
   "cell_type": "markdown",
   "metadata": {},
   "source": [
    "## Visual search experiment\n",
    "\n",
    "This is a very short visual search experiment. Per trial, participants are first presented with a sentence that contains a description of the target (a shape with a color, e.g. green triangle). When they press the space bar, a display appears that contains multiple distractors that look like the target in terms of shape or color. The distractor ratio is either equal (as many color distractors as shape distractors) or unequal (more color than shape distractors). Participants have to respond as fast as possible when they detect the presence or absence of the target. Both their reaction time and the correctness of their response is saved. By analyzing how fast participants responded, we can get an idea of how they searched through the screen looking for the target (in my actual experiment, I also look at other language-related factors).  "
   ]
  },
  {
   "cell_type": "markdown",
   "metadata": {},
   "source": [
    "### Read inputfile, run experiment, write outputfile \n",
    "The inputfile contains the name of the target, the name of the display (including distractor ratio; either equal or unequal) and whether the target is present in the display (y) or not (n)."
   ]
  },
  {
   "cell_type": "code",
   "execution_count": 1,
   "metadata": {},
   "outputs": [
    {
     "data": {
      "text/plain": [
       "CompletedProcess(args=['python', 'Visual search.py'], returncode=0)"
      ]
     },
     "execution_count": 1,
     "metadata": {},
     "output_type": "execute_result"
    }
   ],
   "source": [
    "import subprocess as sp\n",
    "sp.run(['python', 'Visual search.py'])"
   ]
  },
  {
   "cell_type": "markdown",
   "metadata": {},
   "source": [
    "### Read and clean the data"
   ]
  },
  {
   "cell_type": "code",
   "execution_count": 6,
   "metadata": {},
   "outputs": [
    {
     "data": {
      "text/html": [
       "<div>\n",
       "<style scoped>\n",
       "    .dataframe tbody tr th:only-of-type {\n",
       "        vertical-align: middle;\n",
       "    }\n",
       "\n",
       "    .dataframe tbody tr th {\n",
       "        vertical-align: top;\n",
       "    }\n",
       "\n",
       "    .dataframe thead th {\n",
       "        text-align: right;\n",
       "    }\n",
       "</style>\n",
       "<table border=\"1\" class=\"dataframe\">\n",
       "  <thead>\n",
       "    <tr style=\"text-align: right;\">\n",
       "      <th></th>\n",
       "      <th>Answer</th>\n",
       "      <th>Correctness</th>\n",
       "      <th>Condition</th>\n",
       "      <th>RT</th>\n",
       "    </tr>\n",
       "  </thead>\n",
       "  <tbody>\n",
       "    <tr>\n",
       "      <th>0</th>\n",
       "      <td>'n'</td>\n",
       "      <td>'correct'</td>\n",
       "      <td>'un'</td>\n",
       "      <td>1093.148000</td>\n",
       "    </tr>\n",
       "    <tr>\n",
       "      <th>1</th>\n",
       "      <td>'y'</td>\n",
       "      <td>'correct'</td>\n",
       "      <td>'eq'</td>\n",
       "      <td>652.886976</td>\n",
       "    </tr>\n",
       "    <tr>\n",
       "      <th>2</th>\n",
       "      <td>'y'</td>\n",
       "      <td>'correct'</td>\n",
       "      <td>'eq'</td>\n",
       "      <td>624.701108</td>\n",
       "    </tr>\n",
       "    <tr>\n",
       "      <th>3</th>\n",
       "      <td>'n'</td>\n",
       "      <td>'correct'</td>\n",
       "      <td>'un'</td>\n",
       "      <td>923.333051</td>\n",
       "    </tr>\n",
       "    <tr>\n",
       "      <th>4</th>\n",
       "      <td>'y'</td>\n",
       "      <td>'correct'</td>\n",
       "      <td>'eq'</td>\n",
       "      <td>676.077150</td>\n",
       "    </tr>\n",
       "    <tr>\n",
       "      <th>5</th>\n",
       "      <td>'y'</td>\n",
       "      <td>'correct'</td>\n",
       "      <td>'un'</td>\n",
       "      <td>1009.435036</td>\n",
       "    </tr>\n",
       "    <tr>\n",
       "      <th>6</th>\n",
       "      <td>'n'</td>\n",
       "      <td>'incorrect'</td>\n",
       "      <td>'eq'</td>\n",
       "      <td>1352.097548</td>\n",
       "    </tr>\n",
       "    <tr>\n",
       "      <th>7</th>\n",
       "      <td>'y'</td>\n",
       "      <td>'incorrect'</td>\n",
       "      <td>'un'</td>\n",
       "      <td>1291.145496</td>\n",
       "    </tr>\n",
       "    <tr>\n",
       "      <th>8</th>\n",
       "      <td>'n'</td>\n",
       "      <td>'correct'</td>\n",
       "      <td>'un'</td>\n",
       "      <td>701.060751</td>\n",
       "    </tr>\n",
       "    <tr>\n",
       "      <th>9</th>\n",
       "      <td>'y'</td>\n",
       "      <td>'correct'</td>\n",
       "      <td>'eq'</td>\n",
       "      <td>859.057378</td>\n",
       "    </tr>\n",
       "    <tr>\n",
       "      <th>10</th>\n",
       "      <td>'n'</td>\n",
       "      <td>'correct'</td>\n",
       "      <td>'un'</td>\n",
       "      <td>874.730314</td>\n",
       "    </tr>\n",
       "    <tr>\n",
       "      <th>11</th>\n",
       "      <td>'y'</td>\n",
       "      <td>'correct'</td>\n",
       "      <td>'un'</td>\n",
       "      <td>748.686627</td>\n",
       "    </tr>\n",
       "    <tr>\n",
       "      <th>12</th>\n",
       "      <td>'y'</td>\n",
       "      <td>'correct'</td>\n",
       "      <td>'eq'</td>\n",
       "      <td>985.361280</td>\n",
       "    </tr>\n",
       "    <tr>\n",
       "      <th>13</th>\n",
       "      <td>'y'</td>\n",
       "      <td>'correct'</td>\n",
       "      <td>'un'</td>\n",
       "      <td>669.265088</td>\n",
       "    </tr>\n",
       "    <tr>\n",
       "      <th>14</th>\n",
       "      <td>'y'</td>\n",
       "      <td>'correct'</td>\n",
       "      <td>'eq'</td>\n",
       "      <td>1024.026362</td>\n",
       "    </tr>\n",
       "    <tr>\n",
       "      <th>15</th>\n",
       "      <td>'y'</td>\n",
       "      <td>'correct'</td>\n",
       "      <td>'un'</td>\n",
       "      <td>714.267386</td>\n",
       "    </tr>\n",
       "    <tr>\n",
       "      <th>16</th>\n",
       "      <td>'n'</td>\n",
       "      <td>'correct'</td>\n",
       "      <td>'un'</td>\n",
       "      <td>1283.016060</td>\n",
       "    </tr>\n",
       "    <tr>\n",
       "      <th>17</th>\n",
       "      <td>'y'</td>\n",
       "      <td>'correct'</td>\n",
       "      <td>'eq'</td>\n",
       "      <td>916.761279</td>\n",
       "    </tr>\n",
       "  </tbody>\n",
       "</table>\n",
       "</div>"
      ],
      "text/plain": [
       "   Answer   Correctness Condition           RT\n",
       "0     'n'     'correct'      'un'  1093.148000\n",
       "1     'y'     'correct'      'eq'   652.886976\n",
       "2     'y'     'correct'      'eq'   624.701108\n",
       "3     'n'     'correct'      'un'   923.333051\n",
       "4     'y'     'correct'      'eq'   676.077150\n",
       "5     'y'     'correct'      'un'  1009.435036\n",
       "6     'n'   'incorrect'      'eq'  1352.097548\n",
       "7     'y'   'incorrect'      'un'  1291.145496\n",
       "8     'n'     'correct'      'un'   701.060751\n",
       "9     'y'     'correct'      'eq'   859.057378\n",
       "10    'n'     'correct'      'un'   874.730314\n",
       "11    'y'     'correct'      'un'   748.686627\n",
       "12    'y'     'correct'      'eq'   985.361280\n",
       "13    'y'     'correct'      'un'   669.265088\n",
       "14    'y'     'correct'      'eq'  1024.026362\n",
       "15    'y'     'correct'      'un'   714.267386\n",
       "16    'n'     'correct'      'un'  1283.016060\n",
       "17    'y'     'correct'      'eq'   916.761279"
      ]
     },
     "execution_count": 6,
     "metadata": {},
     "output_type": "execute_result"
    }
   ],
   "source": [
    "import pandas as pd\n",
    "# read in a comma-separated file; add header manually\n",
    "data = pd.read_csv('answers.csv', sep = ',', names = ['-', 'Answer', 'Correctness', 'Condition', 'RT', '--']) \n",
    "\n",
    "#check for missing values\n",
    "data.isnull().sum()\n",
    "#drop rows with missing values\n",
    "#cleaneddata = data.dropna()\n",
    "\n",
    "#drop additional columns that were empty\n",
    "cleaneddata = data.drop(['-', '--'], axis = 1)\n",
    "\n",
    "#drop rows with incorrect responses\n",
    "cleaneddata = cleaneddata[cleaneddata.Correctness != 'incorrect']\n",
    "#doesn't work? -> manually drop incorrect responses\n",
    "#cleaneddata = cleaneddata.drop(cleaneddata.index[6])\n",
    "\n",
    "cleaneddata\n"
   ]
  },
  {
   "cell_type": "markdown",
   "metadata": {},
   "source": [
    "### Run regression model on RT data"
   ]
  },
  {
   "cell_type": "code",
   "execution_count": 3,
   "metadata": {},
   "outputs": [
    {
     "name": "stdout",
     "output_type": "stream",
     "text": [
      "    Condition_ 'eq'  Condition_ 'un'\n",
      "0                 0                1\n",
      "1                 1                0\n",
      "2                 1                0\n",
      "3                 0                1\n",
      "4                 1                0\n",
      "5                 0                1\n",
      "6                 1                0\n",
      "7                 0                1\n",
      "8                 0                1\n",
      "9                 1                0\n",
      "10                0                1\n",
      "11                0                1\n",
      "12                1                0\n",
      "13                0                1\n",
      "14                1                0\n",
      "15                0                1\n",
      "16                0                1\n",
      "17                1                0\n"
     ]
    }
   ],
   "source": [
    "from sklearn import linear_model\n",
    "from sklearn.metrics import r2_score\n",
    "\n",
    "#model data as a function of Condition\n",
    "data = cleaneddata.drop(['Answer', 'Correctness', 'RT'], axis = 1)\n",
    "#dummy code the categorical variable Condition (eq = equal, un = unequal)\n",
    "datadum = pd.get_dummies(data)\n",
    "\n",
    "print(datadum)"
   ]
  },
  {
   "cell_type": "code",
   "execution_count": 4,
   "metadata": {},
   "outputs": [
    {
     "name": "stdout",
     "output_type": "stream",
     "text": [
      "R-squared is 0.009600346219619027\n"
     ]
    }
   ],
   "source": [
    "y = cleaneddata['RT']\n",
    "\n",
    "model = linear_model.LinearRegression() \n",
    "model.fit(datadum, y)                            # fit the model betas\n",
    "y_predicted = model.predict(datadum)             # predict y from X\n",
    "r2 = r2_score(y, y_predicted)                    # calculate model R-squared\n",
    "\n",
    "print(f'R-squared is {r2}') #wow that's really bad..."
   ]
  },
  {
   "cell_type": "markdown",
   "metadata": {},
   "source": [
    "### Plot the data"
   ]
  },
  {
   "cell_type": "code",
   "execution_count": 7,
   "metadata": {},
   "outputs": [
    {
     "data": {
      "text/plain": [
       "<matplotlib.axes._subplots.AxesSubplot at 0x1c5eda86a90>"
      ]
     },
     "execution_count": 7,
     "metadata": {},
     "output_type": "execute_result"
    },
    {
     "data": {
      "image/png": "[encoded data removed]",
      "text/plain": [
       "<Figure size 432x288 with 1 Axes>"
      ]
     },
     "metadata": {
      "needs_background": "light"
     },
     "output_type": "display_data"
    }
   ],
   "source": [
    "import seaborn as sns\n",
    "\n",
    "#have a look at the response times as a function of condition\n",
    "sns.scatterplot(x = 'Condition', y = 'RT', data=cleaneddata)"
   ]
  },
  {
   "cell_type": "code",
   "execution_count": 8,
   "metadata": {},
   "outputs": [
    {
     "data": {
      "text/plain": [
       "<matplotlib.axes._subplots.AxesSubplot at 0x1c5ed8e4c18>"
      ]
     },
     "execution_count": 8,
     "metadata": {},
     "output_type": "execute_result"
    },
    {
     "data": {
      "image/png": "[encoded data removed]",
      "text/plain": [
       "<Figure size 432x288 with 1 Axes>"
      ]
     },
     "metadata": {
      "needs_background": "light"
     },
     "output_type": "display_data"
    }
   ],
   "source": [
    "#plot response times as a function of answer\n",
    "sns.scatterplot(x = 'Answer', y = 'RT', data=cleaneddata)"
   ]
  },
  {
   "cell_type": "code",
   "execution_count": 9,
   "metadata": {},
   "outputs": [
    {
     "data": {
      "text/plain": [
       "<matplotlib.axes._subplots.AxesSubplot at 0x1c5eeb029b0>"
      ]
     },
     "execution_count": 9,
     "metadata": {},
     "output_type": "execute_result"
    },
    {
     "data": {
      "image/png": "[encoded data removed]",
      "text/plain": [
       "<Figure size 432x288 with 1 Axes>"
      ]
     },
     "metadata": {
      "needs_background": "light"
     },
     "output_type": "display_data"
    }
   ],
   "source": [
    "#plot the number of correct and incorrect responses\n",
    "sns.countplot(x ='Correctness', data=cleaneddata)"
   ]
  },
  {
   "cell_type": "markdown",
   "metadata": {},
   "source": [
    "### Additional note\n",
    "\n",
    "The experiment above is a stripped version of the behavioral experiment that I am currently running, in which I analyze the effect of the structure of the input phrase on RTs as a function of display type (where the displays are more complex than they are in the experiment above). This experiment has been created in Presentation, where I load each individual object (which has size, color, shape) separately based on an inputlist, instead of using pre-created images (as done here).\n",
    "\n",
    "Beforehand, I specified the content of this inputlist (dependent on distractor ratio) and the position of the target in a textfile. The  positions of the distractors still had to be randomized, which is what the following script does. In the inputlist the target is specified twice: once in a separate column and once in the pre-specified column corresponding to a position in the display. This script randomizes all items that are not the same as the target (i.e. all distractors). When it sees the target, it doesn't run the randomization function but keeps this target in the column that corresponds to the pre-specified target position."
   ]
  },
  {
   "cell_type": "code",
   "execution_count": null,
   "metadata": {},
   "outputs": [],
   "source": [
    "import random\n",
    "\n",
    "#open the inputlist\n",
    "with open('nonrandlist.txt', 'r') as inp_list: #make sure inputfile does not have header\n",
    "    inp_list = inp_list.read()\n",
    "    inp_lines = inp_list.split('\\n')\n",
    "\n",
    "    inp_columns = []\n",
    "\n",
    "    #save the columns so that they can be indexed\n",
    "    for lines in range(len(inp_lines)):\n",
    "        columns = inp_lines[lines].split('\\t')\n",
    "        inp_columns.append(columns)\n",
    "        \n",
    "def randomize(a):\n",
    "\n",
    "    c = [[] for y in range(1) for z in range(len(inp_lines))]\n",
    "    \n",
    "    for line in range(len(inp_columns)):\n",
    "        \n",
    "        myPositions = []\n",
    "        \n",
    "        #the target object is specified twice\n",
    "        for j in range(17): #16 objects + 1 target in specific column\n",
    "            if j == 0:\n",
    "                myPositions.append(a[line][1])\n",
    "            else:\n",
    "                myPositions.append(a[line][j + 4])\n",
    "                \n",
    "        c[line].append(a[line][1])\n",
    "        \n",
    "        for i in range(len(a[line][4:20])):\n",
    "            \n",
    "            if a[line][i + 5] == a[line][1]:\n",
    "                c[line].append(a[line][i + 5]) \n",
    "        \n",
    "            elif a[line][i + 5] != a[line][1]:  \n",
    "                element = random.choice(myPositions[1:])\n",
    "            \n",
    "                myPosNoTarget = myPositions[1:]\n",
    "                if element == a[line][1]:\n",
    "                    myPosNoTarget.remove(element)\n",
    "                    element = None\n",
    "                    element = random.choice(myPosNoTarget[:])\n",
    "        \n",
    "                myPositions.remove(element)       \n",
    "                \n",
    "                c[line].append(element)           \n",
    "\n",
    "    return c\n",
    "\n",
    "c = randomize(inp_columns)\n",
    "\n",
    "# write to outputfile; can be opened in excel (delimit on commas)\n",
    "with open('randlist.txt', 'w') as outp_list:\n",
    "    for item in c:\n",
    "        outp_list.write(\"%s\\n\" % item)"
   ]
  }
 ],
 "metadata": {
  "kernelspec": {
   "display_name": "Python 3",
   "language": "python",
   "name": "python3"
  },
  "language_info": {
   "codemirror_mode": {
    "name": "ipython",
    "version": 3
   },
   "file_extension": ".py",
   "mimetype": "text/x-python",
   "name": "python",
   "nbconvert_exporter": "python",
   "pygments_lexer": "ipython3",
   "version": "3.7.0"
  }
 },
 "nbformat": 4,
 "nbformat_minor": 2
}
