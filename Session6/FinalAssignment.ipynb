{
 "cells": [
  {
   "cell_type": "markdown",
   "metadata": {},
   "source": [
    "# Final Assignment: sentence production experiment \n"
   ]
  },
  {
   "cell_type": "markdown",
   "metadata": {},
   "source": [
    "### Import packages"
   ]
  },
  {
   "cell_type": "code",
   "execution_count": 121,
   "metadata": {},
   "outputs": [],
   "source": [
    "import pandas as pd\n",
    "import seaborn as sns\n",
    "import numpy as np\n",
    "import os\n",
    "from PIL import Image\n",
    "import subprocess as sp\n",
    "import sounddevice as sd\n",
    "import soundfile as sf\n",
    "from sklearn import linear_model\n",
    "from sklearn.metrics import r2_score"
   ]
  },
  {
   "cell_type": "markdown",
   "metadata": {},
   "source": [
    "# Create stimuli\n",
    "\n",
    "### Import list of verbs of different conditions with expected output and sentences"
   ]
  },
  {
   "cell_type": "code",
   "execution_count": 77,
   "metadata": {},
   "outputs": [
    {
     "data": {
      "text/html": [
       "<div>\n",
       "<style scoped>\n",
       "    .dataframe tbody tr th:only-of-type {\n",
       "        vertical-align: middle;\n",
       "    }\n",
       "\n",
       "    .dataframe tbody tr th {\n",
       "        vertical-align: top;\n",
       "    }\n",
       "\n",
       "    .dataframe thead th {\n",
       "        text-align: right;\n",
       "    }\n",
       "</style>\n",
       "<table border=\"1\" class=\"dataframe\">\n",
       "  <thead>\n",
       "    <tr style=\"text-align: right;\">\n",
       "      <th></th>\n",
       "      <th>ItemN</th>\n",
       "      <th>Verb</th>\n",
       "      <th>Type</th>\n",
       "      <th>Verb2</th>\n",
       "      <th>Type2</th>\n",
       "      <th>Subject</th>\n",
       "      <th>Object</th>\n",
       "      <th>Condition</th>\n",
       "      <th>Color1</th>\n",
       "      <th>Color2</th>\n",
       "      <th>Color3</th>\n",
       "      <th>Color4</th>\n",
       "      <th>Focus1</th>\n",
       "      <th>Focus2</th>\n",
       "      <th>Focus3</th>\n",
       "      <th>Focus4</th>\n",
       "      <th>Order</th>\n",
       "    </tr>\n",
       "  </thead>\n",
       "  <tbody>\n",
       "    <tr>\n",
       "      <th>0</th>\n",
       "      <td>1</td>\n",
       "      <td>antwoorden</td>\n",
       "      <td>Cpint</td>\n",
       "      <td>kijken</td>\n",
       "      <td>INT</td>\n",
       "      <td>triangle</td>\n",
       "      <td>circle</td>\n",
       "      <td>CP</td>\n",
       "      <td>blue</td>\n",
       "      <td>yellow</td>\n",
       "      <td>red</td>\n",
       "      <td>green</td>\n",
       "      <td>white</td>\n",
       "      <td>yellow</td>\n",
       "      <td>red</td>\n",
       "      <td>white</td>\n",
       "      <td>12</td>\n",
       "    </tr>\n",
       "    <tr>\n",
       "      <th>1</th>\n",
       "      <td>2</td>\n",
       "      <td>geloven</td>\n",
       "      <td>Cpint</td>\n",
       "      <td>dansen</td>\n",
       "      <td>INT</td>\n",
       "      <td>circle</td>\n",
       "      <td>triangle</td>\n",
       "      <td>W</td>\n",
       "      <td>blue</td>\n",
       "      <td>yellow</td>\n",
       "      <td>red</td>\n",
       "      <td>green</td>\n",
       "      <td>white</td>\n",
       "      <td>yellow</td>\n",
       "      <td>red</td>\n",
       "      <td>white</td>\n",
       "      <td>12</td>\n",
       "    </tr>\n",
       "    <tr>\n",
       "      <th>2</th>\n",
       "      <td>3</td>\n",
       "      <td>bekennen</td>\n",
       "      <td>Cpint</td>\n",
       "      <td>huilen</td>\n",
       "      <td>INT</td>\n",
       "      <td>triangle</td>\n",
       "      <td>square</td>\n",
       "      <td>CP</td>\n",
       "      <td>blue</td>\n",
       "      <td>yellow</td>\n",
       "      <td>red</td>\n",
       "      <td>green</td>\n",
       "      <td>white</td>\n",
       "      <td>yellow</td>\n",
       "      <td>red</td>\n",
       "      <td>white</td>\n",
       "      <td>12</td>\n",
       "    </tr>\n",
       "    <tr>\n",
       "      <th>3</th>\n",
       "      <td>4</td>\n",
       "      <td>geloven</td>\n",
       "      <td>Cpint</td>\n",
       "      <td>gapen</td>\n",
       "      <td>INT</td>\n",
       "      <td>square</td>\n",
       "      <td>circle</td>\n",
       "      <td>CP</td>\n",
       "      <td>blue</td>\n",
       "      <td>yellow</td>\n",
       "      <td>red</td>\n",
       "      <td>green</td>\n",
       "      <td>white</td>\n",
       "      <td>yellow</td>\n",
       "      <td>red</td>\n",
       "      <td>white</td>\n",
       "      <td>12</td>\n",
       "    </tr>\n",
       "    <tr>\n",
       "      <th>4</th>\n",
       "      <td>5</td>\n",
       "      <td>klagen</td>\n",
       "      <td>Cpint</td>\n",
       "      <td>fietsen</td>\n",
       "      <td>INT</td>\n",
       "      <td>circle</td>\n",
       "      <td>triangle</td>\n",
       "      <td>NP</td>\n",
       "      <td>blue</td>\n",
       "      <td>yellow</td>\n",
       "      <td>red</td>\n",
       "      <td>green</td>\n",
       "      <td>white</td>\n",
       "      <td>yellow</td>\n",
       "      <td>red</td>\n",
       "      <td>white</td>\n",
       "      <td>12</td>\n",
       "    </tr>\n",
       "  </tbody>\n",
       "</table>\n",
       "</div>"
      ],
      "text/plain": [
       "   ItemN        Verb   Type    Verb2 Type2   Subject    Object Condition  \\\n",
       "0      1  antwoorden  Cpint   kijken   INT  triangle    circle        CP   \n",
       "1      2     geloven  Cpint   dansen   INT    circle  triangle         W   \n",
       "2      3    bekennen  Cpint   huilen   INT  triangle    square        CP   \n",
       "3      4     geloven  Cpint    gapen   INT    square    circle        CP   \n",
       "4      5      klagen  Cpint  fietsen   INT    circle  triangle        NP   \n",
       "\n",
       "  Color1  Color2 Color3 Color4 Focus1  Focus2 Focus3 Focus4  Order  \n",
       "0   blue  yellow    red  green  white  yellow    red  white     12  \n",
       "1   blue  yellow    red  green  white  yellow    red  white     12  \n",
       "2   blue  yellow    red  green  white  yellow    red  white     12  \n",
       "3   blue  yellow    red  green  white  yellow    red  white     12  \n",
       "4   blue  yellow    red  green  white  yellow    red  white     12  "
      ]
     },
     "execution_count": 77,
     "metadata": {},
     "output_type": "execute_result"
    }
   ],
   "source": [
    "input_list = pd.read_excel('List_random.xlsx')\n",
    "input_list.head()"
   ]
  },
  {
   "cell_type": "markdown",
   "metadata": {},
   "source": [
    "# Create and Run Psychopy experiment"
   ]
  },
  {
   "cell_type": "code",
   "execution_count": 17,
   "metadata": {},
   "outputs": [
    {
     "data": {
      "text/plain": [
       "CompletedProcess(args=['python', 'Final_Assignment.py'], returncode=0)"
      ]
     },
     "execution_count": 17,
     "metadata": {},
     "output_type": "execute_result"
    }
   ],
   "source": [
    "# run experiment\n",
    "sp.run(['python', 'Final_Assignment.py'])"
   ]
  },
  {
   "cell_type": "markdown",
   "metadata": {
    "scrolled": false
   },
   "source": [
    "# Import RTs and Plot"
   ]
  },
  {
   "cell_type": "code",
   "execution_count": 115,
   "metadata": {},
   "outputs": [
    {
     "data": {
      "text/html": [
       "<div>\n",
       "<style scoped>\n",
       "    .dataframe tbody tr th:only-of-type {\n",
       "        vertical-align: middle;\n",
       "    }\n",
       "\n",
       "    .dataframe tbody tr th {\n",
       "        vertical-align: top;\n",
       "    }\n",
       "\n",
       "    .dataframe thead th {\n",
       "        text-align: right;\n",
       "    }\n",
       "</style>\n",
       "<table border=\"1\" class=\"dataframe\">\n",
       "  <thead>\n",
       "    <tr style=\"text-align: right;\">\n",
       "      <th></th>\n",
       "      <th>P_num</th>\n",
       "      <th>Present time</th>\n",
       "      <th>RT</th>\n",
       "    </tr>\n",
       "  </thead>\n",
       "  <tbody>\n",
       "    <tr>\n",
       "      <th>0</th>\n",
       "      <td>3</td>\n",
       "      <td>0.000003</td>\n",
       "      <td>0.531501</td>\n",
       "    </tr>\n",
       "    <tr>\n",
       "      <th>1</th>\n",
       "      <td>3</td>\n",
       "      <td>0.000006</td>\n",
       "      <td>0.323650</td>\n",
       "    </tr>\n",
       "    <tr>\n",
       "      <th>2</th>\n",
       "      <td>3</td>\n",
       "      <td>0.000007</td>\n",
       "      <td>0.350426</td>\n",
       "    </tr>\n",
       "    <tr>\n",
       "      <th>3</th>\n",
       "      <td>3</td>\n",
       "      <td>0.000007</td>\n",
       "      <td>0.726680</td>\n",
       "    </tr>\n",
       "    <tr>\n",
       "      <th>4</th>\n",
       "      <td>3</td>\n",
       "      <td>0.000005</td>\n",
       "      <td>0.347833</td>\n",
       "    </tr>\n",
       "  </tbody>\n",
       "</table>\n",
       "</div>"
      ],
      "text/plain": [
       "   P_num  Present time        RT\n",
       "0      3      0.000003  0.531501\n",
       "1      3      0.000006  0.323650\n",
       "2      3      0.000007  0.350426\n",
       "3      3      0.000007  0.726680\n",
       "4      3      0.000005  0.347833"
      ]
     },
     "execution_count": 115,
     "metadata": {},
     "output_type": "execute_result"
    }
   ],
   "source": [
    "# loop over participants to import each participant's csv file with RTs and append to a data fram\n",
    "# initialise empty data frame\n",
    "data = pd.DataFrame(columns = ['P_num','Present time', 'RT'])\n",
    "rt = np.zeros((60,3))\n",
    "for n in range(1,4):\n",
    "    a = pd.read_csv(f\"['{n}']resptime.csv\")\n",
    "    a = a.rename(columns = {'Unnamed: 0':'P_num'})\n",
    "    a.P_num = n\n",
    "    rt[:,n-1] = np.array(a.RT)\n",
    "    b = a.join(input_list)\n",
    "    data = data.append(b, sort=False)\n",
    "\n",
    "data.head()"
   ]
  },
  {
   "cell_type": "code",
   "execution_count": 132,
   "metadata": {},
   "outputs": [
    {
     "name": "stderr",
     "output_type": "stream",
     "text": [
      "C:\\Users\\lauri\\Anaconda3\\lib\\site-packages\\scipy\\stats\\stats.py:1713: FutureWarning: Using a non-tuple sequence for multidimensional indexing is deprecated; use `arr[tuple(seq)]` instead of `arr[seq]`. In the future this will be interpreted as an array index, `arr[np.array(seq)]`, which will result either in an error or a different result.\n",
      "  return np.add.reduce(sorted[indexer] * weights, axis=axis) / sumval\n"
     ]
    },
    {
     "data": {
      "text/plain": [
       "<matplotlib.axes._subplots.AxesSubplot at 0x1f67a3fcac8>"
      ]
     },
     "execution_count": 132,
     "metadata": {},
     "output_type": "execute_result"
    },
    {
     "data": {
      "image/png": "[encoded data removed]",
      "text/plain": [
       "<Figure size 432x288 with 1 Axes>"
      ]
     },
     "metadata": {
      "needs_background": "light"
     },
     "output_type": "display_data"
    }
   ],
   "source": [
    "# plot RT for all participants\n",
    "sns.violinplot(x='Condition', y='RT', data=data)"
   ]
  },
  {
   "cell_type": "code",
   "execution_count": 122,
   "metadata": {},
   "outputs": [
    {
     "name": "stderr",
     "output_type": "stream",
     "text": [
      "C:\\Users\\lauri\\Anaconda3\\lib\\site-packages\\scipy\\stats\\stats.py:1713: FutureWarning: Using a non-tuple sequence for multidimensional indexing is deprecated; use `arr[tuple(seq)]` instead of `arr[seq]`. In the future this will be interpreted as an array index, `arr[np.array(seq)]`, which will result either in an error or a different result.\n",
      "  return np.add.reduce(sorted[indexer] * weights, axis=axis) / sumval\n"
     ]
    },
    {
     "data": {
      "text/plain": [
       "<matplotlib.axes._subplots.AxesSubplot at 0x1f67926ac88>"
      ]
     },
     "execution_count": 122,
     "metadata": {},
     "output_type": "execute_result"
    },
    {
     "data": {
      "image/png": "[encoded data removed]",
      "text/plain": [
       "<Figure size 432x288 with 1 Axes>"
      ]
     },
     "metadata": {
      "needs_background": "light"
     },
     "output_type": "display_data"
    }
   ],
   "source": [
    "# plot mean RT across conditions\n",
    "av_rt = np.mean(rt,1)\n",
    "data1 = pd.DataFrame(av_rt, columns= ['RT'])\n",
    "data2 = data1.join(input_list.Condition)\n",
    "sns.violinplot(x='Condition', y='RT', data=data2)"
   ]
  },
  {
   "cell_type": "markdown",
   "metadata": {},
   "source": [
    "# Linear regression\n",
    "I am analysing the time it takes to complete the utterance, even if normally I would be interested in onset time of production and length of production. As to have that info I would have to use praat, I use RTs to move to the next trial as example to analyse data."
   ]
  },
  {
   "cell_type": "code",
   "execution_count": 133,
   "metadata": {},
   "outputs": [
    {
     "name": "stdout",
     "output_type": "stream",
     "text": [
      "R-squared is 0.08068355002275274\n"
     ]
    }
   ],
   "source": [
    "# linear regression\n",
    "X = pd.get_dummies(data2['Condition'])  # this syntax lets us select multiple columns from the dataframe\n",
    "y = data2['RT']\n",
    "model = linear_model.LinearRegression()  # instantiate a linear model\n",
    "model.fit(X, y)  # fit the model betas\n",
    "y_predicted = model.predict(X)  # predict y from X\n",
    "r2 = r2_score(y, y_predicted)  # calculate model R-squared\n",
    "print(f'R-squared is {r2}')"
   ]
  }
 ],
 "metadata": {
  "kernelspec": {
   "display_name": "Python 3",
   "language": "python",
   "name": "python3"
  },
  "language_info": {
   "codemirror_mode": {
    "name": "ipython",
    "version": 3
   },
   "file_extension": ".py",
   "mimetype": "text/x-python",
   "name": "python",
   "nbconvert_exporter": "python",
   "pygments_lexer": "ipython3",
   "version": "3.7.0"
  }
 },
 "nbformat": 4,
 "nbformat_minor": 2
}
