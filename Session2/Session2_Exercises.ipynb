{
 "cells": [
  {
   "cell_type": "markdown",
   "metadata": {},
   "source": [
    "## Extra homework: `sys.getsizeof()`\n",
    "Python has a built-in function that returns the size of an object in memory. The extra exercise for this week's session is to use `getsizeof()` to query the size of different Python objects."
   ]
  },
  {
   "cell_type": "code",
   "execution_count": 2,
   "metadata": {},
   "outputs": [
    {
     "name": "stdout",
     "output_type": "stream",
     "text": [
      "size of a boolean: 28\n",
      "size of an int: 28\n",
      "size of a single character: 50\n"
     ]
    }
   ],
   "source": [
    "from sys import getsizeof  # don't worry about this import statement, we will explain how this works next week!\n",
    "\n",
    "print(f'size of a boolean: {getsizeof(True)}')\n",
    "print(f'size of an int: {getsizeof(4)}')\n",
    "print(f'size of a single character: {getsizeof(\"a\")}')"
   ]
  },
  {
   "cell_type": "markdown",
   "metadata": {},
   "source": [
    "Notice how we use _f-strings_ to create a little printing template, then put the code we want to evaluate between curly brackets. This is a neat way of formatting the output from your scripts.  \n",
    "\n",
    "Now use `getsizeof()` to compare the memory footprint of integers of different magnitudes and floats."
   ]
  },
  {
   "cell_type": "code",
   "execution_count": 22,
   "metadata": {},
   "outputs": [
    {
     "name": "stdout",
     "output_type": "stream",
     "text": [
      "size of a small int: 28\n",
      "size of a large int: 28\n",
      "the size of a small and large int are the same: True\n",
      "size of a small float: 24\n",
      "size of a large float: 24\n",
      "the size of a small and large floats are the same: True\n",
      "floats need less memory than integers True\n"
     ]
    }
   ],
   "source": [
    "print(f'size of a small int: {getsizeof(1)}')\n",
    "print(f'size of a large int: {getsizeof(1000000000)}')\n",
    "print(f'the size of a small and large int are the same: {getsizeof(1) == getsizeof(1000000000)}')\n",
    "\n",
    "print(f'size of a small float: {getsizeof(1.0)}')\n",
    "print(f'size of a large float: {getsizeof(1000000000.0)}')\n",
    "print(f'the size of a small and large floats are the same: {getsizeof(1.0) == getsizeof(1000000000.0)}')\n",
    "\n",
    "print(f'floats need less memory than integers {getsizeof(1.0) < getsizeof(1)}')"
   ]
  },
  {
   "cell_type": "markdown",
   "metadata": {},
   "source": [
    "Examine the memory footprint of different strings.  \n",
    "__HINT:__ If you use f-strings to format your output here, keep in mind the single quotes denote the beginning and end of your string. If you want to denote another string inside the curly brackets in your f-string, use double quotes to avoid confusing the Python interpreter."
   ]
  },
  {
   "cell_type": "code",
   "execution_count": 29,
   "metadata": {},
   "outputs": [
    {
     "name": "stdout",
     "output_type": "stream",
     "text": [
      "size of letter: 50\n",
      "size of word: 55\n",
      "size of two words: 61\n",
      "size of three words: 69\n",
      "size of four words: 73\n"
     ]
    }
   ],
   "source": [
    "print(f'size of letter: {getsizeof(\"f\")}')\n",
    "print(f'size of word: {getsizeof(\"fennel\")}')\n",
    "print(f'size of two words: {getsizeof(\"fennel sucks\")}')\n",
    "print(f'size of three words: {getsizeof(\"fennel is disgusting\")}')\n",
    "print(f'size of four words: {getsizeof(\"fennel is an abomination\")}')"
   ]
  },
  {
   "cell_type": "markdown",
   "metadata": {},
   "source": [
    "Play around with tuples, lists, dicts, and sets to see how much memory they take up."
   ]
  },
  {
   "cell_type": "code",
   "execution_count": 6,
   "metadata": {},
   "outputs": [
    {
     "name": "stdout",
     "output_type": "stream",
     "text": [
      "size of a tuple: 64\n",
      "size of a list: 80\n",
      "size of a dictionary: 240\n"
     ]
    }
   ],
   "source": [
    "print(f'size of a tuple: {getsizeof((\"fennel\", \"celery\"))}')\n",
    "print(f'size of a list: {getsizeof([\"fennel\", \"celery\"])}')\n",
    "print(f'size of a dictionary: {getsizeof({\"fennel\":1, \"celery\":2})}')"
   ]
  },
  {
   "cell_type": "markdown",
   "metadata": {},
   "source": [
    "Use a `for` loop to square this list of numbers from 1 to 100000.  \n",
    "Use slicing to print the first ten squared number in the list. Then print the final ten squared numbers in the list."
   ]
  },
  {
   "cell_type": "code",
   "execution_count": 19,
   "metadata": {},
   "outputs": [
    {
     "name": "stdout",
     "output_type": "stream",
     "text": [
      "[0, 1, 4, 9, 16, 25, 36, 49, 64, 81]\n",
      "[9998000100, 9998200081, 9998400064, 9998600049, 9998800036, 9999000025, 9999200016, 9999400009, 9999600004, 9999800001]\n"
     ]
    }
   ],
   "source": [
    "one_to_ten_thousand = list(range(100000))\n",
    "\n",
    "squares = []  # empty list to store our squared numbers in\n",
    "\n",
    "for i in one_to_ten_thousand:\n",
    "    squares.append(i**2)\n",
    "    \n",
    "print(squares[:10])\n",
    "print(squares[-10:])"
   ]
  },
  {
   "cell_type": "markdown",
   "metadata": {},
   "source": [
    "Now examine the memory footprint of `one_to_ten_thousand` and `squares`."
   ]
  },
  {
   "cell_type": "code",
   "execution_count": null,
   "metadata": {},
   "outputs": [],
   "source": [
    "print(f'size of one-to-ten-thousand: {getsizeof(one-to-ten-thousand)}')\n",
    "print(f'size of squares: {getsizeof(squares)}')"
   ]
  },
  {
   "cell_type": "markdown",
   "metadata": {},
   "source": [
    "Write a list comprehension and a generator expression to do the same thing as the for loop above, and check the size of the list and the generator you've created. You'll see that a generator can save a lot of memory in some cases.  \n",
    "\n",
    "__HINT:__ As noted in today's lecture, printing a generator object doesn't give you the contents, but something like `<generator>` instead, because the generator values are only created on iteration. This means you can't print slices of the generator either.  \n",
    "Wrapping your generator in a `list()` call turns it into a list, which allows you to do the aforementioned printing, but converting to a list also makes the size balloon. (Can you see this happening using `getsizeof()`?)"
   ]
  },
  {
   "cell_type": "code",
   "execution_count": 23,
   "metadata": {},
   "outputs": [
    {
     "name": "stdout",
     "output_type": "stream",
     "text": [
      "[0, 1, 4, 9, 16, 25, 36, 49, 64, 81]\n",
      "[9998000100, 9998200081, 9998400064, 9998600049, 9998800036, 9999000025, 9999200016, 9999400009, 9999600004, 9999800001]\n",
      "size of list comprehension: 824464\n",
      "size of generator: 88\n",
      "size of generator_list: 879840\n"
     ]
    }
   ],
   "source": [
    "squares_comp = [i**2 for i in one_to_ten_thousand]\n",
    "print(squares_comp[:10])\n",
    "print(squares_comp[-10:])\n",
    "\n",
    "squares_gen = (i**2 for i in one_to_ten_thousand)\n",
    "\n",
    "squares_list = list(i**2 for i in one_to_ten_thousand)\n",
    "\n",
    "print(f'size of list comprehension: {getsizeof(squares_comp)}')\n",
    "print(f'size of generator: {getsizeof(squares_gen)}')\n",
    "print(f'size of listed generator: {getsizeof(squares_list)}')"
   ]
  }
 ],
 "metadata": {
  "kernelspec": {
   "display_name": "Python 3",
   "language": "python",
   "name": "python3"
  },
  "language_info": {
   "codemirror_mode": {
    "name": "ipython",
    "version": 3
   },
   "file_extension": ".py",
   "mimetype": "text/x-python",
   "name": "python",
   "nbconvert_exporter": "python",
   "pygments_lexer": "ipython3",
   "version": "3.6.5"
  }
 },
 "nbformat": 4,
 "nbformat_minor": 2
}
