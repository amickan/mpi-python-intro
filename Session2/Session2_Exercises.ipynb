{
 "cells": [
  {
   "cell_type": "markdown",
   "metadata": {},
   "source": [
    "## Extra homework: `sys.getsizeof()`\n",
    "Python has a built-in function that returns the size of an object in memory. The extra exercise for this week's session is to use `getsizeof()` to query the size of different Python objects."
   ]
  },
  {
   "cell_type": "code",
   "execution_count": 2,
   "metadata": {},
   "outputs": [
    {
     "name": "stdout",
     "output_type": "stream",
     "text": [
      "size of a boolean: 28\n",
      "size of an int: 28\n",
      "size of a single character: 50\n"
     ]
    }
   ],
   "source": [
    "from sys import getsizeof  # don't worry about this import statement, we will explain how this works next week!\n",
    "\n",
    "print(f'size of a boolean: {getsizeof(True)}')\n",
    "print(f'size of an int: {getsizeof(4)}')\n",
    "print(f'size of a single character: {getsizeof(\"a\")}')"
   ]
  },
  {
   "cell_type": "markdown",
   "metadata": {},
   "source": [
    "Notice how we use _f-strings_ to create a little printing template, then put the code we want to evaluate between curly brackets. This is a neat way of formatting the output from your scripts.  \n",
    "\n",
    "Now use `getsizeof()` to compare the memory footprint of integers of different magnitudes and floats."
   ]
  },
  {
   "cell_type": "code",
   "execution_count": null,
   "metadata": {},
   "outputs": [],
   "source": [
    "print(f'size of a float: {getsizeof(4.78)}')\n",
    "print(f'size of a float: {getsizeof(487.768)}')\n",
    "print(f'size of a float: {getsizeof(0.00000000000008)}')\n",
    "print(f'size of a float: {getsizeof(4888888888888887.768)}')\n",
    "print(f'size of an int: {getsizeof(8)}')\n",
    "print(f'size of an int: {getsizeof(88888888888890)}')"
   ]
  },
  {
   "cell_type": "markdown",
   "metadata": {},
   "source": [
    "Examine the memory footprint of different strings.  \n",
    "__HINT:__ If you use f-strings to format your output here, keep in mind the single quotes denote the beginning and end of your string. If you want to denote another string inside the curly brackets in your f-string, use double quotes to avoid confusing the Python interpreter."
   ]
  },
  {
   "cell_type": "code",
   "execution_count": null,
   "metadata": {},
   "outputs": [],
   "source": [
    "print(f'size of a str: {getsizeof(\"Apples\")}')\n",
    "print(f'size of a str: {getsizeof(\"A million apples\")}')\n",
    "print(f'size of a str: {getsizeof(\"I eat on average a million apples a year\")}')"
   ]
  },
  {
   "cell_type": "markdown",
   "metadata": {},
   "source": [
    "Play around with tuples, lists, dicts, and sets to see how much memory they take up."
   ]
  },
  {
   "cell_type": "code",
   "execution_count": null,
   "metadata": {},
   "outputs": [],
   "source": [
    "#tuples\n",
    "Tup1 = (1, 15, 1500)\n",
    "Tup2 = ('One', 'Fifteen', 'Fifteenhundred')\n",
    "Tup3 = ('One', 'Fifteen', 'Fifteenhundred', 'is the same as', 1, 15, 1500)\n",
    "print(f'size of the first tuple: {getsizeof(Tup1)}')\n",
    "print(f'size of the second tuple: {getsizeof(Tup2)}')\n",
    "print(f'size of the third tuple: {getsizeof(Tup3)}')\n",
    "\n",
    "#lists\n",
    "List1 = ['den', 'iep', 'kastanje']\n",
    "List2 = ['den', 'iep', 'kastanje', 'populier', 'palm']\n",
    "List3 = ['den', 'iep', 'kastanje', 'populier', 'palm', 'wilg', 'treurwilg', 'boswilg']\n",
    "print(f'size of the first list: {getsizeof(List1)}')\n",
    "print(f'size of the second list: {getsizeof(List2)}')\n",
    "print(f'size of the third list: {getsizeof(List3)}')\n",
    "\n",
    "#dictionaries\n",
    "Dict1 = {'Dennen': 489273, 'Iepen': 757380, 'Populieren': 902972}\n",
    "Dict2 = {'Dennen': 489273, 'Iepen': 757380, 'Populieren': 902972, 'Kastanjes': 25600098, 'Palmbomen': 3}\n",
    "Dict3 = {'Dennen': 489273, 'Iepen': 757380, 'Populieren': 902972, 'Kastanjes': 25600098, 'Palmbomen': 3, 'Wilgen': 1887383, 'Treuwilgen': 37722, 'Boswilgen':7362}\n",
    "print(f'size of the first dictionary: {getsizeof(Dict1)}')\n",
    "print(f'size of the second dictionary: {getsizeof(Dict2)}')\n",
    "print(f'size of the third dictionary: {getsizeof(Dict3)}')\n"
   ]
  },
  {
   "cell_type": "markdown",
   "metadata": {},
   "source": [
    "Use a `for` loop to square this list of numbers from 1 to 100000.  \n",
    "Use slicing to print the first ten squared number in the list. Then print the final ten squared numbers in the list."
   ]
  },
  {
   "cell_type": "code",
   "execution_count": null,
   "metadata": {},
   "outputs": [],
   "source": [
    "one_to_ten_thousand = list(range(100000))\n",
    "\n",
    "squares = []  # empty list to store our squared numbers in\n",
    "\n",
    "for i in one_to_ten_thousand:\n",
    "    squares.append(i ** 2)\n",
    "\n",
    "first_squares = squares[0:10]\n",
    "last_squares = squares[-10:]\n",
    "print(first_squares)\n",
    "print(last_squares)\n"
   ]
  },
  {
   "cell_type": "markdown",
   "metadata": {},
   "source": [
    "Now examine the memory footprint of `one_to_ten_thousand` and `squares`."
   ]
  },
  {
   "cell_type": "code",
   "execution_count": null,
   "metadata": {},
   "outputs": [],
   "source": [
    "print(f'size of ten thousand numbers: {getsizeof(one_to_ten_thousand)}')\n",
    "print(f'size of the squares: {getsizeof(squares)}')"
   ]
  },
  {
   "cell_type": "markdown",
   "metadata": {},
   "source": [
    "Write a list comprehension and a generator expression to do the same thing as the for loop above, and check the size of the list and the generator you've created. You'll see that a generator can save a lot of memory in some cases.  \n",
    "\n",
    "__HINT:__ As noted in today's lecture, printing a generator object doesn't give you the contents, but something like `<generator>` instead, because the generator values are only created on iteration. This means you can't print slices of the generator either.  \n",
    "Wrapping your generator in a `list()` call turns it into a list, which allows you to do the aforementioned printing, but converting to a list also makes the size balloon. (Can you see this happening using `getsizeof()`?)"
   ]
  },
  {
   "cell_type": "code",
   "execution_count": 3,
   "metadata": {},
   "outputs": [
    {
     "name": "stdout",
     "output_type": "stream",
     "text": [
      "[0, 1, 4, 9, 16, 25, 36, 49, 64, 81, 100, 121, 144, 169, 196, 225, 256, 289, 324, 361, 400, 441, 484, 529, 576, 625, 676, 729, 784, 841, 900, 961, 1024, 1089, 1156, 1225, 1296, 1369, 1444, 1521, 1600, 1681, 1764, 1849, 1936, 2025, 2116, 2209, 2304, 2401, 2500, 2601, 2704, 2809, 2916, 3025, 3136, 3249, 3364, 3481, 3600, 3721, 3844, 3969, 4096, 4225, 4356, 4489, 4624, 4761, 4900, 5041, 5184, 5329, 5476, 5625, 5776, 5929, 6084, 6241, 6400, 6561, 6724, 6889, 7056, 7225, 7396, 7569, 7744, 7921, 8100, 8281, 8464, 8649, 8836, 9025, 9216, 9409, 9604, 9801]\n",
      "1\n",
      "2\n",
      "4\n",
      "8\n",
      "16\n",
      "32\n",
      "64\n",
      "128\n",
      "256\n",
      "512\n",
      "1024\n",
      "2048\n",
      "4096\n",
      "8192\n",
      "16384\n",
      "32768\n",
      "65536\n",
      "131072\n",
      "262144\n",
      "524288\n",
      "1048576\n",
      "2097152\n",
      "4194304\n",
      "8388608\n",
      "16777216\n",
      "33554432\n",
      "67108864\n",
      "134217728\n",
      "268435456\n",
      "536870912\n",
      "1073741824\n",
      "2147483648\n",
      "4294967296\n",
      "8589934592\n",
      "17179869184\n",
      "34359738368\n",
      "68719476736\n",
      "137438953472\n",
      "274877906944\n",
      "549755813888\n",
      "1099511627776\n",
      "2199023255552\n",
      "4398046511104\n",
      "8796093022208\n",
      "17592186044416\n",
      "35184372088832\n",
      "70368744177664\n",
      "140737488355328\n",
      "281474976710656\n",
      "562949953421312\n",
      "1125899906842624\n",
      "2251799813685248\n",
      "4503599627370496\n",
      "9007199254740992\n",
      "18014398509481984\n",
      "36028797018963968\n",
      "72057594037927936\n",
      "144115188075855872\n",
      "288230376151711744\n",
      "576460752303423488\n",
      "1152921504606846976\n",
      "2305843009213693952\n",
      "4611686018427387904\n",
      "9223372036854775808\n",
      "18446744073709551616\n",
      "36893488147419103232\n",
      "73786976294838206464\n",
      "147573952589676412928\n",
      "295147905179352825856\n",
      "590295810358705651712\n",
      "1180591620717411303424\n",
      "2361183241434822606848\n",
      "4722366482869645213696\n",
      "9444732965739290427392\n",
      "18889465931478580854784\n",
      "37778931862957161709568\n",
      "75557863725914323419136\n",
      "151115727451828646838272\n",
      "302231454903657293676544\n",
      "604462909807314587353088\n",
      "1208925819614629174706176\n",
      "2417851639229258349412352\n",
      "4835703278458516698824704\n",
      "9671406556917033397649408\n",
      "19342813113834066795298816\n",
      "38685626227668133590597632\n",
      "77371252455336267181195264\n",
      "154742504910672534362390528\n",
      "309485009821345068724781056\n",
      "618970019642690137449562112\n",
      "1237940039285380274899124224\n",
      "2475880078570760549798248448\n",
      "4951760157141521099596496896\n",
      "9903520314283042199192993792\n",
      "19807040628566084398385987584\n",
      "39614081257132168796771975168\n",
      "79228162514264337593543950336\n",
      "158456325028528675187087900672\n",
      "316912650057057350374175801344\n",
      "633825300114114700748351602688\n",
      "size of list: 912\n",
      "size of generator: 88\n"
     ]
    }
   ],
   "source": [
    "#I tried doing this with list(range(10000)), but my computer couldn't handle it.. So:\n",
    "one_to_hundred = list(range(100))\n",
    "\n",
    "#Write a list comprehension\n",
    "squaresListC = [number ** 2 for number in one_to_hundred]\n",
    "print(squaresListC)\n",
    "\n",
    "#write a generator expression\n",
    "squaresGen = (2 ** number for number in one_to_hundred)\n",
    "\n",
    "for squares in squaresGen:\n",
    "    print(squares)\n",
    "\n",
    "print(f'size of list: {getsizeof(squaresListC)}')\n",
    "print(f'size of generator: {getsizeof(squaresGen)}')"
   ]
  }
 ],
 "metadata": {
  "kernelspec": {
   "display_name": "Python 3",
   "language": "python",
   "name": "python3"
  },
  "language_info": {
   "codemirror_mode": {
    "name": "ipython",
    "version": 3
   },
   "file_extension": ".py",
   "mimetype": "text/x-python",
   "name": "python",
   "nbconvert_exporter": "python",
   "pygments_lexer": "ipython3",
   "version": "3.6.5"
  }
 },
 "nbformat": 4,
 "nbformat_minor": 2
}
