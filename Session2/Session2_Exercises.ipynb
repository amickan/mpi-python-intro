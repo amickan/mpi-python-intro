{
 "cells": [
  {
   "cell_type": "markdown",
   "metadata": {},
   "source": [
    "## Extra homework: `sys.getsizeof()`\n",
    "Python has a built-in function that returns the size of an object in memory. The extra exercise for this week's session is to use `getsizeof()` to query the size of different Python objects."
   ]
  },
  {
   "cell_type": "code",
   "execution_count": 1,
   "metadata": {},
   "outputs": [
    {
     "name": "stdout",
     "output_type": "stream",
     "text": [
      "size of a boolean: 28\n",
      "size of an int: 28\n",
      "size of a single character: 50\n"
     ]
    }
   ],
   "source": [
    "from sys import getsizeof  # don't worry about this import statement, we will explain how this works next week!\n",
    "\n",
    "print(f'size of a boolean: {getsizeof(True)}')\n",
    "print(f'size of an int: {getsizeof(4)}')\n",
    "print(f'size of a single character: {getsizeof(\"a\")}')"
   ]
  },
  {
   "cell_type": "markdown",
   "metadata": {},
   "source": [
    "Notice how we use _f-strings_ to create a little printing template, then put the code we want to evaluate between curly brackets. This is a neat way of formatting the output from your scripts.  \n",
    "\n",
    "Now use `getsizeof()` to compare the memory footprint of integers of different magnitudes and floats."
   ]
  },
  {
   "cell_type": "code",
   "execution_count": 4,
   "metadata": {},
   "outputs": [
    {
     "name": "stdout",
     "output_type": "stream",
     "text": [
      "size of number 4: 28\n",
      "size of number 4: 28\n",
      "size of number 4: 24\n"
     ]
    }
   ],
   "source": [
    "from sys import getsizeof\n",
    "\n",
    "print(f'size of number 4: {getsizeof(4)}')\n",
    "print(f'size of number 4: {getsizeof(5)}')\n",
    "print(f'size of number 4: {getsizeof(4.00)}')"
   ]
  },
  {
   "cell_type": "markdown",
   "metadata": {},
   "source": [
    "Examine the memory footprint of different strings.  \n",
    "__HINT:__ If you use f-strings to format your output here, keep in mind the single quotes denote the beginning and end of your string. If you want to denote another string inside the curly brackets in your f-string, use double quotes to avoid confusing the Python interpreter."
   ]
  },
  {
   "cell_type": "code",
   "execution_count": 14,
   "metadata": {},
   "outputs": [
    {
     "name": "stdout",
     "output_type": "stream",
     "text": [
      "size of number 4: 52\n",
      "size of number 4: 52\n"
     ]
    }
   ],
   "source": [
    "print(f\"size of number 4: {getsizeof('eat')}\")\n",
    "print(f'size of number 4: {getsizeof(\"eat\")}')\n"
   ]
  },
  {
   "cell_type": "markdown",
   "metadata": {},
   "source": [
    "Play around with tuples, lists, dicts, and sets to see how much memory they take up."
   ]
  },
  {
   "cell_type": "code",
   "execution_count": 10,
   "metadata": {},
   "outputs": [
    {
     "name": "stdout",
     "output_type": "stream",
     "text": [
      "[0, 1, 2, 3, 4] (0, 1, 2, 3, 4) {0, 1, 2, 3, 4}\n",
      "size of list: 128\n",
      "size of tuple: 88\n",
      "size of dict: 736\n"
     ]
    }
   ],
   "source": [
    "lis = list(range(5))\n",
    "tup = (0,1,2,3,4)\n",
    "dic = {number for number in lis}\n",
    "print(lis, tup, dic)\n",
    "print(f'size of list: {getsizeof(lis)}')\n",
    "print(f'size of tuple: {getsizeof(tup)}')\n",
    "print(f'size of dict: {getsizeof(dic)}')"
   ]
  },
  {
   "cell_type": "markdown",
   "metadata": {},
   "source": [
    "Use a `for` loop to square this list of numbers from 1 to 100000.  \n",
    "Use slicing to print the first ten squared number in the list. Then print the final ten squared numbers in the list."
   ]
  },
  {
   "cell_type": "code",
   "execution_count": 24,
   "metadata": {},
   "outputs": [
    {
     "name": "stdout",
     "output_type": "stream",
     "text": [
      "[1, 4, 9, 16, 25, 36, 49, 64, 81, 100]\n",
      "[8281, 8464, 8649, 8836, 9025, 9216, 9409, 9604, 9801, 10000]\n"
     ]
    }
   ],
   "source": [
    "one_to_ten_thousand = list(range(100000))\n",
    "squares = []  # empty list to store our squared numbers in\n",
    "for i in range(100):\n",
    "    squares.append((i+1)*(i+1))  # change this line to square each number and append it here\n",
    "# print stuff\n",
    "print(squares[:10])\n",
    "print(squares[-10:])"
   ]
  },
  {
   "cell_type": "markdown",
   "metadata": {},
   "source": [
    "Now examine the memory footprint of `one_to_ten_thousand` and `squares`."
   ]
  },
  {
   "cell_type": "code",
   "execution_count": 25,
   "metadata": {},
   "outputs": [
    {
     "name": "stdout",
     "output_type": "stream",
     "text": [
      "size of number 4: 900112\n",
      "size of number 4: 912\n"
     ]
    }
   ],
   "source": [
    "print(f'size of number 4: {getsizeof(one_to_ten_thousand)}')\n",
    "print(f'size of number 4: {getsizeof(squares)}')"
   ]
  },
  {
   "cell_type": "markdown",
   "metadata": {},
   "source": [
    "Write a list comprehension and a generator expression to do the same thing as the for loop above, and check the size of the list and the generator you've created. You'll see that a generator can save a lot of memory in some cases.  \n",
    "\n",
    "__HINT:__ As noted in today's lecture, printing a generator object doesn't give you the contents, but something like `<generator>` instead, because the generator values are only created on iteration. This means you can't print slices of the generator either.  \n",
    "Wrapping your generator in a `list()` call turns it into a list, which allows you to do the aforementioned printing, but converting to a list also makes the size balloon. (Can you see this happening using `getsizeof()`?)"
   ]
  },
  {
   "cell_type": "code",
   "execution_count": 30,
   "metadata": {},
   "outputs": [
    {
     "name": "stdout",
     "output_type": "stream",
     "text": [
      "size of number 4: 912\n",
      "size of number 4: 82\n"
     ]
    }
   ],
   "source": [
    "squ = [(x+1)*(x+1) for x in range(100)]\n",
    "print(f'size of number 4: {getsizeof(squ)}')\n",
    "print(f'size of number 4: {getsizeof(\"[(x+1)*(x+1) for x in range(100)]\")}')\n"
   ]
  }
 ],
 "metadata": {
  "kernelspec": {
   "display_name": "Python 3",
   "language": "python",
   "name": "python3"
  },
  "language_info": {
   "codemirror_mode": {
    "name": "ipython",
    "version": 3
   },
   "file_extension": ".py",
   "mimetype": "text/x-python",
   "name": "python",
   "nbconvert_exporter": "python",
   "pygments_lexer": "ipython3",
   "version": "3.7.0"
  }
 },
 "nbformat": 4,
 "nbformat_minor": 2
}
