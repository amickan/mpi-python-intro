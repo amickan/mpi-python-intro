{
 "cells": [
  {
   "cell_type": "markdown",
   "metadata": {},
   "source": [
    "## Extra homework: `sys.getsizeof()`\n",
    "Python has a built-in function that returns the size of an object in memory. The extra exercise for this week's session is to use `getsizeof()` to query the size of different Python objects."
   ]
  },
  {
   "cell_type": "code",
   "execution_count": 1,
   "metadata": {},
   "outputs": [
    {
     "name": "stdout",
     "output_type": "stream",
     "text": [
      "size of a boolean: 28\n",
      "size of an int: 28\n",
      "size of a single character: 50\n"
     ]
    }
   ],
   "source": [
    "from sys import getsizeof  # don't worry about this import statement, we will explain how this works next week!\n",
    "\n",
    "print(f'size of a boolean: {getsizeof(True)}')\n",
    "print(f'size of an int: {getsizeof(4)}')\n",
    "print(f'size of a single character: {getsizeof(\"a\")}')"
   ]
  },
  {
   "cell_type": "markdown",
   "metadata": {},
   "source": [
    "Notice how we use _f-strings_ to create a little printing template, then put the code we want to evaluate between curly brackets. This is a neat way of formatting the output from your scripts.  \n",
    "\n",
    "Now use `getsizeof()` to compare the memory footprint of integers of different magnitudes and floats."
   ]
  },
  {
   "cell_type": "code",
   "execution_count": 15,
   "metadata": {},
   "outputs": [
    {
     "name": "stdout",
     "output_type": "stream",
     "text": [
      "size of integer: 28\n",
      "\n",
      "\n",
      "size of negative integer: 28\n",
      "size of large negative integer: 28\n",
      "size of large integer: 28\n",
      "size of super large integer: 52\n",
      "size of float: 24\n",
      "size of negative float: 24\n",
      "size of large negative float: 24\n",
      "size of super small float: 24\n",
      "size of super large float: 52\n"
     ]
    }
   ],
   "source": [
    "#integers\n",
    "print(f'size of integer: {getsizeof(2)}')\n",
    "\n",
    "print(f'size of negative integer: {getsizeof(-2)}')\n",
    "print(f'size of large negative integer: {getsizeof(-2000000)}')\n",
    "\n",
    "print(f'size of large integer: {getsizeof(200)}')\n",
    "print(f'size of super large integer: {getsizeof(20000000000000000000000000000000000000000000000000000000000000)}')\n",
    "\n",
    "\n",
    "#floats\n",
    "print(f'size of float: {getsizeof(2.0)}')\n",
    "\n",
    "print(f'size of negative float: {getsizeof(-2.0)}')\n",
    "print(f'size of large negative float: {getsizeof(-20000000.0)}')\n",
    "\n",
    "print(f'size of super small float: {getsizeof(.0000000000000000000000000000000002)}')\n",
    "print(f'size of super large float: {getsizeof(20000000000000000000000000000000000000000000000000000000000000)}')"
   ]
  },
  {
   "cell_type": "markdown",
   "metadata": {},
   "source": [
    "Examine the memory footprint of different strings.  \n",
    "__HINT:__ If you use f-strings to format your output here, keep in mind the single quotes denote the beginning and end of your string. If you want to denote another string inside the curly brackets in your f-string, use double quotes to avoid confusing the Python interpreter."
   ]
  },
  {
   "cell_type": "code",
   "execution_count": 18,
   "metadata": {},
   "outputs": [
    {
     "name": "stdout",
     "output_type": "stream",
     "text": [
      "size of one word: 54\n",
      "size of one sentence: 72\n",
      "size of one longer sentence: 115\n"
     ]
    }
   ],
   "source": [
    "print(f'size of one word: {getsizeof(\"hello\")}')\n",
    "print(f'size of one sentence: {getsizeof(\"hello my name is Marlou\")}')\n",
    "print(f'size of one longer sentence: {getsizeof(\"hello my name is Marlou and I am learning how to program in Python\")}')"
   ]
  },
  {
   "cell_type": "markdown",
   "metadata": {},
   "source": [
    "Play around with tuples, lists, dicts, and sets to see how much memory they take up."
   ]
  },
  {
   "cell_type": "code",
   "execution_count": 22,
   "metadata": {},
   "outputs": [
    {
     "name": "stdout",
     "output_type": "stream",
     "text": [
      "size of tuple: 72\n",
      "size of list: 88\n",
      "size of dict: 240\n",
      "size of set: 224\n"
     ]
    }
   ],
   "source": [
    "my_tuple = ('hello', 'gutentag', 'bonjour')\n",
    "my_list = ['hello', 'gutentag', 'bonjour']\n",
    "my_dict = {'English': 'hello', 'German': 'gutentag', 'French': 'bonjour'}\n",
    "my_set = {'hello', 'gutentag', 'bonjour'}\n",
    "\n",
    "print(f'size of tuple: {getsizeof(my_tuple)}')\n",
    "print(f'size of list: {getsizeof(my_list)}')\n",
    "print(f'size of dict: {getsizeof(my_dict)}')\n",
    "print(f'size of set: {getsizeof(my_set)}')"
   ]
  },
  {
   "cell_type": "markdown",
   "metadata": {},
   "source": [
    "Use a `for` loop to square this list of numbers from 1 to 100000.  \n",
    "Use slicing to print the first ten squared number in the list. Then print the final ten squared numbers in the list."
   ]
  },
  {
   "cell_type": "code",
   "execution_count": 32,
   "metadata": {},
   "outputs": [
    {
     "name": "stdout",
     "output_type": "stream",
     "text": [
      "[0, 1, 4, 9, 16, 25, 36, 49, 64, 81]\n",
      "[9998000100, 9998200081, 9998400064, 9998600049, 9998800036, 9999000025, 9999200016, 9999400009, 9999600004, 9999800001]\n"
     ]
    }
   ],
   "source": [
    "one_to_ten_thousand = list(range(100000))\n",
    "squares = []  # empty list to store our squared numbers in\n",
    "for i in one_to_ten_thousand:\n",
    "    squares.append(i**2)  # change this line to square each number and append it here\n",
    "\n",
    "print(squares[:10])\n",
    "print(squares[-10:])"
   ]
  },
  {
   "cell_type": "markdown",
   "metadata": {},
   "source": [
    "Now examine the memory footprint of `one_to_ten_thousand` and `squares`."
   ]
  },
  {
   "cell_type": "code",
   "execution_count": 33,
   "metadata": {},
   "outputs": [
    {
     "name": "stdout",
     "output_type": "stream",
     "text": [
      "size of one_to_ten_thousand: 900112\n",
      "size of squares: 824464\n"
     ]
    }
   ],
   "source": [
    "print(f'size of one_to_ten_thousand: {getsizeof(one_to_ten_thousand)}')\n",
    "print(f'size of squares: {getsizeof(squares)}')"
   ]
  },
  {
   "cell_type": "markdown",
   "metadata": {},
   "source": [
    "Write a list comprehension and a generator expression to do the same thing as the for loop above, and check the size of the list and the generator you've created. You'll see that a generator can save a lot of memory in some cases.  \n",
    "\n",
    "__HINT:__ As noted in today's lecture, printing a generator object doesn't give you the contents, but something like `<generator>` instead, because the generator values are only created on iteration. This means you can't print slices of the generator either.  \n",
    "Wrapping your generator in a `list()` call turns it into a list, which allows you to do the aforementioned printing, but converting to a list also makes the size balloon. (Can you see this happening using `getsizeof()`?)"
   ]
  },
  {
   "cell_type": "code",
   "execution_count": 36,
   "metadata": {},
   "outputs": [
    {
     "name": "stdout",
     "output_type": "stream",
     "text": [
      "<generator object <genexpr> at 0x000001E754666ED0>\n",
      "size of the list: 824464\n",
      "size of the generator: 120\n",
      "[0, 1, 4, 9, 16, 25, 36, 49, 64, 81]\n",
      "size of the generator converted to a list: 879840\n"
     ]
    }
   ],
   "source": [
    "#list comprehension\n",
    "one_to_ten_thousand = list(range(100000))\n",
    "squares_list = [number**2 for number in one_to_ten_thousand]  \n",
    "\n",
    "#generator expression\n",
    "one_to_ten_thousand = list(range(100000))\n",
    "squares_generator = (number**2 for number in one_to_ten_thousand)\n",
    "print(squares_generator) #check: this is a generator object\n",
    "\n",
    "print(f'size of the list: {getsizeof(squares_list)}')\n",
    "print(f'size of the generator: {getsizeof(squares_generator)}')\n",
    "\n",
    "#yep generator object is much smaller\n",
    "#what happens when I convert it to a list?\n",
    "squares_generator_converted_to_list = list(squares_generator)\n",
    "print(squares_generator_converted_to_list[:10]) #now I can just print the values\n",
    "print(f'size of the generator converted to a list: {getsizeof(squares_generator_converted_to_list)}')\n",
    "#now it's larger again, but similar in size to the initial list"
   ]
  }
 ],
 "metadata": {
  "kernelspec": {
   "display_name": "Python 3",
   "language": "python",
   "name": "python3"
  },
  "language_info": {
   "codemirror_mode": {
    "name": "ipython",
    "version": 3
   },
   "file_extension": ".py",
   "mimetype": "text/x-python",
   "name": "python",
   "nbconvert_exporter": "python",
   "pygments_lexer": "ipython3",
   "version": "3.7.0"
  }
 },
 "nbformat": 4,
 "nbformat_minor": 2
}
