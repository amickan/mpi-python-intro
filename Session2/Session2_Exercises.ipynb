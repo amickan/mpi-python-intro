{
 "cells": [
  {
   "cell_type": "markdown",
   "metadata": {},
   "source": [
    "## Extra homework: `sys.getsizeof()`\n",
    "Python has a built-in function that returns the size of an object in memory. The extra exercise for this week's session is to use `getsizeof()` to query the size of different Python objects."
   ]
  },
  {
   "cell_type": "code",
   "execution_count": 1,
   "metadata": {},
   "outputs": [
    {
     "name": "stdout",
     "output_type": "stream",
     "text": [
      "size of a boolean: 28\n",
      "size of an int: 28\n",
      "size of a single character: 50\n"
     ]
    }
   ],
   "source": [
    "from sys import getsizeof  # don't worry about this import statement, we will explain how this works next week!\n",
    "\n",
    "print(f'size of a boolean: {getsizeof(True)}')\n",
    "print(f'size of an int: {getsizeof(4)}')\n",
    "print(f'size of a single character: {getsizeof(\"a\")}')"
   ]
  },
  {
   "cell_type": "markdown",
   "metadata": {},
   "source": [
    "Notice how we use _f-strings_ to create a little printing template, then put the code we want to evaluate between curly brackets. This is a neat way of formatting the output from your scripts.  \n",
    "\n",
    "Now use `getsizeof()` to compare the memory footprint of integers of different magnitudes and floats."
   ]
  },
  {
   "cell_type": "code",
   "execution_count": 9,
   "metadata": {},
   "outputs": [
    {
     "name": "stdout",
     "output_type": "stream",
     "text": [
      "size of 10: 28\n",
      "size of 1000: 28\n",
      "size of 1000.000: 72\n",
      "size of 1000.99: 72\n",
      "size of 10.9: 72\n"
     ]
    }
   ],
   "source": [
    "print(f'size of 10: {getsizeof(10)}')\n",
    "print(f'size of 1000: {getsizeof(1000)}')\n",
    "print(f'size of 1000.000: {getsizeof([1000.000])}')\n",
    "print(f'size of 1000.99: {getsizeof([1000.99])}')\n",
    "print(f'size of 10.9: {getsizeof([10.9])}')"
   ]
  },
  {
   "cell_type": "markdown",
   "metadata": {},
   "source": [
    "Examine the memory footprint of different strings.  \n",
    "__HINT:__ If you use f-strings to format your output here, keep in mind the single quotes denote the beginning and end of your string. If you want to denote another string inside the curly brackets in your f-string, use double quotes to avoid confusing the Python interpreter."
   ]
  },
  {
   "cell_type": "code",
   "execution_count": 15,
   "metadata": {},
   "outputs": [
    {
     "name": "stdout",
     "output_type": "stream",
     "text": [
      "size of \"Maria\": 54\n",
      "size of \"Anna & Maria\": 61\n",
      "size of \"Are these typical German names?\": 80\n",
      "size of \"&\": 50\n",
      "size of \"M\": 50\n",
      "size of \"50 + number of letter - 1\": 74\n"
     ]
    }
   ],
   "source": [
    "print(f'size of \"Maria\": {getsizeof(\"Maria\")}')\n",
    "print(f'size of \"Anna & Maria\": {getsizeof(\"Anna & Maria\")}')\n",
    "print(f'size of \"Are these typical German names?\": {getsizeof(\"Are these typical German names?\")}')\n",
    "print(f'size of \"&\": {getsizeof(\"&\")}')\n",
    "print(f'size of \"M\": {getsizeof(\"M\")}')\n",
    "print(f'size of \"50 + number of letter - 1\": {getsizeof(\"50 + number of letter - 1\")}')"
   ]
  },
  {
   "cell_type": "markdown",
   "metadata": {},
   "source": [
    "Play around with tuples, lists, dicts, and sets to see how much memory they take up."
   ]
  },
  {
   "cell_type": "code",
   "execution_count": 19,
   "metadata": {},
   "outputs": [
    {
     "name": "stdout",
     "output_type": "stream",
     "text": [
      "size of m (tuple): 72\n",
      "size of n (list): 88\n",
      "size of o (dict): 240\n",
      "size of m (tuple): 80\n",
      "size of n (list): 96\n",
      "size of o (dict): 240\n"
     ]
    }
   ],
   "source": [
    "m = ('one', 2, 3.0)\n",
    "print(f'size of m (tuple): {getsizeof(m)}')\n",
    "n = ['broccoli', 'cauliflower', 'kale']\n",
    "print(f'size of n (list): {getsizeof(n)}')\n",
    "o = {'Jeroen': 374, 'Greta': 375, 'Lecture Room': 163}\n",
    "print(f'size of o (dict): {getsizeof(o)}')\n",
    "\n",
    "m2 = ('one', 2, 3.0, 'two')\n",
    "print(f'size of m (tuple): {getsizeof(m2)}')\n",
    "n2 = ['broccoli', 'cauliflower', 'kale', 'cinamon']\n",
    "print(f'size of n (list): {getsizeof(n2)}')\n",
    "o2 = {'Jeroen': 374, 'Greta': 375, 'Lecture Room': 163, 'Participants': 'all over the campus'}\n",
    "print(f'size of o (dict): {getsizeof(o2)}')"
   ]
  },
  {
   "cell_type": "markdown",
   "metadata": {},
   "source": [
    "Use a `for` loop to square this list of numbers from 1 to 100000.  \n",
    "Use slicing to print the first ten squared number in the list. Then print the final ten squared numbers in the list."
   ]
  },
  {
   "cell_type": "code",
   "execution_count": 35,
   "metadata": {},
   "outputs": [
    {
     "name": "stdout",
     "output_type": "stream",
     "text": [
      "[0, 1, 4, 9, 16, 25, 36, 49, 64, 81]\n",
      "[99800100, 99820081, 99840064, 99860049, 99880036, 99900025, 99920016, 99940009, 99960004, 99980001]\n",
      "[1, 4, 9, 16, 25, 36, 49, 64, 81, 100, 121, 144, 169, 196, 225, 256, 289, 324, 361, 400, 441, 484, 529, 576, 625, 676, 729, 784, 841, 900, 961, 1024, 1089, 1156, 1225, 1296, 1369, 1444, 1521, 1600, 1681, 1764, 1849, 1936, 2025, 2116, 2209, 2304, 2401, 2500, 2601, 2704, 2809, 2916, 3025, 3136, 3249, 3364, 3481, 3600, 3721, 3844, 3969, 4096, 4225, 4356, 4489, 4624, 4761, 4900, 5041, 5184, 5329, 5476, 5625, 5776, 5929, 6084, 6241, 6400, 6561, 6724, 6889, 7056, 7225, 7396, 7569, 7744, 7921, 8100, 8281, 8464, 8649, 8836, 9025, 9216, 9409, 9604, 9801, 10000]\n"
     ]
    }
   ],
   "source": [
    "one_to_ten_thousand = list(range(10000))\n",
    "squares = [number * number for number in one_to_ten_thousand]  # empty list to store our squared numbers in\n",
    "print(squares[:10])\n",
    "print(squares[-10:])\n",
    "\n",
    "squares2 = []\n",
    "one_to_hundred = list(range(1,101))\n",
    "for i in one_to_hundred:\n",
    "    squares2.append(i * i)  # change this line to square each number and append it here\n",
    "print(squares2)"
   ]
  },
  {
   "cell_type": "markdown",
   "metadata": {},
   "source": [
    "Now examine the memory footprint of `one_to_ten_thousand` and `squares`."
   ]
  },
  {
   "cell_type": "code",
   "execution_count": 30,
   "metadata": {},
   "outputs": [
    {
     "name": "stdout",
     "output_type": "stream",
     "text": [
      "size of one_to_ten_thousand: 90112\n",
      "size of squares: 87624\n"
     ]
    }
   ],
   "source": [
    "print(f'size of one_to_ten_thousand: {getsizeof(one_to_ten_thousand)}')\n",
    "print(f'size of squares: {getsizeof(squares)}') # why are the squares smaller?"
   ]
  },
  {
   "cell_type": "markdown",
   "metadata": {},
   "source": [
    "Write a list comprehension and a generator expression to do the same thing as the for loop above, and check the size of the list and the generator you've created. You'll see that a generator can save a lot of memory in some cases.  \n",
    "\n",
    "__HINT:__ As noted in today's lecture, printing a generator object doesn't give you the contents, but something like `<generator>` instead, because the generator values are only created on iteration. This means you can't print slices of the generator either.  \n",
    "Wrapping your generator in a `list()` call turns it into a list, which allows you to do the aforementioned printing, but converting to a list also makes the size balloon. (Can you see this happening using `getsizeof()`?)"
   ]
  },
  {
   "cell_type": "code",
   "execution_count": 37,
   "metadata": {},
   "outputs": [
    {
     "name": "stdout",
     "output_type": "stream",
     "text": [
      "size of squares_l (list comprehension): 87624\n",
      "size of squares_g (generator comprehension): 88\n",
      "size of squares_gl (lsit of generator comprehension): 83112\n"
     ]
    }
   ],
   "source": [
    "one_to_ten_thousand = list(range(10000))\n",
    "\n",
    "squares_l = [number * number for number in one_to_ten_thousand]\n",
    "print(f'size of squares_l (list comprehension): {getsizeof(squares_l)}')\n",
    "\n",
    "squares_g = (number * number for number in one_to_ten_thousand)\n",
    "print(f'size of squares_g (generator comprehension): {getsizeof(squares_g)}')\n",
    "\n",
    "squares_gl = (number * number for number in one_to_ten_thousand)\n",
    "print(f'size of squares_gl (lsit of generator comprehension): {getsizeof(list(squares_g))}')"
   ]
  }
 ],
 "metadata": {
  "kernelspec": {
   "display_name": "Python 3",
   "language": "python",
   "name": "python3"
  },
  "language_info": {
   "codemirror_mode": {
    "name": "ipython",
    "version": 3
   },
   "file_extension": ".py",
   "mimetype": "text/x-python",
   "name": "python",
   "nbconvert_exporter": "python",
   "pygments_lexer": "ipython3",
   "version": "3.6.8"
  }
 },
 "nbformat": 4,
 "nbformat_minor": 2
}
