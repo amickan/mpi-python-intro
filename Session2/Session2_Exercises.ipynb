{
 "cells": [
  {
   "cell_type": "markdown",
   "metadata": {},
   "source": [
    "## Extra homework: `sys.getsizeof()`\n",
    "Python has a built-in function that returns the size of an object in memory. The extra exercise for this week's session is to use `getsizeof()` to query the size of different Python objects."
   ]
  },
  {
   "cell_type": "code",
   "execution_count": 1,
   "metadata": {},
   "outputs": [
    {
     "name": "stdout",
     "output_type": "stream",
     "text": [
      "size of a boolean: 28\n",
      "size of an int: 28\n",
      "size of a single character: 50\n"
     ]
    }
   ],
   "source": [
    "from sys import getsizeof  # don't worry about this import statement, we will explain how this works next week!\n",
    "\n",
    "print(f'size of a boolean: {getsizeof(True)}')\n",
    "print(f'size of an int: {getsizeof(4)}')\n",
    "print(f'size of a single character: {getsizeof(\"a\")}')"
   ]
  },
  {
   "cell_type": "markdown",
   "metadata": {},
   "source": [
    "Notice how we use _f-strings_ to create a little printing template, then put the code we want to evaluate between curly brackets. This is a neat way of formatting the output from your scripts.  \n",
    "\n",
    "Now use `getsizeof()` to compare the memory footprint of integers of different magnitudes and floats."
   ]
  },
  {
   "cell_type": "code",
   "execution_count": 5,
   "metadata": {},
   "outputs": [
    {
     "name": "stdout",
     "output_type": "stream",
     "text": [
      "size of an int: 28\n",
      "size of an int: 32\n",
      "size of a float: 24\n"
     ]
    }
   ],
   "source": [
    "print(f'size of an int: {getsizeof(20)}')\n",
    "print(f'size of an int: {getsizeof(20000000000000000)}')\n",
    "print(f'size of a float: {getsizeof(2.12223232323232323)}')"
   ]
  },
  {
   "cell_type": "markdown",
   "metadata": {},
   "source": [
    "Examine the memory footprint of different strings.  \n",
    "__HINT:__ If you use f-strings to format your output here, keep in mind the single quotes denote the beginning and end of your string. If you want to denote another string inside the curly brackets in your f-string, use double quotes to avoid confusing the Python interpreter."
   ]
  },
  {
   "cell_type": "code",
   "execution_count": 11,
   "metadata": {},
   "outputs": [
    {
     "name": "stdout",
     "output_type": "stream",
     "text": [
      "size of a string: 57\n"
     ]
    }
   ],
   "source": [
    "print(f'size of a string: {getsizeof(\"a1234567\")}')\n"
   ]
  },
  {
   "cell_type": "markdown",
   "metadata": {},
   "source": [
    "Play around with tuples, lists, dicts, and sets to see how much memory they take up."
   ]
  },
  {
   "cell_type": "code",
   "execution_count": 14,
   "metadata": {},
   "outputs": [
    {
     "name": "stdout",
     "output_type": "stream",
     "text": [
      "size of a tuple: 64\n",
      "size of a list: 80\n",
      "size of a dict: 240\n",
      "size of a set: 224\n"
     ]
    }
   ],
   "source": [
    "tuplea = (\"a\",1)\n",
    "lista = [\"a\", 1]\n",
    "dicta = {\"a\":1, \"b\":2}\n",
    "seta = {1,\"a\",\"b\"}\n",
    "print(f'size of a tuple: {getsizeof(tuplea)}')\n",
    "print(f'size of a list: {getsizeof(lista)}')\n",
    "print(f'size of a dict: {getsizeof(dicta)}')\n",
    "print(f'size of a set: {getsizeof(seta)}')\n",
    "\n",
    "\n",
    "\n",
    "\n"
   ]
  },
  {
   "cell_type": "markdown",
   "metadata": {},
   "source": [
    "Use a `for` loop to square this list of numbers from 1 to 100000.  \n",
    "Use slicing to print the first ten squared number in the list. Then print the final ten squared numbers in the list."
   ]
  },
  {
   "cell_type": "code",
   "execution_count": 30,
   "metadata": {},
   "outputs": [
    {
     "name": "stdout",
     "output_type": "stream",
     "text": [
      "[0, 1, 4, 9, 16, 25, 36, 49, 64, 81]\n",
      "[9998000100, 9998200081, 9998400064, 9998600049, 9998800036, 9999000025, 9999200016, 9999400009, 9999600004, 9999800001]\n"
     ]
    }
   ],
   "source": [
    "one_to_ten_thousand = list(range(100000))\n",
    "squares = []  # empty list to store our squared numbers in\n",
    "for i in one_to_ten_thousand:\n",
    "    squares.append(i*i)  # change this line to square each number and append it here\n",
    "# print stuff\n",
    "print(squares[0:10])\n",
    "print(squares[-10:])\n",
    "\n",
    "\n"
   ]
  },
  {
   "cell_type": "markdown",
   "metadata": {},
   "source": [
    "Now examine the memory footprint of `one_to_ten_thousand` and `squares`."
   ]
  },
  {
   "cell_type": "code",
   "execution_count": 31,
   "metadata": {},
   "outputs": [
    {
     "name": "stdout",
     "output_type": "stream",
     "text": [
      "print the footprint of one_to_ten_thousand: 900112\n",
      "print the footprint of squares: 824464\n"
     ]
    }
   ],
   "source": [
    "print(f'print the footprint of one_to_ten_thousand: {getsizeof(one_to_ten_thousand)}')\n",
    "print(f'print the footprint of squares: {getsizeof(squares)}')"
   ]
  },
  {
   "cell_type": "markdown",
   "metadata": {},
   "source": [
    "Write a list comprehension and a generator expression to do the same thing as the for loop above, and check the size of the list and the generator you've created. You'll see that a generator can save a lot of memory in some cases.  \n",
    "\n",
    "__HINT:__ As noted in today's lecture, printing a generator object doesn't give you the contents, but something like `<generator>` instead, because the generator values are only created on iteration. This means you can't print slices of the generator either.  \n",
    "Wrapping your generator in a `list()` call turns it into a list, which allows you to do the aforementioned printing, but converting to a list also makes the size balloon. (Can you see this happening using `getsizeof()`?)"
   ]
  },
  {
   "cell_type": "code",
   "execution_count": 33,
   "metadata": {},
   "outputs": [
    {
     "name": "stdout",
     "output_type": "stream",
     "text": [
      "[0, 1, 4, 9, 16, 25, 36, 49, 64, 81]\n",
      "[9998000100, 9998200081, 9998400064, 9998600049, 9998800036, 9999000025, 9999200016, 9999400009, 9999600004, 9999800001]\n",
      "print the footprint of one_to_ten_thousand: 900112\n",
      "print the footprint of squares: 824464\n"
     ]
    }
   ],
   "source": [
    "one_to_ten_thousand = list(range(100000))\n",
    "squares = [x*x for x in one_to_ten_thousand]  # empty list to store our squared numbers in\n",
    "print(squares[0:10])\n",
    "print(squares[-10:])\n",
    "print(f'print the footprint of one_to_ten_thousand: {getsizeof(one_to_ten_thousand)}')\n",
    "print(f'print the footprint of squares: {getsizeof(squares)}')\n"
   ]
  },
  {
   "cell_type": "code",
   "execution_count": 35,
   "metadata": {},
   "outputs": [
    {
     "name": "stdout",
     "output_type": "stream",
     "text": [
      "print the footprint of one_to_ten_thousand: 900112\n",
      "print the footprint of squares: 88\n"
     ]
    }
   ],
   "source": [
    "one_to_ten_thousand = list(range(100000))\n",
    "squares = (x*x for x in one_to_ten_thousand)  # empty list to store our squared numbers in\n",
    "\n",
    "print(f'print the footprint of one_to_ten_thousand: {getsizeof(one_to_ten_thousand)}')\n",
    "print(f'print the footprint of squares: {getsizeof(squares)}')\n",
    "\n"
   ]
  },
  {
   "cell_type": "code",
   "execution_count": 36,
   "metadata": {},
   "outputs": [
    {
     "name": "stdout",
     "output_type": "stream",
     "text": [
      "print the footprint of list_squares: 879840\n"
     ]
    }
   ],
   "source": [
    "list_squares = list(squares)\n",
    "print(f'print the footprint of list_squares: {getsizeof(list_squares)}')"
   ]
  },
  {
   "cell_type": "markdown",
   "metadata": {},
   "source": [
    "# Summary\n",
    "\n",
    "*  memory footprint: \n",
    "    from sys import getsizeof\n",
    "    print(f'print the footprint of squares: {getsizeof(squares)}')\n",
    "    \n",
    "*  Comprehension expression: [x*x for x in lista]\n",
    "*  Generator expression: (x*x for x in lista)\n",
    "\n",
    "\n",
    "    "
   ]
  }
 ],
 "metadata": {
  "kernelspec": {
   "display_name": "Python 3",
   "language": "python",
   "name": "python3"
  },
  "language_info": {
   "codemirror_mode": {
    "name": "ipython",
    "version": 3
   },
   "file_extension": ".py",
   "mimetype": "text/x-python",
   "name": "python",
   "nbconvert_exporter": "python",
   "pygments_lexer": "ipython3",
   "version": "3.6.6"
  }
 },
 "nbformat": 4,
 "nbformat_minor": 2
}
