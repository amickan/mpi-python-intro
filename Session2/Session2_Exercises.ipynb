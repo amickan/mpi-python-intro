{
 "cells": [
  {
   "cell_type": "markdown",
   "metadata": {},
   "source": [
    "## Extra homework: `sys.getsizeof()`\n",
    "Python has a built-in function that returns the size of an object in memory. The extra exercise for this week's session is to use `getsizeof()` to query the size of different Python objects."
   ]
  },
  {
   "cell_type": "code",
   "execution_count": 1,
   "metadata": {},
   "outputs": [
    {
     "name": "stdout",
     "output_type": "stream",
     "text": [
      "size of a boolean: 28\n",
      "size of an int: 28\n",
      "size of a single character: 50\n"
     ]
    }
   ],
   "source": [
    "from sys import getsizeof  # don't worry about this import statement, we will explain how this works next week!\n",
    "\n",
    "print(f'size of a boolean: {getsizeof(True)}')\n",
    "print(f'size of an int: {getsizeof(4)}')\n",
    "print(f'size of a single character: {getsizeof(\"a\")}')"
   ]
  },
  {
   "cell_type": "markdown",
   "metadata": {},
   "source": [
    "Notice how we use _f-strings_ to create a little printing template, then put the code we want to evaluate between curly brackets. This is a neat way of formatting the output from your scripts.  \n",
    "\n",
    "Now use `getsizeof()` to compare the memory footprint of integers of different magnitudes and floats."
   ]
  },
  {
   "cell_type": "code",
   "execution_count": 38,
   "metadata": {},
   "outputs": [
    {
     "name": "stdout",
     "output_type": "stream",
     "text": [
      "size of a large int: 36\n",
      "size of a LARGE int: 56\n",
      "size of a float: 24\n",
      "size of a BIG float: 24\n"
     ]
    }
   ],
   "source": [
    "print(f'size of a large int: {getsizeof(1231201023919233123)}')\n",
    "print(f'size of a LARGE int: {getsizeof(1002034082304910928092930924097510970491820941241204997045170293091273098)}')\n",
    "print(f'size of a float: {getsizeof(1.1112838)}')\n",
    "print(f'size of a BIG float: {getsizeof(234.11112359503932838)}')"
   ]
  },
  {
   "cell_type": "markdown",
   "metadata": {},
   "source": [
    "Examine the memory footprint of different strings.  \n",
    "__HINT:__ If you use f-strings to format your output here, keep in mind the single quotes denote the beginning and end of your string. If you want to denote another string inside the curly brackets in your f-string, use double quotes to avoid confusing the Python interpreter."
   ]
  },
  {
   "cell_type": "code",
   "execution_count": 2,
   "metadata": {},
   "outputs": [
    {
     "name": "stdout",
     "output_type": "stream",
     "text": [
      "size of a str: 98\n",
      "size of a BIGGER str: 128\n",
      "size of an ABSOLUTE UNIT of a str: 972\n"
     ]
    }
   ],
   "source": [
    "print(f'size of a str: {getsizeof(\"The quick brown fox jumps over the lazy brown dog\")}')\n",
    "print(f'size of a BIGGER str: {getsizeof(\"Buffalo buffalo buffalo buffalo buffalo buffalo buffalo buffalo buffalo buffalo\")}')\n",
    "print(f'size of an ABSOLUTE UNIT of a str: {getsizeof(\"It was a dark and stormy night, when Lord Percy first realized that his butler Higgins - a faithful, loyal family friend who aided not just Percy, but his father and his grandfather as well - was actually a Brown Grizzly bear. He should have noticed earlier; after all, Higgins had always been quite clumsy. The drool, he realized, was not an endearing character trait but actually the by-product of a haphazard yet efficient process of natural selection designed to maximize carnivorous ability. The fur he always found on his evening jacket was just an animal shedding, not a charming rural habit meant to conjure good luck and welcome friendly fae into the household. This understanding came over Lord Percy in waves: of horror, of curiosity, of shock, of love. Come Higgins, he said as the bear destroyed his 167th set of fine China, I do believe it is time for tea. As you know, old friend, I can bearly do without it.\")}')"
   ]
  },
  {
   "cell_type": "markdown",
   "metadata": {},
   "source": [
    "Play around with tuples, lists, dicts, and sets to see how much memory they take up."
   ]
  },
  {
   "cell_type": "code",
   "execution_count": 40,
   "metadata": {},
   "outputs": [
    {
     "name": "stdout",
     "output_type": "stream",
     "text": [
      "size of a small tuple: 88\n",
      "size of a big tuple: 104\n",
      "size of a small list: 112\n",
      "size of a big list: 192\n",
      "size of a small dict: 240\n",
      "size of a big dict: 368\n",
      "size of a small set: 224\n",
      "size of a big set: 736\n"
     ]
    }
   ],
   "source": [
    "tuple1 = (1,2,3,4,5)\n",
    "tuple2 = ('one', 2, 3.0,'testing',3030505,'huge',12030120.12312)\n",
    "list1 = ['this', 'list', 'is', 'not','so','big']\n",
    "list2 = [1231,1231,222,3551,123,52451,11111029294858192940505686839203598686782021,1,1,1,2,3,4,5,1,2]\n",
    "dict1 = {'size': 123, 'length': 456, 'girth': 789}\n",
    "dict2 = {'doublesize': 123, 'doublelength': 456, 'doublegirth': 789, 'doublesize': 101, 'doublelength': 111, 'doublegirth': 213}\n",
    "set1 = {123, 456, 789}\n",
    "set2 = {123, 456, 789, 101, 111, 213}\n",
    "\n",
    "\n",
    "print(f'size of a small tuple: {getsizeof(tuple1)}')\n",
    "print(f'size of a big tuple: {getsizeof(tuple2)}')\n",
    "print(f'size of a small list: {getsizeof(list1)}')\n",
    "print(f'size of a big list: {getsizeof(list2)}')\n",
    "print(f'size of a small dict: {getsizeof(dict1)}')\n",
    "print(f'size of a big dict: {getsizeof(dict2)}')\n",
    "print(f'size of a small set: {getsizeof(set1)}')\n",
    "print(f'size of a big set: {getsizeof(set2)}')"
   ]
  },
  {
   "cell_type": "markdown",
   "metadata": {},
   "source": [
    "Use a `for` loop to square this list of numbers from 1 to 100000.  \n",
    "Use slicing to print the first ten squared number in the list. Then print the final ten squared numbers in the list."
   ]
  },
  {
   "cell_type": "code",
   "execution_count": 41,
   "metadata": {},
   "outputs": [
    {
     "name": "stdout",
     "output_type": "stream",
     "text": [
      "[0, 1, 4, 9, 16, 25, 36, 49, 64]\n",
      "[9998200081, 9998400064, 9998600049, 9998800036, 9999000025, 9999200016, 9999400009, 9999600004, 9999800001]\n"
     ]
    }
   ],
   "source": [
    "one_to_ten_thousand = list(range(100000))\n",
    "squares = []  # empty list to store our squared numbers in\n",
    "for i in one_to_ten_thousand:\n",
    "    squares.append(one_to_ten_thousand[i]*one_to_ten_thousand[i])\n",
    "print(squares[0:9])\n",
    "print(squares[-9:])"
   ]
  },
  {
   "cell_type": "markdown",
   "metadata": {},
   "source": [
    "Now examine the memory footprint of `one_to_ten_thousand` and `squares`."
   ]
  },
  {
   "cell_type": "code",
   "execution_count": 42,
   "metadata": {},
   "outputs": [
    {
     "name": "stdout",
     "output_type": "stream",
     "text": [
      "size of one_to_ten_thousand: 900112\n",
      "size of a squares: 824464\n"
     ]
    }
   ],
   "source": [
    "print(f'size of one_to_ten_thousand: {getsizeof(one_to_ten_thousand)}')\n",
    "print(f'size of a squares: {getsizeof(squares)}')"
   ]
  },
  {
   "cell_type": "markdown",
   "metadata": {},
   "source": [
    "Write a list comprehension and a generator expression to do the same thing as the for loop above, and check the size of the list and the generator you've created. You'll see that a generator can save a lot of memory in some cases.  \n",
    "\n",
    "__HINT:__ As noted in today's lecture, printing a generator object doesn't give you the contents, but something like `<generator>` instead, because the generator values are only created on iteration. This means you can't print slices of the generator either.  \n",
    "Wrapping your generator in a `list()` call turns it into a list, which allows you to do the aforementioned printing, but converting to a list also makes the size balloon. (Can you see this happening using `getsizeof()`?)"
   ]
  },
  {
   "cell_type": "code",
   "execution_count": 10,
   "metadata": {},
   "outputs": [
    {
     "name": "stdout",
     "output_type": "stream",
     "text": [
      "[0, 1, 4, 9, 16, 25, 36, 49, 64, 81, 9998200081, 9998400064, 9998600049, 9998800036, 9999000025, 9999200016, 9999400009, 9999600004, 9999800001]\n",
      "size of one_to_ten_thousand: 900112\n",
      "size of a squares: 264\n"
     ]
    }
   ],
   "source": [
    "one_to_ten_thousand = list(range(100000))\n",
    "squares = []  # empty list to store our squared numbers in\n",
    "squares_generator = ((one_to_ten_thousand[i] * one_to_ten_thousand[i]) for i in one_to_ten_thousand)\n",
    "counter = -1\n",
    "for i in squares_generator:\n",
    "    counter += 1\n",
    "    if counter < 10:\n",
    "        squares.append(i)\n",
    "    elif counter > len(one_to_ten_thousand) - 10:\n",
    "        squares.append(i)\n",
    "\n",
    "print(squares)\n",
    "\n",
    "print(f'size of one_to_ten_thousand: {getsizeof(one_to_ten_thousand)}')\n",
    "print(f'size of a squares: {getsizeof(squares)}')"
   ]
  }
 ],
 "metadata": {
  "kernelspec": {
   "display_name": "Python 3",
   "language": "python",
   "name": "python3"
  },
  "language_info": {
   "codemirror_mode": {
    "name": "ipython",
    "version": 3
   },
   "file_extension": ".py",
   "mimetype": "text/x-python",
   "name": "python",
   "nbconvert_exporter": "python",
   "pygments_lexer": "ipython3",
   "version": "3.7.0"
  }
 },
 "nbformat": 4,
 "nbformat_minor": 2
}
