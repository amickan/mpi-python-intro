{
 "cells": [
  {
   "cell_type": "markdown",
   "metadata": {},
   "source": [
    "## Extra homework: `sys.getsizeof()`\n",
    "Python has a built-in function that returns the size of an object in memory. The extra exercise for this week's session is to use `getsizeof()` to query the size of different Python objects."
   ]
  },
  {
   "cell_type": "code",
   "execution_count": 2,
   "metadata": {
    "collapsed": false
   },
   "outputs": [
    {
     "name": "stdout",
     "output_type": "stream",
     "text": [
      "size of a boolean: 28\n",
      "size of an int: 28\n",
      "size of a single character: 50\n"
     ]
    }
   ],
   "source": [
    "from sys import getsizeof  # don't worry about this import statement, we will explain how this works next week!\n",
    "\n",
    "print(f'size of a boolean: {getsizeof(True)}')\n",
    "print(f'size of an int: {getsizeof(4)}')\n",
    "print(f'size of a single character: {getsizeof(\"a\")}')"
   ]
  },
  {
   "cell_type": "markdown",
   "metadata": {},
   "source": [
    "Notice how we use _f-strings_ to create a little printing template, then put the code we want to evaluate between curly brackets. This is a neat way of formatting the output from your scripts.  \n",
    "\n",
    "Now use `getsizeof()` to compare the memory footprint of integers of different magnitudes and floats."
   ]
  },
  {
   "cell_type": "code",
   "execution_count": 29,
   "metadata": {
    "collapsed": false
   },
   "outputs": [
    {
     "name": "stdout",
     "output_type": "stream",
     "text": [
      "size of an int: 32\n",
      "size of a float: 24\n"
     ]
    }
   ],
   "source": [
    "print(f'size of an int: {getsizeof(1500000000)}')\n",
    "print(f'size of a float: {getsizeof(0.5748928346)}')"
   ]
  },
  {
   "cell_type": "markdown",
   "metadata": {},
   "source": [
    "Examine the memory footprint of different strings.  \n",
    "__HINT:__ If you use f-strings to format your output here, keep in mind the single quotes denote the beginning and end of your string. If you want to denote another string inside the curly brackets in your f-string, use double quotes to avoid confusing the Python interpreter."
   ]
  },
  {
   "cell_type": "code",
   "execution_count": 11,
   "metadata": {
    "collapsed": false
   },
   "outputs": [
    {
     "name": "stdout",
     "output_type": "stream",
     "text": [
      "size of a single character: 57\n",
      "size of a single character: 62\n",
      "size of a single character: 52\n",
      "size of a single character: 64\n"
     ]
    }
   ],
   "source": [
    "print(f'size of a single character: {getsizeof(\"a string\")}')\n",
    "print(f'size of a string: {getsizeof(\"a long string\")}')\n",
    "print(f'size of a string: {getsizeof(\"a b\")}')\n",
    "print(f'size of a string: {getsizeof(\"abcdefghilsdkje\")}')"
   ]
  },
  {
   "cell_type": "markdown",
   "metadata": {},
   "source": [
    "Play around with tuples, lists, dicts, and sets to see how much memory they take up."
   ]
  },
  {
   "cell_type": "code",
   "execution_count": 22,
   "metadata": {
    "collapsed": false
   },
   "outputs": [
    {
     "name": "stdout",
     "output_type": "stream",
     "text": [
      "size of a tuple: 72\n",
      "size of a list: 88\n",
      "size of a dictionary: 240\n",
      "size of a set: 224\n"
     ]
    }
   ],
   "source": [
    "print(f'size of a tuple: {getsizeof((3,4,7))}')\n",
    "print(f'size of a list: {getsizeof([3,4,7])}')\n",
    "print(f'size of a dictionary: {getsizeof({\"first\": 1,\"second\": 4})}')\n",
    "print(f'size of a set: {getsizeof({3,4,7})}')"
   ]
  },
  {
   "cell_type": "markdown",
   "metadata": {},
   "source": [
    "Use a `for` loop to square this list of numbers from 1 to 100000.  \n",
    "Use slicing to print the first ten squared number in the list. Then print the final ten squared numbers in the list."
   ]
  },
  {
   "cell_type": "code",
   "execution_count": 26,
   "metadata": {
    "collapsed": false
   },
   "outputs": [
    {
     "name": "stdout",
     "output_type": "stream",
     "text": [
      "[0, 1, 4, 9, 16, 25, 36, 49, 64, 81]\n",
      "[9997800121, 9998000100, 9998200081, 9998400064, 9998600049, 9998800036, 9999000025, 9999200016, 9999400009, 9999600004]\n"
     ]
    }
   ],
   "source": [
    "one_to_ten_thousand = list(range(100000))\n",
    "squares = []  # empty list to store our squared numbers in\n",
    "for i in one_to_ten_thousand:\n",
    "    squares.append(i**2)  # change this line to square each number and append it here\n",
    "# print stuff\n",
    "print(squares[:10])\n",
    "print(squares[-11:-1])"
   ]
  },
  {
   "cell_type": "markdown",
   "metadata": {},
   "source": [
    "Now examine the memory footprint of `one_to_ten_thousand` and `squares`."
   ]
  },
  {
   "cell_type": "code",
   "execution_count": 28,
   "metadata": {
    "collapsed": false
   },
   "outputs": [
    {
     "name": "stdout",
     "output_type": "stream",
     "text": [
      "size of squares: 824464\n",
      "size of one to ten thousand: 900112\n"
     ]
    }
   ],
   "source": [
    "print(f'size of squares: {getsizeof(squares)}')\n",
    "print(f'size of one to ten thousand: {getsizeof(one_to_ten_thousand)}')"
   ]
  },
  {
   "cell_type": "markdown",
   "metadata": {},
   "source": [
    "Write a list comprehension and a generator expression to do the same thing as the for loop above, and check the size of the list and the generator you've created. You'll see that a generator can save a lot of memory in some cases.  \n",
    "\n",
    "__HINT:__ As noted in today's lecture, printing a generator object doesn't give you the contents, but something like `<generator>` instead, because the generator values are only created on iteration. This means you can't print slices of the generator either.  \n",
    "Wrapping your generator in a `list()` call turns it into a list, which allows you to do the aforementioned printing, but converting to a list also makes the size balloon. (Can you see this happening using `getsizeof()`?)"
   ]
  },
  {
   "cell_type": "code",
   "execution_count": 40,
   "metadata": {
    "collapsed": false
   },
   "outputs": [
    {
     "name": "stdout",
     "output_type": "stream",
     "text": [
      "size of squares: 824464\n",
      "size of generator: 88\n",
      "size of generator_list: 879840\n"
     ]
    }
   ],
   "source": [
    "squares2 = [n**2 for n in one_to_ten_thousand]\n",
    "squares_generator = (n**2 for n in one_to_ten_thousand)\n",
    "print(f'size of squares: {getsizeof(squares2)}')\n",
    "print(f'size of generator: {getsizeof(squares_generator)}')\n",
    "list_squares = list(squares_generator)\n",
    "print(f'size of generator_list: {getsizeof(list_squares)}')"
   ]
  },
  {
   "cell_type": "code",
   "execution_count": null,
   "metadata": {
    "collapsed": true
   },
   "outputs": [],
   "source": []
  }
 ],
 "metadata": {
  "kernelspec": {
   "display_name": "Python 3",
   "language": "python",
   "name": "python3"
  },
  "language_info": {
   "codemirror_mode": {
    "name": "ipython",
    "version": 3
   },
   "file_extension": ".py",
   "mimetype": "text/x-python",
   "name": "python",
   "nbconvert_exporter": "python",
   "pygments_lexer": "ipython3",
   "version": "3.6.6"
  }
 },
 "nbformat": 4,
 "nbformat_minor": 2
}
