{
 "cells": [
  {
   "cell_type": "markdown",
   "metadata": {},
   "source": [
    "## Extra homework: `sys.getsizeof()`\n",
    "Python has a built-in function that returns the size of an object in memory. The extra exercise for this week's session is to use `getsizeof()` to query the size of different Python objects."
   ]
  },
  {
   "cell_type": "code",
   "execution_count": 2,
   "metadata": {},
   "outputs": [
    {
     "name": "stdout",
     "output_type": "stream",
     "text": [
      "size of a boolean: 28\n",
      "size of an int: 28\n",
      "size of a single character: 50\n"
     ]
    }
   ],
   "source": [
    "from sys import getsizeof  # don't worry about this import statement, we will explain how this works next week!\n",
    "\n",
    "print(f'size of a boolean: {getsizeof(True)}')\n",
    "print(f'size of an int: {getsizeof(4)}')\n",
    "print(f'size of a single character: {getsizeof(\"a\")}')"
   ]
  },
  {
   "cell_type": "markdown",
   "metadata": {},
   "source": [
    "Notice how we use _f-strings_ to create a little printing template, then put the code we want to evaluate between curly brackets. This is a neat way of formatting the output from your scripts.  \n",
    "\n",
    "Now use `getsizeof()` to compare the memory footprint of integers of different magnitudes and floats."
   ]
  },
  {
   "cell_type": "code",
   "execution_count": 3,
   "metadata": {},
   "outputs": [
    {
     "name": "stdout",
     "output_type": "stream",
     "text": [
      "size of int 5: 28\n",
      "size of int 15: 28\n",
      "size of int 358449: 28\n",
      "size of float 1.5: 24\n",
      "size of float 35624.3: 24\n",
      "size of float 0.247452719: 24\n"
     ]
    }
   ],
   "source": [
    "print(f'size of int 5: {getsizeof(5)}')\n",
    "print(f'size of int 15: {getsizeof(15)}')\n",
    "print(f'size of int 358449: {getsizeof(358449)}')\n",
    "print(f'size of float 1.5: {getsizeof(1.5)}')\n",
    "print(f'size of float 35624.3: {getsizeof(35624.3)}')\n",
    "print(f'size of float 0.247452719: {getsizeof(0.247452719)}')"
   ]
  },
  {
   "cell_type": "markdown",
   "metadata": {},
   "source": [
    "Examine the memory footprint of different strings.  \n",
    "__HINT:__ If you use f-strings to format your output here, keep in mind the single quotes denote the beginning and end of your string. If you want to denote another string inside the curly brackets in your f-string, use double quotes to avoid confusing the Python interpreter."
   ]
  },
  {
   "cell_type": "code",
   "execution_count": 4,
   "metadata": {},
   "outputs": [
    {
     "name": "stdout",
     "output_type": "stream",
     "text": [
      "size of string hello: 54\n",
      "size of string je oma: 55\n",
      "size of string hottentottententententoonstelling: 82\n"
     ]
    }
   ],
   "source": [
    "print(f'size of string hello: {getsizeof(\"hello\")}')\n",
    "print(f'size of string je oma: {getsizeof(\"je oma\")}')\n",
    "print(f'size of string hottentottententententoonstelling: {getsizeof(\"hottentottententententoonstelling\")}')"
   ]
  },
  {
   "cell_type": "markdown",
   "metadata": {},
   "source": [
    "Play around with tuples, lists, dicts, and sets to see how much memory they take up."
   ]
  },
  {
   "cell_type": "code",
   "execution_count": 10,
   "metadata": {},
   "outputs": [
    {
     "name": "stdout",
     "output_type": "stream",
     "text": [
      "size of tuple Tuple: 88\n",
      "size of list List: 104\n",
      "size of dict Dict: 240\n",
      "size of set Set: 224\n"
     ]
    }
   ],
   "source": [
    "Tuple = (1,2,3,4,5)\n",
    "List = [1,2,3,4,5]\n",
    "Dict = {1:\"one\",2:\"two\", 3:\"three\", 4:\"four\",5:\"five\"}\n",
    "Set = {1,\"two\", (3,4),5}\n",
    "\n",
    "print(f'size of tuple Tuple: {getsizeof(Tuple)}')\n",
    "print(f'size of list List: {getsizeof(List)}')\n",
    "print(f'size of dict Dict: {getsizeof(Dict)}')\n",
    "print(f'size of set Set: {getsizeof(Set)}')"
   ]
  },
  {
   "cell_type": "markdown",
   "metadata": {},
   "source": [
    "Use a `for` loop to square this list of numbers from 1 to 100000.  \n",
    "Use slicing to print the first ten squared number in the list. Then print the final ten squared numbers in the list."
   ]
  },
  {
   "cell_type": "code",
   "execution_count": 21,
   "metadata": {
    "scrolled": false
   },
   "outputs": [
    {
     "name": "stdout",
     "output_type": "stream",
     "text": [
      "[9998200081, 9998400064, 9998600049, 9998800036, 9999000025, 9999200016, 9999400009, 9999600004, 9999800001, 10000000000]\n"
     ]
    }
   ],
   "source": [
    "one_to_ten_thousand = list(number + 1 for number in range(100000))\n",
    "squares = []  # empty list to store our squared numbers in\n",
    "for i in one_to_ten_thousand:\n",
    "    squares.append(i**2)  # change this line to square each number and append it here\n",
    "print(squares[-10:])"
   ]
  },
  {
   "cell_type": "markdown",
   "metadata": {},
   "source": [
    "Now examine the memory footprint of `one_to_ten_thousand` and `squares`."
   ]
  },
  {
   "cell_type": "code",
   "execution_count": 22,
   "metadata": {},
   "outputs": [
    {
     "name": "stdout",
     "output_type": "stream",
     "text": [
      "size of list one_to_ten_thousand: 879840\n",
      "size of list squares: 824464\n"
     ]
    }
   ],
   "source": [
    "print(f'size of list one_to_ten_thousand: {getsizeof(one_to_ten_thousand)}')\n",
    "print(f'size of list squares: {getsizeof(squares)}')"
   ]
  },
  {
   "cell_type": "markdown",
   "metadata": {},
   "source": [
    "Write a list comprehension and a generator expression to do the same thing as the for loop above, and check the size of the list and the generator you've created. You'll see that a generator can save a lot of memory in some cases.  \n",
    "\n",
    "__HINT:__ As noted in today's lecture, printing a generator object doesn't give you the contents, but something like `<generator>` instead, because the generator values are only created on iteration. This means you can't print slices of the generator either.  \n",
    "Wrapping your generator in a `list()` call turns it into a list, which allows you to do the aforementioned printing, but converting to a list also makes the size balloon. (Can you see this happening using `getsizeof()`?)"
   ]
  },
  {
   "cell_type": "code",
   "execution_count": 46,
   "metadata": {},
   "outputs": [
    {
     "name": "stdout",
     "output_type": "stream",
     "text": [
      "[9998200081, 9998400064, 9998600049, 9998800036, 9999000025, 9999200016, 9999400009, 9999600004, 9999800001, 10000000000]\n",
      "9998200081\n",
      "9998400064\n",
      "9998600049\n",
      "9998800036\n",
      "9999000025\n",
      "9999200016\n",
      "9999400009\n",
      "9999600004\n",
      "9999800001\n",
      "10000000000\n",
      "size of squares2: 824464\n",
      "size of squares3: 120\n",
      "[9998200081, 9998400064, 9998600049, 9998800036, 9999000025, 9999200016, 9999400009, 9999600004, 9999800001, 10000000000]\n",
      "size of squares4: 879840\n"
     ]
    }
   ],
   "source": [
    "one_to_ten_thousand = list(number + 1 for number in range(100000))\n",
    "\n",
    "#list comprehension\n",
    "squares2 = [i**2 for i in one_to_ten_thousand]\n",
    "print(squares[-10:])\n",
    "\n",
    "# generator expression\n",
    "squares3 = (i**2 for i in one_to_ten_thousand)\n",
    "for square in squares3:\n",
    "    if square >= (100000-9)**2:\n",
    "        print(square)\n",
    "\n",
    "#getsizeof\n",
    "print(f'size of squares2: {getsizeof(squares2)}')\n",
    "print(f'size of squares3: {getsizeof(squares3)}')\n",
    "\n",
    "#convert generator to list\n",
    "squares4 = list(i**2 for i in one_to_ten_thousand)\n",
    "print(squares4[-10:])\n",
    "print(f'size of squares4: {getsizeof(squares4)}')"
   ]
  }
 ],
 "metadata": {
  "kernelspec": {
   "display_name": "Python 3",
   "language": "python",
   "name": "python3"
  },
  "language_info": {
   "codemirror_mode": {
    "name": "ipython",
    "version": 3
   },
   "file_extension": ".py",
   "mimetype": "text/x-python",
   "name": "python",
   "nbconvert_exporter": "python",
   "pygments_lexer": "ipython3",
   "version": "3.7.0"
  }
 },
 "nbformat": 4,
 "nbformat_minor": 2
}
