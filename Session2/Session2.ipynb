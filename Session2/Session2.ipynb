{
 "cells": [
  {
   "cell_type": "markdown",
   "metadata": {},
   "source": [
    "# Session 2: Slicing, Iteration and Conditionals"
   ]
  },
  {
   "cell_type": "markdown",
   "metadata": {},
   "source": [
    "Now that you've encountered the different Python data types, it's time to find out more about how to use them! In this session, we'll show you several different ways of elegantly accessing iterables (such as lists and strings), and you'll write your first python loops."
   ]
  },
  {
   "cell_type": "markdown",
   "metadata": {},
   "source": [
    "## 1. Slicing "
   ]
  },
  {
   "cell_type": "markdown",
   "metadata": {},
   "source": [
    "You're probably familiar with the concept of _slicing_ from other programming languages, such as R or Matlab. Basically, slicing an iterable will return a specific segment or \"chunk\" of that segment. \n",
    "\n",
    "In the last session, we talked about how to access one specific element in an iterable by _indexing_. Just as a quick recap: How would you access the \"creepy vampire doggo\" from the following list?"
   ]
  },
  {
   "cell_type": "code",
   "execution_count": null,
   "metadata": {
    "collapsed": true
   },
   "outputs": [],
   "source": [
    "party_guests = ['bloody witch kolibrie', 'spooky hedgehog mummy', 'bloody frankenstein elephant', \n",
    "                'scary deadbody cat', 'creepy vampire doggo', 'scary zombie seal', \n",
    "                'scary pumpkin elephant', 'demonic witch goat']"
   ]
  },
  {
   "cell_type": "code",
   "execution_count": null,
   "metadata": {
    "collapsed": false
   },
   "outputs": [],
   "source": []
  },
  {
   "cell_type": "markdown",
   "metadata": {},
   "source": [
    "Recall that the same works for strings: How would you access the letter 'f' from the following word? "
   ]
  },
  {
   "cell_type": "code",
   "execution_count": null,
   "metadata": {
    "collapsed": true
   },
   "outputs": [],
   "source": [
    "long_string = 'supercalifragilisticexpialidocious'"
   ]
  },
  {
   "cell_type": "code",
   "execution_count": null,
   "metadata": {
    "collapsed": false
   },
   "outputs": [],
   "source": []
  },
  {
   "cell_type": "markdown",
   "metadata": {},
   "source": [
    "Indexing is very useful, but a lot of the time, you might want to access more than just one element from your iterable. Thankfully, slicing offers a very easy way of doing exactly that. Here's how you would access the substring \"super\" from the string above:"
   ]
  },
  {
   "cell_type": "code",
   "execution_count": null,
   "metadata": {
    "collapsed": false
   },
   "outputs": [],
   "source": [
    "substring1 = long_string[0:5]\n",
    "print(substring1)"
   ]
  },
  {
   "cell_type": "markdown",
   "metadata": {},
   "source": [
    "What we're telling python to do here is to take our long_string variable and subset it from the start index (in our case, 0) up to (but not including!) the end index (5). \n",
    "\n",
    "How would you extract the substring 'cali' from the long_string variable above?"
   ]
  },
  {
   "cell_type": "code",
   "execution_count": null,
   "metadata": {
    "collapsed": false
   },
   "outputs": [],
   "source": [
    "substring2 = \n",
    "print(substring2)"
   ]
  },
  {
   "cell_type": "markdown",
   "metadata": {},
   "source": [
    "If you don't specify a start index, python will automatically assume that you want your slice to start at the first element of the iterable:"
   ]
  },
  {
   "cell_type": "code",
   "execution_count": null,
   "metadata": {
    "collapsed": false,
    "scrolled": true
   },
   "outputs": [],
   "source": [
    "long_string[:5]"
   ]
  },
  {
   "cell_type": "markdown",
   "metadata": {},
   "source": [
    "...and similarly, if you don't specify an end index, python will assume the final element of your iterable as the end of the slice:"
   ]
  },
  {
   "cell_type": "code",
   "execution_count": null,
   "metadata": {
    "collapsed": false
   },
   "outputs": [],
   "source": [
    "long_string[20:]"
   ]
  },
  {
   "cell_type": "markdown",
   "metadata": {},
   "source": [
    "If you don't specify any start or end index, python \"slices\" the entire iterable:"
   ]
  },
  {
   "cell_type": "code",
   "execution_count": null,
   "metadata": {
    "collapsed": false
   },
   "outputs": [],
   "source": [
    "long_string[:]"
   ]
  },
  {
   "cell_type": "markdown",
   "metadata": {},
   "source": [
    "Now imagine you wanted to subset only the last three letters from the long_string. \n",
    "\n",
    "What's the best way to go about this? Counting all the previous letters would be quite tedious... and sometimes, in 'real' programming situations, we don't even know how long a given iterable will be, so we can't just tell python to look for long_string[31:35]. Python has a nice way around this: _negative indexing_."
   ]
  },
  {
   "cell_type": "code",
   "execution_count": null,
   "metadata": {
    "collapsed": false
   },
   "outputs": [],
   "source": [
    "substring3 = long_string[-3:]\n",
    "print(substring3)"
   ]
  },
  {
   "cell_type": "markdown",
   "metadata": {},
   "source": [
    "How would you extract the substring 'doci' from the long_string?"
   ]
  },
  {
   "cell_type": "code",
   "execution_count": null,
   "metadata": {
    "collapsed": false,
    "scrolled": true
   },
   "outputs": [],
   "source": [
    "substring4 = \n",
    "print(substring4)"
   ]
  },
  {
   "cell_type": "markdown",
   "metadata": {},
   "source": [
    "Slicing offers some other useful functionalities. For example, you might want to access only every other element in a list. \n",
    "\n",
    "Imagine you wanted to split your list of halloween party guests into two groups (lists) for a spooky game. In python, you can select every n-th element from an iterable by specifying a 'step size' after a second set of colons. For example, the following expression would select every 2nd item from the entire party_guests list:"
   ]
  },
  {
   "cell_type": "code",
   "execution_count": null,
   "metadata": {
    "collapsed": false
   },
   "outputs": [],
   "source": [
    "group1 = party_guests[::2]\n",
    "print(group1)"
   ]
  },
  {
   "cell_type": "markdown",
   "metadata": {},
   "source": [
    "This tells python to slice the _entire_ original list (party_guests[:]) in steps of 2 (:2). \n",
    "\n",
    "How would you take a slice of party_guests with just the second group?"
   ]
  },
  {
   "cell_type": "code",
   "execution_count": null,
   "metadata": {
    "collapsed": false
   },
   "outputs": [],
   "source": [
    "group2 = \n",
    "print(group2)"
   ]
  },
  {
   "cell_type": "markdown",
   "metadata": {},
   "source": [
    "Steps don't have to go from left to right: Just as you can use negative indeces to access the last x elements in an interable, you can also have a negative step size. For example, the following expression tells python to 'go backwards' through our long_string:"
   ]
  },
  {
   "cell_type": "code",
   "execution_count": null,
   "metadata": {
    "collapsed": false
   },
   "outputs": [],
   "source": [
    "long_string_reversed = long_string[::-1]\n",
    "print(long_string_reversed)"
   ]
  },
  {
   "cell_type": "markdown",
   "metadata": {},
   "source": [
    "How would you reverse the list of party guests?"
   ]
  },
  {
   "cell_type": "code",
   "execution_count": null,
   "metadata": {
    "collapsed": true
   },
   "outputs": [],
   "source": [
    "party_guests_reversed = \n",
    "print(party_guests_reversed)"
   ]
  },
  {
   "cell_type": "markdown",
   "metadata": {},
   "source": [
    "## 2. Iteration\n",
    "\n",
    "One of the reasons why programming can be so useful is that it allows you to \"delegate\" annoyingly repetitive tasks to your computer through _iteration_. \n",
    "\n",
    "### 2.1 For-loops\n",
    "\n",
    "One way of iterating is by using a __for-loop__: For each item in an iterable, python does a certain action. \n",
    "\n",
    "Imagine you wanted to send out invitations to all of your halloween party guests."
   ]
  },
  {
   "cell_type": "markdown",
   "metadata": {},
   "source": [
    "You could go ahead and individually invite every single guest on the guest list:"
   ]
  },
  {
   "cell_type": "code",
   "execution_count": null,
   "metadata": {
    "collapsed": false
   },
   "outputs": [],
   "source": [
    "print('Please come to my party, '+ party_guests[0] + '! :)')\n",
    "print('Please come to my party, '+ party_guests[1] + '! :)')\n",
    "print('Please come to my party, '+ party_guests[2] + '! :)')"
   ]
  },
  {
   "cell_type": "markdown",
   "metadata": {},
   "source": [
    "... but as you can imagine, that would be quite tedious if you wanted to invite _all_ of your friends. \n",
    "\n",
    "With iteration, you can do this in just a couple of lines:"
   ]
  },
  {
   "cell_type": "code",
   "execution_count": null,
   "metadata": {
    "collapsed": false
   },
   "outputs": [],
   "source": [
    "for guest in party_guests:\n",
    "    print('Please come to my party, '+ guest + '! :)')"
   ]
  },
  {
   "cell_type": "markdown",
   "metadata": {},
   "source": [
    "What you're telling python to do here is to _loop through_ all the elements in your list and execute the print statement. \n",
    "\n",
    "The structure of a for-loop is always the same: "
   ]
  },
  {
   "cell_type": "raw",
   "metadata": {},
   "source": [
    "for x in y:\n",
    "    do something"
   ]
  },
  {
   "cell_type": "markdown",
   "metadata": {},
   "source": [
    "Your 'y' will always be an iterable - here are some examples of things you could loop over:"
   ]
  },
  {
   "cell_type": "code",
   "execution_count": null,
   "metadata": {
    "collapsed": false,
    "scrolled": true
   },
   "outputs": [],
   "source": [
    "for x in substring1:\n",
    "    print(letter)"
   ]
  },
  {
   "cell_type": "code",
   "execution_count": null,
   "metadata": {
    "collapsed": false
   },
   "outputs": [],
   "source": [
    "for x in 'hello':\n",
    "    print(x)"
   ]
  },
  {
   "cell_type": "code",
   "execution_count": null,
   "metadata": {
    "collapsed": false
   },
   "outputs": [],
   "source": [
    "for x in [1,2,3,4,5]:\n",
    "    print(number)"
   ]
  },
  {
   "cell_type": "code",
   "execution_count": null,
   "metadata": {
    "collapsed": false
   },
   "outputs": [],
   "source": [
    "for x in (1, 'hello', 2, 'world'):\n",
    "    print(x)"
   ]
  },
  {
   "cell_type": "code",
   "execution_count": null,
   "metadata": {
    "collapsed": false,
    "scrolled": true
   },
   "outputs": [],
   "source": [
    "for x in party_guests[::-1]:\n",
    "    print(x)"
   ]
  },
  {
   "cell_type": "markdown",
   "metadata": {},
   "source": [
    "__Tip__: The 'x' is just a variable name that takes on the value of the current element in your iteration. For the purpose of your loop, you can technically call 'x' whatever you like. It is, however, good practice to give your variables informative names whenever possible. In the examples above, it would be better to say \"for guest in party_guests\" or \"for letter in substring1\" than to simply say x. "
   ]
  },
  {
   "cell_type": "markdown",
   "metadata": {},
   "source": [
    "### 2.2 while-loops\n",
    "\n",
    "A __while-loop__ in python executes an action _while_ a certain condition is true. For example, here's a simple while-loop that counts to 3 and then prints 'GO!':"
   ]
  },
  {
   "cell_type": "code",
   "execution_count": null,
   "metadata": {
    "collapsed": false,
    "scrolled": true
   },
   "outputs": [],
   "source": [
    "counter = 1\n",
    "while counter <= 3:\n",
    "    print(counter)\n",
    "    counter = counter + 1"
   ]
  },
  {
   "cell_type": "markdown",
   "metadata": {},
   "source": [
    "What python does here is that, at each iteration, it checks whether the _while_-condition is TRUE or FALSE. If it is TRUE (i.e., if the value of \"counter\" in our example is <= 3), it executes what's inside the loop. If it is FALSE, it exits the loop and continues with the next line of code outside of the loop"
   ]
  },
  {
   "cell_type": "markdown",
   "metadata": {},
   "source": [
    "A lot of times, we can use the \"counter\" as an index, at the same time. This allows us to access the elements in an iterable as long as a certain condition is TRUE. For example, here's a while-loop that prints the first 3 elements of a list:"
   ]
  },
  {
   "cell_type": "code",
   "execution_count": null,
   "metadata": {
    "collapsed": false
   },
   "outputs": [],
   "source": [
    "animals = ['dog', 'cat', 'mouse', 'dolphin', 'whale']\n",
    "\n",
    "counter = 0                      # remember 0-indexing\n",
    "while counter <= 2:\n",
    "    print(animals[counter])\n",
    "    counter += 1"
   ]
  },
  {
   "cell_type": "markdown",
   "metadata": {},
   "source": [
    "Imagine you only had room for 4 party guests. Can you use a while-loop to only invite the first 4 guests from the guest list?"
   ]
  },
  {
   "cell_type": "code",
   "execution_count": null,
   "metadata": {
    "collapsed": true
   },
   "outputs": [],
   "source": []
  },
  {
   "cell_type": "markdown",
   "metadata": {},
   "source": [
    "## 3. Conditionals\n",
    "\n",
    "Conditionals are a way of telling python to _only_ do something _if_ a given condition is TRUE. Here's a very simple example:"
   ]
  },
  {
   "cell_type": "code",
   "execution_count": null,
   "metadata": {
    "collapsed": false
   },
   "outputs": [],
   "source": [
    "x = 5\n",
    "y = 0\n",
    "\n",
    "if x > y:\n",
    "    print('yup!')"
   ]
  },
  {
   "cell_type": "markdown",
   "metadata": {},
   "source": [
    "In this case, python first checked that the condition was TRUE ('is 5 greater than 0?') and then executed the print statement. If we change the value of x to be negative, nothing will happen, because the if-statement will be FALSE:"
   ]
  },
  {
   "cell_type": "code",
   "execution_count": null,
   "metadata": {
    "collapsed": true
   },
   "outputs": [],
   "source": [
    "x = -5\n",
    "\n",
    "if x > y:\n",
    "    print('yup!')"
   ]
  },
  {
   "cell_type": "markdown",
   "metadata": {},
   "source": [
    "We can also tell python what to do in case a given statement is FALSE:"
   ]
  },
  {
   "cell_type": "code",
   "execution_count": null,
   "metadata": {
    "collapsed": false
   },
   "outputs": [],
   "source": [
    "if x > y:\n",
    "    print('yup!')\n",
    "else:\n",
    "    print('nope.')"
   ]
  },
  {
   "cell_type": "markdown",
   "metadata": {},
   "source": [
    "And there's even the option to specify several different possibilities within one if-statement:"
   ]
  },
  {
   "cell_type": "code",
   "execution_count": null,
   "metadata": {
    "collapsed": false
   },
   "outputs": [],
   "source": [
    "if x > y:\n",
    "    print('yup!')\n",
    "elif x < y:\n",
    "    print('nope.')\n",
    "else:\n",
    "    print(\"they're equal...?\")"
   ]
  },
  {
   "cell_type": "markdown",
   "metadata": {},
   "source": [
    "You can have as many elif-statements as you like within a given if-statement."
   ]
  },
  {
   "cell_type": "markdown",
   "metadata": {},
   "source": [
    "Where conditionals become really powerful is within loops. \n",
    "Imagine you had an acquaintance in your list of party guests that you really didn't want to invite:"
   ]
  },
  {
   "cell_type": "code",
   "execution_count": null,
   "metadata": {
    "collapsed": false,
    "scrolled": false
   },
   "outputs": [],
   "source": [
    "party_guests.insert(2,'mean kid')\n",
    "print(party_guests)"
   ]
  },
  {
   "cell_type": "markdown",
   "metadata": {},
   "source": [
    "If you ran your original while-loop from above, you'd send out invitations to _all_ the guests on the list, including the mean kid. In order to prevent that from happening, you can use an if-statement within your for-loop:"
   ]
  },
  {
   "cell_type": "code",
   "execution_count": null,
   "metadata": {
    "collapsed": false
   },
   "outputs": [],
   "source": [
    "for guest in party_guests:\n",
    "    if guest == 'mean kid':\n",
    "        print('not invited')\n",
    "    else:\n",
    "        print('Please come to my party, '+ guest + '! :)')"
   ]
  },
  {
   "cell_type": "markdown",
   "metadata": {},
   "source": [
    "This loops through all the guests on the list and checks whether they are the mean kid. If they are, python will print 'not invited' and continues with the loop; otherwise, it prints the party invitation until it gets to the end of the list."
   ]
  },
  {
   "cell_type": "markdown",
   "metadata": {},
   "source": [
    "### 4. inifite loops and 'break' statements\n",
    "\n",
    "Note how, in each of our while-loops, we have increased the value of the \"counter\" variable at each iteration. This is necessary to avoid what's called an _infinite loop_: The loop will literally run until your computer ran out of battery. Here are some examples of an infinite loop:"
   ]
  },
  {
   "cell_type": "raw",
   "metadata": {},
   "source": [
    "counter = 0\n",
    "while counter < 2:\n",
    "    print(counter)"
   ]
  },
  {
   "cell_type": "raw",
   "metadata": {},
   "source": [
    "counter = 1\n",
    "while counter < 2:\n",
    "    print(counter)\n",
    "    counter = counter - 1"
   ]
  },
  {
   "cell_type": "raw",
   "metadata": {},
   "source": [
    "counter = 10\n",
    "while True:\n",
    "    print(counter)\n",
    "    counter -= 1"
   ]
  },
  {
   "cell_type": "markdown",
   "metadata": {},
   "source": [
    "One way of avoiding accidentally writing an infinte loop is to add a _break_-statement to your code. A break statement quite literally tells python to \"break the loop\" if a certain condition is true. Take the last infinite loop example above. A break statement could look something like this:"
   ]
  },
  {
   "cell_type": "code",
   "execution_count": null,
   "metadata": {
    "collapsed": false,
    "scrolled": true
   },
   "outputs": [],
   "source": [
    "counter = 10\n",
    "while True:\n",
    "    if counter == 0:\n",
    "        break\n",
    "    print(counter)\n",
    "    counter -= 1"
   ]
  },
  {
   "cell_type": "markdown",
   "metadata": {},
   "source": [
    "Now, on each iteration, python checks whether True is still True (that will always be the case), so it goes inside the loop. It then checks whether the if-statement is true: Is the value of \"counter\" equal to 0? If yes, it will break out of the loop. If not, it will continue as normal: printing the value of \"counter\" and subtracting 1 from it. "
   ]
  }
 ],
 "metadata": {
  "anaconda-cloud": {},
  "kernelspec": {
   "display_name": "Python [conda env:py36]",
   "language": "python",
   "name": "conda-env-py36-py"
  },
  "language_info": {
   "codemirror_mode": {
    "name": "ipython",
    "version": 3
   },
   "file_extension": ".py",
   "mimetype": "text/x-python",
   "name": "python",
   "nbconvert_exporter": "python",
   "pygments_lexer": "ipython3",
   "version": "3.6.2"
  }
 },
 "nbformat": 4,
 "nbformat_minor": 1
}
