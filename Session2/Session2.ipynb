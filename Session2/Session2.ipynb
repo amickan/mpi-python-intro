{
 "cells": [
  {
   "cell_type": "markdown",
   "metadata": {},
   "source": [
    "# Session 2: Slicing, Iteration and Conditionals"
   ]
  },
  {
   "cell_type": "markdown",
   "metadata": {},
   "source": [
    "Now that you've encountered the different Python data types, it's time to find out more about how to use them! In this session, we'll show you several different ways of elegantly accessing iterables (such as lists and strings), and you'll write your first python loops."
   ]
  },
  {
   "cell_type": "markdown",
   "metadata": {},
   "source": [
    "## 0. Slicing "
   ]
  },
  {
   "cell_type": "markdown",
   "metadata": {},
   "source": [
    "You're probably familiar with the concept of _slicing_ from other programming languages, such as R or Matlab. Basically, slicing an iterable will return a specific segment or \"chunk\" of that segment. \n",
    "\n",
    "In the last session, we talked about how to access one specific element in an iterable by _indexing_. Just as a quick recap: How would you access the \"creepy vampire doggo\" from the following list?"
   ]
  },
  {
   "cell_type": "code",
   "execution_count": null,
   "metadata": {
    "collapsed": true
   },
   "outputs": [],
   "source": [
    "party_guests = ['bloody witch kolibrie', 'spooky hedgehog mummy', 'bloody frankenstein elephant', \n",
    "                'scary deadbody cat', 'creepy vampire doggo', 'scary zombie seal', \n",
    "                'scary pumpkin elephant', 'demonic witch goat']"
   ]
  },
  {
   "cell_type": "code",
   "execution_count": null,
   "metadata": {},
   "outputs": [],
   "source": []
  },
  {
   "cell_type": "markdown",
   "metadata": {},
   "source": [
    "Recall that the same works for strings: How would you access the letter 'f' from the following word? "
   ]
  },
  {
   "cell_type": "code",
   "execution_count": null,
   "metadata": {
    "collapsed": true
   },
   "outputs": [],
   "source": [
    "long_string = 'supercalifragilisticexpialidocious'"
   ]
  },
  {
   "cell_type": "code",
   "execution_count": null,
   "metadata": {},
   "outputs": [],
   "source": []
  },
  {
   "cell_type": "markdown",
   "metadata": {},
   "source": [
    "Indexing is very useful, but a lot of the time, you might want to access more than just one element from your iterable. Thankfully, slicing offers a very easy way of doing exactly that. Here's how you would access the substring \"super\" from the string above:"
   ]
  },
  {
   "cell_type": "code",
   "execution_count": null,
   "metadata": {},
   "outputs": [],
   "source": [
    "substring1 = long_string[0:5]\n",
    "print(substring1)"
   ]
  },
  {
   "cell_type": "markdown",
   "metadata": {},
   "source": [
    "What we're telling python to do here is to take our long_string variable and subset it from the start index (in our case, 0) up to (but not including!) the end index (5). \n",
    "\n",
    "How would you extract the substring 'cali' from the long_string variable above?"
   ]
  },
  {
   "cell_type": "code",
   "execution_count": null,
   "metadata": {},
   "outputs": [],
   "source": [
    "substring2 = \n",
    "print(substring2)"
   ]
  },
  {
   "cell_type": "markdown",
   "metadata": {},
   "source": [
    "If you don't specify a start index, python will automatically assume that you want your slice to start at the first element of the iterable:"
   ]
  },
  {
   "cell_type": "code",
   "execution_count": null,
   "metadata": {
    "scrolled": true
   },
   "outputs": [],
   "source": [
    "long_string[:5]"
   ]
  },
  {
   "cell_type": "markdown",
   "metadata": {},
   "source": [
    "...and similarly, if you don't specify an end index, python will assume the final element of your iterable as the end of the slice:"
   ]
  },
  {
   "cell_type": "code",
   "execution_count": null,
   "metadata": {},
   "outputs": [],
   "source": [
    "long_string[20:]"
   ]
  },
  {
   "cell_type": "markdown",
   "metadata": {},
   "source": [
    "If you don't specify any start or end index, python \"slices\" the entire iterable:"
   ]
  },
  {
   "cell_type": "code",
   "execution_count": null,
   "metadata": {},
   "outputs": [],
   "source": [
    "long_string[:]"
   ]
  },
  {
   "cell_type": "markdown",
   "metadata": {},
   "source": [
    "Now imagine you wanted to subset only the last three letters from the long_string. \n",
    "\n",
    "What's the best way to go about this? Counting all the previous letters would be quite tedious... and sometimes, in 'real' programming situations, we don't even know how long a given iterable will be, so we can't just tell python to look for long_string[31:35]. Python has a nice way around this: _negative indexing_."
   ]
  },
  {
   "cell_type": "code",
   "execution_count": null,
   "metadata": {},
   "outputs": [],
   "source": [
    "substring3 = long_string[-3:]\n",
    "print(substring3)"
   ]
  },
  {
   "cell_type": "markdown",
   "metadata": {},
   "source": [
    "How would you extract the substring 'doci' from the long_string?"
   ]
  },
  {
   "cell_type": "code",
   "execution_count": null,
   "metadata": {
    "scrolled": true
   },
   "outputs": [],
   "source": [
    "substring4 = \n",
    "print(substring4)"
   ]
  },
  {
   "cell_type": "markdown",
   "metadata": {},
   "source": [
    "Slicing offers some other useful functionalities. For example, you might want to access only every other element in a list. \n",
    "\n",
    "Imagine you wanted to split your list of halloween party guests into two groups (lists) for a spooky game. In python, you can select every n-th element from an iterable by specifying a 'step size' after a second set of colons. For example, the following expression would select every 2nd item from the entire party_guests list:"
   ]
  },
  {
   "cell_type": "code",
   "execution_count": null,
   "metadata": {},
   "outputs": [],
   "source": [
    "group1 = party_guests[::2]\n",
    "print(group1)"
   ]
  },
  {
   "cell_type": "markdown",
   "metadata": {},
   "source": [
    "This tells python to slice the _entire_ original list (party_guests[:]) in steps of 2 (:2). \n",
    "\n",
    "How would you take a slice of party_guests with just the second group?"
   ]
  },
  {
   "cell_type": "code",
   "execution_count": null,
   "metadata": {},
   "outputs": [],
   "source": [
    "group2 = \n",
    "print(group2)"
   ]
  },
  {
   "cell_type": "markdown",
   "metadata": {},
   "source": [
    "Steps don't have to go from left to right: Just as you can use negative indeces to access the last x elements in an interable, you can also have a negative step size. For example, the following expression tells python to 'go backwards' through our long_string:"
   ]
  },
  {
   "cell_type": "code",
   "execution_count": null,
   "metadata": {},
   "outputs": [],
   "source": [
    "long_string_reversed = long_string[::-1]\n",
    "print(long_string_reversed)"
   ]
  },
  {
   "cell_type": "markdown",
   "metadata": {},
   "source": [
    "How would you reverse the list of party guests?"
   ]
  },
  {
   "cell_type": "code",
   "execution_count": null,
   "metadata": {
    "collapsed": true
   },
   "outputs": [],
   "source": [
    "party_guests_reversed = \n",
    "print(party_guests_reversed)"
   ]
  },
  {
   "cell_type": "markdown",
   "metadata": {},
   "source": [
    "## 1. Iteration\n",
    "\n",
    "One of the reasons why programming can be so useful is that it allows you to \"delegate\" annoyingly repetitive tasks to your computer through _iteration_. \n",
    "\n",
    "### 1.0 For-loops\n",
    "\n",
    "One way of iterating is by using a __for-loop__: For each item in an iterable, python does a certain action. \n",
    "\n",
    "Imagine you wanted to send out invitations to all of your halloween party guests."
   ]
  },
  {
   "cell_type": "markdown",
   "metadata": {},
   "source": [
    "You could go ahead and individually invite every single guest on the guest list:"
   ]
  },
  {
   "cell_type": "code",
   "execution_count": null,
   "metadata": {},
   "outputs": [],
   "source": [
    "print('Please come to my party, '+ party_guests[0] + '! :)')\n",
    "print('Please come to my party, '+ party_guests[1] + '! :)')\n",
    "print('Please come to my party, '+ party_guests[2] + '! :)')"
   ]
  },
  {
   "cell_type": "markdown",
   "metadata": {},
   "source": [
    "... but as you can imagine, that would be quite tedious if you wanted to invite _all_ of your friends. \n",
    "\n",
    "With iteration, you can do this in just a couple of lines:"
   ]
  },
  {
   "cell_type": "code",
   "execution_count": null,
   "metadata": {},
   "outputs": [],
   "source": [
    "for guest in party_guests:\n",
    "    print('Please come to my party, '+ guest + '! :)')"
   ]
  },
  {
   "cell_type": "markdown",
   "metadata": {},
   "source": [
    "What you're telling python to do here is to _loop through_ all the elements in your list and execute the print statement. \n",
    "\n",
    "The structure of a for-loop is always the same: "
   ]
  },
  {
   "cell_type": "raw",
   "metadata": {},
   "source": [
    "for x in y:\n",
    "    do something"
   ]
  },
  {
   "cell_type": "markdown",
   "metadata": {},
   "source": [
    "Your 'y' will always be an iterable - here are some examples of things you could loop over:"
   ]
  },
  {
   "cell_type": "code",
   "execution_count": null,
   "metadata": {
    "scrolled": true
   },
   "outputs": [],
   "source": [
    "for x in substring1:\n",
    "    print(letter)"
   ]
  },
  {
   "cell_type": "code",
   "execution_count": null,
   "metadata": {},
   "outputs": [],
   "source": [
    "for x in 'hello':\n",
    "    print(x)"
   ]
  },
  {
   "cell_type": "code",
   "execution_count": null,
   "metadata": {},
   "outputs": [],
   "source": [
    "for x in [1,2,3,4,5]:\n",
    "    print(number)"
   ]
  },
  {
   "cell_type": "code",
   "execution_count": null,
   "metadata": {},
   "outputs": [],
   "source": [
    "for x in (1, 'hello', 2, 'world'):\n",
    "    print(x)"
   ]
  },
  {
   "cell_type": "code",
   "execution_count": null,
   "metadata": {
    "scrolled": true
   },
   "outputs": [],
   "source": [
    "for x in party_guests[::-1]:\n",
    "    print(x)"
   ]
  },
  {
   "cell_type": "markdown",
   "metadata": {},
   "source": [
    "__Tip__: The 'x' is just a variable name that takes on the value of the current element in your iteration. For the purpose of your loop, you can technically call 'x' whatever you like. It is, however, good practice to give your variables informative names whenever possible. In the examples above, it would be better to say \"for guest in party_guests\" or \"for letter in substring1\" than to simply say x. "
   ]
  },
  {
   "cell_type": "markdown",
   "metadata": {},
   "source": [
    "### 1.1 while-loops\n",
    "\n",
    "A __while-loop__ in python executes an action _while_ a certain condition is true. For example, here's a simple while-loop that counts to 3 and then prints 'GO!':"
   ]
  },
  {
   "cell_type": "code",
   "execution_count": null,
   "metadata": {
    "scrolled": true
   },
   "outputs": [],
   "source": [
    "counter = 1\n",
    "while counter <= 3:\n",
    "    print(counter)\n",
    "    counter = counter + 1"
   ]
  },
  {
   "cell_type": "markdown",
   "metadata": {},
   "source": [
    "What python does here is that, at each iteration, it checks whether the _while_-condition is TRUE or FALSE. If it is TRUE (i.e., if the value of \"counter\" in our example is <= 3), it executes what's inside the loop. If it is FALSE, it exits the loop and continues with the next line of code outside of the loop"
   ]
  },
  {
   "cell_type": "markdown",
   "metadata": {},
   "source": [
    "A lot of times, we can use the \"counter\" as an index, at the same time. This allows us to access the elements in an iterable as long as a certain condition is TRUE. For example, here's a while-loop that prints the first 3 elements of a list:"
   ]
  },
  {
   "cell_type": "code",
   "execution_count": null,
   "metadata": {},
   "outputs": [],
   "source": [
    "animals = ['dog', 'cat', 'mouse', 'dolphin', 'whale']\n",
    "\n",
    "counter = 0                      # remember 0-indexing\n",
    "while counter <= 2:\n",
    "    print(animals[counter])\n",
    "    counter += 1"
   ]
  },
  {
   "cell_type": "markdown",
   "metadata": {},
   "source": [
    "Imagine you only had room for 4 party guests. Can you use a while-loop to only invite the first 4 guests from the guest list?"
   ]
  },
  {
   "cell_type": "code",
   "execution_count": null,
   "metadata": {
    "collapsed": true
   },
   "outputs": [],
   "source": []
  },
  {
   "cell_type": "markdown",
   "metadata": {},
   "source": [
    "## 2. Conditionals\n",
    "\n",
    "Conditionals are a way of telling python to _only_ do something _if_ a given condition is TRUE. Here's a very simple example:"
   ]
  },
  {
   "cell_type": "code",
   "execution_count": null,
   "metadata": {},
   "outputs": [],
   "source": [
    "x = 5\n",
    "y = 0\n",
    "\n",
    "if x > y:\n",
    "    print('yup!')"
   ]
  },
  {
   "cell_type": "markdown",
   "metadata": {},
   "source": [
    "In this case, python first checked that the condition was TRUE ('is 5 greater than 0?') and then executed the print statement. If we change the value of x to be negative, nothing will happen, because the if-statement will be FALSE:"
   ]
  },
  {
   "cell_type": "code",
   "execution_count": null,
   "metadata": {
    "collapsed": true
   },
   "outputs": [],
   "source": [
    "x = -5\n",
    "\n",
    "if x > y:\n",
    "    print('yup!')"
   ]
  },
  {
   "cell_type": "markdown",
   "metadata": {},
   "source": [
    "We can also tell python what to do in case a given statement is FALSE:"
   ]
  },
  {
   "cell_type": "code",
   "execution_count": null,
   "metadata": {},
   "outputs": [],
   "source": [
    "if x > y:\n",
    "    print('yup!')\n",
    "else:\n",
    "    print('nope.')"
   ]
  },
  {
   "cell_type": "markdown",
   "metadata": {},
   "source": [
    "And there's even the option to specify several different possibilities within one if-statement:"
   ]
  },
  {
   "cell_type": "code",
   "execution_count": null,
   "metadata": {},
   "outputs": [],
   "source": [
    "if x > y:\n",
    "    print('yup!')\n",
    "elif x < y:\n",
    "    print('nope.')\n",
    "else:\n",
    "    print(\"they're equal...?\")"
   ]
  },
  {
   "cell_type": "markdown",
   "metadata": {},
   "source": [
    "You can have as many elif-statements as you like within a given if-statement."
   ]
  },
  {
   "cell_type": "markdown",
   "metadata": {},
   "source": [
    "Where conditionals become really powerful is within loops. \n",
    "Imagine you had an acquaintance in your list of party guests that you really didn't want to invite:"
   ]
  },
  {
   "cell_type": "code",
   "execution_count": null,
   "metadata": {
    "scrolled": false
   },
   "outputs": [],
   "source": [
    "party_guests.insert(2,'mean kid')\n",
    "print(party_guests)"
   ]
  },
  {
   "cell_type": "markdown",
   "metadata": {},
   "source": [
    "If you ran your original while-loop from above, you'd send out invitations to _all_ the guests on the list, including the mean kid. In order to prevent that from happening, you can use an if-statement within your for-loop:"
   ]
  },
  {
   "cell_type": "code",
   "execution_count": null,
   "metadata": {},
   "outputs": [],
   "source": [
    "for guest in party_guests:\n",
    "    if guest == 'mean kid':\n",
    "        print('not invited')\n",
    "    else:\n",
    "        print('Please come to my party, '+ guest + '! :)')"
   ]
  },
  {
   "cell_type": "markdown",
   "metadata": {},
   "source": [
    "This loops through all the guests on the list and checks whether they are the mean kid. If they are, python will print 'not invited' and continues with the loop; otherwise, it prints the party invitation until it gets to the end of the list."
   ]
  },
  {
   "cell_type": "markdown",
   "metadata": {},
   "source": [
    "## 3. Inifite loops and `break` statements\n",
    "\n",
    "Note how, in each of our while-loops, we have increased the value of the \"counter\" variable at each iteration. This is necessary to avoid what's called an _infinite loop_: The loop will literally run until your computer ran out of battery. Here are some examples of an infinite loop:"
   ]
  },
  {
   "cell_type": "raw",
   "metadata": {},
   "source": [
    "counter = 0\n",
    "while counter < 2:\n",
    "    print(counter)"
   ]
  },
  {
   "cell_type": "raw",
   "metadata": {},
   "source": [
    "counter = 1\n",
    "while counter < 2:\n",
    "    print(counter)\n",
    "    counter = counter - 1"
   ]
  },
  {
   "cell_type": "raw",
   "metadata": {},
   "source": [
    "counter = 10\n",
    "while True:\n",
    "    print(counter)\n",
    "    counter -= 1"
   ]
  },
  {
   "cell_type": "markdown",
   "metadata": {},
   "source": [
    "One way of avoiding accidentally writing an infinte loop is to add a _break_-statement to your code. A break statement quite literally tells python to \"break the loop\" if a certain condition is true. Take the last infinite loop example above. A break statement could look something like this:"
   ]
  },
  {
   "cell_type": "code",
   "execution_count": null,
   "metadata": {
    "scrolled": true
   },
   "outputs": [],
   "source": [
    "counter = 10\n",
    "while True:\n",
    "    if counter == 0:\n",
    "        break\n",
    "    print(counter)\n",
    "    counter -= 1"
   ]
  },
  {
   "cell_type": "markdown",
   "metadata": {},
   "source": [
    "Now, on each iteration, python checks whether True is still True (that will always be the case), so it goes inside the loop. It then checks whether the if-statement is true: Is the value of \"counter\" equal to 0? If yes, it will break out of the loop. If not, it will continue as normal: printing the value of \"counter\" and subtracting 1 from it.  \n",
    "You can use `break` to break out of _for_ loops as well, but this is considered bad practice in some circles. Think of it this way: _for_ loops are for iterating over iterable objects like lists, whereas _while_ loops are for executing a loop until a certain condition is met. This rule is not set in stone though, so feel free to deviate from it if it makes your code easier to read."
   ]
  },
  {
   "cell_type": "markdown",
   "metadata": {},
   "source": [
    "## 4. Bonus: Comprehensions\n",
    "### 4.0 List comprehensions\n",
    "Very often, the only reason you're using a loop is to build up a list of something or edit an existing list, like converting a list of birthdays into a list of ages, for instance. This involves using the `list.append()` method or something similar to edit a list on each iteration. While this is usually fast enough, for big or time-critical applications it's better to use something called a _list comprehension_.  \n",
    "\n",
    "A list comprehension essentially looks like a for loop on a single line, enclosed by square brackets:"
   ]
  },
  {
   "cell_type": "code",
   "execution_count": 3,
   "metadata": {},
   "outputs": [
    {
     "name": "stdout",
     "output_type": "stream",
     "text": [
      "[1022.0, 809.0, 959.0]\n"
     ]
    }
   ],
   "source": [
    "# let's use a list of RTs in seconds as an example\n",
    "RTs_in_s = [1.022, 0.809, 0.959]\n",
    "# now convert the RTs to milliseconds using a list comprehension\n",
    "RTs_in_ms = [RT * 1000 for RT in RTs_in_s]\n",
    "print(RTs_in_ms)"
   ]
  },
  {
   "cell_type": "markdown",
   "metadata": {},
   "source": [
    "As you can see, the standard _for_ loop paradigm of iterating over a list is still used here, but by using the list comprehension format, we tell the Python interpreter the intended output of the loop is a list. The interpreter can use this information to build up the components of the list and then putting the list together all at once, instead of you appending to a list (or similar) on each iteration. This is often noticeably faster.\n",
    "### 4.1 Dict and set comprehensions\n",
    "Comprehensions are not just for lists. Using curly brackets you can set up dictionary and set comprehensions as well. If we're being honest though, neither of us has ever had to use a set comprehension for anything, ever. (But it's nice that the option is available.)\n",
    "### 4.2 Generator expressions\n",
    "Given that square brackets denote list comprehensions, and curly brackets denote dict/set comprehensions, you might expect that normal parentheses denote tuple comprehensions. Remember, however, that tuples are _immutable_, so a tuple comprehension wouldn't really work (although you can always use a list comprehension to create a list and then turn that into a tuple).  \n",
    "Instead, parentheses are used to denote something much more useful: Generator expressions. A _generator_ is an iterator whose values are not yet stored, but instead generated as needed."
   ]
  },
  {
   "cell_type": "code",
   "execution_count": 1,
   "metadata": {},
   "outputs": [
    {
     "name": "stdout",
     "output_type": "stream",
     "text": [
      "<generator object <genexpr> at 0x10e07c570>\n"
     ]
    }
   ],
   "source": [
    "numbers = list(range(100))\n",
    "doubles = (2 * number for number in numbers)\n",
    "print(doubles)"
   ]
  },
  {
   "cell_type": "markdown",
   "metadata": {},
   "source": [
    "Oops!\n",
    "Because the generator only evaluates each iteration when it's called for, we can't print the whole thing.\n",
    "This keeps the memory footprint small (only one value is needed at a time) but we need to use the generator as an iterable to access its values.\n",
    "Do this now: Use a for loop to loop over the `doubles` generator and print the values."
   ]
  },
  {
   "cell_type": "code",
   "execution_count": null,
   "metadata": {},
   "outputs": [],
   "source": []
  },
  {
   "cell_type": "markdown",
   "metadata": {},
   "source": [
    "## 5. More bonus, more better: Ternary operator\n",
    "Just as you can sometimes put a for loop into a more effictient single line (in the form of a comprehension) you can sometimes streamline a conditional statement. If you're using an if/else statement to produce one value if the statement is true, and another value if it is not, you can put this if/else into a single statement called a _ternary_. The syntax is a little unusual, but if you read it as a normal sentence it starts to make sense."
   ]
  },
  {
   "cell_type": "code",
   "execution_count": 3,
   "metadata": {},
   "outputs": [
    {
     "name": "stdout",
     "output_type": "stream",
     "text": [
      "I am sleepy\n"
     ]
    }
   ],
   "source": [
    "caffeinated = False\n",
    "status = 'alert' if caffeinated is True else 'sleepy'\n",
    "print(f'I am {status}')"
   ]
  },
  {
   "cell_type": "markdown",
   "metadata": {},
   "source": [
    "You can use if/else statements an the ternary operator inside a list comprehension as well. Try doing that now, to list the numbers from 1 to 10, but replace the number 7 with the word seven."
   ]
  },
  {
   "cell_type": "code",
   "execution_count": null,
   "metadata": {},
   "outputs": [],
   "source": []
  },
  {
   "cell_type": "markdown",
   "metadata": {},
   "source": [
    "## 6. Exercises: Putting it all together\n",
    "Now use a _for_ loop to create a list with the first 100 numbers in the Fibonacci sequence. If you need to look up how the Fibonacci sequence works, Wikipedia has all the information you need.  \n",
    "__HINT:__ Make a list of the numbers 1 to 100 first, using the `range()` function. Keep in mind Python ranges start at 0 though, not at 1."
   ]
  },
  {
   "cell_type": "code",
   "execution_count": null,
   "metadata": {},
   "outputs": [],
   "source": []
  },
  {
   "cell_type": "markdown",
   "metadata": {},
   "source": [
    "Now use conditionals to filter out _even_ numbers.  \n",
    "__HINT:__ The modulo operator in Python is `%`. If you don't know what that is, don't worry: Just use StackOverflow or the Python documentation to look it up."
   ]
  },
  {
   "cell_type": "code",
   "execution_count": null,
   "metadata": {},
   "outputs": [],
   "source": []
  },
  {
   "cell_type": "markdown",
   "metadata": {},
   "source": [
    "Convert your `for` loop to a `while` loop that runs until you reach the first Fibonacci number larger than one billion. If you store all these values in a list, it will become a very large list. It's worth considering discarding every value until you hit one larger than one billion, and then simply printing that one."
   ]
  },
  {
   "cell_type": "code",
   "execution_count": null,
   "metadata": {},
   "outputs": [],
   "source": []
  }
 ],
 "metadata": {
  "anaconda-cloud": {},
  "kernelspec": {
   "display_name": "Python 3",
   "language": "python",
   "name": "python3"
  },
  "language_info": {
   "codemirror_mode": {
    "name": "ipython",
    "version": 3
   },
   "file_extension": ".py",
   "mimetype": "text/x-python",
   "name": "python",
   "nbconvert_exporter": "python",
   "pygments_lexer": "ipython3",
   "version": "3.7.0"
  }
 },
 "nbformat": 4,
 "nbformat_minor": 1
}
