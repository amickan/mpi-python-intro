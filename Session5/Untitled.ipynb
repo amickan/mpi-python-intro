{
 "cells": [
  {
   "cell_type": "code",
   "execution_count": 1,
   "metadata": {},
   "outputs": [
    {
     "name": "stdout",
     "output_type": "stream",
     "text": [
      "pygame 1.9.4\n",
      "Hello from the pygame community. https://www.pygame.org/contribute.html\n",
      "1.5885 \tWARNING \tMonitor specification not found. Creating a temporary one...\n"
     ]
    }
   ],
   "source": [
    "import subprocess as sp\n",
    "from PIL import Image\n",
    "from psychopy import core, visual,event\n",
    "\n",
    "# im = Image.open('hat.png')\n",
    "# open a window of 800 by 600 pixels (note the tuple for specifying size!)\n",
    "win = visual.Window((800, 600), color='teal')\n",
    "core.wait(3)\n",
    "\n",
    "clock = core.Clock()\n",
    "\n",
    "while clock.getTime() < 10:\n",
    "# while True:\n",
    "    for i in range(6):\n",
    "        name = \"rotated\" + str(i*60) + \"degree.png\"\n",
    "        im = visual.ImageStim(win,image = name, units='pix')\n",
    "        if 0.5 <clock.getTime() < 1:\n",
    "            im.draw()\n",
    "            win.flip()\n",
    "        \n",
    "#     event.waitKeys()\n",
    "\n",
    "win.close()\n",
    "# im = visual.ImageStim(win=win,image='hat.png',units='pix')\n",
    "# im.draw()\n",
    "# win.flip()\n",
    "\n",
    "# for i in range(36):\n",
    "# clock = core.Clock()\n",
    "\n",
    "# while True:\n",
    "#     if clock.getTime() == 1:\n",
    "#     rotated = im.rotate(45)\n",
    "#     im = visual.ImageStim(win=win,image=rotated,units='pix')\n",
    "#     im.draw()\n",
    "#     win.flip()"
   ]
  }
 ],
 "metadata": {
  "kernelspec": {
   "display_name": "Python 3",
   "language": "python",
   "name": "python3"
  },
  "language_info": {
   "codemirror_mode": {
    "name": "ipython",
    "version": 3
   },
   "file_extension": ".py",
   "mimetype": "text/x-python",
   "name": "python",
   "nbconvert_exporter": "python",
   "pygments_lexer": "ipython3",
   "version": "3.7.0"
  }
 },
 "nbformat": 4,
 "nbformat_minor": 2
}
