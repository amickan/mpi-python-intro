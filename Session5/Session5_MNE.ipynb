{
 "cells": [
  {
   "cell_type": "markdown",
   "metadata": {
    "collapsed": true
   },
   "source": [
    "# X.0 A very brief intro to MNE\n",
    "\n",
    "\n",
    "\n",
    "MNE is an open-source software package to help you analyze and visualize M/EEG, ECoG, and other types of neurophysiological data. Things you can do in MNE include:\n",
    "\n",
    "* visualizing data\n",
    "* epoching\n",
    "* averaging and computing evoked responses\n",
    "* computing ICA \n",
    "* time-frequency analysis\n",
    "* computing connectivity estimates\n",
    "* classifier analysis \n",
    "* non-parametric stats\n",
    "\n",
    "...and many more. There's a wealth of documentation (https://martinos.org/mne/stable/documentation.html) and examples (https://martinos.org/mne/stable/auto_examples/index.html) online. \n",
    "\n",
    "In today's session, we'll briefly walk you through one of the MNE introductory examples so you can get a general feel for how to use MNE. \n",
    "\n",
    "Here's the original example that we'll be using: https://martinos.org/mne/stable/auto_tutorials/plot_introduction.html. We'll plot evoked responses today, but the original example also shows you how to run and plot a time-frequency analysis."
   ]
  },
  {
   "cell_type": "markdown",
   "metadata": {},
   "source": [
    "## X.1 Installing MNE\n",
    "\n",
    "Downloading and installing MNE can take a little time, so for the purpose of today's session (or if you're generally not that interested in analyzing M/EEG data), we'd advise you to just follow along with the lecture from here on out, rather than downloading and installing the package and example data set.\n",
    "\n",
    "Installation instructions can be found here: https://martinos.org/mne/stable/install_mne_python.html#install-python-and-mne-python. \n"
   ]
  },
  {
   "cell_type": "markdown",
   "metadata": {},
   "source": [
    "## X.2 Reading in raw data\n",
    "\n",
    "Once you have MNE installed, you can already read in your raw data! MNE supports several different data formats, including fif, brainvision, eeglab, and edf files. You can read more about that here: https://martinos.org/mne/stable/manual/io.html\n",
    "\n",
    "The example we're using works with MNE's sample data set, which comes as fif."
   ]
  },
  {
   "cell_type": "code",
   "execution_count": null,
   "metadata": {},
   "outputs": [],
   "source": [
    "import mne\n",
    "\n",
    "# import the sample data set\n",
    "from mne.datasets import sample\n",
    "\n",
    "# specify the name of your raw data file\n",
    "data_path = sample.data_path()\n",
    "raw_fname = data_path + '/MEG/sample/sample_audvis_filt-0-40_raw.fif'\n",
    "print(raw_fname)\n",
    "\n",
    "# read in the data\n",
    "raw = mne.io.read_raw_fif(raw_fname)"
   ]
  },
  {
   "cell_type": "markdown",
   "metadata": {},
   "source": [
    "Let's have a look at the data structure:"
   ]
  },
  {
   "cell_type": "code",
   "execution_count": null,
   "metadata": {},
   "outputs": [],
   "source": [
    "print(raw)"
   ]
  },
  {
   "cell_type": "code",
   "execution_count": null,
   "metadata": {},
   "outputs": [],
   "source": [
    "print(raw.info)"
   ]
  },
  {
   "cell_type": "markdown",
   "metadata": {},
   "source": [
    "This gives us a lot of useful information about our raw data: We can see that there are 376 channels (chs and nchan), what they're called (ch_names), the events (0 at this point, because we haven't defined them yet), channels marked as bad (MEG 2443 and EEG 053, apparently), highpass and lowpass filters that have been applied (0.1 Hz and 40 Hz), the sampling frequency (sfreq), and a lot more. We can look at each of these in more detail:"
   ]
  },
  {
   "cell_type": "code",
   "execution_count": null,
   "metadata": {
    "scrolled": true
   },
   "outputs": [],
   "source": [
    "# for example, look at the channel names\n",
    "print(raw.ch_names)"
   ]
  },
  {
   "cell_type": "code",
   "execution_count": null,
   "metadata": {},
   "outputs": [],
   "source": [
    "# or look at the bad channels\n",
    "print(raw.info['bads'])"
   ]
  },
  {
   "cell_type": "markdown",
   "metadata": {},
   "source": [
    "## X.3 Browsing raw data\n",
    "\n",
    "Now let's have a look at a segment of our data:"
   ]
  },
  {
   "cell_type": "code",
   "execution_count": null,
   "metadata": {},
   "outputs": [],
   "source": [
    "'''Note that usually, when using MNE outside of jupyter notebooks, \n",
    "this will open an interactive window where you can scroll through your data \n",
    "and, for example, mark bad channels manually.\n",
    "\n",
    "For now, we'll just show a preview of what that looks like.'''\n",
    "\n",
    "raw.plot();"
   ]
  },
  {
   "cell_type": "markdown",
   "metadata": {},
   "source": [
    "You can read more about how to browse raw data in MNE here: https://martinos.org/mne/stable/manual/gui/browse.html#ch-browse"
   ]
  },
  {
   "cell_type": "markdown",
   "metadata": {},
   "source": [
    "## X.4 Epoching data\n",
    "\n",
    "MNE can extract events for you like this:"
   ]
  },
  {
   "cell_type": "code",
   "execution_count": null,
   "metadata": {},
   "outputs": [],
   "source": [
    "# use function .find_events on the raw data\n",
    "# and tell MNE that your stimulus channel is called 'STI 014'\n",
    "events = mne.find_events(raw, stim_channel='STI 014')\n",
    "\n",
    "# look at the first five events\n",
    "print(events[:5])"
   ]
  },
  {
   "cell_type": "markdown",
   "metadata": {},
   "source": [
    "If you'd like to exclude some noisy channels, you can save all the bad channels in a list, pass that list to MNE, and select only the remaining good channels, like this:"
   ]
  },
  {
   "cell_type": "code",
   "execution_count": null,
   "metadata": {
    "collapsed": true
   },
   "outputs": [],
   "source": [
    "raw.info['bads'] += ['MEG 2443', 'EEG 053']\n",
    "picks = mne.pick_types(raw.info, meg=True, eeg=True, eog=True, stim=False,\n",
    "                       exclude='bads')"
   ]
  },
  {
   "cell_type": "markdown",
   "metadata": {},
   "source": [
    "Now the data frame 'picks' includes all the MEG, EEG and EOG channels, excluding the ones that are in your list of 'bad' channels and the STIM channels."
   ]
  },
  {
   "cell_type": "code",
   "execution_count": null,
   "metadata": {
    "scrolled": true
   },
   "outputs": [],
   "source": [
    "# define parameters for epoching\n",
    "\n",
    "event_id = dict(aud_l=1, aud_r=2)  # event trigger and conditions\n",
    "tmin = -0.2  # start of each epoch (200ms before the trigger)\n",
    "tmax = 0.5  # end of each epoch (500ms after the trigger)\n",
    "baseline = (None, 0)  # means from the first instant to t = 0\n",
    "reject = dict(grad=4000e-13, mag=4e-12, eog=150e-6) # set criteria for automatic artifact rejection\n",
    "\n",
    "# epoch your data\n",
    "epochs = mne.Epochs(raw, events, event_id, tmin, tmax, proj=True, picks=picks,\n",
    "                    baseline=baseline, preload=False, reject=reject)\n",
    "print(epochs)"
   ]
  },
  {
   "cell_type": "markdown",
   "metadata": {},
   "source": [
    "As you can see above, the epochs data frame now includes two conditions: 'aud_l' (which corresponded to event_id 1), with 72 epochs, and 'aud_r' (event_id 2), with 73 epochs. You can compute evoked responses as follows:"
   ]
  },
  {
   "cell_type": "code",
   "execution_count": null,
   "metadata": {
    "scrolled": true
   },
   "outputs": [],
   "source": [
    "# subset epochs that were from condition 'aud_l' \n",
    "# and average across all epochs\n",
    "evoked_left = epochs['aud_l'].average()\n",
    "print(evoked_left)\n",
    "\n",
    "# plot\n",
    "evoked_left.plot(time_unit='s')\n",
    "\n",
    "evoked_right = epochs['aud_r'].average()\n",
    "print(evoked_right)\n",
    "evoked_right.plot(time_unit='s');"
   ]
  },
  {
   "cell_type": "markdown",
   "metadata": {},
   "source": [
    "There really is .A LOT. more you can do with MNE, but the techniques you'll be using obviously depend a lot on your research question and data. If you're interested in using MNE for data analysis, we can't recommend their documentation, tutorials, and example gallery enough! (See links in section X.0). Have fun! :) "
   ]
  }
 ],
 "metadata": {
  "anaconda-cloud": {},
  "kernelspec": {
   "display_name": "Python 3",
   "language": "python",
   "name": "python3"
  },
  "language_info": {
   "codemirror_mode": {
    "name": "ipython",
    "version": 3
   },
   "file_extension": ".py",
   "mimetype": "text/x-python",
   "name": "python",
   "nbconvert_exporter": "python",
   "pygments_lexer": "ipython3",
   "version": "3.7.1"
  }
 },
 "nbformat": 4,
 "nbformat_minor": 1
}
