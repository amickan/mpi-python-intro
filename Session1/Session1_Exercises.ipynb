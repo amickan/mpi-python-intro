{
 "cells": [
  {
   "cell_type": "markdown",
   "metadata": {},
   "source": [
    "# Additional Exercises 1\n",
    "\n",
    "In this set of additional exercises, you can practice the new concepts that we've introduced during the class a bit more. If you run into difficulties, you can always head back to the lecture notes, try your luck on stack overflow (some of the exercises actually require you to find things online), or of course send us an email or drop by our offices and ask us in person! :) "
   ]
  },
  {
   "cell_type": "code",
   "execution_count": 3,
   "metadata": {},
   "outputs": [
    {
     "name": "stdout",
     "output_type": "stream",
     "text": [
      "15\n"
     ]
    }
   ],
   "source": [
    "# store the integer 5 in a variable named a, and the integer 10 in a variable named b\n",
    "a,b = 5,10\n",
    "\n",
    "# add a and b and store the result in c\n",
    "c = a+b\n",
    "\n",
    "# print the contents of c\n",
    "print(c)"
   ]
  },
  {
   "cell_type": "code",
   "execution_count": 4,
   "metadata": {},
   "outputs": [
    {
     "name": "stdout",
     "output_type": "stream",
     "text": [
      "5\n"
     ]
    }
   ],
   "source": [
    "# subtract a from b and store the result in c\n",
    "c = b-a\n",
    "\n",
    "# print the new contents of c\n",
    "print(c)"
   ]
  },
  {
   "cell_type": "code",
   "execution_count": 5,
   "metadata": {},
   "outputs": [
    {
     "name": "stdout",
     "output_type": "stream",
     "text": [
      "3.0\n"
     ]
    }
   ],
   "source": [
    "# store the float 2.0 in a variable named d, and the float 6.0 in a variable named e\n",
    "d,e = 2.0,6.0\n",
    "\n",
    "# divide e by d and store the result in f\n",
    "f = e/d\n",
    "\n",
    "# print the contents of f\n",
    "print(f)"
   ]
  },
  {
   "cell_type": "code",
   "execution_count": 7,
   "metadata": {},
   "outputs": [
    {
     "name": "stdout",
     "output_type": "stream",
     "text": [
      "12.0\n"
     ]
    },
    {
     "data": {
      "text/plain": [
       "'12.0'"
      ]
     },
     "execution_count": 7,
     "metadata": {},
     "output_type": "execute_result"
    }
   ],
   "source": [
    "# multiply e by b and store the result in f\n",
    "f = e*d\n",
    "\n",
    "# print the new contents of f\n",
    "print(f)\n",
    "\n",
    "# which data type does f have? \n",
    "float\n",
    "\n",
    "# turn f into a string\n",
    "str(f)"
   ]
  },
  {
   "cell_type": "code",
   "execution_count": 104,
   "metadata": {},
   "outputs": [
    {
     "name": "stdout",
     "output_type": "stream",
     "text": [
      "['strawberry', 'cookie dough', 'oreo']\n"
     ]
    }
   ],
   "source": [
    "# make a list named \"ice_cream\" that contains strings of three ice cream flavors\n",
    "ice_cream = ['strawberry', 'cookie dough', 'oreo']\n",
    "print(ice_cream)"
   ]
  },
  {
   "cell_type": "code",
   "execution_count": 105,
   "metadata": {},
   "outputs": [],
   "source": [
    "# add two more flavors to the ice_cream list\n",
    "ice_cream.extend(['vla', 'cheese cake'])"
   ]
  },
  {
   "cell_type": "code",
   "execution_count": 99,
   "metadata": {},
   "outputs": [
    {
     "name": "stdout",
     "output_type": "stream",
     "text": [
      "oreo\n"
     ]
    }
   ],
   "source": [
    "# print the third flavor in the ice_cream list\n",
    "print(ice_cream[2])"
   ]
  },
  {
   "cell_type": "code",
   "execution_count": 100,
   "metadata": {},
   "outputs": [
    {
     "name": "stdout",
     "output_type": "stream",
     "text": [
      "cheese cake\n"
     ]
    }
   ],
   "source": [
    "# print the last flavor in the ice_cream list\n",
    "print(ice_cream[-1])"
   ]
  },
  {
   "cell_type": "code",
   "execution_count": 106,
   "metadata": {},
   "outputs": [
    {
     "name": "stdout",
     "output_type": "stream",
     "text": [
      "['strawberry', 'cookie dough', 'oreo', 'vla', 'cheese cake']\n",
      "['strawberry', 'oreo', 'vla', 'cheese cake']\n",
      "['strawberry', 'vla', 'cheese cake']\n",
      "['strawberry', 'cheese cake']\n"
     ]
    }
   ],
   "source": [
    "# remove the second ice cream flavor from the list\n",
    "# (there's more than one way to do this - can you find different ways?)\n",
    "print(ice_cream)\n",
    "del(ice_cream[1])\n",
    "print(ice_cream)\n",
    "ice_cream.pop(1)\n",
    "print(ice_cream)\n",
    "index = 1\n",
    "ice_cream = ice_cream[:index] + ice_cream[index+1 :]\n",
    "print(ice_cream)\n"
   ]
  },
  {
   "cell_type": "code",
   "execution_count": 107,
   "metadata": {},
   "outputs": [
    {
     "data": {
      "text/plain": [
       "['cookie dough', 'oreo', 'strawberry']"
      ]
     },
     "execution_count": 107,
     "metadata": {},
     "output_type": "execute_result"
    }
   ],
   "source": [
    "# order the ice cream flavors alphabetically (there's a method for that)\n",
    "ice_cream = ['strawberry', 'cookie dough', 'oreo']\n",
    "sorted(ice_cream)"
   ]
  },
  {
   "cell_type": "code",
   "execution_count": 108,
   "metadata": {},
   "outputs": [
    {
     "name": "stdout",
     "output_type": "stream",
     "text": [
      "['strawberry', 'after eight', 'oreo']\n"
     ]
    }
   ],
   "source": [
    "# replace the second ice cream flavor with a new one\n",
    "ice_cream[1] = 'after eight'\n",
    "print(ice_cream)"
   ]
  },
  {
   "cell_type": "code",
   "execution_count": 113,
   "metadata": {},
   "outputs": [
    {
     "name": "stdout",
     "output_type": "stream",
     "text": [
      "['strawberry', 'AFTER EIGHT', 'oreo']\n"
     ]
    }
   ],
   "source": [
    "# turn the second ice cream flavor into ALL CAPS (again, there's a method for that)\n",
    "ice_cream[1] = ice_cream[1].upper()\n",
    "print(ice_cream)\n"
   ]
  },
  {
   "cell_type": "code",
   "execution_count": 127,
   "metadata": {},
   "outputs": [],
   "source": [
    "# make a dictionary named \"bands\" that contains the names of two bands as keys \n",
    "# and the number of their members as values (e.g., \"the beatles\": 4)\n",
    "band = {'Led Zeppelin':4, 'The Doors':4}\n"
   ]
  },
  {
   "cell_type": "code",
   "execution_count": 129,
   "metadata": {},
   "outputs": [
    {
     "name": "stdout",
     "output_type": "stream",
     "text": [
      "{'Led Zeppelin': 4, 'Pink Floyd': 4, 'The Doors': 4}\n"
     ]
    }
   ],
   "source": [
    "# add one more band to the dictionary\n",
    "band['Pink Floyd'] = 4 # only founding members\n",
    "print(band)"
   ]
  },
  {
   "cell_type": "code",
   "execution_count": 130,
   "metadata": {},
   "outputs": [
    {
     "name": "stdout",
     "output_type": "stream",
     "text": [
      "{'Led Zeppelin': 4, 'Pink Floyd': 4}\n"
     ]
    }
   ],
   "source": [
    "# delete one of the bands from your dictionary\n",
    "del(band['The Doors'])\n",
    "print(band)"
   ]
  },
  {
   "cell_type": "code",
   "execution_count": 133,
   "metadata": {},
   "outputs": [
    {
     "name": "stdout",
     "output_type": "stream",
     "text": [
      "['Led Zeppelin', 'Pink Floyd']\n"
     ]
    }
   ],
   "source": [
    "# find a way to display all the *keys* in your dictionary (there's a method for that)\n",
    "print(band.keys())\n"
   ]
  }
 ],
 "metadata": {
  "anaconda-cloud": {},
  "kernelspec": {
   "display_name": "Python 2",
   "language": "python",
   "name": "python2"
  },
  "language_info": {
   "codemirror_mode": {
    "name": "ipython",
    "version": 2
   },
   "file_extension": ".py",
   "mimetype": "text/x-python",
   "name": "python",
   "nbconvert_exporter": "python",
   "pygments_lexer": "ipython2",
   "version": "2.7.15+"
  }
 },
 "nbformat": 4,
 "nbformat_minor": 1
}
