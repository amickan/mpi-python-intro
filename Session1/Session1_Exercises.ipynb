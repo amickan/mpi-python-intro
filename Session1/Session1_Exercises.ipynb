{
 "cells": [
  {
   "cell_type": "markdown",
   "metadata": {},
   "source": [
    "# Additional Exercises 1\n",
    "\n",
    "In this set of additional exercises, you can practice the new concepts that we've introduced during the class a bit more. If you run into difficulties, you can always head back to the lecture notes, try your luck on stack overflow (some of the exercises actually require you to find things online), or of course send us an email or drop by our offices and ask us in person! :) "
   ]
  },
  {
   "cell_type": "markdown",
   "metadata": {},
   "source": [
    "Before you start, make sure that you're *in your personal branch* and that you've *pulled and merged the latest changes from the remote repository*. You can then modify your personal version of this notebook as you go. When you're done, you can *add, commit and push your local changes* so we can see what you did. "
   ]
  },
  {
   "cell_type": "code",
   "execution_count": 100,
   "metadata": {},
   "outputs": [
    {
     "name": "stdout",
     "output_type": "stream",
     "text": [
      "15\n"
     ]
    }
   ],
   "source": [
    "# store the integer 5 in a variable named a, and the integer 10 in a variable named b\n",
    "a = 5\n",
    "b = 10\n",
    "\n",
    "# add a and b and store the result in c\n",
    "c = a + b\n",
    "\n",
    "# print the contents of c\n",
    "print(c)\n"
   ]
  },
  {
   "cell_type": "code",
   "execution_count": 101,
   "metadata": {},
   "outputs": [
    {
     "name": "stdout",
     "output_type": "stream",
     "text": [
      "5\n"
     ]
    }
   ],
   "source": [
    "# subtract a from b and store the result in c\n",
    "c = b - a\n",
    "\n",
    "# print the new contents of c\n",
    "print(c)\n"
   ]
  },
  {
   "cell_type": "code",
   "execution_count": 102,
   "metadata": {},
   "outputs": [
    {
     "name": "stdout",
     "output_type": "stream",
     "text": [
      "3.0\n"
     ]
    }
   ],
   "source": [
    "# store the float 2.0 in a variable named d, and the float 6.0 in a variable named e\n",
    "d = 2.0\n",
    "e = 6.0\n",
    "\n",
    "# divide e by d and store the result in f\n",
    "f = e / d\n",
    "\n",
    "# print the contents of f\n",
    "print(f)\n"
   ]
  },
  {
   "cell_type": "code",
   "execution_count": 103,
   "metadata": {},
   "outputs": [
    {
     "name": "stdout",
     "output_type": "stream",
     "text": [
      "60.0\n",
      "60.0\n"
     ]
    }
   ],
   "source": [
    "# multiply e by b and store the result in f\n",
    "f = e * b\n",
    "\n",
    "# print the new contents of f\n",
    "print(f)\n",
    "\n",
    "# which data type does f have? \n",
    "#float * integer = float\n",
    "\n",
    "# turn f into a string\n",
    "f_str = str(f)\n",
    "print(f_str)"
   ]
  },
  {
   "cell_type": "code",
   "execution_count": 104,
   "metadata": {},
   "outputs": [
    {
     "name": "stdout",
     "output_type": "stream",
     "text": [
      "['pistachio', 'Chunky Monkey', 'chinsuko']\n"
     ]
    }
   ],
   "source": [
    "# make a list named \"ice_cream\" that contains strings with your three favorite ice cream flavors\n",
    "ice_cream = ['pistachio', 'Chunky Monkey','chinsuko']\n",
    "print(ice_cream)\n"
   ]
  },
  {
   "cell_type": "code",
   "execution_count": 105,
   "metadata": {},
   "outputs": [
    {
     "name": "stdout",
     "output_type": "stream",
     "text": [
      "['pistachio', 'Chunky Monkey', 'chinsuko', 'Neapolitan', 'hokey pokey']\n"
     ]
    }
   ],
   "source": [
    "# add two more flavors to your ice_cream list\n",
    "ice_cream = ice_cream + ['Neapolitan','hokey pokey']\n",
    "print(ice_cream)\n",
    "\n",
    "#ice_cream.append('neapolitan')\n",
    "#ice_cream.append('hokey pokey')\n"
   ]
  },
  {
   "cell_type": "code",
   "execution_count": 106,
   "metadata": {},
   "outputs": [
    {
     "name": "stdout",
     "output_type": "stream",
     "text": [
      "chinsuko\n"
     ]
    }
   ],
   "source": [
    "# print the third flavor in your ice_cream list\n",
    "print(ice_cream[2])\n"
   ]
  },
  {
   "cell_type": "code",
   "execution_count": 107,
   "metadata": {},
   "outputs": [
    {
     "name": "stdout",
     "output_type": "stream",
     "text": [
      "hokey pokey\n"
     ]
    }
   ],
   "source": [
    "# print the last flavor in the ice_cream list\n",
    "print(ice_cream[len(ice_cream)-1])\n"
   ]
  },
  {
   "cell_type": "code",
   "execution_count": 108,
   "metadata": {},
   "outputs": [
    {
     "name": "stdout",
     "output_type": "stream",
     "text": [
      "['pistachio', 'chinsuko', 'Neapolitan', 'hokey pokey']\n"
     ]
    }
   ],
   "source": [
    "# remove the second ice cream flavor from the list\n",
    "# (there's more than one way to do this - can you find different ways?)\n",
    "ice_cream.remove(ice_cream[1])\n",
    "print(ice_cream)\n",
    "\n",
    "#ice_cream.remove('chunky monkey')\n"
   ]
  },
  {
   "cell_type": "code",
   "execution_count": 109,
   "metadata": {},
   "outputs": [
    {
     "name": "stdout",
     "output_type": "stream",
     "text": [
      "['chinsuko', 'hokey pokey', 'Neapolitan', 'pistachio']\n"
     ]
    }
   ],
   "source": [
    "# order the ice cream flavors alphabetically (there's a method for that)\n",
    "ice_cream = sorted(ice_cream, key=str.lower)\n",
    "print(ice_cream)\n"
   ]
  },
  {
   "cell_type": "code",
   "execution_count": 110,
   "metadata": {},
   "outputs": [
    {
     "name": "stdout",
     "output_type": "stream",
     "text": [
      "['chinsuko', 'Shiikwaasa sorbet', 'Neapolitan', 'pistachio']\n"
     ]
    }
   ],
   "source": [
    "# replace the second ice cream flavor with a new one\n",
    "ice_cream[1] = 'Shiikwaasa sorbet'\n",
    "print(ice_cream)\n"
   ]
  },
  {
   "cell_type": "code",
   "execution_count": 111,
   "metadata": {},
   "outputs": [
    {
     "name": "stdout",
     "output_type": "stream",
     "text": [
      "['chinsuko', 'SHIIKWAASA SORBET', 'Neapolitan', 'pistachio']\n"
     ]
    }
   ],
   "source": [
    "# turn the second ice cream flavor into ALL CAPS (again, there's a method for that)\n",
    "ice_cream[1] = str(ice_cream[1]).upper()\n",
    "print(ice_cream)\n"
   ]
  },
  {
   "cell_type": "code",
   "execution_count": 112,
   "metadata": {},
   "outputs": [
    {
     "name": "stdout",
     "output_type": "stream",
     "text": [
      "{'Black Sabbath': 4, 'Dio': 5, 'ZZ Top': 3}\n"
     ]
    }
   ],
   "source": [
    "# make a dictionary named \"bands\" that contains the names of three bands as keys \n",
    "# and the number of their members as values (e.g., \"the beatles\": 4)\n",
    "bands = {'Black Sabbath': 4, 'Dio': 5, 'ZZ Top': 3}\n",
    "print(bands)\n"
   ]
  },
  {
   "cell_type": "code",
   "execution_count": 113,
   "metadata": {},
   "outputs": [
    {
     "name": "stdout",
     "output_type": "stream",
     "text": [
      "{'Black Sabbath': 4, 'Dio': 5, 'ZZ Top': 3, 'Iron Maiden': 5}\n"
     ]
    }
   ],
   "source": [
    "# add one more band to the dictionary\n",
    "bands.update({'Iron Maiden': 5})\n",
    "print(bands)\n"
   ]
  },
  {
   "cell_type": "code",
   "execution_count": 114,
   "metadata": {},
   "outputs": [
    {
     "name": "stdout",
     "output_type": "stream",
     "text": [
      "{'Black Sabbath': 4, 'Dio': 5, 'Iron Maiden': 5}\n"
     ]
    }
   ],
   "source": [
    "# delete one of the bands from your dictionary\n",
    "del bands['ZZ Top']\n",
    "print(bands)\n"
   ]
  },
  {
   "cell_type": "code",
   "execution_count": 115,
   "metadata": {},
   "outputs": [
    {
     "name": "stdout",
     "output_type": "stream",
     "text": [
      "dict_keys(['Black Sabbath', 'Dio', 'Iron Maiden'])\n"
     ]
    }
   ],
   "source": [
    "# find a way to display all the *keys* in your dictionary (there's a method for that)\n",
    "print(bands.keys())\n"
   ]
  },
  {
   "cell_type": "code",
   "execution_count": 116,
   "metadata": {},
   "outputs": [
    {
     "name": "stdout",
     "output_type": "stream",
     "text": [
      "('Star Wars', 'Battle Royale')\n"
     ]
    }
   ],
   "source": [
    "# make a tuple called \"movies\" that contains your favorite movies\n",
    "movies = ('Star Wars', 'Battle Royale')\n",
    "print(movies)\n"
   ]
  },
  {
   "cell_type": "code",
   "execution_count": 117,
   "metadata": {},
   "outputs": [
    {
     "name": "stdout",
     "output_type": "stream",
     "text": [
      "2\n",
      "3\n",
      "4\n"
     ]
    }
   ],
   "source": [
    "# how would you find the number of items in your movies tuple?\n",
    "# does the same method work for dictionaries and lists?\n",
    "print(len(movies))\n",
    "print(len(bands))\n",
    "print(len(ice_cream))\n"
   ]
  },
  {
   "cell_type": "code",
   "execution_count": null,
   "metadata": {},
   "outputs": [],
   "source": []
  }
 ],
 "metadata": {
  "anaconda-cloud": {},
  "kernelspec": {
   "display_name": "Python 3",
   "language": "python",
   "name": "python3"
  },
  "language_info": {
   "codemirror_mode": {
    "name": "ipython",
    "version": 3
   },
   "file_extension": ".py",
   "mimetype": "text/x-python",
   "name": "python",
   "nbconvert_exporter": "python",
   "pygments_lexer": "ipython3",
   "version": "3.6.5"
  }
 },
 "nbformat": 4,
 "nbformat_minor": 1
}
