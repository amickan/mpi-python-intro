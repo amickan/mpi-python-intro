{
 "cells": [
  {
   "cell_type": "markdown",
   "metadata": {},
   "source": [
    "# Additional Exercises 1\n",
    "\n",
    "In this set of additional exercises, you can practice the new concepts that we've introduced during the class a bit more. If you run into difficulties, you can always head back to the lecture notes, try your luck on stack overflow (some of the exercises actually require you to find things online), or of course send us an email or drop by our offices and ask us in person! :) "
   ]
  },
  {
   "cell_type": "markdown",
   "metadata": {},
   "source": [
    "Before you start, make sure that you're *in your personal branch* and that you've *pulled and merged the latest changes from the remote repository*. You can then modify your personal version of this notebook as you go. When you're done, you can *add, commit and push your local changes* so we can see what you did. "
   ]
  },
  {
   "cell_type": "code",
   "execution_count": 1,
   "metadata": {},
   "outputs": [
    {
     "name": "stdout",
     "output_type": "stream",
     "text": [
      "15\n"
     ]
    }
   ],
   "source": [
    "# store the integer 5 in a variable named a, and the integer 10 in a variable named b\n",
    "a = 5\n",
    "b = 10\n",
    "\n",
    "# add a and b and store the result in c\n",
    "c = a + b\n",
    "\n",
    "# print the contents of c\n",
    "print(c)\n"
   ]
  },
  {
   "cell_type": "code",
   "execution_count": 2,
   "metadata": {},
   "outputs": [
    {
     "name": "stdout",
     "output_type": "stream",
     "text": [
      "-5\n"
     ]
    }
   ],
   "source": [
    "# subtract a from b and store the result in c\n",
    "c = a - b\n",
    "\n",
    "# print the new contents of c\n",
    "print(c)\n"
   ]
  },
  {
   "cell_type": "code",
   "execution_count": 3,
   "metadata": {},
   "outputs": [
    {
     "name": "stdout",
     "output_type": "stream",
     "text": [
      "3.0\n"
     ]
    }
   ],
   "source": [
    "# store the float 2.0 in a variable named d, and the float 6.0 in a variable named e\n",
    "d = 2.0\n",
    "e = 6.0\n",
    "\n",
    "# divide e by d and store the result in f\n",
    "f = e/d\n",
    "\n",
    "# print the contents of f\n",
    "print(f)\n"
   ]
  },
  {
   "cell_type": "code",
   "execution_count": 10,
   "metadata": {},
   "outputs": [
    {
     "name": "stdout",
     "output_type": "stream",
     "text": [
      "60.0\n"
     ]
    },
    {
     "data": {
      "text/plain": [
       "str"
      ]
     },
     "execution_count": 10,
     "metadata": {},
     "output_type": "execute_result"
    }
   ],
   "source": [
    "# multiply e by b and store the result in f\n",
    "f = e*b\n",
    "\n",
    "# print the new contents of f\n",
    "print(f)\n",
    "\n",
    "# which data type does f have? \n",
    "type(f) # It's a float\n",
    "\n",
    "# turn f into a string\n",
    "f = str(f)"
   ]
  },
  {
   "cell_type": "code",
   "execution_count": 83,
   "metadata": {},
   "outputs": [
    {
     "data": {
      "text/plain": [
       "list"
      ]
     },
     "execution_count": 83,
     "metadata": {},
     "output_type": "execute_result"
    }
   ],
   "source": [
    "# make a list named \"ice_cream\" that contains strings with your three favorite ice cream flavors\n",
    "ice_cream = ['vanilla', 'chocolate', 'joghurt']\n",
    "type(ice_cream)"
   ]
  },
  {
   "cell_type": "code",
   "execution_count": 43,
   "metadata": {},
   "outputs": [],
   "source": [
    "# add two more flavors to your ice_cream list\n",
    "ice_cream = ice_cream + ['amarena', 'lemon']"
   ]
  },
  {
   "cell_type": "code",
   "execution_count": 50,
   "metadata": {},
   "outputs": [
    {
     "data": {
      "text/plain": [
       "'amarena'"
      ]
     },
     "execution_count": 50,
     "metadata": {},
     "output_type": "execute_result"
    }
   ],
   "source": [
    "# print the third flavor in your ice_cream list\n",
    "ice_cream[2]"
   ]
  },
  {
   "cell_type": "code",
   "execution_count": 51,
   "metadata": {},
   "outputs": [
    {
     "data": {
      "text/plain": [
       "'lemon'"
      ]
     },
     "execution_count": 51,
     "metadata": {},
     "output_type": "execute_result"
    }
   ],
   "source": [
    "# print the last flavor in the ice_cream list\n",
    "ice_cream[-1]"
   ]
  },
  {
   "cell_type": "code",
   "execution_count": 56,
   "metadata": {},
   "outputs": [
    {
     "name": "stdout",
     "output_type": "stream",
     "text": [
      "['vanilla', 'joghurt']\n"
     ]
    }
   ],
   "source": [
    "# remove the second ice cream flavor from the list\n",
    "# (there's more than one way to do this - can you find different ways?)\n",
    "ice_cream.pop(1) # works with the index of the to be deleted item\n",
    "# or \n",
    "ice_cream.remove('chocolate') # matches entries, so needs to exact name of the item to be removed\n",
    "# or\n",
    "del ice_cream[1] # works via indexes"
   ]
  },
  {
   "cell_type": "code",
   "execution_count": 58,
   "metadata": {},
   "outputs": [
    {
     "name": "stdout",
     "output_type": "stream",
     "text": [
      "['joghurt', 'vanilla']\n"
     ]
    }
   ],
   "source": [
    "# order the ice cream flavors alphabetically (there's a method for that)\n",
    "ice_cream.sort()\n",
    "print(ice_cream)"
   ]
  },
  {
   "cell_type": "code",
   "execution_count": 77,
   "metadata": {},
   "outputs": [
    {
     "name": "stdout",
     "output_type": "stream",
     "text": [
      "['vanilla', 'fudge', 'fugde']\n"
     ]
    }
   ],
   "source": [
    "# replace the second ice cream flavor with a new one\n",
    "ice_cream[1] = 'fudge'\n",
    "print(ice_cream)"
   ]
  },
  {
   "cell_type": "code",
   "execution_count": 92,
   "metadata": {},
   "outputs": [
    {
     "name": "stdout",
     "output_type": "stream",
     "text": [
      "['vanilla', 'CHOCOLATE', 'joghurt']\n"
     ]
    }
   ],
   "source": [
    "# turn the second ice cream flavor into ALL CAPS (again, there's a method for that)\n",
    "ice_cream[1] = ice_cream[1].upper()\n",
    "print(ice_cream)"
   ]
  },
  {
   "cell_type": "code",
   "execution_count": 98,
   "metadata": {},
   "outputs": [],
   "source": [
    "# make a dictionary named \"bands\" that contains the names of three bands as keys \n",
    "# and the number of their members as values (e.g., \"the beatles\": 4)\n",
    "bands = {'The Beatles': 4, 'ABBA': 4, 'Rammstein': 6}\n"
   ]
  },
  {
   "cell_type": "code",
   "execution_count": 99,
   "metadata": {},
   "outputs": [
    {
     "name": "stdout",
     "output_type": "stream",
     "text": [
      "{'The Beatles': 4, 'ABBA': 4, 'Rammstein': 6, 'Unknown Mortal Orchestra': 4}\n"
     ]
    }
   ],
   "source": [
    "# add one more band to the dictionary\n",
    "bands['Unknown Mortal Orchestra'] = 4\n",
    "print(bands)"
   ]
  },
  {
   "cell_type": "code",
   "execution_count": 100,
   "metadata": {},
   "outputs": [
    {
     "name": "stdout",
     "output_type": "stream",
     "text": [
      "{'The Beatles': 4, 'Rammstein': 6, 'Unknown Mortal Orchestra': 4}\n"
     ]
    }
   ],
   "source": [
    "# delete one of the bands from your dictionary\n",
    "bands.pop(\"ABBA\")\n",
    "print(bands)"
   ]
  },
  {
   "cell_type": "code",
   "execution_count": 102,
   "metadata": {},
   "outputs": [
    {
     "data": {
      "text/plain": [
       "dict_keys(['The Beatles', 'Rammstein', 'Unknown Mortal Orchestra'])"
      ]
     },
     "execution_count": 102,
     "metadata": {},
     "output_type": "execute_result"
    }
   ],
   "source": [
    "# find a way to display all the *keys* in your dictionary (there's a method for that)\n",
    "bands.keys()\n"
   ]
  },
  {
   "cell_type": "code",
   "execution_count": 105,
   "metadata": {},
   "outputs": [
    {
     "data": {
      "text/plain": [
       "tuple"
      ]
     },
     "execution_count": 105,
     "metadata": {},
     "output_type": "execute_result"
    }
   ],
   "source": [
    "# make a tuple called \"movies\" that contains your favorite movies\n",
    "movies = ('TheGodfather','TheGrandBudapestHotel','Its a Wonderful Life')\n",
    "type(movies)"
   ]
  },
  {
   "cell_type": "code",
   "execution_count": 110,
   "metadata": {},
   "outputs": [
    {
     "data": {
      "text/plain": [
       "3"
      ]
     },
     "execution_count": 110,
     "metadata": {},
     "output_type": "execute_result"
    }
   ],
   "source": [
    "# how would you find the number of items in your movies tuple?\n",
    "len(movies)\n",
    "# does the same method work for dictionaries and lists?\n",
    "# Yes, it should also work for dictionaries and lists"
   ]
  }
 ],
 "metadata": {
  "anaconda-cloud": {},
  "kernelspec": {
   "display_name": "Python 3",
   "language": "python",
   "name": "python3"
  },
  "language_info": {
   "codemirror_mode": {
    "name": "ipython",
    "version": 3
   },
   "file_extension": ".py",
   "mimetype": "text/x-python",
   "name": "python",
   "nbconvert_exporter": "python",
   "pygments_lexer": "ipython3",
   "version": "3.6.5"
  }
 },
 "nbformat": 4,
 "nbformat_minor": 1
}
