{
 "cells": [
  {
   "cell_type": "markdown",
   "metadata": {},
   "source": [
    "# Additional Exercises 1\n",
    "\n",
    "In this set of additional exercises, you can practice the new concepts that we've introduced during the class a bit more. If you run into difficulties, you can always head back to the lecture notes, try your luck on stack overflow (some of the exercises actually require you to find things online), or of course send us an email or drop by our offices and ask us in person! :) "
   ]
  },
  {
   "cell_type": "markdown",
   "metadata": {},
   "source": [
    "Before you start, make sure that you're *in your personal branch* and that you've *pulled and merged the latest changes from the remote repository*. You can then modify your personal version of this notebook as you go. When you're done, you can *add, commit and push your local changes* so we can see what you did. "
   ]
  },
  {
   "cell_type": "code",
   "execution_count": 1,
   "metadata": {},
   "outputs": [
    {
     "name": "stdout",
     "output_type": "stream",
     "text": [
      "15\n"
     ]
    }
   ],
   "source": [
    "# store the integer 5 in a variable named a, and the integer 10 in a variable named b\n",
    "a = 5\n",
    "b = 10\n",
    "\n",
    "# add a and b and store the result in c\n",
    "c = a + b\n",
    "\n",
    "# print the contents of c\n",
    "print(c)\n"
   ]
  },
  {
   "cell_type": "code",
   "execution_count": 2,
   "metadata": {},
   "outputs": [
    {
     "name": "stdout",
     "output_type": "stream",
     "text": [
      "-5\n"
     ]
    }
   ],
   "source": [
    "# subtract a from b and store the result in c\n",
    "c = a - b\n",
    "\n",
    "# print the new contents of c\n",
    "print(c)\n"
   ]
  },
  {
   "cell_type": "code",
   "execution_count": 3,
   "metadata": {},
   "outputs": [
    {
     "name": "stdout",
     "output_type": "stream",
     "text": [
      "3.0\n"
     ]
    }
   ],
   "source": [
    "# store the float 2.0 in a variable named d, and the float 6.0 in a variable named e\n",
    "d = 2.0\n",
    "e = 6.0\n",
    "\n",
    "# divide e by d and store the result in f\n",
    "f = (e/d)\n",
    "\n",
    "# print the contents of f\n",
    "print (f)\n"
   ]
  },
  {
   "cell_type": "code",
   "execution_count": 6,
   "metadata": {},
   "outputs": [
    {
     "name": "stdout",
     "output_type": "stream",
     "text": [
      "60.0\n"
     ]
    }
   ],
   "source": [
    "# multiply e by b and store the result in f\n",
    "f = e * b\n",
    "\n",
    "# print the new contents of f\n",
    "print (f)\n",
    "\n",
    "# which data type does f have? \n",
    "# Float\n",
    "\n",
    "# turn f into a string\n",
    "f = str(f)\n"
   ]
  },
  {
   "cell_type": "code",
   "execution_count": 24,
   "metadata": {},
   "outputs": [],
   "source": [
    "# make a list named \"ice_cream\" that contains strings with your three favorite ice cream flavors\n",
    "ice_cream = ['mint chocolate','lemon','raspberry']\n"
   ]
  },
  {
   "cell_type": "code",
   "execution_count": 25,
   "metadata": {},
   "outputs": [],
   "source": [
    "# add two more flavors to your ice_cream list\n",
    "ice_cream.append('caramel')\n",
    "ice_cream.append('dark chocolate')"
   ]
  },
  {
   "cell_type": "code",
   "execution_count": 26,
   "metadata": {},
   "outputs": [
    {
     "name": "stdout",
     "output_type": "stream",
     "text": [
      "raspberry\n"
     ]
    }
   ],
   "source": [
    "# print the third flavor in your ice_cream list\n",
    "print(ice_cream[2])\n"
   ]
  },
  {
   "cell_type": "code",
   "execution_count": 27,
   "metadata": {},
   "outputs": [
    {
     "name": "stdout",
     "output_type": "stream",
     "text": [
      "dark chocolate\n"
     ]
    }
   ],
   "source": [
    "# print the last flavor in the ice_cream list\n",
    "print(ice_cream[-1])\n"
   ]
  },
  {
   "cell_type": "code",
   "execution_count": 28,
   "metadata": {},
   "outputs": [
    {
     "name": "stdout",
     "output_type": "stream",
     "text": [
      "['mint chocolate', 'raspberry', 'caramel', 'dark chocolate']\n"
     ]
    }
   ],
   "source": [
    "# remove the second ice cream flavor from the list\n",
    "# (there's more than one way to do this - can you find different ways?)\n",
    "ice_cream.remove('lemon')\n",
    "print(ice_cream)\n",
    "\n",
    "\n",
    "## Or:\n",
    "#del ice_cream[1]\n",
    "#print(ice_cream)\n"
   ]
  },
  {
   "cell_type": "code",
   "execution_count": 30,
   "metadata": {},
   "outputs": [
    {
     "name": "stdout",
     "output_type": "stream",
     "text": [
      "['caramel', 'dark chocolate', 'mint chocolate', 'raspberry']\n"
     ]
    }
   ],
   "source": [
    "# order the ice cream flavors alphabetically (there's a method for that)\n",
    "ice_cream.sort()\n",
    "print(ice_cream)\n"
   ]
  },
  {
   "cell_type": "code",
   "execution_count": 32,
   "metadata": {},
   "outputs": [
    {
     "name": "stdout",
     "output_type": "stream",
     "text": [
      "['caramel', 'mango', 'mint chocolate', 'raspberry']\n"
     ]
    }
   ],
   "source": [
    "# replace the second ice cream flavor with a new one\n",
    "ice_cream[1] = 'mango'\n",
    "print(ice_cream)"
   ]
  },
  {
   "cell_type": "code",
   "execution_count": 35,
   "metadata": {},
   "outputs": [
    {
     "name": "stdout",
     "output_type": "stream",
     "text": [
      "['caramel', 'MANGO', 'mint chocolate', 'raspberry']\n"
     ]
    }
   ],
   "source": [
    "# turn the second ice cream flavor into ALL CAPS (again, there's a method for that)\n",
    "ice_cream[1] = str.upper(ice_cream[1])\n",
    "print(ice_cream)\n"
   ]
  },
  {
   "cell_type": "code",
   "execution_count": 46,
   "metadata": {},
   "outputs": [
    {
     "name": "stdout",
     "output_type": "stream",
     "text": [
      "{'queen': 4, 'rodrigo y gabriela': 2, 'daft punk': 2}\n"
     ]
    }
   ],
   "source": [
    "# make a dictionary named \"bands\" that contains the names of three bands as keys \n",
    "# and the number of their members as values (e.g., \"the beatles\": 4)\n",
    "bands = {'queen': 4,'rodrigo y gabriela': 2, 'daft punk': 2}\n",
    "print(bands)\n"
   ]
  },
  {
   "cell_type": "code",
   "execution_count": 47,
   "metadata": {},
   "outputs": [
    {
     "name": "stdout",
     "output_type": "stream",
     "text": [
      "{'queen': 4, 'rodrigo y gabriela': 2, 'daft punk': 2, 'muse': 3}\n"
     ]
    }
   ],
   "source": [
    "# add one more band to the dictionary\n",
    "bands['muse'] = 3\n",
    "print(bands)\n"
   ]
  },
  {
   "cell_type": "code",
   "execution_count": 48,
   "metadata": {},
   "outputs": [
    {
     "name": "stdout",
     "output_type": "stream",
     "text": [
      "{'queen': 4, 'rodrigo y gabriela': 2, 'daft punk': 2}\n"
     ]
    }
   ],
   "source": [
    "# delete one of the bands from your dictionary\n",
    "bands.pop('muse')\n",
    "print(bands)"
   ]
  },
  {
   "cell_type": "code",
   "execution_count": 49,
   "metadata": {},
   "outputs": [
    {
     "data": {
      "text/plain": [
       "dict_keys(['queen', 'rodrigo y gabriela', 'daft punk'])"
      ]
     },
     "execution_count": 49,
     "metadata": {},
     "output_type": "execute_result"
    }
   ],
   "source": [
    "# find a way to display all the *keys* in your dictionary (there's a method for that)\n",
    "bands.keys()\n"
   ]
  },
  {
   "cell_type": "code",
   "execution_count": 50,
   "metadata": {},
   "outputs": [
    {
     "name": "stdout",
     "output_type": "stream",
     "text": [
      "('hot fuzz', 'cinema paradiso', 'hereditary', 'the wind rises')\n"
     ]
    }
   ],
   "source": [
    "# make a tuple called \"movies\" that contains your favorite movies\n",
    "movies = ('hot fuzz','cinema paradiso','hereditary','the wind rises')\n",
    "print(movies)\n"
   ]
  },
  {
   "cell_type": "code",
   "execution_count": 54,
   "metadata": {},
   "outputs": [
    {
     "name": "stdout",
     "output_type": "stream",
     "text": [
      "4\n",
      "3\n",
      "4\n"
     ]
    }
   ],
   "source": [
    "# how would you find the number of items in your movies tuple?\n",
    "# does the same method work for dictionaries and lists?\n",
    "num_movies = len (movies)\n",
    "num_bands = len (bands)\n",
    "num_flavors = len (ice_cream)\n",
    "\n",
    "print(num_movies)\n",
    "print(num_bands)\n",
    "print(num_flavors)\n"
   ]
  }
 ],
 "metadata": {
  "anaconda-cloud": {},
  "kernelspec": {
   "display_name": "Python 3",
   "language": "python",
   "name": "python3"
  },
  "language_info": {
   "codemirror_mode": {
    "name": "ipython",
    "version": 3
   },
   "file_extension": ".py",
   "mimetype": "text/x-python",
   "name": "python",
   "nbconvert_exporter": "python",
   "pygments_lexer": "ipython3",
   "version": "3.7.0"
  }
 },
 "nbformat": 4,
 "nbformat_minor": 1
}
