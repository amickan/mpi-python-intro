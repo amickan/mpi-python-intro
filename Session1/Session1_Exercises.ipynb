{
 "cells": [
  {
   "cell_type": "markdown",
   "metadata": {},
   "source": [
    "# Additional Exercises 1\n",
    "\n",
    "In this set of additional exercises, you can practice the new concepts that we've introduced during the class a bit more. If you run into difficulties, you can always head back to the lecture notes, try your luck on stack overflow (some of the exercises actually require you to find things online), or of course send us an email or drop by our offices and ask us in person! :) "
   ]
  },
  {
   "cell_type": "markdown",
   "metadata": {},
   "source": [
    "Before you start, make sure that you're *in your personal branch* and that you've *pulled and merged the latest changes from the remote repository*. You can then modify your personal version of this notebook as you go. When you're done, you can *add, commit and push your local changes* so we can see what you did. "
   ]
  },
  {
   "cell_type": "code",
   "execution_count": 1,
   "metadata": {},
   "outputs": [
    {
     "name": "stdout",
     "output_type": "stream",
     "text": [
      "15\n"
     ]
    }
   ],
   "source": [
    "# store the integer 5 in a variable named a, and the integer 10 in a variable named b\n",
    "a = 5\n",
    "b = 10\n",
    "# add a and b and store the result in c\n",
    "c = a + b\n",
    "# print the contents of c\n",
    "print(c)"
   ]
  },
  {
   "cell_type": "code",
   "execution_count": 2,
   "metadata": {},
   "outputs": [
    {
     "name": "stdout",
     "output_type": "stream",
     "text": [
      "5\n"
     ]
    }
   ],
   "source": [
    "# subtract a from b and store the result in c\n",
    "c = b-a\n",
    "# print the new contents of c\n",
    "print(c)"
   ]
  },
  {
   "cell_type": "code",
   "execution_count": 3,
   "metadata": {},
   "outputs": [
    {
     "name": "stdout",
     "output_type": "stream",
     "text": [
      "3.0\n"
     ]
    }
   ],
   "source": [
    "# store the float 2.0 in a variable named d, and the float 6.0 in a variable named e\n",
    "d= 2.0\n",
    "e= 6.0\n",
    "# divide e by d and store the result in f\n",
    "f= e/d\n",
    "# print the contents of f\n",
    "print(f)"
   ]
  },
  {
   "cell_type": "code",
   "execution_count": 8,
   "metadata": {},
   "outputs": [
    {
     "name": "stdout",
     "output_type": "stream",
     "text": [
      "60.0\n"
     ]
    }
   ],
   "source": [
    "# multiply e by b and store the result in f\n",
    "f= e*b\n",
    "# print the new contents of f\n",
    "print(f)\n",
    "# which data type does f have? \n",
    "\"float\"\n",
    "# turn f into a string\n",
    "f= str(f)"
   ]
  },
  {
   "cell_type": "code",
   "execution_count": 46,
   "metadata": {},
   "outputs": [
    {
     "name": "stdout",
     "output_type": "stream",
     "text": [
      "['hazelnut', 'pistache', 'walnut']\n"
     ]
    }
   ],
   "source": [
    "# make a list named \"ice_cream\" that contains strings with your three favorite ice cream flavors\n",
    "ice_cream = ['hazelnut', 'pistache', 'walnut']\n",
    "print(ice_cream)"
   ]
  },
  {
   "cell_type": "code",
   "execution_count": 47,
   "metadata": {},
   "outputs": [
    {
     "name": "stdout",
     "output_type": "stream",
     "text": [
      "['hazelnut', 'pistache', 'walnut', 'almond', 'coconut']\n"
     ]
    }
   ],
   "source": [
    "# add two more flavors to your ice_cream list\n",
    "ice_cream.append('almond')\n",
    "ice_cream.append('coconut')\n",
    "print(ice_cream)"
   ]
  },
  {
   "cell_type": "code",
   "execution_count": 48,
   "metadata": {},
   "outputs": [
    {
     "name": "stdout",
     "output_type": "stream",
     "text": [
      "walnut\n"
     ]
    }
   ],
   "source": [
    "# print the third flavor in your ice_cream list\n",
    "print(ice_cream[2])"
   ]
  },
  {
   "cell_type": "code",
   "execution_count": 49,
   "metadata": {},
   "outputs": [
    {
     "name": "stdout",
     "output_type": "stream",
     "text": [
      "coconut\n"
     ]
    }
   ],
   "source": [
    "# print the last flavor in the ice_cream list\n",
    "print(ice_cream[4])"
   ]
  },
  {
   "cell_type": "code",
   "execution_count": 50,
   "metadata": {},
   "outputs": [
    {
     "name": "stdout",
     "output_type": "stream",
     "text": [
      "['hazelnut', 'walnut', 'almond', 'coconut']\n",
      "['hazelnut', 'almond', 'coconut']\n",
      "['hazelnut', 'coconut']\n"
     ]
    }
   ],
   "source": [
    "# remove the second ice cream flavor from the list\n",
    "# (there's more than one way to do this - can you find different ways?)\n",
    "\n",
    "#First try\n",
    "ice_cream.remove('pistache')\n",
    "print(ice_cream)\n",
    "\n",
    "#Second try\n",
    "ice_cream.remove(ice_cream[1])\n",
    "print(ice_cream)\n",
    "\n",
    "#Third try\n",
    "del ice_cream[1]\n",
    "print(ice_cream)"
   ]
  },
  {
   "cell_type": "code",
   "execution_count": 51,
   "metadata": {},
   "outputs": [
    {
     "name": "stdout",
     "output_type": "stream",
     "text": [
      "['coconut', 'hazelnut']\n"
     ]
    }
   ],
   "source": [
    "# order the ice cream flavors alphabetically (there's a method for that)\n",
    "#there are now only two ice creams left\n",
    "ice_cream.sort()\n",
    "print(ice_cream)"
   ]
  },
  {
   "cell_type": "code",
   "execution_count": 52,
   "metadata": {},
   "outputs": [
    {
     "name": "stdout",
     "output_type": "stream",
     "text": [
      "['coconut', 'cashew']\n"
     ]
    }
   ],
   "source": [
    "# replace the second ice cream flavor with a new one\n",
    "ice_cream[1]='cashew'\n",
    "print(ice_cream)"
   ]
  },
  {
   "cell_type": "code",
   "execution_count": 57,
   "metadata": {},
   "outputs": [
    {
     "data": {
      "text/plain": [
       "'CASHEW'"
      ]
     },
     "execution_count": 57,
     "metadata": {},
     "output_type": "execute_result"
    }
   ],
   "source": [
    "# turn the second ice cream flavor into ALL CAPS (again, there's a method for that)\n",
    "ice2 = ice_cream[1] #This is most probably not the right way to do it.. \n",
    "ice2.upper() "
   ]
  },
  {
   "cell_type": "code",
   "execution_count": 63,
   "metadata": {},
   "outputs": [
    {
     "name": "stdout",
     "output_type": "stream",
     "text": [
      "{'ABBA': 4, 'The beach boys': 5, 'Crosby, Stills, Nash & Young': 4}\n"
     ]
    }
   ],
   "source": [
    "# make a dictionary named \"bands\" that contains the names of three bands as keys \n",
    "# and the number of their members as values (e.g., \"the beatles\": 4)\n",
    "bands = {'ABBA': 4, 'The beach boys': 5, 'Crosby, Stills, Nash & Young' : 4}\n",
    "print(bands)"
   ]
  },
  {
   "cell_type": "code",
   "execution_count": 64,
   "metadata": {},
   "outputs": [
    {
     "name": "stdout",
     "output_type": "stream",
     "text": [
      "{'ABBA': 4, 'The beach boys': 5, 'Crosby, Stills, Nash & Young': 4, 'The Doors': 4}\n"
     ]
    }
   ],
   "source": [
    "# add one more band to the dictionary\n",
    "bands['The Doors'] = 4\n",
    "print(bands)"
   ]
  },
  {
   "cell_type": "code",
   "execution_count": 65,
   "metadata": {},
   "outputs": [
    {
     "name": "stdout",
     "output_type": "stream",
     "text": [
      "{'ABBA': 4, 'Crosby, Stills, Nash & Young': 4, 'The Doors': 4}\n"
     ]
    }
   ],
   "source": [
    "# delete one of the bands from your dictionary\n",
    "del bands['The beach boys']\n",
    "print(bands)"
   ]
  },
  {
   "cell_type": "code",
   "execution_count": 66,
   "metadata": {},
   "outputs": [
    {
     "data": {
      "text/plain": [
       "dict_keys(['ABBA', 'Crosby, Stills, Nash & Young', 'The Doors'])"
      ]
     },
     "execution_count": 66,
     "metadata": {},
     "output_type": "execute_result"
    }
   ],
   "source": [
    "# find a way to display all the *keys* in your dictionary (there's a method for that)\n",
    "bands.keys()"
   ]
  },
  {
   "cell_type": "code",
   "execution_count": 68,
   "metadata": {},
   "outputs": [
    {
     "name": "stdout",
     "output_type": "stream",
     "text": [
      "('One day', 'Day one', 'One fine day', 'One week', 'One more time', 'One, two, three')\n"
     ]
    }
   ],
   "source": [
    "# make a tuple called \"movies\" that contains your favorite movies\n",
    "movies = ('One day', 'Day one', 'One fine day', 'One week', 'One more time', 'One, two, three')\n",
    "print(movies)"
   ]
  },
  {
   "cell_type": "code",
   "execution_count": 74,
   "metadata": {},
   "outputs": [
    {
     "data": {
      "text/plain": [
       "2"
      ]
     },
     "execution_count": 74,
     "metadata": {},
     "output_type": "execute_result"
    }
   ],
   "source": [
    "# how would you find the number of items in your movies tuple?\n",
    "# does the same method work for dictionaries and lists?\n",
    "len(movies) #for tuples\n",
    "len(bands) #for dictionaries it works too, apparently\n",
    "len(ice_cream) #and for lists too"
   ]
  }
 ],
 "metadata": {
  "anaconda-cloud": {},
  "kernelspec": {
   "display_name": "Python 3",
   "language": "python",
   "name": "python3"
  },
  "language_info": {
   "codemirror_mode": {
    "name": "ipython",
    "version": 3
   },
   "file_extension": ".py",
   "mimetype": "text/x-python",
   "name": "python",
   "nbconvert_exporter": "python",
   "pygments_lexer": "ipython3",
   "version": "3.6.5"
  }
 },
 "nbformat": 4,
 "nbformat_minor": 1
}
