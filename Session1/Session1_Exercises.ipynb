{
 "cells": [
  {
   "cell_type": "markdown",
   "metadata": {},
   "source": [
    "# Additional Exercises 1\n",
    "\n",
    "In this set of additional exercises, you can practice the new concepts that we've introduced during the class a bit more. If you run into difficulties, you can always head back to the lecture notes, try your luck on stack overflow (some of the exercises actually require you to find things online), or of course send us an email or drop by our offices and ask us in person! :) "
   ]
  },
  {
   "cell_type": "markdown",
   "metadata": {},
   "source": [
    "Before you start, make sure that you're *in your personal branch* and that you've *pulled and merged the latest changes from the remote repository*. You can then modify your personal version of this notebook as you go. When you're done, you can *add, commit and push your local changes* so we can see what you did. "
   ]
  },
  {
   "cell_type": "code",
   "execution_count": 1,
   "metadata": {},
   "outputs": [
    {
     "name": "stdout",
     "output_type": "stream",
     "text": [
      "15\n"
     ]
    }
   ],
   "source": [
    "# store the integer 5 in a variable named a, and the integer 10 in a variable named b\n",
    "a = 5\n",
    "b = 10\n",
    "\n",
    "# add a and b and store the result in c\n",
    "c = a+b\n",
    "\n",
    "# print the contents of c\n",
    "print(c)"
   ]
  },
  {
   "cell_type": "code",
   "execution_count": 2,
   "metadata": {},
   "outputs": [
    {
     "name": "stdout",
     "output_type": "stream",
     "text": [
      "5\n"
     ]
    }
   ],
   "source": [
    "# subtract a from b and store the result in c\n",
    "c=b-a\n",
    "\n",
    "# print the new contents of c\n",
    "print(c)\n"
   ]
  },
  {
   "cell_type": "code",
   "execution_count": 3,
   "metadata": {},
   "outputs": [
    {
     "name": "stdout",
     "output_type": "stream",
     "text": [
      "3.0\n"
     ]
    }
   ],
   "source": [
    "# store the float 2.0 in a variable named d, and the float 6.0 in a variable named e\n",
    "d = 2.0\n",
    "e = 6.0\n",
    "\n",
    "# divide e by d and store the result in f\n",
    "f = e/d\n",
    "\n",
    "# print the contents of f\n",
    "print(f)\n"
   ]
  },
  {
   "cell_type": "code",
   "execution_count": 5,
   "metadata": {},
   "outputs": [
    {
     "name": "stdout",
     "output_type": "stream",
     "text": [
      "60.0\n",
      "<class 'float'>\n",
      "sixty\n"
     ]
    }
   ],
   "source": [
    "# multiply e by b and store the result in f\n",
    "f = e*b\n",
    "\n",
    "# print the new contents of f\n",
    "print(f)\n",
    "\n",
    "# which data type does f have? \n",
    "t = type(f)\n",
    "print(t)\n",
    "\n",
    "# turn f into a string\n",
    "f = 'sixty'\n",
    "print(f)\n"
   ]
  },
  {
   "cell_type": "code",
   "execution_count": 6,
   "metadata": {},
   "outputs": [
    {
     "name": "stdout",
     "output_type": "stream",
     "text": [
      "['vanilla', 'chocolate', 'strawberry']\n"
     ]
    }
   ],
   "source": [
    "# make a list named \"ice_cream\" that contains strings with your three favorite ice cream flavors\n",
    "ice_cream = ['vanilla','chocolate','strawberry']\n",
    "print(ice_cream)\n"
   ]
  },
  {
   "cell_type": "code",
   "execution_count": 8,
   "metadata": {},
   "outputs": [
    {
     "name": "stdout",
     "output_type": "stream",
     "text": [
      "['vanilla', 'chocolate', 'strawberry', 'butterscotch', 'mango']\n"
     ]
    }
   ],
   "source": [
    "# add two more flavors to your ice_cream list\n",
    "ice_cream.append('butterscotch')\n",
    "ice_cream.append('mango')\n",
    "print(ice_cream)\n"
   ]
  },
  {
   "cell_type": "code",
   "execution_count": 9,
   "metadata": {},
   "outputs": [
    {
     "name": "stdout",
     "output_type": "stream",
     "text": [
      "strawberry\n"
     ]
    }
   ],
   "source": [
    "# print the third flavor in your ice_cream list\n",
    "print(ice_cream[2])\n"
   ]
  },
  {
   "cell_type": "code",
   "execution_count": 29,
   "metadata": {},
   "outputs": [
    {
     "name": "stdout",
     "output_type": "stream",
     "text": [
      "chocolate\n",
      "['vanilla', 'strawberry', 'strawberry', 'strawberry', 'strawberry', 'strawberry', 'strawberry', 'mango', 'chocolate', 'chocolate', 'chocolate', 'chocolate', 'chocolate']\n",
      "['vanilla', 'strawberry', 'strawberry', 'strawberry', 'strawberry', 'strawberry', 'strawberry', 'mango', 'chocolate', 'chocolate', 'chocolate', 'chocolate', 'chocolate']\n"
     ]
    }
   ],
   "source": [
    "# print the last flavor in the ice_cream list\n",
    "#in this case last is easy to find so,simply use the number\n",
    "print(ice_cream[4])\n",
    "#other possible wya, using stackoverflow help to point out last index\n",
    "print(ice_cream[::-1])#prints the whole list instead in reverse order\n",
    "print(ice_cream[::-1])\n",
    "\n"
   ]
  },
  {
   "cell_type": "code",
   "execution_count": 33,
   "metadata": {},
   "outputs": [
    {
     "name": "stdout",
     "output_type": "stream",
     "text": [
      "['chocolate', 'chocolate', 'chocolate', 'mango', 'strawberry', 'strawberry', 'strawberry', 'strawberry', 'strawberry', 'strawberry', 'vanilla']\n",
      "['chocolate', 'chocolate', 'mango', 'strawberry', 'strawberry', 'strawberry', 'strawberry', 'strawberry', 'strawberry', 'vanilla']\n"
     ]
    }
   ],
   "source": [
    "# remove the second ice cream flavor from the list\n",
    "# (there's more than one way to do this - can you find different ways?)\n",
    "ice_cream.remove(ice_cream[1])#other way is to just name the item itself???\n",
    "print(ice_cream)\n",
    "ice_cream.remove(ice_cream[0])\n",
    "print(ice_cream)\n",
    "\n",
    "\n"
   ]
  },
  {
   "cell_type": "code",
   "execution_count": 34,
   "metadata": {},
   "outputs": [
    {
     "name": "stdout",
     "output_type": "stream",
     "text": [
      "['chocolate', 'chocolate', 'mango', 'strawberry', 'strawberry', 'strawberry', 'strawberry', 'strawberry', 'strawberry', 'vanilla']\n"
     ]
    }
   ],
   "source": [
    "# order the ice cream flavors alphabetically (there's a method for that)\n",
    "ice_cream.sort()\n",
    "print(ice_cream)\n"
   ]
  },
  {
   "cell_type": "code",
   "execution_count": 36,
   "metadata": {},
   "outputs": [
    {
     "name": "stdout",
     "output_type": "stream",
     "text": [
      "pistachio\n"
     ]
    }
   ],
   "source": [
    "# replace the second ice cream flavor with a new one\n",
    "ice_cream = ice_cream[0].replace('chocolate','pistachio')\n",
    "print(ice_cream)\n",
    "#rest of the list does not appear\n"
   ]
  },
  {
   "cell_type": "code",
   "execution_count": null,
   "metadata": {
    "collapsed": true
   },
   "outputs": [],
   "source": [
    "# turn the second ice cream flavor into ALL CAPS (again, there's a method for that)\n",
    "\n"
   ]
  },
  {
   "cell_type": "code",
   "execution_count": null,
   "metadata": {
    "collapsed": true
   },
   "outputs": [],
   "source": [
    "# make a dictionary named \"bands\" that contains the names of three bands as keys \n",
    "# and the number of their members as values (e.g., \"the beatles\": 4)\n",
    "\n"
   ]
  },
  {
   "cell_type": "code",
   "execution_count": null,
   "metadata": {
    "collapsed": true
   },
   "outputs": [],
   "source": [
    "# add one more band to the dictionary\n",
    "\n"
   ]
  },
  {
   "cell_type": "code",
   "execution_count": null,
   "metadata": {
    "collapsed": true
   },
   "outputs": [],
   "source": [
    "# delete one of the bands from your dictionary\n",
    "\n"
   ]
  },
  {
   "cell_type": "code",
   "execution_count": null,
   "metadata": {
    "collapsed": true
   },
   "outputs": [],
   "source": [
    "# find a way to display all the *keys* in your dictionary (there's a method for that)\n",
    "\n"
   ]
  },
  {
   "cell_type": "code",
   "execution_count": null,
   "metadata": {
    "collapsed": true
   },
   "outputs": [],
   "source": [
    "# make a tuple called \"movies\" that contains your favorite movies\n",
    "\n"
   ]
  },
  {
   "cell_type": "code",
   "execution_count": null,
   "metadata": {
    "collapsed": true
   },
   "outputs": [],
   "source": [
    "# how would you find the number of items in your movies tuple?\n",
    "# does the same method work for dictionaries and lists?\n",
    "\n"
   ]
  }
 ],
 "metadata": {
  "anaconda-cloud": {},
  "kernelspec": {
   "display_name": "Python 3",
   "language": "python",
   "name": "python3"
  },
  "language_info": {
   "codemirror_mode": {
    "name": "ipython",
    "version": 3
   },
   "file_extension": ".py",
   "mimetype": "text/x-python",
   "name": "python",
   "nbconvert_exporter": "python",
   "pygments_lexer": "ipython3",
   "version": "3.6.5"
  }
 },
 "nbformat": 4,
 "nbformat_minor": 1
}
