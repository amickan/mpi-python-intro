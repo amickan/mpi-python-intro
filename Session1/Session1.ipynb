{
 "cells": [
  {
   "cell_type": "markdown",
   "metadata": {
    "collapsed": true
   },
   "source": [
    "# Session 1: Intro to Computers / Intro to Python\n",
    "\n",
    "In this session we'll start with the basics of computing and then work up to the basics of Python. We'll use practical examples where possible, ending in a assignment for you to work on at home (or at work, we don't care).\n",
    "\n",
    "When we say basics, we mean absolute basics. This means some of you will likely know a lot of this already. Bear with us, it's useful for those of you that are beginners and for the rest it will get better later."
   ]
  },
  {
   "cell_type": "markdown",
   "metadata": {
    "collapsed": true
   },
   "source": [
    "## 1. What's (in) a computer?\n",
    "### 1.1 Basic building blocks\n",
    "A lot of what's in a computer is storage. This storage takes the form of little switches (_transistors_) that can be turned either on or off.\n",
    "Information stored as a sequence of switches is in _binary_ form. We usually represent binary as a sequence of ones and zeroes. Using different methods of translating (_encoding_) information to binary, we can represent all kinds of data. For instance, the number 6 can be represented as 110 (1 x 4 + 1 x 2 + 0 x 1) but we can also encode text or images. When you read about things like _utf-8_ encoding or _jpeg_ and _gif_, these refer to methods of encoding and storing complex data as ones and zeroes."
   ]
  },
  {
   "cell_type": "markdown",
   "metadata": {},
   "source": [
    "### 1.2 Different kinds of memory\n",
    "Disk vs. RAM vs. CPU Cache"
   ]
  },
  {
   "cell_type": "markdown",
   "metadata": {},
   "source": [
    "### 1.3 Programming languages\n",
    "Programming languages vs. machine code  \n",
    "Abstraction  \n",
    "Compiled vs. interpreted"
   ]
  },
  {
   "cell_type": "markdown",
   "metadata": {},
   "source": [
    "# Python"
   ]
  },
  {
   "cell_type": "markdown",
   "metadata": {},
   "source": [
    "## ?. Comments\n",
    "In programming, it is good practice to add comments to your code explaining what certain blocks of code do (and sometimes to warn that changing a code block can have unexpected effects) so whoever might read your code after you can figure out what's going on (often this will be your future self, trying to figure out what you wrote two years ago).  \n",
    "\n",
    "Comments in Python can be added on a separate line by starting the line with a hash and a space: `# this is a comment`  \n",
    "You can also add a comment at the end of a line by adding two spaces and a hash: `a = 0  # this is an EOL comment`  \n",
    "If you want to add an entire multiline block of text you can add three single or double quotes at the beginning and end of it: `'''blablabla'''`  \n",
    "Comments are ignored by the Python interpreter, so they do not \"do\" anything except document your work."
   ]
  },
  {
   "cell_type": "markdown",
   "metadata": {},
   "source": [
    "## ?. Variables\n",
    "Virtually all programming languages have variables, so most of you will be familiar with the concept. A variable is a name attached to a value, a container with some data in it. This container is actually a bit of space reserved in your computer's memory. It's worth keeping in mind that a variable is just a name pointing to the address of a container, because it explains some weird behavior we will see later.  \n",
    "Python is quite flexible when it comes to variables, in that it treats pretty much everything as a variable and you can store everything in variables as well."
   ]
  },
  {
   "cell_type": "markdown",
   "metadata": {},
   "source": [
    "## ?. Data types\n",
    "As in other programming languages, a Python variable can hold different kinds of data. The specific types of data in Python are a little different than they are in R or Matlab, so we're going to go through the most important types.\n",
    "\n",
    "### ?.1 int\n",
    "The most basic thing to store in bits is numbers (this is what computers were originally created for) and Python of course lets you do this as well. The basic data type for numbers is the _integer_, known as `int` in Python. An integer is any whole number, either positive or negative.  \n",
    "Integers can be used for basic math using simple operators built into Python. For more complicated math you have to import the `math` module (which we will cover later)."
   ]
  },
  {
   "cell_type": "code",
   "execution_count": 7,
   "metadata": {},
   "outputs": [
    {
     "name": "stdout",
     "output_type": "stream",
     "text": [
      "-1\n"
     ]
    }
   ],
   "source": [
    "# store the value 3 in a variable named a, and the value 4 in a variable named b\n",
    "a = 3\n",
    "b = -4\n",
    "# add a and b together and store the result in c\n",
    "c = a + b\n",
    "# and print the contents of c\n",
    "print(c)"
   ]
  },
  {
   "cell_type": "markdown",
   "metadata": {},
   "source": [
    "### ?.2 bool\n",
    "A _boolean_ is arguably an even more basic data type than an integer because it can only have the values `True` or `False`. In Python, the shorthand for booleans is `bool`."
   ]
  },
  {
   "cell_type": "code",
   "execution_count": 8,
   "metadata": {},
   "outputs": [
    {
     "name": "stdout",
     "output_type": "stream",
     "text": [
      "True\n"
     ]
    }
   ],
   "source": [
    "# store the value True in a\n",
    "d = True\n",
    "print(d)"
   ]
  },
  {
   "cell_type": "markdown",
   "metadata": {},
   "source": [
    "Python recognizes that the values `1` and `0` correspond with `True` and `False`, respectively. This means that you can convert back and forth between these types."
   ]
  },
  {
   "cell_type": "code",
   "execution_count": 11,
   "metadata": {},
   "outputs": [
    {
     "name": "stdout",
     "output_type": "stream",
     "text": [
      "False\n"
     ]
    }
   ],
   "source": [
    "# store the value 0 in a\n",
    "e = 0\n",
    "# convert a to boolean and store in b\n",
    "f = bool(e)\n",
    "print(f)"
   ]
  },
  {
   "cell_type": "code",
   "execution_count": 12,
   "metadata": {},
   "outputs": [
    {
     "name": "stdout",
     "output_type": "stream",
     "text": [
      "0\n"
     ]
    }
   ],
   "source": [
    "# and convert back from bool to int, but this time we just overwrite f\n",
    "f = int(f)\n",
    "print(f)"
   ]
  },
  {
   "cell_type": "markdown",
   "metadata": {},
   "source": [
    "What we did in the last bit of code, assigning to `f` a modified version of the value of `f`, is a very common thing to do in programming. Often it makes sense, such as when you are incrementing a count you are keeping of something: `counter = counter + 1`. This is so common Python even has a shorthand for it: `counter += 1`.  \n",
    "Other times, however, it can be confusing to reuse a variable name, especially if you're changing the contents considerably (by changing the data type, for instance). Try to use informative variable names, even if that means they end up being a little longer.  \n",
    "Python convention is also to use lowercase variable names, and to use underscores. So `variable_name` instead of `VariableName` or `VARNAME`."
   ]
  },
  {
   "cell_type": "markdown",
   "metadata": {},
   "source": [
    "### ?.3 float\n",
    "When working with real data, numbers are seldom actually whole integer values. This is where _floating point numbers_ come in. Python knows these as `float` and they work much the same as integers except they have a decimal point."
   ]
  },
  {
   "cell_type": "code",
   "execution_count": 14,
   "metadata": {},
   "outputs": [
    {
     "name": "stdout",
     "output_type": "stream",
     "text": [
      "1.5\n"
     ]
    }
   ],
   "source": [
    "# divide 3.0 by 2.0 and store in g\n",
    "g = 3.0 / 2.0\n",
    "print(g)"
   ]
  },
  {
   "cell_type": "markdown",
   "metadata": {},
   "source": [
    "You can convert integers to floats and vice versa, but be careful doing this, because it does not always have the effect you might expect."
   ]
  },
  {
   "cell_type": "code",
   "execution_count": 17,
   "metadata": {},
   "outputs": [
    {
     "name": "stdout",
     "output_type": "stream",
     "text": [
      "1\n"
     ]
    }
   ],
   "source": [
    "# convert g to int and store in g\n",
    "# WARNING: this will not round g, but instead truncate g to the value before the decimal point\n",
    "g = int(g)\n",
    "print(g)"
   ]
  },
  {
   "cell_type": "markdown",
   "metadata": {},
   "source": [
    "### ?.4 str\n",
    "Python also has a _string_ data type called `str` for holding text. Strings are demarcated in Python by placing them between either single or double quotes. Single quotes are most commonly used, but it's your choice. Do keep in mind that if you start a string with double quotes, you have to end it wit double quotes too, otherwise the Python interpreter gets confused."
   ]
  },
  {
   "cell_type": "code",
   "execution_count": 19,
   "metadata": {},
   "outputs": [
    {
     "name": "stdout",
     "output_type": "stream",
     "text": [
      "burger\n"
     ]
    }
   ],
   "source": [
    "# store a word in h\n",
    "h = 'burger'\n",
    "print(h)"
   ]
  },
  {
   "cell_type": "markdown",
   "metadata": {},
   "source": [
    "For convenience, you can put strings together using the `+` operator."
   ]
  },
  {
   "cell_type": "code",
   "execution_count": 20,
   "metadata": {},
   "outputs": [
    {
     "name": "stdout",
     "output_type": "stream",
     "text": [
      "cheeseburger\n"
     ]
    }
   ],
   "source": [
    "# concatenate strings to create something edible\n",
    "h = 'cheese' + h\n",
    "print(h)"
   ]
  },
  {
   "cell_type": "markdown",
   "metadata": {},
   "source": [
    "In Python, everything is an object. What that means exactly will become clear later, but for now it's enough to realize that every data type has associated _methods_, functions that perform useful operations on data of a particular type.  \n",
    "The `str` type for instance has a `replace` method to search and replace part of the string. We access methods by typing the variable name, followed by a period and the method name, followed by the _arguments_ of the method between parentheses:  \n",
    "`variable_name.replace('thing to look for', 'thing to replace with')`"
   ]
  },
  {
   "cell_type": "code",
   "execution_count": 21,
   "metadata": {},
   "outputs": [
    {
     "name": "stdout",
     "output_type": "stream",
     "text": [
      "soyburger\n"
     ]
    }
   ],
   "source": [
    "# let's use str.replace() to go vegetarian\n",
    "h = h.replace('cheese', 'soy')\n",
    "print(h)"
   ]
  },
  {
   "cell_type": "markdown",
   "metadata": {},
   "source": [
    "If you want to add bits of strings together to form a sentence, adding them using the `+` operator can get a bit tedious, especially if there are numbers involved."
   ]
  },
  {
   "cell_type": "code",
   "execution_count": 22,
   "metadata": {},
   "outputs": [
    {
     "ename": "TypeError",
     "evalue": "unsupported operand type(s) for +: 'int' and 'str'",
     "output_type": "error",
     "traceback": [
      "\u001b[0;31m---------------------------------------------------------------------------\u001b[0m",
      "\u001b[0;31mTypeError\u001b[0m                                 Traceback (most recent call last)",
      "\u001b[0;32m<ipython-input-22-dbb793a6c27c>\u001b[0m in \u001b[0;36m<module>\u001b[0;34m()\u001b[0m\n\u001b[1;32m      2\u001b[0m \u001b[0mi\u001b[0m \u001b[0;34m=\u001b[0m \u001b[0;36m4\u001b[0m\u001b[0;34m\u001b[0m\u001b[0m\n\u001b[1;32m      3\u001b[0m \u001b[0mj\u001b[0m \u001b[0;34m=\u001b[0m \u001b[0;34m'pm'\u001b[0m\u001b[0;34m\u001b[0m\u001b[0m\n\u001b[0;32m----> 4\u001b[0;31m \u001b[0mprint\u001b[0m\u001b[0;34m(\u001b[0m\u001b[0mi\u001b[0m \u001b[0;34m+\u001b[0m \u001b[0mj\u001b[0m\u001b[0;34m)\u001b[0m\u001b[0;34m\u001b[0m\u001b[0m\n\u001b[0m",
      "\u001b[0;31mTypeError\u001b[0m: unsupported operand type(s) for +: 'int' and 'str'"
     ]
    }
   ],
   "source": [
    "# let's try concatenating a str and an int\n",
    "i = 4\n",
    "j = 'pm'\n",
    "print(i + j)"
   ]
  },
  {
   "cell_type": "markdown",
   "metadata": {},
   "source": [
    "Oh good, that created our first error!  \n",
    "This is where Python really has other programming languages beat, though: The error message does a pretty good job of telling us what went wrong, and where it happened.  \n",
    "\n",
    "`TypeError                                 Traceback (most recent call last)`  \n",
    "tells us the sort of error we made, a _TypeError_ (that tells us something went wrong with data types) and starts the _Traceback_, a hierarchical list of lines of code that led to the error.  \n",
    "\n",
    "`<ipython-input-22-dbb793a6c27c> in <module>()`   \n",
    "tells us the bit below comes from the file `module`. In our case that is just the notebook we're in right now, but in the case of more complicated programs with multiple files, it can be helpful for tracking where an error originated.  \n",
    "\n",
    "`----> 4 print(i + j)`  \n",
    "points to the actual origin of the error, but the line below it is the most informative.  \n",
    "\n",
    "`TypeError: unsupported operand type(s) for +: 'int' and 'str'`  \n",
    "tells us that using the operand `+`  for adding together an `int` and a `str` is not supported. Makes sense when you think about it, because for numbers, the `+` adds them up, while for strings it just concatenates them, the Python interpreter doesn't know which operation to perform here.\n",
    "\n",
    "One way to solve our error would be to transform the `int` to a string by using `str()` on it so the interpreter can concatenate two strings. Another, more elegant option is to use _f-strings_ or formatting strings. This is a way to simplify text formatting by creating a template string that variables are entered into."
   ]
  },
  {
   "cell_type": "code",
   "execution_count": 23,
   "metadata": {},
   "outputs": [
    {
     "name": "stdout",
     "output_type": "stream",
     "text": [
      "the time is 4 pm\n"
     ]
    }
   ],
   "source": [
    "# let's print the time using an f-string\n",
    "k = f'the time is {i} {j}'\n",
    "print(k)"
   ]
  },
  {
   "cell_type": "markdown",
   "metadata": {},
   "source": [
    "As you can see, an f-string is created by putting an f before the first single quote. You can then add objects into the string between curly brackets `{variable_name}` and Python will fill them in for you. Non-string data types get converted to strings, but you can do other stuff like adding number together inside the brackets as well, the interpreter will simply run the code and replace the brackets with the result."
   ]
  },
  {
   "cell_type": "markdown",
   "metadata": {},
   "source": [
    "__Practical tip:__ Remember the bit about encoding complex data as ones and zeroes? Strings in Python are encoded as unicode by default, meaning that even special characters like § and ç are encoded correctly. (In some other programming languages string encoding is a mess, so it's good to be mindful of special characters.)\n",
    "When reading or writing text to files, Python 3 uses utf-8 by default. Utf-8 is widely supported, so usually this is fine. If you're reading text from a file and some characters look weird, the file might be encoded as ascii or cp-1252 (so reloading the text with the proper encoding specified might fix it)."
   ]
  },
  {
   "cell_type": "markdown",
   "metadata": {},
   "source": [
    "### ?.5 tuple"
   ]
  },
  {
   "cell_type": "markdown",
   "metadata": {},
   "source": [
    "### ?.6 list"
   ]
  },
  {
   "cell_type": "markdown",
   "metadata": {},
   "source": [
    "### ?.7 dict"
   ]
  },
  {
   "cell_type": "markdown",
   "metadata": {},
   "source": [
    "### ?.8 set"
   ]
  }
 ],
 "metadata": {
  "kernelspec": {
   "display_name": "Python 3",
   "language": "python",
   "name": "python3"
  },
  "language_info": {
   "codemirror_mode": {
    "name": "ipython",
    "version": 3
   },
   "file_extension": ".py",
   "mimetype": "text/x-python",
   "name": "python",
   "nbconvert_exporter": "python",
   "pygments_lexer": "ipython3",
   "version": "3.6.5"
  }
 },
 "nbformat": 4,
 "nbformat_minor": 1
}
