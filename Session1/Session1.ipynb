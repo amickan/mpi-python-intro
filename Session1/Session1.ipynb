{
 "cells": [
  {
   "cell_type": "markdown",
   "metadata": {
    "collapsed": true
   },
   "source": [
    "# Session 1: Intro to Computers / Intro to Python\n",
    "In this session we'll start with the basics of computing and then work up to the basics of Python. We'll use practical examples where possible, ending in a assignment for you to work on at home (or at work, we don't care).\n",
    "\n",
    "When we say basics, we mean absolute basics. This means some of you will likely know a lot of this already. Bear with us, it's useful for those of you that are beginners and for the rest it will get better later."
   ]
  },
  {
   "cell_type": "markdown",
   "metadata": {},
   "source": [
    "## 0. Before we get started\n",
    "To get this notebook on your computer, you're going to use git again.  \n",
    "1. Open a command/Terminal prompt and use `cd` to navigate to the folder you've got last week's session stored in.\n",
    "2. Now we're going to `pull` the updated repository from the `origin` (github.com) and `merge` it with your local, personal branch of the code."
   ]
  },
  {
   "cell_type": "markdown",
   "metadata": {
    "collapsed": true
   },
   "source": [
    "## 1. What's (in) a computer?\n",
    "### 1.0 Basic building blocks\n",
    "A lot of what's in a computer is storage. This storage takes the form of little switches (_transistors_) that can be turned either on or off.\n",
    "Information stored as a sequence of switches is in _binary_ form. We usually represent binary as a sequence of ones and zeroes. Using different methods of translating (_encoding_) information to binary, we can represent all kinds of data. For instance, the number 6 can be represented as 110 (1 x 4 + 1 x 2 + 0 x 1) but we can also encode text or images. When you read about things like _utf-8_ encoding or _jpeg_ and _gif_, these refer to methods of encoding and storing complex data as ones and zeroes."
   ]
  },
  {
   "cell_type": "markdown",
   "metadata": {},
   "source": [
    "### 1.1 Different kinds of memory\n",
    "When you save a file, the data in the file is converted to bits and stored on your computer's _hard disk_. This is memory that is _persistent_, meaning it stays preserved when you shut down your computer. This is very convenient for long term storage of data, but reading from and writing to (the input/output or _I/O_) the hard disk is quite slow.  \n",
    "\n",
    "For faster manipulation of data in memory, your computer has Random Access Memory or _RAM_. RAM is not persistent but _volatile_, meaning that the contents are lost when you shut down your computer. When we talk about memory in programming, this is usually what we are referring to.  \n",
    "When you think of variables in programming, these are stored in RAM. Reading a file to use the data inside it for instance, stores those data in RAM. To preserve the computations we've executed we generally write our data structures to a file on the disk.  \n",
    "\n",
    "A third type of memory that computers use is the _CPU cache_. The CPU is the Central Processing Unit, also known as the _processor_ of your computer, the part that does all the actual work of adding up and subtracting ones and zeroes. To have extremely rapid access to the data it is working on, the CPU has a very small memory buffer directly on the chip.  \n",
    "This cache is so small that most of the time, the data we're working on don't even fit in the cache. When programming in Python, managing what is sent to the cache and what is copied back to RAM is handled for you so you usually don't have to worry about it."
   ]
  },
  {
   "cell_type": "markdown",
   "metadata": {},
   "source": [
    "### 1.2 Programming languages\n",
    "As mentioned above, when you are programming in Python, some things are handled for you behind the scenes. Actually, __a lot__ is handled for you behind the scenes, considering that all this code and data is really ones and zeroes, deep down.  \n",
    "You can think of the processor as a huge grid of tiny switches. To execute a computation, we set the switches to a certain position and run our data through them in binary form. The instructions to tell the processor what bits to switch, exactly, are written in a language called machine code.  \n",
    "Thinking about the low level machine code that controls the individual bits is way too complex and time-consuming for us to bother with, which is why as soon as computers were developed, people started working on programming languages that simplify telling the processor what to do.  \n",
    "\n",
    "Python is a modern version of such a language. It has high level commands for doing things like addition and subtraction, but also for sorting and searching, things that would be hugely time-consuming to tell the processor to do in machine code. To translate these high level commands to low level machine code instructions, Python comes with an _interpreter_, the program that actually executes your code.  \n",
    "Not all languages are _interpreted_, some, like C and C++, are _compiled_. A compiled language is turned into machine code all in one go, often with checking for programming errors beforehand. This allows the _compiler_ program to optimize the code and while this takes time, the resulting code often runs very quickly.  \n",
    "Python (and R) is a little different in that your code is read and interpreted into machine code virtually line by line. The downside is that you get little to no error checking beforehand and somewhat slower speeds. The benefit is that you can have an interactive session like the one in this notebook, where you can play with code on the fly.\n",
    "\n",
    "As with translations in real life, it's not always straightforward to translate between high-level Python code and low-level machine code. Often, the methods Python offers represent an _abstraction_ of the actual operations executed behind the scenes. Sometimes, these abstractions don't work perfectly and it becomes necessary to look into what's happening behind the scenes. When this happens we say the abstraction is _leaky_.  \n",
    "One example would be that when you are working with large arrays of data that do not fit into the processor cache, a program can become very slow. You normally don't have to worry about transferring data between RAM and CPU cache in Python (it's automatic) but in this case cutting your arrays into more managably sized can help."
   ]
  },
  {
   "cell_type": "markdown",
   "metadata": {},
   "source": [
    "# Intro to Python"
   ]
  },
  {
   "cell_type": "markdown",
   "metadata": {},
   "source": [
    "## ?. Comments\n",
    "In programming, it is good practice to add comments to your code explaining what certain blocks of code do (and sometimes to warn that changing a code block can have unexpected effects) so whoever might read your code after you can figure out what's going on (often this will be your future self, trying to figure out what you wrote two years ago).  \n",
    "\n",
    "Comments in Python can be added on a separate line by starting the line with a hash and a space: `# this is a comment`  \n",
    "You can also add a comment at the end of a line by adding two spaces and a hash: `a = 0  # this is an EOL comment`  \n",
    "If you want to add an entire multiline block of text you can add three single or double quotes at the beginning and end of it: `'''blablabla'''`  \n",
    "Comments are ignored by the Python interpreter, so they do not \"do\" anything except document your work."
   ]
  },
  {
   "cell_type": "markdown",
   "metadata": {},
   "source": [
    "## ?. Variables\n",
    "Virtually all programming languages have variables, so most of you will be familiar with the concept. A variable is a name attached to a value, a container with some data in it. This container is actually a bit of space reserved in your computer's memory. It's worth keeping in mind that a variable is just a name pointing to the address of a container, because it explains some weird behavior we will see later.  \n",
    "Python is quite flexible when it comes to variables, in that it treats pretty much everything as a variable and you can store everything in variables as well."
   ]
  },
  {
   "cell_type": "markdown",
   "metadata": {},
   "source": [
    "## ?. Data types\n",
    "As in other programming languages, a Python variable can hold different kinds of data. The specific types of data in Python are a little different than they are in R or Matlab, so we're going to go through the most important types.\n",
    "\n",
    "### ?.1 int\n",
    "The most basic thing to store in bits is numbers (this is what computers were originally created for) and Python of course lets you do this as well. The basic data type for numbers is the _integer_, known as `int` in Python. An integer is any whole number, either positive or negative.  \n",
    "Integers can be used for basic math using simple operators built into Python. For more complicated math you have to import the `math` module (which we will cover later)."
   ]
  },
  {
   "cell_type": "code",
   "execution_count": 1,
   "metadata": {
    "collapsed": false
   },
   "outputs": [
    {
     "name": "stdout",
     "output_type": "stream",
     "text": [
      "-1\n"
     ]
    }
   ],
   "source": [
    "# store the value 3 in a variable named a, and the value -4 in a variable named b\n",
    "a = 3\n",
    "b = -4\n",
    "# add a and b together and store the result in c\n",
    "c = a + b\n",
    "# and print the contents of c\n",
    "print(c)"
   ]
  },
  {
   "cell_type": "markdown",
   "metadata": {},
   "source": [
    "### ?.2 bool\n",
    "A _boolean_ is arguably an even more basic data type than an integer because it can only have the values `True` or `False`. In Python, the shorthand for booleans is `bool`."
   ]
  },
  {
   "cell_type": "code",
   "execution_count": 8,
   "metadata": {
    "collapsed": false
   },
   "outputs": [
    {
     "name": "stdout",
     "output_type": "stream",
     "text": [
      "True\n"
     ]
    }
   ],
   "source": [
    "# store the value True in a\n",
    "d = True\n",
    "print(d)"
   ]
  },
  {
   "cell_type": "markdown",
   "metadata": {},
   "source": [
    "Python recognizes that the values `1` and `0` correspond with `True` and `False`, respectively. This means that you can convert back and forth between these types."
   ]
  },
  {
   "cell_type": "code",
   "execution_count": 11,
   "metadata": {
    "collapsed": false
   },
   "outputs": [
    {
     "name": "stdout",
     "output_type": "stream",
     "text": [
      "False\n"
     ]
    }
   ],
   "source": [
    "# store the value 0 in a\n",
    "e = 0\n",
    "# convert a to boolean and store in b\n",
    "f = bool(e)\n",
    "print(f)"
   ]
  },
  {
   "cell_type": "code",
   "execution_count": 12,
   "metadata": {
    "collapsed": false
   },
   "outputs": [
    {
     "name": "stdout",
     "output_type": "stream",
     "text": [
      "0\n"
     ]
    }
   ],
   "source": [
    "# and convert back from bool to int, but this time we just overwrite f\n",
    "f = int(f)\n",
    "print(f)"
   ]
  },
  {
   "cell_type": "markdown",
   "metadata": {},
   "source": [
    "What we did in the last bit of code, assigning to `f` a modified version of the value of `f`, is a very common thing to do in programming. Often it makes sense, such as when you are incrementing a count you are keeping of something: `counter = counter + 1`. This is so common Python even has a shorthand for it: `counter += 1`.  \n",
    "Other times, however, it can be confusing to reuse a variable name, especially if you're changing the contents considerably (by changing the data type, for instance). Try to use informative variable names, even if that means they end up being a little longer.  \n",
    "Python convention is also to use lowercase variable names, and to use underscores. So `variable_name` instead of `VariableName` or `VARNAME`."
   ]
  },
  {
   "cell_type": "markdown",
   "metadata": {},
   "source": [
    "### ?.3 float\n",
    "When working with real data, numbers are seldom actually whole integer values. This is where _floating point numbers_ come in. Python knows these as `float` and they work much the same as integers except they have a decimal point."
   ]
  },
  {
   "cell_type": "code",
   "execution_count": 14,
   "metadata": {
    "collapsed": false
   },
   "outputs": [
    {
     "name": "stdout",
     "output_type": "stream",
     "text": [
      "1.5\n"
     ]
    }
   ],
   "source": [
    "# divide 3.0 by 2.0 and store in g\n",
    "g = 3.0 / 2.0\n",
    "print(g)"
   ]
  },
  {
   "cell_type": "markdown",
   "metadata": {},
   "source": [
    "You can convert integers to floats and vice versa, but be careful doing this, because it does not always have the effect you might expect."
   ]
  },
  {
   "cell_type": "code",
   "execution_count": 17,
   "metadata": {
    "collapsed": false
   },
   "outputs": [
    {
     "name": "stdout",
     "output_type": "stream",
     "text": [
      "1\n"
     ]
    }
   ],
   "source": [
    "# convert g to int and store in g\n",
    "# WARNING: this will not round g, but instead truncate g to the value before the decimal point\n",
    "g = int(g)\n",
    "print(g)"
   ]
  },
  {
   "cell_type": "markdown",
   "metadata": {},
   "source": [
    "### ?.4 str\n",
    "Python also has a _string_ data type called `str` for holding text. Strings are demarcated in Python by placing them between either single or double quotes. Single quotes are most commonly used, but it's your choice. Do keep in mind that if you start a string with double quotes, you have to end it with double quotes too, otherwise the Python interpreter gets confused."
   ]
  },
  {
   "cell_type": "code",
   "execution_count": 19,
   "metadata": {
    "collapsed": false
   },
   "outputs": [
    {
     "name": "stdout",
     "output_type": "stream",
     "text": [
      "burger\n"
     ]
    }
   ],
   "source": [
    "# store a word in h\n",
    "h = 'burger'\n",
    "print(h)"
   ]
  },
  {
   "cell_type": "markdown",
   "metadata": {},
   "source": [
    "For convenience, you can put strings together using the `+` operator."
   ]
  },
  {
   "cell_type": "code",
   "execution_count": 20,
   "metadata": {
    "collapsed": false
   },
   "outputs": [
    {
     "name": "stdout",
     "output_type": "stream",
     "text": [
      "cheeseburger\n"
     ]
    }
   ],
   "source": [
    "# concatenate strings to create something edible\n",
    "h = 'cheese' + h\n",
    "print(h)"
   ]
  },
  {
   "cell_type": "markdown",
   "metadata": {},
   "source": [
    "In Python, everything is an object. What that means exactly will become clear later, but for now it's enough to realize that every data type has associated _methods_, functions that perform useful operations on data of a particular type.  \n",
    "The `str` type for instance has a `replace` method to search and replace part of the string. We access methods by typing the variable name, followed by a period and the method name, followed by the _arguments_ of the method between parentheses:  \n",
    "`variable_name.replace('thing to look for', 'thing to replace with')`"
   ]
  },
  {
   "cell_type": "code",
   "execution_count": 21,
   "metadata": {
    "collapsed": false
   },
   "outputs": [
    {
     "name": "stdout",
     "output_type": "stream",
     "text": [
      "soyburger\n"
     ]
    }
   ],
   "source": [
    "# let's use str.replace() to go vegetarian\n",
    "h = h.replace('cheese', 'soy')\n",
    "print(h)"
   ]
  },
  {
   "cell_type": "markdown",
   "metadata": {},
   "source": [
    "If you want to add bits of strings together to form a sentence, adding them using the `+` operator can get a bit tedious, especially if there are numbers involved."
   ]
  },
  {
   "cell_type": "code",
   "execution_count": 22,
   "metadata": {
    "collapsed": false
   },
   "outputs": [
    {
     "ename": "TypeError",
     "evalue": "unsupported operand type(s) for +: 'int' and 'str'",
     "output_type": "error",
     "traceback": [
      "\u001b[0;31m---------------------------------------------------------------------------\u001b[0m",
      "\u001b[0;31mTypeError\u001b[0m                                 Traceback (most recent call last)",
      "\u001b[0;32m<ipython-input-22-dbb793a6c27c>\u001b[0m in \u001b[0;36m<module>\u001b[0;34m()\u001b[0m\n\u001b[1;32m      2\u001b[0m \u001b[0mi\u001b[0m \u001b[0;34m=\u001b[0m \u001b[0;36m4\u001b[0m\u001b[0;34m\u001b[0m\u001b[0m\n\u001b[1;32m      3\u001b[0m \u001b[0mj\u001b[0m \u001b[0;34m=\u001b[0m \u001b[0;34m'pm'\u001b[0m\u001b[0;34m\u001b[0m\u001b[0m\n\u001b[0;32m----> 4\u001b[0;31m \u001b[0mprint\u001b[0m\u001b[0;34m(\u001b[0m\u001b[0mi\u001b[0m \u001b[0;34m+\u001b[0m \u001b[0mj\u001b[0m\u001b[0;34m)\u001b[0m\u001b[0;34m\u001b[0m\u001b[0m\n\u001b[0m",
      "\u001b[0;31mTypeError\u001b[0m: unsupported operand type(s) for +: 'int' and 'str'"
     ]
    }
   ],
   "source": [
    "# let's try concatenating a str and an int\n",
    "i = 4\n",
    "j = 'pm'\n",
    "print(i + j)"
   ]
  },
  {
   "cell_type": "markdown",
   "metadata": {},
   "source": [
    "Oh good, that created our first error!  \n",
    "This is where Python really has other programming languages beat, though: The error message does a pretty good job of telling us what went wrong, and where it happened.  \n",
    "\n",
    "`TypeError                                 Traceback (most recent call last)`  \n",
    "tells us the sort of error we made, a _TypeError_ (that tells us something went wrong with data types) and starts the _Traceback_, a hierarchical list of lines of code that led to the error.  \n",
    "\n",
    "`<ipython-input-22-dbb793a6c27c> in <module>()`   \n",
    "tells us the bit below comes from the file `module`. In our case that is just the notebook we're in right now, but in the case of more complicated programs with multiple files, it can be helpful for tracking where an error originated.  \n",
    "\n",
    "`----> 4 print(i + j)`  \n",
    "points to the actual origin of the error, but the line below it is the most informative.  \n",
    "\n",
    "`TypeError: unsupported operand type(s) for +: 'int' and 'str'`  \n",
    "tells us that using the operand `+`  for adding together an `int` and a `str` is not supported. Makes sense when you think about it, because for numbers, the `+` adds them up, while for strings it just concatenates them, the Python interpreter doesn't know which operation to perform here.\n",
    "\n",
    "One way to solve our error would be to transform the `int` to a string by using `str()` on it so the interpreter can concatenate two strings. Another, more elegant option is to use _f-strings_ or formatting strings. This is a way to simplify text formatting by creating a template string that variables are entered into."
   ]
  },
  {
   "cell_type": "code",
   "execution_count": 23,
   "metadata": {
    "collapsed": false
   },
   "outputs": [
    {
     "name": "stdout",
     "output_type": "stream",
     "text": [
      "the time is 4 pm\n"
     ]
    }
   ],
   "source": [
    "# let's print the time using an f-string\n",
    "k = f'the time is {i} {j}'\n",
    "print(k)"
   ]
  },
  {
   "cell_type": "markdown",
   "metadata": {},
   "source": [
    "As you can see, an f-string is created by putting an f before the first single quote. You can then add objects into the string between curly brackets `{variable_name}` and Python will fill them in for you. Non-string data types get converted to strings, but you can do other stuff like adding number together inside the brackets as well, the interpreter will simply run the code and replace the brackets with the result."
   ]
  },
  {
   "cell_type": "markdown",
   "metadata": {},
   "source": [
    "__Practical tip:__ Remember the bit about encoding complex data as ones and zeroes? Strings in Python are encoded as unicode by default, meaning that even special characters like § and ç are encoded correctly. (In some other programming languages string encoding is a mess, so it's good to be mindful of special characters.)\n",
    "When reading or writing text to files, Python 3 uses utf-8 by default. Utf-8 is widely supported, so usually this is fine. If you're reading text from a file and some characters look weird, the file might be encoded as ascii or cp-1252 (so reloading the text with the proper encoding specified might fix it)."
   ]
  },
  {
   "cell_type": "markdown",
   "metadata": {},
   "source": [
    "### ?.5 tuple\n",
    "All the variable types so far have been things that make intuitive sense, but for programming you often need slightly more complex data structures. The first of these is the _tuple_, an _immutable_ sequence of values.  \n",
    "Immutable means that once created, the order and contents of the `tuple` are fixed. We can only change part of a tuple by overwriting the whole `tuple` (this will become important later).  \n",
    "Creating a `tuple` is as simple as putting multiple values into a variable, separated by commas. For legibility, the common practice is to put parentheses around the `tuple`."
   ]
  },
  {
   "cell_type": "code",
   "execution_count": 24,
   "metadata": {
    "collapsed": false
   },
   "outputs": [
    {
     "name": "stdout",
     "output_type": "stream",
     "text": [
      "('one', 2, 3.0)\n"
     ]
    }
   ],
   "source": [
    "# let's put some values of different types together in a tuple\n",
    "m = ('one', 2, 3.0)\n",
    "print(m)"
   ]
  },
  {
   "cell_type": "markdown",
   "metadata": {},
   "source": [
    "As you can see, the `tuple` can hold other data types, like `str`, `int`, and `float`. A `tuple` can even hold other tuples. If you want to access only part of a `tuple`, you can just use a numerical index between square brackets.  \n",
    "__Note:__ Python indices always start at 0, not 1. This is common to pretty much all programming languages."
   ]
  },
  {
   "cell_type": "code",
   "execution_count": 26,
   "metadata": {
    "collapsed": false
   },
   "outputs": [
    {
     "name": "stdout",
     "output_type": "stream",
     "text": [
      "3.0\n"
     ]
    }
   ],
   "source": [
    "# I only want to know what's behind door number 3\n",
    "print(m[2])  # index 2 refers to the third item in the tuple"
   ]
  },
  {
   "cell_type": "markdown",
   "metadata": {},
   "source": [
    "### ?.6 list\n",
    "Another type of sequence Python knows is _lists_. In contrast to a `tuple`, a `list` is _mutable_. That means we can change part of the list after it is created. Creating a `list` works the same as creating a `tuple`, except we use square brackets `[]`."
   ]
  },
  {
   "cell_type": "code",
   "execution_count": 27,
   "metadata": {
    "collapsed": false
   },
   "outputs": [
    {
     "name": "stdout",
     "output_type": "stream",
     "text": [
      "['broccoli', 'cauliflower', 'kale']\n",
      "['broccoli', 'carrot', 'kale']\n"
     ]
    }
   ],
   "source": [
    "# create a list of veggies\n",
    "n = ['broccoli', 'cauliflower', 'kale']\n",
    "print(n)\n",
    "# I prefer carrots to cauliflowers\n",
    "n[1] = 'carrot'\n",
    "print(n)"
   ]
  },
  {
   "cell_type": "markdown",
   "metadata": {},
   "source": [
    "Trying to do the same thing to a `tuple` doesn't work, because the tuple is _immutable_."
   ]
  },
  {
   "cell_type": "code",
   "execution_count": 28,
   "metadata": {
    "collapsed": false
   },
   "outputs": [
    {
     "name": "stdout",
     "output_type": "stream",
     "text": [
      "('broccoli', 'carrot', 'kale')\n"
     ]
    },
    {
     "ename": "TypeError",
     "evalue": "'tuple' object does not support item assignment",
     "output_type": "error",
     "traceback": [
      "\u001b[0;31m---------------------------------------------------------------------------\u001b[0m",
      "\u001b[0;31mTypeError\u001b[0m                                 Traceback (most recent call last)",
      "\u001b[0;32m<ipython-input-28-18e316168648>\u001b[0m in \u001b[0;36m<module>\u001b[0;34m()\u001b[0m\n\u001b[1;32m      3\u001b[0m \u001b[0mprint\u001b[0m\u001b[0;34m(\u001b[0m\u001b[0mn\u001b[0m\u001b[0;34m)\u001b[0m\u001b[0;34m\u001b[0m\u001b[0m\n\u001b[1;32m      4\u001b[0m \u001b[0;31m# try to replace carrot with fennel, because I don't like orange foods\u001b[0m\u001b[0;34m\u001b[0m\u001b[0;34m\u001b[0m\u001b[0m\n\u001b[0;32m----> 5\u001b[0;31m \u001b[0mn\u001b[0m\u001b[0;34m[\u001b[0m\u001b[0;36m1\u001b[0m\u001b[0;34m]\u001b[0m \u001b[0;34m=\u001b[0m \u001b[0;34m'fennel'\u001b[0m\u001b[0;34m\u001b[0m\u001b[0m\n\u001b[0m",
      "\u001b[0;31mTypeError\u001b[0m: 'tuple' object does not support item assignment"
     ]
    }
   ],
   "source": [
    "# convert list to tuple\n",
    "n = tuple(n)\n",
    "print(n)\n",
    "# try to replace carrot with fennel, because I don't like orange foods\n",
    "n[1] = 'fennel'"
   ]
  },
  {
   "cell_type": "markdown",
   "metadata": {},
   "source": [
    "Again, Python is fairly informative about what went wrong: The tuple object does not support reassigning items after the tuple is created."
   ]
  },
  {
   "cell_type": "markdown",
   "metadata": {},
   "source": [
    "### ?.7 dict\n",
    "Sometimes having lists with numbered indices is not enough, and you want a data structure with informative labels. This is what Python calls a _dictionary_ or `dict`. In practice this works less like a dictionary and more like Wikipedia, where you have a searchable set of _keywords_ or `keys`, and each key corresponds to a `value` that contains data of any type.  \n",
    "Creating a dictionary involves `key` and `value` pairs separated by a colon. Each of these pairs is known as an `item`. The items are separated by commas and the whole thing is enclosed in curly brackets."
   ]
  },
  {
   "cell_type": "code",
   "execution_count": 34,
   "metadata": {
    "collapsed": false
   },
   "outputs": [
    {
     "name": "stdout",
     "output_type": "stream",
     "text": [
      "374\n"
     ]
    }
   ],
   "source": [
    "# create a simple dictionary for looking up room numbers\n",
    "o = {'Jeroen': 374, 'Greta': 375, 'Lecture Room': 163}\n",
    "# if we want to look up just the room Jeroen is in, we use his name as the key\n",
    "print(o['Jeroen'])"
   ]
  },
  {
   "cell_type": "markdown",
   "metadata": {},
   "source": [
    "Dictionaries are _mutable_ so we can add or edit items after creating one. Adding and editing is as simple as assigning a `value` to a `key` in the `dict`."
   ]
  },
  {
   "cell_type": "code",
   "execution_count": 35,
   "metadata": {
    "collapsed": false
   },
   "outputs": [
    {
     "name": "stdout",
     "output_type": "stream",
     "text": [
      "{'Jeroen': 374, 'Greta': 375, 'Lecture Room': 163, 'Meeting Rooms': (336, 236, 264, 364)}\n"
     ]
    }
   ],
   "source": [
    "# let's add a tuple containing multiple meeting rooms to our dictionary of room numbers\n",
    "o['Meeting Rooms'] = (336, 236, 264, 364)\n",
    "print(o)"
   ]
  },
  {
   "cell_type": "markdown",
   "metadata": {},
   "source": [
    "Completely removing an `item` from a dictionary is a little more difficult, but the _dict_ data type has a built in _method_ (like `str.replace()`) for deleting keys. Use Stack Overflow or the Python docs to find the name of this method and use it below."
   ]
  },
  {
   "cell_type": "code",
   "execution_count": 36,
   "metadata": {
    "collapsed": false
   },
   "outputs": [
    {
     "name": "stdout",
     "output_type": "stream",
     "text": [
      "{'Jeroen': 374, 'Greta': 375, 'Lecture Room': 163, 'Meeting Rooms': (336, 236, 264, 364)}\n"
     ]
    }
   ],
   "source": [
    "# I want to remove the Lecture Room item from the dict called o\n",
    "# replace this comment line with the code to do so\n",
    "print(o)  # this should now print o without the Meeting Room item"
   ]
  },
  {
   "cell_type": "markdown",
   "metadata": {},
   "source": [
    "__Note:__ `dict` keywords need to be _hashable_, which conveniently means the same thing as _immutable_ in Python. The values attached to these keywords can be anything you like, even another `dict`."
   ]
  },
  {
   "cell_type": "markdown",
   "metadata": {},
   "source": [
    "### ?.8 set\n",
    "\n",
    "Sets are mutable, unordered collections of items which can only contain unique, immutable items. This makes sets a useful choice for mathematical set operations such as union, intersection, etc. "
   ]
  },
  {
   "cell_type": "code",
   "execution_count": 3,
   "metadata": {
    "collapsed": false
   },
   "outputs": [
    {
     "name": "stdout",
     "output_type": "stream",
     "text": [
      "{1, 2, 3}\n"
     ]
    }
   ],
   "source": [
    "# create a simple set of integers\n",
    "p = {1, 2, 3}\n",
    "print(p)"
   ]
  },
  {
   "cell_type": "code",
   "execution_count": 6,
   "metadata": {
    "collapsed": false
   },
   "outputs": [
    {
     "name": "stdout",
     "output_type": "stream",
     "text": [
      "{'hello', 1, 2, 3}\n"
     ]
    }
   ],
   "source": [
    "# we can add other (immutable) data types to our set:\n",
    "p.add('hello')\n",
    "print(p)"
   ]
  },
  {
   "cell_type": "code",
   "execution_count": 10,
   "metadata": {
    "collapsed": false,
    "scrolled": true
   },
   "outputs": [
    {
     "ename": "TypeError",
     "evalue": "unhashable type: 'list'",
     "output_type": "error",
     "traceback": [
      "\u001b[0;31m---------------------------------------------------------------------------\u001b[0m",
      "\u001b[0;31mTypeError\u001b[0m                                 Traceback (most recent call last)",
      "\u001b[0;32m<ipython-input-10-26ffc85d23e1>\u001b[0m in \u001b[0;36m<module>\u001b[0;34m()\u001b[0m\n\u001b[1;32m      1\u001b[0m \u001b[0;31m# but Python will throw an error if we try to add a mutable item:\u001b[0m\u001b[0;34m\u001b[0m\u001b[0;34m\u001b[0m\u001b[0m\n\u001b[0;32m----> 2\u001b[0;31m \u001b[0mp\u001b[0m\u001b[0;34m.\u001b[0m\u001b[0madd\u001b[0m\u001b[0;34m(\u001b[0m\u001b[0;34m[\u001b[0m\u001b[0;34m'list'\u001b[0m\u001b[0;34m,\u001b[0m \u001b[0;34m'are'\u001b[0m\u001b[0;34m,\u001b[0m \u001b[0;34m'mutable'\u001b[0m\u001b[0;34m]\u001b[0m\u001b[0;34m)\u001b[0m\u001b[0;34m\u001b[0m\u001b[0m\n\u001b[0m\u001b[1;32m      3\u001b[0m \u001b[0mprint\u001b[0m\u001b[0;34m(\u001b[0m\u001b[0mp\u001b[0m\u001b[0;34m)\u001b[0m\u001b[0;34m\u001b[0m\u001b[0m\n",
      "\u001b[0;31mTypeError\u001b[0m: unhashable type: 'list'"
     ]
    }
   ],
   "source": [
    "# but Python will throw an error if we try to add a mutable item:\n",
    "p.add(['list', 'are', 'mutable'])\n",
    "print(p)"
   ]
  },
  {
   "cell_type": "markdown",
   "metadata": {},
   "source": [
    "You can read more about sets in the python documentation online."
   ]
  },
  {
   "cell_type": "markdown",
   "metadata": {},
   "source": [
    "# DIY Time! :)\n",
    "\n",
    "That was a lot of input. Let's try some of these new concepts out to get a feel for how things work!"
   ]
  },
  {
   "cell_type": "markdown",
   "metadata": {},
   "source": [
    "Create two variables, a and b, that both contain an integer. "
   ]
  },
  {
   "cell_type": "code",
   "execution_count": null,
   "metadata": {
    "collapsed": false
   },
   "outputs": [],
   "source": []
  },
  {
   "cell_type": "markdown",
   "metadata": {},
   "source": [
    "Add a and b together and store the result in a new variable, c. Print the value of c. "
   ]
  },
  {
   "cell_type": "code",
   "execution_count": null,
   "metadata": {
    "collapsed": false
   },
   "outputs": [],
   "source": []
  },
  {
   "cell_type": "markdown",
   "metadata": {},
   "source": [
    "Store the message \"hello world\" in a variable called \"greeting\" and print it."
   ]
  },
  {
   "cell_type": "code",
   "execution_count": null,
   "metadata": {
    "collapsed": false
   },
   "outputs": [],
   "source": []
  },
  {
   "cell_type": "markdown",
   "metadata": {},
   "source": [
    "Try replacing the word \"world\" in your \"greeting\" variable to say the name of the person next to you. Print the new contents of \"greeting\"."
   ]
  },
  {
   "cell_type": "code",
   "execution_count": null,
   "metadata": {
    "collapsed": false
   },
   "outputs": [],
   "source": []
  },
  {
   "cell_type": "markdown",
   "metadata": {},
   "source": [
    "Create a list called \"animals\", containing the names of your three favorite animals."
   ]
  },
  {
   "cell_type": "code",
   "execution_count": null,
   "metadata": {
    "collapsed": false
   },
   "outputs": [],
   "source": []
  },
  {
   "cell_type": "markdown",
   "metadata": {},
   "source": [
    "How would you access the name of the first animal in your \"animals\" list?"
   ]
  },
  {
   "cell_type": "code",
   "execution_count": null,
   "metadata": {
    "collapsed": false
   },
   "outputs": [],
   "source": []
  },
  {
   "cell_type": "markdown",
   "metadata": {},
   "source": [
    "Modify your \"greeting\" variable from above to say the name of the second animal in your list. "
   ]
  },
  {
   "cell_type": "code",
   "execution_count": null,
   "metadata": {
    "collapsed": false
   },
   "outputs": [],
   "source": []
  },
  {
   "cell_type": "markdown",
   "metadata": {},
   "source": [
    "Add one more animal to your list. "
   ]
  },
  {
   "cell_type": "code",
   "execution_count": null,
   "metadata": {
    "collapsed": false
   },
   "outputs": [],
   "source": []
  },
  {
   "cell_type": "markdown",
   "metadata": {},
   "source": [
    "Try using an f-string to greet all the animals in your list!"
   ]
  },
  {
   "cell_type": "code",
   "execution_count": null,
   "metadata": {
    "collapsed": false
   },
   "outputs": [],
   "source": []
  },
  {
   "cell_type": "markdown",
   "metadata": {},
   "source": [
    "Make a dictionary called \"halloween\". Under the key \"adjectives\", add a list with four halloweeny adjectives to your dictionary. Under the key \"costumes\", add a tuple with four spooky halloween costumes. Print your halloween dictionary."
   ]
  },
  {
   "cell_type": "code",
   "execution_count": null,
   "metadata": {
    "collapsed": false,
    "scrolled": false
   },
   "outputs": [],
   "source": []
  },
  {
   "cell_type": "markdown",
   "metadata": {},
   "source": [
    "How woud you access the list of adjectives in your dictionary?"
   ]
  },
  {
   "cell_type": "code",
   "execution_count": null,
   "metadata": {
    "collapsed": false
   },
   "outputs": [],
   "source": []
  },
  {
   "cell_type": "markdown",
   "metadata": {},
   "source": [
    "How would you access only the first adjective in your dictionary? "
   ]
  },
  {
   "cell_type": "code",
   "execution_count": null,
   "metadata": {
    "collapsed": false
   },
   "outputs": [],
   "source": []
  },
  {
   "cell_type": "markdown",
   "metadata": {},
   "source": [
    "And how would you access the third spooky costume?"
   ]
  },
  {
   "cell_type": "code",
   "execution_count": null,
   "metadata": {
    "collapsed": false
   },
   "outputs": [],
   "source": []
  },
  {
   "cell_type": "markdown",
   "metadata": {},
   "source": [
    "Can you make a new variable called \"party_guest\", which will be a string in which you combine one spooky adjective, one costume, and one of your favorite animals?"
   ]
  },
  {
   "cell_type": "code",
   "execution_count": null,
   "metadata": {
    "collapsed": false
   },
   "outputs": [],
   "source": []
  },
  {
   "cell_type": "markdown",
   "metadata": {},
   "source": [
    "__Note:__ There are a lot of terms in this session, like mutable, sequence, etc. For reference, these are the properties of variable types:  \n",
    "Immutable/hashable: `int, float, str, tuple`  \n",
    "Mutable: `list, dict, set`  \n",
    "Container: `tuple, list, dict, set`  \n",
    "Sequence: `tuple, list`  \n",
    "Ordered: `tuple, list, dict` (but dict _only_ in Python 3.6 and up)  \n",
    "Unordered: `set`  \n",
    "Unique keys: `set, dict`"
   ]
  }
 ],
 "metadata": {
  "anaconda-cloud": {},
  "kernelspec": {
   "display_name": "Python [conda env:py36]",
   "language": "python",
   "name": "conda-env-py36-py"
  },
  "language_info": {
   "codemirror_mode": {
    "name": "ipython",
    "version": 3
   },
   "file_extension": ".py",
   "mimetype": "text/x-python",
   "name": "python",
   "nbconvert_exporter": "python",
   "pygments_lexer": "ipython3",
   "version": "3.6.2"
  }
 },
 "nbformat": 4,
 "nbformat_minor": 1
}
