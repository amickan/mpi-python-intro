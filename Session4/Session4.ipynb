{
 "cells": [
  {
   "cell_type": "markdown",
   "metadata": {},
   "source": [
    "# Session 4: NumPy, Pandas, seaborn & SciPy\n",
    "\n",
    "Last week, you learned about functions and external modules in python - this week, we'll introduce you to some of the most powerful external modules for data analysis in python, and we'll show you how you can start using them to write an entire analysis pipeline for your data set. \n",
    "\n",
    "We'll use the Titanic data set throughout this week's session, which you can learn more about here: https://www.kaggle.com/c/titanic/\n",
    "\n",
    "## 4.0 NumPy\n",
    "\n",
    "Numpy is short for \"Numerical Python\", and that's basically what it is: a Python module to help you efficiently handle numerical data in Python. It contains, among many other things, functionalities that allow you to work with matrices and N-dimensional arrays, as well as built-in functions for linear algebra and random number capabilities.  \n",
    "The documentation is located at https://docs.scipy.org/doc/numpy-1.13.0/reference/.\n",
    "\n",
    "By convention, numpy is imported as _np_:"
   ]
  },
  {
   "cell_type": "code",
   "execution_count": 1,
   "metadata": {},
   "outputs": [],
   "source": [
    "import numpy as np"
   ]
  },
  {
   "cell_type": "markdown",
   "metadata": {},
   "source": [
    "### 4.0.0 NumPy arrays\n",
    "\n",
    "NumPy arrays offer a very efficient way of storing data in an array structure, and they also provide useful operations for these arrays. We'll provide a very brief introduction to NumPy arrays and the things they allow you to do here, but feel free to read more in the documentation! :)\n",
    "\n",
    "There are several straight-forward ways of creating a NumPy array:"
   ]
  },
  {
   "cell_type": "code",
<<<<<<< HEAD
   "execution_count": 2,
   "metadata": {},
   "outputs": [
    {
     "name": "stdout",
     "output_type": "stream",
     "text": [
      "[1 2 3 4 5]\n",
      "[0. 0. 0. 0. 0. 0. 0. 0. 0. 0.]\n",
      "[[1 1 1 1 1]\n",
      " [1 1 1 1 1]\n",
      " [1 1 1 1 1]]\n",
      "[[0.15808164 0.53608767 0.89644368 0.13573493 0.52390383]\n",
      " [0.36416191 0.84604624 0.01997151 0.29771985 0.58228024]\n",
      " [0.09579083 0.76665616 0.18181135 0.38132907 0.24428483]]\n"
     ]
    }
   ],
=======
   "execution_count": null,
   "metadata": {},
   "outputs": [],
>>>>>>> 77f1d10675ab62adcb6fac9bf84443c5be2863f5
   "source": [
    "# Create an array of a list\n",
    "int_array = np.array([1,2,3,4,5])\n",
    "print(int_array)\n",
    "\n",
    "# Create a 1*10 float array filled with zeros\n",
    "zero_array = np.zeros(10, dtype=float)\n",
    "print(zero_array)\n",
    "\n",
    "# Create a 3x5 integer array filled with ones\n",
    "ones_array = np.ones((3, 5), dtype=int)\n",
    "print(ones_array)\n",
    "\n",
    "# Create a 3x5 array filled with random numbers between 0 and 1\n",
    "random_array = np.random.random((3,5))\n",
    "print(random_array)"
   ]
  },
  {
   "cell_type": "markdown",
   "metadata": {},
   "source": [
    "This looks suspiciously similar to a \"normal\" python list, but NumPy arrays are actually a lot more memory-efficient and better at handling multidimensional data. \n",
    "\n",
    "### 4.0.1 Array attributes\n",
    "\n",
    "Each NumPy arrays comes with three attributes: _ndim_, _shape_, and _size_."
   ]
  },
  {
   "cell_type": "code",
   "execution_count": 3,
   "metadata": {},
   "outputs": [
    {
     "name": "stdout",
     "output_type": "stream",
     "text": [
      "number of dimensions:  2\n",
      "size of each dimension:  (3, 5)\n",
      "size of the entire array:  15\n"
     ]
    }
   ],
   "source": [
    "print(\"number of dimensions: \", ones_array.ndim)       # the number of dimensions in the array\n",
    "print(\"size of each dimension: \", ones_array.shape)    # the size of each dimension in the array\n",
    "print(\"size of the entire array: \", ones_array.size)   # the size of the entire array"
   ]
  },
  {
   "cell_type": "markdown",
   "metadata": {},
   "source": [
    "### 4.0.2 Indexing arrays\n",
    "\n",
    "One-dimensional arrays can be indexed very similarly to \"normal\" lists:"
   ]
  },
  {
   "cell_type": "code",
   "execution_count": 4,
   "metadata": {},
   "outputs": [
    {
     "data": {
      "text/plain": [
       "array([0., 0., 0., 0.])"
      ]
     },
     "execution_count": 4,
     "metadata": {},
     "output_type": "execute_result"
    }
   ],
   "source": [
    "zero_array[2:-4]"
   ]
  },
  {
   "cell_type": "markdown",
   "metadata": {},
   "source": [
    "In a multi-dimensional array, you access a specific value by using comma-separated indeces:"
   ]
  },
  {
   "cell_type": "code",
   "execution_count": 5,
   "metadata": {},
   "outputs": [
    {
     "data": {
      "text/plain": [
       "0.896443675966384"
      ]
     },
     "execution_count": 5,
     "metadata": {},
     "output_type": "execute_result"
    }
   ],
   "source": [
    "random_array[0,2] # this returns row 0, column 1"
   ]
  },
  {
   "cell_type": "markdown",
   "metadata": {},
   "source": [
    "You can also edit entries using the same notation:"
   ]
  },
  {
   "cell_type": "code",
   "execution_count": 6,
   "metadata": {},
   "outputs": [
    {
     "name": "stdout",
     "output_type": "stream",
     "text": [
      "[[0.15808164 0.53608767 0.18       0.13573493 0.52390383]\n",
      " [0.36416191 0.84604624 0.01997151 0.29771985 0.58228024]\n",
      " [0.09579083 0.76665616 0.18181135 0.38132907 0.24428483]]\n"
     ]
    }
   ],
   "source": [
    "random_array[0,2] = 0.18\n",
    "print(random_array)"
   ]
  },
  {
   "cell_type": "markdown",
   "metadata": {},
   "source": [
    "In order to access a specific subset of a NumPy array, you can use slicing:"
   ]
  },
  {
   "cell_type": "code",
   "execution_count": 7,
   "metadata": {},
   "outputs": [
    {
     "name": "stdout",
     "output_type": "stream",
     "text": [
      "[[0.15808164 0.53608767 0.18      ]\n",
      " [0.36416191 0.84604624 0.01997151]]\n",
      "[0.15808164 0.53608767 0.18       0.13573493 0.52390383]\n",
      "[0.15808164 0.36416191 0.09579083]\n"
     ]
    }
   ],
   "source": [
    "print(random_array[:2, :3]) # subset the first two rows and the first three columns of the original array\n",
    "print(random_array[0, :])   # subset the entire first row of the original array\n",
    "print(random_array[:, 0])   # subset the entire first column of the original array"
   ]
  },
  {
   "cell_type": "markdown",
   "metadata": {},
   "source": [
    "### 4.0.3 Combining arrays\n",
    "\n",
    "NumPy allows you to combine arrays in different dimensions:"
   ]
  },
  {
   "cell_type": "code",
   "execution_count": 8,
   "metadata": {},
   "outputs": [
    {
     "name": "stdout",
     "output_type": "stream",
     "text": [
      "[[1 2 3]\n",
      " [4 5 6]]\n",
      "[1 2 3 4 5 6]\n"
     ]
    }
   ],
   "source": [
    "array1 = np.array([1,2,3])\n",
    "array2 = np.array([4,5,6])\n",
    "\n",
    "array3 = np.vstack([array1, array2]) # stack \"vertically\"\n",
    "array4 = np.hstack([array1, array2]) # stack \"horizontally\"\n",
    "\n",
    "print(array3)\n",
    "print(array4)"
   ]
  },
  {
   "cell_type": "markdown",
   "metadata": {},
   "source": [
    "### 4.0.4 Operating on arrays\n",
    "\n",
    "As we mentioned earlier, NumPy comes with several useful functions, some of which operate a lot faster than \"normal\" python built-ins. For example, let's compare how fast NumPy's sum function is compared to the original built-in:"
   ]
  },
  {
   "cell_type": "code",
   "execution_count": 9,
   "metadata": {},
   "outputs": [
    {
     "name": "stdout",
     "output_type": "stream",
     "text": [
      "310 ms ± 41.6 ms per loop (mean ± std. dev. of 7 runs, 1 loop each)\n",
      "2.11 ms ± 274 µs per loop (mean ± std. dev. of 7 runs, 1000 loops each)\n"
     ]
    }
   ],
   "source": [
    "big_array = np.random.rand(1000000)\n",
    "%timeit sum(big_array)\n",
    "%timeit np.sum(big_array)"
   ]
  },
  {
   "cell_type": "markdown",
   "metadata": {},
   "source": [
    "It's almost twice as fast! The same goes for min, max, and other functions:"
   ]
  },
  {
   "cell_type": "code",
   "execution_count": 10,
   "metadata": {},
   "outputs": [
    {
     "name": "stdout",
     "output_type": "stream",
     "text": [
      "145 ms ± 15.2 ms per loop (mean ± std. dev. of 7 runs, 10 loops each)\n",
      "836 µs ± 42.1 µs per loop (mean ± std. dev. of 7 runs, 1000 loops each)\n"
     ]
    }
   ],
   "source": [
    "%timeit min(big_array)\n",
    "%timeit np.min(big_array)"
   ]
  },
  {
   "cell_type": "markdown",
   "metadata": {},
   "source": [
    "There's a lot more to NumPy, but most of it you'll find out as you go along and use it. And there's a very useful, in-depth chapter about NumPy in the \"Python Data Science Handbook\" here: https://jakevdp.github.io/PythonDataScienceHandbook/02.00-introduction-to-numpy.html We highly recommend going through this in your own time if you want to learn about NumPy in more depth. \n",
    "\n",
    "For the purpose of this very brief introduction, let's just acknowledge that NumPy offers a lot of useful ways of dealing with multi-dimensional arrays and numerical data. Speaking of data... let's actually import a data set! We'll use Pandas for that."
   ]
  },
  {
   "cell_type": "markdown",
   "metadata": {},
   "source": [
    "## 4.1 Pandas\n",
    "\n",
    "Pandas is a python library built \"on top\" of NumPy, extending NumPy's functionality quite a bit.  \n",
    "Docs are at https://pandas.pydata.org/pandas-docs/stable/. These docs are markedly worse than for most Python modules, but luckily pandas is usually pretty easy to use.\n",
    "\n",
    "By convention, pandas is imported as pd:"
   ]
  },
  {
   "cell_type": "code",
   "execution_count": 11,
   "metadata": {},
   "outputs": [],
   "source": [
    "import pandas as pd"
   ]
  },
  {
   "cell_type": "markdown",
   "metadata": {},
   "source": [
    "The main objects you'll be dealing with in pandas are Series and DataFrames. These are similar to NumPy arrays, but they include labeled rows and columns, and they allow heterogenous data types and missing values. Here is a quick example of how to initialize a Series and a DataFrame:"
   ]
  },
  {
   "cell_type": "code",
   "execution_count": 12,
   "metadata": {},
   "outputs": [
    {
     "name": "stdout",
     "output_type": "stream",
     "text": [
      "0            1\n",
      "1            2\n",
      "2            3\n",
      "3         four\n",
      "4    [5, 6, 7]\n",
      "dtype: object\n",
      "          0         1         2         3         4\n",
      "0  0.158082  0.536088  0.180000  0.135735  0.523904\n",
      "1  0.364162  0.846046  0.019972  0.297720  0.582280\n",
      "2  0.095791  0.766656  0.181811  0.381329  0.244285\n"
     ]
    }
   ],
   "source": [
    "test_series = pd.Series([1,2,3,'four',[5,6,7]])\n",
    "print(test_series)\n",
    "test_df = pd.DataFrame(random_array)\n",
    "print(test_df)"
   ]
  },
  {
   "cell_type": "markdown",
   "metadata": {},
   "source": [
    "...but usually, we'd prefer not to manually enter our data into our data frame, so let's import an actual data set.\n",
    "\n",
    "### 4.1.0 Reading a data set into python using pandas\n",
    "\n",
    "The data set we'll be using is the Titanic data set. It contains data about the passengers of the Titanic, and it's one of the most widely used open data sets for learning data science and machine learning (see https://www.kaggle.com/c/titanic for a more in-depth description, plus some fun examples of how others have analysed this data set before). For the purpose of today's session, we will simply explore this data set a little and find out how NumPy, pandas, seaborn and SciPy allow us to handle the data\n",
    "\n",
    "Here's how you read a data set into pandas:"
   ]
  },
  {
   "cell_type": "code",
   "execution_count": 13,
   "metadata": {},
   "outputs": [],
   "source": [
    "# use the pd.read_csv function to read in a comma-separated file\n",
    "titanic = pd.read_csv('titanic.csv')"
   ]
  },
  {
   "cell_type": "code",
   "execution_count": 14,
   "metadata": {
    "scrolled": true
   },
   "outputs": [
    {
     "data": {
      "text/html": [
       "<div>\n",
       "<style scoped>\n",
       "    .dataframe tbody tr th:only-of-type {\n",
       "        vertical-align: middle;\n",
       "    }\n",
       "\n",
       "    .dataframe tbody tr th {\n",
       "        vertical-align: top;\n",
       "    }\n",
       "\n",
       "    .dataframe thead th {\n",
       "        text-align: right;\n",
       "    }\n",
       "</style>\n",
       "<table border=\"1\" class=\"dataframe\">\n",
       "  <thead>\n",
       "    <tr style=\"text-align: right;\">\n",
       "      <th></th>\n",
       "      <th>PassengerId</th>\n",
       "      <th>Survived</th>\n",
       "      <th>Pclass</th>\n",
       "      <th>Name</th>\n",
       "      <th>Sex</th>\n",
       "      <th>Age</th>\n",
       "      <th>SibSp</th>\n",
       "      <th>Parch</th>\n",
       "      <th>Ticket</th>\n",
       "      <th>Fare</th>\n",
       "      <th>Cabin</th>\n",
       "      <th>Embarked</th>\n",
       "    </tr>\n",
       "  </thead>\n",
       "  <tbody>\n",
       "    <tr>\n",
       "      <th>0</th>\n",
       "      <td>1</td>\n",
       "      <td>0</td>\n",
       "      <td>3</td>\n",
       "      <td>Braund, Mr. Owen Harris</td>\n",
       "      <td>male</td>\n",
       "      <td>22.0</td>\n",
       "      <td>1</td>\n",
       "      <td>0</td>\n",
       "      <td>A/5 21171</td>\n",
       "      <td>7.2500</td>\n",
       "      <td>NaN</td>\n",
       "      <td>S</td>\n",
       "    </tr>\n",
       "    <tr>\n",
       "      <th>1</th>\n",
       "      <td>2</td>\n",
       "      <td>1</td>\n",
       "      <td>1</td>\n",
       "      <td>Cumings, Mrs. John Bradley (Florence Briggs Th...</td>\n",
       "      <td>female</td>\n",
       "      <td>38.0</td>\n",
       "      <td>1</td>\n",
       "      <td>0</td>\n",
       "      <td>PC 17599</td>\n",
       "      <td>71.2833</td>\n",
       "      <td>C85</td>\n",
       "      <td>C</td>\n",
       "    </tr>\n",
       "    <tr>\n",
       "      <th>2</th>\n",
       "      <td>3</td>\n",
       "      <td>1</td>\n",
       "      <td>3</td>\n",
       "      <td>Heikkinen, Miss. Laina</td>\n",
       "      <td>female</td>\n",
       "      <td>26.0</td>\n",
       "      <td>0</td>\n",
       "      <td>0</td>\n",
       "      <td>STON/O2. 3101282</td>\n",
       "      <td>7.9250</td>\n",
       "      <td>NaN</td>\n",
       "      <td>S</td>\n",
       "    </tr>\n",
       "    <tr>\n",
       "      <th>3</th>\n",
       "      <td>4</td>\n",
       "      <td>1</td>\n",
       "      <td>1</td>\n",
       "      <td>Futrelle, Mrs. Jacques Heath (Lily May Peel)</td>\n",
       "      <td>female</td>\n",
       "      <td>35.0</td>\n",
       "      <td>1</td>\n",
       "      <td>0</td>\n",
       "      <td>113803</td>\n",
       "      <td>53.1000</td>\n",
       "      <td>C123</td>\n",
       "      <td>S</td>\n",
       "    </tr>\n",
       "    <tr>\n",
       "      <th>4</th>\n",
       "      <td>5</td>\n",
       "      <td>0</td>\n",
       "      <td>3</td>\n",
       "      <td>Allen, Mr. William Henry</td>\n",
       "      <td>male</td>\n",
       "      <td>35.0</td>\n",
       "      <td>0</td>\n",
       "      <td>0</td>\n",
       "      <td>373450</td>\n",
       "      <td>8.0500</td>\n",
       "      <td>NaN</td>\n",
       "      <td>S</td>\n",
       "    </tr>\n",
       "  </tbody>\n",
       "</table>\n",
       "</div>"
      ],
      "text/plain": [
       "   PassengerId  Survived  Pclass  \\\n",
       "0            1         0       3   \n",
       "1            2         1       1   \n",
       "2            3         1       3   \n",
       "3            4         1       1   \n",
       "4            5         0       3   \n",
       "\n",
       "                                                Name     Sex   Age  SibSp  \\\n",
       "0                            Braund, Mr. Owen Harris    male  22.0      1   \n",
       "1  Cumings, Mrs. John Bradley (Florence Briggs Th...  female  38.0      1   \n",
       "2                             Heikkinen, Miss. Laina  female  26.0      0   \n",
       "3       Futrelle, Mrs. Jacques Heath (Lily May Peel)  female  35.0      1   \n",
       "4                           Allen, Mr. William Henry    male  35.0      0   \n",
       "\n",
       "   Parch            Ticket     Fare Cabin Embarked  \n",
       "0      0         A/5 21171   7.2500   NaN        S  \n",
       "1      0          PC 17599  71.2833   C85        C  \n",
       "2      0  STON/O2. 3101282   7.9250   NaN        S  \n",
       "3      0            113803  53.1000  C123        S  \n",
       "4      0            373450   8.0500   NaN        S  "
      ]
     },
     "execution_count": 14,
     "metadata": {},
     "output_type": "execute_result"
    }
   ],
   "source": [
    "# preview the data\n",
    "titanic.head()"
   ]
  },
  {
   "cell_type": "markdown",
   "metadata": {},
   "source": [
    "The .head() method allows us to get a peak of our data without having to print all of it to the screen. Pretty useful! \n",
    "\n",
    "From this preview, we can see the types of information that are included in the data set. For example, there are columns with information about whether or not the passenger survived (0 or 1), the class they travelled in (1,2,3), their name, gender, and age, and how much they paid for their ticket. We also get information about how many siblings or spouses were with them (SibSp), and how many parents and children (Parch). \"Embarked\" is an abbreviation for the harbour at which the passenger embarked.\n",
    "\n",
    "For further steps of the analysis, it would be useful to know the data types of the values in each column. pandas allows you to display a summary of this information:"
   ]
  },
  {
   "cell_type": "code",
   "execution_count": 15,
   "metadata": {},
   "outputs": [
    {
     "name": "stdout",
     "output_type": "stream",
     "text": [
      "<class 'pandas.core.frame.DataFrame'>\n",
      "RangeIndex: 891 entries, 0 to 890\n",
      "Data columns (total 12 columns):\n",
      "PassengerId    891 non-null int64\n",
      "Survived       891 non-null int64\n",
      "Pclass         891 non-null int64\n",
      "Name           891 non-null object\n",
      "Sex            891 non-null object\n",
      "Age            714 non-null float64\n",
      "SibSp          891 non-null int64\n",
      "Parch          891 non-null int64\n",
      "Ticket         891 non-null object\n",
      "Fare           891 non-null float64\n",
      "Cabin          204 non-null object\n",
      "Embarked       889 non-null object\n",
      "dtypes: float64(2), int64(5), object(5)\n",
      "memory usage: 83.6+ KB\n"
     ]
    }
   ],
   "source": [
    "titanic.info()"
   ]
  },
  {
   "cell_type": "markdown",
   "metadata": {},
   "source": [
    "This tells us the type of each of the columns. PassengerId, for example, appears to be an integer. This also tells us that there are 891 entries in our data frame. Most columns seem to be \"complete\" (i.e., they have 891 values), but others, such as Age and Cabin, seem to have missing values. \n",
    "\n",
    "There's another, more explicit way of looking for missing values in pandas DataFrames:"
   ]
  },
  {
   "cell_type": "code",
   "execution_count": 16,
   "metadata": {},
   "outputs": [
    {
     "data": {
      "text/plain": [
       "PassengerId      0\n",
       "Survived         0\n",
       "Pclass           0\n",
       "Name             0\n",
       "Sex              0\n",
       "Age            177\n",
       "SibSp            0\n",
       "Parch            0\n",
       "Ticket           0\n",
       "Fare             0\n",
       "Cabin          687\n",
       "Embarked         2\n",
       "dtype: int64"
      ]
     },
     "execution_count": 16,
     "metadata": {},
     "output_type": "execute_result"
    }
   ],
   "source": [
    "titanic.isnull().sum() # the sum() method summarizes all the missing values for each column\n",
    "# you can leave it out if you would like an explicit overview of all the values in the data frame"
   ]
  },
  {
   "cell_type": "markdown",
   "metadata": {},
   "source": [
    "Again, this tells us that there are 177 missing values in the Age column, 687 in the cabin column, and 2 in the Embarked column.\n",
    "\n",
    "Another way of getting a more detailed summary of the numerical data is the .describe method:"
   ]
  },
  {
   "cell_type": "code",
   "execution_count": 17,
   "metadata": {},
   "outputs": [
    {
     "data": {
      "text/html": [
       "<div>\n",
       "<style scoped>\n",
       "    .dataframe tbody tr th:only-of-type {\n",
       "        vertical-align: middle;\n",
       "    }\n",
       "\n",
       "    .dataframe tbody tr th {\n",
       "        vertical-align: top;\n",
       "    }\n",
       "\n",
       "    .dataframe thead th {\n",
       "        text-align: right;\n",
       "    }\n",
       "</style>\n",
       "<table border=\"1\" class=\"dataframe\">\n",
       "  <thead>\n",
       "    <tr style=\"text-align: right;\">\n",
       "      <th></th>\n",
       "      <th>PassengerId</th>\n",
       "      <th>Survived</th>\n",
       "      <th>Pclass</th>\n",
       "      <th>Age</th>\n",
       "      <th>SibSp</th>\n",
       "      <th>Parch</th>\n",
       "      <th>Fare</th>\n",
       "    </tr>\n",
       "  </thead>\n",
       "  <tbody>\n",
       "    <tr>\n",
       "      <th>count</th>\n",
       "      <td>891.000000</td>\n",
       "      <td>891.000000</td>\n",
       "      <td>891.000000</td>\n",
       "      <td>714.000000</td>\n",
       "      <td>891.000000</td>\n",
       "      <td>891.000000</td>\n",
       "      <td>891.000000</td>\n",
       "    </tr>\n",
       "    <tr>\n",
       "      <th>mean</th>\n",
       "      <td>446.000000</td>\n",
       "      <td>0.383838</td>\n",
       "      <td>2.308642</td>\n",
       "      <td>29.699118</td>\n",
       "      <td>0.523008</td>\n",
       "      <td>0.381594</td>\n",
       "      <td>32.204208</td>\n",
       "    </tr>\n",
       "    <tr>\n",
       "      <th>std</th>\n",
       "      <td>257.353842</td>\n",
       "      <td>0.486592</td>\n",
       "      <td>0.836071</td>\n",
       "      <td>14.526497</td>\n",
       "      <td>1.102743</td>\n",
       "      <td>0.806057</td>\n",
       "      <td>49.693429</td>\n",
       "    </tr>\n",
       "    <tr>\n",
       "      <th>min</th>\n",
       "      <td>1.000000</td>\n",
       "      <td>0.000000</td>\n",
       "      <td>1.000000</td>\n",
       "      <td>0.420000</td>\n",
       "      <td>0.000000</td>\n",
       "      <td>0.000000</td>\n",
       "      <td>0.000000</td>\n",
       "    </tr>\n",
       "    <tr>\n",
       "      <th>25%</th>\n",
       "      <td>223.500000</td>\n",
       "      <td>0.000000</td>\n",
       "      <td>2.000000</td>\n",
       "      <td>20.125000</td>\n",
       "      <td>0.000000</td>\n",
       "      <td>0.000000</td>\n",
       "      <td>7.910400</td>\n",
       "    </tr>\n",
       "    <tr>\n",
       "      <th>50%</th>\n",
       "      <td>446.000000</td>\n",
       "      <td>0.000000</td>\n",
       "      <td>3.000000</td>\n",
       "      <td>28.000000</td>\n",
       "      <td>0.000000</td>\n",
       "      <td>0.000000</td>\n",
       "      <td>14.454200</td>\n",
       "    </tr>\n",
       "    <tr>\n",
       "      <th>75%</th>\n",
       "      <td>668.500000</td>\n",
       "      <td>1.000000</td>\n",
       "      <td>3.000000</td>\n",
       "      <td>38.000000</td>\n",
       "      <td>1.000000</td>\n",
       "      <td>0.000000</td>\n",
       "      <td>31.000000</td>\n",
       "    </tr>\n",
       "    <tr>\n",
       "      <th>max</th>\n",
       "      <td>891.000000</td>\n",
       "      <td>1.000000</td>\n",
       "      <td>3.000000</td>\n",
       "      <td>80.000000</td>\n",
       "      <td>8.000000</td>\n",
       "      <td>6.000000</td>\n",
       "      <td>512.329200</td>\n",
       "    </tr>\n",
       "  </tbody>\n",
       "</table>\n",
       "</div>"
      ],
      "text/plain": [
       "       PassengerId    Survived      Pclass         Age       SibSp  \\\n",
       "count   891.000000  891.000000  891.000000  714.000000  891.000000   \n",
       "mean    446.000000    0.383838    2.308642   29.699118    0.523008   \n",
       "std     257.353842    0.486592    0.836071   14.526497    1.102743   \n",
       "min       1.000000    0.000000    1.000000    0.420000    0.000000   \n",
       "25%     223.500000    0.000000    2.000000   20.125000    0.000000   \n",
       "50%     446.000000    0.000000    3.000000   28.000000    0.000000   \n",
       "75%     668.500000    1.000000    3.000000   38.000000    1.000000   \n",
       "max     891.000000    1.000000    3.000000   80.000000    8.000000   \n",
       "\n",
       "            Parch        Fare  \n",
       "count  891.000000  891.000000  \n",
       "mean     0.381594   32.204208  \n",
       "std      0.806057   49.693429  \n",
       "min      0.000000    0.000000  \n",
       "25%      0.000000    7.910400  \n",
       "50%      0.000000   14.454200  \n",
       "75%      0.000000   31.000000  \n",
       "max      6.000000  512.329200  "
      ]
     },
     "execution_count": 17,
     "metadata": {},
     "output_type": "execute_result"
    }
   ],
   "source": [
    "titanic.describe()"
   ]
  },
  {
   "cell_type": "markdown",
   "metadata": {},
   "source": [
    "This gives us a neat overview of some interesting bits of information in our data (although beware that this is really just a \"general idea\", because we know already that we have missing data in some cases). \n",
    "\n",
    "### 4.1.1 Accessing pandas DataFrames\n",
    "\n",
    "What if you wanted to access only specific subsets of the titanic data frame? Here's one way of doing this:"
   ]
  },
  {
   "cell_type": "code",
   "execution_count": 18,
   "metadata": {},
   "outputs": [
    {
     "data": {
      "text/plain": [
       "0    22.0\n",
       "1    38.0\n",
       "2    26.0\n",
       "3    35.0\n",
       "4    35.0\n",
       "Name: Age, dtype: float64"
      ]
     },
     "execution_count": 18,
     "metadata": {},
     "output_type": "execute_result"
    }
   ],
   "source": [
    "titanic['Age'].head() # leave out the \".head()\" method if you really want the entire column"
   ]
  },
  {
   "cell_type": "code",
   "execution_count": 19,
   "metadata": {},
   "outputs": [
    {
     "data": {
      "text/plain": [
       "0    22.0\n",
       "1    38.0\n",
       "2    26.0\n",
       "3    35.0\n",
       "4    35.0\n",
       "Name: Age, dtype: float64"
      ]
     },
     "execution_count": 19,
     "metadata": {},
     "output_type": "execute_result"
    }
   ],
   "source": [
    "titanic.Age.head() # and this is an even easier way of accessing columns"
   ]
  },
  {
   "cell_type": "markdown",
   "metadata": {},
   "source": [
    "You can also filter the data frame based on conditions:"
   ]
  },
  {
   "cell_type": "code",
   "execution_count": 20,
   "metadata": {},
   "outputs": [
    {
     "data": {
      "text/html": [
       "<div>\n",
       "<style scoped>\n",
       "    .dataframe tbody tr th:only-of-type {\n",
       "        vertical-align: middle;\n",
       "    }\n",
       "\n",
       "    .dataframe tbody tr th {\n",
       "        vertical-align: top;\n",
       "    }\n",
       "\n",
       "    .dataframe thead th {\n",
       "        text-align: right;\n",
       "    }\n",
       "</style>\n",
       "<table border=\"1\" class=\"dataframe\">\n",
       "  <thead>\n",
       "    <tr style=\"text-align: right;\">\n",
       "      <th></th>\n",
       "      <th>PassengerId</th>\n",
       "      <th>Survived</th>\n",
       "      <th>Pclass</th>\n",
       "      <th>Name</th>\n",
       "      <th>Sex</th>\n",
       "      <th>Age</th>\n",
       "      <th>SibSp</th>\n",
       "      <th>Parch</th>\n",
       "      <th>Ticket</th>\n",
       "      <th>Fare</th>\n",
       "      <th>Cabin</th>\n",
       "      <th>Embarked</th>\n",
       "    </tr>\n",
       "  </thead>\n",
       "  <tbody>\n",
       "    <tr>\n",
       "      <th>0</th>\n",
       "      <td>1</td>\n",
       "      <td>0</td>\n",
       "      <td>3</td>\n",
       "      <td>Braund, Mr. Owen Harris</td>\n",
       "      <td>male</td>\n",
       "      <td>22.0</td>\n",
       "      <td>1</td>\n",
       "      <td>0</td>\n",
       "      <td>A/5 21171</td>\n",
       "      <td>7.2500</td>\n",
       "      <td>NaN</td>\n",
       "      <td>S</td>\n",
       "    </tr>\n",
       "    <tr>\n",
       "      <th>1</th>\n",
       "      <td>2</td>\n",
       "      <td>1</td>\n",
       "      <td>1</td>\n",
       "      <td>Cumings, Mrs. John Bradley (Florence Briggs Th...</td>\n",
       "      <td>female</td>\n",
       "      <td>38.0</td>\n",
       "      <td>1</td>\n",
       "      <td>0</td>\n",
       "      <td>PC 17599</td>\n",
       "      <td>71.2833</td>\n",
       "      <td>C85</td>\n",
       "      <td>C</td>\n",
       "    </tr>\n",
       "    <tr>\n",
       "      <th>2</th>\n",
       "      <td>3</td>\n",
       "      <td>1</td>\n",
       "      <td>3</td>\n",
       "      <td>Heikkinen, Miss. Laina</td>\n",
       "      <td>female</td>\n",
       "      <td>26.0</td>\n",
       "      <td>0</td>\n",
       "      <td>0</td>\n",
       "      <td>STON/O2. 3101282</td>\n",
       "      <td>7.9250</td>\n",
       "      <td>NaN</td>\n",
       "      <td>S</td>\n",
       "    </tr>\n",
       "    <tr>\n",
       "      <th>3</th>\n",
       "      <td>4</td>\n",
       "      <td>1</td>\n",
       "      <td>1</td>\n",
       "      <td>Futrelle, Mrs. Jacques Heath (Lily May Peel)</td>\n",
       "      <td>female</td>\n",
       "      <td>35.0</td>\n",
       "      <td>1</td>\n",
       "      <td>0</td>\n",
       "      <td>113803</td>\n",
       "      <td>53.1000</td>\n",
       "      <td>C123</td>\n",
       "      <td>S</td>\n",
       "    </tr>\n",
       "    <tr>\n",
       "      <th>4</th>\n",
       "      <td>5</td>\n",
       "      <td>0</td>\n",
       "      <td>3</td>\n",
       "      <td>Allen, Mr. William Henry</td>\n",
       "      <td>male</td>\n",
       "      <td>35.0</td>\n",
       "      <td>0</td>\n",
       "      <td>0</td>\n",
       "      <td>373450</td>\n",
       "      <td>8.0500</td>\n",
       "      <td>NaN</td>\n",
       "      <td>S</td>\n",
       "    </tr>\n",
       "  </tbody>\n",
       "</table>\n",
       "</div>"
      ],
      "text/plain": [
       "   PassengerId  Survived  Pclass  \\\n",
       "0            1         0       3   \n",
       "1            2         1       1   \n",
       "2            3         1       3   \n",
       "3            4         1       1   \n",
       "4            5         0       3   \n",
       "\n",
       "                                                Name     Sex   Age  SibSp  \\\n",
       "0                            Braund, Mr. Owen Harris    male  22.0      1   \n",
       "1  Cumings, Mrs. John Bradley (Florence Briggs Th...  female  38.0      1   \n",
       "2                             Heikkinen, Miss. Laina  female  26.0      0   \n",
       "3       Futrelle, Mrs. Jacques Heath (Lily May Peel)  female  35.0      1   \n",
       "4                           Allen, Mr. William Henry    male  35.0      0   \n",
       "\n",
       "   Parch            Ticket     Fare Cabin Embarked  \n",
       "0      0         A/5 21171   7.2500   NaN        S  \n",
       "1      0          PC 17599  71.2833   C85        C  \n",
       "2      0  STON/O2. 3101282   7.9250   NaN        S  \n",
       "3      0            113803  53.1000  C123        S  \n",
       "4      0            373450   8.0500   NaN        S  "
      ]
     },
     "execution_count": 20,
     "metadata": {},
     "output_type": "execute_result"
    }
   ],
   "source": [
    "titanic[titanic['Age'] > 18].head()\n",
    "# or:\n",
    "titanic[titanic.Age > 18].head()"
   ]
  },
  {
   "cell_type": "markdown",
   "metadata": {},
   "source": [
    "You can use \\& (and) and \\| (or) to refine your filter even further.\n",
    "\n",
    "It's also possible to sort your columns in different ways:"
   ]
  },
  {
   "cell_type": "code",
   "execution_count": 21,
   "metadata": {
    "scrolled": true
   },
   "outputs": [
    {
     "data": {
      "text/html": [
       "<div>\n",
       "<style scoped>\n",
       "    .dataframe tbody tr th:only-of-type {\n",
       "        vertical-align: middle;\n",
       "    }\n",
       "\n",
       "    .dataframe tbody tr th {\n",
       "        vertical-align: top;\n",
       "    }\n",
       "\n",
       "    .dataframe thead th {\n",
       "        text-align: right;\n",
       "    }\n",
       "</style>\n",
       "<table border=\"1\" class=\"dataframe\">\n",
       "  <thead>\n",
       "    <tr style=\"text-align: right;\">\n",
       "      <th></th>\n",
       "      <th>PassengerId</th>\n",
       "      <th>Survived</th>\n",
       "      <th>Pclass</th>\n",
       "      <th>Name</th>\n",
       "      <th>Sex</th>\n",
       "      <th>Age</th>\n",
       "      <th>SibSp</th>\n",
       "      <th>Parch</th>\n",
       "      <th>Ticket</th>\n",
       "      <th>Fare</th>\n",
       "      <th>Cabin</th>\n",
       "      <th>Embarked</th>\n",
       "    </tr>\n",
       "  </thead>\n",
       "  <tbody>\n",
       "    <tr>\n",
       "      <th>845</th>\n",
       "      <td>846</td>\n",
       "      <td>0</td>\n",
       "      <td>3</td>\n",
       "      <td>Abbing, Mr. Anthony</td>\n",
       "      <td>male</td>\n",
       "      <td>42.0</td>\n",
       "      <td>0</td>\n",
       "      <td>0</td>\n",
       "      <td>C.A. 5547</td>\n",
       "      <td>7.55</td>\n",
       "      <td>NaN</td>\n",
       "      <td>S</td>\n",
       "    </tr>\n",
       "    <tr>\n",
       "      <th>746</th>\n",
       "      <td>747</td>\n",
       "      <td>0</td>\n",
       "      <td>3</td>\n",
       "      <td>Abbott, Mr. Rossmore Edward</td>\n",
       "      <td>male</td>\n",
       "      <td>16.0</td>\n",
       "      <td>1</td>\n",
       "      <td>1</td>\n",
       "      <td>C.A. 2673</td>\n",
       "      <td>20.25</td>\n",
       "      <td>NaN</td>\n",
       "      <td>S</td>\n",
       "    </tr>\n",
       "    <tr>\n",
       "      <th>279</th>\n",
       "      <td>280</td>\n",
       "      <td>1</td>\n",
       "      <td>3</td>\n",
       "      <td>Abbott, Mrs. Stanton (Rosa Hunt)</td>\n",
       "      <td>female</td>\n",
       "      <td>35.0</td>\n",
       "      <td>1</td>\n",
       "      <td>1</td>\n",
       "      <td>C.A. 2673</td>\n",
       "      <td>20.25</td>\n",
       "      <td>NaN</td>\n",
       "      <td>S</td>\n",
       "    </tr>\n",
       "    <tr>\n",
       "      <th>308</th>\n",
       "      <td>309</td>\n",
       "      <td>0</td>\n",
       "      <td>2</td>\n",
       "      <td>Abelson, Mr. Samuel</td>\n",
       "      <td>male</td>\n",
       "      <td>30.0</td>\n",
       "      <td>1</td>\n",
       "      <td>0</td>\n",
       "      <td>P/PP 3381</td>\n",
       "      <td>24.00</td>\n",
       "      <td>NaN</td>\n",
       "      <td>C</td>\n",
       "    </tr>\n",
       "    <tr>\n",
       "      <th>874</th>\n",
       "      <td>875</td>\n",
       "      <td>1</td>\n",
       "      <td>2</td>\n",
       "      <td>Abelson, Mrs. Samuel (Hannah Wizosky)</td>\n",
       "      <td>female</td>\n",
       "      <td>28.0</td>\n",
       "      <td>1</td>\n",
       "      <td>0</td>\n",
       "      <td>P/PP 3381</td>\n",
       "      <td>24.00</td>\n",
       "      <td>NaN</td>\n",
       "      <td>C</td>\n",
       "    </tr>\n",
       "  </tbody>\n",
       "</table>\n",
       "</div>"
      ],
      "text/plain": [
       "     PassengerId  Survived  Pclass                                   Name  \\\n",
       "845          846         0       3                    Abbing, Mr. Anthony   \n",
       "746          747         0       3            Abbott, Mr. Rossmore Edward   \n",
       "279          280         1       3       Abbott, Mrs. Stanton (Rosa Hunt)   \n",
       "308          309         0       2                    Abelson, Mr. Samuel   \n",
       "874          875         1       2  Abelson, Mrs. Samuel (Hannah Wizosky)   \n",
       "\n",
       "        Sex   Age  SibSp  Parch     Ticket   Fare Cabin Embarked  \n",
       "845    male  42.0      0      0  C.A. 5547   7.55   NaN        S  \n",
       "746    male  16.0      1      1  C.A. 2673  20.25   NaN        S  \n",
       "279  female  35.0      1      1  C.A. 2673  20.25   NaN        S  \n",
       "308    male  30.0      1      0  P/PP 3381  24.00   NaN        C  \n",
       "874  female  28.0      1      0  P/PP 3381  24.00   NaN        C  "
      ]
     },
     "execution_count": 21,
     "metadata": {},
     "output_type": "execute_result"
    }
   ],
   "source": [
    "titanic.sort_values('Name', ascending=False).head() # sorts descending\n",
    "titanic.sort_values('Name').head() # sorts ascending"
   ]
  },
  {
   "cell_type": "markdown",
   "metadata": {},
   "source": [
    "### 4.1.2 Data cleaning\n",
    "\n",
    "As we saw earlier, there are a few missing values in our data set, which can be a little annoying during further steps. Some of the columns containing missing values might not actually be all that important for our analyses, so we can drop them all together:"
   ]
  },
  {
   "cell_type": "code",
   "execution_count": 22,
   "metadata": {
    "scrolled": true
   },
   "outputs": [
    {
     "data": {
      "text/html": [
       "<div>\n",
       "<style scoped>\n",
       "    .dataframe tbody tr th:only-of-type {\n",
       "        vertical-align: middle;\n",
       "    }\n",
       "\n",
       "    .dataframe tbody tr th {\n",
       "        vertical-align: top;\n",
       "    }\n",
       "\n",
       "    .dataframe thead th {\n",
       "        text-align: right;\n",
       "    }\n",
       "</style>\n",
       "<table border=\"1\" class=\"dataframe\">\n",
       "  <thead>\n",
       "    <tr style=\"text-align: right;\">\n",
       "      <th></th>\n",
       "      <th>PassengerId</th>\n",
       "      <th>Survived</th>\n",
       "      <th>Pclass</th>\n",
       "      <th>Name</th>\n",
       "      <th>Sex</th>\n",
       "      <th>Age</th>\n",
       "      <th>SibSp</th>\n",
       "      <th>Parch</th>\n",
       "      <th>Ticket</th>\n",
       "      <th>Fare</th>\n",
       "      <th>Embarked</th>\n",
       "    </tr>\n",
       "  </thead>\n",
       "  <tbody>\n",
       "    <tr>\n",
       "      <th>0</th>\n",
       "      <td>1</td>\n",
       "      <td>0</td>\n",
       "      <td>3</td>\n",
       "      <td>Braund, Mr. Owen Harris</td>\n",
       "      <td>male</td>\n",
       "      <td>22.0</td>\n",
       "      <td>1</td>\n",
       "      <td>0</td>\n",
       "      <td>A/5 21171</td>\n",
       "      <td>7.2500</td>\n",
       "      <td>S</td>\n",
       "    </tr>\n",
       "    <tr>\n",
       "      <th>1</th>\n",
       "      <td>2</td>\n",
       "      <td>1</td>\n",
       "      <td>1</td>\n",
       "      <td>Cumings, Mrs. John Bradley (Florence Briggs Th...</td>\n",
       "      <td>female</td>\n",
       "      <td>38.0</td>\n",
       "      <td>1</td>\n",
       "      <td>0</td>\n",
       "      <td>PC 17599</td>\n",
       "      <td>71.2833</td>\n",
       "      <td>C</td>\n",
       "    </tr>\n",
       "    <tr>\n",
       "      <th>2</th>\n",
       "      <td>3</td>\n",
       "      <td>1</td>\n",
       "      <td>3</td>\n",
       "      <td>Heikkinen, Miss. Laina</td>\n",
       "      <td>female</td>\n",
       "      <td>26.0</td>\n",
       "      <td>0</td>\n",
       "      <td>0</td>\n",
       "      <td>STON/O2. 3101282</td>\n",
       "      <td>7.9250</td>\n",
       "      <td>S</td>\n",
       "    </tr>\n",
       "    <tr>\n",
       "      <th>3</th>\n",
       "      <td>4</td>\n",
       "      <td>1</td>\n",
       "      <td>1</td>\n",
       "      <td>Futrelle, Mrs. Jacques Heath (Lily May Peel)</td>\n",
       "      <td>female</td>\n",
       "      <td>35.0</td>\n",
       "      <td>1</td>\n",
       "      <td>0</td>\n",
       "      <td>113803</td>\n",
       "      <td>53.1000</td>\n",
       "      <td>S</td>\n",
       "    </tr>\n",
       "    <tr>\n",
       "      <th>4</th>\n",
       "      <td>5</td>\n",
       "      <td>0</td>\n",
       "      <td>3</td>\n",
       "      <td>Allen, Mr. William Henry</td>\n",
       "      <td>male</td>\n",
       "      <td>35.0</td>\n",
       "      <td>0</td>\n",
       "      <td>0</td>\n",
       "      <td>373450</td>\n",
       "      <td>8.0500</td>\n",
       "      <td>S</td>\n",
       "    </tr>\n",
       "  </tbody>\n",
       "</table>\n",
       "</div>"
      ],
      "text/plain": [
       "   PassengerId  Survived  Pclass  \\\n",
       "0            1         0       3   \n",
       "1            2         1       1   \n",
       "2            3         1       3   \n",
       "3            4         1       1   \n",
       "4            5         0       3   \n",
       "\n",
       "                                                Name     Sex   Age  SibSp  \\\n",
       "0                            Braund, Mr. Owen Harris    male  22.0      1   \n",
       "1  Cumings, Mrs. John Bradley (Florence Briggs Th...  female  38.0      1   \n",
       "2                             Heikkinen, Miss. Laina  female  26.0      0   \n",
       "3       Futrelle, Mrs. Jacques Heath (Lily May Peel)  female  35.0      1   \n",
       "4                           Allen, Mr. William Henry    male  35.0      0   \n",
       "\n",
       "   Parch            Ticket     Fare Embarked  \n",
       "0      0         A/5 21171   7.2500        S  \n",
       "1      0          PC 17599  71.2833        C  \n",
       "2      0  STON/O2. 3101282   7.9250        S  \n",
       "3      0            113803  53.1000        S  \n",
       "4      0            373450   8.0500        S  "
      ]
     },
     "execution_count": 22,
     "metadata": {},
     "output_type": "execute_result"
    }
   ],
   "source": [
    "titanic = titanic.drop(['Cabin'], axis = 1) # the axis argument tells pandas that we want to drop the COLUMNS. \n",
    "# the default is axis = 0, which would drop the ROWS.\n",
    "\n",
    "titanic.head()"
   ]
  },
  {
   "cell_type": "markdown",
   "metadata": {},
   "source": [
    "Another possibility would be to fill in the missing values - this might not always be a good idea, but let's just assume for now that you have a good reason to do this. For example, you could fill all the missing values in a given column with the mean of that column:"
   ]
  },
  {
   "cell_type": "code",
   "execution_count": 23,
   "metadata": {
    "scrolled": true
   },
   "outputs": [
    {
     "data": {
      "text/plain": [
       "PassengerId    0\n",
       "Survived       0\n",
       "Pclass         0\n",
       "Name           0\n",
       "Sex            0\n",
       "Age            0\n",
       "SibSp          0\n",
       "Parch          0\n",
       "Ticket         0\n",
       "Fare           0\n",
       "Embarked       2\n",
       "dtype: int64"
      ]
     },
     "execution_count": 23,
     "metadata": {},
     "output_type": "execute_result"
    }
   ],
   "source": [
    "# fill each missing value in the Age column with the mean of the Age column\n",
    "titanic.Age = titanic.Age.fillna(titanic.Age.mean())\n",
    "titanic.head()\n",
    "titanic.isnull().sum()"
   ]
  },
  {
   "cell_type": "markdown",
   "metadata": {},
   "source": [
    "The .isnull method tells us that we now don't have any further missing values, except for two values in the 'Embarked' column. Let's just drop the rows containing these missing values:"
   ]
  },
  {
   "cell_type": "code",
   "execution_count": 24,
   "metadata": {},
   "outputs": [
    {
     "data": {
      "text/plain": [
       "PassengerId    0\n",
       "Survived       0\n",
       "Pclass         0\n",
       "Name           0\n",
       "Sex            0\n",
       "Age            0\n",
       "SibSp          0\n",
       "Parch          0\n",
       "Ticket         0\n",
       "Fare           0\n",
       "Embarked       0\n",
       "dtype: int64"
      ]
     },
     "execution_count": 24,
     "metadata": {},
     "output_type": "execute_result"
    }
   ],
   "source": [
    "titanic = titanic.dropna()\n",
    "titanic.isnull().sum()"
   ]
  },
  {
   "cell_type": "markdown",
   "metadata": {},
   "source": [
    "Looks like we got rid of all the missing values! Now imagine you wanted to change the values of the 'Survived' column to 'yes' and 'no', rather than 1 and 0:"
   ]
  },
  {
   "cell_type": "code",
   "execution_count": 25,
   "metadata": {},
   "outputs": [
    {
     "data": {
      "text/html": [
       "<div>\n",
       "<style scoped>\n",
       "    .dataframe tbody tr th:only-of-type {\n",
       "        vertical-align: middle;\n",
       "    }\n",
       "\n",
       "    .dataframe tbody tr th {\n",
       "        vertical-align: top;\n",
       "    }\n",
       "\n",
       "    .dataframe thead th {\n",
       "        text-align: right;\n",
       "    }\n",
       "</style>\n",
       "<table border=\"1\" class=\"dataframe\">\n",
       "  <thead>\n",
       "    <tr style=\"text-align: right;\">\n",
       "      <th></th>\n",
       "      <th>PassengerId</th>\n",
       "      <th>Survived</th>\n",
       "      <th>Pclass</th>\n",
       "      <th>Name</th>\n",
       "      <th>Sex</th>\n",
       "      <th>Age</th>\n",
       "      <th>SibSp</th>\n",
       "      <th>Parch</th>\n",
       "      <th>Ticket</th>\n",
       "      <th>Fare</th>\n",
       "      <th>Embarked</th>\n",
       "    </tr>\n",
       "  </thead>\n",
       "  <tbody>\n",
       "    <tr>\n",
       "      <th>0</th>\n",
       "      <td>1</td>\n",
       "      <td>no</td>\n",
       "      <td>3</td>\n",
       "      <td>Braund, Mr. Owen Harris</td>\n",
       "      <td>male</td>\n",
       "      <td>22.0</td>\n",
       "      <td>1</td>\n",
       "      <td>0</td>\n",
       "      <td>A/5 21171</td>\n",
       "      <td>7.2500</td>\n",
       "      <td>S</td>\n",
       "    </tr>\n",
       "    <tr>\n",
       "      <th>1</th>\n",
       "      <td>2</td>\n",
       "      <td>yes</td>\n",
       "      <td>1</td>\n",
       "      <td>Cumings, Mrs. John Bradley (Florence Briggs Th...</td>\n",
       "      <td>female</td>\n",
       "      <td>38.0</td>\n",
       "      <td>1</td>\n",
       "      <td>0</td>\n",
       "      <td>PC 17599</td>\n",
       "      <td>71.2833</td>\n",
       "      <td>C</td>\n",
       "    </tr>\n",
       "    <tr>\n",
       "      <th>2</th>\n",
       "      <td>3</td>\n",
       "      <td>yes</td>\n",
       "      <td>3</td>\n",
       "      <td>Heikkinen, Miss. Laina</td>\n",
       "      <td>female</td>\n",
       "      <td>26.0</td>\n",
       "      <td>0</td>\n",
       "      <td>0</td>\n",
       "      <td>STON/O2. 3101282</td>\n",
       "      <td>7.9250</td>\n",
       "      <td>S</td>\n",
       "    </tr>\n",
       "    <tr>\n",
       "      <th>3</th>\n",
       "      <td>4</td>\n",
       "      <td>yes</td>\n",
       "      <td>1</td>\n",
       "      <td>Futrelle, Mrs. Jacques Heath (Lily May Peel)</td>\n",
       "      <td>female</td>\n",
       "      <td>35.0</td>\n",
       "      <td>1</td>\n",
       "      <td>0</td>\n",
       "      <td>113803</td>\n",
       "      <td>53.1000</td>\n",
       "      <td>S</td>\n",
       "    </tr>\n",
       "    <tr>\n",
       "      <th>4</th>\n",
       "      <td>5</td>\n",
       "      <td>no</td>\n",
       "      <td>3</td>\n",
       "      <td>Allen, Mr. William Henry</td>\n",
       "      <td>male</td>\n",
       "      <td>35.0</td>\n",
       "      <td>0</td>\n",
       "      <td>0</td>\n",
       "      <td>373450</td>\n",
       "      <td>8.0500</td>\n",
       "      <td>S</td>\n",
       "    </tr>\n",
       "  </tbody>\n",
       "</table>\n",
       "</div>"
      ],
      "text/plain": [
       "   PassengerId Survived  Pclass  \\\n",
       "0            1       no       3   \n",
       "1            2      yes       1   \n",
       "2            3      yes       3   \n",
       "3            4      yes       1   \n",
       "4            5       no       3   \n",
       "\n",
       "                                                Name     Sex   Age  SibSp  \\\n",
       "0                            Braund, Mr. Owen Harris    male  22.0      1   \n",
       "1  Cumings, Mrs. John Bradley (Florence Briggs Th...  female  38.0      1   \n",
       "2                             Heikkinen, Miss. Laina  female  26.0      0   \n",
       "3       Futrelle, Mrs. Jacques Heath (Lily May Peel)  female  35.0      1   \n",
       "4                           Allen, Mr. William Henry    male  35.0      0   \n",
       "\n",
       "   Parch            Ticket     Fare Embarked  \n",
       "0      0         A/5 21171   7.2500        S  \n",
       "1      0          PC 17599  71.2833        C  \n",
       "2      0  STON/O2. 3101282   7.9250        S  \n",
       "3      0            113803  53.1000        S  \n",
       "4      0            373450   8.0500        S  "
      ]
     },
     "execution_count": 25,
     "metadata": {},
     "output_type": "execute_result"
    }
   ],
   "source": [
    "titanic.Survived = titanic.Survived.replace([1,0], ['yes','no'])\n",
    "titanic.head()"
   ]
  },
  {
   "cell_type": "markdown",
   "metadata": {},
   "source": [
    "You can also easily rename the columns, like this:"
   ]
  },
  {
   "cell_type": "code",
   "execution_count": 26,
   "metadata": {},
   "outputs": [
    {
     "data": {
      "text/html": [
       "<div>\n",
       "<style scoped>\n",
       "    .dataframe tbody tr th:only-of-type {\n",
       "        vertical-align: middle;\n",
       "    }\n",
       "\n",
       "    .dataframe tbody tr th {\n",
       "        vertical-align: top;\n",
       "    }\n",
       "\n",
       "    .dataframe thead th {\n",
       "        text-align: right;\n",
       "    }\n",
       "</style>\n",
       "<table border=\"1\" class=\"dataframe\">\n",
       "  <thead>\n",
       "    <tr style=\"text-align: right;\">\n",
       "      <th></th>\n",
       "      <th>PassengerId</th>\n",
       "      <th>Survived</th>\n",
       "      <th>Pclass</th>\n",
       "      <th>Name</th>\n",
       "      <th>Sex</th>\n",
       "      <th>Age</th>\n",
       "      <th>SibSp</th>\n",
       "      <th>ParCh</th>\n",
       "      <th>Ticket</th>\n",
       "      <th>Fare</th>\n",
       "      <th>Embarked</th>\n",
       "    </tr>\n",
       "  </thead>\n",
       "  <tbody>\n",
       "    <tr>\n",
       "      <th>0</th>\n",
       "      <td>1</td>\n",
       "      <td>no</td>\n",
       "      <td>3</td>\n",
       "      <td>Braund, Mr. Owen Harris</td>\n",
       "      <td>male</td>\n",
       "      <td>22.0</td>\n",
       "      <td>1</td>\n",
       "      <td>0</td>\n",
       "      <td>A/5 21171</td>\n",
       "      <td>7.2500</td>\n",
       "      <td>S</td>\n",
       "    </tr>\n",
       "    <tr>\n",
       "      <th>1</th>\n",
       "      <td>2</td>\n",
       "      <td>yes</td>\n",
       "      <td>1</td>\n",
       "      <td>Cumings, Mrs. John Bradley (Florence Briggs Th...</td>\n",
       "      <td>female</td>\n",
       "      <td>38.0</td>\n",
       "      <td>1</td>\n",
       "      <td>0</td>\n",
       "      <td>PC 17599</td>\n",
       "      <td>71.2833</td>\n",
       "      <td>C</td>\n",
       "    </tr>\n",
       "    <tr>\n",
       "      <th>2</th>\n",
       "      <td>3</td>\n",
       "      <td>yes</td>\n",
       "      <td>3</td>\n",
       "      <td>Heikkinen, Miss. Laina</td>\n",
       "      <td>female</td>\n",
       "      <td>26.0</td>\n",
       "      <td>0</td>\n",
       "      <td>0</td>\n",
       "      <td>STON/O2. 3101282</td>\n",
       "      <td>7.9250</td>\n",
       "      <td>S</td>\n",
       "    </tr>\n",
       "    <tr>\n",
       "      <th>3</th>\n",
       "      <td>4</td>\n",
       "      <td>yes</td>\n",
       "      <td>1</td>\n",
       "      <td>Futrelle, Mrs. Jacques Heath (Lily May Peel)</td>\n",
       "      <td>female</td>\n",
       "      <td>35.0</td>\n",
       "      <td>1</td>\n",
       "      <td>0</td>\n",
       "      <td>113803</td>\n",
       "      <td>53.1000</td>\n",
       "      <td>S</td>\n",
       "    </tr>\n",
       "    <tr>\n",
       "      <th>4</th>\n",
       "      <td>5</td>\n",
       "      <td>no</td>\n",
       "      <td>3</td>\n",
       "      <td>Allen, Mr. William Henry</td>\n",
       "      <td>male</td>\n",
       "      <td>35.0</td>\n",
       "      <td>0</td>\n",
       "      <td>0</td>\n",
       "      <td>373450</td>\n",
       "      <td>8.0500</td>\n",
       "      <td>S</td>\n",
       "    </tr>\n",
       "  </tbody>\n",
       "</table>\n",
       "</div>"
      ],
      "text/plain": [
       "   PassengerId Survived  Pclass  \\\n",
       "0            1       no       3   \n",
       "1            2      yes       1   \n",
       "2            3      yes       3   \n",
       "3            4      yes       1   \n",
       "4            5       no       3   \n",
       "\n",
       "                                                Name     Sex   Age  SibSp  \\\n",
       "0                            Braund, Mr. Owen Harris    male  22.0      1   \n",
       "1  Cumings, Mrs. John Bradley (Florence Briggs Th...  female  38.0      1   \n",
       "2                             Heikkinen, Miss. Laina  female  26.0      0   \n",
       "3       Futrelle, Mrs. Jacques Heath (Lily May Peel)  female  35.0      1   \n",
       "4                           Allen, Mr. William Henry    male  35.0      0   \n",
       "\n",
       "   ParCh            Ticket     Fare Embarked  \n",
       "0      0         A/5 21171   7.2500        S  \n",
       "1      0          PC 17599  71.2833        C  \n",
       "2      0  STON/O2. 3101282   7.9250        S  \n",
       "3      0            113803  53.1000        S  \n",
       "4      0            373450   8.0500        S  "
      ]
     },
     "execution_count": 26,
     "metadata": {},
     "output_type": "execute_result"
    }
   ],
   "source": [
    "titanic = titanic.rename(columns={'Parch': 'ParCh'})\n",
    "titanic.head()"
   ]
  },
  {
   "cell_type": "markdown",
   "metadata": {},
   "source": [
    "It's also possible to join several data frames together. For example, imagine you had a different data frame with all the passenger IDs, plus whether they were left- or right-handed:"
   ]
  },
  {
   "cell_type": "code",
   "execution_count": 27,
   "metadata": {},
   "outputs": [
    {
     "name": "stdout",
     "output_type": "stream",
     "text": [
      "<class 'pandas.core.frame.DataFrame'>\n",
      "RangeIndex: 891 entries, 0 to 890\n",
      "Data columns (total 2 columns):\n",
      "Handedness     891 non-null int32\n",
      "PassengerId    891 non-null int32\n",
      "dtypes: int32(2)\n",
      "memory usage: 7.0 KB\n"
     ]
    },
    {
     "data": {
      "text/html": [
       "<div>\n",
       "<style scoped>\n",
       "    .dataframe tbody tr th:only-of-type {\n",
       "        vertical-align: middle;\n",
       "    }\n",
       "\n",
       "    .dataframe tbody tr th {\n",
       "        vertical-align: top;\n",
       "    }\n",
       "\n",
       "    .dataframe thead th {\n",
       "        text-align: right;\n",
       "    }\n",
       "</style>\n",
       "<table border=\"1\" class=\"dataframe\">\n",
       "  <thead>\n",
       "    <tr style=\"text-align: right;\">\n",
       "      <th></th>\n",
       "      <th>Handedness</th>\n",
       "      <th>PassengerId</th>\n",
       "    </tr>\n",
       "  </thead>\n",
       "  <tbody>\n",
       "    <tr>\n",
       "      <th>count</th>\n",
       "      <td>891.000000</td>\n",
       "      <td>891.000000</td>\n",
       "    </tr>\n",
       "    <tr>\n",
       "      <th>mean</th>\n",
       "      <td>0.537598</td>\n",
       "      <td>446.000000</td>\n",
       "    </tr>\n",
       "    <tr>\n",
       "      <th>std</th>\n",
       "      <td>0.498864</td>\n",
       "      <td>257.353842</td>\n",
       "    </tr>\n",
       "    <tr>\n",
       "      <th>min</th>\n",
       "      <td>0.000000</td>\n",
       "      <td>1.000000</td>\n",
       "    </tr>\n",
       "    <tr>\n",
       "      <th>25%</th>\n",
       "      <td>0.000000</td>\n",
       "      <td>223.500000</td>\n",
       "    </tr>\n",
       "    <tr>\n",
       "      <th>50%</th>\n",
       "      <td>1.000000</td>\n",
       "      <td>446.000000</td>\n",
       "    </tr>\n",
       "    <tr>\n",
       "      <th>75%</th>\n",
       "      <td>1.000000</td>\n",
       "      <td>668.500000</td>\n",
       "    </tr>\n",
       "    <tr>\n",
       "      <th>max</th>\n",
       "      <td>1.000000</td>\n",
       "      <td>891.000000</td>\n",
       "    </tr>\n",
       "  </tbody>\n",
       "</table>\n",
       "</div>"
      ],
      "text/plain": [
       "       Handedness  PassengerId\n",
       "count  891.000000   891.000000\n",
       "mean     0.537598   446.000000\n",
       "std      0.498864   257.353842\n",
       "min      0.000000     1.000000\n",
       "25%      0.000000   223.500000\n",
       "50%      1.000000   446.000000\n",
       "75%      1.000000   668.500000\n",
       "max      1.000000   891.000000"
      ]
     },
     "execution_count": 27,
     "metadata": {},
     "output_type": "execute_result"
    }
   ],
   "source": [
    "# making a random data frame\n",
    "handedness = pd.DataFrame(index = range(0,891), columns = ['Handedness', 'PassengerId'])\n",
    "handedness.Handedness = np.random.choice([1,0], len(handedness))\n",
    "handedness.PassengerId = np.arange(1,892)\n",
    "handedness.info()\n",
    "handedness.describe()"
   ]
  },
  {
   "cell_type": "code",
   "execution_count": 28,
   "metadata": {},
   "outputs": [
    {
     "data": {
      "text/html": [
       "<div>\n",
       "<style scoped>\n",
       "    .dataframe tbody tr th:only-of-type {\n",
       "        vertical-align: middle;\n",
       "    }\n",
       "\n",
       "    .dataframe tbody tr th {\n",
       "        vertical-align: top;\n",
       "    }\n",
       "\n",
       "    .dataframe thead th {\n",
       "        text-align: right;\n",
       "    }\n",
       "</style>\n",
       "<table border=\"1\" class=\"dataframe\">\n",
       "  <thead>\n",
       "    <tr style=\"text-align: right;\">\n",
       "      <th></th>\n",
       "      <th>PassengerId</th>\n",
       "      <th>Survived</th>\n",
       "      <th>Pclass</th>\n",
       "      <th>Name</th>\n",
       "      <th>Sex</th>\n",
       "      <th>Age</th>\n",
       "      <th>SibSp</th>\n",
       "      <th>ParCh</th>\n",
       "      <th>Ticket</th>\n",
       "      <th>Fare</th>\n",
       "      <th>Embarked</th>\n",
       "      <th>Handedness</th>\n",
       "      <th>PassengerId</th>\n",
       "    </tr>\n",
       "  </thead>\n",
       "  <tbody>\n",
       "    <tr>\n",
       "      <th>0</th>\n",
       "      <td>1.0</td>\n",
       "      <td>no</td>\n",
       "      <td>3.0</td>\n",
       "      <td>Braund, Mr. Owen Harris</td>\n",
       "      <td>male</td>\n",
       "      <td>22.0</td>\n",
       "      <td>1.0</td>\n",
       "      <td>0.0</td>\n",
       "      <td>A/5 21171</td>\n",
       "      <td>7.2500</td>\n",
       "      <td>S</td>\n",
       "      <td>1</td>\n",
       "      <td>1</td>\n",
       "    </tr>\n",
       "    <tr>\n",
       "      <th>1</th>\n",
       "      <td>2.0</td>\n",
       "      <td>yes</td>\n",
       "      <td>1.0</td>\n",
       "      <td>Cumings, Mrs. John Bradley (Florence Briggs Th...</td>\n",
       "      <td>female</td>\n",
       "      <td>38.0</td>\n",
       "      <td>1.0</td>\n",
       "      <td>0.0</td>\n",
       "      <td>PC 17599</td>\n",
       "      <td>71.2833</td>\n",
       "      <td>C</td>\n",
       "      <td>1</td>\n",
       "      <td>2</td>\n",
       "    </tr>\n",
       "    <tr>\n",
       "      <th>2</th>\n",
       "      <td>3.0</td>\n",
       "      <td>yes</td>\n",
       "      <td>3.0</td>\n",
       "      <td>Heikkinen, Miss. Laina</td>\n",
       "      <td>female</td>\n",
       "      <td>26.0</td>\n",
       "      <td>0.0</td>\n",
       "      <td>0.0</td>\n",
       "      <td>STON/O2. 3101282</td>\n",
       "      <td>7.9250</td>\n",
       "      <td>S</td>\n",
       "      <td>0</td>\n",
       "      <td>3</td>\n",
       "    </tr>\n",
       "    <tr>\n",
       "      <th>3</th>\n",
       "      <td>4.0</td>\n",
       "      <td>yes</td>\n",
       "      <td>1.0</td>\n",
       "      <td>Futrelle, Mrs. Jacques Heath (Lily May Peel)</td>\n",
       "      <td>female</td>\n",
       "      <td>35.0</td>\n",
       "      <td>1.0</td>\n",
       "      <td>0.0</td>\n",
       "      <td>113803</td>\n",
       "      <td>53.1000</td>\n",
       "      <td>S</td>\n",
       "      <td>1</td>\n",
       "      <td>4</td>\n",
       "    </tr>\n",
       "    <tr>\n",
       "      <th>4</th>\n",
       "      <td>5.0</td>\n",
       "      <td>no</td>\n",
       "      <td>3.0</td>\n",
       "      <td>Allen, Mr. William Henry</td>\n",
       "      <td>male</td>\n",
       "      <td>35.0</td>\n",
       "      <td>0.0</td>\n",
       "      <td>0.0</td>\n",
       "      <td>373450</td>\n",
       "      <td>8.0500</td>\n",
       "      <td>S</td>\n",
       "      <td>1</td>\n",
       "      <td>5</td>\n",
       "    </tr>\n",
       "  </tbody>\n",
       "</table>\n",
       "</div>"
      ],
      "text/plain": [
       "   PassengerId Survived  Pclass  \\\n",
       "0          1.0       no     3.0   \n",
       "1          2.0      yes     1.0   \n",
       "2          3.0      yes     3.0   \n",
       "3          4.0      yes     1.0   \n",
       "4          5.0       no     3.0   \n",
       "\n",
       "                                                Name     Sex   Age  SibSp  \\\n",
       "0                            Braund, Mr. Owen Harris    male  22.0    1.0   \n",
       "1  Cumings, Mrs. John Bradley (Florence Briggs Th...  female  38.0    1.0   \n",
       "2                             Heikkinen, Miss. Laina  female  26.0    0.0   \n",
       "3       Futrelle, Mrs. Jacques Heath (Lily May Peel)  female  35.0    1.0   \n",
       "4                           Allen, Mr. William Henry    male  35.0    0.0   \n",
       "\n",
       "   ParCh            Ticket     Fare Embarked  Handedness  PassengerId  \n",
       "0    0.0         A/5 21171   7.2500        S           1            1  \n",
       "1    0.0          PC 17599  71.2833        C           1            2  \n",
       "2    0.0  STON/O2. 3101282   7.9250        S           0            3  \n",
       "3    0.0            113803  53.1000        S           1            4  \n",
       "4    0.0            373450   8.0500        S           1            5  "
      ]
     },
     "execution_count": 28,
     "metadata": {},
     "output_type": "execute_result"
    }
   ],
   "source": [
    " pd.concat([titanic, handedness], axis=1).head() # axis = 1 tells pandas that we want to concatenate columns, not rows"
   ]
  },
  {
   "cell_type": "markdown",
   "metadata": {},
   "source": [
    "Now that we've done all that work on the Titanic dataset, we'll want to preserve it by writing it to a file. Pandas has a convenient way to do this for dataframes:"
   ]
  },
  {
   "cell_type": "code",
   "execution_count": 29,
   "metadata": {},
   "outputs": [],
   "source": [
    "titanic.to_csv('titanic_cleaned.csv')"
   ]
  },
  {
   "cell_type": "markdown",
   "metadata": {
    "collapsed": true
   },
   "source": [
    "## 4.2 Seaborn\n",
    "Seaborn is a plotting library, similar to ggplot in R. Basic plotting with Seaborn is very easy, but as with ggplot, it has many options for altering and extending figures and it's easy to get lost in the details. Today we will only cover some of the basics, but Seaborn has excellent documentation, so if you want to know more, go to https://seaborn.pydata.org/.  \n",
    "To get started, let's just import seaborn and draw a line."
   ]
  },
  {
   "cell_type": "code",
   "execution_count": 30,
   "metadata": {},
   "outputs": [
    {
     "name": "stderr",
     "output_type": "stream",
     "text": [
      "C:\\Users\\saski\\Anaconda3\\lib\\site-packages\\seaborn\\timeseries.py:183: UserWarning: The tsplot function is deprecated and will be removed or replaced (in a substantially altered version) in a future release.\n",
      "  warnings.warn(msg, UserWarning)\n"
     ]
    },
    {
     "data": {
      "text/plain": [
       "<matplotlib.axes._subplots.AxesSubplot at 0x1b8f0a62ba8>"
      ]
     },
     "execution_count": 30,
     "metadata": {},
     "output_type": "execute_result"
    },
    {
     "data": {
      "image/png": "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\n",
      "text/plain": [
       "<Figure size 432x288 with 1 Axes>"
      ]
     },
     "metadata": {
      "image/png": {
       "height": 250,
       "width": 378
      }
     },
     "output_type": "display_data"
    }
   ],
   "source": [
    "import seaborn as sns  # convention is to import seaborn under the name sns, for unclear reasons\n",
    "\n",
    "# some magic that will make this notebook display our plots inline, don't worry about this for now\n",
    "%matplotlib inline\n",
    "%config InlineBackend.figure_format = 'retina'\n",
    "\n",
    "# make up some x and y values\n",
    "x = np.linspace(0, 10)\n",
    "y = x * x\n",
    "\n",
    "# and plot using the lineplot method\n",
    "sns.tsplot(x, y)"
   ]
  },
  {
   "cell_type": "markdown",
   "metadata": {},
   "source": [
    "That was rather easy, but let's plot something more interesting.  \n",
    "Using the Titanic data, we can plot the relationship between different variables and survival rate. Let's start with age. The obvious way to plot this is using a violinplot or something similar."
   ]
  },
  {
   "cell_type": "code",
   "execution_count": 31,
   "metadata": {},
   "outputs": [
    {
     "data": {
      "text/plain": [
       "<matplotlib.axes._subplots.AxesSubplot at 0x1b8f0b53f60>"
      ]
     },
     "execution_count": 31,
     "metadata": {},
     "output_type": "execute_result"
    },
    {
     "data": {
      "image/png": "iVBORw0KGgoAAAANSUhEUgAAAwAAAAIPCAYAAADEoLnvAAAABHNCSVQICAgIfAhkiAAAAAlwSFlzAAAWJQAAFiUBSVIk8AAAADl0RVh0U29mdHdhcmUAbWF0cGxvdGxpYiB2ZXJzaW9uIDIuMi4yLCBodHRwOi8vbWF0cGxvdGxpYi5vcmcvhp/UCwAAIABJREFUeJzs3Xd8HPWd//HXV7urLlmy5N4rNh1MC6GlcIGESyAhl5CQg+NCgEuBy93lfpeQcj25RxLgLiEJJAFiSCCBYIyxjRtugHvDxkXutuQm27JktS3z/f0x0mhXkvtKs+X9fDz82Jnd0cxHYEvznm8z1lpERERERCQ75PhdgIiIiIiI9B4FABERERGRLKIAICIiIiKSRRQARERERESyiAKAiIiIiEgWUQAQEREREckiCgAiIiIiIllEAUBEREREJIsoAIiIiIiIZBEFABERERGRLKIAICIiIiKSRRQARERERESyiAKAiIiIiEgWUQAQEREREckiCgAiIiIiIllEAUBEREREJIsE/S4g3RljdgClwE6fSxERERGRzDYSqLfWjjqXkygAnLvSgoKCvhMnTuzrdyEiIiIikrk2btxIc3PzOZ9HAeDc7Zw4cWLflStX+l2HiIiIiGSwSZMmsWrVqp3neh6NARARERERySIKACIiIiIiWUQBQEREREQkiygAiIiIiIhkEQUAEREREZEsogAgIiIiIpJFFABERERERLKIAoCIiIiISBZRABARERERySIKACIiIiIiWUQBQEREREQkiygAiIiIiIhkEQUAEREREZEsogAgIiIiIpJFFABERERERLKIAoCIiIiISBZRABARERFpU1dXxyuvvMK6dev8LkWkxwT9LkBEREQkVfz4xz9m8eLFGGOYPHkyQ4cO9bskkaRTC4CIiIhIm8WLFwNgreXdd9/1uRqRnqEAICIiItINx3H8LkGkRygAiIiIiIhkEQUAEREREZEsogAgIiIiIpJFFABEREREumGM8bsEkR6hACAiIiIikkUUAERERERwp/6Mp1mAJFMpAIiIiIgA0Wg0YT8Wi/lUiUjPUgAQERERASKRSMJ+50AgkikUAERERETo+sRfAUAylQKAiIiICF1bADrvi2QKBQARERERuj7xVwuAZCoFABEREREgHA4n7KsFQDKVAoCIiIgIXZ/4KwBIplIAEBEREUFjACR7KACIiIiIoC5Akj0UAERERERQC4BkDwUAERERETQGQLKHAoCIiIgI6gIk2UMBQERERAS1AEj2UAAQERERQWMAJHsoAIiIiIjQ9YZfKwFLplIAEBEREaHrDX/nMQEimUIBQERERISuLQCxWMynSkR6lgKAiIiICF1bANQFSDKVAoCIiIgIXZ/4KwBIplIAEBEREUEtAJI90jIAGGM+YYyZZYzZa4xpNsZsN8b8yRjzgRMcf60xZrox5ogxpskYs84Y84gxJtDbtYuIiEhq6twCoDEAkqnSLgAYY34ETAMuB2YCTwCrgE8Bbxtj7u50/KeAhcANwKvAz4Fc4DHgxd6rXKR3VVVVcf/99/Pwww9TW1vrdzkiIinPcZyEfQUAyVRpFQCMMQOBfwQOAOdba79srf1/1to7gY8BBvi3uONLgaeBGHCTtfZvrbX/BFwKvAvcaYz5fG9/HyK94emnn6aqqoq1a9fy0ksv+V2OiEjK63zD3zkQiGSKtAoAwAjcmpdaaw/Gf2CtfQtoAPrFvX1n2/6L1toVcce2AI+27T7UoxWL+GTZsmXe9pIlS3ysREQkPSgASLZItwBQBYSBq4wxlfEfGGNuAEqAOXFvf7jtdWY351oINAHXGmPyeqBWERERSWPWWr9LEOkRQb8LOBPW2iPGmH8Gfgq8b4yZAhwGxgCfBGYDD8R9yXltr1u6OVfUGLMDuAAYDWw82bWNMStP8NGEM/omREREJCV1vuFXAJBMlVYBAMBa+7gxZifwW+D+uI+2As926hrUp+312AlO1/5+WVKLFBERERFJUenWBQhjzLeAl4FncZ/8FwGTgO3AC8aY/zmT07W9njLiW2sndfcH2HRG34CIiIiIiI/SKgAYY24CfgRMtdZ+01q73VrbZK1dBdwBVAP/YIwZ3fYl7U/4+3Q9GwClnY4TEREREcloaRUAgNvaXt/q/IG1tglYhvs9Xdb29ua21/GdjzfGBIFRQBS39UAkY6kfq4jIqRljEvZzctLtNknk9KTb3+z22Xr6neDz9vfDba/z2l5v6ebYG4BC4B1rbWtyyhMREZF01fmGv3MgEMkU6RYAFrW9fsUYMyT+A2PMrcAHgRbgnba3XwZqgc8bY66IOzYf+I+23V/0aMUiPtBMFiIiZ67zDb8CgGSqdJsF6GXcef4/Cmw0xrwK7Acm4nYPMsD/s9YeBrDW1htj7m/7uvnGmBeBI7hThp7X9r6WSJWM09qa2KgVDodPcKSIiLQLBAIn3RfJFGkVAKy1jjHm48BXgc/jDvwtxL2pnw78r7V2VqevmWKMuRH4DvAZIB93ytBvth2vR6OScRobG0+6LyIiXSkASLZIqwAAYK2NAI+3/Tndr3kb+HiPFSWSYhoaGhL2m5qaiEajBINp909eRKTXKABItki3MQAichrq6+u7vHf8+HEfKhERSR+db/g1C5BkKv3NFslAnVsAoPtQICIiHToHALWaSqZSABDJQHV1daf1noiIdOh8wx8KhXyqRKRnKQCIZKCjR4+e1nsiItKhcwDQGADJVAoAIhnoyJEjp/WeiIh06BwA1AVIMpUCgEgGUgAQETlznbv8qAuQZCoFAJEMdOjQodN6T0REOqgFQLKFAoBIBlIAEBE5cxoELNlCAUAkw8RiMWpra7u8f/DgQR+qERFJH51v+DUIWDKVAoBIhqmtrcVxHACs6fgnfvDgQay1fpUlIpLyOt/wqwVAMpUCgEiG2bdvn7ftFFZgA7kAtLa2aiCwiMhJaAyAZAsFAJEMkxAA8opx8kq8/f379/tRkohIWuj8xF8BQDKVAoBIhom/yXfySnDyir39mpoaP0oSEUkLnbsAKQBIptLfbJEMU11d7W3bvNKEfv/xrQMiIpJIXYAkW+hvtkiGiQ8ATl4JWKfbz0REJFFOTs5J90UyhQKASIZJCAD5pYDt9jMREUnUuQuQpgGVTKUAIJJBGhoaqK+vB8CaADZUiGMVAERETkfnG361AEim0t9skQyS+PS/BIzB5hZ66wEcPXqUxsZGv8oTEUlp6gIk2UJ/s0UySGL//1J3w+R0bKOZgERERLKdAoBIBkmYASi/NG67Yy2AvXv39mpNIiLpwhhz0n2RTKEAIJJBum0B6LStFgARkdOjACCZSgFAJIN0mQK0m20NBBYR6V78uikAjuOc4EiR9KYAIJJB4p/unygAqAVARKR7nW/4FQAkUykAiGSIlpYWjhw5AoDFYPOKvc+cfHUBEhE5lVgslrCvACCZSgFAJEMcOHDA27Z5RWA6/nnb3I4wUFtbSzQa7dXaRETSgVoAJFsoAIhkiP3793vbTm5J4oc5AZxQofuZ43Do0KHeLE1EJC10fjgSiUR8qkSkZykAiGSI+AAQ3/2nu/fijxUREVc4HD7pvkimUAAQyRAHDx70tp3coi6fO3HdgOKPFRERlwKAZAsFAJEMEd+tJ77Pf8d7Rd0eKyIirs43/K2trT5VItKzFABEMsSpWwCKuj1WRERczc3NCfstLS0+VSLSsxQARDJEYgtAYZfP499TC4CISFeNjY0J+01NTT5VItKzFABEMoC1lsOHD3v77TP+xIt/L/5YERFxdb7h7xwIRDKFAoBIBmhqavKaqm1OAAK5XY6xcQGgtra212oTEUkXnW/4FQAkUykAiGSA+Bt6GyoEY7ocEx8A6urqtBiYiEgnx44dS9hvamrSWgCSkRQARDLAkSNHvO3uuv8AkJODE8x3j3Ec6urqeqM0EZG00d3Pxc6hQCQTKACIZID4Pv02VHDC4+I/0zgAEZFE3d3s62GJZCIFAJEMkBgATtAC0OkzBQARkUTd3ewrAEgmUgAQyQAJASD39FoA4rsNiYhI9xMkaNIEyUQKACIZ4FRTgHqf5WomIBGR7rS0tFBfX9/lfS2cKJlIAUAkA3SZBegENBWoiEj3TnSjr4UTJRMpAIhkgIQAkFt0wuOsWgBERLp1ogCgFgDJRAoAImnOWptwM3/SLkChjnCgp1oiIh1qamq87WHF0W7fF8kUCgAiae7YsWO0trYCYAMhCHZdBbidzVMAEBHpzt69e73ti/t2LP5VU1OjhRMl4ygAiKS5+OZpJ7f4pMfaYAHWuP/s6+vraWpq6tHaRETSRXV1tbc9oiRKWa4DQCwW48CBA36VJdIjFABE0lz8LyZ7igCAMQljBNS3VUTEFd8CMKAgxoDCWLefiWQCBQCRNLdv3z5v2znJAOCOYzpCwv79+3ukJhGRdBIOh9mzZ4+3P7AwxuC4ALBjxw4/yhLpMQoAImkufoCak19yyuOdvI5jNLhNRAR2796N47hdfvrlxygIwtBiBQDJXAoAImkuvt+qzSs95fE2LiTEf62ISLaKv8Fvv/EfVhTt9nORTKAAIJLmEloA8k6nBaAjJKgFQEQEtm/f7m233/gPiWsB2Llzp2YCkoyiACCSxiKRSOIYgNMJAPkdAUAD20REYMuWLd728BL3xr8kZOmb526Hw2F2797tS20iPUEBQCSN1dTUeP1WndwiCIRO+TWdWwD0VEtEspm1ls2bN3v7o0qicdsdrQDxx4ikOwUAkTQWP2uFk9/n9L4oEPJmC4rFYuoGJCJZraamhuPHjwNQFHSozHe8z0aVdoQBBQDJJAoAImnsrAJAp2PVrC0i2WzTpk3e9qjSKMZ0fDYyrjUg/jiRdKcAIJLGdu7c6W2fWQAo87Z37dqVzJJERNLK+++/722PLknsEjk6rgVg69attLa29lpdIj1JAUAkjcU/vXcKyk/765wCBQAREYANGzZ42+PKEgNAccgyqNB9LxqNqhuQZAwFAJE0Za1NuHl3Cs6uC1B8K4KISDZpaWmhqqrK2x9b2nVShLF9Ot6LDwsi6UwBQCRNHTp0iKamJgBsIBcbLDjtr41vAYhfAVNEJJts2rSJWMyd6WdwYZSikO1yzLi4ALB+/fpeq02kJykAiKSp+Cf3sYIyEkaunYINFeAE8wH3CdiBAweSXZ6ISMpbt26dtx1/ox8v/v333ntPD0wkIygAiKSpxO4/p9//v+NrNA5ARLJbfACYUB7p9pjBhTFKQu5Nf319vbpNSkZQABBJU4kzAJWd+MATiP8a/UITkWwTjUYTuvScV9Z9C4AxMKGsIxzEhwaRdKUAIJKmElsAziIAqAVARLLYli1baGlpAaAyP5awAFhn8eFg7dq1PV6bSE9TABBJQ9baxBaAswkAcTMBKQCISLZZvXq1t31eWffdf9rFtwCsXr0aa7sOFhZJJwoAImnoyJEj3tL1NieEDRWe8Tnixw3s2rVLv9BEJKvEB4Dzy7vv/tNuaHGM4rZxAHV1dezYsaNHaxPpaQoAImkocQGwPmc0A1A7GyrABkIANDY2cuTIkaTVJyKSyiKRSEL//4mnaAHIMYnHrFmzpsdqE+kNCgAiaSghAOSf/gJgCYzByev42vhziohkso0bN3r9//vnx6gsOPXUnhPjZglatWpVj9Um0hsUAETS0J49e7ztsw4AJK4eHH9OEZFMtnLlSm974gmm/+zs/PLEcQDtC4iJpCMFAJE0tHfvXm/7nAJAvgKAiGSf+ABwYd/TCwCDCh3K89yb/sbGRrZs2dIjtYn0hrQNAMaY640xrxhj9hljWtteZxljPt7NsdcaY6YbY44YY5qMMeuMMY8YYwJ+1C5yrqqrq71tJ7/0rM/j5HV8bfw5RUQyVWNjI++//763f/5ptgAYAxfEHbtixYqk1ybSW9IyABhjHgUWAjcAM4GfAK8D5cBNnY79VNyxrwI/B3KBx4AXe61okSSJRqPs27fP24+/iT9T8eFBAUBEssHatWtxHLfP/4jiKCW5pz8D2gV9FQAkMwT9LuBMGWM+C/w7MAf4tLW2odPnobjtUuBpIAbcZK1d0fb+d4F5wJ3GmM9baxUEJG0cOnSIaNSdss4JFUAgdIqvOLH48FBTU0MsFiMQUMOYiGSuZcuWedsXnGb3H+/4uBaADRs20NTURGHhmU/DLOK3tGoBMMbkAD8CmoAvdL75B7DWxv9rvhPoB7zYfvPfdkwL8Gjb7kM9V7FI8iV0/8krObeTBXNxgvmAOy1ebW3tuZ1PRCTFLV++3Nu+qG/4jL62LM8yrNh9ABONRjUdqKSttAoAwLXAKGA6cNQY8wljzD8bYx42xnygm+M/3PY6s5vPFuIGiWuNMXk9U65I8sV3/7Hn0P2n4xwdISL+3CIimaampsZ7iJKbYxlfdvIFwLpzUVyrQXyYEEkn6dYF6Mq21wPAKuCi+A+NMQuBO621h9reOq/ttctQfWtt1BizA7gAGA1sPNmFjTErT/DRhNMrXSQ5ampqvO1zbgFoO0eg0f0ns2/fPi699NJzPqeISCqKv2GfWB4hdBaPQS/qG2b67gIgsTuRSDpJtxaA/m2vDwIFwEeBEuBC4E3cgb5/iju+fY7DYyc4X/v7ZcktU6TnJA4ATkYAKPa248OFiEimWbp0qbd90Rn2/283vixKbo47cLi6ujphWmaRdJFuLQDtoxMN7pP+tW37G4wxd+A+6b/RGPMBa+27p3E+0/Z6yikArLWTuj2B2zJw+WlcSyQpErsAFZ/kyNMT341IXYBEJFOFw+GEFXwvqTiz/v/tQjnu4OHVtbmA2wowdOjQpNQo0lvSrQXgaNvr9ribfwCstc24rQAAV7W9tj/hP9FKSaWdjhNJefv37/e2k90CEH9uEZFMsm7dOlpaWgAYUBBjQKFz1ueKDw9Lliw559pEelu6BYDNba91J/i8PSAUdDp+fOcDjTFB3AHFUWB7sgoU6UlNTU0cO+bmVWtysKFzn37OyVUAEJHM9+67HR0Dzvbpf7uL47oPrV69mubm5nM6n0hvS7cAsBD3hn2cMSa3m88vbHvd2fY6r+31lm6OvQEoBN6x1rYms0iRnhJ/g25zi92lKc+RzS3GtvWGq62tpbVV/xxEJLNYa3nnnXe8/Usqzq7/f7vKAoehRe4MQpFIhJUrTzRPiEhqSqsAYK2tBV7C7dLzvfjPjDE3Ax/D7c7TPu3ny0At8HljzBVxx+YD/9G2+4seLlskaRIHAJ97/38AcnKwuR0tCQcPHkzOeUVEUsTOnTu9n5/5AYeJ5ecWAAAuq+xoRYgPFyLpIK0CQJtvAluB7xhjFhpjfmyM+RMwA3fF3/uttXUA1tp64H7cwcPzjTG/Nsb8D7AG+ABuQHjJj29C5Gwkewag7s6lgcAikmnefvttb/viigjBJNz9XF7ZESLeeecdYrHYuZ9UpJekXQCw1h4ErgYeA4YB38Bd8OsN4Hpr7Z86HT8FuBG3+9BngK8DEdwg8Xlr7SlnABJJFcmeAajjXAoAIpK54gPA5ZXn1v+/3ajSKH1y3YHEdXV1bNiwISnnFekN6TYNKADW2iO4N/DfPM3j3wY+3qNFifSChBaAXLUAiIicyoEDB9i40V3rM2DsOff/b5dj3DDxVk0+AIsWLeLiiy9OyrlFelratQCIZLP2JewBnPzSkxx5ZuIDQPw1RETS3cKFC73t88sjFIWS1/B/Rb+O1oQFCxagTgWSLhQARNKE4zgJK/UmdwxAR5hQABCRTLJgwQJvO/6GPRkmlkcoCrrdgA4ePMimTZuSen6RnqIAIJImamtriUTcpmsnmAfBvKSd28nvCBM1NTU4ztkvkCMikioOHjzI+vXrATBYJiU5AARz4PK4c7711ltJPb9IT1EAEEkTu3fv9rZt/okWtz5LwXw3VAAtLS0cOnQouecXEfFB/A35xPIIpbnJ76JzVf+OADBv3jw9QJG0oAAgkibiA0As2QEAcOLOGX8tEZF0NXfuXG/7AwOS+/S/3QXlEUpC7k1/bW0t69at65HriCSTAoBImoi/KXfyy5J+/vhzKgCISLrbvXs3W7ZsASBobNL7/7cL5iS2AsSHDpFUpQAgkiZ27NjhbTsFPdACEHfO+GuJiKSjOXPmeNuXVIaTOvtPZ9cMaPW258+fTzjcM2FDJFkUAETSgLWWrVu3evtOQd+kXyP+nNu2bUv6+UVEeovjOLz55pve/rVn0P3nr+dVeH9O17g+USrz3ZWAGxoaeOedd06/WBEfKACIpIEDBw7Q2NgIgA3kYnOLkn4Np7AjAGzfvl3L2otI2lqzZg0HDhwAoCjocGmSVv89kRwD1w3saAWYOXNmj15P5FwpAIikgfin/7HCvmBM0q9hQwU4oQIAWltb2bt3b9KvISLSG+JvwD8wsJVQL9ztXDeoIwAsW7aMw4cP9/xFRc6SAoBIGohfXMYpPP1m6TMVf24taCMi6aixsTFh9d/r457M96T+BQ4TytrWanEcZs2a1SvXFTkbCgAiaeD999/3tmPF/XrsOrGijnNv3Lixx64jItJT5s6dS0tLCwBDi6KMLOm97ozXx7UCTJ8+HWt7buCxyLlQABBJcbFYLOFpfKyof89dq7jj3PGhQ0QkXbzxxhve9k2DW3uix+QJXdW/lfyAuybAnj17eO+993rv4iJnQAFAJMXt3LmTpqYmAJxgQY8MAG4XK6r0trdu3epdV0QkHVRVVbF582YAQjmWa3up+0+7vEDigmPxYUQklSgAiKS41atXe9uxkgE9MgDYE8wjVlAOuH1Y9fRKRNJJ/A33pH5hintw7v8TuXFwi7f91ltv0dDQ0Os1iJyKAoBIiksIAKWDevx6sZKOa6xZs6bHrycikgwtLS3Mnj3b279pUMtJju45o0piDC+OAhAOhxMWJBNJFQoAIiksFouxdu3ajv2SXggAcSEjPnyIiKSyBQsWeOul9C+IMaE86ksdxsBNca0A06ZN02BgSTkKACIpbNOmTRw/fhwAJ1SAk9+nx68ZLRmIxe1mtHnzZurq6nr8miIi5+r111/3tm8a3EJOLw7+7ewDA8Lk5rg3/du2bdO0ypJyFABEUti7777rbcf6DO3Z/v/tgnk4bVONWmtZtmxZz19TROQc7Nq1i/Xr1wMQMDZhOk4/FIUsV/XvqEGDgSXVKACIpLAlS5Z429E+w3rtuvHXiq9BRCQVzZgxw9u+tDJMn1z/u9zcOLgjAMybN4/m5mYfqxFJpAAgkqIOHjzI1q1bAbAmh2ifwb127WjZUG972bJlRCKRXru2iMiZiEajvPnmm97+jT4//W83vk+UgYXuImRNTU0JqxOL+E0BQCRFLViwwNuOlQyEQG6vXdsp6IuTWwzA8ePHWbVqVa9dW0TkTCxdupSjR48CUJbrcFHf1HhgYQzcEDcT0fTp032sRiSRAoBIiooPANHykb17cWOIlo/othYRkVQyc+ZMb/v6QS0EUujO5rqBreQYtzvS2rVr2bdvn88VibhS6J+JiLSrra31BrRZEm/GT1fJ8t96f85GpO8ob3vx4sVEo/5MqSciciINDQ0J45Su6+WVf0+lLM8mtEhoTQBJFQoAIilo7ty53nasZCA2VNDrNThF/XBCRQDU19ezfPnyXq9BRORkFixY4I1RGlUSZVCR43NFXV07oCOUzJ49W2sCSEpQABBJQbNmzfK2oxVj/CnCGKIVo73d+JpERFJB/BP1D6TY0/92l/cLkxdwb/p3795NVVWVzxWJKACIpJxt27axbds2AKwJEOnt/v9xInHhY/Hixd6iZCIifjt8+LC3UrrBck3/1AwAeQGYVBn29ufNm+djNSIuBQCRFBM/nV20fDgEe2/2n86cwr7ECvoCEIlEmD9/vm+1iIjEe/vtt73uNBPKopTlpW7XmqvjugEtWrRI3YDEdwoAIikkEokkdLWJVIz1sZq2Gio7atBqliKSKhYtWuRtT+oXPsmR/rugPOJ1A6qurmbXrl0+VyTZTgFAJIW8/fbb1NXVAeCEioj1GeJzRRCtGIs17o+KjRs3et2TRET8cvz4cVavXu3tX57iASA3ABf37ahx8eLFPlYjogAgklLin7BH+o0D4/8/URvKJ1rWMQ2pWgFExG/Lly/3piYeWRKlMj/1Zv/pLL6V4u233/axEhEFAJGUUV1dzYoVKwCwQKRyvL8FxYn066jlzTffpLm52cdqRCTbtf+sBLi0IrWf/re7uCKCwe0GtHnzZhoaGnyuSLKZAoBIinj99de9gWGxPkOxecU+V9QhVjoYJ68EgMbGRs1iISK+sdYmBIAL4hbaSmXFIcuokhgAjuOwZs0anyuSbKYAIJICWltbmT59urcf7j/Rx2q6YQzh/hO83SlTpmgWCxHxRXV1NQcOHAAgP2AZU5o+q5RfEDcOID7EiPQ2BQCRFDB//nzq6+sBcHKLU2Lwb2eRynFYEwCgqqqK999/3+eKRCQbxQ/+nVAWIZhGdzLxrRWrVq3ysRLJdmn0z0YkM1lr+fOf/+ztR/qflxKDf7sI5iesDPzqq6/6WIyIZKv169d72xPK06P7T7uxpVECxm093bNnjzfrm0hvS8G7DJHssnHjRjZv3gy0rfxbeZ7PFZ1YfNek+fPnc+TIER+rEZFstGHDBm97XJ/06f4D7nSgI0s6alZLqvhFAUDEZ/FP/6MVo7GhfB+rOTmnqJJYUX8AotEo06ZN87kiEckmdXV17N27F4CgsYwoTq8AADC2jwKA+E8BQMRHR44cYf78+d5+yg3+7UZ4QEeNU6dO9ebiFhHpafE3zCNLouQGfCzmLMW3WsR3ZxLpTQoAIj6aNm2adwMdK+qHU1Tpc0WnFi0fiRMsAKC2tlYrWopIr2nvLgkwOo1m/4kXX3dVVRWOk/qLmEnmUQAQ8Uk0GmXq1KnefnjA+T5WcwZyAu5A5TYaDCwivWXLli3e9qiS9AwAFXkOJSH3pr+xsZGamhqfK5JspAAg4pPFixdTW1sLgBMsIFo+0t+CzkCk3wSsMQCsXbuWbdu2+VyRiGSD+AAwsjTmYyVnz5jEgcDxrRoivUUBQMQnU6ZM8bYj/c+DnPTpzGpzCxMCy2uvveYIcAPIAAAgAElEQVRfMSKSFQ4fPszhw4cByM2xDCpMzwAAiQEgPtSI9BYFABEf7Nq1y1sG3mKI9EvdqT9PJBI3YHnWrFk0Njb6WI2IZLr4J+UjSqLkGB+LOUcjSzrCiwKA+EEBQMQH8X3/o2XDsblFPlZzdmLFA4gVlAHQ0tLC7Nmzfa5IRDJZJvT/bzeqUwuAtdbHaiQbKQCI9LKWlhZmzpzp7Uf6T/CxmnNgDJF+HbW/9tpr+iUmIj0mof9/mgeAinyH4riBwNXV1T5XJNlGAUCkly1cuNDrLuPklRIrHexzRWcvUjEWmxMEYMeOHWzatMnnikQkE1lrE7oAxXehSUcaCCx+UwAQ6WVvvPGGtx3pN979TZCugrlE+47yduO/NxGRZNm/f783ADg/4DC4KL0DAMCYuPUANmzY4GMlko0UAER60Z49e1i7di3QNvi3cqzPFZ27SOV4b3vu3Lk0NTX5WI2IZKL4FXPHlqb3AOB2WhFY/KQAINKL4vv+R8uGYUOFPlaTHLHi/sTy+wDQ3NzMggULfK5IRDJN/A3yuLL07v/fbmyfKAZ33NTWrVv18ER6lQKASC9xHIdZs2Z5+9HKcT5Wk0TGJHwvmg1IRJKtveUUEp+cp7PCoGVoW1cmx3HUCiC9SgFApJesWbOGQ4cOAeAE84n2GepzRckTqRhD+/w/q1ev5sCBA77WIyKZY//+/ezcuROAUI5lXJ+IvwUl0cTyju9l6dKlPlYi2UYBQKSXvPnmm952tO/otFr591RsbpE3m5G1ljlz5vhckYhkivgb4wllEfIy50cnl1R0BIAlS5b4WIlkGwUAkV7Q2trKokWLvP1IxRgfq+kZkYqOAc0KACKSLO+++663HX/DnAkmlEfIC7jtp9XV1ezZs8fniiRbKACI9IJ3333XG+Dl5JXiFFX6XFHyRctHYNtaNXbs2MH27dt9rkhE0l1DQwOrVq3y9i+tDPtYTfKFcuCCuG5ACxcu9LEaySYKACK9YN68ed52pGJ0es/9fyKBENGy4d7u3LlzfSxGRDLBvHnzCIfdm/7hxVH6Fzg+V5R8V/Zr9bZnzJihFdWlVyQ9ABhj+hljHjTGPGGM+XWn968yxhQk+5oiqez48eMJTdjRvqN9rKZnxX9vc+fO1S8yETkn8YsL3jCo9SRHpq8r+ocpCLjBZu/evaxbt87niiQbJDUAGGP+FtgJ/Bz4OvA3cR8PAN4FvpDMa4qkurfffptIxG3ijRX2xSko87minhPtMxQbyAXcmTs2bdrkc0Uikq62bt3Kli1bAHf2n2sHZmYAyAvANQM6ujZNnz7dx2okWyQtABhjbgaeArYAdwC/iP/cWrse2ADcnqxriqSD+O4/mfz0H4CcANHyEd5u/PcuInImXn75ZW97UmWY4lDmtijeOLjF2543bx61tbU+ViPZIJktAP8M7ANutNZOBQ52c8w64PwkXlMkpR07dowVK1Z4+5G+o3yspndE4kLOW2+9heNkXp9dEelZe/fuTVg48SNDW05ydPobVRJjdIm7wFkkEuGFF17wuSLJdMkMAFcA06y19Sc5Zi8wMInXFElpCxYsIBZzV3qMFfXD5pX4XFHPi5UOwgnmA1BbW6v+rCJyxp577jnv4cEF5WHOK8uM1X9PxBi4Y3STtz9t2jQOHuzuOapIciQzAOQCjac4pgyIJfGaIiktfj78SEWGd/9pZ3KI9h3p7WpNABE5E7t27UqYRezTo5t9rKb3XNw3wthSd7xYJBJh8uTJPlckmSyZAWAnMOkUx1wNbE7iNUVS1oEDB7yn3xaT+f3/40T7dix0tmDBAm8aPxGRk7HW8sQTT3hP/y+uCDOuT2Y//W9nTGLYeeONNzSRgvSYZAaA14DrjTGf7e5DY8zfABcDryTxmiIpK/7Jd6x0MDaUPTPgxor74+QWA+5CPkuXLvW5IhFJB2+88Ya38JfBcmdct5hscEF5hPPL3QcmjuPwox/9yJtFTiSZkhkA/gfYDfzBGPMS8AEAY8zX2vafAqqA/0viNUVSkrWWGTNmePuRijEnOToDGZPQ5UnT2onIqRw8eJAnn3zS2//48BZGlmRXr2Fj4G/OayQ3x53xaMeOHTz//PM+VyWZKGkBwFp7FLgRWAx8FvgLwAD/27b/DvARa+2pxgmIpL1169axd+9eAGwgRLR8pL8F+SBSOd7bXrp0KYcOHfKxGhFJZdZafvKTn9DU5D7xH1gY445R2fX0v92AQofPjun43p9//nmqqqp8rEgyUVIXArPW7rbW3gRcCjwEPIq7INiV1tobrbXVybyeSKqKX70y0ncMBII+VuMPm19KtGQQ4DZlz5w50+eKRCRV/e53v/O6ChosX55wnNyAz0X56OahLYzr07aAZCzG97//ferq6nyuSjJJUgNAO2vtOmvtr6y1/2Wt/bm1dmVPXAfAGPMlY4xt+/PlExxzmzFmvjHmmDHmuDFmqTHmnp6qSbLb4cOHeeutt7z9SL/xJzk6s8V/71OnTiUazY7BfCJy+ubPn88zzzzj7X9sWAvjM3zaz1PJMfDlCcfJC7hdgWpqavj+97+v8QCSND0SAHqLMWYY7piC4yc55mvA68CFwPPA08Bg4FljzI97o07JLq+++qr3QzpWVIlTWOFzRf6Jlo/w1gQ4dOiQVgYWkQRbtmzhv//7v73988vD/NWY7Oz609mgIocHz2/w9teuXcsTTzyBtZm7IrL0nqT1SzDGfO80DnOAemAjsMBae9ZzAxpjDPAMcBj4M/CP3RwzEvgxcAS4wlq7s+39fwOWA/9gjHnFWvvu2dYhEq+pqYkpU6Z4++GBF7mjurJVTpDIgPPJq3Zn9XjxxRe5+eabMdn830REAHfQ77e//W1aW1sBGFAQ4+sXHieY1o8mk2tSvwifHd3In7YXAe4CYcOHD+ev/uqvfK5M0l0yOyb/AIiPpfG/4Tu/b4HDxphvWGtfPMvrfQP4MHBT22t37gPygB+13/yDO2DZGPNfwG+ABwEFAEmKqVOncvy42yDl5JUQLR/hc0X+C/efSO6+dRgnyvbt23n33Xe59tpr/S5LRHy0f/9+vvnNb1JbWwtAYdDhmxfXUxTS0+3ObhvRQnVjkHcO5AHw5JNPYozhs5/tdtZ1kdOSzJz9Idy1ACK4N9b3Are2vf627f0puDMC/RDIByYbY64/0wsZYya2neMJa+3CkxzaHgy6G304o9MxIufk6NGjCSs3hgdeCEaPsgjmEel3nrf7i1/8Qv1YRbJYdXU1Dz/8MDU1NQAEjOWrFxxnUJHjc2WpyRi4b8Jxb1AwwM9//nN+//vf+1iVpLtk3p2MAG7GnfHnK9ba31lr32x7vR93FeCPAQXW2u8AH8RtCejSdedkjDFBYDLumgPfPsXh7XcdWzp/YK3dBzQCQ40xhadx3ZXd/QEmnEn9krl+85vf0NjoznLr5JcmTIOZ7cKDLsYGcgHYs2cPr776qs8ViYgfdu/ezcMPP8yBAwcACOVYHr6ogYsq9FDgZHID8I+XNCSEgKeeeornnntOYwLkrCQzAPw98Edr7XvdfWitXQv8Cfhm2/57wBu0LRh2Br4HXAbca61tPsWxfdpej53g82OdjhM5K1VVVQlTf7YMuxpysngOu05sqIDWwZd6+8899xxHjx71sSIR6W1VVVU8/PDDXrefUI7lkYsauLRSN/+noyBo+adL6plY1vHf65lnnuFXv/oVjqPWEzkzyQwA5wH7T3FMDR1P5cFdGbjsdC9gjLkK96n/T5I0cLd9nMIp47O1dlJ3f4BNSahD0lhTUxP/+Z//6T2FifYZSqxsmM9VpZ5I/4nE8t2s3djYyA9/+EP90hLJEnPmzOFrX/uaF/xzcyz/cEm9nvyfofwgfPOSei4s75hD5cUXX+Tb3/42DQ0NJ/lKkUTJDAANnPpp/rUkTtlZ1PZ1pxTX9WcL8N3TrOlUT/hL217rT/N8Igmstfz0pz9l586d7r4JuE//paucAK3Dr/F2ly5dqiXuRTJcNBrlySef5D/+4z+82X4KAg7/dGk955dn91z/ZysvAI9c3MClFR0hYMmSJTz00EPe7yKRU0lmAJgO3GiM+S9jTFH8B8aYImPMfwM3tB3X7kJg52mevxgYD0wEWuIW/7LA99uOebrtvcfb9je3vXbpjG2MGYQbQPZaazXpsJyV1157jTlz5nj7LSOvxRaoR9mJxPoMoXXgRd7+M888w4oVK3ysSER6Sl1dHd/61rf44x//6L03qDDKD644xnlZvtDXucptCwGfGN7RE3rv3r089NBDLFq0yMfKJF0kMwD8C+7A3H8G9rStvPuSMWY+sKf9fdoG7rbdgI/FnRnodLTizi7U3Z/Vbccsbttv7x7UvurQLd2c79ZOx4ickeXLl/Ozn/3M2w9XjidaOc7HitJDeOgkoiUDAbcF5d/+7d/Ytm2bz1WJSDKtX7+eBx54gFWrVnnvXVYZ5gdX1Gu2nyTJMfC5sU383QUN5Oa4XVCbm5v57ne/y1NPPUU4fNZLLUkWSFoAsNbuB64CnsWde/8G3Ck/b2jbfxa4qm32Hay1+6y1Q6y1/36a52+21n65uz/A1LbDnmt776W2/Wdwg8PX2hYFA8AYU07HDEK/PNvvWbLXwoUL+Zd/+ReiUfcpVqywgtYR15ziqwQAk0PLmJtwQgUA1NfX88gjj/D+++/7XJiInKvW1lZ+8Ytf8PWvf92b6Qfg06OaePiiBgqCmrEm2a4ZEOZ7VxyjX37Me+/3v/89Dz74IFVVVT5WJqksqZOUW2sPWWv/Fndg78XA9cAlQJm19j6g1hjzqWRe8xT17AD+CegLrDDG/NwY8xiwDhhD8gYTSxaZOXMmP/jBD7ybfye3iOaxH4acZK6rl9lsqJDmsR/BBkIANDQ08A//8A+sXr36FF8pIqlq48aN3H///bz00kvepAgFAYe/v7ie20c1k6MFwHvM8OIY/3rlMS7s2/HUf/v27Tz44IM8++yz3u8rkXY9skqRtTZirV1vrX27bbrPwcaYf8ftIvTnnrjmSWr5P+CTwAbgr4Gv4M5WdK+19ozWIJDsZq3llVdeSZi9xskvpWnCJ7B5JT5Xl36c4v40nXcrTtBd3bK5uZlvfetbLF682OfKRORMhMNhnn76ab761a+ye/du7/0Ly8P859XHuEzTfPaK4pDlHy9p4O5xjV6XoFgsxrPPPstDDz3E9u3bfa5QUkmPPbI0xgSAT+HecH8UN2xYYM7Jvu5sWGt/APzgJJ+/Drye7OtK9jh69Cg/+clPEm5OYwV9aT7vY9i2rixy5pyiSponfJyCzW+SE2kiEonw6KOPcvvtt/PAAw9QUKD/tiKpbO3atTz++OPs2LHDey8/YLlrbCM3DW7F6Kl/r8ox8BfDWri4IszTG4upOua2slZVVfGVr3yFL37xi9x1113k5+f7XKn4LektAMaY0caY/8Id8Psn3NWBDwP/AYy21n4s2dcU6UkLFy7k3nvvTbz5L+pH04RbdfOfBE5BOU0TP4GTV+y9N2XKFL785S+zfv16HysTkRM5cOAA//qv/8rDDz+ccPM/sSzCf15Vx4eG6ObfTwMLHb5zeT13jW0k1NYaEI1Gee6557jnnnt46623tIJwlktKC0DbHP134D7t/xBusAjjdvf5DPCatfZ7ybiWSG9paGjgf//3f5k9e3bC++F+E2gddiW09V+Xc2fzSmia+Jfk7XybUJ3bhaC6uppvfOMbfO5zn+Pee+8lLy/P3yJFhNbWVv7whz/whz/8wZvXH9yFvT43tomPDGlRX/8UkWPg1uEtXNLWGrCt3v2d1R7epkyZwte//nXGjh3rc6Xih3MKAMaYccD9wD1AJe7KuqtwZ/z5vbX2iDFG831JWolEIsycOZPnnnvOW7IewAkV0jLqemJ9hvhYXeayoQJaxn6E6OGt5O9egolFcByHP/zhD7zzzjvcd999XH/99eTk9MjQJRE5CWstCxYs4Be/+EXC7D4A1/Rv5XNjm6jI16/7VDS4yOG7k+pZUJPHy9sLaYi4P0PXrl3LV77yFW677Tbuu+8+ysrKfK5UetO5tgBsxu3XfxB4DHjGWrvhnKsS8UE0GmXmzJlMnjy5yy+4SMUYWoZfA0E9he5RxhCtHEdjySDydy4iWL8PgF27dvH973+fMWPGcO+993Lddddh1L9ApFds2LCBp556irVr1ya8P7w4ypfGN2pRrzSQY+BDQ1q5qn+YKTsLmLM3n5g1OI7D1KlTmTdvHnfffTd33HGHWluzRDK6AFnc1X1f1s2/pKNoNMqsWbOYPHky+/btS/jMCebTOvJaouUj/SkuS9m8YprH30Lo4Eby9q7AOO4NxrZt2/jud7/L2LFjuffee/ngBz+oICDSQ6qqqvjNb37DkiVLEt4vCTncObqJGwe3qrtPmikKWb44rombBrfyQlUh64/kAnD8+HF++ctf8qc//YkvfelLfOITnyAUUjfXTHauAeC7wH3A3wD3GmM243b/mdy+4JdIqgqHw8ydO5fJkydTU1OT8JkTzCcy8ELC/Seqr79fjCEy4HyifUeRu389oYMbvSCwdetWHn30UcaPH88999zDNddcQyAQ8Llgkcywa9cunnnmGebPn5/wfo6xfHRIC3eMaqYopAGk6WxIUYx/uqSB1bUhfr+1iIPN7s/Pw4cP8/jjj/Piiy9yzz33cPPNNxMMao2bTGSSMQrcGPMx3LEAfwmEgBgwC3gOeBH4tbX2K+d8oRRkjFl5+eWXX75y5Uq/S5HTtH37dt544w1mz55NfX19wmc2kEd40IWE+5+f9jf+Jct/6203XHmfj5Ukh4k0k7vvPUKHNmKcWMJn/fv359Zbb+WWW25h0KBBPlUokt727dvHs88+y+zZs721TgAMlmsGhLljVBMDCzO/n/9fz6vwtn/34cM+VtI7og4sqMnjtZ2F1IUTx1gNGzaM++67jxtvvFHjr1LEpEmTWLVq1Spr7aRzOU9SAoB3MmP647YIfBkYjds9CGAl8JC1NuPukhUA0kNjYyPz5s3jjTfeYNOmTV0+t4FcwgMvIjwgvW/842/6TyTdw4CJNLlB4OAmjE0MAsYYJk2axMc//nGuu+46cnNzfapSJH3s27eP3//+98yYMaPLirGT+rXymVHNDC2OneCrM0P8Tf+JZHoYCMdgbnU+r+8q4Hgk8WZ/zJgx/PVf/7UmYkgBKRkAEk5szEdwpwX9FJCLGwbW4bYG/LxHLuoDBYDUZa3lvffeY/r06cyfP5+WlpYuxzi5xUT6nUd4wEQIpP/NYjYEgHYm0kTu/g0Ea6vIiXb9f1taWsrNN9/MJz7xCUaPHu1DhSKpbc+ePbzwwgvMnj2bWCzxBv+ivmE+M7qJ0aWZfePfTgGgQ3MU3txTwIzd+TTHEm/2R44cyd13381NN92krkE+SfkA4F3AmErgXuBvgfMAa63NmM66CgCpxVrL9u3bWbRoEXPnzmXPnj1djzE5RMtHEKkcT6x0MJm0Wk02BQCPEyNYt5tQ7RYCx6rp7v/mhAkT+NCHPsT111/P4MGDe71EkVSyfft2XnjhBd56662Erj4A5/WJ8JnRTUwoz66ZfRQAujoeMUzfXcCsPfmEncSfrEOGDOHuu+/WGAEfpE0ASLiYMTcBX7bW3t1rF+1hCgD+cxyHDRs2sGjRIhYvXtxlQG+7WEE5kX7jiVSMgWBmLoOelQEgjmk9Tqi2ilBtFTnh490eM2bMGK677jquv/56xowZo1mEJGts2bKFyZMns2jRoi6fTSyL8KmRTUwsj2bSM5HTpgBwYvVhw8w97tShLbHEvxwDBgzgC1/4ArfccoumD+0laRkAMpECgD8ikQirVq1i8eLFLF68mKNHj3Z7nM0JEakYTaRyPE5RZUY97e9OtgcAj7UE6msI1W4heHQXxnY/cHHw4MFcd911XHfddVxwwQWaSUgy0vr163n++ee7TOcJcHHfMJ8c2cz4LJ/LXwHg1I5HDLP25DNrbz5N0cSuQZWVlXzuc5/jtttuo6CgwKcKs4MCQIpQAOg9TU1NLFu2jEWLFrFkyRIaGxu7Pc7mhIiWDSNaPoJon6FpPaj3TCkAdCPaQvDobkJHdxGor+kycLhdeXk5H/zgB7n++uu57LLLNIBY0pq1lpUrVzJ58uQuC3gBXF4Z5pMjs6eP/6koAJy+5qhhzt48Zu4p8FYVbldaWsqdd97JHXfcQUlJiU8VZrZkBQB13JKU5TgO27ZtY9myZSxfvpz169d3maHCOzaYT7R8ONGyEW6//hw9yZU2wXyi/cYT7TceYhGCx/YSPLqLYN0ejBPxDjt69CjTpk1j2rRp5Ofnc+mll3LVVVdx5ZVXMnToUHUVkrTgOA7vvPMOzz//fJcZzwyWK/u7T/yHZ/isPtJzCoKWvxzZwl8Ma+Gt6nym7y7wpg+tr6/nt7/9LS+99BK33347d955J+Xl5T5XLN1RAJCUcvToUVasWMHy5ctZvnz5Cbv2gDuDT7R8BNHyEcSK+4PR1GRyCoEQ0b6jiPYdBU6MQH0NwbpdBI/uTphJqKWlhSVLlnhdJgYOHOiFgcsvv5yioiK/vgORbkWjUebPn88LL7zAjh07Ej7LMZZrB7Ry24hmBhdl/jz+0jvyAnDL8BY+PKSFRfvyeGN3AbUt7sO3xsZGXnjhBV5++WVuu+02Pve5z9G/f3+fK5Z4CgDiq2g0yoYNG7yn/Fu2bDnp8bGCcu+m3ynom/F9+qUH5QSIlQ0jVjaM1hEOgeMH21oGdpPT2pBw6P79+5k6dSpTp04lEAhwwQUXeIFg3LhxmhdbfBONRpkzZw6/+93vukyAEMqx3DColY8Pb6ZfgW78pWfkBuAjQ1u5cXArSw7k8vquAvY1ubeXra2tvPLKK7z22mvceuut3H333QwYMMDnigUUAKSXWWuprq5m5cqVLFu2jNWrV9PU1HTC451gHrHSwUT7DCVWOgSbW9iL1UrWMDnESgYSKxlI6/CrMS31BOurCR7bS6B+H8bp6HoWi8VYt24d69at49e//jVlZWVcccUVXHHFFUyaNIl+/fr5+I1ItojFYsybN4/nnnuOvXv3JnyWH7B8eEgLtwxrpixP4/ykdwRz4LpBYa4dGGbloVym7ixg13H3NjMajfL6668zY8YMbrvtNr74xS/qZ6XPFACkxx09epRVq1axcuVKVq5cyYEDB054rMUQK+5PrM8QoqVDcIoq1LVHep3NLyWSX0qk/0S3q9DxgwSOVROsrybQlDgQsK6ujjlz5jBnzhwARowYwaRJk5g0aRKXXnqpugtJUjmOw4IFC3j22WfZtWtXwmdFQYe/GNbCzUNbKA7pxl/8kWPgyv5hrugXZt2REFN3FlB1zJ2MIxqNMmXKFN544w0++clP8oUvfIGKilMPwJbkUwCQpGtpaWHdunWsXLmSFStWsG3btpMe7+QWE+0zxL3pLxkMQc2+IikkJ0CsdBCx0kGEuQITaXbDwLFqAvXVXVYh3rVrF7t27eLPf/4zOTk5nH/++V4gOP/887VojpwVay2LFy/mmWeeYfv27QmfFQYdbh3mDsosCOrGX1KDMXBJRYSL+0bYeDTIKzsKvSAQiUR45ZVXmDZtGrfffjt33XUXZWVlPlecXfSbSM5ZLBZjy5Yt3hP+9evXE4lETni8zQkRKx1ItHQw0dKh2PxS9eWXtGFDBUQrxxKtHAvWktN02G0ZqK8h0HAwYZpRx3FYv34969ev57nnnqOgoIBLLrnE6y40cuRIzS4kp7Ru3Tp+9rOfdRkjlR9wuGVYCx8b1kKRnvhLijIGzu8bZWJ5Pe8dCfHn7YVsb+gYI/DSSy/x2muv8fnPf5677rpLC4r1EgUAOSuHDx9m2bJlLFu2jBUrVtDQ0HDCY60xxIr6u335SwfjFPUDDZqUTGAMTlEl4aJKGHQJxKIEjh8gWF/jBoJO3YWam5sTZheqqKjgqquu4uqrr2bSpEmaN1sSHD58mF/96lfMmjUr4f28gOUvhjZzy/AWSnTjL2nCGLi4IsJFfY+x5rAbBNrHCLS0tPDss8/y5ptv8vWvf51rr73W52oznwKAnJZoNMrGjRtZunQpy5YtO/VsPfllxPq4N/yxkkFZtRiXZLFAkFhbdzbA7S5Uv8+dbrS+hpzw8YTDDx8+zIwZM5gxYwY5OTlceOGFXH311Vx11VWMHTtWrQNZKhqN8uqrr/Lss88mLHiYm2P5yNAWPjG8mdJc3fhLejIGLquMcGnFMVbVukFgT6N7O7pv3z6+/e1vc8011/C1r32NoUOH+lxt5lIAkBM6cuQIy5YtY+nSpad8yu+ECrwn/JqtR8RlQwVEK0YTrRhNq7WY1gavdSBYX4OJhb1jHcfxZhd6+umnqaio8MKAWgeyx5o1a3jiiSe6zOV/Zb9W7hrXRGW+pvOUzGAMTOoX4bLKY8yvyeNP2wppjLq9A5YsWcLKlSv5/Oc/zxe/+EXy8/N9rjbzKACIx1rLpk2bePvtt0/5lN8aQ6x4ALE+Q4n2GYpTUK5+/CInY0zc7EITwDrkNNYSrNvjTjfaqbvQ4cOHmT59OtOnT09oHbjuuusYMWKET9+E9JSWlhYef/xxZs6cmfD+oMIYXxrfyIV9TzyuSiSd5Rj48JBWruwX5uXthcyvycNiiEQiTJ48mVmzZvHoo49y0UUX+V1qRlEAEPbs2cOcOXOYPXt2l4Vk4jmhQnc+/j5DiZZqth6Rc2JycIr7Ey7uT3jopLbZhfYSPLaX4LHqk7YOjBs3jo9+9KN8+MMf1lzaGeDAgQM8+uijVFVVee/lBSy3j2ziY8NaCGrIlGSBklzL30xo5MbBLfxuSxHb692uwwcOHODv//7veeSRR7jtttt8rjJzKABkqcOHDzNv3jzmzJnD5s2buz1GT/lFeo87u9A4opXjTtk6UFVVRVVVFb/85eyuQxwAACAASURBVC+57LLL+OhHP8oNN9xAcXGxT9XL2Vq3bh3f+973qKur8967qn8rXxjXRN88dfeR7DO6NMb3JtWzaF8eL251uwVFo1F+/OMfs3XrVr72ta9pOuUk0H/BLNLU1MSiRYuYPXs2q1atwnG6/nKxgRDRshFEy4brKb+IX07UOlC3m2DdXm+qUWstq1atYtWqVTz22GN84AMf4Oabb+bqq68mN1f/dlPd66+/zhNPPEE06q40HTCWL41v5MNDWn2uTMRfOQZuHNzKBeURHn+vhN1tswVNmTKFnTt38oMf/EDrBpwjBYAsUFNTwzPPPMPChQtpbe36i8WaHKJ9hhKtGEO0bBjk6K+FSCpJaB2IthI8uovQ4W0EGvbR3iYXiURYuHAhCxcupLi4mI997GN86Utf0i/JFPXkk0/yxz/+0dsvCTl846IGziuL+liVSGqpLHD47qRjPL2xmGUH3fUB1qxZw4MPPshjjz3GoEGDfK4wfelOL4M1Njby/PPP8/LLL3e7MFe0ZCDRijFEykdCUAtviKSFYB7RfuOJ9huPCTcSPLKd0OHtCd2Ejh8/ziuvvMLMmTO55557uOOOOwiFNBVvqli0aFHCzf+I4igPX9ygGX5EupEXgK9ecJzhxTFe3u7OMLh//35++MMf8thjj5GjdYXOigJABorFYsyYMYPf/OY3HD16NPGzgnL3pr/vaGye+guLpDObW0Rk4EVEBl5ETvNRgoe3ETq83VtvoLGxkSeffJLXXnuNv/u7v+Paa6/V2gI+q6+v56c//am3f2lFmK9e2EBewMeiRFKcMfDJkc0MKYryf+tLcKxh7dq1TJkyhU9/+tN+l5eWFAAyzJo1a/jZz37G1q1bE96PFfWjZfjVOMX9fapMRHqSU1BOeOgVhIdMIlC3h/w9y8hprQegurqa73znO0yaNImvfvWrjB492udqs9f//d//eQ9mynIdHjj/uG7+RU7TpH4RbhvezNRdbkvAU089xTXXXMPgwYN9riz9qN0kg7z22ms88sgjCTf/TqiI5tE30jTxNt38Z5mxY8dy1113MWbMGL9Lkd5kDLHy4TReeActw67CBjoGA69cuZL777+fZcuW+Vhg9nr33XeZPXu2t/83E45TFNKKvqlGPztT26dGuS0B4K6f8eMf/9jnitKTAkCGaGho4KmnnvL2bU6Q1sGX0XjRZ4hWjNH0nVlm7Nix/PKXv+SBBx7gV7/6lX6RZaOcAJGBF9J40Z2E+0/Atg0XjsVi/OxnP+t2FjDpWdOmTfO2PziwlcsqtbhXqtHPztQXyoH7Jx4nx7jhedWqVSddw0i6pwCQIV599VUaGxsBcPJKabzoM4SHXAYB9fLKRldeeaU3T3IwGOTKK6/0uSLxiw3l0zriWpouuB0bcAcC7969m4ULF/pcWfY5duyYt33T4BYfK5ET0c/O9DC6NMbI4pi3H7+OhpweBYAM0NTUxMsvv+zttw6+BJtb5GNF4rdly5Z5c4tHo1GWL1/uc0XiN6ewnHD/id7+5MmTsVbdT3pTc3Ozt50f0H/7VKSfnekjP9jxbyj+35acHj0ezgALFiygvt4d7OeECoj2VZNlttu2bRsPPPDA/2fvvuOkqu7/j7/O1O1LXZHiLqAIgjRBRQFRivKNgKKgkiioaBQTe4sFMRZ+ahQFxQ5K1BhLsEVNjBoTRaOCSO+9l11Y2L475/fHDLOzuPTdvVPez8eDx61z57OJe/d87j3nc+jevTs//PADy5cvdzokiQJlR7XHt3EuBsvy5ctZsGAB7du3dzqshKEEIPrp3hk7/G4lAEdCCUAcSElJCa+7yorw7FhDeYMc5wKSqLB8+XL98ZIqvFuXYKj8o5mcnOxgNImnoqKyy8LWYjdHpWgcRjTSvTP6BSxsK67sxLLnrY0cPHUBigO9evXi9NNPD28nrfovpnjnfj4hIonGnb8R3/pZ4e2LL75Y5UDrWLdu3cLrby9PIaCXACKH5X+bfazdHXyG7ff7OfHEEx2OKPYoAYgDLpeLO++8MzwltqkoI3np57h2b3U4MhFxnLXBeQGWfxl++t+xY0dGjx7tcGCJZ+TIkfh8wbKsK3d5+H6L7wCfEJG9lQXg7RWVPR8uvPBCGjZs6GBEsUkJQJxIT0/n/vvvx+sNVvlwF+8gdeGHJK34ClOy2+HoRMQJrsJckpf8g5Sln+EqD1adqV+/PmPHjg1XOpG6k5WVxQUXXBDefnt5CkXlKtEscig+XZPEtuLg7HkZGRlccsklDkcUm5QAxJE2bdpw22234XZXTivp3b6c1Lnv4ls3EypUc1okEZiyQvyrviZl/vt48ivrY6empjJu3DgaNWrkXHAJbsSIEWRkZADBcQCPzE6noExJgMjB+Nc6P2+vqKxyeNlll5GWluZgRLFLCUCcGTBgAK+++iq9evUK7zO2Av/Gn0md+w7erYshULGfK4hIzKoow7fhZ1LnvIMvYsCvy+Vi0KBB/PnPf6ZTp04OB5nY0tPTufbaa8PbK/K9jP8pg/xSJQEi+/PJmiSmLals7Ldp04bBgwc7GFFs0zvgONS8eXMeeOABZs+ezeTJk1myZAkQrBCUtOobfOtmUda4DWWNj8f6lTmLxDpXUR7eLYvwbluGCVR909e9e3euvfZaDfiNIgMHDqS0tJQJEyYAsGa3h4dnZXBnl3zq+TUyWCSStfD+qmT+trKy33+7du149NFHw2Nq5NApAYhjnTt35rnnnuOzzz7jxRdfZNu2bQC4yovwb/wZ38Y5lNdrQVlWOyoymoLREyiRmBEI4NmxGu+WhXh2bfrF4ZycHK699lpOOeUUB4KTAxkyZAh+v59HH32UQCDAhkIPD87K5IYTd9EiTW9pRQDKA/DmshT+ua6yZHGnTp0YP358lRLocuiUAMQ5l8vF2WefzRlnnMG7777L9OnTw4mAweLdsQbvjjUE/BmUZrWlrNFx4PE7HLWI7IspLcC7dTHerYtxlf1y8psWLVowfPhwBg4cqIG+Ue6cc87B5/Px0EMPUVFRwZYiN+N+zOSi1oX0b16sZzKS0DYWunh2fjqrdlXex7p168aDDz5IUlKSg5HFB/11SBBJSUn8+te/5qKLLmLGjBm89957zJpVWRPcVZJP0trv8a+fSXmDVpQ1Oo6KtKP0VkAkGtgA7p3r8W5dgmfHmiqTeUEw0e/ZsyfnnXceXbp0wej3NmacddZZ+P1+/vjHP1JSUkJZwPDa0lTm5nq5qt1uMnzqEiSJxVr4z0Y/f16SSmmg8l7Ws2dP7r33Xvx+PaSsCUoAEozH46F379707t2b1atX88EHH/Dpp59SUFAAgAlU4N22FO+2pQT8GZQ1Oo6yRsdifakHuLKI1DRX0Q4825bi3b6s2qf9DRs25Nxzz+Xcc8+lcePGDkQoNeH000/nhRde4IEHHmDZsmUA/Lzdx93f1+Oqdrvp2FAV3CQxFJQZpi5O5fstlY18r9fLb3/7W4YOHYrLpdo1NUUJQALLzs7m97//PaNHj+bzzz9n+vTpVaY/d5Xk418/E9/6WVRkNqWs0XGU18sGl3s/VxWRI1JRijd3Jd6tS3EXbKn2lC5dujBkyBB69uypbj5xIjs7m8mTJ/PSSy/x1ltvAbCz1MWffs6gX/MihrUqJFn/V0sc+3m7l6mLUsktqWxjZGdnc++993Lsscc6GFl80u1ESE5O5txzz+VXv/oVCxYs4NNPP+WLL76ofCuAxbNzPZ6d67FuH2UNW1PW6DgCqaolLlIjrMW9axPebUvw5K3CVFOqt0GDBgwYMICBAweSnZ3tQJBS23w+H2PGjKFbt26MHz+evLw8AP61LplZW31c1qaAro31NkDiy85Sw+tLUvluS9WuPYMHD2bMmDHq719LlABImDGG9u3b0759e6677jr++9//8sknn1QZK2AqSvFtWYhvy0IqUhpS1vh4yhq2ArdKcYkcKlNWFOxyt3UxrpJdvzjudrs57bTTGDhwICeffLKe9ieIk08+mSlTpvDII4/w3XffAZBb4ubJuRl0b1zCb9oUUF/lQiXGBUJ9/d9clkJheWXXnoyMDG677bYq8xlJzdNfE6lWUlIS/fv3p3///mzcuJFPP/2UTz/9lM2bN4fPcRdux716Bv6131PWoBVljY8PvhXQAESRfbMWd/4GvFsX49mxGmN/2ZBr1aoVAwcOpH///tSrV8+BIMVp9evXZ/z48Xz++ec8/fTT7NixA4AftvqZl+tleOtCzmxWgku3W4lBGwpcTF2cxuId3ir7BwwYwJgxY3TfqwNKAOSAjj76aC6//HJGjhzJ7Nmz+fjjj/nqq68oKwu+ijaBcnzbluDbtoSKlAbBtwINWoNHbwVE9jBlhaGn/UuqfdqfmppK//79GThwIG3atFElH8EYQ79+/ejevTvPP/88H3/8MQBFFS5eXZLGN5v8jGpbwDGaN0BiRGkFfLQ6mY9WJ1NuK+9xTZs25eabb6Zbt24ORpdYlADIQXO5XHTt2pWuXbty/fXX89lnn/Hhhx+yatWq8Dnuwlzcq7/Fv/YHyhq0pOyoEwikNHQuaBEn7enbv2XhPp/2d+jQgUGDBnHGGWeor6tUKzMzk9tvv53+/fvz+OOPs27dOgCW5XsZ+0MmA5oXc35LDRKW6DZnu5dpS1LZUlQ5yNflcnHxxRdz2WWX6f5Xx3S7kMOSkZHBBRdcwNChQ5k/fz4ffvghX375JaWlpcCetwJL8W1bSnlmM0qbdKQivYm6B0lisAE8eWvwbZqDu2DbLw6npaVx9tlnc+6559KyZUsHApRY1KVLF15++WVef/113njjDcrLywlYw6drk/nfFh+/Pq6Q7o1LdZuVqJJb4uKNpSlVSnsCtGvXjltvvZXWrVs7FFliUwIgR8QYQ4cOHejQoQO/+93vwm8FVq5cGT5nTwWhipRGlB59IuX1s8Golq/EoUA53m3L8G2ah6sk/xeHTzzxxPDTfk1mI4fD7/dzxRVX0LdvXyZMmMDs2bMByCtx8/S8dDo2KOXSNgUclRJwOFJJdBUB+Gx9En9bkUJxRWVWmpaWxlVXXcW5556L262y4k5RAiA1Jj09naFDh3L++eczf/583n77bf7zn/9gQ90e3IXbSF7+JQF/OqVNOlDW6Dhw6T9BiQPlJfi2LMS7eQGu8uIqh7xeL+eccw4XXHABOTk5zsQncSc7O5sJEybw2Wef8eyzz4ZLhs7J9XHX916G5BTxf8cU4dGzFnHAinw3UxalsWZ31b/xAwYM4JprrqFBgwYORSZ7qPUlNS7yrcC6det46623+OSTT8KDhl0lu0ha/S2+9T9R2rQzZVlt9UZAYlNFGb5Nc/FtmocJlFc5lJaWxnnnncfQoUP1x05qhTGGAQMG0KNHD1566SU++OADrLWUBQzvrEjhu80+rmxbQOvM8gNfTKQGFJfDuytT+OfaJCyVT/2zs7O58cYb6dKli4PRSSRjqxmUJgfPGDOza9euXWfOnOl0KFEtNzeX6dOn895777FrV9UKKBVJ9Shp0Z2KzOYaI3CE0n+YcsBzdnW/og4iiXPW4tm+DP+6H3GVFVU51LhxY4YPH86vfvUrUlJSHApQEtHChQuZMGECS5YsCe8zWPo1L+ZCzSS8X5d9ceBiFdPO2l4HkcSun7d7eXVxKtuKK7v1+P1+LrvsMoYPH47X693Pp+VgnXTSScyaNWuWtfakI7mObgdSJxo0aMCVV17JJZdcwscff8xbb73Fli1bAHAX7yBl6WeUZzSlpMXJBFL0tFSilzt/I/613+MurNoYyMnJYcSIEZx11lmasEsc0a5dOyZPnszf/vY3pkyZQnFxMRbDZ+uSmbnVx8jjC+jSSDMJS83a10y+J510EjfffDPNmjVzKDLZH/2VkjqVkpLChRdeyKBBg3j33Xd57bXXKCwsBMCTvwH3/Pcpa9yG0mZdsd5kh6MVqWSK8/Gv/R7vjjVV9jds2JDRo0czYMAADWgTx3k8HoYPH06vXr144okn+OGHH4DgTMIT5mRwalYJlx5fQLpXb//lyFgL32728eclqRTsNZPv7373O/r376/5TKKYEgBxhN/vZ8SIEQwcOJCpU6fy0UcfEQgEMFh8WxfjyVtFSc7plNfPcTpUSXTW4t2yEP/aHzC2csIlv9/PxRdfzEUXXaSuPhJ1jj76aB599NFfzCT83RY/C3d4Gd12N530NkAO065Sw6tLUn9R2lMz+cYOJQDiqPr163PzzTdz3nnn8eyzz4afVrnKS0he9gVljY6j+JhTwK1ZhaXumdICklZ+jSd/fZX9AwYMYPTo0WRlZTkUmciBRc4kPHnyZP7xj38AsLPUxeNzMujTtJhLji3Q2AA5JLO3eXl5URo7Syuf+jdp0oRbbrmF7t27OxiZHAr92ktUaNWqFY899hjfffcdjz/+OFu3bgXAu20p7vyNFLfqHZxITKSOeLavIGn1DExFaXhfq1atuP3222nbtq2DkYkcmszMTP7whz9wxhln8Nhjj4VLhv57QxLzc71cfcJujq+nSkGyf0Xl8MbSVL7aWHXG3nPPPZcxY8boTWiMUe1FiSqnnnoqU6ZMoV+/fuF9rtLdJC/6GN/aH8BqchupZRVlJC3/iuQV/w43/o0xXHzxxTz33HNq/EvMOu2005g6dSq9e/cO79ta7ObhWRm8tTyFCt1eZR+W53u45/t6VRr/DRo0YPz48dx6661q/McgJQASddLT07nnnnsYO3YsaWlpABjAv2kuyUv+AXtNtCRSU0xxPikLP8Kbuzy876ijjuLJJ5/kmmuuwedTVzSJbfXq1eP+++/n7rvvJjU1FQCL4aPVyYz/KYPcEjULpJK18OnaJB6cmcHWiPKeffr0YerUqfTo0cPB6ORI6DddotZZZ53F1KlT6datW3ifJ38jqfM/wFWoesxSs9w715G64APcRXnhfWeffTZTpkyhU6dODkYmUrOMMfTv35+pU6dy0kmVpcSX7PRy7/eZzNmueu0CBWWGiXPTeWNpKhU2WM0nNTWVe++9l/vuu4/MzEyHI5QjoYnAjpAmAqt9gUCAadOm8corr4T3WZeb4pxelDds5VxgUS5yUjBN/rUf1gZn8103E0Pwfuj1ern55psZOHCgw8GJ1K5AIMDrr7/O1KlTCQQq+wANyi5kaMsi3AnymFATgVW1It/N0/PSq0zqdfzxxzNu3DiOPvpoByOTmpoILKZ+tY0xDY0xo40x040xy4wxRcaYncaYr40xVxpjqv15jDGnGWM+NsbkGmMKjTFzjDE3GmNUtDsGuFwuRo0axYMPPhjuZ2gCFSSv+De+tT8G31GKHI5AOUkrvsK/7sdw479Ro0ZMnDhRjX9JCC6Xi0svvZQnnniChg0rG8Efrk7hkdkZ5Jeqjnui+WK9nwdmZlZp/F9wwQVMmjRJjf84ElMJADAMeBE4Bfgf8CTwLtABeAl4y+w164QxZgjwH6A3MB14BvABE4A36yxyOWI9e/bk2WefpUWLFuF9/k1zSFr2OVSonrUcGlNaSMrCj/HmrgjvO/HEE3n++edp166dg5GJ1L3OnTvz0ksvVelyuWiHl3E/ZrJml56VJYLyALyyOJVXFqdV6fLzxz/+kd///vcaAxVnYi0BWAIMBppba39trf2DtfYKoC2wFrgAGLrnZGNMBsGEoQLoY6290lp7G9AZ+Ba40BhzcV3/EHL4srOzefbZZzn11FPD+7w71pCy8CNMyS4HI5NY4tq9lZQFH+Au3BbeN3jw4F88BRVJJPXr1+eRRx7hiiuuCM/guq3YzR9nZvLDFjX+4ll+qeHR2Rl8sb6yyk+bNm148cUXq1SNkvgRUwmAtfYLa+2H1latBWmt3QQ8F9rsE3HoQqAx8Ka19seI84uBe0Kb19ZexFIb0tLSeOihh7j44srczV2UR8qCD3Hv2uRgZBILPNuXk7LoY1xlhUCwC8SNN97IzTffjNerwY+S2NxuN5dddhkPPfRQuMtlacAwaV46f1uRTEA9LuPOmt1uxv2YyaIdlfe/vn37MmnSJJo2bepgZFKbYioBOIA9fUAiZzM5K7T8tJrz/wMUAqcZY/zVHJco5na7ueaaa7jzzjvDjTZXeTHJiz7Bu2muxgXILwUq8K/+juQVX2FsBRAsOfvYY49x3nnnORycSHQ57bTTmDx5Ms2aNQvve29VCs/MS6O0wsHApEbN2uqt0t/fGMNVV13FPffcg9+vplE8i4sEwBjjAS4LbUY29o8PLZfs/RlrbTmwkuBsyAcsJWOMmVndP4Ldj8Qh55xzDhMmTKB+/foAGCxJa38gafkXUF56gE9LojClBaQs+gTflgXhfS1atODZZ5+tUgZRRCrl5OT84nfkh61+xv+kwcHx4J9rk3hqbjolFcH/L1NSUnjooYf49a9/zV7DKSUOxUUCAPw/ggOBP7bW/iNi/54itTv38bk9++vVVmBS+zp06PCLgZvevNWkLvgAV2Gug5FJNHDvXE/K/PdxF2wJ79szoLx58+YORiYS/TIyMnjkkUe44IILwvuW53v544+ZbCyMlyZEYglYeH1pCq8tTcUSbOg3bdqUyZMnc9pppzkcndQVj9MBHCljzPXALcAi4NJD/XhoecD+Ivuqtxp6C9D1EL9XalhWVhYTJ05k8uTJTJ8+HQBXST4pCz+kpMUplDU+HvREI7EEKvBt/BnfhtnhX3SXy8XVV1/NRRddpCdcIgfJ4/Hw+9//nmbNmjFp0iSstWwpdvPHHzO5seMujq9XfuCLRLnIGv+RcwLEW+3/kgp4bkEaM7dWdu854YQTePjhh6lXT89CE0lMp+/GmOuAp4AFwJnW2r0f9+55wr+v6eoy9jpPYpjX6+WGG27g3nvvJSkpWMnABCpIWj2D5KX/xJQWOByh1BVXYR4pCz/CH9H4b9CgARMmTODiiy9W41/kMAwdOpQHHngg3De8oNzFIz9l8L/NqhAUC/JLDf/vp4wqjf/evXszYcIENf4TUMwmAMaYG4GngXkEG//VlX9ZHFq2qebzHqAlwUHDK/Y+LrGrb9++PPfcc+Tk5IT3eXauJ3XedDzbl2uAcDyzAbwb55Ky4H3chZVP7jp37syLL75Ip06dHAxOJPb17NmTp556KjzuqtwaJs9P4x9rkw7wSXHS1iIXD8zMZHl+ZaWf4cOHM27cOA32TVAxmQAYY+4gOJHXbIKN/y37OPWL0PKcao71BlKAGdbakpqPUpyUk5PD888/z7Bhw8JPe01FKckrviJp+ZeYsmKHI5SaZorzSV70CUnrfsCEKgV7vV7GjBmj+v4iNaht27ZMnjyZY445BgCL4fWlqby5LEVlQqPQql3BuRw2F1VW+rn++usZM2YMLldMNgOlBsTc//PGmHsJDvqdCfS11m7bz+nvANuAi40x4ekNjTFJwIOhzWdrK1Zxlt/v57rrrmPChAk0adIkvN+bt4qUee/i3bpEbwPiQaAC34bZwTc8uzeHd++ZxGb48OH6IydSw44++mgmTZpE+/btw/s+XpPMCwvSKA/s54NSp+blenl4ViY7S4P3QK/Xy7hx4xg6dOgBPinxLqYGARtjRgJ/JDiz73+B66vpy7vKWvsKgLU23xhzFcFE4N/GmDeBXIKzCR8f2v/XuolenNK5c2emTJnCM888w9///ncAXOUlJK36Gu/WJRTn9CCQoqfDsci9cz1Ja77FVZwf3udyubj00ku59NJL8Xhi6hYnElMyMzN5/PHHeeCBB/jmm28AmLHZz85Sw/Un7iJZv36OmrHJx4sL06iwwXZSWloaDz/8MB07dnQ4MokGsfbr2TK0dAM37uOcr4BX9mxYa98zxpwB3A1cACQBy4CbgYnW6hFwIkhJSeG2226jV69eTJgwgc2bg0+K3QVbSJn/AWVHnUBJsy7g1mC2WGBKC/Gv/R/e3JVV9h933HHccssttG2r6TlE6kJSUhL3338/Tz31FB9++CEA8/N8jP8pk1s65ZPp059YJ3yyJom/LEsNbzdu3JhHH32Uli1b7udTkkhiKgGw1o4Dxh3G574B/q+m45HYc+qpp/Lqq6/y2muv8eabb1JeXo7B4ts8H0/uCkqad6e8YWuVDI1WgQq8WxbiX/8TJlAW3p2amsqVV17J4MGD9dRfpI55PB5uvvlmGjVqxNSpUwFYtcvDAz9mclvnfI5KUZ+guhKw8OayFD5dmxzel5OTw6OPPkpWVpaDkUm0UcdYSThJSUmMHj2al19+ma5dK6dwcJUVkbzyP6Qs/BD3rs37uYLUOWvx5K0mdd50ktZ+X6Xx369fP6ZNm8bQoUPV+BdxiDGGkSNHcuutt4bH3GwpDg4+XZHvdji6xFAegOcXpFVp/Hfs2JFJkyap8S+/oL+WkrCys7N5/PHH+eKLL3jmmWfIzQ1OI+Eu2EbKor9TVr8lJS26Yf3pDkea2FwF2/Gv/R+eXVUr/bZo0YKbbrqpShInIs4699xzqV+/Pvfffz+lpaXsKnMx/qdMru+wixMblh34AnJYisph0tx05uVVdmPt1asX99xzj8p8SrX0BkASmjGGvn378uc//5kRI0bg9VbWSPbmrSR17t/wrf0BKkodjDIxmdJCklb+l5QF71dp/KelpXHdddcxZcoUNf5FotDpp5/OE088QXp68OFJSYXhiTnpfLNJY6xqw85Sw/ifMqs0/gcPHqwa/7JfSgBECPYhv/rqq5k2bRpnnnlmeL+xFfg3zSV1zjt4Ny+AgPqy1rqKMnzrZ5E69x2825aGZ/J1uVwMHTqU119/nWHDhlVJ1kQkunTo0IGnn3463PWkwhqeX5DOx2uSVH25Bm0qdPHAj5ms2lXZoePyyy/npptuwu1W1yvZNyUAIhGOPvpo7rvvPp5++mnatWsX3u8qLyZpzXekzv8bnrxVmj+gNtgA3i2LSJ37Dv4NszGB8vChHj16MHXqrSp3jwAAIABJREFUVK6//noyMzMdDFJEDlZ2djZPP/10lcozby5L5Q1NGFYjVuS7eWBmJluKgw19l8vFrbfeysiRI6mmRLpIFRoDIFKNDh068Mwzz/Dll1/ywgsvhMuGuorzSV72BeVpR1HSojuBNA2sOmLW4t65Fv/aH3EX76hyqHXr1lx77bV069ZtHx8WkWiWlZXFxIkTufvuu5kzZw4A/1ibzM5SF1e3241HjyEPy9ztXibOS6ekItjQ9/l83HfffZx++ukORyaxQr96Ivvgcrno27cv06ZN45prriE1tbKmsmf3ZlIXfkTSsi8wEZNQyaFxFWwjefEnpCz9V5XGf6NGjbjjjjt44YUX1PgXiXHp6ek89thj9O7dO7zvu81+npiTTnH5fj4o1fp2k48n5lQ2/jMyMnjiiSfU+JdDogRA5AD8fj8XX3wxb7zxBhdeeGGVUpPevFWkztNA4UNVOcD3gyoDfFNSUhg9ejSvvfYaAwcOVB9WkTjh9/u57777GDJkSHjfvFwf/++nTPJL1V3lYP1zbRLPLkgPz+6blZXFpEmT6NChg8ORSaxRAiBykDIzM/nd737Hq6++Sp8+fcL7jQ1UDhTeuhisBgrvU6Ac34bZvxjg63a7Oe+883j99df5zW9+Q1JSkqNhikjNc7vd3HjjjYwaNSq8b8UuDw/OymRbkZoj+2MtvL08mdeWVr6JzsnJ4emnnyY7O9vByCRWaQyAyCFq1qwZ48aNY/78+TzzzDMsWLAACA0UXvUN3s0LKTnmFCoyjnY40ihiLZ7clfjX/YCrtKDKodNOO41rrrmGY445xqHgRKSuGGMYNWoU9evX58knn8Ray6bC4GDW27vk0yy1wukQo07AwquLU/lyQ+WDkfbt2zN+/HgyMjIcjEximRIAkcPUvn17nnnmGT7//HOef/55tm7dCoC7KJeUxZ9QVj+HkmNOwfpSD3Cl+OYqysO/agae3VVnV27ZsiXXXXed+viLJKAhQ4aQmZnJQw89RFlZGXmlLh6elcHtnfPJTlcSsEdFAF5YmMa3myvr+Z966qmMGzdOb0rliCgBEDkCxhj69etHz549+etf/8pf/vIXiouLgeD4AM/O9ZQ0P4myrLZgEuwVd6Ac34af8W2ai4noFpWZmckVV1zBr371qyrjKUQksfTp04eMjAzuvvtuioqKQrMGZ3Brp10cm6nRwWUBmDw/jZlbKxv//fv354477tC9U45YgrVIRGpHUlISI0eOZNq0afTv3z+83wTKSFrzHSkL/46rMNfBCOuWO38DqfPew7/x53Dj3+12M3z4cF577TWGDBmiP2AiQteuXfnTn/5EWloaAIXlLh6dncHCvMS+P5RUwFNz0qs0/gcPHswf/vAH3TulRigBEKlBWVlZ3H333Tz55JO0aNEivN9dsJWU+e+HqgXF75MtU1ZM0oqvSFn8Ka6SyvKoHTp04KWXXmLMmDGkp6c7GKGIRJv27dszYcKE8CR/xRWGP/2cwbzcxJztu6QCnvg5gzm5vvC+4cOHc9NNN+FyqdkmNUP/JYnUgs6dO/Pyyy8zcuRIvN7gHzGDxb9pLikLPsBVmOdwhDXPnb+BlPnT8W5fHt6XmprKzTffzMSJE6vMBioiEum4445j4sSJNGrUCICygOHJOeks3pFYT7vLAjBxbjoLd1QmP6NGjeLaa6/V7L5So5QAiNQSn8/H5ZdfzksvvUSnTp3C+93FO0hZ8AHeLYuCtd1inQ3gWzeT5MWf4iorCu8+88wzmTZtGoMHD9ZTKxE5oOzsbCZOnEhWVnCG9dKA4Ymf01mZnxjzgVSE+vzPjXjy/9vf/pZRo0ap8S81Tn+VRWpZdnY2Tz75JLfccgt+f7A/p7EVJK2eQdLyf0N57E4gZkoLSF70SbCvf2hfvXr1GD9+PPfddx8NGzZ0ND4RiS1NmzbliSeeoH79+gAUVbh47OcM1u2O7yQgYOHFhVUH/I4aNYpLLrnEwagknikBEKkDxhgGDRrE888/X6UrjDdvJakL3sNVuN3B6A6Pe+c6Uue9V6W8Z9euXXn55Zfp0aOHg5GJSCxr3rw5jz/+eLjG/e4yF4/MzojrycJeW5rCjIhSn8OHD2fkyJEORiTxLn5/m0SiUE5ODs899xyDBg0K73OV7CZl0ce4d21yMLJD49m+nOSln2EqSgBwuVxceeWVPPbYY3rqLyJHrFWrVjz66KOkpKQAsLPUxVNz0ymNwykC/r3Bz7/WJYe3Bw0apD7/UuuUAIjUMb/fzy233MK4ceNITQ1OEmYqykhe/A/cO9Y6HN2BeTcvIGnFV5jQ+IXGjRvz5JNPcumll+J2x/drehGpO23btuXhhx8O31dW7/YwZVFaXAyd2mPZTg/TFldOFtmnTx9uuukmNf6l1ikBEHFInz59mDhxYrivq7EVJC/7F56IKjpRxVp8638iac134f7+OTk5TJ48mY4dOzoamojEp86dO3P99deHt2ds9vOPdfExA+6OEsOkuemU2+AdtXXr1txxxx0qmiB1Qv+ViTiodevWPP300xx99NEAGGtJXvFVVCYBvg0/4d/wU3i7Xbt2TJw4kcaNGzsYlYjEu8GDB/N///d/4e03l6XEfHnQgIWn56WTVxpshmVkZPDggw+SnJx8gE+K1AwlACIOa9asGZMmTaoyODhp5de4dm91MKqqPLkr8W+YHd7u1q1blUF6IiK1xRjDjTfeSLt27QAIWMOURamUBxwO7Ah8sd7Pkp3BWv8ul4uxY8eGHwSJ1AUlACJRoFGjRjz11FPk5OQAe7oDfY6JqKvvFFdhLkkr/xve7t69Ow8//HB4cJ6ISG3z+Xzcf//94fvOxkIPn6yJza5AO0sN76yovH9eeumldOvWzcGIJBEpARCJEnteAaelpQHgKiskadnnEHCw7EV5McnL/oUJlAPBtxVjx47F5/Md4IMiIjUrKyuLyy+/PLz9/qoUthXHXjPmzWUpFJYH427WrBkjRoxwOCJJRLH3myMSx5o3b87YsWPDg8A8u7fg2zjHsXiSVn+Hq2Q3AMnJyTz00EOkp6c7Fo+IJLbzzz+f1q1bA8GZgt9YGltvIpfs8PDNpso3FzfccEN4gkiRuqQEQCTKnHzyyVx11VXhbd+mOZjSgjqPw7VrM97cFeHtu+66K9xFSUTECR6PhxtvvDG8/eNWP5sLY6cp88naysZ/7969Ofnkkx2MRhJZ7PzWiCSQ4cOHc+yxxwJgAhX41/1YtwFYS9La/4U3+/TpQ69eveo2BhGRapx44omceuqp4e3/boqNJ+j5pYbZ2yq7T1555ZUORiOJTgmASBRyu91cd9114W3v9uV1WhXIk7sCd8G24Hd7vfz2t7+ts+8WETmQyLKgX2/0E4iBycG+2eSnIlTzv0OHDmRnZzsckSQyJQAiUapLly707NkzvO3bNK9uvthafBvnhjeHDRum8nQiElV69OhBZmYmALklbubleh2OaP+shf9srHxTEZnAiDhBCYBIFLviiivC654dq6G8uNa/01W4HXdRLgB+v59LLrmk1r9TRORQeL1e+vfvH96eG+UJQG6Ji/UFwcnLkpKS6NOnj7MBScJTAiASxVq1akXbtm0BMDaAd/uKA3ziyHm3LQ2vn3HGGar6IyJRqWPHjuH1jQVuByM5sI2FlfEde+yxmkdFHKcEQCTKDRw4MLwe2TivFYEKvNuXV/vdIiLR5JhjjgmvbyiM7gRgQ0SCEhm3iFOUAIhEub59++L1Bl9vuwu31+rswO6CrZiKUgCOOuooOnXqVGvfJSJyJJo2bRqeM2V7sYsSB+dMPJDINwBKACQaKAEQiXJpaWm0a9cuvO3O31hr3xV57W7duoX/uIqIRBufz0fjxo0BsBh2lETv/So3IjYVVZBoEL2/LSIS1qVLl/C6e1ctJgAR1478ThGRaFReXh5e90ZxLyCvq7JOaWTMIk5RAiASAzp37hxed+/aXDtfEgjgjphrQAmAiES7wsLC8HqSO3onA0iOiK2oqPa6cYocLCUAIjGgbdu2GBOcQMZVvBMCNf8EyVWyE2ODnWizsrJo2LBhjX+HiEhNCQQCVRrT0ZwAJHkqY4tMWkScogRAJAYkJyeH+40abDAJqGGuorzweqtWrWr8+iIiNSkvr/KeleQO4DIOBnMAKREJwPbt2x2MRCRICYBIjGjZsmV43VW0o8avH3nNyO8SEYlGixcvDq+3SIviEkBA89TK+JYsWeJgJCJBSgBEYkRdJgDZ2dk1fn0RkZq0aNGi8HqrjOgeWBsZ3+LFiwkEAg5GI6IEQCRmNGnSJLzuKt1d49ePvGbTpk1r/PoiIjUpMgFomR7dCUADf4BMX7DRX1hYyNq1ax2OSBKdEgCRGBGZAJiSmk8AIq8Z+V0iItGmrKyM+fPnh7dbR/kbAGOqvgWYPXu2g9GIKAEQiRm1+gagogxXeTEAbrdbFYBEJKrNmTOHgoICABolVZCVHP1datrXLwuvf/vttw5GIqIEQCRmZGVlhddNaSHYmit5Z8oqy9I1atQItzuKZ9QRkYQX2YDu0qgUE8UVgPbo0qg0vD5z5kzNByCOUgIgEiN8Ph8ZGRlAsBSoCT2xrwmu0qoJgIhItLLWMmPGjPB254Zl+zk7ejRODtAsNdgNqKysjFmzZjkckSQyJQAiMSSya44prbnJZCLfAKj7j4hEszVr1rBhwwYA/G5L2/qxkQBA1WQlMokRqWtKAERiSOTT+chG+5EyZZWvopUAiEg0+/rrr8PrHRuU4o2hlkzXxpXdgGbMmKFyoOKYGPq1EZEGDRqE1yMb7UfKpQRARGJE5JPzyH71saB1Rjnp3mCjPy8vj4ULFzockSQqJQAiMaR+/frhdVcNJgCRyUTkd4iIRJPc3FwWLFgABMdCdWoUO91/AFymatLyzTffOBiNJDIlACIx5FDeAOzqfkX434FEXivyO0REosmsWbOwoQpobTLLSffWXDW0uhKZAPz4448ORiKJTAmASAypmgDUziBgJQAiEq3mzp0bXj+hQWw9/d+jbb1yDMHEZdmyZRQW1ty9XORgKQEQiSFVqgDVUhcgjQEQkWgVmQC0yYzNBCDVa2meVgFAIBAId2kSqUtKAERiSGTj3FVTbwACFeFZgF0uF/Xq1auZ64qI1KBdu3axcuVKAFzG0jqj3OGIDl+bzMrYI5MakbqiBEAkhvxiHoAamA048ul/vXr18Hg8R3xNEZGatnLlynD//+apFSTF8K3quIi3F8uWLXMwEklUSgBEYkhqaiqpqakAGFtRI7MBu0p3h9ezsrKO+HoiIrUhNzc3vN4oKbbr5zeMiD8vL8/BSCRRKQEQiTFNmjQJr5uS3fs58+BEXiPy2iIi0SSyoZzpi+0EICMi/h07djgYiSQqJQAiMSaykR759P5wRV5DCYCIRKvIBCAjxhOATF9l983INxsidUUJgEiMqZIAFOcf8fUir6EEQESiVUFBQXg92RN79f8jJbkr4y8uLqa8PHYHNEtsUgIgEmOOOeaY8Lqr+MhfHUdeIzs7+4ivJyJSGyIrlOWXxnbzJb/UhNczMjJUfEHqXGz/BokkoJYtW4bXXUVHmABYW+UaOTk5R3Y9EZFa0qhRo/D6jpLYbr7siEhgIn8ukboS279BIgko8im9q3gH2MPvC2tKd2MCwVfPGRkZmgNARKJWZEM5L8YTgMj4NfmiOCG2f4NEElBmZmb4D6EJVBzRWwB3wbbweuvWrTHG7OdsERHnRJYpXlvgpiKGxwGv3lXZ5Ufll8UJSgBEYtAJJ5wQXncXbD3s67h3V3428poiItGmRYsW4Ycfu8tcLNkZu/3mZ23zhde7du3qYCSSqJQAiMSgyMa6a/eWw76Oq6Dys0oARCSauVwuevbsGd6eudW3n7Oj17YiF6tCbwA8Hg+nnnqqwxFJIlICIBKDIhvrnl2bD+8igXLcBdvDm+3atTvSsEREatXeCUAgBquBztzr6f+e2d1F6lLCJADGmObGmCnGmA3GmBJjzCpjzJPGmPpOxyZyqI4//nj8fj8ArpL8w5oR2L1rM8ZWAMGBxQ0aNKjRGEVEalrnzp1JS0sDYHuJmx9j7C1AeQA+W5sU3o5MaETqUkIkAMaY1sBM4HLge2ACsAK4AfjWGKMh+BJT/H4/HTt2DG978tcf8jU8Oys/061btxqJS0SkNnk8HgYNGhTenr4yOabeAny9yc+WYjcQrLzWt29fhyOSRJUQCQAwGcgCrrfWnmetvdNaexbBROB44CFHoxM5DN27dw+vu3ceegLgjkgaIq8lIhLNLrroIpKTkwFYX+Dhu82x8RagLADvr0wOb1900UXq/iOOifsEwBjTChgArAKe2evwfUABcKkxRr+FElMin9p7dq6HQMVBf9aU7MJdlAeA1+ut8jZBRCSa1atXj2HDhoW3p69MoTwGSoJ+uT6J7SXBp//16tXj/PPPdzgiSWRxnwAAZ4WW/7S26oxJ1tpdwDdACqBh+BJTWrZsSdOmTQEwgTLc+RsO+rOevNXh9ZNOOomUlJQaj09EpLYMGzYsPBZgc5Gb91clH+ATztpW7OKdFZUxjhgxQvddcVQiJADHh5ZL9nF8aWjZpg5iEakxxpgqA8g8O1bv5+yqIhMADUITkViTnp7O5ZdfHt7+cHUyq3a5HYxo36yFKQtTKa4INrlatGjBkCFDHI5KEl0iJACZoeXOfRzfs7/e/i5ijJlZ3T+gbU0FKnKoevXqFV735K0Be+D34KasCHdo7gBjDKeddlqtxSciUlvOP//8cPfFgDW8uCAtKrsC/XuDn3l5wXEKLpeLO++8M1zFTcQpiZAAHIgJLWOojoBI0AknnBAu3+kqL8a9a9MBP+PJW4UJ/ed+4oknqvyniMQkl8vF7bffHm5Mry3wMH3lkXcFmnbW9vC/I7W1yMVfllV29Rk2bBjt27c/4uuKHKlESAD2POHP3MfxjL3Oq5a19qTq/gGLaipQkUPldrs544wzwtue3JUH/EzkOWeeeWatxCUiUheaN2/O1VdfHd7+aHUyc7Z7HYyoUmkFTJqXXqXrzxVXXOFwVCJBiZAALA4t99XH/7jQcl9jBESiWmQj3pO3er/dgExpYfgtgcvlonfv3rUen4hIbTr//PM56aSTALAYnluQxvZi55s3byxLZdUuDxCcv+Cuu+5S1x+JGs7/htS+L0PLAcaYKj+vMSYdOB0oAr6r68BEakKHDh1o1KgREOoGlL9xn+cGu/8EdezYkYYNNQeeiMQ2l8vFPffcE74P7i5z8cw8Z8cDzNjk44v1lTP+jhkzhnbt2jkXkMhe4j4BsNYuB/4J5ADX7XX4fiAVmGatLajj0ERqhMvlqtoNKG/VPs+NPKbuPyISL+rXr8/YsWNxuYLNmmX5Xt5c5kyZzfUFbqYuTgtv9+nTRzX/JerEfQIQMgbYAkw0xrxnjBlvjPkCuIlg15+7HY1O5AhVTQCq7wZkyiq7/+xdQlREJNZ17NixyniAf65L5ttNdTtLcGG54am56ZRUBN+1tmjRgttuuw1jzAE+KVK3EiIBCL0F6Aa8ApwC3AK0BiYCPay1Rz7UX8RBv+gGVE01IE/eanX/EZG4dtFFF1V5uPHyojTW7K6b+QECFl5YkMamwuD3JSUlcf/995Oamlon3y9yKBIiAQCw1q611l5urT3aWuuz1mZba2+w1uY6HZvIkXK5XFXnBNix5hfnRO6LfGMgIhIvjDH84Q9/oEWLFgCUBgwT56ZTUFb7T+A/Wp3MrG2Vbxxuu+02WrVqVevfK3I4EiYBEIl3kRN6eXasDU4/uUdFWZXBwZr8S0TiVWpqKg888ADJycE5AbYUuXluQRqBWpztZ16ul3dXVM5BMGzYMPr27Vt7XyhyhJQAiMSJTp06hf/guUp24SreET7myV+PCY0LaNWqFU2aNHEkRhGRupCTk8Mdd9wR3v55u4+P1yTt5xOHL6/E8Oz8NGyok2WnTp347W9/WyvfJVJTlACIxAmfz8fJJ58c3nbvXFftup7+i0gi6NOnDxdddFF4+50VKSze4anR76gIwOR56ewqCzanGjRowNixY/F4avZ7RGqaEgCRONK9e/fwuid/U7XrkeeIiMSzq666ig4dOgAQsIbJ89PIL6258QB/W5nM4p3BmYddLhf33nuvCixITFACIBJHOnfuHF5379oENoApLcBVkg8E3xJoMhoRSRQej4exY8eSkZEBQF6JmxcWplUZInW45m738uHqyrkGRo0aRZcuXY78wiJ1QAmASBxp1qwZjRs3BsAEynAVbK8y+LdDhw74fHVbF1tExElZWVncdddd4e052318tdF/RNcsLDe8vKiyvGe3bt34zW9+c0TXFKlLSgBE4ogxpupbgIItuAu2hLcjj4mIJIpTTz2VYcOGhbffWJrCtuLDbwK9sTSF3JJgvf/MzEzuuuuu8CzEIrFA/7WKxJnjjz8+vO4u2I67YHu1x0REEsno0aPD8wMUV7iYsjD1sLoC/bzNy382VlYUuummm2jQoEFNhSlSJ5QAiMSZNm3ahNddBVtxFVbOdacEQEQSld/v54477sCY4CDgeXmH3hWoqBymLK7s+nPmmWfSp0+fmgxTpE4oARCJM8cee2z4D5y7eCfGVgDBfrD16tVzMjQREUd16NChSlegt5enUFR+8FWBPlqdTF6o60+9evW44YYbajxGkbqgBEAkzqSkpFQ70VfLli0diEZEJLpceeWVZGVlAbCrzMVHqw9ugrDtxS4+XVs52++YMWP0UEVilhIAkTjUvHnzg9onIpJo/H4/o0ePDm9/ujaZ7QcxIPidFSmUBYJvC9q0aUO/fv1qLUaR2qYEQCQONWvW7KD2iYgkon79+oXHS5UFDO+sSN7v+at2uflmU+V4gWuvvVZVfySm6b9ekTikBEBEZN9cLhdjxowJb3+72U/uft4CfLKmMkE4/fTTNeGXxDwlACJxaM9kYAfaJyKSqDp37hyeGyVgDf9aX/1YgNwSF99vqZxAceTIkXUSn0htUgIgEoeqq0mtOtUiIlVdeOGF4fUv1/spqfjlOV+s81Nhg33/O3bsWKXUskisUgIgEocaNWpUZdvj8ZCZmelQNCIi0alHjx40bdoUgIJyFzM2VZ0XoLQCvthQ+WYgMmEQiWVKAETi0FFHHVWl6s9JJ50UnhtARESC3G43559/fnh77wRgbq6X3WXBptJRRx3FaaedVqfxidQWj9MBiEjNc7vdPPXUU3zzzTf4fD569uzpdEgiIlGpX79+PPvsswQCAZbs9LCjxFDPbwH4cWtlQtC/f388HjWbJD7ov2SRONWwYUMGDx7sdBgiIlGtfv36nHjiifz8889YDLO2+TirWQnlAfhpmzd8Xq9evRyMUqRmqQuQiIiIJLTevXuH138MVfxZmOelsLyy+48G/0o8UQIgIiIiCS3y6f7inV7KAzAvt+rTf42jkniiBEBEREQSWlZWVrgaUFnAsHqXh2X5lb2k98wXIBIvlACIiIhIwjvhhBPC6zO3+Vi1qzIBaN++vRMhidQaJQAiIiKS8Dp06BBe/2h1MmWBYJefpk2bUr9+fafCEqkVSgBEREQk4XXs2LHa/er+I/FIZUBFREQk4bVq1Yqrr76azz//nIqKCgCaNGnCyJEjHY5MpOYpARAREREBRowYwYgRI5wOQ6TWqQuQiIiIiEgCUQIgIiIiIpJAlACIiIiIiCQQJQAiIiIiIglECYCIiIiISAJRAiAiIiIikkCUAIiIiIiIJBAlACIiIiIiCUQJgIiIiIhIAlECICIiIiKSQJQAiIiIiIgkECUAIiIiIiIJRAmAiIiIiEgCUQIgIiIiIpJAlACIiIiIiCQQJQAiIiIiIgnEWGudjiGmGWO2JycnN2jXrp3ToYiIiIhIHFu4cCFFRUW51tqGR3IdJQBHyBizEsgAVjkcisje2oaWixyNQkQktujeKdEsB8i31rY8kosoARCJU8aYmQDW2pOcjkVEJFbo3imJQGMAREREREQSiBIAEREREZEEogRARERERCSBKAEQEREREUkgSgBERERERBKIqgCJiIiIiCQQvQEQEREREUkgSgBERERERBKIEgARERERkQSiBEBEREREJIEoARARERERSSBKAEREREREEogSABERERGRBKIEQEREREQkgSgBEBERERFJIEoAREREREQSiBIAkRhkjMkxxlhjzCuh9TeNMduMMcXGmB+NMedW8xm/MeZOY8wcY0yhMSbfGPNfY8xwJ34GEZHaYoxpG7pHfrGfc+YaY8qMMU0i9p1tjPk4dD8tMcYsN8Y8ZoypV83nOxpj/mKMWRU6d6sxZpYx5kljjLe2fjaRmmCstU7HICKHyBiTA6wE/g20B1YA3wINgIsAL9DPWvtl6Hwf8E/gDGAR8BGQAlwIZAHjrbV31eXPICJSm0KN/zOB4621S/Y6dhrwDfCutfbC0L6xwP1ALsF75BagIzAAWAD0sNbmh87tCPwPsMAHBO/HGcCxoe9sYK3dXds/o8jh8jgdgIgckT7AOGvt/Xt2GGPeAD4FbgO+DO2+hWDj/xNgsLW2PHTu/cD3wB+MMR9Za2fUYewiIrVpMsHG+NXArXsduzq0fB7AGHMmwcb/t8D/WWt37DnRGDMKmBo6flNo90ggCTjPWvt+5IWNMfWBwpr8QURqmt4AiMSgiDcAq4HW1tqKvY6vBlKttY1C20uB1sAJ1tpFe517JfASMNVae0XtRy8iUvuMMR6C90g/0MxaWxLaXw/YEPp3nLXWGmOmA+cBHay186u51k+ha2SFth8HbgbOttb+s05+IJEapDcAIrFt9t6N/5C1QA8AY0w6wdfS6/du/Ifs6SPbpXZCFBGpe9bacmPMS8BY4ALgjdChS4Fk4AVb+RS0B1AGDDPGDKvmcj6gsTGmobV2O/BX4AbgPWPMO8C/gG+67xVoAAAIRklEQVSstctr7ycSqTl6AyASgyLeALxqrR1VzfF/A2cEH2yZ5gQTgh+ttd2rOTcJKAJWWWtb1mLYIiJ1yhjTDFgFzLDWnhHaNxdoAzS31m4N7Svj4B6K5lhrV4c+0wO4GziLYEIBsBi431r7l5r8OURqmt4AiMS/naFlk30cP3qv80RE4oK1dr0x5kPgfGNMO6A+0AH4657Gf8hOwGWtbXAI1/4WONcY4wdOAs4Bfg+8YYzZaq39V439ICI1TGVAReKctXYXsBxoZow5rppTzgwtZ9VdVCIidWZyaHk1ew3+jfAdUN8Y0/5QL26tLbHWzrDWjgWuD+0ecliRitQRJQAiiWEKYIDHjDHuPTuNMY2AeyPOERGJN58DSwhW7hkOLNlTIjnChNDyRWNM070vYIxJNcacGrHdyxiTWc13HRVaqgqQRDV1ARJJDH8CBhJ8KvWzMeZjgvMADCM4D8Cj1tqvHYxPRKRWhKr8PAc8Edq199N/rLWfG2PuBMYDS0P3yJVAGpBNsIzy1wS7+UCwtPKA0HirFcBugnOyDATygBdq7QcSqQEaBCwSgw5lEHDEviSCZetGECwJWg78DDyjAWsiEs9Ctfm3Eaz00yxUyae683oS7MbTE2hEcGzAeoLV0t6w1v4YOm8AcAlwCtCM4APVdcA/gMf3DBQWiVZKAERERCSuGWP6EJwY8TVr7aUOhyPiOI0BEBERkXh3e2j5tKNRiEQJjQEQERGRuGOMORE4l2CJzoHAR9ba/zkblUh0UAIgIiIi8egk4GEgH3gbGONsOCLRQ2MAREREREQSiMYAiIiIiIgkECUAIiIiIiIJRAmAiIiIiEgCUQIgIiIiIpJAlACIiIiIiCQQJQAiIiIiIglECYCIiIiISAJRAiAiIo4yxowyxlhjzCinY9kjGmMSEakpSgBEROKMMcZtjLnKGPOVMSbXGFNmjNlijJljjHnJGDPY6RhFRMQ5HqcDEBGRmmOMcQMfAecAO4C/A+uABkBrYATQFvjAqRirMR34DtjodCAiIolACYCISHy5hGDj/2fgDGvtzsiDxpgU4BQnAtuXUIw7D3iiiIjUCHUBEhGJL6eFlq/s3fgHsNYWWmu/3LNtjBkX6uveZ+9zjTE5oWOv7LX/ldD+VsaY34e6FhUZY/5tjLkkdOyJ6oIzxviNMXnGmE3GGE9oX5X+9saYJGPMjlC3pWofVBljngt95ld77W8bim+tMabEGLPZGPOGMeb4fVznWGPM26GYCowxM/a+pohIvFECICISX7aHlm3q4LueAh4A5obWvyHYnWcn8Ot9NN6HAPWA16y15dVd1FpbDPwVaAwM3Pu4McYPDAc2A/+I2H8OMAv4NfBDKKbPgaHA98aYrntd5ziCXY8uBL4Nnb8OeC/0GRGRuKQuQCIi8eVvwB3ANcaYdIIN8pnW2tW18F1dgS7W2pWRO40xfwWuJtgV6aO9PjMytHz1ANd+JXSNkcCHex0bDNQHntiTRBhj6gN/AQqB3tbaBRHxtAf+B7wUinmPZ4CGwI3W2qcizh9CMAkQEYlLegMgIhJHrLU/Ab8h+HT8N8C7wCpjzHZjzHRjzKAa/LpH9278h+xp3I+M3GmMaQKcDfxkrZ27vwtba78FlgCDjDEN9jpcXRJxGcE3C/dFNv5D15oPvAh0McacEIqlOdAfWAk8vdf57wNf7S8+EZFYpjcAIiJxxlr7ljFmOnAm0BPoElqeB5xnjJkGjLLW2iP8qu/38f0zjDF7Gu/1rbV5oUO/BtwEn+4fjFeBh4CLgckAxpijqEwi5kSc2yO07GSMGVfNtfZ0iWoHLCD4vwnA19baimrO/zdwxkHGKSISU5QAiIjEIWttGfDP0L895UEvAKYQfFo+nSPv5rJpP8ciG+/PhvaNBMoIdtU5GNMIjjEYSSgBIJhEePhlF6KGoeVVB7hmWmiZGVpu3sd5+/vZRERimroAiYgkAGtthbX2LWBCaNdZoWUgtKzugVC9A112P8f+HLr2SABjTBfgROBja+3Wg4x5HfAFcLIxpm1o954k4o29Tt9T8aiTtdbs59+re51/1D6+vsnBxCgiEouUAIiIJJZdoaUJLfd0z2lRzbndDvdLrLVrCTbeTwmV4DzYwb97eyW0HGmM6Qx0BD6pJon4LrTsdZDX/Sm07Bl6O7K3PocSpIhILFECICISR0J1+PsbY35xfw8Nwt3TReY/oeWefvyXR5btNMa0AMYeYTivhJZXEpygbDu/rAp0IH8D8gkOaB6113UjTSU48/F9xpiT9z5ojHFFznUQervwGdAS+N1e5w5B/f9FJI5pDICISHw5BbgB2GSM+ZpglRsINnR/BSQD7wPvAFhr/2eM+Q/Qm2Ct/C8IdosZRLDGfnVvBg7Wnsb7jYAXmBQam3DQrLVFxpi3CSYRYwgmEX+v5rztxpgLCY5t+M4Y8zkwn2A3pGMIDhJuCCRFfOw6gvX/nzTGDCA4e/KxwPkES4/WZMUkEZGooQRARCS+PA4sBfoR7C5zNsFG73aClW3eAN7YqwLQEOCx0PL3oc/fTnAA8fDDDWSvxjscevefPV4JXcML/MXa/9/OHdogAENRFH1/CNZAY0gYiiFYhhFYAotnCAyIOhIUCt45uknTupu0//n4sN9lZrZJjlnn3id5JLlnPUc6v62/zcwuySnrvg5JrlnTkjYRAMCfmu+nwAEAAL/CHwAAACgiAAAAoIgAAACAIgIAAACKCAAAACgiAAAAoIgAAACAIgIAAACKCAAAACgiAAAAoIgAAACAIgIAAACKCAAAACgiAAAAoIgAAACAIgIAAACKCAAAACjyAgSQC/fl/SYzAAAAAElFTkSuQmCC\n",
      "text/plain": [
       "<Figure size 432x288 with 1 Axes>"
      ]
     },
     "metadata": {
      "image/png": {
       "height": 263,
       "width": 384
      }
     },
     "output_type": "display_data"
    }
   ],
   "source": [
    "# seaborn has a violinplot method, so this will be fairly easy\n",
    "sns.violinplot(x='Survived', y='Age', data=titanic)"
   ]
  },
  {
   "cell_type": "code",
   "execution_count": 32,
   "metadata": {},
   "outputs": [
    {
     "data": {
      "text/plain": [
       "<matplotlib.axes._subplots.AxesSubplot at 0x1b8f1df4b00>"
      ]
     },
     "execution_count": 32,
     "metadata": {},
     "output_type": "execute_result"
    },
    {
     "data": {
      "image/png": "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\n",
      "text/plain": [
       "<Figure size 432x288 with 1 Axes>"
      ]
     },
     "metadata": {
      "image/png": {
       "height": 263,
       "width": 388
      }
     },
     "output_type": "display_data"
    }
   ],
   "source": [
    "sns.violinplot(x='Pclass', y='Survived', data=titanic, palette = 'Blues')"
   ]
  },
  {
   "cell_type": "markdown",
   "metadata": {},
   "source": [
    "That looks fairly similar between the yes and no groups, except for a little bump just above age 0 in the survived group. It seems like they may have made an effort to put children on the lifeboats first.  \n",
    "That makes me wonder if women were sent to the lifeboats before men. Let's plot that and see."
   ]
  },
  {
   "cell_type": "code",
   "execution_count": 33,
   "metadata": {},
   "outputs": [
    {
     "data": {
      "text/plain": [
       "<matplotlib.axes._subplots.AxesSubplot at 0x1b8f1de1dd8>"
      ]
     },
     "execution_count": 33,
     "metadata": {},
     "output_type": "execute_result"
    },
    {
     "data": {
      "image/png": "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\n",
      "text/plain": [
       "<Figure size 432x288 with 1 Axes>"
      ]
     },
     "metadata": {
      "image/png": {
       "height": 263,
       "width": 390
      }
     },
     "output_type": "display_data"
    }
   ],
   "source": [
    "sns.countplot(x='Survived', hue='Sex', data=titanic)"
   ]
  },
  {
   "cell_type": "code",
   "execution_count": 34,
   "metadata": {},
   "outputs": [
    {
     "data": {
      "text/plain": [
       "<matplotlib.axes._subplots.AxesSubplot at 0x1b8f1eb12e8>"
      ]
     },
     "execution_count": 34,
     "metadata": {},
     "output_type": "execute_result"
    },
    {
     "data": {
      "image/png": "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\n",
      "text/plain": [
       "<Figure size 432x288 with 1 Axes>"
      ]
     },
     "metadata": {
      "image/png": {
       "height": 263,
       "width": 390
      }
     },
     "output_type": "display_data"
    }
   ],
   "source": [
    "# Making it color blind friendly\n",
    "sns.countplot(x='Survived', hue='Sex', data=titanic, palette = 'colorblind')"
   ]
  },
  {
   "cell_type": "markdown",
   "metadata": {},
   "source": [
    "Wow, that seems like quite a difference.  \n",
    "There were three classes of ticket sold on the Titanic. Using the `countplot()` method, plot the survival numbers for each class."
   ]
  },
  {
   "cell_type": "code",
   "execution_count": 35,
   "metadata": {},
   "outputs": [
    {
     "data": {
      "text/plain": [
       "<matplotlib.axes._subplots.AxesSubplot at 0x1b8f1ee1eb8>"
      ]
     },
     "execution_count": 35,
     "metadata": {},
     "output_type": "execute_result"
    },
    {
     "data": {
      "image/png": "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\n",
      "text/plain": [
       "<Figure size 432x288 with 1 Axes>"
      ]
     },
     "metadata": {
      "image/png": {
       "height": 263,
       "width": 390
      }
     },
     "output_type": "display_data"
    }
   ],
   "source": [
    "# plot surivival counts for each class here.\n",
    "sns.countplot(x='Survived', hue='Pclass', data=titanic, palette = 'deep')"
   ]
  },
  {
   "cell_type": "markdown",
   "metadata": {},
   "source": [
    "While survival is the most salient part of this dataset, there are of course other things we can plot that might be of interest. For instance, what is the relationship between price of the ticket (_fare_) and age?  \n",
    "Plot this using a scatterplot. (Hint: It's the `scatterplot()` method!)"
   ]
  },
  {
   "cell_type": "code",
   "execution_count": 36,
   "metadata": {},
   "outputs": [],
   "source": [
    "# plot age by ticket price here"
   ]
  },
  {
   "cell_type": "markdown",
   "metadata": {},
   "source": [
    "That's not very easy to interpret by sight. Let's add a trendline using linear regression.  \n",
    "The plotting method for this is called `regplot()`."
   ]
  },
  {
   "cell_type": "code",
   "execution_count": 37,
   "metadata": {},
   "outputs": [
    {
     "data": {
      "text/plain": [
       "<matplotlib.axes._subplots.AxesSubplot at 0x1b8f1f6ecc0>"
      ]
     },
     "execution_count": 37,
     "metadata": {},
     "output_type": "execute_result"
    },
    {
     "data": {
      "image/png": "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\n",
      "text/plain": [
       "<Figure size 432x288 with 1 Axes>"
      ]
     },
     "metadata": {
      "image/png": {
       "height": 263,
       "width": 390
      }
     },
     "output_type": "display_data"
    }
   ],
   "source": [
    "# plot using regplot here\n",
    "sns.regplot(x= 'Age', y = \"Fare\", data = titanic)"
   ]
  },
  {
   "cell_type": "code",
   "execution_count": 38,
   "metadata": {},
   "outputs": [
    {
     "data": {
      "text/plain": [
       "<matplotlib.axes._subplots.AxesSubplot at 0x1b8f22f2080>"
      ]
     },
     "execution_count": 38,
     "metadata": {},
     "output_type": "execute_result"
    },
    {
     "data": {
      "image/png": "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\n",
      "text/plain": [
       "<Figure size 432x288 with 1 Axes>"
      ]
     },
     "metadata": {
      "image/png": {
       "height": 263,
       "width": 390
      }
     },
     "output_type": "display_data"
    }
   ],
   "source": [
    "#regression plots of passenger class and fare \n",
    "\n",
    "sns.regplot(x = 'Pclass', y = \"Fare\", data = titanic)"
   ]
  },
  {
   "cell_type": "markdown",
   "metadata": {},
   "source": [
    "## 4.3 SciPy\n",
    "Because we have limited time to go over everything, we're not going to do anything about SciPy other than to say: SciPy is essentially an extension of NumPy. If you can't find some kind of numerical operation you need in NumPy, SciPy might have it. (If you're going to do weird statistics or EEG/MEG/fMRI analysis, you might need SciPy's signal processing or linear algebra functions at some point.)  \n",
    "Documentation is pretty good and is located at https://docs.scipy.org/doc/scipy/reference/."
   ]
  },
  {
   "cell_type": "markdown",
   "metadata": {},
   "source": [
    "## 4.4 DIY time!\n",
    "Feel free to mess around with the Titanic dataset some more, exploring it in different ways by grouping and plotting data. When you feel like you want another challenge, move on to this week's additional exercises."
   ]
  }
 ],
 "metadata": {
  "anaconda-cloud": {},
  "kernelspec": {
   "display_name": "Python 3",
   "language": "python",
   "name": "python3"
  },
  "language_info": {
   "codemirror_mode": {
    "name": "ipython",
    "version": 3
   },
   "file_extension": ".py",
   "mimetype": "text/x-python",
   "name": "python",
   "nbconvert_exporter": "python",
   "pygments_lexer": "ipython3",
<<<<<<< HEAD
   "version": "3.6.5"
=======
   "version": "3.7.1"
>>>>>>> 77f1d10675ab62adcb6fac9bf84443c5be2863f5
  }
 },
 "nbformat": 4,
 "nbformat_minor": 1
}
