{
 "cells": [
  {
   "cell_type": "markdown",
   "metadata": {},
   "source": [
    "# Session 4: NumPy, Pandas, seaborn & SciPy\n",
    "\n",
    "Last week, you learned about functions and external modules in python - this week, we'll introduce you to some of the most powerful external modules for data analysis in python, and we'll show you how you can start using them to write an entire analysis pipeline for your data set. \n",
    "\n",
    "We'll use the Titanic data set throughout this week's session, which you can learn more about here: https://www.kaggle.com/c/titanic/\n",
    "\n",
    "## 4.0 NumPy\n",
    "\n",
    "Numpy is short for \"Numerical Python\", and that's basically what it is: a Python module to help you efficiently handle numerical data in Python. It contains, among many other things, functionalities that allow you to work with matrices and N-dimensional arrays, as well as built-in functions for linear algebra and random number capabilities.  \n",
    "The documentation is located at https://docs.scipy.org/doc/numpy-1.13.0/reference/.\n",
    "\n",
    "By convention, numpy is imported as _np_:"
   ]
  },
  {
   "cell_type": "code",
   "execution_count": 2,
   "metadata": {},
   "outputs": [],
   "source": [
    "import numpy as np"
   ]
  },
  {
   "cell_type": "markdown",
   "metadata": {},
   "source": [
    "### 4.0.0 NumPy arrays\n",
    "\n",
    "NumPy arrays offer a very efficient way of storing data in an array structure, and they also provide useful operations for these arrays. We'll provide a very brief introduction to NumPy arrays and the things they allow you to do here, but feel free to read more in the documentation! :)\n",
    "\n",
    "There are several straight-forward ways of creating a NumPy array:"
   ]
  },
  {
   "cell_type": "code",
<<<<<<< HEAD
   "execution_count": 6,
   "metadata": {},
   "outputs": [
    {
     "name": "stdout",
     "output_type": "stream",
     "text": [
      "[1 2 3 4 5]\n",
      "<class 'numpy.ndarray'>\n",
      "[0. 0. 0. 0. 0. 0. 0. 0. 0. 0.]\n",
      "<class 'numpy.ndarray'>\n",
      "[[1 1 1 1 1]\n",
      " [1 1 1 1 1]\n",
      " [1 1 1 1 1]]\n",
      "[[0.14390268 0.90310708 0.19610663 0.40337512 0.7483652 ]\n",
      " [0.6767639  0.60020052 0.40406144 0.40099048 0.45995928]\n",
      " [0.88826983 0.48385179 0.58938017 0.04914803 0.38368313]]\n"
     ]
    }
   ],
=======
   "execution_count": null,
   "metadata": {},
   "outputs": [],
>>>>>>> 77f1d10675ab62adcb6fac9bf84443c5be2863f5
   "source": [
    "# Create an array of a list\n",
    "int_array = np.array([1,2,3,4,5])\n",
    "print(int_array)\n",
    "print(type(int_array))\n",
    "\n",
    "# Create a 1*10 float array filled with zeros\n",
    "zero_array = np.zeros(10, dtype=float)\n",
    "print(zero_array)\n",
    "print(type(zero_array))\n",
    "# Create a 3x5 integer array filled with ones\n",
    "ones_array = np.ones((3, 5), dtype=int)\n",
    "print(ones_array)\n",
    "\n",
    "# Create a 3x5 array filled with random numbers between 0 and 1\n",
    "random_array = np.random.random((3,5))\n",
    "print(random_array)"
   ]
  },
  {
   "cell_type": "markdown",
   "metadata": {},
   "source": [
    "This looks suspiciously similar to a \"normal\" python list, but NumPy arrays are actually a lot more memory-efficient and better at handling multidimensional data. \n",
    "\n",
    "### 4.0.1 Array attributes\n",
    "\n",
    "Each NumPy arrays comes with three attributes: _ndim_, _shape_, and _size_."
   ]
  },
  {
   "cell_type": "code",
   "execution_count": 7,
   "metadata": {},
   "outputs": [
    {
     "name": "stdout",
     "output_type": "stream",
     "text": [
      "number of dimensions:  2\n",
      "size of each dimension:  (3, 5)\n",
      "size of the entire array:  15\n"
     ]
    }
   ],
   "source": [
    "print(\"number of dimensions: \", ones_array.ndim)       # the number of dimensions in the array\n",
    "print(\"size of each dimension: \", ones_array.shape)    # the size of each dimension in the array\n",
    "print(\"size of the entire array: \", ones_array.size)   # the size of the entire array"
   ]
  },
  {
   "cell_type": "markdown",
   "metadata": {},
   "source": [
    "### 4.0.2 Indexing arrays\n",
    "\n",
    "One-dimensional arrays can be indexed very similarly to \"normal\" lists:"
   ]
  },
  {
   "cell_type": "code",
   "execution_count": 8,
   "metadata": {},
   "outputs": [
    {
     "data": {
      "text/plain": [
       "array([0., 0., 0., 0.])"
      ]
     },
     "execution_count": 8,
     "metadata": {},
     "output_type": "execute_result"
    }
   ],
   "source": [
    "zero_array[2:-4]"
   ]
  },
  {
   "cell_type": "markdown",
   "metadata": {},
   "source": [
    "In a multi-dimensional array, you access a specific value by using comma-separated indeces:"
   ]
  },
  {
   "cell_type": "code",
   "execution_count": 60,
   "metadata": {},
   "outputs": [
    {
     "data": {
      "text/plain": [
       "0.9031070762400536"
      ]
     },
     "execution_count": 60,
     "metadata": {},
     "output_type": "execute_result"
    }
   ],
   "source": [
    "random_array[0,2] # this returns row 0, column 1\n",
    "random_array[0,1]\n",
    "# random_array[0,:]"
   ]
  },
  {
   "cell_type": "markdown",
   "metadata": {},
   "source": [
    "You can also edit entries using the same notation:"
   ]
  },
  {
   "cell_type": "code",
   "execution_count": 55,
   "metadata": {},
   "outputs": [
    {
     "name": "stdout",
     "output_type": "stream",
     "text": [
      "[[0.14390268 0.90310708 0.18       0.40337512 0.7483652 ]\n",
      " [0.6767639  0.60020052 0.40406144 0.40099048 0.45995928]\n",
      " [0.88826983 0.48385179 0.58938017 0.04914803 0.38368313]]\n"
     ]
    }
   ],
   "source": [
    "random_array[0,2] = 0.18\n",
    "print(random_array)"
   ]
  },
  {
   "cell_type": "markdown",
   "metadata": {},
   "source": [
    "In order to access a specific subset of a NumPy array, you can use slicing:"
   ]
  },
  {
   "cell_type": "code",
   "execution_count": 11,
   "metadata": {},
   "outputs": [
    {
     "name": "stdout",
     "output_type": "stream",
     "text": [
      "[[0.14390268 0.90310708 0.18      ]\n",
      " [0.6767639  0.60020052 0.40406144]]\n",
      "[0.14390268 0.90310708 0.18       0.40337512 0.7483652 ]\n",
      "[0.90310708 0.60020052 0.48385179]\n"
     ]
    }
   ],
   "source": [
    "print(random_array[:2, :3]) # subset the first two rows and the first three columns of the original array\n",
    "print(random_array[0, :])   # subset the entire first row of the original array\n",
    "print(random_array[:, 1])   # subset the entire first column of the original array"
   ]
  },
  {
   "cell_type": "markdown",
   "metadata": {},
   "source": [
    "### 4.0.3 Combining arrays\n",
    "\n",
    "NumPy allows you to combine arrays in different dimensions:"
   ]
  },
  {
   "cell_type": "code",
   "execution_count": 12,
   "metadata": {},
   "outputs": [
    {
     "name": "stdout",
     "output_type": "stream",
     "text": [
      "[[1 2 3]\n",
      " [4 5 6]]\n",
      "[1 2 3 4 5 6]\n"
     ]
    }
   ],
   "source": [
    "array1 = np.array([1,2,3])\n",
    "array2 = np.array([4,5,6])\n",
    "\n",
    "array3 = np.vstack([array1, array2]) # stack \"vertically\"\n",
    "array4 = np.hstack([array1, array2]) # stack \"horizontally\"\n",
    "\n",
    "print(array3)\n",
    "print(array4)"
   ]
  },
  {
   "cell_type": "markdown",
   "metadata": {},
   "source": [
    "### 4.0.4 Operating on arrays\n",
    "\n",
    "As we mentioned earlier, NumPy comes with several useful functions, some of which operate a lot faster than \"normal\" python built-ins. For example, let's compare how fast NumPy's sum function is compared to the original built-in:"
   ]
  },
  {
   "cell_type": "code",
   "execution_count": 14,
   "metadata": {},
   "outputs": [
    {
     "name": "stdout",
     "output_type": "stream",
     "text": [
      "97 ms ± 9.19 ms per loop (mean ± std. dev. of 7 runs, 10 loops each)\n",
      "1.11 ms ± 7.58 µs per loop (mean ± std. dev. of 7 runs, 1000 loops each)\n"
     ]
    }
   ],
   "source": [
    "big_array = np.random.rand(1000000)\n",
    "%timeit sum(big_array)\n",
    "%timeit np.sum(big_array)"
   ]
  },
  {
   "cell_type": "markdown",
   "metadata": {},
   "source": [
    "It's almost twice as fast! The same goes for min, max, and other functions:"
   ]
  },
  {
   "cell_type": "code",
   "execution_count": 15,
   "metadata": {},
   "outputs": [
    {
     "name": "stdout",
     "output_type": "stream",
     "text": [
      "65.8 ms ± 926 µs per loop (mean ± std. dev. of 7 runs, 10 loops each)\n",
      "458 µs ± 1.51 µs per loop (mean ± std. dev. of 7 runs, 1000 loops each)\n"
     ]
    }
   ],
   "source": [
    "%timeit min(big_array)\n",
    "%timeit np.min(big_array)"
   ]
  },
  {
   "cell_type": "markdown",
   "metadata": {},
   "source": [
    "There's a lot more to NumPy, but most of it you'll find out as you go along and use it. And there's a very useful, in-depth chapter about NumPy in the \"Python Data Science Handbook\" here: https://jakevdp.github.io/PythonDataScienceHandbook/02.00-introduction-to-numpy.html We highly recommend going through this in your own time if you want to learn about NumPy in more depth. \n",
    "\n",
    "For the purpose of this very brief introduction, let's just acknowledge that NumPy offers a lot of useful ways of dealing with multi-dimensional arrays and numerical data. Speaking of data... let's actually import a data set! We'll use Pandas for that."
   ]
  },
  {
   "cell_type": "markdown",
   "metadata": {},
   "source": [
    "## 4.1 Pandas\n",
    "\n",
    "Pandas is a python library built \"on top\" of NumPy, extending NumPy's functionality quite a bit.  \n",
    "Docs are at https://pandas.pydata.org/pandas-docs/stable/. These docs are markedly worse than for most Python modules, but luckily pandas is usually pretty easy to use.\n",
    "\n",
    "By convention, pandas is imported as pd:"
   ]
  },
  {
   "cell_type": "code",
   "execution_count": 16,
   "metadata": {},
   "outputs": [],
   "source": [
    "import pandas as pd"
   ]
  },
  {
   "cell_type": "markdown",
   "metadata": {},
   "source": [
    "The main objects you'll be dealing with in pandas are Series and DataFrames. These are similar to NumPy arrays, but they include labeled rows and columns, and they allow heterogenous data types and missing values. Here is a quick example of how to initialize a Series and a DataFrame:"
   ]
  },
  {
   "cell_type": "code",
   "execution_count": 20,
   "metadata": {},
   "outputs": [
    {
     "name": "stdout",
     "output_type": "stream",
     "text": [
      "0            1\n",
      "1            2\n",
      "2            3\n",
      "3         four\n",
      "4    [5, 6, 7]\n",
      "dtype: object\n",
      "          0         1         2         3         4\n",
      "0  0.143903  0.903107  0.180000  0.403375  0.748365\n",
      "1  0.676764  0.600201  0.404061  0.400990  0.459959\n",
      "2  0.888270  0.483852  0.589380  0.049148  0.383683\n"
     ]
    }
   ],
   "source": [
    "test_series = pd.Series([1,2,3,'four',[5,6,7]])\n",
    "print(test_series)\n",
    "test_df = pd.DataFrame(random_array)\n",
    "print(test_df)"
   ]
  },
  {
   "cell_type": "markdown",
   "metadata": {},
   "source": [
    "...but usually, we'd prefer not to manually enter our data into our data frame, so let's import an actual data set.\n",
    "\n",
    "### 4.1.0 Reading a data set into python using pandas\n",
    "\n",
    "The data set we'll be using is the Titanic data set. It contains data about the passengers of the Titanic, and it's one of the most widely used open data sets for learning data science and machine learning (see https://www.kaggle.com/c/titanic for a more in-depth description, plus some fun examples of how others have analysed this data set before). For the purpose of today's session, we will simply explore this data set a little and find out how NumPy, pandas, seaborn and SciPy allow us to handle the data\n",
    "\n",
    "Here's how you read a data set into pandas:"
   ]
  },
  {
   "cell_type": "code",
   "execution_count": 21,
   "metadata": {},
   "outputs": [],
   "source": [
    "# use the pd.read_csv function to read in a comma-separated file\n",
    "titanic = pd.read_csv('titanic.csv')"
   ]
  },
  {
   "cell_type": "code",
   "execution_count": 22,
   "metadata": {
    "scrolled": true
   },
   "outputs": [
    {
     "data": {
      "text/html": [
       "<div>\n",
       "<style scoped>\n",
       "    .dataframe tbody tr th:only-of-type {\n",
       "        vertical-align: middle;\n",
       "    }\n",
       "\n",
       "    .dataframe tbody tr th {\n",
       "        vertical-align: top;\n",
       "    }\n",
       "\n",
       "    .dataframe thead th {\n",
       "        text-align: right;\n",
       "    }\n",
       "</style>\n",
       "<table border=\"1\" class=\"dataframe\">\n",
       "  <thead>\n",
       "    <tr style=\"text-align: right;\">\n",
       "      <th></th>\n",
       "      <th>PassengerId</th>\n",
       "      <th>Survived</th>\n",
       "      <th>Pclass</th>\n",
       "      <th>Name</th>\n",
       "      <th>Sex</th>\n",
       "      <th>Age</th>\n",
       "      <th>SibSp</th>\n",
       "      <th>Parch</th>\n",
       "      <th>Ticket</th>\n",
       "      <th>Fare</th>\n",
       "      <th>Cabin</th>\n",
       "      <th>Embarked</th>\n",
       "    </tr>\n",
       "  </thead>\n",
       "  <tbody>\n",
       "    <tr>\n",
       "      <th>0</th>\n",
       "      <td>1</td>\n",
       "      <td>0</td>\n",
       "      <td>3</td>\n",
       "      <td>Braund, Mr. Owen Harris</td>\n",
       "      <td>male</td>\n",
       "      <td>22.0</td>\n",
       "      <td>1</td>\n",
       "      <td>0</td>\n",
       "      <td>A/5 21171</td>\n",
       "      <td>7.2500</td>\n",
       "      <td>NaN</td>\n",
       "      <td>S</td>\n",
       "    </tr>\n",
       "    <tr>\n",
       "      <th>1</th>\n",
       "      <td>2</td>\n",
       "      <td>1</td>\n",
       "      <td>1</td>\n",
       "      <td>Cumings, Mrs. John Bradley (Florence Briggs Th...</td>\n",
       "      <td>female</td>\n",
       "      <td>38.0</td>\n",
       "      <td>1</td>\n",
       "      <td>0</td>\n",
       "      <td>PC 17599</td>\n",
       "      <td>71.2833</td>\n",
       "      <td>C85</td>\n",
       "      <td>C</td>\n",
       "    </tr>\n",
       "    <tr>\n",
       "      <th>2</th>\n",
       "      <td>3</td>\n",
       "      <td>1</td>\n",
       "      <td>3</td>\n",
       "      <td>Heikkinen, Miss. Laina</td>\n",
       "      <td>female</td>\n",
       "      <td>26.0</td>\n",
       "      <td>0</td>\n",
       "      <td>0</td>\n",
       "      <td>STON/O2. 3101282</td>\n",
       "      <td>7.9250</td>\n",
       "      <td>NaN</td>\n",
       "      <td>S</td>\n",
       "    </tr>\n",
       "    <tr>\n",
       "      <th>3</th>\n",
       "      <td>4</td>\n",
       "      <td>1</td>\n",
       "      <td>1</td>\n",
       "      <td>Futrelle, Mrs. Jacques Heath (Lily May Peel)</td>\n",
       "      <td>female</td>\n",
       "      <td>35.0</td>\n",
       "      <td>1</td>\n",
       "      <td>0</td>\n",
       "      <td>113803</td>\n",
       "      <td>53.1000</td>\n",
       "      <td>C123</td>\n",
       "      <td>S</td>\n",
       "    </tr>\n",
       "    <tr>\n",
       "      <th>4</th>\n",
       "      <td>5</td>\n",
       "      <td>0</td>\n",
       "      <td>3</td>\n",
       "      <td>Allen, Mr. William Henry</td>\n",
       "      <td>male</td>\n",
       "      <td>35.0</td>\n",
       "      <td>0</td>\n",
       "      <td>0</td>\n",
       "      <td>373450</td>\n",
       "      <td>8.0500</td>\n",
       "      <td>NaN</td>\n",
       "      <td>S</td>\n",
       "    </tr>\n",
       "  </tbody>\n",
       "</table>\n",
       "</div>"
      ],
      "text/plain": [
       "   PassengerId  Survived  Pclass  \\\n",
       "0            1         0       3   \n",
       "1            2         1       1   \n",
       "2            3         1       3   \n",
       "3            4         1       1   \n",
       "4            5         0       3   \n",
       "\n",
       "                                                Name     Sex   Age  SibSp  \\\n",
       "0                            Braund, Mr. Owen Harris    male  22.0      1   \n",
       "1  Cumings, Mrs. John Bradley (Florence Briggs Th...  female  38.0      1   \n",
       "2                             Heikkinen, Miss. Laina  female  26.0      0   \n",
       "3       Futrelle, Mrs. Jacques Heath (Lily May Peel)  female  35.0      1   \n",
       "4                           Allen, Mr. William Henry    male  35.0      0   \n",
       "\n",
       "   Parch            Ticket     Fare Cabin Embarked  \n",
       "0      0         A/5 21171   7.2500   NaN        S  \n",
       "1      0          PC 17599  71.2833   C85        C  \n",
       "2      0  STON/O2. 3101282   7.9250   NaN        S  \n",
       "3      0            113803  53.1000  C123        S  \n",
       "4      0            373450   8.0500   NaN        S  "
      ]
     },
     "execution_count": 22,
     "metadata": {},
     "output_type": "execute_result"
    }
   ],
   "source": [
    "# preview the data\n",
    "titanic.head()"
   ]
  },
  {
   "cell_type": "markdown",
   "metadata": {},
   "source": [
    "The .head() method allows us to get a peak of our data without having to print all of it to the screen. Pretty useful! \n",
    "\n",
    "From this preview, we can see the types of information that are included in the data set. For example, there are columns with information about whether or not the passenger survived (0 or 1), the class they travelled in (1,2,3), their name, gender, and age, and how much they paid for their ticket. We also get information about how many siblings or spouses were with them (SibSp), and how many parents and children (Parch). \"Embarked\" is an abbreviation for the harbour at which the passenger embarked.\n",
    "\n",
    "For further steps of the analysis, it would be useful to know the data types of the values in each column. pandas allows you to display a summary of this information:"
   ]
  },
  {
   "cell_type": "code",
   "execution_count": 23,
   "metadata": {},
   "outputs": [
    {
     "name": "stdout",
     "output_type": "stream",
     "text": [
      "<class 'pandas.core.frame.DataFrame'>\n",
      "RangeIndex: 891 entries, 0 to 890\n",
      "Data columns (total 12 columns):\n",
      "PassengerId    891 non-null int64\n",
      "Survived       891 non-null int64\n",
      "Pclass         891 non-null int64\n",
      "Name           891 non-null object\n",
      "Sex            891 non-null object\n",
      "Age            714 non-null float64\n",
      "SibSp          891 non-null int64\n",
      "Parch          891 non-null int64\n",
      "Ticket         891 non-null object\n",
      "Fare           891 non-null float64\n",
      "Cabin          204 non-null object\n",
      "Embarked       889 non-null object\n",
      "dtypes: float64(2), int64(5), object(5)\n",
      "memory usage: 83.6+ KB\n"
     ]
    }
   ],
   "source": [
    "titanic.info()"
   ]
  },
  {
   "cell_type": "markdown",
   "metadata": {},
   "source": [
    "This tells us the type of each of the columns. PassengerId, for example, appears to be an integer. This also tells us that there are 891 entries in our data frame. Most columns seem to be \"complete\" (i.e., they have 891 values), but others, such as Age and Cabin, seem to have missing values. \n",
    "\n",
    "There's another, more explicit way of looking for missing values in pandas DataFrames:"
   ]
  },
  {
   "cell_type": "code",
   "execution_count": 24,
   "metadata": {},
   "outputs": [
    {
     "data": {
      "text/plain": [
       "PassengerId      0\n",
       "Survived         0\n",
       "Pclass           0\n",
       "Name             0\n",
       "Sex              0\n",
       "Age            177\n",
       "SibSp            0\n",
       "Parch            0\n",
       "Ticket           0\n",
       "Fare             0\n",
       "Cabin          687\n",
       "Embarked         2\n",
       "dtype: int64"
      ]
     },
     "execution_count": 24,
     "metadata": {},
     "output_type": "execute_result"
    }
   ],
   "source": [
    "titanic.isnull().sum() # the sum() method summarizes all the missing values for each column\n",
    "# you can leave it out if you would like an explicit overview of all the values in the data frame"
   ]
  },
  {
   "cell_type": "markdown",
   "metadata": {},
   "source": [
    "Again, this tells us that there are 177 missing values in the Age column, 687 in the cabin column, and 2 in the Embarked column.\n",
    "\n",
    "Another way of getting a more detailed summary of the numerical data is the .describe method:"
   ]
  },
  {
   "cell_type": "code",
   "execution_count": 25,
   "metadata": {},
   "outputs": [
    {
     "data": {
      "text/html": [
       "<div>\n",
       "<style scoped>\n",
       "    .dataframe tbody tr th:only-of-type {\n",
       "        vertical-align: middle;\n",
       "    }\n",
       "\n",
       "    .dataframe tbody tr th {\n",
       "        vertical-align: top;\n",
       "    }\n",
       "\n",
       "    .dataframe thead th {\n",
       "        text-align: right;\n",
       "    }\n",
       "</style>\n",
       "<table border=\"1\" class=\"dataframe\">\n",
       "  <thead>\n",
       "    <tr style=\"text-align: right;\">\n",
       "      <th></th>\n",
       "      <th>PassengerId</th>\n",
       "      <th>Survived</th>\n",
       "      <th>Pclass</th>\n",
       "      <th>Age</th>\n",
       "      <th>SibSp</th>\n",
       "      <th>Parch</th>\n",
       "      <th>Fare</th>\n",
       "    </tr>\n",
       "  </thead>\n",
       "  <tbody>\n",
       "    <tr>\n",
       "      <th>count</th>\n",
       "      <td>891.000000</td>\n",
       "      <td>891.000000</td>\n",
       "      <td>891.000000</td>\n",
       "      <td>714.000000</td>\n",
       "      <td>891.000000</td>\n",
       "      <td>891.000000</td>\n",
       "      <td>891.000000</td>\n",
       "    </tr>\n",
       "    <tr>\n",
       "      <th>mean</th>\n",
       "      <td>446.000000</td>\n",
       "      <td>0.383838</td>\n",
       "      <td>2.308642</td>\n",
       "      <td>29.699118</td>\n",
       "      <td>0.523008</td>\n",
       "      <td>0.381594</td>\n",
       "      <td>32.204208</td>\n",
       "    </tr>\n",
       "    <tr>\n",
       "      <th>std</th>\n",
       "      <td>257.353842</td>\n",
       "      <td>0.486592</td>\n",
       "      <td>0.836071</td>\n",
       "      <td>14.526497</td>\n",
       "      <td>1.102743</td>\n",
       "      <td>0.806057</td>\n",
       "      <td>49.693429</td>\n",
       "    </tr>\n",
       "    <tr>\n",
       "      <th>min</th>\n",
       "      <td>1.000000</td>\n",
       "      <td>0.000000</td>\n",
       "      <td>1.000000</td>\n",
       "      <td>0.420000</td>\n",
       "      <td>0.000000</td>\n",
       "      <td>0.000000</td>\n",
       "      <td>0.000000</td>\n",
       "    </tr>\n",
       "    <tr>\n",
       "      <th>25%</th>\n",
       "      <td>223.500000</td>\n",
       "      <td>0.000000</td>\n",
       "      <td>2.000000</td>\n",
       "      <td>20.125000</td>\n",
       "      <td>0.000000</td>\n",
       "      <td>0.000000</td>\n",
       "      <td>7.910400</td>\n",
       "    </tr>\n",
       "    <tr>\n",
       "      <th>50%</th>\n",
       "      <td>446.000000</td>\n",
       "      <td>0.000000</td>\n",
       "      <td>3.000000</td>\n",
       "      <td>28.000000</td>\n",
       "      <td>0.000000</td>\n",
       "      <td>0.000000</td>\n",
       "      <td>14.454200</td>\n",
       "    </tr>\n",
       "    <tr>\n",
       "      <th>75%</th>\n",
       "      <td>668.500000</td>\n",
       "      <td>1.000000</td>\n",
       "      <td>3.000000</td>\n",
       "      <td>38.000000</td>\n",
       "      <td>1.000000</td>\n",
       "      <td>0.000000</td>\n",
       "      <td>31.000000</td>\n",
       "    </tr>\n",
       "    <tr>\n",
       "      <th>max</th>\n",
       "      <td>891.000000</td>\n",
       "      <td>1.000000</td>\n",
       "      <td>3.000000</td>\n",
       "      <td>80.000000</td>\n",
       "      <td>8.000000</td>\n",
       "      <td>6.000000</td>\n",
       "      <td>512.329200</td>\n",
       "    </tr>\n",
       "  </tbody>\n",
       "</table>\n",
       "</div>"
      ],
      "text/plain": [
       "       PassengerId    Survived      Pclass         Age       SibSp  \\\n",
       "count   891.000000  891.000000  891.000000  714.000000  891.000000   \n",
       "mean    446.000000    0.383838    2.308642   29.699118    0.523008   \n",
       "std     257.353842    0.486592    0.836071   14.526497    1.102743   \n",
       "min       1.000000    0.000000    1.000000    0.420000    0.000000   \n",
       "25%     223.500000    0.000000    2.000000   20.125000    0.000000   \n",
       "50%     446.000000    0.000000    3.000000   28.000000    0.000000   \n",
       "75%     668.500000    1.000000    3.000000   38.000000    1.000000   \n",
       "max     891.000000    1.000000    3.000000   80.000000    8.000000   \n",
       "\n",
       "            Parch        Fare  \n",
       "count  891.000000  891.000000  \n",
       "mean     0.381594   32.204208  \n",
       "std      0.806057   49.693429  \n",
       "min      0.000000    0.000000  \n",
       "25%      0.000000    7.910400  \n",
       "50%      0.000000   14.454200  \n",
       "75%      0.000000   31.000000  \n",
       "max      6.000000  512.329200  "
      ]
     },
     "execution_count": 25,
     "metadata": {},
     "output_type": "execute_result"
    }
   ],
   "source": [
    "titanic.describe()"
   ]
  },
  {
   "cell_type": "markdown",
   "metadata": {},
   "source": [
    "This gives us a neat overview of some interesting bits of information in our data (although beware that this is really just a \"general idea\", because we know already that we have missing data in some cases). \n",
    "\n",
    "### 4.1.1 Accessing pandas DataFrames\n",
    "\n",
    "What if you wanted to access only specific subsets of the titanic data frame? Here's one way of doing this:"
   ]
  },
  {
   "cell_type": "code",
   "execution_count": 26,
   "metadata": {},
   "outputs": [
    {
     "data": {
      "text/plain": [
       "0    22.0\n",
       "1    38.0\n",
       "2    26.0\n",
       "3    35.0\n",
       "4    35.0\n",
       "Name: Age, dtype: float64"
      ]
     },
     "execution_count": 26,
     "metadata": {},
     "output_type": "execute_result"
    }
   ],
   "source": [
    "titanic['Age'].head() # leave out the \".head()\" method if you really want the entire column"
   ]
  },
  {
   "cell_type": "code",
   "execution_count": 29,
   "metadata": {},
   "outputs": [
    {
     "data": {
      "text/plain": [
       "0    22.0\n",
       "1    38.0\n",
       "2    26.0\n",
       "3    35.0\n",
       "4    35.0\n",
       "Name: Age, dtype: float64"
      ]
     },
     "execution_count": 29,
     "metadata": {},
     "output_type": "execute_result"
    }
   ],
   "source": [
    "titanic.Age.head() # and this is an even easier way of accessing columns"
   ]
  },
  {
   "cell_type": "markdown",
   "metadata": {},
   "source": [
    "You can also filter the data frame based on conditions:"
   ]
  },
  {
   "cell_type": "code",
   "execution_count": 28,
   "metadata": {},
   "outputs": [
    {
     "data": {
      "text/html": [
       "<div>\n",
       "<style scoped>\n",
       "    .dataframe tbody tr th:only-of-type {\n",
       "        vertical-align: middle;\n",
       "    }\n",
       "\n",
       "    .dataframe tbody tr th {\n",
       "        vertical-align: top;\n",
       "    }\n",
       "\n",
       "    .dataframe thead th {\n",
       "        text-align: right;\n",
       "    }\n",
       "</style>\n",
       "<table border=\"1\" class=\"dataframe\">\n",
       "  <thead>\n",
       "    <tr style=\"text-align: right;\">\n",
       "      <th></th>\n",
       "      <th>PassengerId</th>\n",
       "      <th>Survived</th>\n",
       "      <th>Pclass</th>\n",
       "      <th>Name</th>\n",
       "      <th>Sex</th>\n",
       "      <th>Age</th>\n",
       "      <th>SibSp</th>\n",
       "      <th>Parch</th>\n",
       "      <th>Ticket</th>\n",
       "      <th>Fare</th>\n",
       "      <th>Cabin</th>\n",
       "      <th>Embarked</th>\n",
       "    </tr>\n",
       "  </thead>\n",
       "  <tbody>\n",
       "    <tr>\n",
       "      <th>0</th>\n",
       "      <td>1</td>\n",
       "      <td>0</td>\n",
       "      <td>3</td>\n",
       "      <td>Braund, Mr. Owen Harris</td>\n",
       "      <td>male</td>\n",
       "      <td>22.0</td>\n",
       "      <td>1</td>\n",
       "      <td>0</td>\n",
       "      <td>A/5 21171</td>\n",
       "      <td>7.2500</td>\n",
       "      <td>NaN</td>\n",
       "      <td>S</td>\n",
       "    </tr>\n",
       "    <tr>\n",
       "      <th>1</th>\n",
       "      <td>2</td>\n",
       "      <td>1</td>\n",
       "      <td>1</td>\n",
       "      <td>Cumings, Mrs. John Bradley (Florence Briggs Th...</td>\n",
       "      <td>female</td>\n",
       "      <td>38.0</td>\n",
       "      <td>1</td>\n",
       "      <td>0</td>\n",
       "      <td>PC 17599</td>\n",
       "      <td>71.2833</td>\n",
       "      <td>C85</td>\n",
       "      <td>C</td>\n",
       "    </tr>\n",
       "    <tr>\n",
       "      <th>2</th>\n",
       "      <td>3</td>\n",
       "      <td>1</td>\n",
       "      <td>3</td>\n",
       "      <td>Heikkinen, Miss. Laina</td>\n",
       "      <td>female</td>\n",
       "      <td>26.0</td>\n",
       "      <td>0</td>\n",
       "      <td>0</td>\n",
       "      <td>STON/O2. 3101282</td>\n",
       "      <td>7.9250</td>\n",
       "      <td>NaN</td>\n",
       "      <td>S</td>\n",
       "    </tr>\n",
       "    <tr>\n",
       "      <th>3</th>\n",
       "      <td>4</td>\n",
       "      <td>1</td>\n",
       "      <td>1</td>\n",
       "      <td>Futrelle, Mrs. Jacques Heath (Lily May Peel)</td>\n",
       "      <td>female</td>\n",
       "      <td>35.0</td>\n",
       "      <td>1</td>\n",
       "      <td>0</td>\n",
       "      <td>113803</td>\n",
       "      <td>53.1000</td>\n",
       "      <td>C123</td>\n",
       "      <td>S</td>\n",
       "    </tr>\n",
       "    <tr>\n",
       "      <th>4</th>\n",
       "      <td>5</td>\n",
       "      <td>0</td>\n",
       "      <td>3</td>\n",
       "      <td>Allen, Mr. William Henry</td>\n",
       "      <td>male</td>\n",
       "      <td>35.0</td>\n",
       "      <td>0</td>\n",
       "      <td>0</td>\n",
       "      <td>373450</td>\n",
       "      <td>8.0500</td>\n",
       "      <td>NaN</td>\n",
       "      <td>S</td>\n",
       "    </tr>\n",
       "  </tbody>\n",
       "</table>\n",
       "</div>"
      ],
      "text/plain": [
       "   PassengerId  Survived  Pclass  \\\n",
       "0            1         0       3   \n",
       "1            2         1       1   \n",
       "2            3         1       3   \n",
       "3            4         1       1   \n",
       "4            5         0       3   \n",
       "\n",
       "                                                Name     Sex   Age  SibSp  \\\n",
       "0                            Braund, Mr. Owen Harris    male  22.0      1   \n",
       "1  Cumings, Mrs. John Bradley (Florence Briggs Th...  female  38.0      1   \n",
       "2                             Heikkinen, Miss. Laina  female  26.0      0   \n",
       "3       Futrelle, Mrs. Jacques Heath (Lily May Peel)  female  35.0      1   \n",
       "4                           Allen, Mr. William Henry    male  35.0      0   \n",
       "\n",
       "   Parch            Ticket     Fare Cabin Embarked  \n",
       "0      0         A/5 21171   7.2500   NaN        S  \n",
       "1      0          PC 17599  71.2833   C85        C  \n",
       "2      0  STON/O2. 3101282   7.9250   NaN        S  \n",
       "3      0            113803  53.1000  C123        S  \n",
       "4      0            373450   8.0500   NaN        S  "
      ]
     },
     "execution_count": 28,
     "metadata": {},
     "output_type": "execute_result"
    }
   ],
   "source": [
    "titanic[titanic['Age'] > 18].head()\n",
    "# or:\n",
    "titanic[titanic.Age > 18].head()"
   ]
  },
  {
   "cell_type": "markdown",
   "metadata": {},
   "source": [
    "You can use \\& (and) and \\| (or) to refine your filter even further.\n",
    "\n",
    "It's also possible to sort your columns in different ways:"
   ]
  },
  {
   "cell_type": "code",
   "execution_count": 27,
   "metadata": {},
   "outputs": [
    {
     "data": {
      "text/html": [
       "<div>\n",
       "<style scoped>\n",
       "    .dataframe tbody tr th:only-of-type {\n",
       "        vertical-align: middle;\n",
       "    }\n",
       "\n",
       "    .dataframe tbody tr th {\n",
       "        vertical-align: top;\n",
       "    }\n",
       "\n",
       "    .dataframe thead th {\n",
       "        text-align: right;\n",
       "    }\n",
       "</style>\n",
       "<table border=\"1\" class=\"dataframe\">\n",
       "  <thead>\n",
       "    <tr style=\"text-align: right;\">\n",
       "      <th></th>\n",
       "      <th>PassengerId</th>\n",
       "      <th>Survived</th>\n",
       "      <th>Pclass</th>\n",
       "      <th>Name</th>\n",
       "      <th>Sex</th>\n",
       "      <th>Age</th>\n",
       "      <th>SibSp</th>\n",
       "      <th>Parch</th>\n",
       "      <th>Ticket</th>\n",
       "      <th>Fare</th>\n",
       "      <th>Cabin</th>\n",
       "      <th>Embarked</th>\n",
       "    </tr>\n",
       "  </thead>\n",
       "  <tbody>\n",
       "    <tr>\n",
       "      <th>845</th>\n",
       "      <td>846</td>\n",
       "      <td>0</td>\n",
       "      <td>3</td>\n",
       "      <td>Abbing, Mr. Anthony</td>\n",
       "      <td>male</td>\n",
       "      <td>42.0</td>\n",
       "      <td>0</td>\n",
       "      <td>0</td>\n",
       "      <td>C.A. 5547</td>\n",
       "      <td>7.55</td>\n",
       "      <td>NaN</td>\n",
       "      <td>S</td>\n",
       "    </tr>\n",
       "    <tr>\n",
       "      <th>746</th>\n",
       "      <td>747</td>\n",
       "      <td>0</td>\n",
       "      <td>3</td>\n",
       "      <td>Abbott, Mr. Rossmore Edward</td>\n",
       "      <td>male</td>\n",
       "      <td>16.0</td>\n",
       "      <td>1</td>\n",
       "      <td>1</td>\n",
       "      <td>C.A. 2673</td>\n",
       "      <td>20.25</td>\n",
       "      <td>NaN</td>\n",
       "      <td>S</td>\n",
       "    </tr>\n",
       "    <tr>\n",
       "      <th>279</th>\n",
       "      <td>280</td>\n",
       "      <td>1</td>\n",
       "      <td>3</td>\n",
       "      <td>Abbott, Mrs. Stanton (Rosa Hunt)</td>\n",
       "      <td>female</td>\n",
       "      <td>35.0</td>\n",
       "      <td>1</td>\n",
       "      <td>1</td>\n",
       "      <td>C.A. 2673</td>\n",
       "      <td>20.25</td>\n",
       "      <td>NaN</td>\n",
       "      <td>S</td>\n",
       "    </tr>\n",
       "    <tr>\n",
       "      <th>308</th>\n",
       "      <td>309</td>\n",
       "      <td>0</td>\n",
       "      <td>2</td>\n",
       "      <td>Abelson, Mr. Samuel</td>\n",
       "      <td>male</td>\n",
       "      <td>30.0</td>\n",
       "      <td>1</td>\n",
       "      <td>0</td>\n",
       "      <td>P/PP 3381</td>\n",
       "      <td>24.00</td>\n",
       "      <td>NaN</td>\n",
       "      <td>C</td>\n",
       "    </tr>\n",
       "    <tr>\n",
       "      <th>874</th>\n",
       "      <td>875</td>\n",
       "      <td>1</td>\n",
       "      <td>2</td>\n",
       "      <td>Abelson, Mrs. Samuel (Hannah Wizosky)</td>\n",
       "      <td>female</td>\n",
       "      <td>28.0</td>\n",
       "      <td>1</td>\n",
       "      <td>0</td>\n",
       "      <td>P/PP 3381</td>\n",
       "      <td>24.00</td>\n",
       "      <td>NaN</td>\n",
       "      <td>C</td>\n",
       "    </tr>\n",
       "  </tbody>\n",
       "</table>\n",
       "</div>"
      ],
      "text/plain": [
       "     PassengerId  Survived  Pclass                                   Name  \\\n",
       "845          846         0       3                    Abbing, Mr. Anthony   \n",
       "746          747         0       3            Abbott, Mr. Rossmore Edward   \n",
       "279          280         1       3       Abbott, Mrs. Stanton (Rosa Hunt)   \n",
       "308          309         0       2                    Abelson, Mr. Samuel   \n",
       "874          875         1       2  Abelson, Mrs. Samuel (Hannah Wizosky)   \n",
       "\n",
       "        Sex   Age  SibSp  Parch     Ticket   Fare Cabin Embarked  \n",
       "845    male  42.0      0      0  C.A. 5547   7.55   NaN        S  \n",
       "746    male  16.0      1      1  C.A. 2673  20.25   NaN        S  \n",
       "279  female  35.0      1      1  C.A. 2673  20.25   NaN        S  \n",
       "308    male  30.0      1      0  P/PP 3381  24.00   NaN        C  \n",
       "874  female  28.0      1      0  P/PP 3381  24.00   NaN        C  "
      ]
     },
     "execution_count": 27,
     "metadata": {},
     "output_type": "execute_result"
    }
   ],
   "source": [
    "titanic.sort_values('Name', ascending=False).head() # sorts descending\n",
    "titanic.sort_values('Name').head() # sorts ascending"
   ]
  },
  {
   "cell_type": "markdown",
   "metadata": {},
   "source": [
    "### 4.1.2 Data cleaning\n",
    "\n",
    "As we saw earlier, there are a few missing values in our data set, which can be a little annoying during further steps. Some of the columns containing missing values might not actually be all that important for our analyses, so we can drop them all together:"
   ]
  },
  {
   "cell_type": "code",
   "execution_count": 30,
   "metadata": {},
   "outputs": [
    {
     "data": {
      "text/html": [
       "<div>\n",
       "<style scoped>\n",
       "    .dataframe tbody tr th:only-of-type {\n",
       "        vertical-align: middle;\n",
       "    }\n",
       "\n",
       "    .dataframe tbody tr th {\n",
       "        vertical-align: top;\n",
       "    }\n",
       "\n",
       "    .dataframe thead th {\n",
       "        text-align: right;\n",
       "    }\n",
       "</style>\n",
       "<table border=\"1\" class=\"dataframe\">\n",
       "  <thead>\n",
       "    <tr style=\"text-align: right;\">\n",
       "      <th></th>\n",
       "      <th>PassengerId</th>\n",
       "      <th>Survived</th>\n",
       "      <th>Pclass</th>\n",
       "      <th>Name</th>\n",
       "      <th>Sex</th>\n",
       "      <th>Age</th>\n",
       "      <th>SibSp</th>\n",
       "      <th>Parch</th>\n",
       "      <th>Ticket</th>\n",
       "      <th>Fare</th>\n",
       "      <th>Embarked</th>\n",
       "    </tr>\n",
       "  </thead>\n",
       "  <tbody>\n",
       "    <tr>\n",
       "      <th>0</th>\n",
       "      <td>1</td>\n",
       "      <td>0</td>\n",
       "      <td>3</td>\n",
       "      <td>Braund, Mr. Owen Harris</td>\n",
       "      <td>male</td>\n",
       "      <td>22.0</td>\n",
       "      <td>1</td>\n",
       "      <td>0</td>\n",
       "      <td>A/5 21171</td>\n",
       "      <td>7.2500</td>\n",
       "      <td>S</td>\n",
       "    </tr>\n",
       "    <tr>\n",
       "      <th>1</th>\n",
       "      <td>2</td>\n",
       "      <td>1</td>\n",
       "      <td>1</td>\n",
       "      <td>Cumings, Mrs. John Bradley (Florence Briggs Th...</td>\n",
       "      <td>female</td>\n",
       "      <td>38.0</td>\n",
       "      <td>1</td>\n",
       "      <td>0</td>\n",
       "      <td>PC 17599</td>\n",
       "      <td>71.2833</td>\n",
       "      <td>C</td>\n",
       "    </tr>\n",
       "    <tr>\n",
       "      <th>2</th>\n",
       "      <td>3</td>\n",
       "      <td>1</td>\n",
       "      <td>3</td>\n",
       "      <td>Heikkinen, Miss. Laina</td>\n",
       "      <td>female</td>\n",
       "      <td>26.0</td>\n",
       "      <td>0</td>\n",
       "      <td>0</td>\n",
       "      <td>STON/O2. 3101282</td>\n",
       "      <td>7.9250</td>\n",
       "      <td>S</td>\n",
       "    </tr>\n",
       "    <tr>\n",
       "      <th>3</th>\n",
       "      <td>4</td>\n",
       "      <td>1</td>\n",
       "      <td>1</td>\n",
       "      <td>Futrelle, Mrs. Jacques Heath (Lily May Peel)</td>\n",
       "      <td>female</td>\n",
       "      <td>35.0</td>\n",
       "      <td>1</td>\n",
       "      <td>0</td>\n",
       "      <td>113803</td>\n",
       "      <td>53.1000</td>\n",
       "      <td>S</td>\n",
       "    </tr>\n",
       "    <tr>\n",
       "      <th>4</th>\n",
       "      <td>5</td>\n",
       "      <td>0</td>\n",
       "      <td>3</td>\n",
       "      <td>Allen, Mr. William Henry</td>\n",
       "      <td>male</td>\n",
       "      <td>35.0</td>\n",
       "      <td>0</td>\n",
       "      <td>0</td>\n",
       "      <td>373450</td>\n",
       "      <td>8.0500</td>\n",
       "      <td>S</td>\n",
       "    </tr>\n",
       "  </tbody>\n",
       "</table>\n",
       "</div>"
      ],
      "text/plain": [
       "   PassengerId  Survived  Pclass  \\\n",
       "0            1         0       3   \n",
       "1            2         1       1   \n",
       "2            3         1       3   \n",
       "3            4         1       1   \n",
       "4            5         0       3   \n",
       "\n",
       "                                                Name     Sex   Age  SibSp  \\\n",
       "0                            Braund, Mr. Owen Harris    male  22.0      1   \n",
       "1  Cumings, Mrs. John Bradley (Florence Briggs Th...  female  38.0      1   \n",
       "2                             Heikkinen, Miss. Laina  female  26.0      0   \n",
       "3       Futrelle, Mrs. Jacques Heath (Lily May Peel)  female  35.0      1   \n",
       "4                           Allen, Mr. William Henry    male  35.0      0   \n",
       "\n",
       "   Parch            Ticket     Fare Embarked  \n",
       "0      0         A/5 21171   7.2500        S  \n",
       "1      0          PC 17599  71.2833        C  \n",
       "2      0  STON/O2. 3101282   7.9250        S  \n",
       "3      0            113803  53.1000        S  \n",
       "4      0            373450   8.0500        S  "
      ]
     },
     "execution_count": 30,
     "metadata": {},
     "output_type": "execute_result"
    }
   ],
   "source": [
    "titanic = titanic.drop(['Cabin'], axis = 1) # the axis argument tells pandas that we want to drop the COLUMNS. \n",
    "# the default is axis = 0, which would drop the ROWS.\n",
    "\n",
    "titanic.head()"
   ]
  },
  {
   "cell_type": "markdown",
   "metadata": {},
   "source": [
    "Another possibility would be to fill in the missing values - this might not always be a good idea, but let's just assume for now that you have a good reason to do this. For example, you could fill all the missing values in a given column with the mean of that column:"
   ]
  },
  {
   "cell_type": "code",
   "execution_count": 31,
   "metadata": {},
   "outputs": [
    {
     "data": {
      "text/plain": [
       "PassengerId    0\n",
       "Survived       0\n",
       "Pclass         0\n",
       "Name           0\n",
       "Sex            0\n",
       "Age            0\n",
       "SibSp          0\n",
       "Parch          0\n",
       "Ticket         0\n",
       "Fare           0\n",
       "Embarked       2\n",
       "dtype: int64"
      ]
     },
     "execution_count": 31,
     "metadata": {},
     "output_type": "execute_result"
    }
   ],
   "source": [
    "# fill each missing value in the Age column with the mean of the Age column\n",
    "titanic.Age = titanic.Age.fillna(titanic.Age.mean())\n",
    "titanic.head()\n",
    "titanic.isnull().sum()"
   ]
  },
  {
   "cell_type": "markdown",
   "metadata": {},
   "source": [
    "The .isnull method tells us that we now don't have any further missing values, except for two values in the 'Embarked' column. Let's just drop the rows containing these missing values:"
   ]
  },
  {
   "cell_type": "code",
   "execution_count": 32,
   "metadata": {},
   "outputs": [
    {
     "data": {
      "text/plain": [
       "PassengerId    0\n",
       "Survived       0\n",
       "Pclass         0\n",
       "Name           0\n",
       "Sex            0\n",
       "Age            0\n",
       "SibSp          0\n",
       "Parch          0\n",
       "Ticket         0\n",
       "Fare           0\n",
       "Embarked       0\n",
       "dtype: int64"
      ]
     },
     "execution_count": 32,
     "metadata": {},
     "output_type": "execute_result"
    }
   ],
   "source": [
    "titanic = titanic.dropna()\n",
    "titanic.isnull().sum()"
   ]
  },
  {
   "cell_type": "markdown",
   "metadata": {},
   "source": [
    "Looks like we got rid of all the missing values! Now imagine you wanted to change the values of the 'Survived' column to 'yes' and 'no', rather than 1 and 0:"
   ]
  },
  {
   "cell_type": "code",
   "execution_count": 33,
   "metadata": {},
   "outputs": [
    {
     "data": {
      "text/html": [
       "<div>\n",
       "<style scoped>\n",
       "    .dataframe tbody tr th:only-of-type {\n",
       "        vertical-align: middle;\n",
       "    }\n",
       "\n",
       "    .dataframe tbody tr th {\n",
       "        vertical-align: top;\n",
       "    }\n",
       "\n",
       "    .dataframe thead th {\n",
       "        text-align: right;\n",
       "    }\n",
       "</style>\n",
       "<table border=\"1\" class=\"dataframe\">\n",
       "  <thead>\n",
       "    <tr style=\"text-align: right;\">\n",
       "      <th></th>\n",
       "      <th>PassengerId</th>\n",
       "      <th>Survived</th>\n",
       "      <th>Pclass</th>\n",
       "      <th>Name</th>\n",
       "      <th>Sex</th>\n",
       "      <th>Age</th>\n",
       "      <th>SibSp</th>\n",
       "      <th>Parch</th>\n",
       "      <th>Ticket</th>\n",
       "      <th>Fare</th>\n",
       "      <th>Embarked</th>\n",
       "    </tr>\n",
       "  </thead>\n",
       "  <tbody>\n",
       "    <tr>\n",
       "      <th>0</th>\n",
       "      <td>1</td>\n",
       "      <td>no</td>\n",
       "      <td>3</td>\n",
       "      <td>Braund, Mr. Owen Harris</td>\n",
       "      <td>male</td>\n",
       "      <td>22.0</td>\n",
       "      <td>1</td>\n",
       "      <td>0</td>\n",
       "      <td>A/5 21171</td>\n",
       "      <td>7.2500</td>\n",
       "      <td>S</td>\n",
       "    </tr>\n",
       "    <tr>\n",
       "      <th>1</th>\n",
       "      <td>2</td>\n",
       "      <td>yes</td>\n",
       "      <td>1</td>\n",
       "      <td>Cumings, Mrs. John Bradley (Florence Briggs Th...</td>\n",
       "      <td>female</td>\n",
       "      <td>38.0</td>\n",
       "      <td>1</td>\n",
       "      <td>0</td>\n",
       "      <td>PC 17599</td>\n",
       "      <td>71.2833</td>\n",
       "      <td>C</td>\n",
       "    </tr>\n",
       "    <tr>\n",
       "      <th>2</th>\n",
       "      <td>3</td>\n",
       "      <td>yes</td>\n",
       "      <td>3</td>\n",
       "      <td>Heikkinen, Miss. Laina</td>\n",
       "      <td>female</td>\n",
       "      <td>26.0</td>\n",
       "      <td>0</td>\n",
       "      <td>0</td>\n",
       "      <td>STON/O2. 3101282</td>\n",
       "      <td>7.9250</td>\n",
       "      <td>S</td>\n",
       "    </tr>\n",
       "    <tr>\n",
       "      <th>3</th>\n",
       "      <td>4</td>\n",
       "      <td>yes</td>\n",
       "      <td>1</td>\n",
       "      <td>Futrelle, Mrs. Jacques Heath (Lily May Peel)</td>\n",
       "      <td>female</td>\n",
       "      <td>35.0</td>\n",
       "      <td>1</td>\n",
       "      <td>0</td>\n",
       "      <td>113803</td>\n",
       "      <td>53.1000</td>\n",
       "      <td>S</td>\n",
       "    </tr>\n",
       "    <tr>\n",
       "      <th>4</th>\n",
       "      <td>5</td>\n",
       "      <td>no</td>\n",
       "      <td>3</td>\n",
       "      <td>Allen, Mr. William Henry</td>\n",
       "      <td>male</td>\n",
       "      <td>35.0</td>\n",
       "      <td>0</td>\n",
       "      <td>0</td>\n",
       "      <td>373450</td>\n",
       "      <td>8.0500</td>\n",
       "      <td>S</td>\n",
       "    </tr>\n",
       "  </tbody>\n",
       "</table>\n",
       "</div>"
      ],
      "text/plain": [
       "   PassengerId Survived  Pclass  \\\n",
       "0            1       no       3   \n",
       "1            2      yes       1   \n",
       "2            3      yes       3   \n",
       "3            4      yes       1   \n",
       "4            5       no       3   \n",
       "\n",
       "                                                Name     Sex   Age  SibSp  \\\n",
       "0                            Braund, Mr. Owen Harris    male  22.0      1   \n",
       "1  Cumings, Mrs. John Bradley (Florence Briggs Th...  female  38.0      1   \n",
       "2                             Heikkinen, Miss. Laina  female  26.0      0   \n",
       "3       Futrelle, Mrs. Jacques Heath (Lily May Peel)  female  35.0      1   \n",
       "4                           Allen, Mr. William Henry    male  35.0      0   \n",
       "\n",
       "   Parch            Ticket     Fare Embarked  \n",
       "0      0         A/5 21171   7.2500        S  \n",
       "1      0          PC 17599  71.2833        C  \n",
       "2      0  STON/O2. 3101282   7.9250        S  \n",
       "3      0            113803  53.1000        S  \n",
       "4      0            373450   8.0500        S  "
      ]
     },
     "execution_count": 33,
     "metadata": {},
     "output_type": "execute_result"
    }
   ],
   "source": [
    "titanic.Survived = titanic.Survived.replace([1,0], ['yes','no'])\n",
    "titanic.head()"
   ]
  },
  {
   "cell_type": "markdown",
   "metadata": {},
   "source": [
    "You can also easily rename the columns, like this:"
   ]
  },
  {
   "cell_type": "code",
   "execution_count": 34,
   "metadata": {},
   "outputs": [
    {
     "data": {
      "text/html": [
       "<div>\n",
       "<style scoped>\n",
       "    .dataframe tbody tr th:only-of-type {\n",
       "        vertical-align: middle;\n",
       "    }\n",
       "\n",
       "    .dataframe tbody tr th {\n",
       "        vertical-align: top;\n",
       "    }\n",
       "\n",
       "    .dataframe thead th {\n",
       "        text-align: right;\n",
       "    }\n",
       "</style>\n",
       "<table border=\"1\" class=\"dataframe\">\n",
       "  <thead>\n",
       "    <tr style=\"text-align: right;\">\n",
       "      <th></th>\n",
       "      <th>PassengerId</th>\n",
       "      <th>Survived</th>\n",
       "      <th>Pclass</th>\n",
       "      <th>Name</th>\n",
       "      <th>Sex</th>\n",
       "      <th>Age</th>\n",
       "      <th>SibSp</th>\n",
       "      <th>ParCh</th>\n",
       "      <th>Ticket</th>\n",
       "      <th>Fare</th>\n",
       "      <th>Embarked</th>\n",
       "    </tr>\n",
       "  </thead>\n",
       "  <tbody>\n",
       "    <tr>\n",
       "      <th>0</th>\n",
       "      <td>1</td>\n",
       "      <td>no</td>\n",
       "      <td>3</td>\n",
       "      <td>Braund, Mr. Owen Harris</td>\n",
       "      <td>male</td>\n",
       "      <td>22.0</td>\n",
       "      <td>1</td>\n",
       "      <td>0</td>\n",
       "      <td>A/5 21171</td>\n",
       "      <td>7.2500</td>\n",
       "      <td>S</td>\n",
       "    </tr>\n",
       "    <tr>\n",
       "      <th>1</th>\n",
       "      <td>2</td>\n",
       "      <td>yes</td>\n",
       "      <td>1</td>\n",
       "      <td>Cumings, Mrs. John Bradley (Florence Briggs Th...</td>\n",
       "      <td>female</td>\n",
       "      <td>38.0</td>\n",
       "      <td>1</td>\n",
       "      <td>0</td>\n",
       "      <td>PC 17599</td>\n",
       "      <td>71.2833</td>\n",
       "      <td>C</td>\n",
       "    </tr>\n",
       "    <tr>\n",
       "      <th>2</th>\n",
       "      <td>3</td>\n",
       "      <td>yes</td>\n",
       "      <td>3</td>\n",
       "      <td>Heikkinen, Miss. Laina</td>\n",
       "      <td>female</td>\n",
       "      <td>26.0</td>\n",
       "      <td>0</td>\n",
       "      <td>0</td>\n",
       "      <td>STON/O2. 3101282</td>\n",
       "      <td>7.9250</td>\n",
       "      <td>S</td>\n",
       "    </tr>\n",
       "    <tr>\n",
       "      <th>3</th>\n",
       "      <td>4</td>\n",
       "      <td>yes</td>\n",
       "      <td>1</td>\n",
       "      <td>Futrelle, Mrs. Jacques Heath (Lily May Peel)</td>\n",
       "      <td>female</td>\n",
       "      <td>35.0</td>\n",
       "      <td>1</td>\n",
       "      <td>0</td>\n",
       "      <td>113803</td>\n",
       "      <td>53.1000</td>\n",
       "      <td>S</td>\n",
       "    </tr>\n",
       "    <tr>\n",
       "      <th>4</th>\n",
       "      <td>5</td>\n",
       "      <td>no</td>\n",
       "      <td>3</td>\n",
       "      <td>Allen, Mr. William Henry</td>\n",
       "      <td>male</td>\n",
       "      <td>35.0</td>\n",
       "      <td>0</td>\n",
       "      <td>0</td>\n",
       "      <td>373450</td>\n",
       "      <td>8.0500</td>\n",
       "      <td>S</td>\n",
       "    </tr>\n",
       "  </tbody>\n",
       "</table>\n",
       "</div>"
      ],
      "text/plain": [
       "   PassengerId Survived  Pclass  \\\n",
       "0            1       no       3   \n",
       "1            2      yes       1   \n",
       "2            3      yes       3   \n",
       "3            4      yes       1   \n",
       "4            5       no       3   \n",
       "\n",
       "                                                Name     Sex   Age  SibSp  \\\n",
       "0                            Braund, Mr. Owen Harris    male  22.0      1   \n",
       "1  Cumings, Mrs. John Bradley (Florence Briggs Th...  female  38.0      1   \n",
       "2                             Heikkinen, Miss. Laina  female  26.0      0   \n",
       "3       Futrelle, Mrs. Jacques Heath (Lily May Peel)  female  35.0      1   \n",
       "4                           Allen, Mr. William Henry    male  35.0      0   \n",
       "\n",
       "   ParCh            Ticket     Fare Embarked  \n",
       "0      0         A/5 21171   7.2500        S  \n",
       "1      0          PC 17599  71.2833        C  \n",
       "2      0  STON/O2. 3101282   7.9250        S  \n",
       "3      0            113803  53.1000        S  \n",
       "4      0            373450   8.0500        S  "
      ]
     },
     "execution_count": 34,
     "metadata": {},
     "output_type": "execute_result"
    }
   ],
   "source": [
    "titanic = titanic.rename(columns={'Parch': 'ParCh'})\n",
    "titanic.head()"
   ]
  },
  {
   "cell_type": "markdown",
   "metadata": {},
   "source": [
    "It's also possible to join several data frames together. For example, imagine you had a different data frame with all the passenger IDs, plus whether they were left- or right-handed:"
   ]
  },
  {
   "cell_type": "code",
   "execution_count": 35,
   "metadata": {},
   "outputs": [
    {
     "name": "stdout",
     "output_type": "stream",
     "text": [
      "<class 'pandas.core.frame.DataFrame'>\n",
      "RangeIndex: 891 entries, 0 to 890\n",
      "Data columns (total 2 columns):\n",
      "Handedness     891 non-null int32\n",
      "PassengerId    891 non-null int32\n",
      "dtypes: int32(2)\n",
      "memory usage: 7.0 KB\n"
     ]
    },
    {
     "data": {
      "text/html": [
       "<div>\n",
       "<style scoped>\n",
       "    .dataframe tbody tr th:only-of-type {\n",
       "        vertical-align: middle;\n",
       "    }\n",
       "\n",
       "    .dataframe tbody tr th {\n",
       "        vertical-align: top;\n",
       "    }\n",
       "\n",
       "    .dataframe thead th {\n",
       "        text-align: right;\n",
       "    }\n",
       "</style>\n",
       "<table border=\"1\" class=\"dataframe\">\n",
       "  <thead>\n",
       "    <tr style=\"text-align: right;\">\n",
       "      <th></th>\n",
       "      <th>Handedness</th>\n",
       "      <th>PassengerId</th>\n",
       "    </tr>\n",
       "  </thead>\n",
       "  <tbody>\n",
       "    <tr>\n",
       "      <th>count</th>\n",
       "      <td>891.000000</td>\n",
       "      <td>891.000000</td>\n",
       "    </tr>\n",
       "    <tr>\n",
       "      <th>mean</th>\n",
       "      <td>0.499439</td>\n",
       "      <td>446.000000</td>\n",
       "    </tr>\n",
       "    <tr>\n",
       "      <th>std</th>\n",
       "      <td>0.500281</td>\n",
       "      <td>257.353842</td>\n",
       "    </tr>\n",
       "    <tr>\n",
       "      <th>min</th>\n",
       "      <td>0.000000</td>\n",
       "      <td>1.000000</td>\n",
       "    </tr>\n",
       "    <tr>\n",
       "      <th>25%</th>\n",
       "      <td>0.000000</td>\n",
       "      <td>223.500000</td>\n",
       "    </tr>\n",
       "    <tr>\n",
       "      <th>50%</th>\n",
       "      <td>0.000000</td>\n",
       "      <td>446.000000</td>\n",
       "    </tr>\n",
       "    <tr>\n",
       "      <th>75%</th>\n",
       "      <td>1.000000</td>\n",
       "      <td>668.500000</td>\n",
       "    </tr>\n",
       "    <tr>\n",
       "      <th>max</th>\n",
       "      <td>1.000000</td>\n",
       "      <td>891.000000</td>\n",
       "    </tr>\n",
       "  </tbody>\n",
       "</table>\n",
       "</div>"
      ],
      "text/plain": [
       "       Handedness  PassengerId\n",
       "count  891.000000   891.000000\n",
       "mean     0.499439   446.000000\n",
       "std      0.500281   257.353842\n",
       "min      0.000000     1.000000\n",
       "25%      0.000000   223.500000\n",
       "50%      0.000000   446.000000\n",
       "75%      1.000000   668.500000\n",
       "max      1.000000   891.000000"
      ]
     },
     "execution_count": 35,
     "metadata": {},
     "output_type": "execute_result"
    }
   ],
   "source": [
    "# making a random data frame\n",
    "handedness = pd.DataFrame(index = range(0,891), columns = ['Handedness', 'PassengerId'])\n",
    "handedness.Handedness = np.random.choice([1,0], len(handedness))\n",
    "handedness.PassengerId = np.arange(1,892)\n",
    "handedness.info()\n",
    "handedness.describe()"
   ]
  },
  {
   "cell_type": "code",
   "execution_count": 36,
   "metadata": {},
   "outputs": [
    {
     "data": {
      "text/html": [
       "<div>\n",
       "<style scoped>\n",
       "    .dataframe tbody tr th:only-of-type {\n",
       "        vertical-align: middle;\n",
       "    }\n",
       "\n",
       "    .dataframe tbody tr th {\n",
       "        vertical-align: top;\n",
       "    }\n",
       "\n",
       "    .dataframe thead th {\n",
       "        text-align: right;\n",
       "    }\n",
       "</style>\n",
       "<table border=\"1\" class=\"dataframe\">\n",
       "  <thead>\n",
       "    <tr style=\"text-align: right;\">\n",
       "      <th></th>\n",
       "      <th>PassengerId</th>\n",
       "      <th>Survived</th>\n",
       "      <th>Pclass</th>\n",
       "      <th>Name</th>\n",
       "      <th>Sex</th>\n",
       "      <th>Age</th>\n",
       "      <th>SibSp</th>\n",
       "      <th>ParCh</th>\n",
       "      <th>Ticket</th>\n",
       "      <th>Fare</th>\n",
       "      <th>Embarked</th>\n",
       "      <th>Handedness</th>\n",
       "      <th>PassengerId</th>\n",
       "    </tr>\n",
       "  </thead>\n",
       "  <tbody>\n",
       "    <tr>\n",
       "      <th>0</th>\n",
       "      <td>1.0</td>\n",
       "      <td>no</td>\n",
       "      <td>3.0</td>\n",
       "      <td>Braund, Mr. Owen Harris</td>\n",
       "      <td>male</td>\n",
       "      <td>22.0</td>\n",
       "      <td>1.0</td>\n",
       "      <td>0.0</td>\n",
       "      <td>A/5 21171</td>\n",
       "      <td>7.2500</td>\n",
       "      <td>S</td>\n",
       "      <td>1</td>\n",
       "      <td>1</td>\n",
       "    </tr>\n",
       "    <tr>\n",
       "      <th>1</th>\n",
       "      <td>2.0</td>\n",
       "      <td>yes</td>\n",
       "      <td>1.0</td>\n",
       "      <td>Cumings, Mrs. John Bradley (Florence Briggs Th...</td>\n",
       "      <td>female</td>\n",
       "      <td>38.0</td>\n",
       "      <td>1.0</td>\n",
       "      <td>0.0</td>\n",
       "      <td>PC 17599</td>\n",
       "      <td>71.2833</td>\n",
       "      <td>C</td>\n",
       "      <td>0</td>\n",
       "      <td>2</td>\n",
       "    </tr>\n",
       "    <tr>\n",
       "      <th>2</th>\n",
       "      <td>3.0</td>\n",
       "      <td>yes</td>\n",
       "      <td>3.0</td>\n",
       "      <td>Heikkinen, Miss. Laina</td>\n",
       "      <td>female</td>\n",
       "      <td>26.0</td>\n",
       "      <td>0.0</td>\n",
       "      <td>0.0</td>\n",
       "      <td>STON/O2. 3101282</td>\n",
       "      <td>7.9250</td>\n",
       "      <td>S</td>\n",
       "      <td>1</td>\n",
       "      <td>3</td>\n",
       "    </tr>\n",
       "    <tr>\n",
       "      <th>3</th>\n",
       "      <td>4.0</td>\n",
       "      <td>yes</td>\n",
       "      <td>1.0</td>\n",
       "      <td>Futrelle, Mrs. Jacques Heath (Lily May Peel)</td>\n",
       "      <td>female</td>\n",
       "      <td>35.0</td>\n",
       "      <td>1.0</td>\n",
       "      <td>0.0</td>\n",
       "      <td>113803</td>\n",
       "      <td>53.1000</td>\n",
       "      <td>S</td>\n",
       "      <td>0</td>\n",
       "      <td>4</td>\n",
       "    </tr>\n",
       "    <tr>\n",
       "      <th>4</th>\n",
       "      <td>5.0</td>\n",
       "      <td>no</td>\n",
       "      <td>3.0</td>\n",
       "      <td>Allen, Mr. William Henry</td>\n",
       "      <td>male</td>\n",
       "      <td>35.0</td>\n",
       "      <td>0.0</td>\n",
       "      <td>0.0</td>\n",
       "      <td>373450</td>\n",
       "      <td>8.0500</td>\n",
       "      <td>S</td>\n",
       "      <td>1</td>\n",
       "      <td>5</td>\n",
       "    </tr>\n",
       "  </tbody>\n",
       "</table>\n",
       "</div>"
      ],
      "text/plain": [
       "   PassengerId Survived  Pclass  \\\n",
       "0          1.0       no     3.0   \n",
       "1          2.0      yes     1.0   \n",
       "2          3.0      yes     3.0   \n",
       "3          4.0      yes     1.0   \n",
       "4          5.0       no     3.0   \n",
       "\n",
       "                                                Name     Sex   Age  SibSp  \\\n",
       "0                            Braund, Mr. Owen Harris    male  22.0    1.0   \n",
       "1  Cumings, Mrs. John Bradley (Florence Briggs Th...  female  38.0    1.0   \n",
       "2                             Heikkinen, Miss. Laina  female  26.0    0.0   \n",
       "3       Futrelle, Mrs. Jacques Heath (Lily May Peel)  female  35.0    1.0   \n",
       "4                           Allen, Mr. William Henry    male  35.0    0.0   \n",
       "\n",
       "   ParCh            Ticket     Fare Embarked  Handedness  PassengerId  \n",
       "0    0.0         A/5 21171   7.2500        S           1            1  \n",
       "1    0.0          PC 17599  71.2833        C           0            2  \n",
       "2    0.0  STON/O2. 3101282   7.9250        S           1            3  \n",
       "3    0.0            113803  53.1000        S           0            4  \n",
       "4    0.0            373450   8.0500        S           1            5  "
      ]
     },
     "execution_count": 36,
     "metadata": {},
     "output_type": "execute_result"
    }
   ],
   "source": [
    " pd.concat([titanic, handedness], axis=1).head() # axis = 1 tells pandas that we want to concatenate columns, not rows"
   ]
  },
  {
   "cell_type": "markdown",
   "metadata": {},
   "source": [
    "Now that we've done all that work on the Titanic dataset, we'll want to preserve it by writing it to a file. Pandas has a convenient way to do this for dataframes:"
   ]
  },
  {
   "cell_type": "code",
   "execution_count": 37,
   "metadata": {},
   "outputs": [],
   "source": [
    "titanic.to_csv('titanic_cleaned.csv')"
   ]
  },
  {
   "cell_type": "markdown",
   "metadata": {
    "collapsed": true
   },
   "source": [
    "## 4.2 Seaborn\n",
    "Seaborn is a plotting library, similar to ggplot in R. Basic plotting with Seaborn is very easy, but as with ggplot, it has many options for altering and extending figures and it's easy to get lost in the details. Today we will only cover some of the basics, but Seaborn has excellent documentation, so if you want to know more, go to https://seaborn.pydata.org/.  \n",
    "To get started, let's just import seaborn and draw a line."
   ]
  },
  {
   "cell_type": "code",
   "execution_count": 38,
   "metadata": {},
   "outputs": [
    {
     "data": {
      "text/plain": [
       "<matplotlib.axes._subplots.AxesSubplot at 0x1fb7d3e85f8>"
      ]
     },
     "execution_count": 38,
     "metadata": {},
     "output_type": "execute_result"
    },
    {
     "data": {
      "image/png": "iVBORw0KGgoAAAANSUhEUgAAAvIAAAH0CAYAAABfKsnMAAAABHNCSVQICAgIfAhkiAAAAAlwSFlzAAAWJQAAFiUBSVIk8AAAADl0RVh0U29mdHdhcmUAbWF0cGxvdGxpYiB2ZXJzaW9uIDIuMi4zLCBodHRwOi8vbWF0cGxvdGxpYi5vcmcvIxREBQAAIABJREFUeJzs3Xd4VFXixvH3pDeSEELvofeSUOxl7b2AoiIgzbqua93fWtZ1dVdX17K6ioo0QUGxYsGODaWE3kvoPQRCepk5vz9mGBIg1CR3ZvL9PI/P9Z577/BGMXm53nuOsdYKAAAAQGAJcToAAAAAgONHkQcAAAACEEUeAAAACEAUeQAAACAAUeQBAACAAESRBwAAAAIQRR4AAAAIQBR5AAAAIABR5AEAAIAARJEHAAAAAhBFHgAAAAhAFHkAAAAgAFHkAQAAgABEkQcAAAACEEUeAAAACEAUeQAAACAAhTkdwF8YY9ZJipe03uEoAAAACG4tJO2z1rY8mQ+hyB8QHx0dndShQ4ckp4MAAAAgeC1fvlwFBQUn/TkU+QPWd+jQISk9Pd3pHAAAAAhiqampmjdv3vqT/RyekQcAAAACEEUeAAAACEAUeQAAACAAUeQBAACAAESRBwAAAAIQRR4AAAAIQBR5AAAAIABR5AEAAIAARJEHAAAAAhBFHgAAAAhAFHkAAAAgAFVKkTfG9DPGvGyM+dkYs88YY40xE49yzanGmC+MMVnGmHxjzCJjzD3GmNAjXHOZMWaGMSbbGJNrjJlljBlcGV8DAAAAEEjCKulzHpHUTVKupM2S2h/pZGPMlZI+kFQoaYqkLEmXS3pB0mmS+h/mmrskvSxpt6SJkool9ZM0zhjTxVp7fyV9LQAAAIDfq6xHa/4sqa2keEm3H+lEY0y8pDcluSSdba0dZq19QFJ3Sb9J6meMGXDQNS0kPSdP4U+z1t5prf2zpK6S1kq6zxhzSiV9LQAAAIDfq5Qib639wVq72lprj+H0fpLqSppsrZ1b5jMK5bmzLx36h4GhkiIlvWKtXV/mmj2S/undve0E4wMAAAABx4mXXc/1bqcf5thPkvIlnWqMiTzGa7486BwAAADgiGauydT6zDynY5yUynpG/ni0825XHXzAWltqjFknqZOkFEnLj+GabcaYPElNjDEx1tr8I/3ixpj0Cg4d8bl+AAAABIf1mXm6daKnEj5/XXed37G+w4lOjBN35BO82+wKju8fTzyBaxIqOA4AAACooNil2yamK6ewVDmFpXr806UqLHE5HeuEOHFH/miMd3ssz9sf9zXW2tTDfoDnTn3P4/g1AQAAEECstXr448VasT1HkhQRGqJXb+qpqPAKZz/3a07ckT/a3fP4g847nmv2nUQuAAAABLFJszbqw3lbfPuPX9FJ3ZomHuEK/+ZEkV/p3bY9+IAxJkxSS0mlkjKO8ZqGkmIlbT7a8/EAAAComRZs2qsnpi3z7fdLbaIbejd1MNHJc6LIf+/dXnSYY2dKipE001pbdIzXXHzQOQAAAIBPVl6x7piYrmKXW5LUsWG8nryqs4wxR7nSvzlR5KdKypQ0wBiTtn/QGBMl6Unv7msHXTNWUpGku7yLQ+2/prakv3p3R1VRXgAAAAQol9vq7nfna2t2oSQpPipMowamBuxz8WVVysuuxpirJF3l3W3g3Z5ijBnn/ftMa+39kmSt3WeMGSFPoZ9hjJksz4qtV8gzzeRUSVPKfr61dp0x5gFJ/5U01xgzRVKxPItLNZH0H2vtb5XxtQAAACB4vPDNKv2yJtO3/+KA7mpWJ8bBRJWnsmat6S5p8EFjKd6/JGmDpPv3H7DWfmyMOUvSw5KulRQlaY2keyX993ArxFprXzbGrPd+ziB5/m/CMkmPWGvHV9LXAQAAgCDxzbIdeuWHNb79u89trXPbB+ac8YdTKUXeWvu4pMeP85pfJV1ynNdMkzTteK4BAABAzbM+M0/3vrfAt39Gm2T96bxD5k0JaE48Iw8AAABUmbKLPklS48Ro/XdAD4WGBPbLrQejyAMAACBoVLToU+3YCIeTVT6KPAAAAIJGsC36dCQUeQAAAASFYFz06Ugo8gAAAAh4u3OLgnLRpyOhyAMAACCgudxWf5q8ICgXfToSijwAAAAC2vPfrCy36NML1wfPok9HQpEHAABAwJq+ZLv+98Na3/7d57bWHzoEz6JPR0KRBwAAQEBaszNH9wX5ok9HQpEHAABAwNlXWKKRb6crr9glSWqaFK2Xbwi+RZ+OhCIPAACAgOJ2W907ZaEyduVJkqLCQ/T6wDQlxgTfok9HQpEHAABAQHnlhzX6dvkO3/4z13ZVx0bxDiZyBkUeAAAAAeP7FTv0wrerfPvDT2+pK7s3djCRcyjyAAAACAjrMvP0p8kLZK1n/5SUOvrLxe2dDeUgijwAAAD8Xl5RqW59e65yCkslSY0SovTKjT0UFlpz62zN/coBAAAQEKy1evCDRVq1I1eSFBEWolE3p6pOXKTDyZxFkQcAAIBfe+OnDH2+aJtv/6mrOqtrk0QHE/kHijwAAAD81s+rd+mZ6St8+zf3ba7+aU0dTOQ/KPIAAADwS5uy8vXHd+fL7X25Na15bT16WUdnQ/kRijwAAAD8TkGxS7e+na69+SWSpHq1IvXqwJ6KCKO+7sc/CQAAAPgVa63++tFiLdu2T5IUHmr02sBU1asV5XAy/0KRBwAAgF8ZN3O9Ppq/xbf/+BWdlNq8toOJ/BNFHgAAAH7jt7W79dTny33716c11Y29mzmYyH9R5AEAAOAXNmXl68535qnU+3Zrt6aJ+vuVnWSMcTiZf6LIAwAAwHH5xaUa+Xa6svKKJUnJcZEaNbCnosJDHU7mvyjyAAAAcJS1Vg9MXaTlZV5uff3mnmqYEO1wMv9GkQcAAICjXp2xttzKrf+4srNSmyc5mCgwUOQBAADgmO9X7NBzX6/07Q86pbkG8HLrMaHIAwAAwBFrdubqT+8ukPWu3NqnZRIrtx4HijwAAACqXXZBiUZOmKucolJJUuPEaL16U0+Fh1JPjxX/pAAAAFCtXG6rP02er4zMPElSVHiI3hiUqjpxkQ4nCywUeQAAAFSr575eqRkrdx3Y799NnRolOJgoMFHkAQAAUG0+XbhVr81Y69u/4+xWuqxrIwcTBS6KPAAAAKrFki3ZenDqQt/+ue3r6b4L2jmYKLBR5AEAAFDlMnOLdOvb6SoscUuSUurG6sUB3RUaYhxOFrgo8gAAAKhSJS637pg0T1v2FkiSakWG6c1BaYqPCnc4WWCjyAMAAKBKPTFtmWavy5IkGSP994YealU3zuFUgY8iDwAAgCrzzqyNevv3Db79By9sr3Pa13MwUfCgyAMAAKBK/J6xW499ssS3f3m3RrrtrBQHEwUXijwAAAAq3cbd+bp9YrpK3VaS1KlRvP59bVcZw8utlYUiDwAAgEqVU1iiYePnaE9+iSSpbq1IjR6cpuiIUIeTBReKPAAAACqNy231p8kLtHpnriQpIixEb9ycqoYJ0Q4nCz4UeQAAAFSaZ6av0Pcrdvr2/31tV/VoVtvBRMGLIg8AAIBK8f7cTXrjpwzf/h1nt9JVPRo7mCi4UeQBAABw0uauz9LDHx2Yoeb8jvV1/wXtHEwU/CjyAAAAOCmb9+Tr1rfTVexyS5LaN6ilF67vrpAQZqipShR5AAAAnLC8olINHz9Xu/OKJUl1YiP05qA0xUWGOZws+FHkAQAAcELcbqs/T1mgFdtzJEnhoUajbk5V06QYh5PVDBR5AAAAnJD/fLNSXy/b4dt/6qou6tUiycFENQtFHgAAAMftkwVb9L8f1vr2h5/eUtf1aupgopqHIg8AAIDjsmDTXj0wdZFv/+x2dfV/l3RwMFHNRJEHAADAMduWXaARE+aquNQzQ03renH67w09FMoMNdWOIg8AAIBjkl9cqpET0rUrp0iSlBgTrtGD0hQfFe5wspqJIg8AAICjcrut7p2yUIu3ZEuSwkKMXr2pp1okxzqcrOaiyAMAAOCo/v3VSk1fut23//crO+nUVskOJgJFHgAAAEf03txNGvXjgRlqhp3eUjf1ae5gIkgUeQAAABzBb2t3668fLvbtn9ehnv7KDDV+gSIPAACAw8rYlavbJqar1G0lSR0axuulAcxQ4y8o8gAAADjE3vxiDRs/V9kFJZKkerUi9dbgNMVGhjmcDPtR5AEAAFBOcalbt76drnWZeZKkqPAQjR6cpkaJ0Q4nQ1kUeQAAAPhYa/XwR4s1a12Wb+zF67ura5NEB1PhcCjyAAAA8Bn1Y4beT9/s23/wona6qHNDBxOhIhR5AAAASJKmL9mmZ6av8O33T22i289q5WAiHAlFHgAAAFq0ea/umbLAt9+nZZKeurqLjGGGGn/laJE3xlxqjPnaGLPZGFNgjMkwxrxvjDmlgvNPNcZ8YYzJMsbkG2MWGWPuMcaEVnd2AACAYLF1b4GGjZ+rwhK3JKllcqxGDUxVRBj3fP2ZY/92jDHPSPpMUk9J0yW9JGmepCsl/WqMGXjQ+VdK+knSmZI+kvQ/SRGSXpA0ufqSAwAABI+8olINGz9Xu3KKJEkJ0eF6a3CaasdGOJwMR+PIRKDGmAaS7pe0Q1JXa+3OMsfOkfS9pCckTfSOxUt6U5JL0tnW2rne8Ue95/Yzxgyw1lLoAQAAjpHLbXX3u/O1fNs+SVJYiNFrA3sqpW6cw8lwLJy6I9/c+2vPKlviJcla+4OkHEl1ywz38+5P3l/ivecWSnrEu3t7lSYGAAAIMk99vlzfrThQxf55dRed2irZwUQ4Hk4V+dWSiiX1NsaU+91ijDlTUi1J35YZPte7nX6Yz/pJUr6kU40xkVWQFQAAIOiM/XWdxvy6zrd/61kpuq5XUwcT4Xg5UuSttVmSHpJUX9IyY8wbxph/GWPek/S1pG8k3Vrmknbe7arDfFappHXyPCaUUqXBAQAAgsDXS7fric+W+fYv7txAD13Y3sFEOBGOPCMvSdbaF40x6yWNkTSizKE1ksYd9MhNgnebXcHH7R8/6pJjxpj0Cg7xuxcAAAS9hZv26u7J82WtZ79Hs0S9cH13hYQwzWSgcXLWmgclTZU0TlIrSbGSUiVlSJpkjPn38Xycd2srMyMAAEAw2ZSVX26ayWZJMRo9KE1R4czkHYicmrXmbEnPSPrIWntvmUPzjDFXy/MIzX3GmFHW2gwduOOeoMOL924rumPvY61NrSBTujxTYQIAAASd7IIS3TJujjJzPdNMJsaEa9wtvVQnjlcMA5VTd+Qv825/OPiAtTZf0mx5svXwDq/0btsefL4xJkxSS0ml8tzNBwAAQBnFpW7d9na61uzMlSRFhIbojZvTmGYywDlV5Pf/0a9uBcf3jxd7t997txcd5twzJcVImmmtLaqceAAAAMHBWqu/fLhIv2Xs9o0927+rerdMcjAVKoNTRf5n73akMaZx2QPGmIslnSapUNJM7/BUSZmSBhhj0sqcGyXpSe/ua1WaGAAAIAC99N1qfThvi2//gQvb6crujY9wBQKFU7PWTJVnnvjzJC03xnwkabukDvI8dmMk/cVau1uSrLX7jDEjvNfNMMZMlpQl6Qp5pqacKmlKtX8VAAAAfmxq+ma9+O1q3/6AXk11x9mtHEyEyuRIkbfWuo0xl0i6U9IASVfL83hMlqQvJP3XWvv1Qdd8bIw5S9LDkq6VFCXPVJX3es9nxhoAAACvmWsy9ZcPFvn2z2iTrH9c1VnGMM1ksHByHvkSSS96/zrWa36VdEmVhQIAAAgCq3fk6NaJ6Sp1e+5ztm9QS6/e1FPhoY7NPI4qwL9NAACAILIzp1BDxs5RTmGpJKl+fKTGDOmlWlHhDidDZaPIAwAABIn84lINHz9XW/YWSJJiI0I1ZkgvNUqMdjgZqgJFHgAAIAiUuty6+90FWrTZsz5maIjRKzf1VKdGFa2niUBHkQcAAAhw1lr97dOl+nb5Dt/YE1d20jnt6jmYClWNIg8AABDgXp2xVpNmbfTt33pWim7q09zBRKgOFHkAAIAANjV9s579aqVv/6rujfTQhe0dTITqQpEHAAAIUD+t2lVurvjTWtfRv/t1U0gIc8XXBBR5AACAALRkS7ZuP2iu+NcGpioijHpXU/BvGgAAIMBsysrXLePmKK/YJUlqlBCl8UN7K5654msUijwAAEAA2ZNXrMFjZ2tXTpEkKT4qTOOH9lb9+CiHk6G6UeQBAAACRGGJS8PGz1HGrjxJUkRoiN4clKY29Ws5nAxOoMgDAAAEAJfb6u5352vexr2SJGOkF67vrj4pdRxOBqdQ5AEAAPyctVZ/n7ZUXy87sODTo5d21KVdGzqYCk6jyAMAAPi5UT9maMJvG3z7I85oqaGnt3QwEfwBRR4AAMCPfThvs56ZvsK3f3m3Rvq/izs4mAj+giIPAADgp35ZnakHpx5Y8KlvSpKe69+VBZ8giSIPAADgl5ZsydZtZRZ8ale/ll6/OU2RYaEOJ4O/oMgDAAD4mQ278zRk7BzlFpVKkhrER2nsLb2UEM2CTziAIg8AAOBHduUU6ea3Zisz98CCT+OG9lKjxGiHk8HfUOQBAAD8RE5hiYaMna2NWfmSpMiwEL01pJfaN4h3OBn8EUUeAADADxSWuDRyQrqWbt0nSQox0is39lSvFkkOJ4O/osgDAAA4zOW2uve9BfotY7dv7F/XdNH5Hes7mAr+jiIPAADgIGut/vbpEn2xeLtv7IEL2+n6Xs0cTIVAQJEHAABw0EvfrdbE3zf69m85rYXuOLuVg4kQKCjyAAAADpn4+wa9+O1q3/4V3Rrp0Us7yhgWfMLRUeQBAAAc8MXibXr0kyW+/TPaJOu5/t1YtRXHjCIPAABQzWauzdQ9kxfIehZtVbcmCRo1MFURYVQzHDt+twAAAFSjJVuyNXJCuopdbklSSnKsxgzppdjIMIeTIdBQ5AEAAKrJht15GjJ2jnKLSiVJ9eMjNX5ob9WJi3Q4GQIRRR4AAKAa7Mop0qAxs5WZWyRJio8K0/ihvdU0KcbhZAhUFHkAAIAqll1QosFjZmvD7nxJUmRYiEYP7qX2DeIdToZARpEHAACoQgXFLg0fP0fLtu2TJIUY6ZUbe6p3yySHkyHQUeQBAACqSHGpW7dPStec9Xt8Y09f21Xnd6zvYCoEC4o8AABAFXC5re59b4FmrNzlG3vk0g66Lq2pg6kQTCjyAAAAlcxaq0c/WaLPFm3zjd19bmsNPyPFwVQINhR5AACASvbvr1bqnVkbffuDT2muP5/f1sFECEYUeQAAgEo06se1em3GWt/+Vd0b6W+Xd5IxxsFUCEYUeQAAgEry7uyNevrLFb798zrU07P9uykkhBKPykeRBwAAqASfL9qmv3602Lffp2WSXrmxp8JDqVuoGvzOAgAAOEk/rtqle6bMl7We/S6NEzR6cJqiwkOdDYagRpEHAAA4CekbsnTb2+kqcXlafKu6sRp3Sy/Vigp3OBmCHUUeAADgBC3buk9Dxs5RQYlLktQ4MVpvD+ujOnGRDidDTUCRBwAAOAHrMvM0aMxs5RSWSpKS4yI0cXgfNUqMdjgZagqKPAAAwHHaurdAA0fPUmZukSSpVlSYxg/trZbJsQ4nQ01CkQcAADgOu3KKNHD0LG3ZWyBJigoP0dghvdSpUYLDyVDTUOQBAACO0Z68Yg0cPUsZmXmSpPBQo1EDU5XWIsnhZKiJKPIAAADHYF9hiQaPna2VO3IkSaEhRi/f0FNnt6vncDLUVBR5AACAo8gvLtWwcXO0aHO2JMkY6T/9u+mizg0cToaajCIPAABwBIUlLo2ckK456/f4xv55dRdd1aOxg6kAijwAAECFSlxu3fXOPP2yJtM39uhlHXVD72YOpgI8KPIAAACH4XJb/XnKAn27fKdv7P4L2mrY6S0dTAUcQJEHAAA4iNtt9dAHi/TZom2+sdvPbqU7z2ntYCqgPIo8AABAGdZaPT5tqaamb/aNDTm1hR68sJ2MMQ4mA8qjyAMAAHhZa/X09BWa8NsG39h1aU302GUdKfHwOxR5AAAAr5e/X6PXf8zw7V/erZH+dU1XhYRQ4uF/KPIAAACSRv+coee/WeXbP69DfT1/XTeFUuLhpyjyAACgxpv4+wY9+fly3/4ZbZL1yo09FB5KVYL/4ncnAACo0SbP3qhHPl7i2+/dIklv3JymqPBQB1MBR0eRBwAANdbU9M36v48W+/a7NU3UW0PSFB1BiYf/o8gDAIAa6eP5W/TA1IWy1rPfuXG8JgztrVpR4c4GA44RRR4AANQ4ny3aqnvfW+Ar8R0axmvisD5KiKbEI3BQ5AEAQI0yfck2/WnyArm9Jb5d/VqaNLyPEmMinA0GHCeKPAAAqDG+WbZDd70zXy5vi29dL06TRvRRUiwlHoGHIg8AAGqEH1bs1B2T0lXqLfEpybF6Z3gfJcdFOpwMODGOF3ljzBnGmA+MMduMMUXe7dfGmEsOc+6pxpgvjDFZxph8Y8wiY8w9xhheLQcAABX6adUu3ToxXSUuT4lvXidG74zoq3rxUQ4nA05cmJO/uDHmEUn/kJQp6TNJ2yQlS+oh6WxJX5Q590pJH0gqlDRFUpakyyW9IOk0Sf2rMToAAAgQM9dkasSEuSoudUuSmtSO1jsj+qpBAiUegc2xIm+M6S9Pif9W0jXW2pyDjoeX+ft4SW9Kckk621o71zv+qKTvJfUzxgyw1k6urvwAAMD/zcrYrWHj56rIW+IbJ0br3RF91Tgx2uFkwMlz5NEaY0yIpGck5Uu68eASL0nW2pIyu/0k1ZU0eX+J955TKOkR7+7tVZcYAAAEmrnrs3TLuDkqKHFJkhrER+mdEX3UNCnG4WRA5XDqjvypklpKmippjzHmUkmd5XlsZra19reDzj/Xu51+mM/6SZ4/EJxqjIm01hZVUWYAABAg5m3coyFj5yi/2FPi69WK1Lsj+6p5nViHkwGVx6ki38u73SFpnqQuZQ8aY36S1M9au8s71M67XXXwB1lrS40x6yR1kpQiaXmVJAYAAAFh/sY9GvzWbOUWlUqSkuMi9M6IvmqZTIlHcHGqyNfzbm+TtE7SeZJmSWou6T+SLpT0vjwvvEpSgnebXcHn7R9PPNovbIxJr+BQ+6NdCwAA/Ns8b4nP8Zb4pFhPiW9dL87hZEDlc2r6yf3TRRp57rx/Z63NtdYulXS1pM2SzjLGnHKMn2e8W1vJOQEAQIBI37BHgw4q8ZOG91Hb+rUcTgZUDafuyO/xbjOstQvLHrDWFhhjvpI0TFJvSb/pwB33BB1evHdb0R37sp+ferhx7536nke7HgAA+J/0DVkaPGaO73Eaz534PmrfIP4oVwKBy6k78iu9270VHN9f9PfPDbX//LYHn2iMCZPnxdlSSRmVFRAAAASGueuzNKjMM/F1YiP07oi+lHgEPaeK/E/yFO82xpiIwxzv7N2u926/924vOsy5Z0qKkTSTGWsAAKhZ5qzP0uAxs5XnnZ0mOS5C747sq3YNeJwGwc+RIm+tzZRnddYESY+VPWaMOV+el12zdWC6yanyrP46wBiTVubcKElPendfq+LYAADAj8xed3CJj9S7I/ryTDxqDMdWdpV0r6Q+kh42xpwpabY8s9ZcLc8KriOstXslyVq7zxgzQp5CP8MYM1lSlqQr5Jmacqo8fzAAAAA1wKyM3bpl3IF54pPjIjV5ZB+1rkeJR83h1KM1stbulKfIvyCpqaS75Vn46XNJZ1hr3z/o/I8lnSXPYznXSvqjpBJ5/kAwwFrLjDUAANQAv2fsLrfYU91akZo8si8lHjWOk3fkZa3NkqeI33uM5/8q6ZIqDQUAAPzWb2t3a+i4OSooKb9ia6u6zBOPmsfRIg8AAHCsZq7N1NBxc1RY4pZEiQco8gAAwO/NXJOpoeMPlPj68Z4XW1Mo8ajBKPIAAMCv/bx6l0ZMmOsr8Q3io/TuyL5qmRzrcDLAWRR5AADgt75bvkO3T5qn4lJPiW+YEKV3R/RVC0o8QJEHAAD+afqSbfrju/NV4vJMTNcoIUrvUOIBH4o8AADwO58s2KJ731sol9tT4psmReud4X3VNCnG4WSA/6DIAwAAv/L+3E168INF2r9CTEpyrCaN6KOGCdHOBgP8DEUeAAD4jUmzNujhj5b49tvWj9PE4X1Ur1aUg6kA/0SRBwAAfmHML+v0xGfLfPsdG8Zr4vA+SoqNcDAV4L8o8gAAwHGvzVirZ6av8O13a5KgCUP7KCEm3MFUgH+jyAMAAMdYa/XSd6v14rerfWNpzWtr7C29VCuKEg8cCUUeAAA4wlqrf3+1Uq/NWOsbOyWljkYPTlNsJBUFOBr+KwEAANXOWqsnPlumsb+u942d2bau3rg5VVHhoc4FAwIIRR4AAFQrt9vq0U+WaNKsjb6x8zrU0/9u6qnIMEo8cKwo8gAAoNqUutz6y4eLNTV9s2/ski4N9OL1PRQRFuJgMiDwUOQBAEC1KCp16Z7JC/Tlku2+sau6N9Jz/bspLJQSDxwvijwAAKhy+cWluvXtdP28OtM3dn1aU/3zmi4KDTEOJgMCF0UeAABUqX2FJRo6do7mbtjjGxt2eks9cmkHGUOJB04URR4AAFSZ3blFGjRmtpZu3ecbu+e8NvrTH9pQ4oGTRJEHAABVYlt2gQaOnqW1u/J8Y49e1lHDTm/pYCogeFDkAQBApVufmaebRs/Slr0FkqQQIz19TVdd16upw8mA4EGRBwAAlWrl9hwNfGuWduUUSZLCQ41evL6HLu3a0OFkQHChyAMAgEqzYNNeDRk7W3vzSyRJUeEhGjUwVWe3q+dwMiD4UOQBAECl+G3tbg0fP0d5xS5JUlxkmMYM6aXeLZMcTgYEJ4o8AAA4ad8t36HbJ81TcalbklQ7JlwThvZRlyYJDicDghdFHgAAnJRPF27VvVMWqNRtJUn14yM1cVgftalfy+FkQHCjyAMAgBP29u8b9NgnS2Q9HV7NkmI0aXgfNU2KcTYYUANQ5AEAwHGz1uql71brxW9X+8ba1IvTxOF9VD8+ysFkQM1BkQcAAMfF5bZ6/NOlevv3Db6xbk0TNXZILyXFRjiYDKhZKPIAAOCYFZW6dO/r4ps4AAAgAElEQVR7C/X5om2+sTPaJGvUwFTFRlIrgOrEf3EAAOCY5BaV6ra30/XLmkzf2OXdGuk//bspIizEwWRAzUSRBwAAR7U7t0hDx83Rws3ZvrHBpzTX3y7vpJAQ42AyoOaiyAMAgCPavCdfg8bMVsauPN/Yfee31V3ntpYxlHjAKRR5AABQoVU7cjTordnavq9QkmSM9ORVnXVTn+YOJwNAkQcAAIeVvmGPho6bo+yCEklSRGiIXhzQXZd0aehwMgASRR4AABzGDyt36vaJ6SoscUuSYiNC9cagNJ3WOtnhZAD2o8gDAIByPpq/WQ+8v0ilbs9yrXViIzTult7q0iTB4WQAyqLIAwAAn9E/Z+jJz5f79hsnRuvtYb2VUjfOwVQADociDwAA5HZbPfXFcr31yzrfWLv6tTRhWG/Vj49yMBmAilDkAQCo4Q63Wmta89p6a3AvJcSEO5gMwJFQ5AEAqMGyC0o0csJczVqX5Ru7sFN9vTSgh6LCQx1MBuBoKPIAANRQW/cWaMjY2Vq1I9c3NviU5nrs8k4KZbVWwO9R5AEAqIFWbN+nIWPm+BZ6kqS/XNxet56ZwmqtQICgyAMAUMPMXJupWyekK6eoVJIUHmr0bL9uuqpHY4eTATgeFHkAAGqQTxdu1f3vLVSxy7PQU1xkmF6/OZWFnoAARJEHAKCGOHiO+Hq1IjXult7q2CjewVQAThRFHgCAIOd2Wz35+XKN+fXAHPGt68Vp/NDeapwY7WAyACeDIg8AQBArLHHpvvcW6vPFB+aI790iSW8MSlViTISDyQCcLIo8AABBam9+sUa+na7ZZeaIv6RLAz1/XXfmiAeCAEUeAIAgtD4zT0PHzVFGZp5vbMipLfToZR2ZIx4IEhR5AACCTPqGLI2YkK6svGLf2F8vaa8RZzBHPBBMKPIAAASRaQu36r73F6q41DO9ZGRYiF64vrsu6dLQ4WQAKhtFHgCAIGCt1asz1urZr1b6xurERujNwWnq2ay2g8kAVBWKPAAAAa7E5dYjHy3RlLmbfGOt6sZq7JDealYnxsFkAKoSRR4AgAC2r7BEd0ycp1/WZPrG+qYk6fWBaUqICXcwGYCqRpEHACBAbd6Tr1vGztHqnbm+sWt6NtbT13RVRFiIg8kAVAeKPAAAAWjhpr0aNn6uMnOLfGN/Pq+t7v5Da2amAWoIijwAAAHmq6Xb9afJ81VY4pmZJiI0RM/066KrezRxOBmA6kSRBwAgQFhr9dYv6/TUF8tlrWcsITpcb9ycqj4pdZwNB6DaUeQBAAgAJS63Hv90qSbN2ugba5YUo7G39FKrunEOJgPgFIo8AAB+bm9+se6YNE8z1+72jaU2r603bk5VnbhIB5MBcBJFHgAAP7Z2V66Gj5+rdZl5vrHLuzXSs/26Kio81MFkAJxGkQcAwE/9vHqX7pw0T/sKS31j953fVnedy8w0ACjyAAD4pbd/W6/Hpy2Ty+15qzUqPETPX9ddl3Rp6GwwAH7Db1aLMMbcbIyx3r+GV3DOZcaYGcaYbGNMrjFmljFmcHVnBQCgqpS63HrskyV69JOlvhJfPz5S7996KiUeQDl+cUfeGNNU0suSciUd9tV7Y8xd3nN2S5ooqVhSP0njjDFdrLX3V1NcAACqRHZ+ie58Z55+WZPpG+vaJEFvDkpT/fgoB5MB8EeO35E3nof8xspT0EdVcE4LSc9JypKUZq2901r7Z0ldJa2VdJ8x5pRqCQwAQBVYl5mnq1/9tVyJv7RrQ00ZeQolHsBhOV7kJd0t6VxJt0jKq+CcoZIiJb1irV2/f9Bau0fSP727t1VhRgAAqszMNZm66n+/KqPMzDT3nNdGr9zQQ9ERzEwD4PAcfbTGGNNB0tOSXrLW/mSMObeCU/ePTz/MsS8POgcAgIAxadYGPVbmefjIsBD957puuqxrI4eTAfB3jhV5Y0yYpLclbZT016Oc3s67XXXwAWvtNmNMnqQmxpgYa21+5SYFAKDylbjceurz5Ro3c71vrF6tSL05KE3dmiY6FwxAwHDyjvxjknpIOt1aW3CUcxO82+wKjmdLivWed8Qib4xJr+BQ+6NkAACgUmTlFeuOSen6PSPLN9a5cbxGD+qlBgk8Dw/g2DhS5I0xveW5C/8fa+1vlfGR3q2thM8CAKDKLN2arZET0rVl74F7WJd0aaD/9O/O8/AAjku1F/kyj9SskvToMV6WLSlZnjvuuw9zPN673Xe0D7LWplaQK11Sz2PMAwDAcZu2cKsemLpQhSVuSZIxnpVa7zyHlVoBHD8n7sjHSWrr/fvCCr5xvWmMeVOel2DvkbRSniLfVlK5O/jGmIbyPFazmefjAQD+yOW2eu7rlXptxlrfWFxkmF68vrvO61jfwWQAApkTRb5I0lsVHOspz3Pzv8hT3veX9u8lnSbpIh1U5CVdXOYcAAD8SnZBif40eb5mrNzlG0tJjtUbg9LUut5h10AEgGNS7UXe+2Lr8MMdM8Y8Lk+RH2+tHV3m0FhJD0q6yxgzdv9c8saY2jow481hF5MCAMApa3bmaMSEdK0rMz/8Oe3q6sUBPZQQHe5gMgDBwNF55I+VtXadMeYBSf+VNNcYM0VSsaR+kpqo8l6aBQCgUny7bIfumbJAuUWlvrE7zm6l+y5op9AQnocHcPICoshLkrX2ZWPMekn3Sxokz6q0yyQ9Yq0d72Q2AAD2c7ut/vfDGj3/7SpZ71xq0eGherZ/VxZ5AlCp/KrIW2sfl/T4EY5PkzStuvIAAHA88opKdf/7C/Xlku2+scaJ0XpzUJo6Noo/wpUAcPz8qsgDABCo1mfm6baJ6VqxPcc3dkpKHf3vpp5Kio1wMBmAYEWRBwDgJH27bIf+/N4C5RQeeB5+yKkt9PClHRQeGuJgMgDBjCIPAMAJcrmtXvx2lV7+fo1vLCI0RE9e3VnXpTV1MBmAmoAiDwDACdiTV6y7J8/Xz6szfWONE6P12sCe6tok0cFkAGoKijwAAMdp8eZs3TYxXVv2FvjGzmiTrJcG9OB5eADVhiIPAMBxmDJnox79ZKmKS92+sbvOaa0/n9+W+eEBVCuKPAAAx6CwxKW/T1uqd2dv8o3VigzT89d31/kd6zuYDEBNRZEHAOAoNu/J1x2T5mnR5mzfWLv6tTTq5lS1TI51MBmAmowiDwDAEfy8epfufne+9uSX+Mau7N5I/7qmi2Ii+DEKwDl8BwIA4DDcbqvXflyr/3y9Um7rGQsLMXrk0g4afGoLGcPz8ACcRZEHAOAge/OLdf/7C/Xt8p2+sbq1IvXqTT3Vq0WSg8kA4ACKPAAAZczfuEd3vTO/3NSSvVsk6ZUbe6hefJSDyQCgPIo8AACSrLUaN3O9/vnFcpW4rG982Okt9ZeL2ys8NMTBdABwKIo8AKDG21dYooemLtKXS7b7xmpFhenZft10UecGDiYDgIpR5AEANdqSLdm6Y9I8bczK9411aZyg/93YU83qxDiYDACOjCIPAKiRrLWaOGuj/jFtmYpdB1ZpHXRKcz18aQdFhoU6mA4Ajo4iDwCocXKLSvWXDxbps0XbfGNxkWF6+touuqxrIweTAcCxo8gDAGqU5dv26c5J85SRmecb69AwXq/e1JNVWgEEFIo8AKBGsNbqvbmb9NgnS1VUeuBRmht6N9PfLu+oqHAepQEQWCjyAICgl1dUqkc/XqIP52/xjUWHh+qf13TW1T2aOJgMAE4cRR4AENSWbMnWH9+dr3VlHqVpWz9Or97UU63r1XIwGQCcHIo8ACAoWWs15tf1evrL8gs8Xduzif5xVSfFRPAjEEBg47sYACDo7M4t0v3vL9QPK3f5xmIjQvWPqzrrmp48SgMgOFDkAQBBZeaaTN0zZYF25hT5xro0TtB/b+jBrDQAggpFHgAQFEpcbr3wzSq99uNa2QNP0mj46S314EXtFREW4lw4AKgCFHkAQMDblJWvuyfP1/yNe31jdWIj9Nx13XROu3oOJgOAqkORBwAEtM8XbdNfPlyknMJS39jprZP1/PXdVK9WlIPJAKBqUeQBAAEpv7hUT0xbpslzNvnGwkKM7rugnW49M0UhIcbBdABQ9SjyAICAs2zrPt09eb7W7Mz1jTVNitZ/B/RQj2a1HUwGANWHIg8ACBhut9XoXzL03FerVOxy+8Yv79ZIT13dWfFR4Q6mA4DqRZEHAASErXsLdO97C/R7RpZvLDo8VH+/spP6pzaRMTxKA6BmocgDAPzepwu36uGPFpd7obVrkwS9cH13taob52AyAHAORR4A4LeyC0r02CdL9MmCrb6xECPddU5r/fEPbRQeytzwAGouijwAwC/9tna37ntvgbZmF/rGmiZF68Xruyu1eZKDyQDAP1DkAQB+pajUpee/WaU3fsoot0Jr/9Qm+tsVnRQXyY8uAJAo8gAAP7JqR47umbxAy7bt840lxoTrX1d30cVdGjqYDAD8D0UeAOA4t9tq/G/r9a8vV6i49MC0kme0SdZz/bupfjwrtALAwSjyAABHbd1boIc+WKSfV2f6xiLCQvTXi9tr0CktWKEVACpAkQcAOMJaq6npm/XEtGXKKTowrWSHhvF6aUB3ta1fy8F0AOD/KPIAgGq3c1+h/u/DxfpuxU7fmDHSyDNSdO8FbRUZFupgOgAIDBR5AEC1sdbq04Vb9bdPl2pvfolvvHmdGD3Xv5t6tWBaSQA4VhR5AEC12J1bpEc+XqIvl2wvNz74lOZ66OL2iongRxIAHA++awIAqtz0Jdv08EdLtDuv2DfWODFaz/bvqlNbJTuYDAACF0UeAFBl9uYX62+fLtUnC7aWG7+hd1M9fGlHFncCgJPAd1AAQJX4fsUO/eWDxdqZU+QbaxAfpaev7aKz29VzMBkABAeKPACgUmUXlOipz5fpvbmby41f07Ox/nZ5JyVEhzuUDACCC0UeAFBpvlm2Q498vFg79h24C58cF6l/XdNF53es72AyAAg+FHkAwEnLzC3S458u1WeLtpUbv6xrQ/3jys6qHRvhUDIACF4UeQDACbPW6pMFW/X3aUu1p8y88MlxkXriyk66pEtDB9MBQHCjyAMATsjWvQV6+KPF+mHlrnLj1/Zsokcv66DEGO7CA0BVosgDAI6L2201afZGPfPlCuUWlfrGGydG65/XdNFZbes6mA4Aag6KPADgmK3LzNNDHyzS7HVZvjFjpMGntND9F7ZjXngAqEZ8xwUAHFWpy63Rv6zTC9+sUlGp2zeeUjdW/762q9JaJDmYDgBqJoo8AOCIlm3dp4c+WKTFW7J9Y6EhRredlaI/nttGUeGhDqYDgJqLIg8AOKz84lK9+O1qvfXLOrnc1jfeqVG8/t2vqzo1SnAwHQCAIg8AOMR3y3fosU+WasveAt9YRFiI7jmvjUackaLw0BAH0wEAJIo8AKCM7dmFevzTpZq+dHu58b4pSXrq6i5qVTfOoWQAgINR5AEAcrmtJvy2Xv/5elW5KSVrx4TrkUs76pqejWWMcS4gAOAQFHkAqOGWbMnWXz9arEWbs8uNX5fWRP93cQfVjmVhJwDwRxR5AKihcotK9fzXqzRu5jqVeZdVrerG6p9Xd1GflDrOhQMAHBVFHgBqoK+Wbtfjny7VtuxC31hEWIj+eE5rjTwrRZFhTCkJAP6OIg8ANcimrHw98dkyfbNsR7nx01sn68mrOqtFcqxDyQAAx4siDwA1QGGJS6//mKFXZ6wptzJrclyEHr2so67o1oiXWQEgwFDkASDIfbd8h/4+bZk2ZuWXG7+hd1M9dFF7JcbwMisABCJHirwxpo6kqyVdKqmLpMaSiiUtljRW0lhrrfsw150q6RFJfSVFSVojaYykl621rupJDwCBYcPuPD0xbZm+W7Gz3HjnxvH6+xWdldq8tkPJAACVwak78v0lvSZpm6QfJG2UVF/SNZJGS7rYGNPfWuubR8EYc6WkDyQVSpoiKUvS5ZJekHSa9zMBoMYrKHbptRlrNOqnDBWXeYwmITpcD1zYTjf0bqbQEB6jAYBA51SRXyXpCkmfl73zboz5q6TZkq6Vp9R/4B2Pl/SmJJeks621c73jj0r6XlI/Y8wAa+3kav0qAMCPWGv11dId+sdny7Rlb4Fv3BhpQK9meuDCdkpiTngACBqOFHlr7fcVjG83xoyS9JSks+Ut8pL6SaoracL+Eu89v9AY84ik7yTdLokiD6BGytiVq8enLdNPq3aVG+/WNFFPXNFJ3ZomOpQMAFBV/PFl1xLvtrTM2Lne7fTDnP+TpHxJpxpjIq21RVUZDgD8SV5RqV75YY1G/5yhEteBVZ1qx4TroYva67q0pgrhMRoACEp+VeSNMWGSBnl3y5b2dt7tqoOvsdaWGmPWSeokKUXS8ioNCQB+wO22+nD+Fv17+grtzDlw/yLESDf1aa77LmjLbDQAEOT8qshLelpSZ0lfWGu/KjOe4N1mV3Dd/vGj/r9jY0x6BYfaH1NCAHDYnPVZ+sdny7Roc/lviT2bJeqJKzurc+OECq4EAAQTvynyxpi7Jd0naYWkm4/3cu/WHvEsAAhgm7Ly9fT0Ffp80bZy43VrReqhi9rrmh6NeYwGAGoQvyjyxpg7Jb0kaZmkP1hrsw46Zf9tp4puM8UfdF6FrLWpFWRIl9Tz6GkBoHrlFpXqtRlr9ObP68pNJxkZFqKRZ6botrNaKTbSL76dAwCqkePf+Y0x98gzF/wSeUr8zsOctlJSmqS2kso9GuN9rr6lPC/HZlRtWgCoPi631Qfpm/Xs1yu1K6f8e/yXd2ukhy5qpya1YxxKBwBwmqNF3hjzkDzPxS+QdL61NrOCU7+XdJOkiyS9e9CxMyXFSPqJGWsABIvfM3brH58t09Kt+8qNd2uSoMcu76jU5kkOJQMA+AvHirx3Macn5LnDfsFhHqcpa6qkZyQNMMa8XGZBqChJT3rPea0q8wJAddi4O1//+nK5vlyyvdx4g/goPXRxO13ZjefgAQAejhR5Y8xgeUq8S9LPku425pAfTOutteMkyVq7zxgzQp5CP8MYM1lSljyrw7bzjk+pnvQAUPmy8or18verNfH3DeXmg48KD9GtZ7bSrWelKCbC8achAQB+xKmfCi2921BJ91Rwzo+Sxu3fsdZ+bIw5S9LDkq6VFCVpjaR7Jf3XWsuMNQACTkGxS2N+XadRM9Yqp6i03LGrujfSgxe1V6PEaIfSAQD8mSNF3lr7uKTHT+C6XyVdUtl5AKC6udxWU9M36YVvVmv7vsJyx1Kb19bDl3ZQz2a1HUoHAAgE/H9aAKhG1lp9v2Knnv5yhVbvzC13LKVurB66qL0u6Fhfh3ncEACAcijyAFBN5m/co399uUKz15V/t79urUjdc14bXZ/WVGGhIQ6lAwAEGoo8AFSxdZl5evarFfpicfmZaGIjQnXrWa00/IyWvMgKADhu/OQAgCqyM6dQr3y/Ru/M2qhS94H38cNCjG7q00x//EMbJcdFOpgQABDIKPIAUMn25BVr1E9rNX7mehWWuMsdu7RLQz1wYTu1SI51KB0AIFhQ5AGgkuwrLNFbP6/TW7+sU+5BU0n2aZmk/7ukg7o3TXQoHQAg2FDkAeAk5ReXatzM9Xr9xwxlF5SUO9apUbzuv6Cdzm5Xl5loAACViiIPACeosMSld2Zt1Ksz1igzt7jcsTb14nTv+W11YacGCgmhwAMAKh9FHgCOU4nLrffmbtLL3605ZDGn5nVidM95bXRFt8YKpcADAKoQRR4AjpHLbfXx/C166bvV2piVX+5Yw4Qo3f2HNuqX2kThzAUPAKgGFHkAOIpSl1ufLtyqV35Yo4xdeeWOJcdF6q5zWmlA72aKCg91KCEAoCaiyANABUpcbn00b4v+N2ONNuwufwc+MSZct53VSoNPaaHoCAo8AKD6UeQB4CBFpS5NTd+sV39Yqy17C8odqxUVpmGnt9Sw01uqVlS4QwkBAKDIA4BPYYlLU+Zs0qgf12pbdvmXWBOiwzXs9JYafGoLJURT4AEAzqPIA6jxCopdmjRrg17/KUO7corKHUuKjdDwM1rq5r7NuQMPAPArFHkANVZeUane/n2DRv+cccg88Mlxkbr1zBTd1LeZYiL4VgkA8D/8dAJQ42TlFWv8zPUa/9t67c0vvxJr/fhI3XZWK93ALDQAAD9HkQdQY2zKytfonzM0Ze4mFZa4yx1rlBCl289prf6pTSjwAICAQJEHEPSWbd2n139aq88WbZPLbcsda5oUrTvPbq1rejZRRBgLOQEAAgdFHkBQstbqt4zdGvVjhn5ateuQ4x0bxuu2s1vpks4NFMZKrACAAESRBxBUXG6rr5Zu1+s/rtXCzdmHHD+tdR3ddlYrnd46WcYYBxICAFA5KPIAgkJhiUsfztuiN3/O0LrMvHLHQox0ceeGuvWsFHVtkuhQQgAAKhdFHkBA27mvUBN/36BJszZqd175KSQjwkLUL7WJRp6RohbJsQ4lBACgalDkAQSkJVuyNeaXdZq2aKtKXOVfYI2PCtPNpzTXkFNbqm6tSIcSAgBQtSjyAAKGy231zbIdGvPrOs1el3XI8UYJUbrltJa6oU8zxUXy7Q0AENz4SQfA7+0rLNF7czZp3Mz12ryn4JDjac1ra+jpLXVBx/rMQAMAqDEo8gD81vrMPI2buV7vz92kvGJXuWNhIUaXdW2oW05rqW5NeYEVAFDzUOQB+BW32+rH1bs08bcN+n7lTtnyj7+rdky4buzTTDf3baEGCVHOhAQAwA9Q5AH4hd25RXo/fbMmzdqgTVmHPj7Tpl6chp7eUld1b6zoiFAHEgIA4F8o8gAcY61V+oY9mvj7Bn2xeLuKXe5DzjmnXV0NPb0lCzgBAHAQijyAapdbVKqP5m/RpN83aMX2nEOOJ0SHq39qE93Yp5lS6sY5kBAAAP9HkQdQbVZs36eJv2/QR/O2HPLyqiR1b5qogX2b67KuDRUVzuMzAAAcCUUeQJXKLy7VF4u3a/LsjZq7Yc8hx6PDQ3Vl90Ya2Le5OjdOcCAhAACBiSIPoNJZazV/0169P3eTpi3cptyi0kPOaV0vTgP7NNPVPZsoITrcgZQAAAQ2ijyASpOZW6SP5m3Re3M3afXO3EOOh4UYXdi5gQb2aa6+KUm8vAoAwEmgyAM4KaUut35ctUvvzd2k75bvVKnbHnJOSt1YXZfWVNf0bKx6tZj7HQCAykCRB3BCMnbl6v30zfogfbN25hQdcjwmIlSXdW2o69KaKrV5be6+AwBQySjyAI7Znrxifb54mz6ev+WwL65KUlrz2rouraku7dpQsZF8iwEAoKrwUxbAERWWuPTt8h36eP5W/bhqp0pchz46kxwXqWtTG+u6tKZqxbzvAABUC4o8gEO43Fa/Z+zWx/O36Msl2w8760xoiNG57evp+rSmOqtdXYWHhjiQFACAmosiD0CSZ8rIZdv26eP5W/Tpwq3ase/Q597/v717D67jLO84/n1kyZZsS7IjyZc4FzsmcpwrSSAhMeRGCIEACRQ6QBs6TIHSMhOgYWCm3Bp6AToDhaSUdkqZlJYpFCgJBQ+EhAwGQkKblOIQx04iOxfHlmXJsWVZlm3p7R+7chRF8iWSznqPvp+Znfdo39XRM7Ojc37nPe++C3DuSfO47sVLuObsxbTOnVXhKiVJ0jCDvDTNPd7dx/d/s4Xbf72ZDZ3PXzISYFnrHK598fFc9+IlLG2dU+EKJUnSWAzy0jS0cXsfq9duYfXaLfz26V1jHtMyZyavP+d4rjt3Ceec0OyqM5IkHWMM8tI00dG1m9Vrt/CDtVtZt2Xs8N5QN4NXn7GQa89dwstf1Oq8d0mSjmEGeamKPbpt98GR94e39o55zMwZNVzS3so1Zy/mqtMXuWSkJEkl4Tu2VEVSSmzo3M0PH9zK6rVbWN85TnivreHS9jauOWsxV6xcQFN9XYUrlSRJE2WQl0pu/+AQ/72xhx+v6+TOdZ082dM/5nEza2u4rL2Na85ezBWnLaDR8C5JUqkZ5KUS2tm/n59u6OLOhzq5e/02evc+f513gFm1NVy+YgGvzcP7XKfNSJJUNXxXl0riyZ493LWukx+v6+S+jh4ODD3/DqsAc2fVcml7G1efuYgrTlvgnHdJkqqU7/DSMWr/4BD/+8QzrNnQxZ3rOse9WBVgybwGrly5gCtPX8iFy1qYWetqM5IkVTuDvHQMebJnD2se6WLNhi7uebSb3oGxp8wAnH1CM1euXMiVKxeycnGj67xLkjTNGOSlAvXvG+Tejm5+uqGLNY900dHVN+6xM2trWLW8hStPX8grT1vIoub6ClYqSZKONQZ5qYJSSqzv7GXNhi7WbNjOrzb1sO/A0LjHL5nXwCXtrVza3sYrTm1zvrskSTrIVCBNoZQSj3X18cuObu7t6Oa+jm6279437vH1dTVcuKyFS9vbuKS9jeVtc5wyI0mSxmSQlyZRSomO7X3c29HNLx/r5t6OHrbvHjjk77QvnHswuL906XHU182oULWSJKnMDPLSBKSU2NS9Jw/t2bat99DBfd7sOlYtz6fLtLeyuLmhQtVKkqRqYpCXjsLAgUEe3LyLBx7fwf2P7+D+J3bQdZjg3txQx4XLjuOi5S287JQWVixspKbG6TKSJGliDPLSIWzbtZf7H9/BA09kwf3BzbvYNzj+xakAjfW1XLisJQ/ux7FyUZPBXZIkTTqDvJTbd2CI9Vt7eeCJZ4P7Uzv6D/t7jbNquWDEiPvKxU3MMLhLkqQpZpDXtDRwYJANW3ezdvNO1m7eyYObd7J+a+9hR9sBlrXO4byT5nP+yfM57+R5nLqg0eAuSZIqziCvqrd3/yDrt/YeDOwPPp2F9v2D6bC/W19Xw9knzOP8k+dz/knzOfekebTMnVWBqiVJkg7NIK+qkVKic9cA6zt72bC1l/WdvTz09C42dPZyYOjwoR3gxOMaOGc4uJ88n5WLm6ibUTPFlYxa7yUAAAxLSURBVEuSJB09g7xKaUffviywd/ayfuuz7a69B474OU5umc2ZS5o58/hmzlrSzJlLmpg3e+YUVi1JkjR5DPI6Zg0NJZ7e2c/G7X1s2t5Hx/Y+Ht22m4e39h52ycfRluah/ax8O+P4Zppn101R5ZIkSVPPIK9CpZTY1jvAxu19BwP78OPHe/aw78DhLz4dqbG+lhULG2lf1Ji1Cxs5Y0kTTfWGdkmSVF1KFeQj4gTgU8DVQAuwBbgNuCmltKPI2jS2lBLdffvYvKOfp5/pZ/PwtqOfp3b0s6m7jz37Bo/6eWfV1nDqwrm0L8wC+4pF2baoqZ4IV5CRJEnVrzRBPiKWA/cAC4DbgYeBC4D3A1dHxKqUUneBJU47Q0OJnf376do9QFfvAFt27n1OYB9uB45yVH2k1rkzWdoyh6Wtc1jWOoflbXNYsaiJk46b7ZKPkiRpWitNkAf+nizE35BSumV4Z0R8Hvgg8FfAewuqrWrsHxxiV/9+nunfz/beAbbv3kdX796DYT37efjxwBGvBnMoTfW1LGuby7KW2QcD+7LWLLw7JUaSJGlspQjyEXEKcBWwCfjSqO5PAu8Bro+IG1NKfRUur3ApJfYPJvr3D9K/b/A57d788e6BA+zs3/+8bdeotu8FTHM5nMb6WpbMa8i2+Vl7fP54acsc5s+uczqMJEnSUSpFkAeuyNs7UkrPmaeRUuqNiF+QBf2XAXdVurgXavMz/fz16nUMDiYGU2JoKHFgKDGUEoPDj0ftG972Hhikf99QFtT3DzI4CSPjL0RjfS1tc2fR2jiLBY2zWDK/gRPykH58HtgdVZckSZp8ZQnyK/J2wzj9j5AF+XYOE+Qj4v5xuk57YaW9cLv3HuAHv9lS6T97SBHQVF9Hc0MdrXNn0tY4i9a5s2hrzLc8tLfl++rrZhRdsiRJ0rRUliDfnLc7x+kf3j+vArVMmsm8YeiMmmB23QwaZuZb3Qzq67J2dr6vuaFuzK1pRNs4q5YaLyKVJEk65pUlyB/OcPI87PySlNL5Yz5BNlJ/3mQWdTgLm+q5+W3nUlsT1EQwoyayx8Ntvu/gNuLn+rqaLKznob1uMj8VSJIk6ZhXliA/POLePE5/06jjSqGxvo43nHN80WVIkiSphMoyjLs+b9vH6T81b8ebQy9JkiRVlbIE+bvz9qqIeE7NEdEIrAL6gXsrXZgkSZJUhFIE+ZTSY8AdwFLgfaO6bwLmAF+bjmvIS5IkaXoqyxx5gD8B7gFujohXAuuAC4HLyabUfLTA2iRJkqSKKsWIPBwclX8JcCtZgL8RWA7cDFyUUuourjpJkiSpsso0Ik9K6UngnUXXIUmSJBWtNCPykiRJkp5lkJckSZJKyCAvSZIklZBBXpIkSSohg7wkSZJUQgZ5SZIkqYQM8pIkSVIJGeQlSZKkEjLIS5IkSSVkkJckSZJKKFJKRddwTIiI7oaGhuNWrlxZdCmSJEmqYuvWraO/v78npdQykecxyOciYiPQBGyq8J8+LW8frvDfVWV5nqcHz/P04Hmufp7j6aHI87wU2JVSWjaRJzHIFywi7gdIKZ1fdC2aOp7n6cHzPD14nquf53h6qIbz7Bx5SZIkqYQM8pIkSVIJGeQlSZKkEjLIS5IkSSVkkJckSZJKyFVrJEmSpBJyRF6SJEkqIYO8JEmSVEIGeUmSJKmEDPKSJElSCRnkJUmSpBIyyEuSJEklZJCXJEmSSsggX5CIOCEivhoRT0fEQERsiogvRMT8omvTxEVES0S8KyK+GxGPRkR/ROyMiJ9HxB9GhP97VSoiro+IlG/vKroeTa6IeEVEfCcituSv3Vsi4o6IeG3RtWniIuKa/Hw+lb9ud0TEtyLioqJr05GLiDdHxC0R8bOI2JW/Hv/bYX7n4ohYHRE9EbEnIn4TER+IiBmVqvuFqC26gOkoIpYD9wALgNuBh4ELgPcDV0fEqpRSd4ElauLeAnwZ2ALcDTwBLATeBHwFeE1EvCV5R7aqEhEnArcAu4G5BZejSRYRHwP+AtgOfJ/s/7sVOBe4DFhdWHGasIj4LPBhoBu4jew8vwi4FvidiHhHSumQYVDHjI8B55C9Fj8FnHaogyPiWuA7wF7gm0AP8Hrgb4FVZO/pxyTv7FqAiPgRcBVwQ0rplhH7Pw98EPjHlNJ7i6pPExcRVwBzgB+klIZG7F8E/Ao4EXhzSuk7BZWoSRYRAfwYWAb8J/Ah4N0ppa8UWpgmRUS8BfgP4E7gTSml3lH9dSml/YUUpwnLX5s3A13A2SmlbSP6Lgd+AmxMKZ1SUIk6Cvk5ewp4FLiUbEDt6yml3x/j2Kb8uGZgVUrpf/L99WTn/SLgbSmlb1So/KPi1/sVFhGnkIX4TcCXRnV/EugDro+IORUuTZMopfSTlNJ/jQzx+f6twD/kP15W8cI0lW4ArgDeSfZ/rCqRT4X7LLAHePvoEA9giC+9k8ky0X0jQzxASuluoBdoK6IwHb2U0t0ppUeO8FvvN5Od228Mh/j8OfaSjewD/PEUlDkpDPKVd0Xe3jFGyOsFfgHMBl5W6cJUMcNv+AcKrUKTJiJWAp8BvphSWlN0PZp0F5N907Ia2JHPo/5IRLzfudNV4xFgH3BBRLSO7IiIS4BGsm9jVH2Gc9kPx+hbQ/YB/uKImFW5ko6cc+Qrb0Xebhin/xGyEft24K6KVKSKiYha4B35j2O9aKhk8nP6r2TXQfxZweVoarw0bzuBB4CzRnZGxBqyqXJdlS5MkyOl1BMRHwE+DzwUEbeRzZVfDryBbNrcHxVYoqbOuLkspXQgIjYCZwCnAOsqWdiRMMhXXnPe7hynf3j/vArUosr7DHAmsDql9KOii9Gk+ATZxY4vTyn1F12MpsSCvH0vsBG4EriPbDrG54BXA9/C6XKlllL6QkRsAr4KvHtE16PAraOn3KhqlDqXObXm2BN561XIVSYibgBuJFul6PqCy9EkiIgLyEbhP5dS+mXR9WjKDC8/F2Qj73ellHanlH4LvJHsorpLnWZTbhHxYeDbwK1kI/FzgPOBDuDrEfE3xVWnAh3TucwgX3nDn+yax+lvGnWcqkBEvA/4IvAQcHlKqafgkjRBI6bUbAA+XnA5mlo78rYjpfR/Izvyb2GGv127oKJVadJExGVkFzR/L6X0pymljpTSnpTSA2Qf1jYDN+YLVqi6lDqXGeQrb33eto/Tf2rejjeHXiUTER8A/g54kCzEby24JE2OuWT/xyuBvSNuApXIVqAC+Kd83xcKq1KTYfh1+5lx+oeDfkMFatHUeF3e3j26I6W0h2zZ4BqyaXSqLuPmsnzAZhnZ4hQdlSzqSDlHvvKGXySuioiaUWuMN5LdeKAfuLeI4jS58ounPgP8GnhVSml7wSVp8gwA/zxO33lkb/g/J3uTcNpNua0heyM/NSJmppT2jeo/M283VbQqTabhFUnGW2JyeP/oc6/y+wnwe8DVwL+P6ruEbCXBNSmlgUoXdiQcka+wlNJjwB3AUuB9o7pvIpuT97WUkutQl1xEfJwsxN8PvNIQX11SSv0ppXeNtQHfyw/7l3zfN4usVROT/+9+k+yr90+M7IuIV5Fd7LoTV6Iqs5/l7XsiYsnIjoh4Ddkg216yu7Krunyb7C6+b42IlwzvzG8I9Zf5j18uorAj4Z1dCxARy8leDBYAt5MtZ3QhcDnZlJqLU0rdxVWoiYqIPyC7YGoQuIWx59ZtSindWsGyVCER8edk02u8s2uViIgFZPf5eBFZ6PsV2ao1byS7CO7tKaVvFVehJiK/6dePyFYk6gW+C2wlmzr3OrILHj+QUvpiYUXqiEXEdcB1+Y+LyD5sd/DsB7btKaUPjTr+22Qf1r4B9JAtO7oi3/+7R3hzqYozyBckIk4EPkX2VU4LsAW4DbjJCyHLb0SQO5SfppQum/pqVGkG+eoUEceR3enxjcASssD3c+DTKSWnQ5ZcRNSRfVP+VuB0sikVPWQf2m5OKd1RYHk6CkfwHvx4SmnpqN9ZBXwUuAioJ1t29Ktk535waiqdOIO8JEmSVELOkZckSZJKyCAvSZIklZBBXpIkSSohg7wkSZJUQgZ5SZIkqYQM8pIkSVIJGeQlSZKkEjLIS5IkSSVkkJckSZJKyCAvSZIklZBBXpIkSSohg7wkSZJUQgZ5SZIkqYQM8pIkSVIJGeQlSZKkEjLIS5IkSSVkkJckSZJK6P8BqNUWdaVDNIIAAAAASUVORK5CYII=\n",
      "text/plain": [
       "<Figure size 432x288 with 1 Axes>"
      ]
     },
     "metadata": {
      "image/png": {
       "height": 250,
       "width": 377
      },
      "needs_background": "light"
     },
     "output_type": "display_data"
    }
   ],
   "source": [
    "import seaborn as sns  # convention is to import seaborn under the name sns, for unclear reasons\n",
    "\n",
    "# some magic that will make this notebook display our plots inline, don't worry about this for now\n",
    "%matplotlib inline\n",
    "%config InlineBackend.figure_format = 'retina'\n",
    "\n",
    "# make up some x and y values\n",
    "x = np.linspace(0, 10)\n",
    "y = x * x\n",
    "\n",
    "# and plot using the lineplot method\n",
    "sns.lineplot(x, y)"
   ]
  },
  {
   "cell_type": "markdown",
   "metadata": {},
   "source": [
    "That was rather easy, but let's plot something more interesting.  \n",
    "Using the Titanic data, we can plot the relationship between different variables and survival rate. Let's start with age. The obvious way to plot this is using a violinplot or something similar."
   ]
  },
  {
   "cell_type": "code",
   "execution_count": 42,
   "metadata": {},
   "outputs": [
    {
     "name": "stderr",
     "output_type": "stream",
     "text": [
      "F:\\anaconda\\lib\\site-packages\\scipy\\stats\\stats.py:1713: FutureWarning: Using a non-tuple sequence for multidimensional indexing is deprecated; use `arr[tuple(seq)]` instead of `arr[seq]`. In the future this will be interpreted as an array index, `arr[np.array(seq)]`, which will result either in an error or a different result.\n",
      "  return np.add.reduce(sorted[indexer] * weights, axis=axis) / sumval\n"
     ]
    },
    {
     "data": {
      "text/plain": [
       "<matplotlib.axes._subplots.AxesSubplot at 0x1fb7d7d1390>"
      ]
     },
     "execution_count": 42,
     "metadata": {},
     "output_type": "execute_result"
    },
    {
     "data": {
      "image/png": "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\n",
      "text/plain": [
       "<Figure size 432x288 with 1 Axes>"
      ]
     },
     "metadata": {
      "image/png": {
       "height": 263,
       "width": 384
      },
      "needs_background": "light"
     },
     "output_type": "display_data"
    }
   ],
   "source": [
    "# seaborn has a violinplot method, so this will be fairly easy\n",
    "sns.violinplot(x='Survived', y='Age', data=titanic)"
   ]
  },
  {
   "cell_type": "markdown",
   "metadata": {},
   "source": [
    "That looks fairly similar between the yes and no groups, except for a little bump just above age 0 in the survived group. It seems like they may have made an effort to put children on the lifeboats first.  \n",
    "That makes me wonder if women were sent to the lifeboats before men. Let's plot that and see."
   ]
  },
  {
   "cell_type": "code",
   "execution_count": 41,
   "metadata": {},
   "outputs": [
    {
     "data": {
      "text/plain": [
       "<matplotlib.axes._subplots.AxesSubplot at 0x1fb7d740160>"
      ]
     },
     "execution_count": 41,
     "metadata": {},
     "output_type": "execute_result"
    },
    {
     "data": {
      "image/png": "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\n",
      "text/plain": [
       "<Figure size 432x288 with 1 Axes>"
      ]
     },
     "metadata": {
      "image/png": {
       "height": 263,
       "width": 390
      },
      "needs_background": "light"
     },
     "output_type": "display_data"
    }
   ],
   "source": [
    "sns.countplot(x='Survived', hue='Sex', data=titanic)"
   ]
  },
  {
   "cell_type": "markdown",
   "metadata": {},
   "source": [
    "Wow, that seems like quite a difference.  \n",
    "There were three classes of ticket sold on the Titanic. Using the `countplot()` method, plot the survival numbers for each class."
   ]
  },
  {
   "cell_type": "code",
   "execution_count": 48,
   "metadata": {},
   "outputs": [
    {
     "ename": "TypeError",
     "evalue": "Cannot pass values for both `x` and `y`",
     "output_type": "error",
     "traceback": [
      "\u001b[1;31m---------------------------------------------------------------------------\u001b[0m",
      "\u001b[1;31mTypeError\u001b[0m                                 Traceback (most recent call last)",
      "\u001b[1;32m<ipython-input-48-b51058dd4815>\u001b[0m in \u001b[0;36m<module>\u001b[1;34m()\u001b[0m\n\u001b[0;32m      1\u001b[0m \u001b[1;31m# plot surivival counts for each class here.\u001b[0m\u001b[1;33m\u001b[0m\u001b[1;33m\u001b[0m\u001b[0m\n\u001b[1;32m----> 2\u001b[1;33m \u001b[0msns\u001b[0m\u001b[1;33m.\u001b[0m\u001b[0mcountplot\u001b[0m\u001b[1;33m(\u001b[0m\u001b[0mx\u001b[0m\u001b[1;33m=\u001b[0m\u001b[1;34m'Pclass'\u001b[0m\u001b[1;33m,\u001b[0m \u001b[0my\u001b[0m\u001b[1;33m=\u001b[0m\u001b[1;34m'Survived'\u001b[0m\u001b[1;33m,\u001b[0m\u001b[0mdata\u001b[0m\u001b[1;33m=\u001b[0m\u001b[0mtitanic\u001b[0m\u001b[1;33m)\u001b[0m\u001b[1;33m\u001b[0m\u001b[0m\n\u001b[0m",
      "\u001b[1;32mF:\\anaconda\\lib\\site-packages\\seaborn\\categorical.py\u001b[0m in \u001b[0;36mcountplot\u001b[1;34m(x, y, hue, data, order, hue_order, orient, color, palette, saturation, dodge, ax, **kwargs)\u001b[0m\n\u001b[0;32m   3544\u001b[0m         \u001b[0my\u001b[0m \u001b[1;33m=\u001b[0m \u001b[0mx\u001b[0m\u001b[1;33m\u001b[0m\u001b[0m\n\u001b[0;32m   3545\u001b[0m     \u001b[1;32melif\u001b[0m \u001b[0mx\u001b[0m \u001b[1;32mis\u001b[0m \u001b[1;32mnot\u001b[0m \u001b[1;32mNone\u001b[0m \u001b[1;32mand\u001b[0m \u001b[0my\u001b[0m \u001b[1;32mis\u001b[0m \u001b[1;32mnot\u001b[0m \u001b[1;32mNone\u001b[0m\u001b[1;33m:\u001b[0m\u001b[1;33m\u001b[0m\u001b[0m\n\u001b[1;32m-> 3546\u001b[1;33m         \u001b[1;32mraise\u001b[0m \u001b[0mTypeError\u001b[0m\u001b[1;33m(\u001b[0m\u001b[1;34m\"Cannot pass values for both `x` and `y`\"\u001b[0m\u001b[1;33m)\u001b[0m\u001b[1;33m\u001b[0m\u001b[0m\n\u001b[0m\u001b[0;32m   3547\u001b[0m     \u001b[1;32melse\u001b[0m\u001b[1;33m:\u001b[0m\u001b[1;33m\u001b[0m\u001b[0m\n\u001b[0;32m   3548\u001b[0m         \u001b[1;32mraise\u001b[0m \u001b[0mTypeError\u001b[0m\u001b[1;33m(\u001b[0m\u001b[1;34m\"Must pass values for either `x` or `y`\"\u001b[0m\u001b[1;33m)\u001b[0m\u001b[1;33m\u001b[0m\u001b[0m\n",
      "\u001b[1;31mTypeError\u001b[0m: Cannot pass values for both `x` and `y`"
     ]
    }
   ],
   "source": [
    "# plot surivival counts for each class here.\n",
    "sns.countplot(x='Pclass', y='Survived',data=titanic)"
   ]
  },
  {
   "cell_type": "markdown",
   "metadata": {},
   "source": [
    "While survival is the most salient part of this dataset, there are of course other things we can plot that might be of interest. For instance, what is the relationship between price of the ticket (_fare_) and age?  \n",
    "Plot this using a scatterplot. (Hint: It's the `scatterplot()` method!)"
   ]
  },
  {
   "cell_type": "code",
   "execution_count": 47,
   "metadata": {},
   "outputs": [
    {
     "data": {
      "text/plain": [
       "<matplotlib.axes._subplots.AxesSubplot at 0x1fb7ec43fd0>"
      ]
     },
     "execution_count": 47,
     "metadata": {},
     "output_type": "execute_result"
    },
    {
     "data": {
      "image/png": "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\n",
      "text/plain": [
       "<Figure size 432x288 with 1 Axes>"
      ]
     },
     "metadata": {
      "image/png": {
       "height": 263,
       "width": 384
      },
      "needs_background": "light"
     },
     "output_type": "display_data"
    }
   ],
   "source": [
    "# plot age by ticket price here\n",
    "sns.scatterplot(x='Fare',y='Age',data=titanic)"
   ]
  },
  {
   "cell_type": "markdown",
   "metadata": {},
   "source": [
    "That's not very easy to interpret by sight. Let's add a trendline using linear regression.  \n",
    "The plotting method for this is called `regplot()`."
   ]
  },
  {
   "cell_type": "code",
   "execution_count": 51,
   "metadata": {},
   "outputs": [
    {
     "name": "stderr",
     "output_type": "stream",
     "text": [
      "F:\\anaconda\\lib\\site-packages\\scipy\\stats\\stats.py:1713: FutureWarning: Using a non-tuple sequence for multidimensional indexing is deprecated; use `arr[tuple(seq)]` instead of `arr[seq]`. In the future this will be interpreted as an array index, `arr[np.array(seq)]`, which will result either in an error or a different result.\n",
      "  return np.add.reduce(sorted[indexer] * weights, axis=axis) / sumval\n"
     ]
    },
    {
     "data": {
      "text/plain": [
       "<matplotlib.axes._subplots.AxesSubplot at 0x1fb7fb47160>"
      ]
     },
     "execution_count": 51,
     "metadata": {},
     "output_type": "execute_result"
    },
    {
     "data": {
      "image/png": "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\n",
      "text/plain": [
       "<Figure size 432x288 with 1 Axes>"
      ]
     },
     "metadata": {
      "image/png": {
       "height": 263,
       "width": 390
      },
      "needs_background": "light"
     },
     "output_type": "display_data"
    }
   ],
   "source": [
    "# plot using regplot here\n",
    "sns.regplot(x='Age',y='Fare',data=titanic)"
   ]
  },
  {
   "cell_type": "markdown",
   "metadata": {},
   "source": [
    "## 4.3 SciPy\n",
    "Because we have limited time to go over everything, we're not going to do anything about SciPy other than to say: SciPy is essentially an extension of NumPy. If you can't find some kind of numerical operation you need in NumPy, SciPy might have it. (If you're going to do weird statistics or EEG/MEG/fMRI analysis, you might need SciPy's signal processing or linear algebra functions at some point.)  \n",
    "Documentation is pretty good and is located at https://docs.scipy.org/doc/scipy/reference/."
   ]
  },
  {
   "cell_type": "markdown",
   "metadata": {},
   "source": [
    "## 4.4 DIY time!\n",
    "Feel free to mess around with the Titanic dataset some more, exploring it in different ways by grouping and plotting data. When you feel like you want another challenge, move on to this week's additional exercises."
   ]
  }
 ],
 "metadata": {
  "anaconda-cloud": {},
  "kernelspec": {
   "display_name": "Python 3",
   "language": "python",
   "name": "python3"
  },
  "language_info": {
   "codemirror_mode": {
    "name": "ipython",
    "version": 3
   },
   "file_extension": ".py",
   "mimetype": "text/x-python",
   "name": "python",
   "nbconvert_exporter": "python",
   "pygments_lexer": "ipython3",
<<<<<<< HEAD
   "version": "3.7.0"
=======
   "version": "3.7.1"
>>>>>>> 77f1d10675ab62adcb6fac9bf84443c5be2863f5
  }
 },
 "nbformat": 4,
 "nbformat_minor": 1
}
