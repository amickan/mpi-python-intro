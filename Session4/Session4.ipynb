{
 "cells": [
  {
   "cell_type": "markdown",
   "metadata": {},
   "source": [
    "# Session 4: NumPy, Pandas, seaborn & SciPy\n",
    "\n",
    "Last week, you learned about functions and external modules in python - this week, we'll introduce you to some of the most powerful external modules for data analysis in python, and we'll show you how you can start using them to write an entire analysis pipeline for your data set. \n",
    "\n",
    "We'll use the Titanic data set throughout this week's session, which you can learn more about here: https://www.kaggle.com/c/titanic/\n",
    "\n",
    "## 4.0 NumPy\n",
    "\n",
    "Numpy is short for \"Numerical Python\", and that's basically what it is: a Python module to help you efficiently handle numerical data in Python. It contains, among many other things, functionalities that allow you to work with matrices and N-dimensional arrays, as well as built-in functions for linear algebra and random number capabilities.  \n",
    "The documentation is located at https://docs.scipy.org/doc/numpy-1.13.0/reference/.\n",
    "\n",
    "By convention, numpy is imported as _np_:"
   ]
  },
  {
   "cell_type": "code",
   "execution_count": 2,
   "metadata": {
    "collapsed": true
   },
   "outputs": [],
   "source": [
    "import numpy as np"
   ]
  },
  {
   "cell_type": "markdown",
   "metadata": {},
   "source": [
    "### 4.0.0 NumPy arrays\n",
    "\n",
    "NumPy arrays offer a very efficient way of storing data in an array structure, and they also provide useful operations for these arrays. We'll provide a very brief introduction to NumPy arrays and the things they allow you to do here, but feel free to read more in the documentation! :)\n",
    "\n",
    "There are several straight-forward ways of creating a NumPy array:"
   ]
  },
  {
   "cell_type": "code",
<<<<<<< HEAD
   "execution_count": 3,
   "metadata": {
    "collapsed": false
   },
   "outputs": [
    {
     "name": "stdout",
     "output_type": "stream",
     "text": [
      "[1 2 3 4 5]\n",
      "[ 0.  0.  0.  0.  0.  0.  0.  0.  0.  0.]\n",
      "[[1 1 1 1 1]\n",
      " [1 1 1 1 1]\n",
      " [1 1 1 1 1]]\n",
      "[[ 0.97645602  0.33538435  0.62745558  0.45442711  0.82754183]\n",
      " [ 0.96294831  0.95114594  0.04623361  0.36635275  0.87607156]\n",
      " [ 0.84947069  0.70731233  0.03955319  0.8092064   0.68913749]]\n"
     ]
    }
   ],
=======
   "execution_count": null,
   "metadata": {},
   "outputs": [],
>>>>>>> 77f1d10675ab62adcb6fac9bf84443c5be2863f5
   "source": [
    "# Create an array of a list\n",
    "int_array = np.array([1,2,3,4,5])\n",
    "print(int_array)\n",
    "\n",
    "# Create a 1*10 float array filled with zeros\n",
    "zero_array = np.zeros(10, dtype=float)\n",
    "print(zero_array)\n",
    "\n",
    "# Create a 3x5 integer array filled with ones\n",
    "ones_array = np.ones((3, 5), dtype=int)\n",
    "print(ones_array)\n",
    "\n",
    "# Create a 3x5 array filled with random numbers between 0 and 1\n",
    "random_array = np.random.random((3,5))\n",
    "print(random_array)"
   ]
  },
  {
   "cell_type": "markdown",
   "metadata": {},
   "source": [
    "This looks suspiciously similar to a \"normal\" python list, but NumPy arrays are actually a lot more memory-efficient and better at handling multidimensional data. \n",
    "\n",
    "### 4.0.1 Array attributes\n",
    "\n",
    "Each NumPy arrays comes with three attributes: _ndim_, _shape_, and _size_."
   ]
  },
  {
   "cell_type": "code",
   "execution_count": 4,
   "metadata": {
    "collapsed": false
   },
   "outputs": [
    {
     "name": "stdout",
     "output_type": "stream",
     "text": [
      "number of dimensions:  2\n",
      "size of each dimension:  (3, 5)\n",
      "size of the entire array:  15\n"
     ]
    }
   ],
   "source": [
    "print(\"number of dimensions: \", ones_array.ndim)       # the number of dimensions in the array\n",
    "print(\"size of each dimension: \", ones_array.shape)    # the size of each dimension in the array\n",
    "print(\"size of the entire array: \", ones_array.size)   # the size of the entire array"
   ]
  },
  {
   "cell_type": "markdown",
   "metadata": {},
   "source": [
    "### 4.0.2 Indexing arrays\n",
    "\n",
    "One-dimensional arrays can be indexed very similarly to \"normal\" lists:"
   ]
  },
  {
   "cell_type": "code",
   "execution_count": 5,
   "metadata": {
    "collapsed": false
   },
   "outputs": [
    {
     "data": {
      "text/plain": [
       "array([ 0.,  0.,  0.,  0.])"
      ]
     },
     "execution_count": 5,
     "metadata": {},
     "output_type": "execute_result"
    }
   ],
   "source": [
    "zero_array[2:-4]"
   ]
  },
  {
   "cell_type": "markdown",
   "metadata": {},
   "source": [
    "In a multi-dimensional array, you access a specific value by using comma-separated indeces:"
   ]
  },
  {
   "cell_type": "code",
   "execution_count": 6,
   "metadata": {
    "collapsed": false
   },
   "outputs": [
    {
     "data": {
      "text/plain": [
       "0.62745558216056596"
      ]
     },
     "execution_count": 6,
     "metadata": {},
     "output_type": "execute_result"
    }
   ],
   "source": [
    "random_array[0,2] # this returns row 0, column 1"
   ]
  },
  {
   "cell_type": "markdown",
   "metadata": {},
   "source": [
    "You can also edit entries using the same notation:"
   ]
  },
  {
   "cell_type": "code",
   "execution_count": 7,
   "metadata": {
    "collapsed": false
   },
   "outputs": [
    {
     "name": "stdout",
     "output_type": "stream",
     "text": [
      "[[ 0.97645602  0.33538435  0.18        0.45442711  0.82754183]\n",
      " [ 0.96294831  0.95114594  0.04623361  0.36635275  0.87607156]\n",
      " [ 0.84947069  0.70731233  0.03955319  0.8092064   0.68913749]]\n"
     ]
    }
   ],
   "source": [
    "random_array[0,2] = 0.18\n",
    "print(random_array)"
   ]
  },
  {
   "cell_type": "markdown",
   "metadata": {},
   "source": [
    "In order to access a specific subset of a NumPy array, you can use slicing:"
   ]
  },
  {
   "cell_type": "code",
   "execution_count": 8,
   "metadata": {
    "collapsed": false
   },
   "outputs": [
    {
     "name": "stdout",
     "output_type": "stream",
     "text": [
      "[[ 0.97645602  0.33538435  0.18      ]\n",
      " [ 0.96294831  0.95114594  0.04623361]]\n",
      "[ 0.97645602  0.33538435  0.18        0.45442711  0.82754183]\n",
      "[ 0.33538435  0.95114594  0.70731233]\n"
     ]
    }
   ],
   "source": [
    "print(random_array[:2, :3]) # subset the first two rows and the first three columns of the original array\n",
    "print(random_array[0, :])   # subset the entire first row of the original array\n",
    "print(random_array[:, 1])   # subset the entire first column of the original array"
   ]
  },
  {
   "cell_type": "markdown",
   "metadata": {},
   "source": [
    "### 4.0.3 Combining arrays\n",
    "\n",
    "NumPy allows you to combine arrays in different dimensions:"
   ]
  },
  {
   "cell_type": "code",
   "execution_count": 9,
   "metadata": {
    "collapsed": false
   },
   "outputs": [
    {
     "name": "stdout",
     "output_type": "stream",
     "text": [
      "[[1 2 3]\n",
      " [4 5 6]]\n",
      "[1 2 3 4 5 6]\n"
     ]
    }
   ],
   "source": [
    "array1 = np.array([1,2,3])\n",
    "array2 = np.array([4,5,6])\n",
    "\n",
    "array3 = np.vstack([array1, array2]) # stack \"vertically\"\n",
    "array4 = np.hstack([array1, array2]) # stack \"horizontally\"\n",
    "\n",
    "print(array3)\n",
    "print(array4)"
   ]
  },
  {
   "cell_type": "markdown",
   "metadata": {},
   "source": [
    "### 4.0.4 Operating on arrays\n",
    "\n",
    "As we mentioned earlier, NumPy comes with several useful functions, some of which operate a lot faster than \"normal\" python built-ins. For example, let's compare how fast NumPy's sum function is compared to the original built-in:"
   ]
  },
  {
   "cell_type": "code",
   "execution_count": 10,
   "metadata": {
    "collapsed": false
   },
   "outputs": [
    {
     "name": "stdout",
     "output_type": "stream",
     "text": [
      "1 loop, best of 3: 607 ms per loop\n",
      "100 loops, best of 3: 3.03 ms per loop\n"
     ]
    }
   ],
   "source": [
    "big_array = np.random.rand(1000000)\n",
    "%timeit sum(big_array)\n",
    "%timeit np.sum(big_array)"
   ]
  },
  {
   "cell_type": "markdown",
   "metadata": {},
   "source": [
    "It's almost twice as fast! The same goes for min, max, and other functions:"
   ]
  },
  {
   "cell_type": "code",
   "execution_count": 11,
   "metadata": {
    "collapsed": false
   },
   "outputs": [
    {
     "name": "stdout",
     "output_type": "stream",
     "text": [
      "1 loop, best of 3: 297 ms per loop\n",
      "1000 loops, best of 3: 1.59 ms per loop\n"
     ]
    }
   ],
   "source": [
    "%timeit min(big_array)\n",
    "%timeit np.min(big_array)"
   ]
  },
  {
   "cell_type": "markdown",
   "metadata": {},
   "source": [
    "There's a lot more to NumPy, but most of it you'll find out as you go along and use it. And there's a very useful, in-depth chapter about NumPy in the \"Python Data Science Handbook\" here: https://jakevdp.github.io/PythonDataScienceHandbook/02.00-introduction-to-numpy.html We highly recommend going through this in your own time if you want to learn about NumPy in more depth. \n",
    "\n",
    "For the purpose of this very brief introduction, let's just acknowledge that NumPy offers a lot of useful ways of dealing with multi-dimensional arrays and numerical data. Speaking of data... let's actually import a data set! We'll use Pandas for that."
   ]
  },
  {
   "cell_type": "markdown",
   "metadata": {},
   "source": [
    "## 4.1 Pandas\n",
    "\n",
    "Pandas is a python library built \"on top\" of NumPy, extending NumPy's functionality quite a bit.  \n",
    "Docs are at https://pandas.pydata.org/pandas-docs/stable/. These docs are markedly worse than for most Python modules, but luckily pandas is usually pretty easy to use.\n",
    "\n",
    "By convention, pandas is imported as pd:"
   ]
  },
  {
   "cell_type": "code",
   "execution_count": 12,
   "metadata": {
    "collapsed": true
   },
   "outputs": [],
   "source": [
    "import pandas as pd"
   ]
  },
  {
   "cell_type": "markdown",
   "metadata": {},
   "source": [
    "The main objects you'll be dealing with in pandas are Series and DataFrames. These are similar to NumPy arrays, but they include labeled rows and columns, and they allow heterogenous data types and missing values. Here is a quick example of how to initialize a Series and a DataFrame:"
   ]
  },
  {
   "cell_type": "code",
   "execution_count": 13,
   "metadata": {
    "collapsed": false
   },
   "outputs": [
    {
     "name": "stdout",
     "output_type": "stream",
     "text": [
      "0            1\n",
      "1            2\n",
      "2            3\n",
      "3         four\n",
      "4    [5, 6, 7]\n",
      "dtype: object\n",
      "          0         1         2         3         4\n",
      "0  0.976456  0.335384  0.180000  0.454427  0.827542\n",
      "1  0.962948  0.951146  0.046234  0.366353  0.876072\n",
      "2  0.849471  0.707312  0.039553  0.809206  0.689137\n"
     ]
    }
   ],
   "source": [
    "test_series = pd.Series([1,2,3,'four',[5,6,7]])\n",
    "print(test_series)\n",
    "test_df = pd.DataFrame(random_array)\n",
    "print(test_df)"
   ]
  },
  {
   "cell_type": "markdown",
   "metadata": {},
   "source": [
    "...but usually, we'd prefer not to manually enter our data into our data frame, so let's import an actual data set.\n",
    "\n",
    "### 4.1.0 Reading a data set into python using pandas\n",
    "\n",
    "The data set we'll be using is the Titanic data set. It contains data about the passengers of the Titanic, and it's one of the most widely used open data sets for learning data science and machine learning (see https://www.kaggle.com/c/titanic for a more in-depth description, plus some fun examples of how others have analysed this data set before). For the purpose of today's session, we will simply explore this data set a little and find out how NumPy, pandas, seaborn and SciPy allow us to handle the data\n",
    "\n",
    "Here's how you read a data set into pandas:"
   ]
  },
  {
   "cell_type": "code",
   "execution_count": 14,
   "metadata": {
    "collapsed": true
   },
   "outputs": [],
   "source": [
    "# use the pd.read_csv function to read in a comma-separated file\n",
    "titanic = pd.read_csv('titanic.csv')"
   ]
  },
  {
   "cell_type": "code",
   "execution_count": 15,
   "metadata": {
    "collapsed": false,
    "scrolled": true
   },
   "outputs": [
    {
     "data": {
      "text/html": [
       "<div>\n",
       "<table border=\"1\" class=\"dataframe\">\n",
       "  <thead>\n",
       "    <tr style=\"text-align: right;\">\n",
       "      <th></th>\n",
       "      <th>PassengerId</th>\n",
       "      <th>Survived</th>\n",
       "      <th>Pclass</th>\n",
       "      <th>Name</th>\n",
       "      <th>Sex</th>\n",
       "      <th>Age</th>\n",
       "      <th>SibSp</th>\n",
       "      <th>Parch</th>\n",
       "      <th>Ticket</th>\n",
       "      <th>Fare</th>\n",
       "      <th>Cabin</th>\n",
       "      <th>Embarked</th>\n",
       "    </tr>\n",
       "  </thead>\n",
       "  <tbody>\n",
       "    <tr>\n",
       "      <th>0</th>\n",
       "      <td>1</td>\n",
       "      <td>0</td>\n",
       "      <td>3</td>\n",
       "      <td>Braund, Mr. Owen Harris</td>\n",
       "      <td>male</td>\n",
       "      <td>22.0</td>\n",
       "      <td>1</td>\n",
       "      <td>0</td>\n",
       "      <td>A/5 21171</td>\n",
       "      <td>7.2500</td>\n",
       "      <td>NaN</td>\n",
       "      <td>S</td>\n",
       "    </tr>\n",
       "    <tr>\n",
       "      <th>1</th>\n",
       "      <td>2</td>\n",
       "      <td>1</td>\n",
       "      <td>1</td>\n",
       "      <td>Cumings, Mrs. John Bradley (Florence Briggs Th...</td>\n",
       "      <td>female</td>\n",
       "      <td>38.0</td>\n",
       "      <td>1</td>\n",
       "      <td>0</td>\n",
       "      <td>PC 17599</td>\n",
       "      <td>71.2833</td>\n",
       "      <td>C85</td>\n",
       "      <td>C</td>\n",
       "    </tr>\n",
       "    <tr>\n",
       "      <th>2</th>\n",
       "      <td>3</td>\n",
       "      <td>1</td>\n",
       "      <td>3</td>\n",
       "      <td>Heikkinen, Miss. Laina</td>\n",
       "      <td>female</td>\n",
       "      <td>26.0</td>\n",
       "      <td>0</td>\n",
       "      <td>0</td>\n",
       "      <td>STON/O2. 3101282</td>\n",
       "      <td>7.9250</td>\n",
       "      <td>NaN</td>\n",
       "      <td>S</td>\n",
       "    </tr>\n",
       "    <tr>\n",
       "      <th>3</th>\n",
       "      <td>4</td>\n",
       "      <td>1</td>\n",
       "      <td>1</td>\n",
       "      <td>Futrelle, Mrs. Jacques Heath (Lily May Peel)</td>\n",
       "      <td>female</td>\n",
       "      <td>35.0</td>\n",
       "      <td>1</td>\n",
       "      <td>0</td>\n",
       "      <td>113803</td>\n",
       "      <td>53.1000</td>\n",
       "      <td>C123</td>\n",
       "      <td>S</td>\n",
       "    </tr>\n",
       "    <tr>\n",
       "      <th>4</th>\n",
       "      <td>5</td>\n",
       "      <td>0</td>\n",
       "      <td>3</td>\n",
       "      <td>Allen, Mr. William Henry</td>\n",
       "      <td>male</td>\n",
       "      <td>35.0</td>\n",
       "      <td>0</td>\n",
       "      <td>0</td>\n",
       "      <td>373450</td>\n",
       "      <td>8.0500</td>\n",
       "      <td>NaN</td>\n",
       "      <td>S</td>\n",
       "    </tr>\n",
       "  </tbody>\n",
       "</table>\n",
       "</div>"
      ],
      "text/plain": [
       "   PassengerId  Survived  Pclass  \\\n",
       "0            1         0       3   \n",
       "1            2         1       1   \n",
       "2            3         1       3   \n",
       "3            4         1       1   \n",
       "4            5         0       3   \n",
       "\n",
       "                                                Name     Sex   Age  SibSp  \\\n",
       "0                            Braund, Mr. Owen Harris    male  22.0      1   \n",
       "1  Cumings, Mrs. John Bradley (Florence Briggs Th...  female  38.0      1   \n",
       "2                             Heikkinen, Miss. Laina  female  26.0      0   \n",
       "3       Futrelle, Mrs. Jacques Heath (Lily May Peel)  female  35.0      1   \n",
       "4                           Allen, Mr. William Henry    male  35.0      0   \n",
       "\n",
       "   Parch            Ticket     Fare Cabin Embarked  \n",
       "0      0         A/5 21171   7.2500   NaN        S  \n",
       "1      0          PC 17599  71.2833   C85        C  \n",
       "2      0  STON/O2. 3101282   7.9250   NaN        S  \n",
       "3      0            113803  53.1000  C123        S  \n",
       "4      0            373450   8.0500   NaN        S  "
      ]
     },
     "execution_count": 15,
     "metadata": {},
     "output_type": "execute_result"
    }
   ],
   "source": [
    "# preview the data\n",
    "titanic.head()"
   ]
  },
  {
   "cell_type": "markdown",
   "metadata": {},
   "source": [
    "The .head() method allows us to get a peak of our data without having to print all of it to the screen. Pretty useful! \n",
    "\n",
    "From this preview, we can see the types of information that are included in the data set. For example, there are columns with information about whether or not the passenger survived (0 or 1), the class they travelled in (1,2,3), their name, gender, and age, and how much they paid for their ticket. We also get information about how many siblings or spouses were with them (SibSp), and how many parents and children (Parch). \"Embarked\" is an abbreviation for the harbour at which the passenger embarked.\n",
    "\n",
    "For further steps of the analysis, it would be useful to know the data types of the values in each column. pandas allows you to display a summary of this information:"
   ]
  },
  {
   "cell_type": "code",
   "execution_count": 16,
   "metadata": {
    "collapsed": false
   },
   "outputs": [
    {
     "name": "stdout",
     "output_type": "stream",
     "text": [
      "<class 'pandas.core.frame.DataFrame'>\n",
      "RangeIndex: 891 entries, 0 to 890\n",
      "Data columns (total 12 columns):\n",
      "PassengerId    891 non-null int64\n",
      "Survived       891 non-null int64\n",
      "Pclass         891 non-null int64\n",
      "Name           891 non-null object\n",
      "Sex            891 non-null object\n",
      "Age            714 non-null float64\n",
      "SibSp          891 non-null int64\n",
      "Parch          891 non-null int64\n",
      "Ticket         891 non-null object\n",
      "Fare           891 non-null float64\n",
      "Cabin          204 non-null object\n",
      "Embarked       889 non-null object\n",
      "dtypes: float64(2), int64(5), object(5)\n",
      "memory usage: 83.6+ KB\n"
     ]
    }
   ],
   "source": [
    "titanic.info()"
   ]
  },
  {
   "cell_type": "markdown",
   "metadata": {},
   "source": [
    "This tells us the type of each of the columns. PassengerId, for example, appears to be an integer. This also tells us that there are 891 entries in our data frame. Most columns seem to be \"complete\" (i.e., they have 891 values), but others, such as Age and Cabin, seem to have missing values. \n",
    "\n",
    "There's another, more explicit way of looking for missing values in pandas DataFrames:"
   ]
  },
  {
   "cell_type": "code",
   "execution_count": 17,
   "metadata": {
    "collapsed": false
   },
   "outputs": [
    {
     "data": {
      "text/plain": [
       "PassengerId      0\n",
       "Survived         0\n",
       "Pclass           0\n",
       "Name             0\n",
       "Sex              0\n",
       "Age            177\n",
       "SibSp            0\n",
       "Parch            0\n",
       "Ticket           0\n",
       "Fare             0\n",
       "Cabin          687\n",
       "Embarked         2\n",
       "dtype: int64"
      ]
     },
     "execution_count": 17,
     "metadata": {},
     "output_type": "execute_result"
    }
   ],
   "source": [
    "titanic.isnull().sum() # the sum() method summarizes all the missing values for each column\n",
    "# you can leave it out if you would like an explicit overview of all the values in the data frame"
   ]
  },
  {
   "cell_type": "markdown",
   "metadata": {},
   "source": [
    "Again, this tells us that there are 177 missing values in the Age column, 687 in the cabin column, and 2 in the Embarked column.\n",
    "\n",
    "Another way of getting a more detailed summary of the numerical data is the .describe method:"
   ]
  },
  {
   "cell_type": "code",
   "execution_count": 18,
   "metadata": {
    "collapsed": false
   },
   "outputs": [
    {
     "data": {
      "text/html": [
       "<div>\n",
       "<table border=\"1\" class=\"dataframe\">\n",
       "  <thead>\n",
       "    <tr style=\"text-align: right;\">\n",
       "      <th></th>\n",
       "      <th>PassengerId</th>\n",
       "      <th>Survived</th>\n",
       "      <th>Pclass</th>\n",
       "      <th>Age</th>\n",
       "      <th>SibSp</th>\n",
       "      <th>Parch</th>\n",
       "      <th>Fare</th>\n",
       "    </tr>\n",
       "  </thead>\n",
       "  <tbody>\n",
       "    <tr>\n",
       "      <th>count</th>\n",
       "      <td>891.000000</td>\n",
       "      <td>891.000000</td>\n",
       "      <td>891.000000</td>\n",
       "      <td>714.000000</td>\n",
       "      <td>891.000000</td>\n",
       "      <td>891.000000</td>\n",
       "      <td>891.000000</td>\n",
       "    </tr>\n",
       "    <tr>\n",
       "      <th>mean</th>\n",
       "      <td>446.000000</td>\n",
       "      <td>0.383838</td>\n",
       "      <td>2.308642</td>\n",
       "      <td>29.699118</td>\n",
       "      <td>0.523008</td>\n",
       "      <td>0.381594</td>\n",
       "      <td>32.204208</td>\n",
       "    </tr>\n",
       "    <tr>\n",
       "      <th>std</th>\n",
       "      <td>257.353842</td>\n",
       "      <td>0.486592</td>\n",
       "      <td>0.836071</td>\n",
       "      <td>14.526497</td>\n",
       "      <td>1.102743</td>\n",
       "      <td>0.806057</td>\n",
       "      <td>49.693429</td>\n",
       "    </tr>\n",
       "    <tr>\n",
       "      <th>min</th>\n",
       "      <td>1.000000</td>\n",
       "      <td>0.000000</td>\n",
       "      <td>1.000000</td>\n",
       "      <td>0.420000</td>\n",
       "      <td>0.000000</td>\n",
       "      <td>0.000000</td>\n",
       "      <td>0.000000</td>\n",
       "    </tr>\n",
       "    <tr>\n",
       "      <th>25%</th>\n",
       "      <td>223.500000</td>\n",
       "      <td>0.000000</td>\n",
       "      <td>2.000000</td>\n",
       "      <td>20.125000</td>\n",
       "      <td>0.000000</td>\n",
       "      <td>0.000000</td>\n",
       "      <td>7.910400</td>\n",
       "    </tr>\n",
       "    <tr>\n",
       "      <th>50%</th>\n",
       "      <td>446.000000</td>\n",
       "      <td>0.000000</td>\n",
       "      <td>3.000000</td>\n",
       "      <td>28.000000</td>\n",
       "      <td>0.000000</td>\n",
       "      <td>0.000000</td>\n",
       "      <td>14.454200</td>\n",
       "    </tr>\n",
       "    <tr>\n",
       "      <th>75%</th>\n",
       "      <td>668.500000</td>\n",
       "      <td>1.000000</td>\n",
       "      <td>3.000000</td>\n",
       "      <td>38.000000</td>\n",
       "      <td>1.000000</td>\n",
       "      <td>0.000000</td>\n",
       "      <td>31.000000</td>\n",
       "    </tr>\n",
       "    <tr>\n",
       "      <th>max</th>\n",
       "      <td>891.000000</td>\n",
       "      <td>1.000000</td>\n",
       "      <td>3.000000</td>\n",
       "      <td>80.000000</td>\n",
       "      <td>8.000000</td>\n",
       "      <td>6.000000</td>\n",
       "      <td>512.329200</td>\n",
       "    </tr>\n",
       "  </tbody>\n",
       "</table>\n",
       "</div>"
      ],
      "text/plain": [
       "       PassengerId    Survived      Pclass         Age       SibSp  \\\n",
       "count   891.000000  891.000000  891.000000  714.000000  891.000000   \n",
       "mean    446.000000    0.383838    2.308642   29.699118    0.523008   \n",
       "std     257.353842    0.486592    0.836071   14.526497    1.102743   \n",
       "min       1.000000    0.000000    1.000000    0.420000    0.000000   \n",
       "25%     223.500000    0.000000    2.000000   20.125000    0.000000   \n",
       "50%     446.000000    0.000000    3.000000   28.000000    0.000000   \n",
       "75%     668.500000    1.000000    3.000000   38.000000    1.000000   \n",
       "max     891.000000    1.000000    3.000000   80.000000    8.000000   \n",
       "\n",
       "            Parch        Fare  \n",
       "count  891.000000  891.000000  \n",
       "mean     0.381594   32.204208  \n",
       "std      0.806057   49.693429  \n",
       "min      0.000000    0.000000  \n",
       "25%      0.000000    7.910400  \n",
       "50%      0.000000   14.454200  \n",
       "75%      0.000000   31.000000  \n",
       "max      6.000000  512.329200  "
      ]
     },
     "execution_count": 18,
     "metadata": {},
     "output_type": "execute_result"
    }
   ],
   "source": [
    "titanic.describe()"
   ]
  },
  {
   "cell_type": "markdown",
   "metadata": {},
   "source": [
    "This gives us a neat overview of some interesting bits of information in our data (although beware that this is really just a \"general idea\", because we know already that we have missing data in some cases). \n",
    "\n",
    "### 4.1.1 Accessing pandas DataFrames\n",
    "\n",
    "What if you wanted to access only specific subsets of the titanic data frame? Here's one way of doing this:"
   ]
  },
  {
   "cell_type": "code",
   "execution_count": 19,
   "metadata": {
    "collapsed": false
   },
   "outputs": [
    {
     "data": {
      "text/plain": [
       "0    22.0\n",
       "1    38.0\n",
       "2    26.0\n",
       "3    35.0\n",
       "4    35.0\n",
       "Name: Age, dtype: float64"
      ]
     },
     "execution_count": 19,
     "metadata": {},
     "output_type": "execute_result"
    }
   ],
   "source": [
    "titanic['Age'].head() # leave out the \".head()\" method if you really want the entire column"
   ]
  },
  {
   "cell_type": "code",
   "execution_count": 20,
   "metadata": {
    "collapsed": false
   },
   "outputs": [
    {
     "data": {
      "text/plain": [
       "0    22.0\n",
       "1    38.0\n",
       "2    26.0\n",
       "3    35.0\n",
       "4    35.0\n",
       "Name: Age, dtype: float64"
      ]
     },
     "execution_count": 20,
     "metadata": {},
     "output_type": "execute_result"
    }
   ],
   "source": [
    "titanic.Age.head() # and this is an even easier way of accessing columns"
   ]
  },
  {
   "cell_type": "markdown",
   "metadata": {},
   "source": [
    "You can also filter the data frame based on conditions:"
   ]
  },
  {
   "cell_type": "code",
   "execution_count": 21,
   "metadata": {
    "collapsed": false
   },
   "outputs": [
    {
     "data": {
      "text/html": [
       "<div>\n",
       "<table border=\"1\" class=\"dataframe\">\n",
       "  <thead>\n",
       "    <tr style=\"text-align: right;\">\n",
       "      <th></th>\n",
       "      <th>PassengerId</th>\n",
       "      <th>Survived</th>\n",
       "      <th>Pclass</th>\n",
       "      <th>Name</th>\n",
       "      <th>Sex</th>\n",
       "      <th>Age</th>\n",
       "      <th>SibSp</th>\n",
       "      <th>Parch</th>\n",
       "      <th>Ticket</th>\n",
       "      <th>Fare</th>\n",
       "      <th>Cabin</th>\n",
       "      <th>Embarked</th>\n",
       "    </tr>\n",
       "  </thead>\n",
       "  <tbody>\n",
       "    <tr>\n",
       "      <th>0</th>\n",
       "      <td>1</td>\n",
       "      <td>0</td>\n",
       "      <td>3</td>\n",
       "      <td>Braund, Mr. Owen Harris</td>\n",
       "      <td>male</td>\n",
       "      <td>22.0</td>\n",
       "      <td>1</td>\n",
       "      <td>0</td>\n",
       "      <td>A/5 21171</td>\n",
       "      <td>7.2500</td>\n",
       "      <td>NaN</td>\n",
       "      <td>S</td>\n",
       "    </tr>\n",
       "    <tr>\n",
       "      <th>1</th>\n",
       "      <td>2</td>\n",
       "      <td>1</td>\n",
       "      <td>1</td>\n",
       "      <td>Cumings, Mrs. John Bradley (Florence Briggs Th...</td>\n",
       "      <td>female</td>\n",
       "      <td>38.0</td>\n",
       "      <td>1</td>\n",
       "      <td>0</td>\n",
       "      <td>PC 17599</td>\n",
       "      <td>71.2833</td>\n",
       "      <td>C85</td>\n",
       "      <td>C</td>\n",
       "    </tr>\n",
       "    <tr>\n",
       "      <th>2</th>\n",
       "      <td>3</td>\n",
       "      <td>1</td>\n",
       "      <td>3</td>\n",
       "      <td>Heikkinen, Miss. Laina</td>\n",
       "      <td>female</td>\n",
       "      <td>26.0</td>\n",
       "      <td>0</td>\n",
       "      <td>0</td>\n",
       "      <td>STON/O2. 3101282</td>\n",
       "      <td>7.9250</td>\n",
       "      <td>NaN</td>\n",
       "      <td>S</td>\n",
       "    </tr>\n",
       "    <tr>\n",
       "      <th>3</th>\n",
       "      <td>4</td>\n",
       "      <td>1</td>\n",
       "      <td>1</td>\n",
       "      <td>Futrelle, Mrs. Jacques Heath (Lily May Peel)</td>\n",
       "      <td>female</td>\n",
       "      <td>35.0</td>\n",
       "      <td>1</td>\n",
       "      <td>0</td>\n",
       "      <td>113803</td>\n",
       "      <td>53.1000</td>\n",
       "      <td>C123</td>\n",
       "      <td>S</td>\n",
       "    </tr>\n",
       "    <tr>\n",
       "      <th>4</th>\n",
       "      <td>5</td>\n",
       "      <td>0</td>\n",
       "      <td>3</td>\n",
       "      <td>Allen, Mr. William Henry</td>\n",
       "      <td>male</td>\n",
       "      <td>35.0</td>\n",
       "      <td>0</td>\n",
       "      <td>0</td>\n",
       "      <td>373450</td>\n",
       "      <td>8.0500</td>\n",
       "      <td>NaN</td>\n",
       "      <td>S</td>\n",
       "    </tr>\n",
       "  </tbody>\n",
       "</table>\n",
       "</div>"
      ],
      "text/plain": [
       "   PassengerId  Survived  Pclass  \\\n",
       "0            1         0       3   \n",
       "1            2         1       1   \n",
       "2            3         1       3   \n",
       "3            4         1       1   \n",
       "4            5         0       3   \n",
       "\n",
       "                                                Name     Sex   Age  SibSp  \\\n",
       "0                            Braund, Mr. Owen Harris    male  22.0      1   \n",
       "1  Cumings, Mrs. John Bradley (Florence Briggs Th...  female  38.0      1   \n",
       "2                             Heikkinen, Miss. Laina  female  26.0      0   \n",
       "3       Futrelle, Mrs. Jacques Heath (Lily May Peel)  female  35.0      1   \n",
       "4                           Allen, Mr. William Henry    male  35.0      0   \n",
       "\n",
       "   Parch            Ticket     Fare Cabin Embarked  \n",
       "0      0         A/5 21171   7.2500   NaN        S  \n",
       "1      0          PC 17599  71.2833   C85        C  \n",
       "2      0  STON/O2. 3101282   7.9250   NaN        S  \n",
       "3      0            113803  53.1000  C123        S  \n",
       "4      0            373450   8.0500   NaN        S  "
      ]
     },
     "execution_count": 21,
     "metadata": {},
     "output_type": "execute_result"
    }
   ],
   "source": [
    "titanic[titanic['Age'] > 18].head()\n",
    "# or:\n",
    "titanic[titanic.Age > 18].head()"
   ]
  },
  {
   "cell_type": "markdown",
   "metadata": {},
   "source": [
    "You can use \\& (and) and \\| (or) to refine your filter even further.\n",
    "\n",
    "It's also possible to sort your columns in different ways:"
   ]
  },
  {
   "cell_type": "code",
   "execution_count": 22,
   "metadata": {
    "collapsed": false
   },
   "outputs": [
    {
     "data": {
      "text/html": [
       "<div>\n",
       "<table border=\"1\" class=\"dataframe\">\n",
       "  <thead>\n",
       "    <tr style=\"text-align: right;\">\n",
       "      <th></th>\n",
       "      <th>PassengerId</th>\n",
       "      <th>Survived</th>\n",
       "      <th>Pclass</th>\n",
       "      <th>Name</th>\n",
       "      <th>Sex</th>\n",
       "      <th>Age</th>\n",
       "      <th>SibSp</th>\n",
       "      <th>Parch</th>\n",
       "      <th>Ticket</th>\n",
       "      <th>Fare</th>\n",
       "      <th>Cabin</th>\n",
       "      <th>Embarked</th>\n",
       "    </tr>\n",
       "  </thead>\n",
       "  <tbody>\n",
       "    <tr>\n",
       "      <th>845</th>\n",
       "      <td>846</td>\n",
       "      <td>0</td>\n",
       "      <td>3</td>\n",
       "      <td>Abbing, Mr. Anthony</td>\n",
       "      <td>male</td>\n",
       "      <td>42.0</td>\n",
       "      <td>0</td>\n",
       "      <td>0</td>\n",
       "      <td>C.A. 5547</td>\n",
       "      <td>7.55</td>\n",
       "      <td>NaN</td>\n",
       "      <td>S</td>\n",
       "    </tr>\n",
       "    <tr>\n",
       "      <th>746</th>\n",
       "      <td>747</td>\n",
       "      <td>0</td>\n",
       "      <td>3</td>\n",
       "      <td>Abbott, Mr. Rossmore Edward</td>\n",
       "      <td>male</td>\n",
       "      <td>16.0</td>\n",
       "      <td>1</td>\n",
       "      <td>1</td>\n",
       "      <td>C.A. 2673</td>\n",
       "      <td>20.25</td>\n",
       "      <td>NaN</td>\n",
       "      <td>S</td>\n",
       "    </tr>\n",
       "    <tr>\n",
       "      <th>279</th>\n",
       "      <td>280</td>\n",
       "      <td>1</td>\n",
       "      <td>3</td>\n",
       "      <td>Abbott, Mrs. Stanton (Rosa Hunt)</td>\n",
       "      <td>female</td>\n",
       "      <td>35.0</td>\n",
       "      <td>1</td>\n",
       "      <td>1</td>\n",
       "      <td>C.A. 2673</td>\n",
       "      <td>20.25</td>\n",
       "      <td>NaN</td>\n",
       "      <td>S</td>\n",
       "    </tr>\n",
       "    <tr>\n",
       "      <th>308</th>\n",
       "      <td>309</td>\n",
       "      <td>0</td>\n",
       "      <td>2</td>\n",
       "      <td>Abelson, Mr. Samuel</td>\n",
       "      <td>male</td>\n",
       "      <td>30.0</td>\n",
       "      <td>1</td>\n",
       "      <td>0</td>\n",
       "      <td>P/PP 3381</td>\n",
       "      <td>24.00</td>\n",
       "      <td>NaN</td>\n",
       "      <td>C</td>\n",
       "    </tr>\n",
       "    <tr>\n",
       "      <th>874</th>\n",
       "      <td>875</td>\n",
       "      <td>1</td>\n",
       "      <td>2</td>\n",
       "      <td>Abelson, Mrs. Samuel (Hannah Wizosky)</td>\n",
       "      <td>female</td>\n",
       "      <td>28.0</td>\n",
       "      <td>1</td>\n",
       "      <td>0</td>\n",
       "      <td>P/PP 3381</td>\n",
       "      <td>24.00</td>\n",
       "      <td>NaN</td>\n",
       "      <td>C</td>\n",
       "    </tr>\n",
       "  </tbody>\n",
       "</table>\n",
       "</div>"
      ],
      "text/plain": [
       "     PassengerId  Survived  Pclass                                   Name  \\\n",
       "845          846         0       3                    Abbing, Mr. Anthony   \n",
       "746          747         0       3            Abbott, Mr. Rossmore Edward   \n",
       "279          280         1       3       Abbott, Mrs. Stanton (Rosa Hunt)   \n",
       "308          309         0       2                    Abelson, Mr. Samuel   \n",
       "874          875         1       2  Abelson, Mrs. Samuel (Hannah Wizosky)   \n",
       "\n",
       "        Sex   Age  SibSp  Parch     Ticket   Fare Cabin Embarked  \n",
       "845    male  42.0      0      0  C.A. 5547   7.55   NaN        S  \n",
       "746    male  16.0      1      1  C.A. 2673  20.25   NaN        S  \n",
       "279  female  35.0      1      1  C.A. 2673  20.25   NaN        S  \n",
       "308    male  30.0      1      0  P/PP 3381  24.00   NaN        C  \n",
       "874  female  28.0      1      0  P/PP 3381  24.00   NaN        C  "
      ]
     },
     "execution_count": 22,
     "metadata": {},
     "output_type": "execute_result"
    }
   ],
   "source": [
    "titanic.sort_values('Name', ascending=False).head() # sorts descending\n",
    "titanic.sort_values('Name').head() # sorts ascending"
   ]
  },
  {
   "cell_type": "markdown",
   "metadata": {},
   "source": [
    "### 4.1.2 Data cleaning\n",
    "\n",
    "As we saw earlier, there are a few missing values in our data set, which can be a little annoying during further steps. Some of the columns containing missing values might not actually be all that important for our analyses, so we can drop them all together:"
   ]
  },
  {
   "cell_type": "code",
   "execution_count": 23,
   "metadata": {
    "collapsed": false
   },
   "outputs": [
    {
     "data": {
      "text/html": [
       "<div>\n",
       "<table border=\"1\" class=\"dataframe\">\n",
       "  <thead>\n",
       "    <tr style=\"text-align: right;\">\n",
       "      <th></th>\n",
       "      <th>PassengerId</th>\n",
       "      <th>Survived</th>\n",
       "      <th>Pclass</th>\n",
       "      <th>Name</th>\n",
       "      <th>Sex</th>\n",
       "      <th>Age</th>\n",
       "      <th>SibSp</th>\n",
       "      <th>Parch</th>\n",
       "      <th>Ticket</th>\n",
       "      <th>Fare</th>\n",
       "      <th>Embarked</th>\n",
       "    </tr>\n",
       "  </thead>\n",
       "  <tbody>\n",
       "    <tr>\n",
       "      <th>0</th>\n",
       "      <td>1</td>\n",
       "      <td>0</td>\n",
       "      <td>3</td>\n",
       "      <td>Braund, Mr. Owen Harris</td>\n",
       "      <td>male</td>\n",
       "      <td>22.0</td>\n",
       "      <td>1</td>\n",
       "      <td>0</td>\n",
       "      <td>A/5 21171</td>\n",
       "      <td>7.2500</td>\n",
       "      <td>S</td>\n",
       "    </tr>\n",
       "    <tr>\n",
       "      <th>1</th>\n",
       "      <td>2</td>\n",
       "      <td>1</td>\n",
       "      <td>1</td>\n",
       "      <td>Cumings, Mrs. John Bradley (Florence Briggs Th...</td>\n",
       "      <td>female</td>\n",
       "      <td>38.0</td>\n",
       "      <td>1</td>\n",
       "      <td>0</td>\n",
       "      <td>PC 17599</td>\n",
       "      <td>71.2833</td>\n",
       "      <td>C</td>\n",
       "    </tr>\n",
       "    <tr>\n",
       "      <th>2</th>\n",
       "      <td>3</td>\n",
       "      <td>1</td>\n",
       "      <td>3</td>\n",
       "      <td>Heikkinen, Miss. Laina</td>\n",
       "      <td>female</td>\n",
       "      <td>26.0</td>\n",
       "      <td>0</td>\n",
       "      <td>0</td>\n",
       "      <td>STON/O2. 3101282</td>\n",
       "      <td>7.9250</td>\n",
       "      <td>S</td>\n",
       "    </tr>\n",
       "    <tr>\n",
       "      <th>3</th>\n",
       "      <td>4</td>\n",
       "      <td>1</td>\n",
       "      <td>1</td>\n",
       "      <td>Futrelle, Mrs. Jacques Heath (Lily May Peel)</td>\n",
       "      <td>female</td>\n",
       "      <td>35.0</td>\n",
       "      <td>1</td>\n",
       "      <td>0</td>\n",
       "      <td>113803</td>\n",
       "      <td>53.1000</td>\n",
       "      <td>S</td>\n",
       "    </tr>\n",
       "    <tr>\n",
       "      <th>4</th>\n",
       "      <td>5</td>\n",
       "      <td>0</td>\n",
       "      <td>3</td>\n",
       "      <td>Allen, Mr. William Henry</td>\n",
       "      <td>male</td>\n",
       "      <td>35.0</td>\n",
       "      <td>0</td>\n",
       "      <td>0</td>\n",
       "      <td>373450</td>\n",
       "      <td>8.0500</td>\n",
       "      <td>S</td>\n",
       "    </tr>\n",
       "  </tbody>\n",
       "</table>\n",
       "</div>"
      ],
      "text/plain": [
       "   PassengerId  Survived  Pclass  \\\n",
       "0            1         0       3   \n",
       "1            2         1       1   \n",
       "2            3         1       3   \n",
       "3            4         1       1   \n",
       "4            5         0       3   \n",
       "\n",
       "                                                Name     Sex   Age  SibSp  \\\n",
       "0                            Braund, Mr. Owen Harris    male  22.0      1   \n",
       "1  Cumings, Mrs. John Bradley (Florence Briggs Th...  female  38.0      1   \n",
       "2                             Heikkinen, Miss. Laina  female  26.0      0   \n",
       "3       Futrelle, Mrs. Jacques Heath (Lily May Peel)  female  35.0      1   \n",
       "4                           Allen, Mr. William Henry    male  35.0      0   \n",
       "\n",
       "   Parch            Ticket     Fare Embarked  \n",
       "0      0         A/5 21171   7.2500        S  \n",
       "1      0          PC 17599  71.2833        C  \n",
       "2      0  STON/O2. 3101282   7.9250        S  \n",
       "3      0            113803  53.1000        S  \n",
       "4      0            373450   8.0500        S  "
      ]
     },
     "execution_count": 23,
     "metadata": {},
     "output_type": "execute_result"
    }
   ],
   "source": [
    "titanic = titanic.drop(['Cabin'], axis = 1) # the axis argument tells pandas that we want to drop the COLUMNS. \n",
    "# the default is axis = 0, which would drop the ROWS.\n",
    "\n",
    "titanic.head()"
   ]
  },
  {
   "cell_type": "markdown",
   "metadata": {},
   "source": [
    "Another possibility would be to fill in the missing values - this might not always be a good idea, but let's just assume for now that you have a good reason to do this. For example, you could fill all the missing values in a given column with the mean of that column:"
   ]
  },
  {
   "cell_type": "code",
   "execution_count": 24,
   "metadata": {
    "collapsed": false
   },
   "outputs": [
    {
     "data": {
      "text/plain": [
       "PassengerId    0\n",
       "Survived       0\n",
       "Pclass         0\n",
       "Name           0\n",
       "Sex            0\n",
       "Age            0\n",
       "SibSp          0\n",
       "Parch          0\n",
       "Ticket         0\n",
       "Fare           0\n",
       "Embarked       2\n",
       "dtype: int64"
      ]
     },
     "execution_count": 24,
     "metadata": {},
     "output_type": "execute_result"
    }
   ],
   "source": [
    "# fill each missing value in the Age column with the mean of the Age column\n",
    "titanic.Age = titanic.Age.fillna(titanic.Age.mean())\n",
    "titanic.head()\n",
    "titanic.isnull().sum()"
   ]
  },
  {
   "cell_type": "markdown",
   "metadata": {},
   "source": [
    "The .isnull method tells us that we now don't have any further missing values, except for two values in the 'Embarked' column. Let's just drop the rows containing these missing values:"
   ]
  },
  {
   "cell_type": "code",
   "execution_count": 25,
   "metadata": {
    "collapsed": false
   },
   "outputs": [
    {
     "data": {
      "text/plain": [
       "PassengerId    0\n",
       "Survived       0\n",
       "Pclass         0\n",
       "Name           0\n",
       "Sex            0\n",
       "Age            0\n",
       "SibSp          0\n",
       "Parch          0\n",
       "Ticket         0\n",
       "Fare           0\n",
       "Embarked       0\n",
       "dtype: int64"
      ]
     },
     "execution_count": 25,
     "metadata": {},
     "output_type": "execute_result"
    }
   ],
   "source": [
    "titanic = titanic.dropna()\n",
    "titanic.isnull().sum()"
   ]
  },
  {
   "cell_type": "markdown",
   "metadata": {},
   "source": [
    "Looks like we got rid of all the missing values! Now imagine you wanted to change the values of the 'Survived' column to 'yes' and 'no', rather than 1 and 0:"
   ]
  },
  {
   "cell_type": "code",
   "execution_count": 26,
   "metadata": {
    "collapsed": false
   },
   "outputs": [
    {
     "data": {
      "text/html": [
       "<div>\n",
       "<table border=\"1\" class=\"dataframe\">\n",
       "  <thead>\n",
       "    <tr style=\"text-align: right;\">\n",
       "      <th></th>\n",
       "      <th>PassengerId</th>\n",
       "      <th>Survived</th>\n",
       "      <th>Pclass</th>\n",
       "      <th>Name</th>\n",
       "      <th>Sex</th>\n",
       "      <th>Age</th>\n",
       "      <th>SibSp</th>\n",
       "      <th>Parch</th>\n",
       "      <th>Ticket</th>\n",
       "      <th>Fare</th>\n",
       "      <th>Embarked</th>\n",
       "    </tr>\n",
       "  </thead>\n",
       "  <tbody>\n",
       "    <tr>\n",
       "      <th>0</th>\n",
       "      <td>1</td>\n",
       "      <td>no</td>\n",
       "      <td>3</td>\n",
       "      <td>Braund, Mr. Owen Harris</td>\n",
       "      <td>male</td>\n",
       "      <td>22.0</td>\n",
       "      <td>1</td>\n",
       "      <td>0</td>\n",
       "      <td>A/5 21171</td>\n",
       "      <td>7.2500</td>\n",
       "      <td>S</td>\n",
       "    </tr>\n",
       "    <tr>\n",
       "      <th>1</th>\n",
       "      <td>2</td>\n",
       "      <td>yes</td>\n",
       "      <td>1</td>\n",
       "      <td>Cumings, Mrs. John Bradley (Florence Briggs Th...</td>\n",
       "      <td>female</td>\n",
       "      <td>38.0</td>\n",
       "      <td>1</td>\n",
       "      <td>0</td>\n",
       "      <td>PC 17599</td>\n",
       "      <td>71.2833</td>\n",
       "      <td>C</td>\n",
       "    </tr>\n",
       "    <tr>\n",
       "      <th>2</th>\n",
       "      <td>3</td>\n",
       "      <td>yes</td>\n",
       "      <td>3</td>\n",
       "      <td>Heikkinen, Miss. Laina</td>\n",
       "      <td>female</td>\n",
       "      <td>26.0</td>\n",
       "      <td>0</td>\n",
       "      <td>0</td>\n",
       "      <td>STON/O2. 3101282</td>\n",
       "      <td>7.9250</td>\n",
       "      <td>S</td>\n",
       "    </tr>\n",
       "    <tr>\n",
       "      <th>3</th>\n",
       "      <td>4</td>\n",
       "      <td>yes</td>\n",
       "      <td>1</td>\n",
       "      <td>Futrelle, Mrs. Jacques Heath (Lily May Peel)</td>\n",
       "      <td>female</td>\n",
       "      <td>35.0</td>\n",
       "      <td>1</td>\n",
       "      <td>0</td>\n",
       "      <td>113803</td>\n",
       "      <td>53.1000</td>\n",
       "      <td>S</td>\n",
       "    </tr>\n",
       "    <tr>\n",
       "      <th>4</th>\n",
       "      <td>5</td>\n",
       "      <td>no</td>\n",
       "      <td>3</td>\n",
       "      <td>Allen, Mr. William Henry</td>\n",
       "      <td>male</td>\n",
       "      <td>35.0</td>\n",
       "      <td>0</td>\n",
       "      <td>0</td>\n",
       "      <td>373450</td>\n",
       "      <td>8.0500</td>\n",
       "      <td>S</td>\n",
       "    </tr>\n",
       "  </tbody>\n",
       "</table>\n",
       "</div>"
      ],
      "text/plain": [
       "   PassengerId Survived  Pclass  \\\n",
       "0            1       no       3   \n",
       "1            2      yes       1   \n",
       "2            3      yes       3   \n",
       "3            4      yes       1   \n",
       "4            5       no       3   \n",
       "\n",
       "                                                Name     Sex   Age  SibSp  \\\n",
       "0                            Braund, Mr. Owen Harris    male  22.0      1   \n",
       "1  Cumings, Mrs. John Bradley (Florence Briggs Th...  female  38.0      1   \n",
       "2                             Heikkinen, Miss. Laina  female  26.0      0   \n",
       "3       Futrelle, Mrs. Jacques Heath (Lily May Peel)  female  35.0      1   \n",
       "4                           Allen, Mr. William Henry    male  35.0      0   \n",
       "\n",
       "   Parch            Ticket     Fare Embarked  \n",
       "0      0         A/5 21171   7.2500        S  \n",
       "1      0          PC 17599  71.2833        C  \n",
       "2      0  STON/O2. 3101282   7.9250        S  \n",
       "3      0            113803  53.1000        S  \n",
       "4      0            373450   8.0500        S  "
      ]
     },
     "execution_count": 26,
     "metadata": {},
     "output_type": "execute_result"
    }
   ],
   "source": [
    "titanic.Survived = titanic.Survived.replace([1,0], ['yes','no'])\n",
    "titanic.head()"
   ]
  },
  {
   "cell_type": "markdown",
   "metadata": {},
   "source": [
    "You can also easily rename the columns, like this:"
   ]
  },
  {
   "cell_type": "code",
   "execution_count": 27,
   "metadata": {
    "collapsed": false
   },
   "outputs": [
    {
     "data": {
      "text/html": [
       "<div>\n",
       "<table border=\"1\" class=\"dataframe\">\n",
       "  <thead>\n",
       "    <tr style=\"text-align: right;\">\n",
       "      <th></th>\n",
       "      <th>PassengerId</th>\n",
       "      <th>Survived</th>\n",
       "      <th>Pclass</th>\n",
       "      <th>Name</th>\n",
       "      <th>Sex</th>\n",
       "      <th>Age</th>\n",
       "      <th>SibSp</th>\n",
       "      <th>ParCh</th>\n",
       "      <th>Ticket</th>\n",
       "      <th>Fare</th>\n",
       "      <th>Embarked</th>\n",
       "    </tr>\n",
       "  </thead>\n",
       "  <tbody>\n",
       "    <tr>\n",
       "      <th>0</th>\n",
       "      <td>1</td>\n",
       "      <td>no</td>\n",
       "      <td>3</td>\n",
       "      <td>Braund, Mr. Owen Harris</td>\n",
       "      <td>male</td>\n",
       "      <td>22.0</td>\n",
       "      <td>1</td>\n",
       "      <td>0</td>\n",
       "      <td>A/5 21171</td>\n",
       "      <td>7.2500</td>\n",
       "      <td>S</td>\n",
       "    </tr>\n",
       "    <tr>\n",
       "      <th>1</th>\n",
       "      <td>2</td>\n",
       "      <td>yes</td>\n",
       "      <td>1</td>\n",
       "      <td>Cumings, Mrs. John Bradley (Florence Briggs Th...</td>\n",
       "      <td>female</td>\n",
       "      <td>38.0</td>\n",
       "      <td>1</td>\n",
       "      <td>0</td>\n",
       "      <td>PC 17599</td>\n",
       "      <td>71.2833</td>\n",
       "      <td>C</td>\n",
       "    </tr>\n",
       "    <tr>\n",
       "      <th>2</th>\n",
       "      <td>3</td>\n",
       "      <td>yes</td>\n",
       "      <td>3</td>\n",
       "      <td>Heikkinen, Miss. Laina</td>\n",
       "      <td>female</td>\n",
       "      <td>26.0</td>\n",
       "      <td>0</td>\n",
       "      <td>0</td>\n",
       "      <td>STON/O2. 3101282</td>\n",
       "      <td>7.9250</td>\n",
       "      <td>S</td>\n",
       "    </tr>\n",
       "    <tr>\n",
       "      <th>3</th>\n",
       "      <td>4</td>\n",
       "      <td>yes</td>\n",
       "      <td>1</td>\n",
       "      <td>Futrelle, Mrs. Jacques Heath (Lily May Peel)</td>\n",
       "      <td>female</td>\n",
       "      <td>35.0</td>\n",
       "      <td>1</td>\n",
       "      <td>0</td>\n",
       "      <td>113803</td>\n",
       "      <td>53.1000</td>\n",
       "      <td>S</td>\n",
       "    </tr>\n",
       "    <tr>\n",
       "      <th>4</th>\n",
       "      <td>5</td>\n",
       "      <td>no</td>\n",
       "      <td>3</td>\n",
       "      <td>Allen, Mr. William Henry</td>\n",
       "      <td>male</td>\n",
       "      <td>35.0</td>\n",
       "      <td>0</td>\n",
       "      <td>0</td>\n",
       "      <td>373450</td>\n",
       "      <td>8.0500</td>\n",
       "      <td>S</td>\n",
       "    </tr>\n",
       "  </tbody>\n",
       "</table>\n",
       "</div>"
      ],
      "text/plain": [
       "   PassengerId Survived  Pclass  \\\n",
       "0            1       no       3   \n",
       "1            2      yes       1   \n",
       "2            3      yes       3   \n",
       "3            4      yes       1   \n",
       "4            5       no       3   \n",
       "\n",
       "                                                Name     Sex   Age  SibSp  \\\n",
       "0                            Braund, Mr. Owen Harris    male  22.0      1   \n",
       "1  Cumings, Mrs. John Bradley (Florence Briggs Th...  female  38.0      1   \n",
       "2                             Heikkinen, Miss. Laina  female  26.0      0   \n",
       "3       Futrelle, Mrs. Jacques Heath (Lily May Peel)  female  35.0      1   \n",
       "4                           Allen, Mr. William Henry    male  35.0      0   \n",
       "\n",
       "   ParCh            Ticket     Fare Embarked  \n",
       "0      0         A/5 21171   7.2500        S  \n",
       "1      0          PC 17599  71.2833        C  \n",
       "2      0  STON/O2. 3101282   7.9250        S  \n",
       "3      0            113803  53.1000        S  \n",
       "4      0            373450   8.0500        S  "
      ]
     },
     "execution_count": 27,
     "metadata": {},
     "output_type": "execute_result"
    }
   ],
   "source": [
    "titanic = titanic.rename(columns={'Parch': 'ParCh'})\n",
    "titanic.head()"
   ]
  },
  {
   "cell_type": "markdown",
   "metadata": {},
   "source": [
    "It's also possible to join several data frames together. For example, imagine you had a different data frame with all the passenger IDs, plus whether they were left- or right-handed:"
   ]
  },
  {
   "cell_type": "code",
   "execution_count": 28,
   "metadata": {
    "collapsed": false
   },
   "outputs": [
    {
     "name": "stdout",
     "output_type": "stream",
     "text": [
      "<class 'pandas.core.frame.DataFrame'>\n",
      "RangeIndex: 891 entries, 0 to 890\n",
      "Data columns (total 2 columns):\n",
      "Handedness     891 non-null int32\n",
      "PassengerId    891 non-null int32\n",
      "dtypes: int32(2)\n",
      "memory usage: 7.0 KB\n"
     ]
    },
    {
     "data": {
      "text/html": [
       "<div>\n",
       "<table border=\"1\" class=\"dataframe\">\n",
       "  <thead>\n",
       "    <tr style=\"text-align: right;\">\n",
       "      <th></th>\n",
       "      <th>Handedness</th>\n",
       "      <th>PassengerId</th>\n",
       "    </tr>\n",
       "  </thead>\n",
       "  <tbody>\n",
       "    <tr>\n",
       "      <th>count</th>\n",
       "      <td>891.000000</td>\n",
       "      <td>891.000000</td>\n",
       "    </tr>\n",
       "    <tr>\n",
       "      <th>mean</th>\n",
       "      <td>0.506173</td>\n",
       "      <td>446.000000</td>\n",
       "    </tr>\n",
       "    <tr>\n",
       "      <th>std</th>\n",
       "      <td>0.500243</td>\n",
       "      <td>257.353842</td>\n",
       "    </tr>\n",
       "    <tr>\n",
       "      <th>min</th>\n",
       "      <td>0.000000</td>\n",
       "      <td>1.000000</td>\n",
       "    </tr>\n",
       "    <tr>\n",
       "      <th>25%</th>\n",
       "      <td>0.000000</td>\n",
       "      <td>223.500000</td>\n",
       "    </tr>\n",
       "    <tr>\n",
       "      <th>50%</th>\n",
       "      <td>1.000000</td>\n",
       "      <td>446.000000</td>\n",
       "    </tr>\n",
       "    <tr>\n",
       "      <th>75%</th>\n",
       "      <td>1.000000</td>\n",
       "      <td>668.500000</td>\n",
       "    </tr>\n",
       "    <tr>\n",
       "      <th>max</th>\n",
       "      <td>1.000000</td>\n",
       "      <td>891.000000</td>\n",
       "    </tr>\n",
       "  </tbody>\n",
       "</table>\n",
       "</div>"
      ],
      "text/plain": [
       "       Handedness  PassengerId\n",
       "count  891.000000   891.000000\n",
       "mean     0.506173   446.000000\n",
       "std      0.500243   257.353842\n",
       "min      0.000000     1.000000\n",
       "25%      0.000000   223.500000\n",
       "50%      1.000000   446.000000\n",
       "75%      1.000000   668.500000\n",
       "max      1.000000   891.000000"
      ]
     },
     "execution_count": 28,
     "metadata": {},
     "output_type": "execute_result"
    }
   ],
   "source": [
    "# making a random data frame\n",
    "handedness = pd.DataFrame(index = range(0,891), columns = ['Handedness', 'PassengerId'])\n",
    "handedness.Handedness = np.random.choice([1,0], len(handedness))\n",
    "handedness.PassengerId = np.arange(1,892)\n",
    "handedness.info()\n",
    "handedness.describe()"
   ]
  },
  {
   "cell_type": "code",
   "execution_count": 29,
   "metadata": {
    "collapsed": false
   },
   "outputs": [
    {
     "data": {
      "text/html": [
       "<div>\n",
       "<table border=\"1\" class=\"dataframe\">\n",
       "  <thead>\n",
       "    <tr style=\"text-align: right;\">\n",
       "      <th></th>\n",
       "      <th>PassengerId</th>\n",
       "      <th>Survived</th>\n",
       "      <th>Pclass</th>\n",
       "      <th>Name</th>\n",
       "      <th>Sex</th>\n",
       "      <th>Age</th>\n",
       "      <th>SibSp</th>\n",
       "      <th>ParCh</th>\n",
       "      <th>Ticket</th>\n",
       "      <th>Fare</th>\n",
       "      <th>Embarked</th>\n",
       "      <th>Handedness</th>\n",
       "      <th>PassengerId</th>\n",
       "    </tr>\n",
       "  </thead>\n",
       "  <tbody>\n",
       "    <tr>\n",
       "      <th>0</th>\n",
       "      <td>1.0</td>\n",
       "      <td>no</td>\n",
       "      <td>3.0</td>\n",
       "      <td>Braund, Mr. Owen Harris</td>\n",
       "      <td>male</td>\n",
       "      <td>22.0</td>\n",
       "      <td>1.0</td>\n",
       "      <td>0.0</td>\n",
       "      <td>A/5 21171</td>\n",
       "      <td>7.2500</td>\n",
       "      <td>S</td>\n",
       "      <td>1</td>\n",
       "      <td>1</td>\n",
       "    </tr>\n",
       "    <tr>\n",
       "      <th>1</th>\n",
       "      <td>2.0</td>\n",
       "      <td>yes</td>\n",
       "      <td>1.0</td>\n",
       "      <td>Cumings, Mrs. John Bradley (Florence Briggs Th...</td>\n",
       "      <td>female</td>\n",
       "      <td>38.0</td>\n",
       "      <td>1.0</td>\n",
       "      <td>0.0</td>\n",
       "      <td>PC 17599</td>\n",
       "      <td>71.2833</td>\n",
       "      <td>C</td>\n",
       "      <td>0</td>\n",
       "      <td>2</td>\n",
       "    </tr>\n",
       "    <tr>\n",
       "      <th>2</th>\n",
       "      <td>3.0</td>\n",
       "      <td>yes</td>\n",
       "      <td>3.0</td>\n",
       "      <td>Heikkinen, Miss. Laina</td>\n",
       "      <td>female</td>\n",
       "      <td>26.0</td>\n",
       "      <td>0.0</td>\n",
       "      <td>0.0</td>\n",
       "      <td>STON/O2. 3101282</td>\n",
       "      <td>7.9250</td>\n",
       "      <td>S</td>\n",
       "      <td>1</td>\n",
       "      <td>3</td>\n",
       "    </tr>\n",
       "    <tr>\n",
       "      <th>3</th>\n",
       "      <td>4.0</td>\n",
       "      <td>yes</td>\n",
       "      <td>1.0</td>\n",
       "      <td>Futrelle, Mrs. Jacques Heath (Lily May Peel)</td>\n",
       "      <td>female</td>\n",
       "      <td>35.0</td>\n",
       "      <td>1.0</td>\n",
       "      <td>0.0</td>\n",
       "      <td>113803</td>\n",
       "      <td>53.1000</td>\n",
       "      <td>S</td>\n",
       "      <td>1</td>\n",
       "      <td>4</td>\n",
       "    </tr>\n",
       "    <tr>\n",
       "      <th>4</th>\n",
       "      <td>5.0</td>\n",
       "      <td>no</td>\n",
       "      <td>3.0</td>\n",
       "      <td>Allen, Mr. William Henry</td>\n",
       "      <td>male</td>\n",
       "      <td>35.0</td>\n",
       "      <td>0.0</td>\n",
       "      <td>0.0</td>\n",
       "      <td>373450</td>\n",
       "      <td>8.0500</td>\n",
       "      <td>S</td>\n",
       "      <td>1</td>\n",
       "      <td>5</td>\n",
       "    </tr>\n",
       "  </tbody>\n",
       "</table>\n",
       "</div>"
      ],
      "text/plain": [
       "   PassengerId Survived  Pclass  \\\n",
       "0          1.0       no     3.0   \n",
       "1          2.0      yes     1.0   \n",
       "2          3.0      yes     3.0   \n",
       "3          4.0      yes     1.0   \n",
       "4          5.0       no     3.0   \n",
       "\n",
       "                                                Name     Sex   Age  SibSp  \\\n",
       "0                            Braund, Mr. Owen Harris    male  22.0    1.0   \n",
       "1  Cumings, Mrs. John Bradley (Florence Briggs Th...  female  38.0    1.0   \n",
       "2                             Heikkinen, Miss. Laina  female  26.0    0.0   \n",
       "3       Futrelle, Mrs. Jacques Heath (Lily May Peel)  female  35.0    1.0   \n",
       "4                           Allen, Mr. William Henry    male  35.0    0.0   \n",
       "\n",
       "   ParCh            Ticket     Fare Embarked  Handedness  PassengerId  \n",
       "0    0.0         A/5 21171   7.2500        S           1            1  \n",
       "1    0.0          PC 17599  71.2833        C           0            2  \n",
       "2    0.0  STON/O2. 3101282   7.9250        S           1            3  \n",
       "3    0.0            113803  53.1000        S           1            4  \n",
       "4    0.0            373450   8.0500        S           1            5  "
      ]
     },
     "execution_count": 29,
     "metadata": {},
     "output_type": "execute_result"
    }
   ],
   "source": [
    " pd.concat([titanic, handedness], axis=1).head() # axis = 1 tells pandas that we want to concatenate columns, not rows"
   ]
  },
  {
   "cell_type": "markdown",
   "metadata": {},
   "source": [
    "Now that we've done all that work on the Titanic dataset, we'll want to preserve it by writing it to a file. Pandas has a convenient way to do this for dataframes:"
   ]
  },
  {
   "cell_type": "code",
   "execution_count": 30,
   "metadata": {
    "collapsed": true
   },
   "outputs": [],
   "source": [
    "titanic.to_csv('titanic_cleaned.csv')"
   ]
  },
  {
   "cell_type": "markdown",
   "metadata": {
    "collapsed": true
   },
   "source": [
    "## 4.2 Seaborn\n",
    "Seaborn is a plotting library, similar to ggplot in R. Basic plotting with Seaborn is very easy, but as with ggplot, it has many options for altering and extending figures and it's easy to get lost in the details. Today we will only cover some of the basics, but Seaborn has excellent documentation, so if you want to know more, go to https://seaborn.pydata.org/.  \n",
    "To get started, let's just import seaborn and draw a line."
   ]
  },
  {
   "cell_type": "code",
   "execution_count": 32,
   "metadata": {
    "collapsed": false
   },
   "outputs": [
    {
     "data": {
      "text/plain": [
       "<matplotlib.axes._subplots.AxesSubplot at 0x557fd93668>"
      ]
     },
     "execution_count": 32,
     "metadata": {},
     "output_type": "execute_result"
    },
    {
     "data": {
      "image/png": "iVBORw0KGgoAAAANSUhEUgAAAu8AAAHwCAYAAAAW64GCAAAABHNCSVQICAgIfAhkiAAAAAlwSFlz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\n",
      "text/plain": [
       "<matplotlib.figure.Figure at 0x557fb3f160>"
      ]
     },
     "metadata": {
      "image/png": {
       "height": 248,
       "width": 375
      }
     },
     "output_type": "display_data"
    }
   ],
   "source": [
    "import seaborn as sns  # convention is to import seaborn under the name sns, for unclear reasons\n",
    "\n",
    "# some magic that will make this notebook display our plots inline, don't worry about this for now\n",
    "%matplotlib inline\n",
    "%config InlineBackend.figure_format = 'retina'\n",
    "\n",
    "# make up some x and y values\n",
    "x = np.linspace(0, 10)\n",
    "y = x * x\n",
    "\n",
    "# and plot using the lineplot method\n",
    "sns.tsplot(x, y)"
   ]
  },
  {
   "cell_type": "markdown",
   "metadata": {},
   "source": [
    "That was rather easy, but let's plot something more interesting.  \n",
    "Using the Titanic data, we can plot the relationship between different variables and survival rate. Let's start with age. The obvious way to plot this is using a violinplot or something similar."
   ]
  },
  {
   "cell_type": "code",
   "execution_count": 33,
   "metadata": {
    "collapsed": false
   },
   "outputs": [
    {
     "data": {
      "text/plain": [
       "<matplotlib.axes._subplots.AxesSubplot at 0x557fdeb438>"
      ]
     },
     "execution_count": 33,
     "metadata": {},
     "output_type": "execute_result"
    },
    {
     "data": {
      "image/png": "iVBORw0KGgoAAAANSUhEUgAAAvoAAAIMCAYAAACE1AjRAAAABHNCSVQICAgIfAhkiAAAAAlwSFlz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\n2rkTSmUAAAAASUVORK5CYII=\n",
      "text/plain": [
       "<matplotlib.figure.Figure at 0x557b5a24a8>"
      ]
     },
     "metadata": {
      "image/png": {
       "height": 262,
       "width": 381
      }
     },
     "output_type": "display_data"
    }
   ],
   "source": [
    "# seaborn has a violinplot method, so this will be fairly easy\n",
    "sns.violinplot(x='Survived', y='Age', data=titanic)"
   ]
  },
  {
   "cell_type": "markdown",
   "metadata": {},
   "source": [
    "That looks fairly similar between the yes and no groups, except for a little bump just above age 0 in the survived group. It seems like they may have made an effort to put children on the lifeboats first.  \n",
    "That makes me wonder if women were sent to the lifeboats before men. Let's plot that and see."
   ]
  },
  {
   "cell_type": "code",
   "execution_count": 34,
   "metadata": {
    "collapsed": false
   },
   "outputs": [
    {
     "data": {
      "text/plain": [
       "<matplotlib.axes._subplots.AxesSubplot at 0x55004817b8>"
      ]
     },
     "execution_count": 34,
     "metadata": {},
     "output_type": "execute_result"
    },
    {
     "data": {
      "image/png": "iVBORw0KGgoAAAANSUhEUgAAAwUAAAIMCAYAAACkHQAFAAAABHNCSVQICAgIfAhkiAAAAAlwSFlz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\nwi6mZ4gAAAAASUVORK5CYII=\n",
      "text/plain": [
       "<matplotlib.figure.Figure at 0x557fd935f8>"
      ]
     },
     "metadata": {
      "image/png": {
       "height": 262,
       "width": 386
      }
     },
     "output_type": "display_data"
    }
   ],
   "source": [
    "sns.countplot(x='Survived', hue='Sex', data=titanic)"
   ]
  },
  {
   "cell_type": "markdown",
   "metadata": {},
   "source": [
    "Wow, that seems like quite a difference.  \n",
    "There were three classes of ticket sold on the Titanic. Using the `countplot()` method, plot the survival numbers for each class."
   ]
  },
  {
   "cell_type": "code",
   "execution_count": 61,
   "metadata": {
    "collapsed": false
   },
   "outputs": [
    {
     "data": {
      "text/plain": [
       "<matplotlib.axes._subplots.AxesSubplot at 0x5503e91fd0>"
      ]
     },
     "execution_count": 61,
     "metadata": {},
     "output_type": "execute_result"
    },
    {
     "data": {
      "image/png": "iVBORw0KGgoAAAANSUhEUgAAAwUAAAIMCAYAAACkHQAFAAAABHNCSVQICAgIfAhkiAAAAAlwSFlz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\nrkJggg==\n",
      "text/plain": [
       "<matplotlib.figure.Figure at 0x550290fda0>"
      ]
     },
     "metadata": {
      "image/png": {
       "height": 262,
       "width": 386
      }
     },
     "output_type": "display_data"
    }
   ],
   "source": [
    "# plot surivival counts for each class here.\n",
    "sns.countplot(x='Survived', hue='Pclass', data=titanic[titanic['Sex'] == 'male'])\n"
   ]
  },
  {
   "cell_type": "markdown",
   "metadata": {},
   "source": [
    "While survival is the most salient part of this dataset, there are of course other things we can plot that might be of interest. For instance, what is the relationship between price of the ticket (_fare_) and age?  \n",
    "Plot this using a scatterplot. (Hint: It's the `scatterplot()` method!)"
   ]
  },
  {
   "cell_type": "code",
   "execution_count": 37,
   "metadata": {
    "collapsed": false
   },
   "outputs": [
    {
     "ename": "AttributeError",
     "evalue": "module 'seaborn' has no attribute 'scatterplot'",
     "output_type": "error",
     "traceback": [
      "\u001b[0;31m---------------------------------------------------------------------------\u001b[0m",
      "\u001b[0;31mAttributeError\u001b[0m                            Traceback (most recent call last)",
      "\u001b[0;32m<ipython-input-37-4cde2f30f1ac>\u001b[0m in \u001b[0;36m<module>\u001b[0;34m()\u001b[0m\n\u001b[1;32m      1\u001b[0m \u001b[1;31m# plot age by ticket price here\u001b[0m\u001b[1;33m\u001b[0m\u001b[1;33m\u001b[0m\u001b[0m\n\u001b[0;32m----> 2\u001b[0;31m \u001b[0msns\u001b[0m\u001b[1;33m.\u001b[0m\u001b[0mscatterplot\u001b[0m\u001b[1;33m(\u001b[0m\u001b[0mx\u001b[0m\u001b[1;33m=\u001b[0m\u001b[1;34m'Fare'\u001b[0m\u001b[1;33m,\u001b[0m \u001b[0my\u001b[0m\u001b[1;33m=\u001b[0m\u001b[1;34m'Age'\u001b[0m\u001b[1;33m,\u001b[0m \u001b[0mdata\u001b[0m\u001b[1;33m=\u001b[0m\u001b[0mtitanic\u001b[0m\u001b[1;33m)\u001b[0m\u001b[1;33m\u001b[0m\u001b[0m\n\u001b[0m",
      "\u001b[0;31mAttributeError\u001b[0m: module 'seaborn' has no attribute 'scatterplot'"
     ]
    }
   ],
   "source": [
    "# plot age by ticket price here\n",
    "sns.scatterplot(x='Fare', y='Age', data=titanic)"
   ]
  },
  {
   "cell_type": "markdown",
   "metadata": {},
   "source": [
    "That's not very easy to interpret by sight. Let's add a trendline using linear regression.  \n",
    "The plotting method for this is called `regplot()`."
   ]
  },
  {
   "cell_type": "code",
   "execution_count": 44,
   "metadata": {
    "collapsed": false
   },
   "outputs": [
    {
     "data": {
      "text/plain": [
       "<matplotlib.axes._subplots.AxesSubplot at 0x5504457a58>"
      ]
     },
     "execution_count": 44,
     "metadata": {},
     "output_type": "execute_result"
    },
    {
     "data": {
      "image/png": "iVBORw0KGgoAAAANSUhEUgAAAwUAAAIMCAYAAACkHQAFAAAABHNCSVQICAgIfAhkiAAAAAlwSFlz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\n/Q+gfTZajNQrogAAAABJRU5ErkJggg==\n",
      "text/plain": [
       "<matplotlib.figure.Figure at 0x5503e02cc0>"
      ]
     },
     "metadata": {
      "image/png": {
       "height": 262,
       "width": 386
      }
     },
     "output_type": "display_data"
    }
   ],
   "source": [
    "# plot using regplot here\n",
    "sns.regplot(x='Age', y='Fare', data=titanic)"
   ]
  },
  {
   "cell_type": "markdown",
   "metadata": {},
   "source": [
    "## 4.3 SciPy\n",
    "Because we have limited time to go over everything, we're not going to do anything about SciPy other than to say: SciPy is essentially an extension of NumPy. If you can't find some kind of numerical operation you need in NumPy, SciPy might have it. (If you're going to do weird statistics or EEG/MEG/fMRI analysis, you might need SciPy's signal processing or linear algebra functions at some point.)  \n",
    "Documentation is pretty good and is located at https://docs.scipy.org/doc/scipy/reference/."
   ]
  },
  {
   "cell_type": "markdown",
   "metadata": {},
   "source": [
    "## 4.4 DIY time!\n",
    "Feel free to mess around with the Titanic dataset some more, exploring it in different ways by grouping and plotting data. When you feel like you want another challenge, move on to this week's additional exercises."
   ]
  }
 ],
 "metadata": {
  "anaconda-cloud": {},
  "kernelspec": {
   "display_name": "Python 3",
   "language": "python",
   "name": "python3"
  },
  "language_info": {
   "codemirror_mode": {
    "name": "ipython",
    "version": 3
   },
   "file_extension": ".py",
   "mimetype": "text/x-python",
   "name": "python",
   "nbconvert_exporter": "python",
   "pygments_lexer": "ipython3",
<<<<<<< HEAD
   "version": "3.6.6"
=======
   "version": "3.7.1"
>>>>>>> 77f1d10675ab62adcb6fac9bf84443c5be2863f5
  }
 },
 "nbformat": 4,
 "nbformat_minor": 1
}
