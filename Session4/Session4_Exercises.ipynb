{
 "cells": [
  {
   "cell_type": "markdown",
   "metadata": {},
   "source": [
    "## Scikit-learn\n",
    "Another Python module that is very useful for data analysis and exploration is scikit-learn. This module contains statistical, machine learning, and related methods, including different types of regression and clustering.  \n",
    "In this notebook, you can use scikit-learn to explore the Titanic data we've worked on this week."
   ]
  },
  {
   "cell_type": "code",
   "execution_count": 23,
   "metadata": {},
   "outputs": [],
   "source": [
    "# first, let's import scikit-learn and our dataset\n",
    "import pandas as pd\n",
    "from sklearn import linear_model\n",
    "from sklearn.metrics import r2_score\n",
    "from sklearn import preprocessing\n",
    "le = preprocessing.LabelEncoder()\n",
    "\n",
    "# import titanic_cleaned.csv using pandas here\n",
    "titanic = pd.read_csv('titanic_cleaned.csv')\n",
    "titanic = titanic.apply(le.fit_transform)"
   ]
  },
  {
   "cell_type": "markdown",
   "metadata": {},
   "source": [
    "One of the most basic ways of analyzing you data is using regression. Statsmodels has a pretty simple linear regression method."
   ]
  },
  {
   "cell_type": "code",
   "execution_count": 24,
   "metadata": {},
   "outputs": [
    {
     "name": "stdout",
     "output_type": "stream",
     "text": [
      "R-squared is 0.5386599232998196\n"
     ]
    }
   ],
   "source": [
    "X = titanic[['Age', 'Pclass']]  # this syntax lets us select multiple columns from the dataframe\n",
    "y = titanic['Fare']\n",
    "\n",
    "model = linear_model.LinearRegression()  # instantiate a linear model\n",
    "\n",
    "model.fit(X, y)  # fit the model betas\n",
    "\n",
    "\n",
    "y_predicted = model.predict(X)  # predict y from X\n",
    "r2 = r2_score(y, y_predicted)  # calculate model R-squared\n",
    "print(f'R-squared is {r2}')"
   ]
  },
  {
   "cell_type": "markdown",
   "metadata": {},
   "source": [
    "That is a lot of information, but as you can see, the R-squared isn't super great. Can you add some more predictors?"
   ]
  },
  {
   "cell_type": "code",
   "execution_count": 25,
   "metadata": {},
   "outputs": [
    {
     "name": "stdout",
     "output_type": "stream",
     "text": [
      "R-squared is 0.5631315529417641\n"
     ]
    }
   ],
   "source": [
    "# think about which predictors might be most informative and add them to X, then run the model again\n",
    "# then check the R-squared in the model summary\n",
    "X= titanic[['Age', 'Pclass','Sex','Embarked']]  \n",
    "y = titanic['Fare']\n",
    "\n",
    "model = linear_model.LinearRegression()  \n",
    "\n",
    "model.fit(X, y)\n",
    "\n",
    "\n",
    "y_predicted = model.predict(X)  # predict y from X\n",
    "r2 = r2_score(y, y_predicted)  # calculate model R-squared\n",
    "print(f'R-squared is {r2}')"
   ]
  },
  {
   "cell_type": "markdown",
   "metadata": {},
   "source": [
    "Of course the really interesting thing to predict would be survival. This is a binary variable, so we want to use logistic regression.  \n",
    "The logistic regression method in sklearn is conveniently called `linear_models.LogisticRegression()`. Use it now to construct a good model of survival.  \n",
    "\n",
    "__Hint:__ Use `pd.get_dummies()` to turn categorical columns into dummy coded columns.  "
   ]
  },
  {
   "cell_type": "code",
   "execution_count": 42,
   "metadata": {},
   "outputs": [
    {
     "name": "stdout",
     "output_type": "stream",
     "text": [
      "R-squared is 0.13319404264438017\n"
     ]
    }
   ],
   "source": [
    "y = titanic['Survived']\n",
    "# I didn't use the get.dummies but the le = preprocessing.LabelEncoder() from above (otherwise I got an error)\n",
    "\n",
    "X= titanic[['Age', 'Pclass','Sex']]  \n",
    "\n",
    "model = linear_model.LogisticRegression()  \n",
    "\n",
    "model.fit(X, y)\n",
    "\n",
    "\n",
    "y_predicted = model.predict(X)  \n",
    "r2 = r2_score(y, y_predicted)  \n",
    "print(f'R-squared is {r2}')"
   ]
  },
  {
   "cell_type": "markdown",
   "metadata": {},
   "source": [
    "Turns out it's still really hard to predict who survived, but remember: Doing Titanic stats > watching the movie.  \n",
    "\n",
    "Now explore the scikit-learn documentation to see what learning algorithms are in there. Play around with K-means and Nearest Neighbor clustering or Naive Bayes classifiers and this dataset if you have time. You might be able to get better predictions for the Titanic data than with simple regression models."
   ]
  }
 ],
 "metadata": {
  "kernelspec": {
   "display_name": "Python 3",
   "language": "python",
   "name": "python3"
  },
  "language_info": {
   "codemirror_mode": {
    "name": "ipython",
    "version": 3
   },
   "file_extension": ".py",
   "mimetype": "text/x-python",
   "name": "python",
   "nbconvert_exporter": "python",
   "pygments_lexer": "ipython3",
   "version": "3.7.0"
  }
 },
 "nbformat": 4,
 "nbformat_minor": 2
}
