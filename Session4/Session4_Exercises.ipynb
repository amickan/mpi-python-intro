{
 "cells": [
  {
   "cell_type": "markdown",
   "metadata": {},
   "source": [
    "## Scikit-learn\n",
    "Another Python module that is very useful for data analysis and exploration is scikit-learn. This module contains statistical, machine learning, and related methods, including different types of regression and clustering.  \n",
    "In this notebook, you can use scikit-learn to explore the Titanic data we've worked on this week."
   ]
  },
  {
   "cell_type": "code",
   "execution_count": null,
   "metadata": {},
   "outputs": [],
   "source": [
    "# first, let's import scikit-learn and our dataset\n",
    "import pandas as pd\n",
    "from sklearn import linear_model\n",
    "from sklearn.metrics import r2_score\n",
    "\n",
    "# import titanic_cleaned.csv using pandas here"
   ]
  },
  {
   "cell_type": "markdown",
   "metadata": {},
   "source": [
    "One of the most basic ways of analyzing you data is using regression. Statsmodels has a pretty simple linear regression method."
   ]
  },
  {
   "cell_type": "code",
   "execution_count": null,
   "metadata": {},
   "outputs": [],
   "source": [
    "X = titanic[['Age', 'Pclass']]  # this syntax lets us select multiple columns from the dataframe\n",
    "y = titanic['Fare']\n",
    "\n",
    "model = linear_model.LinearRegression()  # instantiate a linear model\n",
    "model.fit(X, y)  # fit the model betas\n",
    "y_predicted = model.predict(X)  # predict y from X\n",
    "r2 = r2_score(y, y_predicted)  # calculate model R-squared\n",
    "print(f'R-squared is {r2}')"
   ]
  },
  {
   "cell_type": "markdown",
   "metadata": {},
   "source": [
    "That is a lot of information, but as you can see, the R-squared isn't super great. Can you add some more predictors?"
   ]
  },
  {
   "cell_type": "code",
   "execution_count": null,
   "metadata": {},
   "outputs": [],
   "source": [
    "# think about which predictors might be most informative and add them to X, then run the model again\n",
    "# then check the R-squared in the model summary"
   ]
  },
  {
   "cell_type": "markdown",
   "metadata": {},
   "source": [
    "Of course the really interesting thing to predict would be survival. This is a binary variable, so we want to use logistic regression.  \n",
    "The logistic regression method in sklearn is conveniently called `linear_models.LogisticRegression()`. Use it now to construct a good model of survival.  \n",
    "\n",
    "__Hint:__ Use `pd.get_dummies()` to turn categorical columns into dummy coded columns.  "
   ]
  },
  {
   "cell_type": "code",
   "execution_count": null,
   "metadata": {},
   "outputs": [],
   "source": [
    "y = pd.get_dummies(titanic['Survived'])['yes']\n",
    "# construct your own X variable with predictors here\n",
    "\n",
    "# do the regression using the linear regression code above (but replacing the model type for logistic regression)\n",
    "# and print the R-squared"
   ]
  },
  {
   "cell_type": "markdown",
   "metadata": {},
   "source": [
    "Turns out it's still really hard to predict who survived, but remember: Doing Titanic stats > watching the movie.  \n",
    "\n",
    "Now explore the scikit-learn documentation to see what learning algorithms are in there. Play around with K-means and Nearest Neighbor clustering or Naive Bayes classifiers and this dataset if you have time. You might be able to get better predictions for the Titanic data than with simple regression models."
   ]
  }
 ],
 "metadata": {
  "kernelspec": {
   "display_name": "Python 3",
   "language": "python",
   "name": "python3"
  },
  "language_info": {
   "codemirror_mode": {
    "name": "ipython",
    "version": 3
   },
   "file_extension": ".py",
   "mimetype": "text/x-python",
   "name": "python",
   "nbconvert_exporter": "python",
   "pygments_lexer": "ipython3",
   "version": "3.6.6"
  }
 },
 "nbformat": 4,
 "nbformat_minor": 2
}
