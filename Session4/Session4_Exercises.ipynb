{
 "cells": [
  {
   "cell_type": "markdown",
   "metadata": {},
   "source": [
    "## Scikit-learn\n",
    "Another Python module that is very useful for data analysis and exploration is scikit-learn. This module contains statistical, machine learning, and related methods, including different types of regression and clustering.  \n",
    "In this notebook, you can use scikit-learn to explore the Titanic data we've worked on this week."
   ]
  },
  {
   "cell_type": "code",
   "execution_count": 1,
   "metadata": {},
   "outputs": [],
   "source": [
    "# first, let's import scikit-learn and our dataset\n",
    "import pandas as pd\n",
    "from sklearn import linear_model\n",
    "from sklearn.metrics import r2_score\n",
    "\n",
    "# import titanic_cleaned.csv using pandas here"
   ]
  },
  {
   "cell_type": "markdown",
   "metadata": {},
   "source": [
    "One of the most basic ways of analyzing you data is using regression. Statsmodels has a pretty simple linear regression method."
   ]
  },
  {
   "cell_type": "code",
   "execution_count": 8,
   "metadata": {},
   "outputs": [],
   "source": [
    "titanic = pd.read_csv('titanic_cleaned.csv')\n",
    "titanic.head()\n",
    "titanic.Sex = titanic.Sex.replace(['male','female'], [1,0])"
   ]
  },
  {
   "cell_type": "code",
   "execution_count": 9,
   "metadata": {},
   "outputs": [
    {
     "name": "stdout",
     "output_type": "stream",
     "text": [
      "R-squared is 0.30983110915975454\n",
      "R-squared is 0.31949028435207527\n"
     ]
    }
   ],
   "source": [
    "X = titanic[['Age', 'Pclass']]  # this syntax lets us select multiple columns from the dataframe\n",
    "y = titanic['Fare']\n",
    "\n",
    "model = linear_model.LinearRegression()  # instantiate a linear model\n",
    "model.fit(X, y)  # fit the model betas\n",
    "y_predicted = model.predict(X)  # predict y from X\n",
    "r2 = r2_score(y, y_predicted)  # calculate model R-squared\n",
    "print(f'R-squared is {r2}')\n",
    "\n",
    "X = titanic[['Age', 'Sex', 'Pclass']]  # this syntax lets us select multiple columns from the dataframe\n",
    "y = titanic['Fare']\n",
    "\n",
    "model = linear_model.LinearRegression()  # instantiate a linear model\n",
    "model.fit(X, y)  # fit the model betas\n",
    "y_predicted = model.predict(X)  # predict y from X\n",
    "r2 = r2_score(y, y_predicted)  # calculate model R-squared\n",
    "print(f'R-squared is {r2}')"
   ]
  },
  {
   "cell_type": "markdown",
   "metadata": {},
   "source": [
    "That is a lot of information, but as you can see, the R-squared isn't super great. Can you add some more predictors?"
   ]
  },
  {
   "cell_type": "code",
   "execution_count": null,
   "metadata": {},
   "outputs": [],
   "source": [
    "# think about which predictors might be most informative and add them to X, then run the model again\n",
    "# then check the R-squared in the model summary"
   ]
  },
  {
   "cell_type": "markdown",
   "metadata": {},
   "source": [
    "Of course the really interesting thing to predict would be survival. This is a binary variable, so we want to use logistic regression.  \n",
    "The logistic regression method in sklearn is conveniently called `linear_models.LogisticRegression()`. Use it now to construct a good model of survival.  \n",
    "\n",
    "__Hint:__ Use `pd.get_dummies()` to turn categorical columns into dummy coded columns.  "
   ]
  },
  {
   "cell_type": "code",
   "execution_count": 6,
   "metadata": {},
   "outputs": [
    {
     "name": "stdout",
     "output_type": "stream",
     "text": [
      "0      0\n",
      "1      1\n",
      "2      1\n",
      "3      1\n",
      "4      0\n",
      "5      0\n",
      "6      0\n",
      "7      0\n",
      "8      1\n",
      "9      1\n",
      "10     1\n",
      "11     1\n",
      "12     0\n",
      "13     0\n",
      "14     0\n",
      "15     1\n",
      "16     0\n",
      "17     1\n",
      "18     0\n",
      "19     1\n",
      "20     0\n",
      "21     1\n",
      "22     1\n",
      "23     1\n",
      "24     0\n",
      "25     1\n",
      "26     0\n",
      "27     0\n",
      "28     1\n",
      "29     0\n",
      "      ..\n",
      "859    0\n",
      "860    1\n",
      "861    0\n",
      "862    0\n",
      "863    1\n",
      "864    1\n",
      "865    0\n",
      "866    0\n",
      "867    1\n",
      "868    0\n",
      "869    1\n",
      "870    0\n",
      "871    0\n",
      "872    1\n",
      "873    1\n",
      "874    0\n",
      "875    0\n",
      "876    0\n",
      "877    1\n",
      "878    1\n",
      "879    0\n",
      "880    0\n",
      "881    0\n",
      "882    0\n",
      "883    0\n",
      "884    0\n",
      "885    1\n",
      "886    0\n",
      "887    1\n",
      "888    0\n",
      "Name: yes, Length: 889, dtype: uint8\n",
      "R-squared is -0.41451301832208287\n"
     ]
    }
   ],
   "source": [
    "X = titanic[['Fare','']]  # this syntax lets us select multiple columns from the dataframe\n",
    "y = pd.get_dummies(titanic['Survived'])['yes']\n",
    "print(y)\n",
    "\n",
    "model = linear_model.LogisticRegression()\n",
    "model.fit(X, y)  # fit the model betas\n",
    "y_predicted = model.predict(X)  # predict y from X\n",
    "r2 = r2_score(y, y_predicted)  # calculate model R-squared\n",
    "print(f'R-squared is {r2}')\n",
    "# construct your own X variable with predictors here\n",
    "\n",
    "# do the regression using the linear regression code above (but replacing the model type for logistic regression)\n",
    "# and print the R-squared"
   ]
  },
  {
   "cell_type": "markdown",
   "metadata": {},
   "source": [
    "Turns out it's still really hard to predict who survived, but remember: Doing Titanic stats > watching the movie.  \n",
    "\n",
    "Now explore the scikit-learn documentation to see what learning algorithms are in there. Play around with K-means and Nearest Neighbor clustering or Naive Bayes classifiers and this dataset if you have time. You might be able to get better predictions for the Titanic data than with simple regression models."
   ]
  }
 ],
 "metadata": {
  "kernelspec": {
   "display_name": "Python 3",
   "language": "python",
   "name": "python3"
  },
  "language_info": {
   "codemirror_mode": {
    "name": "ipython",
    "version": 3
   },
   "file_extension": ".py",
   "mimetype": "text/x-python",
   "name": "python",
   "nbconvert_exporter": "python",
   "pygments_lexer": "ipython3",
   "version": "3.7.0"
  }
 },
 "nbformat": 4,
 "nbformat_minor": 2
}
