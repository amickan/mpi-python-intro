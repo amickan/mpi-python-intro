{
 "cells": [
  {
   "cell_type": "markdown",
   "metadata": {},
   "source": [
    "\n",
    "Here we'll import, analyze and plot the data from our Intentional Skeletons experiment.\n",
    "\n",
    "First, import."
   ]
  },
  {
   "cell_type": "code",
   "execution_count": 87,
   "metadata": {},
   "outputs": [],
   "source": [
    "import pandas as pd\n",
    "import os\n",
    "\n",
    "#first get the names of all files\n",
    "files = [f for f in os.listdir('./data') if f.endswith('.csv')]\n",
    "alldata = [None]\n",
    "\n",
    "#import all the files and append them together\n",
    "for f in files:\n",
    "    file_path = (\"./data/\" + str(f))\n",
    "    data = pd.read_csv(file_path, header=0)\n",
    "    alldata.append(data)\n",
    "    \n",
    "# Concatenate all data into one DataFrame\n",
    "Intentional_df = pd.concat(alldata, ignore_index=True)\n",
    "Intentional_df.columns = [\"Onset Prime\",\"Jitter\",\"Onset Movie\",\"Onset Response\",\"Resp\",\"RT\",\"actor\",\"item\",\"CTX\",\"Date\",\"framerate\",\"participant\",\"NA\"]\n",
    "\n",
    "\n",
    "#the kinematic information is stored separately. We'll import that here and merge it with the participant dataframe\n",
    "Kinematics = pd.read_csv('./stimuli/kinematic_data.txt', \n",
    "                         sep='\\t')\n",
    "#merge based on a match of both the actor and the item\n",
    "full_df = Intentional_df.merge(Kinematics, on=['actor','item'], suffixes=('','_'))\n"
   ]
  },
  {
   "cell_type": "markdown",
   "metadata": {},
   "source": [
    "Next, I'll check for missing values."
   ]
  },
  {
   "cell_type": "code",
   "execution_count": 90,
   "metadata": {},
   "outputs": [],
   "source": [
    "data_final = full_df[full_df['RT'].notnull()]\n",
    "\n"
   ]
  },
  {
   "cell_type": "markdown",
   "metadata": {},
   "source": [
    "Now we can run our analyses.\n",
    "We want to test if the videos are being classified based on their kinematics. If so, we should expect their to be a difference in the kinematics when comparing the classifications. So we'll run an ANOVA, then get the means of each classification category."
   ]
  },
  {
   "cell_type": "code",
   "execution_count": 97,
   "metadata": {},
   "outputs": [
    {
     "ename": "ModuleNotFoundError",
     "evalue": "No module named 'researchpy'",
     "output_type": "error",
     "traceback": [
      "\u001b[1;31m---------------------------------------------------------------------------\u001b[0m",
      "\u001b[1;31mModuleNotFoundError\u001b[0m                       Traceback (most recent call last)",
      "\u001b[1;32m<ipython-input-97-a0083b2e2f48>\u001b[0m in \u001b[0;36m<module>\u001b[1;34m()\u001b[0m\n\u001b[0;32m      1\u001b[0m \u001b[1;32mimport\u001b[0m \u001b[0mscipy\u001b[0m\u001b[1;33m.\u001b[0m\u001b[0mstats\u001b[0m \u001b[1;32mas\u001b[0m \u001b[0mstats\u001b[0m\u001b[1;33m\u001b[0m\u001b[0m\n\u001b[1;32m----> 2\u001b[1;33m \u001b[1;32mimport\u001b[0m \u001b[0mresearchpy\u001b[0m \u001b[1;32mas\u001b[0m \u001b[0mrp\u001b[0m\u001b[1;33m\u001b[0m\u001b[0m\n\u001b[0m\u001b[0;32m      3\u001b[0m \u001b[1;33m\u001b[0m\u001b[0m\n\u001b[0;32m      4\u001b[0m \u001b[0mdata_final\u001b[0m\u001b[1;33m[\u001b[0m\u001b[1;34m'Resp'\u001b[0m\u001b[1;33m]\u001b[0m\u001b[1;33m.\u001b[0m\u001b[0mreplace\u001b[0m\u001b[1;33m(\u001b[0m\u001b[1;33m{\u001b[0m\u001b[1;36m1\u001b[0m\u001b[1;33m:\u001b[0m \u001b[1;34m'Teacher'\u001b[0m\u001b[1;33m,\u001b[0m \u001b[1;36m2\u001b[0m\u001b[1;33m:\u001b[0m \u001b[1;34m'Neutral'\u001b[0m\u001b[1;33m,\u001b[0m \u001b[1;36m3\u001b[0m\u001b[1;33m:\u001b[0m \u001b[1;34m'Student'\u001b[0m\u001b[1;33m}\u001b[0m\u001b[1;33m,\u001b[0m \u001b[0minplace\u001b[0m\u001b[1;33m=\u001b[0m \u001b[1;32mTrue\u001b[0m\u001b[1;33m)\u001b[0m\u001b[1;33m\u001b[0m\u001b[0m\n\u001b[0;32m      5\u001b[0m \u001b[1;33m\u001b[0m\u001b[0m\n",
      "\u001b[1;31mModuleNotFoundError\u001b[0m: No module named 'researchpy'"
     ]
    }
   ],
   "source": [
    "import scipy.stats as stats\n",
    "import researchpy as rp\n",
    "import statsmodels.api as sm\n",
    "from statsmodels.formula.api import \n",
    "\n",
    "\n",
    "data_final['Resp'].replace({1: 'Teacher', 2: 'Neutral', 3: 'Student'}, inplace= True)\n",
    "\n",
    "#get summary stats\n",
    "rp.summary_cont(data_final['Resp'])\n",
    "\n",
    "#run the ANOVA\n",
    "#first for Space\n",
    "stats.f_oneway(data_final['SpaceM'][data_final['Resp'] == 'Teacher'], \n",
    "             data_final['SpaceM'][data_final['Resp'] == 'Neutral'],\n",
    "             data_final['SpaceM'][data_final['Resp'] == 'Student'])\n",
    "#then for Holdtime\n",
    "stats.f_oneway(data_final['HoldTM'][data_final['Resp'] == 'Teacher'], \n",
    "             data_final['HoldTM'][data_final['Resp'] == 'Neutral'],\n",
    "             data_final['HoldTM'][data_final['Resp'] == 'Student'])"
   ]
  }
 ],
 "metadata": {
  "kernelspec": {
   "display_name": "Python 3",
   "language": "python",
   "name": "python3"
  },
  "language_info": {
   "codemirror_mode": {
    "name": "ipython",
    "version": 3
   },
   "file_extension": ".py",
   "mimetype": "text/x-python",
   "name": "python",
   "nbconvert_exporter": "python",
   "pygments_lexer": "ipython3",
   "version": "3.7.0"
  }
 },
 "nbformat": 4,
 "nbformat_minor": 2
}
