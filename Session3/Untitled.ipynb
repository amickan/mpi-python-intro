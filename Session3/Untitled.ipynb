{
 "cells": [
  {
   "cell_type": "markdown",
   "metadata": {},
   "source": [
    "# Session 3: Functions, Files, and Built-in Modules\n",
    "Now that you're all familiar with Python's syntax, data types, and control flow (loops and conditional statements), you have the basic skills to actually start writing little programs.  \n",
    "## 3.0 Functions\n",
    "To write a usable program, it's good practice to structure your code into _functions_ that execute certain tasks. Creating separate functions for each well-defined task makes it easy to change the order in which you are doing things, or remove one step without accidentally breaking the program.  \n",
    "### 3.0.0 Defining a function\n",
    "To define a function, simply write `def function_name(parameter_1, paremeter_2, parameter_n):` and start the next line with a tab (similar to a loop or conditional statement from last week). The concept of _parameters_ is new, but it's really quite simple: these are variables that you put into the function when you _call_ it so you can do something with them.  \n",
    "Let's start with a function that adds two numbers together:"
   ]
  },
  {
   "cell_type": "code",
   "execution_count": 5,
   "metadata": {},
   "outputs": [],
   "source": [
    "def add(num_1, num_2):\n",
    "    return num_1 + num_2"
   ]
  },
  {
   "cell_type": "markdown",
   "metadata": {},
   "source": [
    "### 3.0.1 Returning a value\n",
    "The `return` statement tells the function what value to return when you _call_ it. You don't strictly need to return a value from a function, but it's often useful to at least `return True` to signify a function ran successfully if you don't need any other return value from it.  \n",
    "\n",
    "We only _defined_ our function, but didn't actually _call_ it. Let's do that now:"
   ]
  },
  {
   "cell_type": "code",
   "execution_count": 6,
   "metadata": {},
   "outputs": [
    {
     "name": "stdout",
     "output_type": "stream",
     "text": [
      "9\n"
     ]
    }
   ],
   "source": [
    "a = 3\n",
    "b = 6\n",
    "c = add(a, b)\n",
    "\n",
    "print(c)"
   ]
  },
  {
   "cell_type": "markdown",
   "metadata": {},
   "source": [
    "We just _passed_ the _arguments_ a and b into our function and stored the return value in c.  \n",
    "You don't need to do this all separately though, functions can be nested:"
   ]
  },
  {
   "cell_type": "code",
   "execution_count": 7,
   "metadata": {},
   "outputs": [
    {
     "name": "stdout",
     "output_type": "stream",
     "text": [
      "16.31\n"
     ]
    }
   ],
   "source": [
    "print(add_nums(12.01, 4.3))"
   ]
  },
  {
   "cell_type": "markdown",
   "metadata": {},
   "source": [
    "Notice how we nested our function inside the print function?\n",
    "We also used _floats_ this time instead of _integers_. This still works because our function secretly uses the `+` operator to perform the addition. This means the function can also add other things, like strings for instance.  \n",
    "Try adding two strings together using our function and printing the result:"
   ]
  },
  {
   "cell_type": "code",
   "execution_count": null,
   "metadata": {},
   "outputs": [],
   "source": []
  },
  {
   "cell_type": "markdown",
   "metadata": {},
   "source": [
    "### 3.0.2 Scope\n",
    "One of the most useful features of Python, and functions in particular, is something called _scope_, this is the principle that variables defined inside a function stay inside the function. An example:"
   ]
  },
  {
   "cell_type": "code",
   "execution_count": 13,
   "metadata": {},
   "outputs": [
    {
     "ename": "NameError",
     "evalue": "name 'p' is not defined",
     "output_type": "error",
     "traceback": [
      "\u001b[0;31m---------------------------------------------------------------------------\u001b[0m",
      "\u001b[0;31mNameError\u001b[0m                                 Traceback (most recent call last)",
      "\u001b[0;32m<ipython-input-13-f4a1a4f960a0>\u001b[0m in \u001b[0;36m<module>\u001b[0;34m\u001b[0m\n\u001b[1;32m      2\u001b[0m     \u001b[0mp\u001b[0m \u001b[0;34m=\u001b[0m \u001b[0;36m5\u001b[0m\u001b[0;34m\u001b[0m\u001b[0;34m\u001b[0m\u001b[0m\n\u001b[1;32m      3\u001b[0m \u001b[0;34m\u001b[0m\u001b[0m\n\u001b[0;32m----> 4\u001b[0;31m \u001b[0mprint\u001b[0m\u001b[0;34m(\u001b[0m\u001b[0mp\u001b[0m\u001b[0;34m)\u001b[0m\u001b[0;34m\u001b[0m\u001b[0;34m\u001b[0m\u001b[0m\n\u001b[0m",
      "\u001b[0;31mNameError\u001b[0m: name 'p' is not defined"
     ]
    }
   ],
   "source": [
    "def example_function():\n",
    "    x = 5\n",
    "    \n",
    "print(x)"
   ]
  },
  {
   "cell_type": "markdown",
   "metadata": {},
   "source": [
    "As you can see, `x` was only defined inside the function. Using it outside of the function's _scope_ doesn't work.  \n",
    "This also applies to variable names that already exist outside the function:"
   ]
  },
  {
   "cell_type": "code",
   "execution_count": 15,
   "metadata": {},
   "outputs": [
    {
     "name": "stdout",
     "output_type": "stream",
     "text": [
      "the value of y outside the function is 3\n",
      "the value of y inside the function is 6\n",
      "the value of y outside the function is 3\n",
      "the value of y inside the function is 6\n"
     ]
    }
   ],
   "source": [
    "y = 3\n",
    "\n",
    "def another_example():\n",
    "    y = 6\n",
    "    print(f'the value of y inside the function is {y}')\n",
    "    \n",
    "print(f'the value of y outside the function is {y}')\n",
    "another_example()\n",
    "print(f'the value of y outside the function is {y}')\n",
    "another_example()"
   ]
  },
  {
   "cell_type": "markdown",
   "metadata": {},
   "source": [
    "You can repeat this as many times as you like, but y inside the function scope never affects y outside the function scope. This is great, because it makes accidental reuse of variable names inside and outside functions unlikely to cause problems. (You should still aim to not reuse variable names too much though, just because it makes the code harder to read.)"
   ]
  },
  {
   "cell_type": "markdown",
   "metadata": {},
   "source": [
    "### 3.0.3 Arbitrary numbers of parameters\n",
    "Sometimes, we might want to add more than just two things together. One option would be to write a function that accepts a _list_ as an argument, and then loop over that list, adding all the items together.  \n",
    "Python has another way of accommodating arbitrary numbers of arguments though: The `*` operator, which means zip these items into a tuple.  \n",
    "This sounds a little complicated, but is easier to understand when demonstrated in code:"
   ]
  },
  {
   "cell_type": "code",
   "execution_count": 9,
   "metadata": {},
   "outputs": [
    {
     "name": "stdout",
     "output_type": "stream",
     "text": [
      "48\n"
     ]
    }
   ],
   "source": [
    "# define a new function that zips all arguments into a tuple named \"nums\"\n",
    "def add_multiple(*nums):\n",
    "    # start our total at 0\n",
    "    total = 0\n",
    "    \n",
    "    # loop over the items in the nums tuple and add them to our total\n",
    "    for num in nums:\n",
    "        total += num\n",
    "        \n",
    "    # return the total\n",
    "    return total\n",
    "\n",
    "# test the function with four arguments\n",
    "print(add_multiple(3, 4, 1, 40))"
   ]
  },
  {
   "cell_type": "markdown",
   "metadata": {},
   "source": [
    "You can use the `*` outside of function definitions as well, when you just want to zip things into a tuple for other reasons.  \n",
    "Within a function definition, you can have other parameters __before__ the `*`, but not __after__ (because everything after that point gets zipped into the tuple).  \n",
    "### 3.0.4 Default parameter values\n",
    "Sometimes, you'll want to give a parameter a default value, just in case no argument is passed in when the function is called. This looks just like a normal variable assignment:"
   ]
  },
  {
   "cell_type": "code",
   "execution_count": 12,
   "metadata": {},
   "outputs": [
    {
     "name": "stdout",
     "output_type": "stream",
     "text": [
      "Hello, Jimmy!\n",
      "Hello, stranger!\n"
     ]
    }
   ],
   "source": [
    "def greet(name='stranger'):\n",
    "    print(f'Hello, {name}!')\n",
    "\n",
    "greet('Jimmy')\n",
    "greet()"
   ]
  },
  {
   "cell_type": "markdown",
   "metadata": {},
   "source": [
    "Notice how, when we pass 'Jimmy' as an argument the function uses that value, but if we pass nothing, the default is used.  \n",
    "### 3.0.5 Side effects\n",
    "Another interesting thing about this function is that we didn't get a _return_ value from it that we then use for other things, but instead the function directly prints it's output. This is called a _side effect_.  Printing as a side effect is okay, because it usually just gives us information about what's happening in the function.  \n",
    "Other side effects, such as directly reading from or changing variables outside the function scope, for instance, can be dangerous because it's much harder to keep track of function side effects than it is to keep track of return values.  \n",
    "Always consider using arguments and return values where possible."
   ]
  }
 ],
 "metadata": {
  "kernelspec": {
   "display_name": "Python 3",
   "language": "python",
   "name": "python3"
  },
  "language_info": {
   "codemirror_mode": {
    "name": "ipython",
    "version": 3
   },
   "file_extension": ".py",
   "mimetype": "text/x-python",
   "name": "python",
   "nbconvert_exporter": "python",
   "pygments_lexer": "ipython3",
   "version": "3.7.1"
  }
 },
 "nbformat": 4,
 "nbformat_minor": 2
}
