{
 "cells": [
  {
   "cell_type": "markdown",
   "metadata": {},
   "source": [
    "# Session 3: Functions, Files, and Built-in Modules\n",
    "Now that you're all familiar with Python's syntax, data types, and control flow (loops and conditional statements), you have the basic skills to actually start writing little programs.  \n",
    "## 3.0 Functions\n",
    "To write a usable program, it's good practice to structure your code into _functions_ that execute certain tasks. Creating separate functions for each well-defined task makes it easy to change the order in which you are doing things, or remove one step without accidentally breaking the program.  \n",
    "### 3.0.0 Defining a function\n",
    "To define a function, simply write `def function_name(parameter_1, paremeter_2, parameter_n):` and start the next line with a tab (similar to a loop or conditional statement from last week). The concept of _parameters_ is new, but it's really quite simple: these are variables that you put into the function when you _call_ it so you can do something with them.  \n",
    "Let's start with a function that adds two numbers together:"
   ]
  },
  {
   "cell_type": "code",
   "execution_count": 2,
   "metadata": {},
   "outputs": [],
   "source": [
    "def add_nums(num_1, num_2):\n",
    "    return num_1 + num_2"
   ]
  },
  {
   "cell_type": "markdown",
   "metadata": {},
   "source": [
    "### 3.0.1 Returning a value\n",
    "The `return` statement tells the function what value to return when you _call_ it. You don't strictly need to return a value from a function, but it's often useful to at least `return True` to signify a function ran successfully if you don't need any other return value from it.  \n",
    "\n",
    "We only _defined_ our function, but didn't actually _call_ it. Let's do that now:"
   ]
  },
  {
   "cell_type": "code",
   "execution_count": 3,
   "metadata": {},
   "outputs": [
    {
     "name": "stdout",
     "output_type": "stream",
     "text": [
      "9\n"
     ]
    }
   ],
   "source": [
    "a = 3\n",
    "b = 6\n",
    "c = add_nums(a, b)\n",
    "\n",
    "print(c)"
   ]
  },
  {
   "cell_type": "markdown",
   "metadata": {},
   "source": [
    "We just _passed_ the _arguments_ a and b into our function and stored the return value in c.  \n",
    "You don't need to do this all separately though, functions can be nested:"
   ]
  },
  {
   "cell_type": "code",
   "execution_count": 4,
   "metadata": {},
   "outputs": [
    {
     "name": "stdout",
     "output_type": "stream",
     "text": [
      "16.31\n"
     ]
    }
   ],
   "source": [
    "print(add_nums(12.01, 4.3))"
   ]
  },
  {
   "cell_type": "markdown",
   "metadata": {},
   "source": [
    "Notice how we nested our function inside the print function?\n",
    "We also used _floats_ this time instead of _integers_. This still works because our function secretly uses the `+` operator to perform the addition. This means the function can also add other things, like strings for instance.  \n",
    "Try adding two strings together using our function and printing the result:"
   ]
  },
  {
   "cell_type": "code",
   "execution_count": 7,
   "metadata": {},
   "outputs": [
    {
     "name": "stdout",
     "output_type": "stream",
     "text": [
      "gloomdoom\n"
     ]
    }
   ],
   "source": [
    "print(add_nums('gloom','doom'))"
   ]
  },
  {
   "cell_type": "markdown",
   "metadata": {},
   "source": [
    "### 3.0.2 Scope\n",
    "One of the most useful features of Python, and functions in particular, is something called _scope_, this is the principle that variables defined inside a function stay inside the function. An example:"
   ]
  },
  {
   "cell_type": "code",
   "execution_count": 8,
   "metadata": {},
   "outputs": [
    {
     "ename": "NameError",
     "evalue": "name 'x' is not defined",
     "output_type": "error",
     "traceback": [
      "\u001b[0;31m---------------------------------------------------------------------------\u001b[0m",
      "\u001b[0;31mNameError\u001b[0m                                 Traceback (most recent call last)",
      "\u001b[0;32m<ipython-input-8-514b3483f32c>\u001b[0m in \u001b[0;36m<module>\u001b[0;34m()\u001b[0m\n\u001b[1;32m      2\u001b[0m     \u001b[0mx\u001b[0m \u001b[0;34m=\u001b[0m \u001b[0;36m5\u001b[0m\u001b[0;34m\u001b[0m\u001b[0m\n\u001b[1;32m      3\u001b[0m \u001b[0;34m\u001b[0m\u001b[0m\n\u001b[0;32m----> 4\u001b[0;31m \u001b[0mprint\u001b[0m\u001b[0;34m(\u001b[0m\u001b[0mx\u001b[0m\u001b[0;34m)\u001b[0m\u001b[0;34m\u001b[0m\u001b[0m\n\u001b[0m",
      "\u001b[0;31mNameError\u001b[0m: name 'x' is not defined"
     ]
    }
   ],
   "source": [
    "def example_function():\n",
    "    x = 5\n",
    "    \n",
    "print(x)"
   ]
  },
  {
   "cell_type": "markdown",
   "metadata": {},
   "source": [
    "As you can see, `x` was only defined inside the function. Using it outside of the function's _scope_ doesn't work.  \n",
    "This also applies to variable names that already exist outside the function:"
   ]
  },
  {
   "cell_type": "code",
   "execution_count": 9,
   "metadata": {},
   "outputs": [
    {
     "name": "stdout",
     "output_type": "stream",
     "text": [
      "the value of y outside the function is 3\n",
      "the value of y inside the function is 6\n",
      "the value of y outside the function is 3\n",
      "the value of y inside the function is 6\n"
     ]
    }
   ],
   "source": [
    "y = 3\n",
    "\n",
    "def another_example():\n",
    "    y = 6\n",
    "    print(f'the value of y inside the function is {y}')\n",
    "    \n",
    "print(f'the value of y outside the function is {y}')\n",
    "another_example()\n",
    "print(f'the value of y outside the function is {y}')\n",
    "another_example()"
   ]
  },
  {
   "cell_type": "markdown",
   "metadata": {},
   "source": [
    "You can repeat this as many times as you like, but `y` inside the function scope never affects `y` outside the function scope. This is great, because it makes accidental reuse of variable names inside and outside functions unlikely to cause problems. (You should still aim to not reuse variable names too much though, just because it makes the code harder to read.)"
   ]
  },
  {
   "cell_type": "markdown",
   "metadata": {},
   "source": [
    "### 3.0.3 Arbitrary numbers of parameters\n",
    "Sometimes, we might want to add more than just two things together. One option would be to write a function that accepts a _list_ as an argument, and then loop over that list, adding all the items together.  \n",
    "Python has another way of accommodating arbitrary numbers of arguments though: The `*` operator, which means zip these items into a tuple.  \n",
    "This sounds a little complicated, but is easier to understand when demonstrated in code:"
   ]
  },
  {
   "cell_type": "code",
   "execution_count": 10,
   "metadata": {},
   "outputs": [
    {
     "name": "stdout",
     "output_type": "stream",
     "text": [
      "48\n"
     ]
    }
   ],
   "source": [
    "# define a new function that zips all arguments into a tuple named \"nums\"\n",
    "def add_multiple(*nums):\n",
    "    # start our total at 0\n",
    "    total = 0\n",
    "    \n",
    "    # loop over the items in the nums tuple and add them to our total\n",
    "    for num in nums:\n",
    "        total += num\n",
    "        \n",
    "    # return the total\n",
    "    return total\n",
    "\n",
    "# test the function with four arguments\n",
    "print(add_multiple(3, 4, 1, 40))"
   ]
  },
  {
   "cell_type": "markdown",
   "metadata": {},
   "source": [
    "You can use the `*` outside of function definitions as well, when you just want to zip things into a tuple for other reasons.  \n",
    "Within a function definition, you can have other parameters __before__ the `*`, but not __after__ (because everything after that point gets zipped into the tuple).  \n",
    "### 3.0.4 Default parameter values\n",
    "Sometimes, you'll want to give a parameter a default value, just in case no argument is passed in when the function is called. This looks just like a normal variable assignment:"
   ]
  },
  {
   "cell_type": "code",
   "execution_count": 11,
   "metadata": {},
   "outputs": [
    {
     "name": "stdout",
     "output_type": "stream",
     "text": [
      "Hello, Jimmy!\n",
      "Hello, stranger!\n"
     ]
    }
   ],
   "source": [
    "def greet(name='stranger'):\n",
    "    print(f'Hello, {name}!')\n",
    "\n",
    "greet('Jimmy')\n",
    "greet()"
   ]
  },
  {
   "cell_type": "markdown",
   "metadata": {},
   "source": [
    "Notice how, when we pass 'Jimmy' as an argument the function uses that value, but if we pass nothing, the default is used.  \n",
    "### 3.0.5 Side effects\n",
    "Another interesting thing about this function is that we didn't get a _return_ value from it that we then use for other things, but instead the function directly prints it's output. This is called a _side effect_.  Printing as a side effect is okay, because it usually just gives us information about what's happening in the function.  \n",
    "Other side effects, such as directly reading from or changing variables outside the function scope, for instance, can be dangerous because it's much harder to keep track of function side effects than it is to keep track of return values.  \n",
    "Always consider using arguments and return values where possible."
   ]
  },
  {
   "cell_type": "markdown",
   "metadata": {},
   "source": [
    "## 3.1 Files\n",
    "If we're going to write useful programs, we're going to need to read and write information to and from other files. Python has many convenient ways to read and write data built in, and lots more can be installed easily with additional packages.\n",
    "\n",
    "### 3.1.0 Opening a file for reading\n",
    "In the same directory as this notebook is a text file named `sherlock_holmes.txt`. This file contains Arthur Conan Doyle's \"The Adventures of Sherlock Holmes\".\n",
    "Let's open the file and print the first line:"
   ]
  },
  {
   "cell_type": "code",
   "execution_count": 14,
   "metadata": {},
   "outputs": [
    {
     "name": "stdout",
     "output_type": "stream",
     "text": [
      "The Project Gutenberg EBook of The Adventures of Sherlock Holmes\n",
      "\n"
     ]
    }
   ],
   "source": [
    "with open('sherlock_holmes.txt', 'r') as sherlock_file:\n",
    "    print(sherlock_file.readline())"
   ]
  },
  {
   "cell_type": "markdown",
   "metadata": {},
   "source": [
    "Excellent!\n",
    "There's a lot going on in this first line, so let's take it bit by bit. The `with` type statement tells the Python interpreter that everything indented below this statement is to be executed with this particular file opened. After the indented block is done, the file will be closed again.  \n",
    "The `open('sherlock_holmes.txt', 'r')` bit tells Python to open this filename, in `r` or _read_ mode. There is also `w` for _write_ mode and a couple of other, less important, modes.  \n",
    "The `as sherlock_file` bit just tells Python the file object should be temporarily stored in a variable named `sherlock_file`.\n",
    "\n",
    "On the next line you can see that the file object has a `readline()` method that just reads a single line from it. Let's try using it to read another line."
   ]
  },
  {
   "cell_type": "code",
   "execution_count": 15,
   "metadata": {},
   "outputs": [
    {
     "ename": "ValueError",
     "evalue": "I/O operation on closed file.",
     "output_type": "error",
     "traceback": [
      "\u001b[0;31m---------------------------------------------------------------------------\u001b[0m",
      "\u001b[0;31mValueError\u001b[0m                                Traceback (most recent call last)",
      "\u001b[0;32m<ipython-input-15-f30f8e24fbcd>\u001b[0m in \u001b[0;36m<module>\u001b[0;34m()\u001b[0m\n\u001b[0;32m----> 1\u001b[0;31m \u001b[0mprint\u001b[0m\u001b[0;34m(\u001b[0m\u001b[0msherlock_file\u001b[0m\u001b[0;34m.\u001b[0m\u001b[0mreadline\u001b[0m\u001b[0;34m(\u001b[0m\u001b[0;34m)\u001b[0m\u001b[0;34m)\u001b[0m\u001b[0;34m\u001b[0m\u001b[0m\n\u001b[0m",
      "\u001b[0;31mValueError\u001b[0m: I/O operation on closed file."
     ]
    }
   ],
   "source": [
    "print(sherlock_file.readline())"
   ]
  },
  {
   "cell_type": "markdown",
   "metadata": {},
   "source": [
    "That doesn't work. When the indented block was completed, the Python interpreter closed the `with` statement, and therefore closed the file.  \n",
    "If we want to keep access to the whole file, we might want to read all the lines into a variable:"
   ]
  },
  {
   "cell_type": "code",
   "execution_count": 16,
   "metadata": {},
   "outputs": [
    {
     "name": "stdout",
     "output_type": "stream",
     "text": [
      "6488666\n",
      "6488715\n"
     ]
    }
   ],
   "source": [
    "with open('sherlock_holmes.txt', 'r') as sherlock_file:\n",
    "    sherlock_text = sherlock_file.read()\n",
    "\n",
    "# the sherlock_text variable now contains an entire book, so let's not print it here\n",
    "# we can check the length of the string instead\n",
    "print(len(sherlock_text))\n",
    "# or use sys.getsizeof() to check the size in bytes\n",
    "import sys\n",
    "print(sys.getsizeof(sherlock_text))"
   ]
  },
  {
   "cell_type": "markdown",
   "metadata": {},
   "source": [
    "That sounds like a lot, but it's more useful to know the number of lines, rather than the number of characters. One easy way to count the number of lines is to _split_ this huge string on the line endings. The character used to denote a line ending is `\\n`. Python strings have a `str.split()` method that lets you split on any substring you want. After splitting, the string is turned into a `list` of strings."
   ]
  },
  {
   "cell_type": "code",
   "execution_count": 17,
   "metadata": {},
   "outputs": [
    {
     "name": "stdout",
     "output_type": "stream",
     "text": [
      "the sherlock holmes text is 128458 lines long\n"
     ]
    }
   ],
   "source": [
    "# split the text on line endings\n",
    "sherlock_lines = sherlock_text.split('\\n')\n",
    "\n",
    "# print the length of the list (the number of separate lines)\n",
    "print(f'the sherlock holmes text is {len(sherlock_lines)} lines long')"
   ]
  },
  {
   "cell_type": "markdown",
   "metadata": {},
   "source": [
    "Do you think splitting on line endings is the best way of getting an indication of the text length?  \n",
    "Can you think of other characters or strings to split on that might be more useful?  \n",
    "\n",
    "Either way, it's too much to print here, but using slicing we can print the first hundred lines and see what we have here."
   ]
  },
  {
   "cell_type": "code",
   "execution_count": 18,
   "metadata": {},
   "outputs": [
    {
     "name": "stdout",
     "output_type": "stream",
     "text": [
      "The Project Gutenberg EBook of The Adventures of Sherlock Holmes\n",
      "by Sir Arthur Conan Doyle\n",
      "(#15 in our series by Sir Arthur Conan Doyle)\n",
      "\n",
      "Copyright laws are changing all over the world. Be sure to check the\n",
      "copyright laws for your country before downloading or redistributing\n",
      "this or any other Project Gutenberg eBook.\n",
      "\n",
      "This header should be the first thing seen when viewing this Project\n",
      "Gutenberg file.  Please do not remove it.  Do not change or edit the\n",
      "header without written permission.\n",
      "\n",
      "Please read the \"legal small print,\" and other information about the\n",
      "eBook and Project Gutenberg at the bottom of this file.  Included is\n",
      "important information about your specific rights and restrictions in\n",
      "how the file may be used.  You can also find out about how to make a\n",
      "donation to Project Gutenberg, and how to get involved.\n",
      "\n",
      "\n",
      "**Welcome To The World of Free Plain Vanilla Electronic Texts**\n",
      "\n",
      "**eBooks Readable By Both Humans and By Computers, Since 1971**\n",
      "\n",
      "*****These eBooks Were Prepared By Thousands of Volunteers!*****\n",
      "\n",
      "\n",
      "Title: The Adventures of Sherlock Holmes\n",
      "\n",
      "Author: Sir Arthur Conan Doyle\n",
      "\n",
      "Release Date: March, 1999  [EBook #1661]\n",
      "[Most recently updated: November 29, 2002]\n",
      "\n",
      "Edition: 12\n",
      "\n",
      "Language: English\n",
      "\n",
      "Character set encoding: ASCII\n",
      "\n",
      "*** START OF THE PROJECT GUTENBERG EBOOK, THE ADVENTURES OF SHERLOCK HOLMES ***\n",
      "\n",
      "\n",
      "\n",
      "\n",
      "(Additional editing by Jose Menendez)\n",
      "\n",
      "\n",
      "\n",
      "THE ADVENTURES OF\n",
      "SHERLOCK HOLMES\n",
      "\n",
      "BY\n",
      "\n",
      "SIR ARTHUR CONAN DOYLE\n",
      "\n",
      "CONTENTS\n",
      "\n",
      "I.\tA Scandal in Bohemia\n",
      "II.\tThe Red-Headed League\n",
      "III.\tA Case of Identity\n",
      "IV.\tThe Boscombe Valley Mystery\n",
      "V.\tThe Five Orange Pips\n",
      "VI.\tThe Man with the Twisted Lip\n",
      "VII.\tThe Adventure of the Blue Carbuncle\n",
      "VIII.\tThe Adventure of the Speckled Band\n",
      "IX.\tThe Adventure of the Engineer's Thumb\n",
      "X.\tThe Adventure of the Noble Bachelor\n",
      "XI.\tThe Adventure of the Beryl Coronet\n",
      "XII.\tThe Adventure of the Copper Beeches\n",
      "\n",
      "\n",
      "ADVENTURE  I.  A SCANDAL IN BOHEMIA\n",
      "\n",
      "I.\n",
      "\n",
      "\n",
      "To Sherlock Holmes she is always the woman. I have seldom heard him mention her under any other name. In his eyes she eclipses and predominates the whole of her sex. It was not that he felt any emotion akin to love for Irene Adler. All emotions, and that one particularly, were abhorrent to his cold, precise but admirably balanced mind. He was, I take it, the most perfect reasoning and observing machine that the world has seen, but as a lover he would have placed himself in a false position. He never spoke of the softer passions, save with a gibe and a sneer. They were admirable things for the observer--excellent for drawing the veil from men's motives and actions. But for the trained reasoner to admit such intrusions into his own delicate and finely adjusted temperament was to introduce a distracting factor which might throw a doubt upon all his mental results. Grit in a sensitive instrument, or a crack in one of his own high-power lenses, would not be more disturbing than a strong emotion in a nature such as his. And yet there was but one woman to him, and that woman was the late Irene Adler, of dubious and questionable memory.\n",
      "\n",
      "I had seen little of Holmes lately. My marriage had drifted us away from each other. My own complete happiness, and the home-centred interests which rise up around the man who first finds himself master of his own establishment, were sufficient to absorb all my attention, while Holmes, who loathed every form of society with his whole Bohemian soul, remained in our lodgings in Baker Street, buried among his old books, and alternating from week to week between cocaine and ambition, the drowsiness of the drug, and the fierce energy of his own keen nature. He was still, as ever, deeply attracted by the study of crime, and occupied his immense faculties and extraordinary powers of observation in following out those clues, and clearing up those mysteries which had been abandoned as hopeless by the official police. From time to time I heard some vague account of his doings: of his summons to Odessa in the case of the Trepoff murder, of his clearing up of the singular tragedy of the Atkinson brothers at Trincomalee, and finally of the mission which he had accomplished so delicately and successfully for the reigning family of Holland. Beyond these signs of his activity, however, which I merely shared with all the readers of the daily press, I knew little of my former friend and companion.\n",
      "\n",
      "One night--it was on the twentieth of March, 1888--I was returning from a journey to a patient (for I had now returned to civil practice), when my way led me through Baker Street. As I passed the well-remembered door, which must always be associated in my mind with my wooing, and with the dark incidents of the Study in Scarlet, I was seized with a keen desire to see Holmes again, and to know how he was employing his extraordinary powers. His rooms were brilliantly lit, and, even as I looked up, I saw his tall, spare figure pass twice in a dark silhouette against the blind. He was pacing the room swiftly, eagerly, with his head sunk upon his chest and his hands clasped behind him. To me, who knew his every mood and habit, his attitude and manner told their own story. He was at work again. He had risen out of his drug-created dreams and was hot upon the scent of some new problem. I rang the bell and was shown up to the chamber which had formerly been in part my own.\n",
      "\n",
      "His manner was not effusive. It seldom was; but he was glad, I think, to see me. With hardly a word spoken, but with a kindly eye, he waved me to an armchair, threw across his case of cigars, and indicated a spirit case and a gasogene in the corner. Then he stood before the fire and looked me over in his singular introspective fashion.\n",
      "\n",
      "\"Wedlock suits you,\" he remarked. \"I think, Watson, that you have put on seven and a half pounds since I saw you.\"\n",
      "\n",
      "\"Seven!\" I answered.\n",
      "\n",
      "\"Indeed, I should have thought a little more. Just a trifle more, I fancy, Watson. And in practice again, I observe. You did not tell me that you intended to go into harness.\"\n",
      "\n",
      "\"Then, how do you know?\"\n",
      "\n",
      "\"I see it, I deduce it. How do I know that you have been getting yourself very wet lately, and that you have a most clumsy and careless servant girl?\"\n",
      "\n",
      "\"My dear Holmes,\" said I, \"this is too much. You would certainly have been burned, had you lived a few centuries ago. It is true that I had a country walk on Thursday and came home in a dreadful mess, but as I have changed my clothes I can't imagine how you deduce it. As to Mary Jane, she is incorrigible, and my wife has given her notice, but there, again, I fail to see how you work it out.\"\n",
      "\n",
      "He chuckled to himself and rubbed his long, nervous hands together.\n",
      "\n",
      "\"It is simplicity itself,\" said he; \"my eyes tell me that on the inside of your left shoe, just where the firelight strikes it, the leather is scored by six almost parallel cuts. Obviously they have been caused by someone who has very carelessly scraped round the edges of the sole in order to remove crusted mud from it. Hence, you see, my double deduction that you had been out in vile weather, and that you had a particularly malignant boot-slitting specimen of the London slavey. As to your practice, if a gentleman walks into my rooms smelling of iodoform, with a black mark of nitrate of silver upon his right forefinger, and a bulge on the right side of his top-hat to show where he has secreted his stethoscope, I must be dull, indeed, if I do not pronounce him to be an active member of the medical profession.\"\n",
      "\n"
     ]
    }
   ],
   "source": [
    "# print the first 100 lines using list slicing\n",
    "print('\\n'.join(sherlock_lines[0:100]))"
   ]
  },
  {
   "cell_type": "markdown",
   "metadata": {},
   "source": [
    "It looks like there is an index, and each chapter starts with a line that starts with the word \"ADVENTURE\". In the next section we'll take advantage of that to write each chapter to a separate file. First we'll put the chapters in a dictionary though, so we can access each chapter by the chapter name.  \n",
    "\n",
    "We'll use iteration to go through all the lines one by one and check if they're chapter headings. If a line is the start of a chapter, we'll make a new `dict` _key_. If it's a normal line, we'll add it to the current chapter entry in the `dict`."
   ]
  },
  {
   "cell_type": "code",
   "execution_count": 19,
   "metadata": {},
   "outputs": [
    {
     "name": "stdout",
     "output_type": "stream",
     "text": [
      "dict_keys(['PREAMBLE', 'ADVENTURE  I.  A SCANDAL IN BOHEMIA', 'ADVENTURE  II.  THE RED-HEADED LEAGUE', 'ADVENTURE  III.  A CASE OF IDENTITY', 'ADVENTURE IV. THE BOSCOMBE VALLEY MYSTERY', 'ADVENTURE  V.  THE FIVE ORANGE PIPS', 'ADVENTURE  VI.  THE MAN WITH THE TWISTED LIP'])\n"
     ]
    }
   ],
   "source": [
    "sherlock_chapters = {}  # initiate a chapters dict\n",
    "current_chapter ='PREAMBLE'  # before the first chapter starts there is some preamble\n",
    "sherlock_chapters[current_chapter] = []  # start a list we can append lines to\n",
    "\n",
    "# iterate over our list of strings\n",
    "for line in sherlock_lines:\n",
    "    \n",
    "    # strings have a .startswith() method which is very useful here\n",
    "    if line.startswith('ADVENTURE'):\n",
    "        current_chapter = line  # use the chapter heading as a new chapter name\n",
    "        sherlock_chapters[line] = []  # make a new dict key from the chapter name and start a list\n",
    "    \n",
    "    # if the line is a normal line instead of a chapter name, we append it to the list of lines in that chapter\n",
    "    else:\n",
    "        sherlock_chapters[current_chapter].append(line)\n",
    "        \n",
    "# let's print the dict keys to check if we indeed have chapter names here\n",
    "print(sherlock_chapters.keys())        "
   ]
  },
  {
   "cell_type": "markdown",
   "metadata": {},
   "source": [
    "That looks good, let's write that to separate files.\n",
    "### 3.1.1 Opening a file for writing\n",
    "Opening a file for writing is just the same as opening it for reading, except we specify `'w'` for write mode instead of `'r'` for reading. Just like the `file.readline()`  and `file.read()`  methods, there are `file.writeline()` and `file.write()` methods."
   ]
  },
  {
   "cell_type": "code",
   "execution_count": 20,
   "metadata": {},
   "outputs": [
    {
     "name": "stdout",
     "output_type": "stream",
     "text": [
      "wrote chapter PREAMBLE to file\n",
      "wrote chapter ADVENTURE  I.  A SCANDAL IN BOHEMIA to file\n",
      "wrote chapter ADVENTURE  II.  THE RED-HEADED LEAGUE to file\n",
      "wrote chapter ADVENTURE  III.  A CASE OF IDENTITY to file\n",
      "wrote chapter ADVENTURE IV. THE BOSCOMBE VALLEY MYSTERY to file\n",
      "wrote chapter ADVENTURE  V.  THE FIVE ORANGE PIPS to file\n",
      "wrote chapter ADVENTURE  VI.  THE MAN WITH THE TWISTED LIP to file\n"
     ]
    }
   ],
   "source": [
    "# iterate over the chapters in the dict\n",
    "for chapter, lines in sherlock_chapters.items():\n",
    "    \n",
    "    # if we want to use the chapter names as filenames, we need to replace the periods first\n",
    "    filename = chapter.replace('.', '-')\n",
    "    \n",
    "    # open a new chapter text file\n",
    "    with open(filename + '.txt', 'w') as chapter_file:\n",
    "        \n",
    "        # use str.join() to turn the list of lines into a single string again before we write to file\n",
    "        chapter_text = '\\n'.join(lines)\n",
    "        \n",
    "        # write to file\n",
    "        chapter_file.write(chapter_text)\n",
    "        \n",
    "        # print a little message to indicate our progress\n",
    "        print(f'wrote chapter {chapter} to file')"
   ]
  },
  {
   "cell_type": "markdown",
   "metadata": {},
   "source": [
    "That looks good, but comparing the index and the chapter files we just made reveals a mismatch. Can you figure out why the last few chapters were not written to a separate file?\n",
    "\n",
    "__NOTE:__ When using write mode (`'w'`) Python always __overwrites the entire file__. Keep this in mind, since you can delete important data that way. There is an append mode (`'a'`) for appending to an existing file, should you need it.  \n",
    "__NOTE ABOUT THE NOTE:__ If you're using git and Github to keep track of the version history of your important files, the risk of overwriting a file is a bit less serious, since you can revert to a prior state of the file. (I.e., before you accidentally ruined it.)"
   ]
  },
  {
   "cell_type": "markdown",
   "metadata": {},
   "source": [
    "## 3.2 Importing modules\n",
    "\n",
    "As you learn more about coding and use python more often, you will probably get to a point where you'd like to reuse some of the code that you've previously written. As you might have noticed, whenever you quit your python interpreter, you \"loose\" all of the variables and functions that you have defined in that session - so if you wanted to reuse a function that you wrote in an earlier programming session in a new python program, you'd have to redefine that function all over again. Retyping all your function definitions would get pretty redundant and frustrating... Fortunately, python accommodates for the need to reuse code.\n",
    "\n",
    "__Modules__ are python files that contain function definitions and statements. There are a lot of very useful modules out there (and we'll talk about some of them in a lot more detail later), but it's actually really easy to write a module, yourself.\n",
    "\n",
    "Imagine, for example, that you wanted to reuse the greet function from above. Rather than redefining it over and over again every time you use it, you can simply save it as a .py file and import it whenever you'd like to reuse it. \n",
    "\n",
    "Here's the greet function again:"
   ]
  },
  {
   "cell_type": "code",
   "execution_count": 23,
   "metadata": {},
   "outputs": [],
   "source": [
    "def greet(name='stranger'):\n",
    "    print(f'Hello, {name}!')"
   ]
  },
  {
   "cell_type": "markdown",
   "metadata": {},
   "source": [
    "In order to turn this into a module, you can simply open a text editor, paste your function code in there, and save it as a file ending in .py (for example, helper_functions.py).\n",
    "\n",
    "Now you can imort your module (in this case, the module corresponds to the file name, so it's called helper_functions) into your current python session like this:"
   ]
  },
  {
   "cell_type": "code",
   "execution_count": 24,
   "metadata": {
    "scrolled": true
   },
   "outputs": [],
   "source": [
    "import helper_functions"
   ]
  },
  {
   "cell_type": "markdown",
   "metadata": {},
   "source": [
    "In order to use one of the functions from your module, you'll have to tell python that it should look within the module you imported:"
   ]
  },
  {
   "cell_type": "code",
   "execution_count": 25,
   "metadata": {
    "scrolled": true
   },
   "outputs": [
    {
     "name": "stdout",
     "output_type": "stream",
     "text": [
      "Hello, greta!\n"
     ]
    }
   ],
   "source": [
    "helper_functions.greet('greta')"
   ]
  },
  {
   "cell_type": "markdown",
   "metadata": {},
   "source": [
    "If you intend to use that function a lot, you might want to rename it within your current script:"
   ]
  },
  {
   "cell_type": "code",
   "execution_count": 26,
   "metadata": {},
   "outputs": [
    {
     "name": "stdout",
     "output_type": "stream",
     "text": [
      "Hello, jeroen!\n"
     ]
    }
   ],
   "source": [
    "g = helper_functions.greet\n",
    "g('jeroen')"
   ]
  },
  {
   "cell_type": "markdown",
   "metadata": {},
   "source": [
    "There are several ways of importing modules into a script or session. For example, you can choose to import only specific functions: In that case, you won't have to specify the module name each time."
   ]
  },
  {
   "cell_type": "code",
   "execution_count": 27,
   "metadata": {},
   "outputs": [
    {
     "name": "stdout",
     "output_type": "stream",
     "text": [
      "Hello, creepy vampire doggo!\n"
     ]
    }
   ],
   "source": [
    "from helper_functions import greet\n",
    "greet('creepy vampire doggo')"
   ]
  },
  {
   "cell_type": "markdown",
   "metadata": {},
   "source": [
    "You could also import __all__ the functions within a given module, like this:"
   ]
  },
  {
   "cell_type": "code",
   "execution_count": 28,
   "metadata": {},
   "outputs": [],
   "source": [
    "from helper_functions import *"
   ]
  },
  {
   "cell_type": "markdown",
   "metadata": {},
   "source": [
    "...or you could choose to assign a different name to the module as you import it. Some modules are weirdly named/tedious to type out every time, so it is pretty much convention to rename them as you import them (for example, numpy is generally imported as np)."
   ]
  },
  {
   "cell_type": "code",
   "execution_count": 29,
   "metadata": {},
   "outputs": [
    {
     "name": "stdout",
     "output_type": "stream",
     "text": [
      "Hello, stranger!\n"
     ]
    }
   ],
   "source": [
    "import helper_functions as hf\n",
    "hf.greet()"
   ]
  },
  {
   "cell_type": "markdown",
   "metadata": {},
   "source": [
    "This also works together with \"from\" statements:"
   ]
  },
  {
   "cell_type": "code",
   "execution_count": 30,
   "metadata": {},
   "outputs": [
    {
     "name": "stdout",
     "output_type": "stream",
     "text": [
      "Hello, stranger!\n"
     ]
    }
   ],
   "source": [
    "from helper_functions import greet as g\n",
    "g()"
   ]
  },
  {
   "cell_type": "markdown",
   "metadata": {},
   "source": [
    "## 3.3 The OS module - Manipulating files and directories\n",
    "\n",
    "One of the most useful modules out there is os. It provides a whole lot of functions and methods to manipulate files and directories, and it allows you to interface with your underlying operating system. \n",
    "\n",
    "For example, you can use os to query python for your current working directory (the folder you're currently in):"
   ]
  },
  {
   "cell_type": "code",
   "execution_count": 31,
   "metadata": {},
   "outputs": [
    {
     "data": {
      "text/plain": [
       "'/Users/KsenijaSlivac/mpi-python-intro/Session3'"
      ]
     },
     "execution_count": 31,
     "metadata": {},
     "output_type": "execute_result"
    }
   ],
   "source": [
    "import os\n",
    "os.getcwd()"
   ]
  },
  {
   "cell_type": "markdown",
   "metadata": {},
   "source": [
    "You can also use it to change your working directory:"
   ]
  },
  {
   "cell_type": "code",
   "execution_count": 32,
   "metadata": {},
   "outputs": [
    {
     "data": {
      "text/plain": [
       "'/Users/KsenijaSlivac'"
      ]
     },
     "execution_count": 32,
     "metadata": {},
     "output_type": "execute_result"
    }
   ],
   "source": [
    "os.chdir(r\"../..\") # .. means 'move up' - ../.. means 'move up two levels in the hierarchy'\n",
    "os.getcwd()"
   ]
  },
  {
   "cell_type": "code",
   "execution_count": 33,
   "metadata": {},
   "outputs": [
    {
     "data": {
      "text/plain": [
       "'/Users/KsenijaSlivac/mpi-python-intro/Session3'"
      ]
     },
     "execution_count": 33,
     "metadata": {},
     "output_type": "execute_result"
    }
   ],
   "source": [
    "os.chdir(r\"mpi-python-intro/Session3/\")\n",
    "os.getcwd()"
   ]
  },
  {
   "cell_type": "markdown",
   "metadata": {},
   "source": [
    "You can use os to create new directories for you:"
   ]
  },
  {
   "cell_type": "code",
   "execution_count": 34,
   "metadata": {},
   "outputs": [],
   "source": [
    "os.mkdir('test') # this will make a new directory called \"test\" in your current working directory"
   ]
  },
  {
   "cell_type": "markdown",
   "metadata": {},
   "source": [
    "If you want to delete a folder, you can do so like this:"
   ]
  },
  {
   "cell_type": "code",
   "execution_count": 35,
   "metadata": {},
   "outputs": [],
   "source": [
    "os.rmdir('test') # this will give you a warning in case the folder isn't empty "
   ]
  },
  {
   "cell_type": "markdown",
   "metadata": {},
   "source": [
    "The os.path submodule also has a lot of useful functions. For example, the path.join function will forever help to solve my confusion about forward and backslashes in Windows and Linux:"
   ]
  },
  {
   "cell_type": "code",
   "execution_count": 36,
   "metadata": {},
   "outputs": [
    {
     "data": {
      "text/plain": [
       "'/Users/KsenijaSlivac/mpi-python-intro/Session3/my_filename.py'"
      ]
     },
     "execution_count": 36,
     "metadata": {},
     "output_type": "execute_result"
    }
   ],
   "source": [
    "new_path = os.path.join(os.getcwd(), 'my_filename.py')\n",
    "new_path"
   ]
  },
  {
   "cell_type": "markdown",
   "metadata": {},
   "source": [
    "The os.listdir function returns a list of all the files in a current directory:"
   ]
  },
  {
   "cell_type": "code",
   "execution_count": 37,
   "metadata": {},
   "outputs": [
    {
     "data": {
      "text/plain": [
       "['ADVENTURE  II-  THE RED-HEADED LEAGUE.txt',\n",
       " 'PREAMBLE.txt',\n",
       " 'helper_functions.py',\n",
       " 'ADVENTURE  V-  THE FIVE ORANGE PIPS.txt',\n",
       " 'sherlock_holmes.txt',\n",
       " 'ADVENTURE  VI-  THE MAN WITH THE TWISTED LIP.txt',\n",
       " '__pycache__',\n",
       " 'Session3.ipynb',\n",
       " 'ADVENTURE IV- THE BOSCOMBE VALLEY MYSTERY.txt',\n",
       " '.ipynb_checkpoints',\n",
       " 'ADVENTURE  III-  A CASE OF IDENTITY.txt',\n",
       " 'ADVENTURE  I-  A SCANDAL IN BOHEMIA.txt']"
      ]
     },
     "execution_count": 37,
     "metadata": {},
     "output_type": "execute_result"
    }
   ],
   "source": [
    "os.listdir(os.getcwd())"
   ]
  },
  {
   "cell_type": "markdown",
   "metadata": {},
   "source": [
    "This can be incredibly useful, for example when you want to loop over all the files in a directory and perform a certain action:"
   ]
  },
  {
   "cell_type": "code",
   "execution_count": 38,
   "metadata": {},
   "outputs": [
    {
     "name": "stdout",
     "output_type": "stream",
     "text": [
      "/Users/KsenijaSlivac/mpi-python-intro/Session3/ADVENTURE  II-  THE RED-HEADED LEAGUE.txt\n",
      "/Users/KsenijaSlivac/mpi-python-intro/Session3/PREAMBLE.txt\n",
      "/Users/KsenijaSlivac/mpi-python-intro/Session3/helper_functions.py\n",
      "/Users/KsenijaSlivac/mpi-python-intro/Session3/ADVENTURE  V-  THE FIVE ORANGE PIPS.txt\n",
      "/Users/KsenijaSlivac/mpi-python-intro/Session3/sherlock_holmes.txt\n",
      "/Users/KsenijaSlivac/mpi-python-intro/Session3/ADVENTURE  VI-  THE MAN WITH THE TWISTED LIP.txt\n",
      "/Users/KsenijaSlivac/mpi-python-intro/Session3/__pycache__\n",
      "/Users/KsenijaSlivac/mpi-python-intro/Session3/Session3.ipynb\n",
      "/Users/KsenijaSlivac/mpi-python-intro/Session3/ADVENTURE IV- THE BOSCOMBE VALLEY MYSTERY.txt\n",
      "/Users/KsenijaSlivac/mpi-python-intro/Session3/.ipynb_checkpoints\n",
      "/Users/KsenijaSlivac/mpi-python-intro/Session3/ADVENTURE  III-  A CASE OF IDENTITY.txt\n",
      "/Users/KsenijaSlivac/mpi-python-intro/Session3/ADVENTURE  I-  A SCANDAL IN BOHEMIA.txt\n"
     ]
    }
   ],
   "source": [
    "for filename in os.listdir(os.getcwd()):\n",
    "    absolute_path = os.path.join(os.getcwd(), filename)\n",
    "    print(absolute_path) # usually you'll do something more useful than this :)"
   ]
  },
  {
   "cell_type": "markdown",
   "metadata": {},
   "source": [
    "...and there's a lot more to discover, so feel free to read in the documentation if you like. :)\n",
    "\n",
    "## 4.0 DIY TIME! :)\n",
    "\n",
    "Remeber your fibonacci loop from last session? Turn that into a function that takes as its argument the highest number in the sequence you'd like to go to. (So, for example, fibonacci(15) would return [0,1,1,2,3,5,8,13]). "
   ]
  },
  {
   "cell_type": "code",
   "execution_count": null,
   "metadata": {
    "collapsed": true
   },
   "outputs": [],
   "source": []
  },
  {
   "cell_type": "markdown",
   "metadata": {},
   "source": [
    "Save your function inside a module called \"session3\"."
   ]
  },
  {
   "cell_type": "markdown",
   "metadata": {},
   "source": [
    "Write another function that takes a list as its input and returns as its output another list with all the items from the original list, minus any duplicates. (E.g., input_list = [1,2,3,4,5,5,6,7,8,8,9], output_list = [1,2,3,4,5,6,7,8,9].)\n",
    "\n",
    "As always, there are several ways of going about this. If you're up for it, try thinking of two different ways that you could write this function (perhaps one using a list comprehension and one using a loop, or something different all together - this can even be done in a single line). "
   ]
  },
  {
   "cell_type": "code",
   "execution_count": null,
   "metadata": {},
   "outputs": [],
   "source": []
  },
  {
   "cell_type": "markdown",
   "metadata": {},
   "source": [
    "Save this function into the same \"session3\" module, together with your fibonacci function.\n",
    "\n",
    "Now try different ways of importing and using your two new functions from your session3 module."
   ]
  },
  {
   "cell_type": "code",
   "execution_count": null,
   "metadata": {
    "collapsed": true
   },
   "outputs": [],
   "source": []
  },
  {
   "cell_type": "code",
   "execution_count": null,
   "metadata": {
    "collapsed": true
   },
   "outputs": [],
   "source": []
  },
  {
   "cell_type": "code",
   "execution_count": null,
   "metadata": {
    "collapsed": true
   },
   "outputs": [],
   "source": []
  },
  {
   "cell_type": "code",
   "execution_count": null,
   "metadata": {
    "collapsed": true
   },
   "outputs": [],
   "source": []
  },
  {
   "cell_type": "markdown",
   "metadata": {},
   "source": [
    "Open the sherlock text again. Make a new directory within your Session3 folder (using os), and in that directory, make ten new files. To each of them, write one line from the original sherlock text, and name them \"line1.txt\", \"line2.txt\", and so on."
   ]
  },
  {
   "cell_type": "code",
   "execution_count": null,
   "metadata": {
    "collapsed": true
   },
   "outputs": [],
   "source": []
  },
  {
   "cell_type": "markdown",
   "metadata": {},
   "source": [
    "Loop through your new folder and check whether any of the lineX.txt files are empty. If yes, then delete the empty file from the directory."
   ]
  },
  {
   "cell_type": "code",
   "execution_count": null,
   "metadata": {
    "collapsed": true
   },
   "outputs": [],
   "source": []
  },
  {
   "cell_type": "markdown",
   "metadata": {},
   "source": [
    "Write a function that takes the Sherlock text as its input and returns the most frequent word in the text.  \n",
    "\n",
    "__HINT__: You will probably want to use some of the built-in string methods - for example, there is a built-in method to split a given string on whitespaces, and another one to remove non-alphanumeric characters from a string. Stack overflow will help you find those.\n",
    "\n",
    "And another __HINT__: It might make sense to \"practice\" this on a smaller text, rather than the entire Sherlock Holmes book at once. That way, it's easier for you to debug your function as you're writing it. Once you know it works on a short text, you can run it on the entire Sherlock text."
   ]
  },
  {
   "cell_type": "code",
   "execution_count": null,
   "metadata": {
    "collapsed": true
   },
   "outputs": [],
   "source": []
  }
 ],
 "metadata": {
  "anaconda-cloud": {},
  "kernelspec": {
   "display_name": "Python 3",
   "language": "python",
   "name": "python3"
  },
  "language_info": {
   "codemirror_mode": {
    "name": "ipython",
    "version": 3
   },
   "file_extension": ".py",
   "mimetype": "text/x-python",
   "name": "python",
   "nbconvert_exporter": "python",
   "pygments_lexer": "ipython3",
   "version": "3.6.5"
  }
 },
 "nbformat": 4,
 "nbformat_minor": 2
}
